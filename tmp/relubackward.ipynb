{
 "cells": [
  {
   "cell_type": "code",
   "execution_count": 22,
   "metadata": {},
   "outputs": [],
   "source": [
    "using Revise"
   ]
  },
  {
   "cell_type": "code",
   "execution_count": 23,
   "metadata": {},
   "outputs": [],
   "source": [
    "using Flux"
   ]
  },
  {
   "cell_type": "code",
   "execution_count": 24,
   "metadata": {},
   "outputs": [],
   "source": [
    "using PaddedViews"
   ]
  },
  {
   "cell_type": "code",
   "execution_count": 25,
   "metadata": {},
   "outputs": [
    {
     "name": "stderr",
     "output_type": "stream",
     "text": [
      "\u001b[91m\u001b[1mERROR: \u001b[22m\u001b[39mLoadError: "
     ]
    },
    {
     "name": "stderr",
     "output_type": "stream",
     "text": [
      "syntax: optional positional arguments must occur at end around /home/verification/ModelVerification.jl/src/propagate/bound.jl:123\n",
      "Stacktrace:\n",
      " [1] top-level scope\n",
      "\u001b[90m   @ \u001b[39m\u001b[90m~/ModelVerification.jl/src/propagate/\u001b[39m\u001b[90m\u001b[4mbound.jl:123\u001b[24m\u001b[39m\n",
      " [2] \u001b[0m\u001b[1minclude\u001b[22m\u001b[0m\u001b[1m(\u001b[22m\u001b[90mmod\u001b[39m::\u001b[0mModule, \u001b[90m_path\u001b[39m::\u001b[0mString\u001b[0m\u001b[1m)\u001b[22m\n",
      "\u001b[90m   @ \u001b[39m\u001b[90mBase\u001b[39m \u001b[90m./\u001b[39m\u001b[90m\u001b[4mBase.jl:419\u001b[24m\u001b[39m\n",
      " [3] \u001b[0m\u001b[1minclude\u001b[22m\u001b[0m\u001b[1m(\u001b[22m\u001b[90mx\u001b[39m::\u001b[0mString\u001b[0m\u001b[1m)\u001b[22m\n",
      "\u001b[90m   @ \u001b[39m\u001b[35mModelVerification\u001b[39m \u001b[90m~/ModelVerification.jl/src/\u001b[39m\u001b[90m\u001b[4mModelVerification.jl:1\u001b[24m\u001b[39m\n",
      " [4] top-level scope\n",
      "\u001b[90m   @ \u001b[39m\u001b[90m~/ModelVerification.jl/src/\u001b[39m\u001b[90m\u001b[4mModelVerification.jl:76\u001b[24m\u001b[39m\n",
      " [5] \u001b[0m\u001b[1minclude\u001b[22m\n",
      "\u001b[90m   @ \u001b[39m\u001b[90m./\u001b[39m\u001b[90m\u001b[4mBase.jl:419\u001b[24m\u001b[39m\u001b[90m [inlined]\u001b[39m\n",
      " [6] \u001b[0m\u001b[1minclude_package_for_output\u001b[22m\u001b[0m\u001b[1m(\u001b[22m\u001b[90mpkg\u001b[39m::\u001b[0mBase.PkgId, \u001b[90minput\u001b[39m::\u001b[0mString, \u001b[90mdepot_path\u001b[39m::"
     ]
    },
    {
     "name": "stderr",
     "output_type": "stream",
     "text": [
      "\u001b[0mVector\u001b[90m{String}\u001b[39m, \u001b[90mdl_load_path\u001b[39m::\u001b[0mVector\u001b[90m{String}\u001b[39m, \u001b[90mload_path\u001b[39m::\u001b[0mVector\u001b[90m{String}\u001b[39m, \u001b[90mconcrete_deps\u001b[39m::\u001b[0mVector\u001b[90m{Pair{Base.PkgId, UInt64}}\u001b[39m, \u001b[90msource\u001b[39m::\u001b[0mString\u001b[0m\u001b[1m)\u001b[22m\n",
      "\u001b[90m   @ \u001b[39m\u001b[90mBase\u001b[39m \u001b[90m./\u001b[39m\u001b[90m\u001b[4mloading.jl:1554\u001b[24m\u001b[39m\n",
      " [7] top-level scope\n",
      "\u001b[90m   @ \u001b[39m\u001b[90m\u001b[4mstdin:1\u001b[24m\u001b[39m\n",
      "in expression starting at /home/verification/ModelVerification.jl/src/propagate/bound.jl:123\n",
      "in expression starting at /home/verification/ModelVerification.jl/src/ModelVerification.jl:1\n",
      "in expression starting at stdin:1\n"
     ]
    },
    {
     "ename": "ErrorException",
     "evalue": "Failed to precompile ModelVerification [6d061d49-e389-4b69-b84f-d5b218a5bedb] to /home/verification/.julia/compiled/v1.8/ModelVerification/jl_7gJnA0.",
     "output_type": "error",
     "traceback": [
      "Failed to precompile ModelVerification [6d061d49-e389-4b69-b84f-d5b218a5bedb] to /home/verification/.julia/compiled/v1.8/ModelVerification/jl_7gJnA0.\n",
      "\n",
      "Stacktrace:\n",
      "  [1] error(s::String)\n",
      "    @ Base ./error.jl:35\n",
      "  [2] compilecache(pkg::Base.PkgId, path::String, internal_stderr::IO, internal_stdout::IO, keep_loaded_modules::Bool)\n",
      "    @ Base ./loading.jl:1707\n",
      "  [3] compilecache\n",
      "    @ ./loading.jl:1651 [inlined]\n",
      "  [4] _require(pkg::Base.PkgId)\n",
      "    @ Base ./loading.jl:1337\n",
      "  [5] _require_prelocked(uuidkey::Base.PkgId)\n",
      "    @ Base ./loading.jl:1200\n",
      "  [6] macro expansion\n",
      "    @ ./loading.jl:1180 [inlined]\n",
      "  [7] macro expansion\n",
      "    @ ./lock.jl:223 [inlined]\n",
      "  [8] require(into::Module, mod::Symbol)\n",
      "    @ Base ./loading.jl:1144\n",
      "  [9] eval\n",
      "    @ ./boot.jl:368 [inlined]\n",
      " [10] include_string(mapexpr::typeof(REPL.softscope), mod::Module, code::String, filename::String)\n",
      "    @ Base ./loading.jl:1428\n",
      " [11] #invokelatest#2\n",
      "    @ ./essentials.jl:729 [inlined]\n",
      " [12] invokelatest\n",
      "    @ ./essentials.jl:726 [inlined]\n",
      " [13] (::VSCodeServer.var\"#198#199\"{VSCodeServer.NotebookRunCellArguments, String})()\n",
      "    @ VSCodeServer ~/.vscode-server/extensions/julialang.language-julia-1.47.2/scripts/packages/VSCodeServer/src/serve_notebook.jl:19\n",
      " [14] withpath(f::VSCodeServer.var\"#198#199\"{VSCodeServer.NotebookRunCellArguments, String}, path::String)\n",
      "    @ VSCodeServer ~/.vscode-server/extensions/julialang.language-julia-1.47.2/scripts/packages/VSCodeServer/src/repl.jl:249\n",
      " [15] notebook_runcell_request(conn::VSCodeServer.JSONRPC.JSONRPCEndpoint{Base.PipeEndpoint, Base.PipeEndpoint}, params::VSCodeServer.NotebookRunCellArguments)\n",
      "    @ VSCodeServer ~/.vscode-server/extensions/julialang.language-julia-1.47.2/scripts/packages/VSCodeServer/src/serve_notebook.jl:13\n",
      " [16] dispatch_msg(x::VSCodeServer.JSONRPC.JSONRPCEndpoint{Base.PipeEndpoint, Base.PipeEndpoint}, dispatcher::VSCodeServer.JSONRPC.MsgDispatcher, msg::Dict{String, Any})\n",
      "    @ VSCodeServer.JSONRPC ~/.vscode-server/extensions/julialang.language-julia-1.47.2/scripts/packages/JSONRPC/src/typed.jl:67\n",
      " [17] serve_notebook(pipename::String, outputchannel_logger::Base.CoreLogging.SimpleLogger; crashreporting_pipename::String)\n",
      "    @ VSCodeServer ~/.vscode-server/extensions/julialang.language-julia-1.47.2/scripts/packages/VSCodeServer/src/serve_notebook.jl:139\n",
      " [18] top-level scope\n",
      "    @ ~/.vscode-server/extensions/julialang.language-julia-1.47.2/scripts/notebook/notebook.jl:32"
     ]
    }
   ],
   "source": [
    "using ModelVerification"
   ]
  },
  {
   "cell_type": "code",
   "execution_count": 138,
   "metadata": {},
   "outputs": [
    {
     "data": {
      "text/plain": [
       "clamp_mutiply_forward (generic function with 1 method)"
      ]
     },
     "metadata": {},
     "output_type": "display_data"
    }
   ],
   "source": [
    "include(\"/home/verification/ModelVerification.jl/src/propagate/operators/relu.jl\")"
   ]
  },
  {
   "cell_type": "code",
   "execution_count": 26,
   "metadata": {},
   "outputs": [],
   "source": [
    "using DataStructures"
   ]
  },
  {
   "cell_type": "code",
   "execution_count": 37,
   "metadata": {},
   "outputs": [
    {
     "name": "stdout",
     "output_type": "stream",
     "text": [
      "Point22(1, "
     ]
    },
    {
     "name": "stdout",
     "output_type": "stream",
     "text": [
      "Point11(1, 1))"
     ]
    }
   ],
   "source": [
    "mutable struct Point11\n",
    "    x::Any\n",
    "    y::Any\n",
    "end\n",
    "\n",
    "mutable struct Point22\n",
    "    x::Any\n",
    "    y::Any\n",
    "end\n",
    "point1 = Point11(1, 1)\n",
    "point2 = Point22(1, point1)\n",
    "#println(isa(point, Point2))\n",
    "#println(hasproperty(point, :z))\n",
    "print(point2)"
   ]
  },
  {
   "cell_type": "code",
   "execution_count": 42,
   "metadata": {},
   "outputs": [
    {
     "name": "stdout",
     "output_type": "stream",
     "text": [
      "(10, 2)(10, 2)\n"
     ]
    },
    {
     "name": "stdout",
     "output_type": "stream",
     "text": [
      "[3, 6]\n",
      "2\n",
      "(2, 2)\n",
      "[-0.40094517444884403 -0.40094517444884403; -0.7716236020765581 -0.7716236020765581]\n",
      "[3, 6]\n",
      "[0.49312389090025976 0.49312389090025976; 0.09825663001848017 0.09825663001848017; -0.40094517444884403 -0.40094517444884403; 0.8095592689812292 0.8095592689812292; 0.9893523555205977 0.9893523555205977; -0.7716236020765581 -0.7716236020765581; 0.019392672428339752 0.019392672428339752; 0.13121084706409958 0.13121084706409958; 0.38606152745442235 0.38606152745442235; 0.07718910590527583 0.07718910590527583]\n"
     ]
    }
   ],
   "source": [
    "lower = [0.49312389090025976; 0.09825663001848017; -0.40094517444884403; 0.8095592689812292; 0.9893523555205977; -0.7716236020765581; 0.019392672428339752; 0.13121084706409958; 0.38606152745442235; 0.07718910590527583;;]\n",
    "upper = [0.02946098802676078; 0.4833830196107479; 0.7128118272816261; 0.6835911366656402; 0.5552037301701159; 0.20519794755846943; 0.27861742472149886; 0.2038719311470346; 0.2337490383211912; 0.17503107137803808;;]\n",
    "lower = repeat(lower, 1, 2)\n",
    "upper = repeat(upper, 1, 2) \n",
    "#= lower = reshape(lower, (size(lower)...,1))\n",
    "upper = reshape(upper, (size(upper)...,1))\n",
    "lower = repeat(lower, 1, 1, 2)\n",
    "upper = repeat(upper, 1, 1, 2)  =#\n",
    "batch_size = 1\n",
    "print(size(lower))\n",
    "println(size(upper))\n",
    "alpha_indices = (upper .> 0) .& (lower .< 0)\n",
    "any_result = dropdims(any(alpha_indices, dims = ndims(alpha_indices)), dims = ndims(alpha_indices))\n",
    "result = findall(any_result)\n",
    "\n",
    "total_neuron_size = length(lower) ÷ batch_size\n",
    "x = length(result)#size(result[end], ndims(alpha_indices))\n",
    "alpha_shape = [x]\n",
    "alpha_init = lower[result, :]\n",
    "println(result)\n",
    "println(x)\n",
    "println(size(alpha_init))\n",
    "println(alpha_init)\n",
    "println(result)\n",
    "println(lower)\n",
    "#println(result)\n",
    "#println(size(result))"
   ]
  },
  {
   "cell_type": "code",
   "execution_count": 137,
   "metadata": {},
   "outputs": [
    {
     "name": "stdout",
     "output_type": "stream",
     "text": [
      "[0.49312389090025976 0.49312389090025976; 0.09825663001848017 0.09825663001848017; -0.40094517444884403 -0.40094517444884403; 0.8095592689812292 0.8095592689812292; 0.9893523555205977 0.9893523555205977; -0.7716236020765581 -0.7716236020765581; 0.019392672428339752 0.019392672428339752; 0.13121084706409958 0.13121084706409958; 0.38606152745442235 0.38606152745442235; 0.07718910590527583 0.07718910590527583;;;](10, 1, 1)\n"
     ]
    },
    {
     "name": "stdout",
     "output_type": "stream",
     "text": [
      "[0.029055834091044487 0.029055834091044487; 0.094991173030218 0.094991173030218; -0.5715969248772617 -0.5715969248772617; 1.1068150817621665 1.1068150817621665; 1.0985842364752532 1.0985842364752532; -0.3166711588675657 -0.3166711588675657; 0.010806272900903274 0.010806272900903274; 0.0535004175567924 0.0535004175567924; 0.18048302155056276 0.18048302155056276; 0.02702098381062655 0.02702098381062655;;;]\n",
      "(10, 2, 1)\n",
      "[0.8564944687163699; 0.8564944687163699;;]\n",
      "(2, 1)\n"
     ]
    }
   ],
   "source": [
    "lower = [0.49312389090025976; 0.09825663001848017; -0.40094517444884403; 0.8095592689812292; 0.9893523555205977; -0.7716236020765581; 0.019392672428339752; 0.13121084706409958; 0.38606152745442235; 0.07718910590527583;;]\n",
    "lower = repeat(lower, 1, 2)\n",
    "lower = reshape(lower, (size(lower)...,1))\n",
    "upper = [0.02946098802676078; 0.4833830196107479; 0.7128118272816261; 0.6835911366656402; 0.5552037301701159; 0.20519794755846943; 0.27861742472149886; 0.2038719311470346; 0.2337490383211912; 0.17503107137803808;;]\n",
    "upper = reshape(upper, (size(upper)...,1))\n",
    "#= h = max(size(lower)[end-1], size(upper)[end-1])\n",
    "s = max(size(lower)[end], size(upper)[end])\n",
    "shape_lower = collect(size(lower))\n",
    "shape_upper = collect(size(upper))\n",
    "\n",
    "shape_lower[end] = s \n",
    "shape_lower[end-1] = h \n",
    "shape_upper[end] = s \n",
    "shape_upper[end-1] = h \n",
    "\n",
    "lower_repeat_times = shape_lower .÷ collect(size(lower))\n",
    "upper_repeat_times = shape_upper .÷ collect(size(upper))\n",
    "\n",
    "bias_pos = zeros(h, s)\n",
    "lower = repeat(lower, outer = lower_repeat_times) #broadcast_mid_dim(lower, zeros(Tuple(shape_lower)))\n",
    "upper = repeat(upper, outer = upper_repeat_times)\n",
    "for i in 1:s\n",
    "    for j in 1:h\n",
    "        bias_pos[j, i] = sum(lower[:, j, i] .* upper[:, j, i])\n",
    "    end\n",
    "end =#\n",
    "print(lower)\n",
    "println(size(upper))\n",
    "A, bias = multiply_by_A_signs(upper, lower, lower, lower, nothing)\n",
    "println(A)\n",
    "println(size(A))\n",
    "println(bias)\n",
    "println(size(bias))"
   ]
  }
 ],
 "metadata": {
  "kernelspec": {
   "display_name": "Julia 1.8.5",
   "language": "julia",
   "name": "julia-1.8"
  },
  "language_info": {
   "file_extension": ".jl",
   "mimetype": "application/julia",
   "name": "julia",
   "version": "1.8.5"
  },
  "orig_nbformat": 4
 },
 "nbformat": 4,
 "nbformat_minor": 2
}
