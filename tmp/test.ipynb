{
 "cells": [
  {
   "cell_type": "code",
   "execution_count": 34,
   "metadata": {},
   "outputs": [
    {
     "name": "stdout",
     "output_type": "stream",
     "text": [
      "8.3e-8\n",
      "11111111\n",
      "0"
     ]
    }
   ],
   "source": [
    "function my_function()\n",
    "    # 在函数中执行一些操作\n",
    "    x = 0\n",
    "    for i in 1:100000000\n",
    "        x = i^2\n",
    "    end\n",
    "    return x\n",
    "end\n",
    "\n",
    "# 设置最大时间为10秒\n",
    "max_time = 1e-9\n",
    "\n",
    "function verify_an_instance()\n",
    "    # 使用一个循环来检查时间是否超过最大时间\n",
    "    while true\n",
    "        # 执行代码\n",
    "        res = @timed my_function()\n",
    "        \n",
    "        # 获取实际执行时间\n",
    "        actual_time = res.time\n",
    "\n",
    "        if(actual_time >= max_time)\n",
    "            print(actual_time)\n",
    "            print(\"\\n\")\n",
    "            print(11111111)\n",
    "            print(\"\\n\")\n",
    "            return 0\n",
    "        end \n",
    "        # 如果实际执行时间超过最大时间，就强制停止代码的执行\n",
    "        #= if actual_time < max_time\n",
    "            print(actual_time)\n",
    "            print(\"\\n\") \n",
    "            return res.value\n",
    "        end =#\n",
    "    end\n",
    "end\n",
    "\n",
    "result = @timed verify_an_instance()\n",
    "print(result.value)\n",
    "#= print(\"\\n\")\n",
    "print(elapsed_time) =#"
   ]
  }
 ],
 "metadata": {
  "kernelspec": {
   "display_name": "Julia 1.8.5",
   "language": "julia",
   "name": "julia-1.8"
  },
  "language_info": {
   "file_extension": ".jl",
   "mimetype": "application/julia",
   "name": "julia",
   "version": "1.8.5"
  },
  "orig_nbformat": 4
 },
 "nbformat": 4,
 "nbformat_minor": 2
}
