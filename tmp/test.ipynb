{
 "cells": [
  {
   "cell_type": "code",
   "execution_count": 1,
   "metadata": {},
   "outputs": [],
   "source": [
    "using Revise"
   ]
  },
  {
   "cell_type": "code",
   "execution_count": 2,
   "metadata": {},
   "outputs": [],
   "source": [
    "using LazySets\n",
    "using ModelVerification\n",
    "using PyCall\n",
    "using CSV\n",
    "using ONNX\n",
    "using Flux\n",
    "using Test\n",
    "using DataFrames"
   ]
  },
  {
   "cell_type": "code",
   "execution_count": 3,
   "metadata": {},
   "outputs": [],
   "source": [
    "using Flux: onehotbatch, onecold, flatten\n",
    "using Flux.Losses: logitcrossentropy\n",
    "using Statistics: mean\n",
    "using CUDA\n",
    "using MLDatasets: CIFAR10\n",
    "using MLUtils: splitobs, DataLoader\n",
    "using Accessors"
   ]
  },
  {
   "cell_type": "code",
   "execution_count": 4,
   "metadata": {},
   "outputs": [
    {
     "name": "stdout",
     "output_type": "stream",
     "text": [
      "\u001b[91m\u001b[1mTest Failed\u001b[22m\u001b[39m at "
     ]
    },
    {
     "name": "stdout",
     "output_type": "stream",
     "text": [
      "\u001b[39m\u001b[1m/home/tianhao/dev/ModelVerification.jl/tmp/test.ipynb:17\u001b[22m\n",
      "  Expression: (verify(search_method, split_method, prop_method, Problem(flux_model, in_hyper, out_holds))).status == :holds\n",
      "   Evaluated: unknown == holds\n"
     ]
    },
    {
     "ename": "Test.FallbackTestSetException",
     "evalue": "Test.FallbackTestSetException(\"There was an error during testing\")",
     "output_type": "error",
     "traceback": [
      "Test.FallbackTestSetException(\"There was an error during testing\")\n",
      "\n",
      "Stacktrace:\n",
      " [1] record(ts::Test.FallbackTestSet, t::Union{Test.Error, Test.Fail})\n",
      "   @ Test ~/julia-1.8.5/share/julia/stdlib/v1.8/Test/src/Test.jl:946\n",
      " [2] do_test(result::Test.ExecutionResult, orig_expr::Any)\n",
      "   @ Test ~/julia-1.8.5/share/julia/stdlib/v1.8/Test/src/Test.jl:656\n",
      " [3] macro expansion\n",
      "   @ ~/julia-1.8.5/share/julia/stdlib/v1.8/Test/src/Test.jl:464 [inlined]\n",
      " [4] test_mlp(prop_method::Crown)\n",
      "   @ Main ~/dev/ModelVerification.jl/tmp/test.ipynb:17\n",
      " [5] top-level scope\n",
      "   @ ~/dev/ModelVerification.jl/tmp/test.ipynb:22"
     ]
    }
   ],
   "source": [
    "function test_mlp(prop_method)\n",
    "    small_nnet_file = \"../test/networks/small_nnet.nnet\"\n",
    "    # small_nnet encodes the simple function 24*max(x + 1.5, 0) + 18.5\n",
    "    small_nnet = read_nnet(small_nnet_file, last_layer_activation = ModelVerification.ReLU())\n",
    "    flux_model = Flux.Chain(small_nnet)\n",
    "    # println(flux_model.layers[1].weight, \" \", flux_model.layers[1].bias) # max(x+1.5, 0) max(x+1.5, 0)              [0,4]\n",
    "    # println(flux_model.layers[2].weight, \" \", flux_model.layers[2].bias) # 4*max(x+1.5, 0)+2.5 4*max(x+1.5, 0)+2.5  [2.5, 18.5]\n",
    "    # println(flux_model.layers[3].weight, \" \", flux_model.layers[3].bias) # 24*max(x+1.5, 0)+18.5                    [18.5, 114.5]\n",
    "    in_hyper  = Hyperrectangle(low = [-2.5], high = [2.5]) # expected out: [18.5, 114.5]\n",
    "    out_violated    = Hyperrectangle(low = [19], high = [114]) # 20.0 ≤ y ≤ 90.0\n",
    "    out_holds = Hyperrectangle(low = [18], high = [115.0]) # -1.0 ≤ y ≤ 50.0\n",
    "    comp_violated    = Complement(Hyperrectangle(low = [10], high = [19])) # y ≤ 10.0 or 19 ≤ y\n",
    "    comp_holds    = Complement(Hyperrectangle(low = [115], high = [118])) # y ≤ 10.0 or 18 ≤ y\n",
    "    info = nothing\n",
    "    search_method = BFS(max_iter=1000, batch_size=13)\n",
    "    split_method = Bisect(1)\n",
    "    @test verify(search_method, split_method, prop_method, Problem(flux_model, in_hyper, out_holds)).status == :holds\n",
    "    @test verify(search_method, split_method, prop_method, Problem(flux_model, in_hyper, out_violated)).status == :violated\n",
    "    @test verify(search_method, split_method, prop_method, Problem(flux_model, in_hyper, comp_holds)).status == :holds\n",
    "    @test verify(search_method, split_method, prop_method, Problem(flux_model, in_hyper, comp_violated)).status == :violated\n",
    "end\n",
    "test_mlp(Crown())"
   ]
  },
  {
   "cell_type": "code",
   "execution_count": 13,
   "metadata": {},
   "outputs": [
    {
     "name": "stderr",
     "output_type": "stream",
     "text": [
      "┌ Error: Failed to revise /home/tianhao/dev/ModelVerification.jl/src/propagate/operators/relu.jl\n",
      "│   exception = (ErrorException(\"lowering returned an error, \\$(Expr(:error, \\\"{ } vector syntax is discontinued around /home/tianhao/dev/ModelVerification.jl/src/propagate/operators/relu.jl:65\\\"))\"), Union{Ptr{Nothing}, Base.InterpreterIP}[])\n",
      "└ @ Revise /home/tianhao/.julia/packages/Revise/P8ITN/src/packagedef.jl:717\n",
      "┌ Warning: The running code does not match the saved version for the following files:\n",
      "│ \n",
      "│   /home/tianhao/dev/ModelVerification.jl/src/propagate/operators/relu.jl\n",
      "│ \n",
      "│ If the error was due to evaluation order, it can sometimes be resolved by calling `Revise.retry()`.\n",
      "│ Use Revise.errors() to report errors again. Only the first error in each file is shown.\n",
      "│ Your prompt color may be yellow until the errors are resolved.\n",
      "└ @ Revise /home/tianhao/.julia/packages/Revise/P8ITN/src/packagedef.jl:825\n"
     ]
    },
    {
     "name": "stdout",
     "output_type": "stream",
     "text": [
      "Float32\n"
     ]
    },
    {
     "name": "stdout",
     "output_type": "stream",
     "text": [
      "before size: (32, 32, 64, 4)\n",
      "after size: (32, 32, 64, 35249)\n"
     ]
    },
    {
     "name": "stdout",
     "output_type": "stream",
     "text": [
      "before size: (16, 16, 128, 4)\n",
      "after size: (16, 16, 128, 17403)\n"
     ]
    },
    {
     "ename": "MethodError",
     "evalue": "MethodError: no method matching forward_act(::ImageStarZono, ::typeof(relu), ::Vector{Zonotope{Float32, Vector{Float32}, Matrix{Float32}}}, ::Vector{Any})\nClosest candidates are:\n  forward_act(!Matched::Ai2h, ::typeof(relu), ::Vector{<:AbstractPolytope}, ::Any) at ~/dev/ModelVerification.jl/src/propagate/operators/relu.jl:60\n  forward_act(!Matched::Box, ::typeof(relu), ::Vector{<:AbstractPolytope}, ::Any) at ~/dev/ModelVerification.jl/src/propagate/operators/relu.jl:70\n  forward_act(::Any, ::typeof(relu), !Matched::ModelVerification.ImageZonoBound, ::Any) at ~/dev/ModelVerification.jl/src/propagate/operators/relu.jl:1\n  ...",
     "output_type": "error",
     "traceback": [
      "MethodError: no method matching forward_act(::ImageStarZono, ::typeof(relu), ::Vector{Zonotope{Float32, Vector{Float32}, Matrix{Float32}}}, ::Vector{Any})\n",
      "Closest candidates are:\n",
      "  forward_act(!Matched::Ai2h, ::typeof(relu), ::Vector{<:AbstractPolytope}, ::Any) at ~/dev/ModelVerification.jl/src/propagate/operators/relu.jl:60\n",
      "  forward_act(!Matched::Box, ::typeof(relu), ::Vector{<:AbstractPolytope}, ::Any) at ~/dev/ModelVerification.jl/src/propagate/operators/relu.jl:70\n",
      "  forward_act(::Any, ::typeof(relu), !Matched::ModelVerification.ImageZonoBound, ::Any) at ~/dev/ModelVerification.jl/src/propagate/operators/relu.jl:1\n",
      "  ...\n",
      "\n",
      "Stacktrace:\n",
      " [1] forward_layer(prop_method::ImageStarZono, layer::Dense{typeof(relu), Matrix{Float32}, Vector{Float32}}, batch_bound::Vector{Zonotope{Float32, Vector{Float32}, Matrix{Float32}}}, batch_info::Vector{Any})\n",
      "   @ ModelVerification ~/dev/ModelVerification.jl/src/propagate/propagate.jl:3\n",
      " [2] propagate(prop_method::ImageStarZono, model::Chain{Vector{Any}}, batch_bound::ModelVerification.ImageZonoBound{Float64}, batch_out_spec::Vector{Any}, batch_info::Vector{Any})\n",
      "   @ ModelVerification ~/dev/ModelVerification.jl/src/propagate/propagate.jl:22\n",
      " [3] search_branches(search_method::BFS, split_method::Bisect, prop_method::ImageStarZono, problem::Problem{Vector{Array{Float32, 3}}, BallInf{Float64, Vector{Float64}}})\n",
      "   @ ModelVerification ~/dev/ModelVerification.jl/src/branching/search.jl:24\n",
      " [4] verify(search_method::BFS, split_method::Bisect, prop_method::ImageStarZono, problem::Problem{Vector{Array{Float32, 3}}, BallInf{Float64, Vector{Float64}}})\n",
      "   @ ModelVerification ~/dev/ModelVerification.jl/src/ModelVerification.jl:104\n",
      " [5] top-level scope\n",
      "   @ ~/dev/ModelVerification.jl/tmp/test.ipynb:23"
     ]
    }
   ],
   "source": [
    "# function test_conv(prop_method)\n",
    "model = Chain([\n",
    "    Conv((3, 3), 3 => 64, relu, pad=(1, 1), stride=(1, 1)),\n",
    "    BatchNorm(64),\n",
    "    MeanPool((2,2)),\n",
    "    Conv((5, 5), 64 => 128, relu, pad=(2, 2), stride=(1, 1)),\n",
    "    BatchNorm(128),\n",
    "    MeanPool((2,2)),\n",
    "    flatten,\n",
    "    Dense(8192, 1024, relu),\n",
    "    Dense(1024, 10)\n",
    "])\n",
    "testmode!(model)\n",
    "# image_seeds = CIFAR10(:train)[1:5].features # 32 x 32 x 3 x 5\n",
    "image_seeds = [CIFAR10(:train)[i].features for i in 1:5]\n",
    "println(typeof(image_seeds[1][1,1,1,1]))\n",
    "# out1 = model.layers[1](image_seeds)\n",
    "# layer = model.layers[2]\n",
    "search_method = BFS(max_iter=1, batch_size=1)\n",
    "split_method = Bisect(1)\n",
    "prop_method = ImageStarZono()\n",
    "output_set = BallInf(zeros(10), 1.0)\n",
    "verify(search_method, split_method, prop_method, Problem(model, image_seeds, output_set))\n",
    "# test_mlp(ImageStarZono())"
   ]
  },
  {
   "cell_type": "code",
   "execution_count": 6,
   "metadata": {},
   "outputs": [],
   "source": []
  }
 ],
 "metadata": {
  "kernelspec": {
   "display_name": "Julia 1.8.5",
   "language": "julia",
   "name": "julia-1.8"
  },
  "language_info": {
   "file_extension": ".jl",
   "mimetype": "application/julia",
   "name": "julia",
   "version": "1.8.5"
  },
  "orig_nbformat": 4
 },
 "nbformat": 4,
 "nbformat_minor": 2
}
