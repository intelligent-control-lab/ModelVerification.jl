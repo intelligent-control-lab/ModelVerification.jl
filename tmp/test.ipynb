{
 "cells": [
  {
   "cell_type": "code",
   "execution_count": 1,
   "metadata": {},
   "outputs": [],
   "source": [
    "using Revise"
   ]
  },
  {
   "cell_type": "code",
   "execution_count": 2,
   "metadata": {},
   "outputs": [
    {
     "name": "stderr",
     "output_type": "stream",
     "text": [
      "┌ Warning: Error requiring `Flux` from `ModelVerification`\n",
      "│   exception = (ErrorException(\"cannot assign a value to variable Flux.Flux from module ModelVerification\"), Union{Ptr{Nothing}, Base.InterpreterIP}[Ptr{Nothing} @0x00007ffaed966692, Ptr{Nothing} @0x00007ffaed996e3f, Ptr{Nothing} @0x00007ffaed9bdc46, Ptr{Nothing} @0x00007ffaed99b77a, Ptr{Nothing} @0x00007ffaed99c411, Base.InterpreterIP in top-level CodeInfo for ModelVerification at statement 0, Ptr{Nothing} @0x00007ffaed9bcdca, Ptr{Nothing} @0x00007ffaed9bec2a, Ptr{Nothing} @0x00007ff85ff0eb3d, Ptr{Nothing} @0x00007ff85ff0eb5f, Ptr{Nothing} @0x00007ffaed97ddbd, Ptr{Nothing} @0x00007ffaed99b084, Ptr{Nothing} @0x00007ffaed99aac7, Ptr{Nothing} @0x00007ffaed99b9aa, Ptr{Nothing} @0x00007ffaed99bac7, Ptr{Nothing} @0x00007ffaed99c097, Base.InterpreterIP in MethodInstance for Requires.err(::Any, ::Module, ::String, ::String, ::Any) at statement 4, Ptr{Nothing} @0x00007ff85ff0eaa0, Ptr{Nothing} @0x00007ff85ff0eabf, Ptr{Nothing} @0x00007ffaed97ddbd, Ptr{Nothing} @0x00007ffaed99b084, Ptr{Nothing} @0x00007ffaed99aac7, Ptr{Nothing} @0x00007ffaed99b9aa, Ptr{Nothing} @0x00007ffaed99bac7, Ptr{Nothing} @0x00007ffaed99c097, Base.InterpreterIP in MethodInstance for Requires.withpath(::Any, ::String) at statement 10, Ptr{Nothing} @0x00007ff85ff0e9b9, Ptr{Nothing} @0x00007ff85ff0ea3f, Ptr{Nothing} @0x00007ffaed97ddbd, Ptr{Nothing} @0x00007ffaed99b084, Ptr{Nothing} @0x00007ffaed99aac7, Ptr{Nothing} @0x00007ffaed99b7f1, Ptr{Nothing} @0x00007ffaed99c097, Base.InterpreterIP in MethodInstance for Requires.listenpkg(::Any, ::Base.PkgId) at statement 3, Ptr{Nothing} @0x00007ff85ff0e8b2, Ptr{Nothing} @0x00007ff85ff0e91f, Ptr{Nothing} @0x00007ffaed97ddbd, Ptr{Nothing} @0x00007ffaed9bc3b4, Ptr{Nothing} @0x00007ffaed9b056c, Ptr{Nothing} @0x00007ffad7c695bb, Ptr{Nothing} @0x00007ffad7c6d2f6, Ptr{Nothing} @0x00007ffad7c6f426, Ptr{Nothing} @0x00007ffad7c71c09, Ptr{Nothing} @0x00007ffad7c721a9, Ptr{Nothing} @0x00007ffad7c72746, Ptr{Nothing} @0x00007ffaed97ddbd, Ptr{Nothing} @0x00007ffaed9bbe48, Ptr{Nothing} @0x00007ffaed9bde8e, Ptr{Nothing} @0x00007ffaed9bd7e8, Ptr{Nothing} @0x00007ffaed9bec2a, Ptr{Nothing} @0x00007ffad7c91d25, Ptr{Nothing} @0x00007ffaed97ddbd, Ptr{Nothing} @0x00007ffaed98cc78, Ptr{Nothing} @0x00007ffad7c90c82, Ptr{Nothing} @0x00007ffad7c91694, Ptr{Nothing} @0x00007ffad7c919e1, Ptr{Nothing} @0x00007ffad7c91a51, Ptr{Nothing} @0x00007ffaed97ddbd, Ptr{Nothing} @0x00007ffad7c8630b, Ptr{Nothing} @0x00007ffaed97ddbd, Ptr{Nothing} @0x00007ffad7c7b4d7, Ptr{Nothing} @0x00007ffad7c7b6f2, Ptr{Nothing} @0x00007ffad7c7b75f, Ptr{Nothing} @0x00007ffaed97ddbd, Ptr{Nothing} @0x00007ffad7c734c9, Ptr{Nothing} @0x00007ffaed9bd17c, Ptr{Nothing} @0x00007ffaed9bd7e8, Ptr{Nothing} @0x00007ffaed9bec2a, Ptr{Nothing} @0x00007ffada4a1d11, Ptr{Nothing} @0x00007ffaed97ddbd, Ptr{Nothing} @0x00007ffada2ca1a1, Ptr{Nothing} @0x00007ffad9bcc880, Ptr{Nothing} @0x00007ffad9bcc89f, Ptr{Nothing} @0x00007ffaed97ddbd, Ptr{Nothing} @0x00007ffada517f4b, Ptr{Nothing} @0x00007ffada01eb37, Ptr{Nothing} @0x00007ffada01ec68, Ptr{Nothing} @0x00007ffaed97ddbd, Ptr{Nothing} @0x00007ffaed9e5066, Ptr{Nothing} @0x00007ffaed9e5aae, Ptr{Nothing} @0x0000000000401068, Ptr{Nothing} @0x00007ffaee555082, Ptr{Nothing} @0x0000000000401098])\n",
      "└ @ Requires /home/verification/.julia/packages/Requires/Z8rfN/src/require.jl:51\n"
     ]
    }
   ],
   "source": [
    "using ModelVerification"
   ]
  },
  {
   "cell_type": "code",
   "execution_count": 3,
   "metadata": {},
   "outputs": [],
   "source": [
    "using LazySets\n",
    "using PyCall\n",
    "using CSV\n",
    "using ONNX\n",
    "using Flux\n",
    "using Test\n",
    "using NNlib\n",
    "using ONNXNaiveNASflux\n",
    "using NaiveNASflux\n",
    "# using DataFrames\n",
    "# import Flux: flatten"
   ]
  },
  {
   "cell_type": "code",
   "execution_count": 4,
   "metadata": {},
   "outputs": [],
   "source": [
    "# using Flux: onehotbatch, onecold, flatten\n",
    "# using Flux.Losses: logitcrossentropy\n",
    "# using Statistics: mean\n",
    "using CUDA\n",
    "using MLDatasets: CIFAR10, MNIST\n",
    "using MLUtils: splitobs, DataLoader\n",
    "using Accessors\n",
    "using Profile\n",
    "using LinearAlgebra\n",
    "using Einsum"
   ]
  },
  {
   "cell_type": "code",
   "execution_count": 5,
   "metadata": {},
   "outputs": [
    {
     "name": "stdout",
     "output_type": "stream",
     "text": [
      "Chain(["
     ]
    },
    {
     "name": "stdout",
     "output_type": "stream",
     "text": [
      "A(1, "
     ]
    },
    {
     "name": "stdout",
     "output_type": "stream",
     "text": [
      "\"a\", "
     ]
    },
    {
     "name": "stdout",
     "output_type": "stream",
     "text": [
      "[1.0]), Chain([A(2, \"b\", [2.0]), f"
     ]
    },
    {
     "name": "stdout",
     "output_type": "stream",
     "text": [
      ", Chain([A(3, \"c\", [3.0]), A(4, \"d\", [4.0])])]), A(5, \"e\", [5.0]), f])\n",
      "Params(["
     ]
    },
    {
     "name": "stdout",
     "output_type": "stream",
     "text": [
      "[1.0], [2.0], [3.0], [4.0], [5.0]])\n",
      "Params(["
     ]
    },
    {
     "name": "stdout",
     "output_type": "stream",
     "text": [
      "[0.9000000000000232], [1.9000000000000465], [2.9000000000000465], [3.900000000000062], [4.900000000000078]])\n",
      "Params([[0.8019825932831908], [1.8025378886634913], [2.8021459853532504], [3.802233177187348], [4.802285785675325]])\n",
      "Params([[0.7071285537155807], [1.7091328179962304], [2.707686153417145], [3.7079906353293053], [4.708173053538199]])\n",
      "Params([[0.6163592164651227], [1.620926698255525], [2.6175636418606336], [3.6182364246944028], [4.618636539760596]])\n",
      "Params([[0.530297047352178], [1.538623508664359], [2.532384228495501], [3.533576511686647], [4.534280370716337]])\n",
      "Params([[0.4492866064007697], [1.46253129652812], [2.452451856611642], [3.4543004667784043], [4.455383951166571]])\n",
      "Params([[0.37344761909996416], [1.3926549079493182], [2.377835846283726], [3.3804556101025662], [4.38198048756879]])\n",
      "Params([[0.3027355249790223], [1.3287951106191929], [2.3084414050913495], [3.311922903165741], [4.3139360880194495]])\n",
      "Params([[0.23699541870781865], [1.2706311206777086], [2.244069037459118], [3.2484796700394742], [4.251014332610752]])\n",
      "Params([[0.17600427910563207], [1.217780476827336], [2.1844589265304477], [3.189845613703667], [4.1929231090657115]])\n"
     ]
    }
   ],
   "source": [
    "struct A\n",
    "    index\n",
    "    name\n",
    "    alpha\n",
    "end\n",
    "function (f::A)(x)\n",
    "    return f.alpha .* x\n",
    "end\n",
    "Flux.@functor A (alpha,)\n",
    "\n",
    "\n",
    "a = A(1, \"a\", [1.0])\n",
    "b = A(2, \"b\", [2.0])\n",
    "c = A(3, \"c\", [3.0])\n",
    "d = A(4, \"d\", [4.0])\n",
    "e = A(5, \"e\", [5.0])\n",
    "f(x) = 1 .+ x\n",
    "m = [a, Chain([b, f, Chain([c, d])]), e, f]\n",
    "model = Chain(m)\n",
    "println(model)\n",
    "train_set = [[1], [2]]\n",
    "println(Flux.params(model))\n",
    "optimizer = Flux.Optimiser(Flux.ADAM(0.1))\n",
    "my_loss(x, y) = sum((x .- y) .^ 2)\n",
    "state = Flux.setup(optimizer, model)\n",
    "for i in 1 : 10\n",
    "    value, grads = Flux.withgradient(model) do m\n",
    "        result = m(train_set[1])\n",
    "        my_loss(result, train_set[2])\n",
    "    end\n",
    "    Flux.update!(state, model, grads[1])\n",
    "    println(Flux.params(model))\n",
    "end\n",
    "\n",
    "    "
   ]
  },
  {
   "cell_type": "code",
   "execution_count": 11,
   "metadata": {},
   "outputs": [
    {
     "name": "stdout",
     "output_type": "stream",
     "text": [
      "Params([[20]])\n",
      "Params([[20], [1]])\n"
     ]
    },
    {
     "name": "stdout",
     "output_type": "stream",
     "text": [
      "[[4.0], [0.0]]\n"
     ]
    },
    {
     "name": "stdout",
     "output_type": "stream",
     "text": [
      "[[32.0], [0.0]]\n"
     ]
    }
   ],
   "source": [
    "struct AlphaLayer\n",
    "    node\n",
    "    alpha\n",
    "    lower\n",
    "    unstable_mask\n",
    "    lower_mask \n",
    "    upper_slope\n",
    "    lower_bias\n",
    "    upper_bias\n",
    "end\n",
    "Flux.@functor AlphaLayer (alpha,)\n",
    "\n",
    "function (f::AlphaLayer)(x)\n",
    "    Last_A = x[1]\n",
    "    Last_bias = x[2]\n",
    "    lower_slope = clamp.(f.alpha, 0, 1) .* f.unstable_mask .+ f.lower_mask \n",
    "    if f.lower \n",
    "        New_A = bound_oneside(Last_A, lower_slope, f.upper_slope)\n",
    "    else\n",
    "        New_A = bound_oneside(Last_A, f.upper_slope, lower_slope)\n",
    "    end\n",
    "\n",
    "    if isnothing(Last_bias)\n",
    "        return [New_A, nothing]\n",
    "    end\n",
    "    New_bias = multiply_bias(Last_bias, f.upper_slope, f.upper_bias, f.lower_bias)\n",
    "\n",
    "    return [New_A, New_bias]\n",
    "end\n",
    "\n",
    "#Upper bound slope and intercept according to CROWN relaxation.\n",
    "function relu_upper_bound(lower, upper)\n",
    "    lower_r = clamp.(lower, -Inf, 0)\n",
    "    upper_r = clamp.(upper, 0, Inf)\n",
    "    upper_r .= max.(upper_r, lower_r .+ 1e-8)\n",
    "    upper_slope = upper_r ./ (upper_r .- lower_r) #the slope of the relu upper bound\n",
    "    upper_bias = - lower_r .* upper_slope #the bias of the relu upper bound\n",
    "    return upper_slope, upper_bias\n",
    "end\n",
    "\n",
    "function clamp_mutiply_A(last_A, slope_pos, slope_neg) \n",
    "    A_pos = clamp.(last_A, 0, Inf)\n",
    "    A_neg = clamp.(last_A, -Inf, 0)\n",
    "    slope_pos = repeat(reshape(slope_pos,(1, size(slope_pos)...)), size(A_pos)[1], 1, 1) #add spec dim for slope_pos\n",
    "    slope_neg = repeat(reshape(slope_neg,(1, size(slope_neg)...)), size(A_neg)[1], 1, 1) #add spec dim for slope_pos\n",
    "    New_A = slope_pos .* A_pos .+ slope_neg .* A_neg \n",
    "    return New_A\n",
    "end \n",
    "\n",
    "\n",
    "function clamp_mutiply_bias(last_A, bias_pos, bias_neg) \n",
    "    A_pos = clamp.(last_A, 0, Inf)\n",
    "    A_neg = clamp.(last_A, -Inf, 0) \n",
    "    if bias_pos !== nothing #new_bias_pos = torch.einsum('s...b,s...b->sb', A_pos, bias_pos)\n",
    "        new_bias_pos = zeros((size(A_pos)[1], size(A_pos)[end]))#spec_dim x batch dim\n",
    "        @einsum new_bias_pos[s,b] = A_pos[s,r,b] * bias_pos[r,b]\n",
    "    end\n",
    "\n",
    "    if bias_neg !== nothing #new_bias_neg = torch.einsum('...sb,...sb->sb', A_neg, bias_neg)\n",
    "        new_bias_neg = zeros((size(A_neg)[1], size(A_neg)[end]))#spec_dim x batch dim\n",
    "        @einsum new_bias_neg[s,b] = A_neg[s,r,b] * bias_neg[r,b]\n",
    "    end\n",
    "    New_bias = new_bias_pos .+ new_bias_neg\n",
    "    return New_bias\n",
    "end \n",
    "\n",
    "#using last_A for getting New_A\n",
    "function multiply_by_A_signs(last_A, slope_pos, slope_neg)\n",
    "    if ndims(slope_pos) == 1\n",
    "        # Special case for LSTM, the bias term is 1-dimension. \n",
    "        New_A = clamp.(last_A, 0, Inf) .* slope_pos .+ clamp.(last_A, -Inf, 0) .* slope_neg\n",
    "    else\n",
    "        New_A = clamp_mutiply_A(last_A, slope_pos, slope_neg)\n",
    "        return New_A\n",
    "    end\n",
    "end\n",
    "\n",
    "function multiply_bias(last_A, upper_slope, bias_pos, bias_neg)\n",
    "    if ndims(upper_slope) == 1\n",
    "        # Special case for LSTM, the bias term is 1-dimension. \n",
    "        New_bias = clamp.(last_A, 0, Inf) .* bias_pos .+ clamp.(last_A, -Inf, 0) .* bias_neg\n",
    "    else\n",
    "        New_bias = clamp_mutiply_bias(last_A, bias_pos, bias_neg)\n",
    "        return New_bias\n",
    "    end\n",
    "end\n",
    "\n",
    "#bound oneside of the relu, like upper or lower\n",
    "function bound_oneside(last_A, slope_pos, slope_neg)\n",
    "    if isnothing(last_A)\n",
    "        return nothing, nothing\n",
    "    end\n",
    "    New_A = multiply_by_A_signs(last_A, slope_pos, slope_neg)\n",
    "    return New_A\n",
    "end\n",
    "\n",
    "\n",
    "alpha_lower = [20]\n",
    "alpha_upper = [1]\n",
    "unstable_mask = [1]\n",
    "lower_mask = [1]\n",
    "upper_slope = [2]\n",
    "upper_bias = [0]\n",
    "lower_bias = [0]\n",
    "lower = upper = true\n",
    "if lower == true\n",
    "    Alpha_Lower_Layer = AlphaLayer(\"relu_1\", alpha_lower, true, unstable_mask, lower_mask, upper_slope, upper_bias, lower_bias)\n",
    "end\n",
    "if upper ==true\n",
    "    Alpha_Upper_Layer = AlphaLayer(\"relu_1\", alpha_upper, false, unstable_mask, lower_mask, upper_slope, lower_bias, upper_bias)\n",
    "end\n",
    "a = []\n",
    "push!(a, Alpha_Lower_Layer) \n",
    "push!(a, Alpha_Upper_Layer)\n",
    "println(Flux.params(Alpha_Lower_Layer))\n",
    "println(Flux.params(a)) \n",
    "a = Chain(a)\n",
    "println(a([2, 0]))"
   ]
  },
  {
   "cell_type": "code",
   "execution_count": 9,
   "metadata": {},
   "outputs": [
    {
     "name": "stdout",
     "output_type": "stream",
     "text": [
      "AlphaLayer([4], false, [2], [3], [1])\n"
     ]
    },
    {
     "name": "stdout",
     "output_type": "stream",
     "text": [
      "[-1]\n"
     ]
    },
    {
     "name": "stdout",
     "output_type": "stream",
     "text": [
      "Params([[1], [4], [200]])\n"
     ]
    }
   ],
   "source": [
    "struct AlphaLayer\n",
    "    alpha\n",
    "    lower\n",
    "    unstable_mask\n",
    "    lower_mask \n",
    "    upper_slope\n",
    "end\n",
    "Flux.@functor AlphaLayer (alpha,)\n",
    "\n",
    "function (l::AlphaLayer)(x)\n",
    "    lb_lower_slope = clamp.(l.alpha, 0, 1) .* l.unstable_mask .+ l.lower_mask \n",
    "    if l.lower\n",
    "        New_A = bound_oneside(x, lb_lower_slope, l.upper_slope)\n",
    "    else\n",
    "        New_A = [-1]\n",
    "    end\n",
    "    return New_A\n",
    "end\n",
    "\n",
    "\n",
    "#Upper bound slope and intercept according to CROWN relaxation.\n",
    "function relu_upper_bound(lower, upper)\n",
    "    lower_r = clamp.(lower, -Inf, 0)\n",
    "    upper_r = clamp.(upper, 0, Inf)\n",
    "    #lower_r .= min.(lower_r, 0)\n",
    "    upper_r .= max.(upper_r, lower_r .+ 1e-8)\n",
    "    upper_slope = upper_r ./ (upper_r .- lower_r) #the slope of the relu upper bound\n",
    "    upper_bias = - lower_r .* upper_slope #the bias of the relu upper bound\n",
    "    return upper_slope, upper_bias\n",
    "end\n",
    "\n",
    "\n",
    "function clamp_mutiply_A(last_A, slope_pos, slope_neg) \n",
    "    A_pos = clamp.(last_A, 0, Inf)\n",
    "    A_neg = clamp.(last_A, -Inf, 0)\n",
    "    slope_pos = repeat(reshape(slope_pos,(1, size(slope_pos)...)), size(A_pos)[1], 1, 1) #add spec dim for slope_pos\n",
    "    slope_neg = repeat(reshape(slope_neg,(1, size(slope_neg)...)), size(A_neg)[1], 1, 1) #add spec dim for slope_pos\n",
    "    New_A = slope_pos .* A_pos .+ slope_neg .* A_neg \n",
    "    return New_A\n",
    "end \n",
    "\n",
    "#using last_A for getting New_A\n",
    "function multiply_by_A_signs(last_A, slope_pos, slope_neg)\n",
    "    if ndims(slope_pos) == 1\n",
    "        # Special case for LSTM, the bias term is 1-dimension. \n",
    "        New_A = clamp.(last_A, 0, Inf) .* slope_pos .+ clamp.(last_A, -Inf, 0) .* slope_neg\n",
    "    else\n",
    "        New_A = clamp_mutiply_A(last_A, slope_pos, slope_neg)\n",
    "        return New_A\n",
    "    end\n",
    "end\n",
    "\n",
    "\n",
    "#bound oneside of the relu, like upper or lower\n",
    "function bound_oneside(last_A, slope_pos, slope_neg)\n",
    "    if isnothing(last_A)\n",
    "        return nothing, nothing\n",
    "    end\n",
    "    New_A = multiply_by_A_signs(last_A, slope_pos, slope_neg)\n",
    "    return New_A\n",
    "end\n",
    "\n",
    "\n",
    "alpha = [1]\n",
    "unstable_mask = [2]\n",
    "lower_mask = [3]\n",
    "upper_slope = [1]\n",
    "\n",
    "m = []\n",
    "a = AlphaLayer(alpha, false, unstable_mask, lower_mask, upper_slope)\n",
    "b = AlphaLayer([4], false, unstable_mask, lower_mask, upper_slope)\n",
    "c = AlphaLayer([200], false, unstable_mask, lower_mask, upper_slope)\n",
    "push!(m, a)\n",
    "push!(m, b)\n",
    "push!(m, c)\n",
    "m = Chain(m)\n",
    "println(b)\n",
    "println(a([1]))\n",
    "println(Flux.params(m))"
   ]
  },
  {
   "cell_type": "code",
   "execution_count": null,
   "metadata": {},
   "outputs": [],
   "source": [
    "for activation_node in model_info.activation_nodes\n",
    "    batch_info[activation_node][:split_active] = []\n",
    "end\n",
    "primals, duals, mini_inp = None, None, None\n",
    "upper_bound = zeros(size(lower_bound)) .+ Inf"
   ]
  },
  {
   "cell_type": "code",
   "execution_count": 45,
   "metadata": {},
   "outputs": [
    {
     "name": "stdout",
     "output_type": "stream",
     "text": [
      "relu_3\n",
      "dense_2\n",
      "relu_2\n",
      "dense_1\n",
      "relu_1\n",
      "dense_0\n",
      "data_0\n",
      "relu_3\n",
      "dense_2\n",
      "relu_2\n",
      "dense_1\n",
      "relu_1\n",
      "dense_0\n",
      "data_0\n"
     ]
    },
    {
     "name": "stdout",
     "output_type": "stream",
     "text": [
      "\u001b[91m\u001b[1mError During Test\u001b[22m\u001b[39m at \u001b[39m\u001b[1m/home/verification/ModelVerification.jl/tmp/test.ipynb:22\u001b[22m\n",
      "  Test threw exception\n",
      "  Expression: (verify(search_method, split_method, prop_method, Problem(\"/home/verification/ModelVerification.jl/small_nnet.onnx\", in_hyper, comp_violated))).status == :violated\n",
      "  DimensionMismatch: new dimensions (2,) must be consistent with array size 4\n",
      "  Stacktrace:\n",
      "   [1] \u001b[0m\u001b[1m(::Base.var\"#throw_dmrsa#289\")\u001b[22m\u001b[0m\u001b[1m(\u001b[22m\u001b[90mdims\u001b[39m::\u001b[0mTuple\u001b[90m{Int64}\u001b[39m, \u001b[90mlen\u001b[39m::\u001b[0mInt64\u001b[0m\u001b[1m)\u001b[22m\n",
      "  \u001b[90m   @ \u001b[39m\u001b[90mBase\u001b[39m \u001b[90m./\u001b[39m\u001b[90m\u001b[4mreshapedarray.jl:41\u001b[24m\u001b[39m\n",
      "   [2] \u001b[0m\u001b[1mreshape\u001b[22m\n",
      "  \u001b[90m   @ \u001b[39m\u001b[90m./\u001b[39m\u001b[90m\u001b[4mreshapedarray.jl:45\u001b[24m\u001b[39m\u001b[90m [inlined]\u001b[39m\n",
      "   [3] \u001b[0m\u001b[1mreshape\u001b[22m\u001b[0m\u001b[1m(\u001b[22m\u001b[90mparent\u001b[39m::\u001b[0mArray\u001b[90m{Float64, 3}\u001b[39m, \u001b[90mdims\u001b[39m::\u001b[0mInt64\u001b[0m\u001b[1m)\u001b[22m\n",
      "  \u001b[90m   @ \u001b[39m\u001b[90mBase\u001b[39m \u001b[90m./\u001b[39m\u001b[90m\u001b[4mreshapedarray.jl:117\u001b[24m\u001b[39m\n",
      "   [4] \u001b[0m\u001b[1mcheck_inclusion\u001b[22m\u001b[0m\u001b[1m(\u001b[22m\u001b[90mprop_method\u001b[39m::\u001b[0mAlphaCrown, \u001b[90mmodel\u001b[39m::\u001b[0mChain\u001b[90m{Tuple{Dense{typeof(relu), Matrix{Float64}, Vector{Float64}}, Dense{typeof(relu), Matrix{Float64}, Vector{Float64}}, Dense{typeof(relu), Matrix{Float64}, Vector{Float64}}}}\u001b[39m, \u001b[90mbatch_input\u001b[39m::\u001b[0mVector\u001b[90m{Any}\u001b[39m, \u001b[90mbound\u001b[39m::\u001b[0mModelVerification.AlphaCrownBound, \u001b[90mbatch_out_spec\u001b[39m::\u001b[0mModelVerification.LinearSpec\u001b[0m\u001b[1m)\u001b[22m\n",
      "  \u001b[90m   @ \u001b[39m\u001b[35mModelVerification\u001b[39m \u001b[90m~/ModelVerification.jl/src/propagate/\u001b[39m\u001b[90m\u001b[4mcheck.jl:92\u001b[24m\u001b[39m\n",
      "   [5] \u001b[0m\u001b[1msearch_branches\u001b[22m\u001b[0m\u001b[1m(\u001b[22m\u001b[90msearch_method\u001b[39m::\u001b[0mBFS, \u001b[90msplit_method\u001b[39m::\u001b[0mBisect, \u001b[90mprop_method\u001b[39m::\u001b[0mAlphaCrown, \u001b[90mproblem\u001b[39m::\u001b[0mProblem\u001b[90m{Hyperrectangle{Float64, Vector{Float64}, Vector{Float64}}, Complement{Float64, Hyperrectangle{Float64, Vector{Float64}, Vector{Float64}}}}\u001b[39m, \u001b[90mmodel_info\u001b[39m::\u001b[0mModelVerification.Model\u001b[0m\u001b[1m)\u001b[22m\n",
      "  \u001b[90m   @ \u001b[39m\u001b[35mModelVerification\u001b[39m \u001b[90m~/ModelVerification.jl/src/branching/\u001b[39m\u001b[90m\u001b[4msearch.jl:20\u001b[24m\u001b[39m\n",
      "   [6] \u001b[0m\u001b[1mverify\u001b[22m\n",
      "  \u001b[90m   @ \u001b[39m\u001b[90m~/ModelVerification.jl/src/\u001b[39m\u001b[90m\u001b[4mModelVerification.jl:121\u001b[24m\u001b[39m\u001b[90m [inlined]\u001b[39m\n",
      "   [7] \u001b[0m\u001b[1mmacro expansion\u001b[22m\n",
      "  \u001b[90m   @ \u001b[39m\u001b[90m~/julia-1.8.5/share/julia/stdlib/v1.8/Test/src/\u001b[39m\u001b[90m\u001b[4mTest.jl:464\u001b[24m\u001b[39m\u001b[90m [inlined]\u001b[39m\n",
      "   [8] \u001b[0m\u001b[1mtest_mlp\u001b[22m\u001b[0m\u001b[1m(\u001b[22m\u001b[90mprop_method\u001b[39m::\u001b[0mAlphaCrown\u001b[0m\u001b[1m)\u001b[22m\n",
      "  \u001b[90m   @ \u001b[39m\u001b[36mMain\u001b[39m \u001b[90m~/ModelVerification.jl/tmp/\u001b[39m\u001b[90m\u001b[4mtest.ipynb:22\u001b[24m\u001b[39m\n"
     ]
    },
    {
     "ename": "Test.FallbackTestSetException",
     "evalue": "Test.FallbackTestSetException(\"There was an error during testing\")",
     "output_type": "error",
     "traceback": [
      "Test.FallbackTestSetException(\"There was an error during testing\")\n",
      "\n",
      "Stacktrace:\n",
      " [1] record(ts::Test.FallbackTestSet, t::Union{Test.Error, Test.Fail})\n",
      "   @ Test ~/julia-1.8.5/share/julia/stdlib/v1.8/Test/src/Test.jl:946\n",
      " [2] do_test(result::Test.ExecutionResult, orig_expr::Any)\n",
      "   @ Test ~/julia-1.8.5/share/julia/stdlib/v1.8/Test/src/Test.jl:656\n",
      " [3] macro expansion\n",
      "   @ ~/julia-1.8.5/share/julia/stdlib/v1.8/Test/src/Test.jl:464 [inlined]\n",
      " [4] test_mlp(prop_method::AlphaCrown)\n",
      "   @ Main ~/ModelVerification.jl/tmp/test.ipynb:22\n",
      " [5] macro expansion\n",
      "   @ ~/ModelVerification.jl/tmp/test.ipynb:30 [inlined]\n",
      " [6] top-level scope\n",
      "   @ ./timing.jl:463"
     ]
    }
   ],
   "source": [
    "function test_mlp(prop_method)\n",
    "    small_nnet_file = \"/home/verification/ModelVerification.jl/test/networks/small_nnet.nnet\"\n",
    "    # small_nnet encodes the simple function 24*max(x + 1.5, 0) + 18.5\n",
    "    small_nnet = read_nnet(small_nnet_file, last_layer_activation = ModelVerification.ReLU())\n",
    "    flux_model = Flux.Chain(small_nnet)\n",
    "    #ONNXNaiveNASflux.save(\"/home/verification/ModelVerification.jl/small_nnet.onnx\", flux_model, (1,1))\n",
    "    # println(flux_model)\n",
    "    # println(flux_model.layers[1].weight, \" \", flux_model.layers[1].bias) # max(x+1.5, 0) max(x+1.5, 0)              [0,4]\n",
    "    # println(flux_model.layers[2].weight, \" \", flux_model.layers[2].bias) # 4*max(x+1.5, 0)+2.5 4*max(x+1.5, 0)+2.5  [2.5, 18.5]\n",
    "    # println(flux_model.layers[3].weight, \" \", flux_model.layers[3].bias) # 24*max(x+1.5, 0)+18.5                    [18.5, 114.5]\n",
    "    in_hyper  = Hyperrectangle(low = [-2.5], high = [2.5]) # expected out: [18.5, 114.5]\n",
    "    out_violated    = Hyperrectangle(low = [19], high = [114]) # 20.0 ≤ y ≤ 90.0\n",
    "    out_holds = Hyperrectangle(low = [18], high = [115.0]) # -1.0 ≤ y ≤ 50.0\n",
    "    comp_violated    = Complement(Hyperrectangle(low = [10], high = [19])) # y ≤ 10.0 or 19 ≤ y\n",
    "    comp_holds    = Complement(Hyperrectangle(low = [115], high = [118])) # y ≤ 10.0 or 18 ≤ y\n",
    "    info = nothing\n",
    "    search_method = BFS(max_iter=100, batch_size=10)\n",
    "    split_method = Bisect(1)\n",
    "    @test verify(search_method, split_method, prop_method, Problem(\"/home/verification/ModelVerification.jl/small_nnet.onnx\", in_hyper, out_holds)).status == :holds\n",
    "    @test verify(search_method, split_method, prop_method, Problem(\"/home/verification/ModelVerification.jl/small_nnet.onnx\", in_hyper, out_violated)).status == :violated\n",
    "    @test verify(search_method, split_method, prop_method, Problem(\"/home/verification/ModelVerification.jl/small_nnet.onnx\", in_hyper, comp_holds)).status == :holds\n",
    "    @test verify(search_method, split_method, prop_method, Problem(\"/home/verification/ModelVerification.jl/small_nnet.onnx\", in_hyper, comp_violated)).status == :violated\n",
    "    #= @test verify(search_method, split_method, prop_method, Problem(flux_model, in_hyper, out_holds)).status == :holds\n",
    "    @test verify(search_method, split_method, prop_method, Problem(flux_model, in_hyper, out_violated)).status == :violated\n",
    "    @test verify(search_method, split_method, prop_method, Problem(flux_model, in_hyper, comp_holds)).status == :holds\n",
    "    @test verify(search_method, split_method, prop_method, Problem(flux_model, in_hyper, comp_violated)).status == :violated =#\n",
    "end\n",
    "@timed begin\n",
    "    #for i in 1:1\n",
    "        test_mlp(AlphaCrown(Crown(true, true), true, true, Flux.Optimiser(Flux.ADAM(0.1)), 2))\n",
    "        #test_mlp(Ai2z())\n",
    "        #test_mlp(Crown(true, true))\n",
    "        #test_mlp(StarSet(Crown(true, true)))\n",
    "    #end\n",
    "end"
   ]
  },
  {
   "cell_type": "code",
   "execution_count": 14,
   "metadata": {},
   "outputs": [
    {
     "name": "stdout",
     "output_type": "stream",
     "text": [
      "Array{Float32, 3}[[0.23137255"
     ]
    },
    {
     "name": "stderr",
     "output_type": "stream",
     "text": [
      "error in running finalizer: InterruptException()\n",
      "jl_mutex_unlock at /cache/build/default-amdci4-2/julialang/julia-release-1-dot-8/src/julia_locks.h:129 [inlined]\n",
      "ijl_iolock_end at /cache/build/default-amdci4-2/julialang/julia-release-1-dot-8/src/jl_uv.c:77\n",
      "iolock_end at ./libuv.jl:49 [inlined]\n",
      "uvfinalize at ./asyncevent.jl:188\n",
      "unknown function (ip: 0x7ff85ff62212)\n",
      "_jl_invoke at /cache/build/default-amdci4-2/julialang/julia-release-1-dot-8/src/gf.c:2377 [inlined]\n",
      "ijl_apply_generic at /cache/build/default-amdci4-2/julialang/julia-release-1-dot-8/src/gf.c:2559\n",
      "jl_apply at /cache/build/default-amdci4-2/julialang/julia-release-1-dot-8/src/julia.h:1843 [inlined]\n",
      "run_finalizer at /cache/build/default-amdci4-2/julialang/julia-release-1-dot-8/src/gc.c:280\n",
      "jl_gc_run_finalizers_in_list at /cache/build/default-amdci4-2/julialang/julia-release-1-dot-8/src/gc.c:367\n",
      "run_finalizers at /cache/build/default-amdci4-2/julialang/julia-release-1-dot-8/src/gc.c:410\n",
      "jl_gc_run_pending_finalizers at /cache/build/default-amdci4-2/julialang/julia-release-1-dot-8/src/gc.c:423\n",
      "jl_mutex_unlock at /cache/build/default-amdci4-2/julialang/julia-release-1-dot-8/src/julia_locks.h:131 [inlined]\n",
      "jl_generate_fptr_impl at /cache/build/default-amdci4-2/julialang/julia-release-1-dot-8/src/jitlayers.cpp:345\n",
      "jl_compile_method_internal at /cache/build/default-amdci4-2/julialang/julia-release-1-dot-8/src/gf.c:2091 [inlined]\n",
      "jl_compile_method_internal at /cache/build/default-amdci4-2/julialang/julia-release-1-dot-8/src/gf.c:2035\n",
      "_jl_invoke at /cache/build/default-amdci4-2/julialang/julia-release-1-dot-8/src/gf.c:2369 [inlined]\n",
      "ijl_apply_generic at /cache/build/default-amdci4-2/julialang/julia-release-1-dot-8/src/gf.c:2559\n",
      "jl_apply at /cache/build/default-amdci4-2/julialang/julia-release-1-dot-8/src/julia.h:1843 [inlined]\n",
      "do_call at /cache/build/default-amdci4-2/julialang/julia-release-1-dot-8/src/interpreter.c:126\n",
      "eval_value at /cache/build/default-amdci4-2/julialang/julia-release-1-dot-8/src/interpreter.c:215\n",
      "eval_stmt_value at /cache/build/default-amdci4-2/julialang/julia-release-1-dot-8/src/interpreter.c:166 [inlined]\n",
      "eval_body at /cache/build/default-amdci4-2/julialang/julia-release-1-dot-8/src/interpreter.c:612\n",
      "jl_interpret_toplevel_thunk at /cache/build/default-amdci4-2/julialang/julia-release-1-dot-8/src/interpreter.c:750\n",
      "top-level scope at /home/verification/ModelVerification.jl/tmp/test.ipynb:1\n",
      "jl_toplevel_eval_flex at /cache/build/default-amdci4-2/julialang/julia-release-1-dot-8/src/toplevel.c:906\n",
      "jl_toplevel_eval_flex at /cache/build/default-amdci4-2/julialang/julia-release-1-dot-8/src/toplevel.c:850\n",
      "ijl_toplevel_eval_in at /cache/build/default-amdci4-2/julialang/julia-release-1-dot-8/src/toplevel.c:965\n",
      "eval at ./boot.jl:368 [inlined]\n",
      "include_string at ./loading.jl:1428\n",
      "_jl_invoke at /cache/build/default-amdci4-2/julialang/julia-release-1-dot-8/src/gf.c:2377 [inlined]\n",
      "ijl_apply_generic at /cache/build/default-amdci4-2/julialang/julia-release-1-dot-8/src/gf.c:2559\n",
      "jl_apply at /cache/build/default-amdci4-2/julialang/julia-release-1-dot-8/src/julia.h:1843 [inlined]\n",
      "jl_f__call_latest at /cache/build/default-amdci4-2/julialang/julia-release-1-dot-8/src/builtins.c:774\n",
      "#invokelatest#2 at ./essentials.jl:729 [inlined]\n",
      "invokelatest at ./essentials.jl:726 [inlined]\n",
      "#198 at /home/verification/.vscode-server/extensions/julialang.language-julia-1.47.2/scripts/packages/VSCodeServer/src/serve_notebook.jl:19\n",
      "withpath at /home/verification/.vscode-server/extensions/julialang.language-julia-1.47.2/scripts/packages/VSCodeServer/src/repl.jl:249\n",
      "notebook_runcell_request at /home/verification/.vscode-server/extensions/julialang.language-julia-1.47.2/scripts/packages/VSCodeServer/src/serve_notebook.jl:13\n",
      "unknown function (ip: 0x7ffad7c91a51)\n",
      "_jl_invoke at /cache/build/default-amdci4-2/julialang/julia-release-1-dot-8/src/gf.c:2377 [inlined]\n",
      "ijl_apply_generic at /cache/build/default-amdci4-2/julialang/julia-release-1-dot-8/src/gf.c:2559\n",
      "dispatch_msg at /home/verification/.vscode-server/extensions/julialang.language-julia-1.47.2/scripts/packages/JSONRPC/src/typed.jl:67\n",
      "_jl_invoke at /cache/build/default-amdci4-2/julialang/julia-release-1-dot-8/src/gf.c:2377 [inlined]\n",
      "ijl_apply_generic at /cache/build/default-amdci4-2/julialang/julia-release-1-dot-8/src/gf.c:2559\n",
      "#serve_notebook#200 at /home/verification/.vscode-server/extensions/julialang.language-julia-1.47.2/scripts/packages/VSCodeServer/src/serve_notebook.jl:139\n",
      "serve_notebook##kw at /home/verification/.vscode-server/extensions/julialang.language-julia-1.47.2/scripts/packages/VSCodeServer/src/serve_notebook.jl:75\n",
      "unknown function (ip: 0x7ffad7c7b75f)\n",
      "_jl_invoke at /cache/build/default-amdci4-2/julialang/julia-release-1-dot-8/src/gf.c:2377 [inlined]\n",
      "ijl_apply_generic at /cache/build/default-amdci4-2/julialang/julia-release-1-dot-8/src/gf.c:2559\n",
      "top-level scope at /home/verification/.vscode-server/extensions/julialang.language-julia-1.47.2/scripts/notebook/notebook.jl:32\n",
      "jl_toplevel_eval_flex at /cache/build/default-amdci4-2/julialang/julia-release-1-dot-8/src/toplevel.c:897\n",
      "jl_toplevel_eval_flex at /cache/build/default-amdci4-2/julialang/julia-release-1-dot-8/src/toplevel.c:850\n",
      "ijl_toplevel_eval_in at /cache/build/default-amdci4-2/julialang/julia-release-1-dot-8/src/toplevel.c:965\n",
      "eval at ./boot.jl:368 [inlined]\n",
      "include_string at ./loading.jl:1428\n",
      "_jl_invoke at /cache/build/default-amdci4-2/julialang/julia-release-1-dot-8/src/gf.c:2377 [inlined]\n",
      "ijl_apply_generic at /cache/build/default-amdci4-2/julialang/julia-release-1-dot-8/src/gf.c:2559\n",
      "_include at ./loading.jl:1488\n",
      "include at ./Base.jl:419\n",
      "jfptr_include_38905.clone_1 at /home/verification/julia-1.8.5/lib/julia/sys.so (unknown line)\n",
      "_jl_invoke at /cache/build/default-amdci4-2/julialang/julia-release-1-dot-8/src/gf.c:2377 [inlined]\n",
      "ijl_apply_generic at /cache/build/default-amdci4-2/julialang/julia-release-1-dot-8/src/gf.c:2559\n",
      "exec_options at ./client.jl:303\n",
      "_start at ./client.jl:522\n",
      "jfptr__start_38041.clone_1 at /home/verification/julia-1.8.5/lib/julia/sys.so (unknown line)\n",
      "_jl_invoke at /cache/build/default-amdci4-2/julialang/julia-release-1-dot-8/src/gf.c:2377 [inlined]\n",
      "ijl_apply_generic at /cache/build/default-amdci4-2/julialang/julia-release-1-dot-8/src/gf.c:2559\n",
      "jl_apply at /cache/build/default-amdci4-2/julialang/julia-release-1-dot-8/src/julia.h:1843 [inlined]\n",
      "true_main at /cache/build/default-amdci4-2/julialang/julia-release-1-dot-8/src/jlapi.c:575\n",
      "jl_repl_entrypoint at /cache/build/default-amdci4-2/julialang/julia-release-1-dot-8/src/jlapi.c:719\n",
      "main at julia (unknown line)\n",
      "__libc_start_main at /lib/x86_64-linux-gnu/libc.so.6 (unknown line)\n",
      "unknown function (ip: 0x401098)\n"
     ]
    },
    {
     "name": "stdout",
     "output_type": "stream",
     "text": [
      " 0.0627451 0.09803922 0.12941177 0.19607843 0.2784314 0.38039216 0.4509804 0.5372549 0.6039216 0.6039216 0.5686275 0.5568628 0.61960787 0.5686275 0.5803922 0.58431375 0.5764706 0.59607846 0.5686275 0.56078434 0.56078434 0.5529412 0.56078434 0.58431375 0.6745098 0.7921569 0.84705883 0.8627451 0.8156863 0.7058824 0.69411767; 0.16862746 0.0 0.0627451 0.14901961 0.23137255 0.32941177 0.43529412 0.46666667 0.5019608 0.6039216 0.60784316 0.57254905 0.5529412 0.6039216 0.58431375 0.57254905 0.56078434 0.5254902 0.45882353 0.49803922 0.49803922 0.49019608 0.5137255 0.54509807 0.52156866 0.5647059 0.73333335 0.75686276 0.7882353 0.7882353 0.6784314 0.65882355; 0.19607843 0.07058824 0.19215687 0.34117648 0.4 0.43137255 0.48235294 0.50980395 0.5176471 0.6117647 0.6117647 0.57254905 0.54901963 0.5568628 0.5764706 0.5686275 0.5647059 0.54901963 0.44705883 0.5019608 0.5058824 0.5137255 0.54509807 0.5411765 0.53333336 0.5294118 0.5921569 0.65882355 0.7294118 0.7764706 0.7294118 0.7019608; 0.26666668 0.2 0.3254902 0.41568628 0.49803922 0.5058824 0.50980395 0.54901963 0.5019608 0.54901963 0.5764706 0.5294118 0.5647059 0.56078434 0.5764706 0.5764706 0.5921569 0.5803922 0.48235294 0.52156866 0.5058824 0.5019608 0.54509807 0.58431375 0.5764706 0.53333336 0.5019608 0.5921569 0.6745098 0.7490196 0.7607843 0.7372549; 0.38431373 0.34509805 0.43137255 0.4509804 0.4862745 0.53333336 0.53333336 0.52156866 0.46666667 0.48235294 0.52156866 0.49803922 0.5764706 0.5176471 0.53333336 0.52156866 0.5176471 0.5294118 0.49411765 0.5176471 0.50980395 0.48235294 0.5411765 0.627451 0.5882353 0.5294118 0.47843137 0.5137255 0.6117647 0.7176471 0.7764706 0.7921569; 0.46666667 0.47058824 0.5058824 0.45882353 0.4745098 0.5137255 0.5176471 0.49803922 0.48235294 0.49019608 0.5372549 0.5058824 0.4745098 0.3529412 0.3137255 0.24705882 0.2509804 0.39215687 0.47843137 0.5294118 0.54901963 0.6 0.5921569 0.5882353 0.6 0.54509807 0.5254902 0.49411765 0.5568628 0.67058825 0.7882353 0.85490197; 0.54509807 0.5019608 0.50980395 0.44705883 0.47058824 0.5058824 0.47843137 0.5411765 0.5019608 0.49411765 0.54509807 0.45882353 0.32941177 0.28235295 0.34901962 0.25882354 0.32941177 0.42352942 0.3647059 0.67058825 0.85882354 0.5803922 0.5019608 0.5764706 0.6156863 0.6 0.5568628 0.5411765 0.5568628 0.62352943 0.7411765 0.85490197; 0.5686275 0.49803922 0.4745098 0.4117647 0.44705883 0.46666667 0.4745098 0.5372549 0.50980395 0.49803922 0.5254902 0.40392157 0.34509805 0.31764707 0.4117647 0.34509805 0.4392157 0.5647059 0.7019608 0.92941177 0.95686275 0.6509804 0.53333336 0.5921569 0.63529414 0.6392157 0.5882353 0.5647059 0.6 0.5764706 0.6784314 0.8117647; 0.58431375 0.49411765 0.44313726 0.41960785 0.41960785 0.42352942 0.49803922 0.5137255 0.4745098 0.52156866 0.5529412 0.50980395 0.42745098 0.32941177 0.3764706 0.44313726 0.6392157 0.8235294 0.93333334 0.9882353 0.8235294 0.7372549 0.6862745 0.6627451 0.6862745 0.6509804 0.6 0.5568628 0.5882353 0.5294118 0.6117647 0.7490196; 0.58431375 0.45490196 0.4392157 0.4745098 0.49019608 0.47843137 0.5411765 0.52156866 0.5372549 0.5176471 0.4745098 0.47058824 0.39607844 0.41960785 0.5058824 0.7137255 0.8745098 0.972549 0.972549 0.8980392 0.75686276 0.7137255 0.6784314 0.654902 0.74509805 0.72156864 0.5803922 0.5372549 0.54509807 0.50980395 0.54509807 0.6862745; 0.5137255 0.41568628 0.4392157 0.49019608 0.5058824 0.48235294 0.4862745 0.5254902 0.5137255 0.3529412 0.3137255 0.43529412 0.5411765 0.64705884 0.7529412 0.8627451 0.80784315 0.6862745 0.6666667 0.6784314 0.6509804 0.67058825 0.7411765 0.7019608 0.6509804 0.6509804 0.5294118 0.47058824 0.49411765 0.54509807 0.5568628 0.6509804; 0.49019608 0.39607844 0.41568628 0.42745098 0.41568628 0.4117647 0.47058824 0.42352942 0.2901961 0.24705882 0.38039216 0.57254905 0.8352941 0.8980392 0.7254902 0.5411765 0.5686275 0.6862745 0.7254902 0.6627451 0.6 0.64705884 0.8039216 0.83137256 0.7921569 0.5882353 0.49803922 0.5137255 0.53333336 0.5764706 0.5686275 0.6392157; 0.5568628 0.4117647 0.4117647 0.44313726 0.42352942 0.41960785 0.41960785 0.28235295 0.21176471 0.24313726 0.3529412 0.53333336 0.69803923 0.7176471 0.5686275 0.63529414 0.76862746 0.8627451 0.94509804 0.8627451 0.7490196 0.7647059 0.7882353 0.79607844 0.8784314 0.72156864 0.6 0.5686275 0.5803922 0.5647059 0.5529412 0.6392157; 0.5647059 0.44313726 0.5019608 0.57254905 0.4862745 0.43529412 0.3137255 0.2 0.19607843 0.27450982 0.38431373 0.6392157 0.7490196 0.7490196 0.79607844 0.80784315 0.8 0.8862745 0.9019608 0.7607843 0.7019608 0.74509805 0.65882355 0.8117647 0.77254903 0.6117647 0.6509804 0.5647059 0.5529412 0.5686275 0.5529412 0.6313726; 0.5372549 0.42745098 0.4862745 0.52156866 0.4745098 0.42352942 0.26666668 0.16078432 0.17254902 0.30980393 0.5372549 0.6627451 0.827451 0.9372549 0.8745098 0.76862746 0.8627451 0.9019608 0.73333335 0.48235294 0.5019608 0.59607846 0.5921569 0.58431375 0.7529412 0.61960787 0.56078434 0.5372549 0.5137255 0.5372549 0.54509807 0.6; 0.5058824 0.4392157 0.50980395 0.49803922 0.42352942 0.38431373 0.2901961 0.28235295 0.3372549 0.40392157 0.54509807 0.59607846 0.7411765 0.85882354 0.9490196 0.96862745 0.9529412 0.9137255 0.7058824 0.5294118 0.5764706 0.56078434 0.5686275 0.54509807 0.7058824 0.65882355 0.50980395 0.49803922 0.49411765 0.53333336 0.54901963 0.62352943; 0.5372549 0.46666667 0.49803922 0.4627451 0.38431373 0.36862746 0.39607844 0.70980394 0.79607844 0.59607846 0.5803922 0.6313726 0.8039216 0.89411765 0.95686275 1.0 0.9607843 0.8784314 0.6509804 0.49803922 0.58431375 0.59607846 0.57254905 0.5647059 0.57254905 0.58431375 0.5019608 0.49411765 0.49803922 0.5372549 0.56078434 0.63529414; 0.5254902 0.42745098 0.47843137 0.45882353 0.43137255 0.38039216 0.4117647 0.81960785 0.8509804 0.5803922 0.5254902 0.5803922 0.8117647 0.88235295 0.93333334 1.0 0.9372549 0.7882353 0.57254905 0.5921569 0.6745098 0.6 0.58431375 0.5372549 0.49411765 0.5294118 0.5921569 0.54509807 0.5411765 0.5803922 0.54509807 0.58431375; 0.4862745 0.4117647 0.4509804 0.49803922 0.45882353 0.3254902 0.25490198 0.49019608 0.63529414 0.5529412 0.5411765 0.69411767 0.8352941 0.8392157 0.94509804 0.9607843 0.91764706 0.72156864 0.58431375 0.64705884 0.5764706 0.5568628 0.6 0.5921569 0.5529412 0.50980395 0.59607846 0.6 0.5882353 0.59607846 0.5411765 0.54901963; 0.54509807 0.49019608 0.47058824 0.47843137 0.47058824 0.34509805 0.22745098 0.26666668 0.39215687 0.4745098 0.5254902 0.6313726 0.7490196 0.84705883 0.8901961 0.9254902 0.90588236 0.70980394 0.6156863 0.5176471 0.5019608 0.5529412 0.58431375 0.60784316 0.6117647 0.5176471 0.5294118 0.58431375 0.6039216 0.5882353 0.56078434 0.5803922; 0.54509807 0.49803922 0.50980395 0.5176471 0.5254902 0.4 0.24705882 0.2509804 0.3019608 0.39607844 0.54901963 0.7647059 0.78039217 0.8235294 0.88235295 0.9019608 0.7647059 0.74509805 0.72156864 0.5921569 0.5529412 0.5294118 0.5647059 0.59607846 0.6 0.5019608 0.54509807 0.54901963 0.58431375 0.60784316 0.57254905 0.6313726; 0.52156866 0.47843137 0.5137255 0.5372549 0.54901963 0.38039216 0.30588236 0.32156864 0.29411766 0.3764706 0.6862745 0.81960785 0.7372549 0.78431374 0.92156863 0.84313726 0.5882353 0.6666667 0.84705883 0.7921569 0.6784314 0.53333336 0.5647059 0.54901963 0.4509804 0.49803922 0.60784316 0.5294118 0.4862745 0.5411765 0.5294118 0.5647059; 0.53333336 0.5137255 0.54509807 0.53333336 0.5137255 0.34509805 0.53333336 0.48235294 0.2901961 0.3372549 0.5568628 0.7411765 0.6313726 0.7411765 0.85882354 0.90588236 0.8156863 0.7019608 0.83137256 0.9411765 0.7921569 0.5803922 0.5686275 0.41960785 0.3019608 0.5294118 0.6313726 0.5764706 0.49411765 0.47058824 0.45882353 0.4392157; 0.54509807 0.4862745 0.49803922 0.5137255 0.5529412 0.4627451 0.47843137 0.4392157 0.29803923 0.29411766 0.4 0.49019608 0.50980395 0.68235296 0.8784314 0.98039216 0.98039216 0.90588236 0.9254902 0.9411765 0.74509805 0.5529412 0.56078434 0.35686275 0.30980393 0.56078434 0.6039216 0.5803922 0.5529412 0.5019608 0.4392157 0.46666667; 0.59607846 0.4745098 0.49411765 0.4862745 0.5294118 0.54901963 0.54509807 0.5294118 0.41960785 0.39607844 0.42352942 0.42352942 0.4862745 0.6313726 0.84313726 0.94509804 0.8901961 0.8745098 0.9254902 0.87058824 0.7764706 0.5529412 0.5058824 0.32941177 0.3647059 0.54509807 0.6039216 0.58431375 0.5686275 0.5568628 0.47843137 0.50980395; 0.6392157 0.5137255 0.49803922 0.50980395 0.49803922 0.53333336 0.5921569 0.5921569 0.5294118 0.53333336 0.5294118 0.54901963 0.5137255 0.54509807 0.6117647 0.61960787 0.6392157 0.63529414 0.6509804 0.6117647 0.59607846 0.5411765 0.48235294 0.4117647 0.49411765 0.53333336 0.56078434 0.58431375 0.5764706 0.5294118 0.40784314 0.47058824; 0.65882355 0.5176471 0.50980395 0.5176471 0.4745098 0.47058824 0.5058824 0.5372549 0.5294118 0.53333336 0.5137255 0.5372549 0.50980395 0.5254902 0.5019608 0.49019608 0.5686275 0.57254905 0.53333336 0.46666667 0.39215687 0.43529412 0.4862745 0.5176471 0.52156866 0.49803922 0.50980395 0.5372549 0.49803922 0.3529412 0.22745098 0.36078432; 0.62352943 0.52156866 0.5568628 0.5294118 0.46666667 0.41960785 0.42352942 0.44705883 0.5058824 0.5254902 0.52156866 0.5176471 0.5137255 0.49411765 0.5058824 0.49411765 0.56078434 0.54901963 0.5254902 0.47058824 0.42745098 0.43529412 0.44313726 0.4627451 0.46666667 0.4745098 0.5176471 0.56078434 0.44705883 0.19607843 0.13333334 0.40392157; 0.61960787 0.52156866 0.50980395 0.50980395 0.40392157 0.34509805 0.37254903 0.4117647 0.49803922 0.52156866 0.5411765 0.53333336 0.5254902 0.5137255 0.5137255 0.4862745 0.54901963 0.54509807 0.50980395 0.4392157 0.46666667 0.4745098 0.42352942 0.3764706 0.44313726 0.5294118 0.67058825 0.79607844 0.7294118 0.5372549 0.5137255 0.6666667; 0.61960787 0.48235294 0.4627451 0.49019608 0.34117648 0.2627451 0.3764706 0.39607844 0.46666667 0.5176471 0.53333336 0.52156866 0.5294118 0.5568628 0.52156866 0.49019608 0.53333336 0.5686275 0.49803922 0.39215687 0.4745098 0.5058824 0.44313726 0.4 0.54901963 0.7411765 0.84313726 0.80784315 0.6784314 0.627451 0.72156864 0.84705883; 0.59607846 0.46666667 0.47058824 0.4745098 0.29411766 0.13725491 0.34901962 0.49411765 0.49019608 0.5019608 0.50980395 0.5176471 0.53333336 0.53333336 0.5019608 0.49411765 0.4745098 0.5568628 0.5372549 0.3882353 0.42352942 0.5411765 0.5803922 0.62352943 0.73333335 0.827451 0.7294118 0.4862745"
     ]
    },
    {
     "name": "stdout",
     "output_type": "stream",
     "text": [
      " 0.21960784 0.21960784 0.38039216 0.5921569; 0.5803922 0.47843137 0.42745098 0.36862746 0.2627451 0.1254902 0.25882354 0.4 0.5254902 0.52156866 0.5254902 0.52156866 0.52156866 0.5411765 0.50980395 0.4862745 0.44705883 0.5019608 0.5921569 0.54901963 0.53333336 0.7019608 0.78039217 0.74509805 0.6039216 0.53333336 0.45882353 0.2784314 0.12941177 0.20784314 0.3254902 0.48235294;;; 0.24313726 0.078431375 0.09411765 0.09803922 0.1254902 0.1882353 0.27058825 0.32156864 0.39215687 0.47058824 0.47843137 0.44705883 0.4509804 0.5137255 0.4509804 0.45490196 0.4509804 0.43529412 0.44705883 0.4117647 0.40784314 0.40784314 0.4 0.40392157 0.41960785 0.5019608 0.6156863 0.68235296 0.7137255 0.6666667 0.54509807 0.5647059; 0.18039216 0.0 0.02745098 0.078431375 0.1254902 0.20784314 0.29411766 0.29803923 0.32156864 0.4392157 0.45882353 0.42745098 0.41568628 0.46666667 0.42745098 0.39215687 0.37254903 0.34509805 0.29411766 0.32156864 0.3137255 0.29803923 0.3137255 0.34117648 0.3137255 0.34509805 0.5058824 0.53333336 0.5882353 0.6 0.48235294 0.5058824; 0.1882353 0.03137255 0.105882354 0.21176471 0.25490198 0.28627452 0.33333334 0.3529412 0.35686275 0.44705883 0.45882353 0.42745098 0.4117647 0.41960785 0.42352942 0.39215687 0.38039216 0.3882353 0.3137255 0.3529412 0.3372549 0.33333334 0.34901962 0.34901962 0.34509805 0.33333334 0.39215687 0.47843137 0.5803922 0.6313726 0.5647059 0.5568628; 0.21176471 0.105882354 0.19607843 0.24705882 0.30980393 0.32156864 0.32941177 0.38039216 0.34117648 0.39215687 0.42352942 0.38039216 0.4117647 0.4 0.4117647 0.39215687 0.3882353 0.40392157 0.3529412 0.36078432 0.33333334 0.31764707 0.34117648 0.3764706 0.3882353 0.34509805 0.30980393 0.43529412 0.54509807 0.6156863 0.6 0.58431375; 0.28627452 0.2 0.28235295 0.27450982 0.3019608 0.34509805 0.34509805 0.34509805 0.31764707 0.34901962 0.39215687 0.36078432 0.43137255 0.36078432 0.37254903 0.3764706 0.34117648 0.34901962 0.35686275 0.34901962 0.3372549 0.31764707 0.3529412 0.42745098 0.40784314 0.3529412 0.29803923 0.34509805 0.47058824 0.57254905 0.61960787 0.65882355; 0.35686275 0.32156864 0.36078432 0.2901961 0.3019608 0.32941177 0.3254902 0.31764707 0.32156864 0.3372549 0.39215687 0.36862746 0.34901962 0.23137255 0.18431373 0.16470589 0.15686275 0.2509804 0.3254902 0.37254903 0.4 0.45882353 0.43529412 0.41568628 0.42745098 0.36862746 0.34509805 0.32156864 0.40392157 0.5294118 0.6431373 0.7411765; 0.41960785 0.34901962 0.3647059 0.28235295 0.30588236 0.32941177 0.2901961 0.3529412 0.33333334 0.3372549 0.4 0.32941177 0.21960784 0.17254902 0.22352941 0.16862746 0.23137255 0.28627452 0.22745098 0.5686275 0.76862746 0.4627451 0.35686275 0.40784314 0.4392157 0.42352942 0.38431373 0.36862746 0.39215687 0.4745098 0.6 0.7490196; 0.43137255 0.3372549 0.32156864 0.24313726 0.2901961 0.3019608 0.2901961 0.34901962 0.33333334 0.35686275 0.4 0.2901961 0.23921569 0.20392157 0.26666668 0.19607843 0.27058825 0.40784314 0.6039216 0.8901961 0.9098039 0.5529412 0.38039216 0.40784314 0.45882353 0.45882353 0.41568628 0.39215687 0.42352942 0.41960785 0.5372549 0.70980394; 0.45882353 0.34117648 0.3019608 0.26666668 0.28235295 0.27450982 0.3254902 0.3372549 0.3137255 0.38039216 0.43529412 0.40392157 0.3137255 0.18431373 0.2 0.25490198 0.4745098 0.70980394 0.8862745 0.96862745 0.78039217 0.6509804 0.53333336 0.4745098 0.5137255 0.47058824 0.41568628 0.37254903 0.4117647 0.37254903 0.4627451 0.6392157; 0.47058824 0.30980393 0.30588236 0.32941177 0.34509805 0.32156864 0.36862746 0.34901962 0.38039216 0.38039216 0.34117648 0.3254902 0.22352941 0.21568628 0.31764707 0.57254905 0.8 0.9529412 0.9529412 0.8352941 0.6784314 0.6117647 0.53333336 0.48235294 0.5686275 0.53333336 0.3882353 0.36078432 0.38431373 0.34117648 0.3882353 0.56078434; 0.40392157 0.27450982 0.30980393 0.3529412 0.34901962 0.31764707 0.30980393 0.35686275 0.36862746 0.23529412 0.15686275 0.23529412 0.30980393 0.41568628 0.59607846 0.7490196 0.7137255 0.5764706 0.5254902 0.53333336 0.5058824 0.5254902 0.5921569 0.5529412 0.4862745 0.4627451 0.34117648 0.30588236 0.34509805 0.3647059 0.38039216 0.5176471; 0.3882353 0.2627451 0.29411766 0.29411766 0.26666668 0.25490198 0.30980393 0.27450982 0.16470589 0.13725491 0.20784314 0.3372549 0.5882353 0.6901961 0.5803922 0.36862746 0.3529412 0.46666667 0.5176471 0.4745098 0.40784314 0.4509804 0.627451 0.68235296 0.65882355 0.43137255 0.32156864 0.34117648 0.36078432 0.38431373 0.38039216 0.5019608; 0.4509804 0.27450982 0.28627452 0.3019608 0.2784314 0.28235295 0.2784314 0.15294118 0.09803922 0.12941177 0.1764706 0.30588236 0.48235294 0.5372549 0.39607844 0.4117647 0.52156866 0.6901961 0.8392157 0.7137255 0.57254905 0.5803922 0.6156863 0.65882355 0.77254903 0.58431375 0.42745098 0.3882353 0.4 0.37254903 0.36078432 0.49803922; 0.4392157 0.2901961 0.36078432 0.4117647 0.3254902 0.3019608 0.19607843 0.101960786 0.11372549 0.15294118 0.21960784 0.45490196 0.5882353 0.61960787 0.63529414 0.6117647 0.6156863 0.77254903 0.85490197 0.6627451 0.5686275 0.6 0.5137255 0.69411767 0.6862745 0.4745098 0.4745098 0.39607844 0.39607844 0.3882353 0.3647059 0.48235294; 0.4117647 0.27450982 0.34117648 0.35686275 0.30588236 0.2901961 0.16862746 0.08627451 0.11372549 0.19607843 0.35686275 0.4509804 0.6627451 0.84705883 0.78431374 0.6509804 0.7372549 0.8117647 0.6627451 0.34901962 0.3372549 0.42352942 0.42352942 0.4392157 0.64705884 0.48235294 0.3882353 0.36862746 0.34901962 0.35686275 0.35686275 0.44705883; 0.38039216 0.28235295 0.36078432 0.32941177 0.26666668 0.25490198 0.16078432 0.12156863 0.15294118 0.20784314 0.32941177 0.39215687 0.5803922 0.7529412 0.8901961 0.91764706 0.8862745 0.85490197 0.627451 0.38431373 0.4 0.37254903 0.38039216 0.3764706 0.5647059 0.50980395 0.34509805 0.3254902 0.32156864 0.34901962 0.35686275 0.47058824; 0.41568628 0.30980393 0.34901962 0.29803923 0.25490198 0.24313726 0.2 0.4 0.41568628 0.27450982 0.34117648 0.45490196 0.6431373 0.7372549 0.8901961 0.99215686 0.92941177 0.83137256 0.57254905 0.35686275 0.41568628 0.4117647 0.39607844 0.4 0.41568628 0.42745098 0.34117648 0.32156864 0.31764707 0.3529412 0.37254903 0.4862745; 0.41568628 0.2784314 0.33333334 0.29803923 0.2901961 0.24705882 0.21960784 0.49803922 0.42745098 0.2509804 0.28627452 0.38039216 0.63529414 0.7372549 0.8627451 0.9882353 0.9137255 0.7294118 0.46666667 0.44705883 0.5137255 0.43137255 0.41568628 0.36862746 0.32156864 0.35686275 0.42352942 0.36862746 0.34509805 0.4 0.3882353 0.45490196; 0.38039216 0.27058825 0.30980393 0.34117648 0.3137255 0.21960784 0.14509805 0.29803923 0.3529412 0.30980393 0.32156864 0.4745098 0.6431373 0.69411767 0.85882354 0.91764706 0.8784314 0.6392157 0.45490196 0.49803922 0.42352942 0.4 0.43137255 0.41960785 0.38039216 0.33333334 0.41568628 0.42352942 0.39215687 0.41568628 0.38431373 0.40784314; 0.44313726 0.34901962 0.33333334 0.31764707 0.3137255 0.22745098 0.14117648 0.15686275 0.22745098 0.29411766 0.33333334 0.43137255 0.56078434 0.68235296 0.77254903 0.8509804 0.8509804 0.61960787 0.4862745 0.3882353 0.36862746 0.4 0.42352942 0.43529412 0.4392157 0.34509805 0.3529412 0.40784314 0.40784314 0.40392157 0.3764706 0.40392157; 0.4392157 0.36078432 0.37254903 0.36078432 0.3647059 0.26666668 0.14509805 0.14901961 0.16470589 0.22745098 0.36078432 0.5882353 0.61960787 0.67058825 0.7490196 0.8156863 0.70980394 0.67058825 0.6156863 0.49411765 0.44313726 0.39607844 0.40784314 0.42745098 0.42745098 0.32941177 0.37254903 0.37254903 0.39607844 0.43137255 0.3647059 0.4117647; 0.4117647 0.33333334 0.3764706 0.3882353 0.41568628 0.27058825 0.2 0.20784314 0.16862746 0.21176471 0.5058824 0.654902 0.5921569 0.6627451 0.81960785 0.76862746 0.5372549 0.6156863 0.7647059 0.7176471 0.5882353 0.39607844 0.4117647 0.39607844 0.2901961 0.3254902 0.43137255 0.35686275 0.30588236 0.36862746 0.32941177 0.37254903; 0.4117647 0.34901962 0.4 0.3882353 0.37254903 0.21176471 0.3647059 0.3019608 0.15294118 0.1882353 0.3882353 0.57254905 0.4745098 0.63529414 0.80784315 0.8509804 0.75686276 0.654902 0.7764706 0.89411765 0.7176471 0.43137255 0.40784314 0.29803923 0.16862746 0.36078432 0.44313726 0.40392157 0.33333334 0.29803923 0.3137255 0.3529412; 0.42352942 0.32156864 0.3529412 0.3647059 0.38431373 0.2901961 0.26666668 0.21960784 0.13725491 0.14901961 0.23921569 0.30588236 0.3254902 0.5372549 0.8156863 0.94509804 0.94509804 0.85490197 0.8666667 0.88235295 0.67058825 0.41568628 0.4 0.23529412 0.19607843 0.4117647 0.41960785 0.4117647 0.39607844 0.32941177 0.28235295 0.35686275; 0.47058824 0.30980393 0.34901962 0.3372549 0.36078432 0.3764706 0.3372549 0.31764707 0.2627451 0.24705882 0.2627451 0.24705882 0.3019608 0.4627451 0.7529412 0.8980392 0.84705883 0.80784315 0.83137256 0.76862746 0.6862745 0.43529412 0.3764706 0.23921569 0.28627452 0.42352942 0.4392157 0.42352942 0.41960785 0.4 0.31764707 0.3764706; 0.5137255 0.34901962 0.34901962 0.35686275 0.32941177 0.38039216 0.41568628 0.40392157 0.3764706 0.35686275 0.3529412 0.3764706 0.34117648 0.37254903 0.4627451 0.5176471 0.5568628 0.52156866 0.49019608 0.45882353 0.4862745 0.44313726 0.40392157 0.3882353 0.45882353 0.4392157 0.4117647 0.42745098 0.4392157 0.40392157 0.2627451 0.34117648; 0.53333336 0.35686275 0.36078432 0.3529412 0.30980393 0.3137255 0.34117648 0.37254903 0.38039216 0.36078432 0.34117648 0.37254903 0.35686275 0.3764706 0.34901962 0.37254903 0.49803922 0.45490196 0.33333334 0.29803923 0.28235295 0.39215687 0.49411765 0.5568628 0.5254902 0.4117647 0.3647059 0.39607844 0.39607844 0.27058825 0.12156863 0.2627451; 0.5058824 0.36862746 0.4117647 0.3647059 0.30980393 0.26666668 0.26666668 0.29803923 0.35686275 0.3647059 0.35686275 0.3647059 0.3647059 0.3529412 0.37254903 0.38039216 0.5058824 0.4509804 0.31764707 0.29411766 0.31764707 0.43529412 0.5294118 0.5529412 0.45490196 0.36078432 0.3529412 0.41960785 0.34117648 0.09411765 0.019607844 0.30588236; 0.50980395 0.3764706 0.36862746 0.3529412 0.2627451 0.21176471 0.23137255 0.27058825 0.34901962 0.3647059 0.38039216 0.37254903 0.3647059 0.36078432 0.37254903 0.36078432 0.48235294 0.45490196 0.3254902 0.25882354 0.34509805 0.4627451 0.52156866 0.4745098 0.3882353 0.4 0.5137255 0.654902 0.60784316 0.4117647 0.36862746 0.54901963; 0.5176471 0.34509805 0.32941177 0.34117648 0.22352941 0.15294118 0.24705882 0.25882354 0.3254902 0.3647059 "
     ]
    },
    {
     "name": "stdout",
     "output_type": "stream",
     "text": [
      "0.37254903 0.3529412 0.35686275 0.38431373 0.38039216 0.35686275 0.45490196 0.48235294 0.3372549 0.25490198 0.36078432 0.45490196 0.47843137 0.44313726 0.4745098 0.62352943 0.7176471 0.6784314 0.5647059 0.52156866 0.5803922 0.72156864; 0.49019608 0.3254902 0.32941177 0.33333334 0.18431373 0.039215688 0.23921569 0.36078432 0.3372549 0.3372549 0.3372549 0.34117648 0.34901962 0.34901962 0.34901962 0.34509805 0.37254903 0.46666667 0.4117647 0.2901961 0.32156864 0.45490196 0.53333336 0.58431375 0.64705884 0.70980394 0.60784316 0.3647059 0.11372549 0.12156863 0.24313726 0.4627451; 0.4862745 0.34117648 0.28627452 0.24313726 0.16470589 0.050980393 0.18431373 0.2901961 0.37254903 0.36078432 0.3647059 0.36078432 0.35686275 0.38039216 0.36078432 0.34509805 0.32156864 0.4 0.5019608 0.4745098 0.46666667 0.63529414 0.72156864 0.68235296 0.5176471 0.41960785 0.3372549 0.1882353 0.07450981 0.13333334 0.20784314 0.36078432;;; 0.24705882 0.078431375 0.08235294 0.06666667 0.08235294 0.11372549 0.15686275 0.19215687 0.26666668 0.34901962 0.36862746 0.34901962 0.3372549 0.38431373 0.30980393 0.30980393 0.30980393 0.29803923 0.3137255 0.28235295 0.25882354 0.2509804 0.25490198 0.28235295 0.2901961 0.29803923 0.32156864 0.34117648 0.35686275 0.3764706 0.3764706 0.45490196; 0.1764706 0.0 0.0 0.015686275 0.043137256 0.09411765 0.14117648 0.12941177 0.16078432 0.3019608 0.32156864 0.28627452 0.27058825 0.32156864 0.25882354 0.21176471 0.19215687 0.18431373 0.14509805 0.16078432 0.14901961 0.1254902 0.13725491 0.17254902 0.14509805 0.07058824 0.101960786 0.0627451 0.08627451 0.13333334 0.16470589 0.36862746; 0.16862746 0.0 0.03137255 0.09803922 0.13333334 0.14509805 0.16862746 0.18431373 0.2 0.32156864 0.32156864 0.27058825 0.26666668 0.2901961 0.26666668 0.21568628 0.2 0.23921569 0.1882353 0.2 0.19215687 0.1882353 0.18039216 0.16470589 0.1882353 0.13725491 0.09803922 0.07450981 0.09411765 0.101960786 0.11764706 0.34117648; 0.16470589 0.03137255 0.09019608 0.10980392 0.15294118 0.14901961 0.14901961 0.20784314 0.1882353 0.25490198 0.27450982 0.21568628 0.2509804 0.25490198 0.25490198 0.2 0.2 0.25882354 0.22352941 0.20784314 0.18039216 0.16862746 0.17254902 0.20392157 0.23137255 0.1882353 0.13333334 0.13725491 0.10980392 0.105882354 0.09803922 0.2627451; 0.20392157 0.08235294 0.16078432 0.12941177 0.14117648 0.1764706 0.17254902 0.1882353 0.17254902 0.20784314 0.2509804 0.22352941 0.2901961 0.23137255 0.24313726 0.21176471 0.19215687 0.23529412 0.21960784 0.19215687 0.1764706 0.15294118 0.19607843 0.28235295 0.24705882 0.1764706 0.16078432 0.13333334 0.101960786 0.13333334 0.13333334 0.26666668; 0.24705882 0.16862746 0.21176471 0.13725491 0.14117648 0.16470589 0.15686275 0.15686275 0.16862746 0.19607843 0.25882354 0.25490198 0.25490198 0.14117648 0.08235294 0.08235294 0.08235294 0.14901961 0.1882353 0.2 0.23137255 0.29803923 0.2784314 0.2509804 0.24313726 0.19215687 0.19215687 0.13725491 0.11764706 0.1254902 0.14117648 0.29803923; 0.29411766 0.1764706 0.21568628 0.14509805 0.15686275 0.16862746 0.11764706 0.18431373 0.17254902 0.1882353 0.26666668 0.21568628 0.13333334 0.08627451 0.1254902 0.12156863 0.16078432 0.16862746 0.1254902 0.43137255 0.6313726 0.33333334 0.20392157 0.22745098 0.2627451 0.26666668 0.20784314 0.19215687 0.2 0.16470589 0.1254902 0.28235295; 0.3137255 0.17254902 0.18431373 0.12941177 0.15294118 0.14509805 0.12156863 0.18039216 0.17254902 0.20392157 0.25882354 0.16470589 0.12941177 0.09411765 0.15686275 0.13333334 0.14509805 0.25882354 0.5411765 0.8039216 0.8235294 0.4627451 0.23921569 0.22352941 0.30588236 0.3254902 0.21960784 0.20784314 0.29411766 0.20392157 0.1254902 0.27450982; 0.34901962 0.19607843 0.16862746 0.12941177 0.13333334 0.12941177 0.18039216 0.1882353 0.15686275 0.23529412 0.31764707 0.27450982 0.17254902 0.07450981 0.101960786 0.14509805 0.29411766 0.54901963 0.83137256 0.92156863 0.7294118 0.5764706 0.40784314 0.31764707 0.3764706 0.32156864 0.22745098 0.20784314 0.28627452 0.19215687 0.14901961 0.30980393; 0.3647059 0.17254902 0.17254902 0.1764706 0.19215687 0.17254902 0.21176471 0.18039216 0.21176471 0.26666668 0.26666668 0.21568628 0.09019608 0.09803922 0.1764706 0.43137255 0.6509804 0.83137256 0.8980392 0.7607843 0.5921569 0.5176471 0.41960785 0.34117648 0.41960785 0.39215687 0.24705882 0.2 0.22352941 0.18039216 0.14901961 0.32156864; 0.3019608 0.14509805 0.18039216 0.20784314 0.2 0.15294118 0.13333334 0.18039216 0.20784314 0.11764706 0.050980393 0.05490196 0.07450981 0.19607843 0.44313726 0.6627451 0.6156863 0.4509804 0.40784314 0.39215687 0.36078432 0.3882353 0.4627451 0.4117647 0.32941177 0.34509805 0.23137255 0.13333334 0.14901961 0.22352941 0.19215687 0.3372549; 0.29803923 0.13725491 0.1764706 0.15686275 0.12156863 0.09803922 0.15294118 0.15294118 0.078431375 0.03529412 0.06666667 0.08627451 0.23137255 0.36078432 0.41960785 0.2784314 0.21960784 0.28627452 0.34509805 0.28627452 0.21568628 0.27058825 0.47058824 0.5411765 0.52156866 0.29411766 0.17254902 0.16078432 0.18431373 0.24313726 0.21960784 0.36078432; 0.35686275 0.14117648 0.14901961 0.14901961 0.12941177 0.12156863 0.13333334 0.07450981 0.0627451 0.0627451 0.06666667 0.09019608 0.16078432 0.22352941 0.2 0.24705882 0.32941177 0.5058824 0.69411767 0.5411765 0.3764706 0.3882353 0.44313726 0.5176471 0.65882355 0.43137255 0.23529412 0.20392157 0.24313726 0.21568628 0.20392157 0.36862746; 0.3372549 0.13725491 0.1882353 0.22745098 0.16470589 0.12156863 0.05490196 0.039215688 0.0627451 0.078431375 0.11764706 0.3019608 0.38431373 0.40392157 0.4745098 0.4392157 0.43137255 0.6431373 0.7647059 0.5294118 0.4117647 0.43137255 0.34901962 0.5529412 0.5803922 0.3372549 0.3019608 0.22352941 0.23529412 0.22352941 0.20392157 0.36078432; 0.30980393 0.12941177 0.18431373 0.18431373 0.15294118 0.13333334 0.06666667 0.05490196 0.07058824 0.11764706 0.22352941 0.27058825 0.47843137 0.6901961 0.6666667 0.5294118 0.6117647 0.7019608 0.5568628 0.21568628 0.18431373 0.25882354 0.25490198 0.2901961 0.52156866 0.34117648 0.23137255 0.21176471 0.2 0.2 0.2 0.32941177; 0.2784314 0.14509805 0.21960784 0.1764706 0.11372549 0.105882354 0.06666667 0.06666667 0.05882353 0.101960786 0.19215687 0.20392157 0.3882353 0.58431375 0.76862746 0.83137256 0.8156863 0.76862746 0.5137255 0.23529412 0.22745098 0.19215687 0.20784314 0.21568628 0.41960785 0.36078432 0.2 0.1882353 0.19215687 0.20392157 0.20784314 0.3529412; 0.30980393 0.17254902 0.21960784 0.15686275 0.09019608 0.08235294 0.08235294 0.27058825 0.21960784 0.12941177 0.21176471 0.28627452 0.43137255 0.5019608 0.7294118 0.9098039 0.8862745 0.7647059 0.4509804 0.1882353 0.23137255 0.21960784 0.20392157 0.21960784 0.2509804 0.2784314 0.20392157 0.2 0.2 0.21176471 0.22745098 0.3647059; 0.29803923 0.12941177 0.2 0.16078432 0.14509805 0.1254902 0.09019608 0.31764707 0.24313726 0.14509805 0.14509805 0.22352941 0.4509804 0.47058824 0.64705884 0.85882354 0.84313726 0.6509804 0.33333334 0.24705882 0.30588236 0.22745098 0.22352941 0.18431373 0.15686275 0.2 0.27450982 0.23529412 0.20392157 0.22745098 0.23529412 0.35686275; 0.2509804 0.105882354 0.16862746 0.20392157 0.19215687 0.14901961 0.0627451 0.18431373 0.2784314 0.23921569 0.18039216 0.32156864 0.4627451 0.4392157 0.6392157 0.77254903 0.7882353 0.5411765 0.30980393 0.2901961 0.21176471 0.2 0.23921569 0.23921569 0.20392157 0.16862746 0.25490198 0.27058825 0.23529412 0.23529412 0.23529412 0.3254902; 0.30588236 0.18039216 0.18431373 0.16862746 0.16078432 0.14117648 0.07450981 0.09019608 0.19215687 0.22352941 0.22352941 0.2784314 0.35686275 0.4392157 0.5647059 0.7058824 0.7529412 0.5019608 0.3254902 0.19607843 0.1764706 0.21176471 0.23921569 0.25490198 0.25882354 0.16862746 0.1882353 0.24705882 0.25490198 0.23921569 0.21960784 0.3019608; 0.29411766 0.18039216 0.21176471 0.2 0.19607843 0.16470589 0.07058824 0.06666667 0.105882354 0.16078432 0.29803923 0.44313726 0.38039216 0.43137255 0.54509807 0.6666667 0.59607846 0.53333336 0.43137255 0.30980393 0.2627451 0.21568628 0.23137255 0.24705882 0.23921569 0.14509805 0.19607843 0.20784314 0.23529412 0.2509804 0.16862746 0.27058825; 0.27058825 0.15294118 0.21568628 0.22745098 0.25882354 0.18039216 0.12156863 0.11764706 0.09411765 0.12941177 0.41568628 0.48235294 0.34509805 0.42745098 0.6156863 0.627451 0.39215687 0.4117647 0.5529412 0.5568628 0.4392157 0.23529412 0.23137255 0.21568628 0.11372549 0.14117648 0.24705882 0.18039216 0.14117648 0.18039216 0.12941177 0.21568628; 0.2901961 0.18431373 0.24313726 0.22352941 0.22745098 0.14117648 0.3254902 0.24313726 0.09411765 0.09411765 0.20784314 0.36862746 0.29803923 0.44705883 0.6431373 0.77254903 0.6039216 0.4117647 0.59607846 0.79607844 0.627451 0.2901961 0.23137255 0.14901961 0.05490196 0.20392157 0.25490198 0.22352941 0.16078432 0.12941177 0.14901961 0.23137255; 0.3019608 0.16078432 0.2 0.20392157 0.25882354 0.28235295 0.3137255 0.21568628 0.08627451 0.08235294 0.101960786 0.15686275 0.19607843 0.39215687 0.70980394 0.8980392 0.84705883 0.70980394 0.77254903 0.8235294 0.5764706 0.25490198 0.23529412 0.13333334 0.09803922 0.25882354 0.24705882 0.23137255 0.21568628 0.15294118 0.11372549 0.22745098; 0.34901962 0.14509805 0.19215687 0.17254902 0.2 0.30980393 0.30980393 0.23529412 0.14117648 0.1254902 0.09803922 0.09803922 0.14901961 0.29803923 0.6117647 0.7647059 0.6784314 0.6313726 0.6901961 0.6627451 0.57254905 0.26666668 0.1882353 0.09019608 0.12941177 0.24313726 0.2627451 0.24313726 0.23921569 0.22745098 0.15294118 0.25490198; 0.39215687 0.1882353 0.19607843 0.19607843 0.1764706 0.2509804 0.27058825 0.23921569 0.23137255 0.20784314 0.16078432 0.20392157 0.2 0.22352941 0.30588236 0.30588236 0.30588236 0.2784314 0.24705882 0.2509804 0.3372549 0.2784314 0.15294118 0.09803922 0.18431373 0.20392157 0.21176471 0.24705882 0.26666668 0.24313726 0.11764706 0.23137255; 0.42352942 0.20784314 0.20784314 0.19215687 0.16078432 0.1764706 0.19215687 0.21176471 0.22745098 0.20784314 0.1764706 0.23137255 0.23921569 0.25882354 0.22352941 0.19215687 0.23529412 0.16862746 0.0627451 0.047058824 0.101960786 0.14509805 0.11764706 0.13333334 0.15294118 0.15294118 0.17254902 0.21176471 0.23137255 0.15686275 0.043137256 0.18039216; 0.4 0.22745098 0.26666668 0.2 0.15686275 0.13333334 0.14117648 0.15294118 0.19215687 0.19607843 0.2 0.21960784 0.23529412 0.23137255"
     ]
    },
    {
     "name": "stdout",
     "output_type": "stream",
     "text": [
      " 0.24313726 0.22745098 0.24313726 0.13333334 0.050980393 0.0627451 0.13333334 0.12156863 0.05490196 0.078431375 0.12156863 0.15294118 0.18039216 0.22352941 0.18039216 0.043137256 0.0 0.22352941; 0.40784314 0.23529412 0.22745098 0.19607843 0.1254902 0.09411765 0.11372549 0.13333334 0.1882353 0.20392157 0.22352941 0.22352941 0.22352941 0.21960784 0.23529412 0.20392157 0.21568628 0.12941177 0.050980393 0.05490196 0.16862746 0.13725491 0.03137255 0.015686275 0.09411765 0.17254902 0.27450982 0.4 0.38431373 0.23529412 0.22352941 0.40784314; 0.42352942 0.21568628 0.19607843 0.19607843 0.105882354 0.05882353 0.14509805 0.12941177 0.16862746 0.20392157 0.21568628 0.2 0.20392157 0.23529412 0.23529412 0.19215687 0.18039216 0.14901961 0.0627451 0.05882353 0.19607843 0.15294118 0.039215688 0.03529412 0.16470589 0.34117648 0.41568628 0.4117647 0.34117648 0.27450982 0.36862746 0.54901963; 0.4 0.19607843 0.19607843 0.1882353 0.09019608 0.0 0.14901961 0.23137255 0.1764706 0.1764706 0.18039216 0.18039216 0.1882353 0.1882353 0.19607843 0.18039216 0.11764706 0.13725491 0.105882354 0.07450981 0.14117648 0.1764706 0.17254902 0.24705882 0.35686275 0.44705883 0.35686275 0.19215687 0.03529412 0.02745098 0.13333334 0.32941177; 0.40392157 0.22352941 0.16470589 0.13725491 0.09803922 0.015686275 0.11764706 0.18039216 0.21960784 0.21568628 0.22352941 0.21960784 0.21960784 0.23921569 0.21960784 0.21176471 0.15686275 0.16078432 0.21176471 0.21176471 0.19607843 0.3254902 0.4 0.3882353 0.29411766 0.22745098 0.1882353 0.101960786 0.03529412 0.078431375 0.13333334 0.28235295], [0.6039216 0.54901963 0.54901963 0.53333336 0.5058824 0.53333336 0.57254905 0.63529414 0.49803922 0.2784314 0.19215687 0.23137255 0.32941177 0.3254902 0.3254902 0.57254905 0.77254903 0.80784315 0.85882354 0.54509807 0.27450982 0.60784316 0.63529414 0.58431375 0.68235296 0.6117647 0.654902 0.68235296 0.6431373 0.6862745 0.64705884 0.6392157; 0.49411765 0.5686275 0.54509807 0.5372549 0.5529412 0.53333336 0.4862745 0.43137255 0.27450982 0.2901961 0.38431373 0.40392157 0.40784314 0.3882353 0.40392157 0.7058824 0.9411765 0.9882353 0.9843137 0.53333336 0.3372549 0.63529414 0.4862745 0.22745098 0.37254903 0.5921569 0.5803922 0.5529412 0.5529412 0.6117647 0.6117647 0.61960787; 0.4117647 0.49019608 0.4509804 0.47843137 0.53333336 0.49803922 0.34509805 0.24705882 0.14509805 0.28235295 0.4117647 0.34901962 0.31764707 0.2784314 0.3372549 0.6039216 0.90588236 0.9843137 0.94509804 0.46666667 0.33333334 0.59607846 0.43137255 0.11372549 0.22352941 0.6 0.4 0.17254902 0.4509804 0.6039216 0.62352943 0.6392157; 0.4 0.4862745 0.5764706 0.5176471 0.7294118 0.6 0.33333334 0.28627452 0.13333334 0.31764707 0.48235294 0.4392157 0.34901962 0.34509805 0.45882353 0.70980394 0.9490196 0.9843137 0.9411765 0.41960785 0.14117648 0.1882353 0.18431373 0.12156863 0.23921569 0.627451 0.4862745 0.16862746 0.44313726 0.5764706 0.5137255 0.5686275; 0.49019608 0.5882353 0.5411765 0.5921569 0.84313726 0.5411765 0.34117648 0.22745098 0.18431373 0.47843137 0.5803922 0.5411765 0.4627451 0.4117647 0.6156863 0.85882354 0.9411765 0.9764706 0.9137255 0.42745098 0.2627451 0.36078432 0.34117648 0.16078432 0.2509804 0.6431373 0.5764706 0.22352941 0.45490196 0.60784316 0.36862746 0.16862746; 0.60784316 0.59607846 0.5176471 0.70980394 0.7921569 0.47058824 0.32941177 0.18039216 0.33333334 0.6313726 0.56078434 0.50980395 0.44313726 0.3882353 0.6627451 0.9529412 0.9490196 0.98039216 0.87058824 0.4 0.34117648 0.36862746 0.29411766 0.16078432 0.25882354 0.6509804 0.5568628 0.20392157 0.44705883 0.6313726 0.4 0.07450981; 0.6745098 0.68235296 0.6666667 0.79607844 0.6431373 0.3647059 0.29411766 0.18431373 0.5058824 0.61960787 0.44705883 0.48235294 0.44705883 0.34901962 0.6745098 0.9647059 0.972549 0.9882353 0.84705883 0.30980393 0.20392157 0.23921569 0.24313726 0.14509805 0.25490198 0.6431373 0.49019608 0.17254902 0.44313726 0.627451 0.42352942 0.078431375; 0.7058824 0.69803923 0.69803923 0.8156863 0.5882353 0.38431373 0.30588236 0.12156863 0.40784314 0.5019608 0.42352942 0.4745098 0.4117647 0.36862746 0.6313726 0.9137255 0.9843137 0.98039216 0.81960785 0.29803923 0.1882353 0.21568628 0.24705882 0.14509805 0.2784314 0.654902 0.49019608 0.1882353 0.45490196 0.654902 0.5019608 0.2901961; 0.5568628 0.5254902 0.67058825 0.8156863 0.5411765 0.40392157 0.27058825 0.05882353 0.28627452 0.3647059 0.37254903 0.42352942 0.39215687 0.41960785 0.6 0.8862745 0.98039216 0.972549 0.8039216 0.36862746 0.3372549 0.4862745 0.46666667 0.19607843 0.2784314 0.63529414 0.5058824 0.30980393 0.4862745 0.64705884 0.6039216 0.5254902; 0.43529412 0.43137255 0.7529412 0.79607844 0.46666667 0.3764706 0.20784314 0.07450981 0.36862746 0.38431373 0.39607844 0.41960785 0.40784314 0.5019608 0.63529414 0.8901961 0.9882353 0.972549 0.78431374 0.43529412 0.4117647 0.5529412 0.49411765 0.21960784 0.38039216 0.6 0.6117647 0.6784314 0.58431375 0.59607846 0.6117647 0.46666667; 0.41568628 0.52156866 0.85882354 0.7019608 0.36862746 0.3372549 0.15686275 0.15294118 0.49019608 0.5019608 0.49019608 0.45882353 0.44313726 0.5568628 0.7882353 0.9372549 0.98039216 0.9764706 0.7647059 0.4627451 0.34509805 0.5137255 0.40392157 0.40784314 0.65882355 0.58431375 0.7137255 0.8509804 0.627451 0.6392157 0.7137255 0.43137255; 0.42745098 0.6392157 0.91764706 0.6627451 0.42352942 0.46666667 0.21176471 0.24705882 0.5411765 0.52156866 0.5019608 0.49019608 0.5294118 0.6392157 0.9019608 0.9843137 0.96862745 0.9529412 0.7254902 0.41960785 0.60784316 0.90588236 0.61960787 0.59607846 0.70980394 0.5882353 0.60784316 0.6509804 0.5568628 0.6431373 0.7019608 0.3882353; 0.48235294 0.7529412 0.8980392 0.6431373 0.42352942 0.38039216 0.25490198 0.36078432 0.4509804 0.40784314 0.39607844 0.40392157 0.49019608 0.627451 0.9098039 0.99607843 0.9843137 0.9764706 0.6862745 0.27058825 0.60784316 0.94509804 0.5529412 0.49803922 0.654902 0.5176471 0.4745098 0.38039216 0.38431373 0.52156866 0.49019608 0.23921569; 0.49803922 0.85490197 0.9372549 0.49019608 0.1254902 0.18039216 0.33333334 0.4745098 0.47058824 0.46666667 0.4627451 0.45490196 0.4862745 0.5921569 0.8627451 0.92941177 0.9019608 0.8980392 0.67058825 0.21568628 0.5686275 0.9019608 0.49411765 0.36078432 0.33333334 0.2 0.28627452 0.30980393 0.15686275 0.23921569 0.3254902 0.105882354; 0.70980394 0.9411765 0.95686275 0.69803923 0.50980395 0.45882353 0.45882353 0.34509805 0.22745098 0.21176471 0.25882354 0.30588236 0.28235295 0.41568628 0.7058824 0.67058825 0.80784315 0.85490197 0.72156864 0.32941177 0.5764706 0.89411765 0.54509807 0.28627452 0.13725491 0.03529412 0.23921569 0.3764706 0.08235294 0.15686275 0.34509805 0.07058824; 0.8509804 0.9607843 0.9647059 0.9411765 0.94509804 0.79607844 0.5647059 0.47058824 0.2627451 0.14509805 0.13725491 0.16078432 0.16470589 0.25490198 0.5686275 0.7647059 0.84313726 0.8392157 0.77254903 0.34117648 0.44705883 0.8784314 0.6039216 0.2627451 0.23137255 0.18431373 0.2509804 0.29411766 0.21568628 0.23529412 0.24705882 0.06666667; 0.81960785 0.94509804 0.9098039 0.90588236 0.9254902 0.89411765 0.6862745 0.54509807 0.42352942 0.29411766 0.3019608 0.3137255 0.34901962 0.34901962 0.62352943 0.8901961 0.85490197 0.84313726 0.8352941 0.39607844 0.29803923 0.84705883 0.64705884 0.16078432 0.12941177 0.12941177 0.14509805 0.32156864 0.42352942 0.31764707 0.16862746 0.09803922; 0.6509804 0.93333334 0.88235295 0.827451 0.92156863 0.9137255 0.8352941 0.6039216 0.69411767 0.7529412 0.74509805 0.7411765 0.7490196 0.7372549 0.80784315 0.87058824 0.8509804 0.84313726 0.8666667 0.5254902 0.21960784 0.7607843 0.5372549 0.03137255 0.043137256 0.047058824 0.14509805 0.49019608 0.46666667 0.39215687 0.29411766 0.11372549; 0.6431373 0.91764706 0.92156863 0.7647059 0.827451 0.9254902 0.9098039 0.78039217 0.7372549 0.8862745 0.8862745 0.8784314 0.87058824 0.8627451 0.8784314 0.8745098 0.8509804 0.8392157 0.85490197 0.63529414 0.28235295 0.6392157 0.62352943 0.23529412 0.0627451 0.039215688 0.050980393 0.14509805 0.18039216 0.25490198 0.22745098 0.0627451; 0.61960787 0.8862745 0.9529412 0.7882353 0.7647059 0.92941177 0.9372549 0.92156863 0.9137255 0.9098039 0.9098039 0.9137255 0.9019608 0.8901961 0.88235295 0.8627451 0.84705883 0.84705883 0.85490197 0.7647059 0.60784316 0.6784314 0.70980394 0.6666667 0.5019608 0.23137255 0.15294118 0.16862746 0.1764706 0.23137255 0.1764706 0.019607844; 0.45490196 0.5568628 0.69411767 0.7176471 0.52156866 0.64705884 0.7058824 0.81960785 0.8156863 0.78039217 0.827451 0.8352941 0.84313726 0.84705883 0.84313726 0.8392157 0.83137256 0.83137256 0.8392157 0.8352941 0.8392157 0.74509805 0.5058824 0.29411766 0.33333334 0.3529412 0.32941177 0.30980393 0.27058825 0.24313726 0.13725491 0.023529412; 0.4 0.3764706 0.39607844 0.4745098 0.49019608 0.49411765 0.5019608 0.7529412 0.58431375 0.42745098 0.5529412 0.57254905 0.5686275 0.6313726 0.6627451 0.6745098 0.6627451 0.6509804 0.7019608 0.7529412 0.7764706 0.61960787 0.43529412 0.2784314 0.23137255 0.34509805 0.33333334 0.28627452 0.2784314 0.2 0.08235294 0.039215688; 0.37254903 0.3882353 0.39607844 0.35686275 0.4 0.4862745 0.4509804 0.57254905 0.7176471 0.5803922 0.6117647 0.64705884 0.6 0.62352943 0.64705884 0.6431373 0.63529414 0.6313726 0.627451 0.69411767 0.8039216 0.627451 0.42352942 0.22352941 0.2901961 0.3764706 0.32941177 0.28235295 0.27058825 0.17254902 0.05490196 0.09803922; 0.3529412 0.37254903 0.34509805 0.36862746 0.38431373 0.36078432 0.3254902 0.42352942 0.6627451 0.7529412 0.7607843 0.74509805 0.7490196 0.7372549 0.74509805 0.7372549 0.7137255 0.7137255 0.68235296 0.69411767 0.78039217 0.49411765 0.28235295 0.1882353 0.30980393 0.41568628 0.3764706 0.32941177 0.29411766 0.15294118 0.043137256 0.2; 0.28235295 0.34901962 0.40392157 0.35686275 0.34509805 0.34509805 0.2901961 0.39607844 0.44313726 0.61960787 0.79607844 0.72156864 0.7490196 0.79607844 0.8156863 0.8235294 0.8117647 0.8156863 0.80784315 0.7882353 0.7921569 0.7058824 0.38431373 0.14901961 0.34901962 0.3882353 0.35686275 0.34117648 0.30980393 0.16862746 0.05490196 0.26666668; 0.23529412 0.3137255 0.36862746 0.3019608 0.3137255 0.30588236 0.2784314 0.3882353 0.34901962 0.40784314 0.68235296 0.75686276 0.7019608 0.77254903 0.7647059 0.76862746 0.7764706 0.8039216 0.80784315 0.8 0.7921569 0.827451 0.5294118 0.14509805 0.2784314 0.21568628 0.24313726 "
     ]
    },
    {
     "name": "stdout",
     "output_type": "stream",
     "text": [
      "0.36862746 0.4627451 0.4 0.23137255 0.3529412; 0.21960784 0.25490198 0.25490198 0.27058825 0.3529412 0.34117648 0.3372549 0.38039216 0.32941177 0.27058825 0.3764706 0.6862745 0.72156864 0.70980394 0.78431374 0.78431374 0.7921569 0.8235294 0.8156863 0.81960785 0.8 0.80784315 0.5882353 0.1882353 0.20392157 0.2509804 0.2784314 0.28235295 0.3372549 0.21568628 0.19215687 0.45490196; 0.3019608 0.32941177 0.3254902 0.38039216 0.36862746 0.38431373 0.3372549 0.28627452 0.25490198 0.29411766 0.28235295 0.48235294 0.7254902 0.7058824 0.7372549 0.70980394 0.65882355 0.7019608 0.75686276 0.84705883 0.827451 0.8352941 0.64705884 0.20784314 0.1254902 0.19215687 0.16862746 0.16862746 0.33333334 0.1254902 0.21176471 0.5254902; 0.36862746 0.36078432 0.3529412 0.34509805 0.27058825 0.29803923 0.3529412 0.30980393 0.21960784 0.3137255 0.4 0.43529412 0.57254905 0.7607843 0.7176471 0.7254902 0.5372549 0.53333336 0.654902 0.7882353 0.8156863 0.827451 0.68235296 0.21960784 0.09411765 0.09803922 0.09803922 0.13333334 0.12156863 0.09019608 0.31764707 0.54901963; 0.35686275 0.3764706 0.30980393 0.29803923 0.2784314 0.2627451 0.3254902 0.36862746 0.34509805 0.34509805 0.3882353 0.40392157 0.4 0.63529414 0.7411765 0.7294118 0.76862746 0.6862745 0.6509804 0.76862746 0.8235294 0.83137256 0.7411765 0.27058825 0.07450981 0.15294118 0.24313726 0.40392157 0.3019608 0.16470589 0.40392157 0.56078434; 0.34117648 0.3019608 0.26666668 0.2509804 0.26666668 0.31764707 0.3019608 0.3254902 0.31764707 0.2627451 0.3647059 0.36078432 0.3137255 0.3372549 0.6509804 0.73333335 0.7294118 0.79607844 0.7921569 0.8039216 0.8156863 0.8235294 0.7607843 0.38039216 0.17254902 0.13333334 0.21960784 0.37254903 0.26666668 0.23921569 0.48235294 0.56078434; 0.30980393 0.2784314 0.2627451 0.2784314 0.34117648 0.35686275 0.31764707 0.2901961 0.24705882 0.21960784 0.30980393 0.37254903 0.3372549 0.25490198 0.3372549 0.57254905 0.6117647 0.6509804 0.70980394 0.78039217 0.8 0.8235294 0.8 0.6901961 0.60784316 0.34901962 0.34509805 0.4862745 0.36862746 0.3647059 0.5137255 0.56078434;;; 0.69411767 0.627451 0.60784316 0.5764706 0.5372549 0.5647059 0.6039216 0.6745098 0.5372549 0.29411766 0.18039216 0.22745098 0.34509805 0.34901962 0.33333334 0.5568628 0.7372549 0.78039217 0.8392157 0.53333336 0.2784314 0.627451 0.6509804 0.5764706 0.6666667 0.58431375 0.62352943 0.6431373 0.60784316 0.654902 0.6039216 0.5803922; 0.5372549 0.6 0.57254905 0.5568628 0.57254905 0.58431375 0.5411765 0.49019608 0.3529412 0.38431373 0.47843137 0.4745098 0.48235294 0.4627451 0.45490196 0.72156864 0.92941177 0.9607843 0.972549 0.5529412 0.3882353 0.7137255 0.5568628 0.24705882 0.37254903 0.5882353 0.5686275 0.5372549 0.54509807 0.6039216 0.59607846 0.5803922; 0.40784314 0.49019608 0.4509804 0.4745098 0.54509807 0.5803922 0.42745098 0.3019608 0.20392157 0.3647059 0.5058824 0.44313726 0.4117647 0.36078432 0.39215687 0.6156863 0.89411765 0.96862745 0.94509804 0.4862745 0.3764706 0.6627451 0.49803922 0.15294118 0.24705882 0.61960787 0.40784314 0.18039216 0.46666667 0.627451 0.6313726 0.6117647; 0.39607844 0.5058824 0.6 0.52156866 0.7294118 0.6745098 0.4117647 0.32156864 0.15294118 0.34117648 0.5176471 0.5137255 0.45882353 0.44705883 0.5058824 0.7176471 0.9529412 0.9843137 0.9411765 0.42745098 0.14901961 0.2 0.19607843 0.13333334 0.25490198 0.64705884 0.49411765 0.16078432 0.44313726 0.6 0.50980395 0.5294118; 0.5137255 0.6313726 0.5882353 0.6156863 0.8627451 0.627451 0.43137255 0.2784314 0.21176471 0.5058824 0.61960787 0.6039216 0.5764706 0.52156866 0.654902 0.8627451 0.9529412 0.98039216 0.9137255 0.42352942 0.25882354 0.3529412 0.32941177 0.14901961 0.25882354 0.65882355 0.5803922 0.2 0.42352942 0.6 0.34509805 0.1254902; 0.6509804 0.6431373 0.5686275 0.75686276 0.84705883 0.5529412 0.40392157 0.22352941 0.35686275 0.654902 0.5921569 0.56078434 0.54509807 0.49019608 0.6862745 0.94509804 0.95686275 0.9843137 0.8666667 0.39607844 0.33333334 0.36078432 0.28235295 0.15294118 0.27058825 0.6666667 0.56078434 0.18039216 0.4117647 0.6039216 0.36078432 0.03529412; 0.74509805 0.7372549 0.72156864 0.87058824 0.7372549 0.4509804 0.3529412 0.21568628 0.5176471 0.62352943 0.4509804 0.5176471 0.5372549 0.43529412 0.6901961 0.9411765 0.96862745 0.9882353 0.84705883 0.30588236 0.19607843 0.22745098 0.23137255 0.13725491 0.2627451 0.6627451 0.49411765 0.14509805 0.42352942 0.6392157 0.41960785 0.05490196; 0.78039217 0.7411765 0.7411765 0.8901961 0.69803923 0.4627451 0.36078432 0.16470589 0.43529412 0.5254902 0.44313726 0.50980395 0.49019608 0.4392157 0.63529414 0.8901961 0.9843137 0.9843137 0.81960785 0.29803923 0.1882353 0.21960784 0.24705882 0.14117648 0.29411766 0.6627451 0.4627451 0.14509805 0.4392157 0.6784314 0.5058824 0.26666668; 0.6117647 0.54509807 0.6901961 0.8745098 0.63529414 0.47058824 0.33333334 0.12941177 0.3529412 0.43529412 0.4392157 0.47843137 0.4745098 0.48235294 0.59607846 0.87058824 0.99215686 0.972549 0.8039216 0.38039216 0.36862746 0.5411765 0.5019608 0.20392157 0.3137255 0.6392157 0.45490196 0.27058825 0.48235294 0.64705884 0.58431375 0.49019608; 0.47058824 0.43529412 0.7647059 0.85882354 0.57254905 0.45490196 0.28235295 0.15686275 0.44705883 0.46666667 0.48235294 0.49803922 0.5137255 0.5803922 0.6392157 0.8784314 0.99215686 0.96862745 0.78431374 0.45882353 0.46666667 0.6392157 0.5568628 0.22352941 0.41568628 0.6156863 0.58431375 0.6745098 0.6117647 0.59607846 0.5921569 0.43137255; 0.41960785 0.49803922 0.85490197 0.7607843 0.47843137 0.42352942 0.23921569 0.24705882 0.58431375 0.59607846 0.5921569 0.57254905 0.58431375 0.654902 0.8 0.92156863 0.9843137 0.9764706 0.7647059 0.47058824 0.36078432 0.54509807 0.42745098 0.41568628 0.69411767 0.58431375 0.6509804 0.7921569 0.6117647 0.63529414 0.69411767 0.39607844; 0.40784314 0.6117647 0.9137255 0.72156864 0.5372549 0.56078434 0.3137255 0.3647059 0.65882355 0.6431373 0.627451 0.627451 0.68235296 0.74509805 0.92156863 0.96862745 0.9647059 0.9647059 0.7254902 0.4 0.57254905 0.85882354 0.5803922 0.6039216 0.73333335 0.5529412 0.5019608 0.5372549 0.5019608 0.6392157 0.6862745 0.3647059; 0.4745098 0.7529412 0.92941177 0.7294118 0.54509807 0.46666667 0.34901962 0.49019608 0.5921569 0.5411765 0.5137255 0.5176471 0.5921569 0.69803923 0.9411765 0.99215686 0.972549 0.9764706 0.68235296 0.25490198 0.5803922 0.9098039 0.5294118 0.5019608 0.63529414 0.4745098 0.42745098 0.36078432 0.39215687 0.5411765 0.5058824 0.24705882; 0.5058824 0.85882354 0.9607843 0.5529412 0.20392157 0.23137255 0.36862746 0.52156866 0.5137255 0.49019608 0.47843137 0.4862745 0.52156866 0.61960787 0.8784314 0.93333334 0.90588236 0.9098039 0.6745098 0.20784314 0.5529412 0.88235295 0.48235294 0.3647059 0.32941177 0.1882353 0.2784314 0.3137255 0.17254902 0.2627451 0.34901962 0.12156863; 0.7372549 0.94509804 0.95686275 0.7137255 0.5411765 0.47843137 0.4627451 0.3372549 0.21568628 0.20392157 0.2627451 0.3372549 0.31764707 0.4392157 0.7176471 0.6745098 0.8156863 0.8784314 0.74509805 0.3372549 0.57254905 0.8862745 0.5372549 0.2901961 0.14901961 0.0627451 0.2627451 0.3882353 0.09019608 0.1764706 0.3647059 0.08235294; 0.8862745 0.9647059 0.9490196 0.9254902 0.9372549 0.80784315 0.5686275 0.46666667 0.27450982 0.1882353 0.21568628 0.25882354 0.2509804 0.30588236 0.5882353 0.7607843 0.8392157 0.8666667 0.8039216 0.35686275 0.45490196 0.88235295 0.6039216 0.25882354 0.25490198 0.23529412 0.29411766 0.30588236 0.21960784 0.25882354 0.27058825 0.078431375; 0.827451 0.9490196 0.90588236 0.9019608 0.92156863 0.90588236 0.69803923 0.5568628 0.4392157 0.32156864 0.34509805 0.38039216 0.41568628 0.39607844 0.65882355 0.9098039 0.8666667 0.85882354 0.85490197 0.40784314 0.30980393 0.8666667 0.65882355 0.16470589 0.16078432 0.1882353 0.2 0.3529412 0.44705883 0.34901962 0.2 0.13333334; 0.654902 0.9372549 0.8862745 0.83137256 0.9254902 0.9254902 0.8509804 0.61960787 0.7058824 0.7607843 0.75686276 0.78039217"
     ]
    },
    {
     "name": "stdout",
     "output_type": "stream",
     "text": [
      " 0.7921569 0.7764706 0.84313726 0.9019608 0.8745098 0.85882354 0.8784314 0.5372549 0.23529412 0.78039217 0.54901963 0.039215688 0.07450981 0.09803922 0.19607843 0.5294118 0.49411765 0.42745098 0.3254902 0.14509805; 0.64705884 0.92156863 0.92156863 0.7647059 0.827451 0.9411765 0.9254902 0.79607844 0.7490196 0.8980392 0.8980392 0.9019608 0.8980392 0.8901961 0.90588236 0.90588236 0.8784314 0.85882354 0.87058824 0.6509804 0.29411766 0.6509804 0.627451 0.23137255 0.08235294 0.08235294 0.09411765 0.16862746 0.19215687 0.27058825 0.24313726 0.078431375; 0.627451 0.8901961 0.9529412 0.78431374 0.7607843 0.9411765 0.95686275 0.9411765 0.92941177 0.92941177 0.92156863 0.9098039 0.8980392 0.8980392 0.9019608 0.89411765 0.88235295 0.8666667 0.8745098 0.78431374 0.62352943 0.6901961 0.7058824 0.6509804 0.5019608 0.25490198 0.18039216 0.18039216 0.17254902 0.23529412 0.18431373 0.023529412; 0.45882353 0.56078434 0.69411767 0.7176471 0.5254902 0.6666667 0.72156864 0.81960785 0.79607844 0.73333335 0.7647059 0.7764706 0.79607844 0.8156863 0.827451 0.8392157 0.8352941 0.8235294 0.8235294 0.8117647 0.7921569 0.68235296 0.4117647 0.19215687 0.31764707 0.39215687 0.35686275 0.3137255 0.2784314 0.2509804 0.14509805 0.023529412; 0.39607844 0.38039216 0.4 0.48235294 0.5019608 0.49019608 0.4745098 0.69411767 0.4745098 0.25882354 0.36078432 0.40392157 0.41568628 0.4862745 0.5294118 0.54901963 0.5529412 0.5686275 0.61960787 0.6509804 0.64705884 0.47843137 0.26666668 0.13333334 0.21568628 0.3882353 0.3529412 0.2901961 0.2901961 0.20784314 0.08627451 0.03529412; 0.37254903 0.39607844 0.40392157 0.36862746 0.41960785 0.5176471 0.4627451 0.5372549 0.627451 0.4392157 0.4509804 0.49803922 0.45490196 0.4745098 0.49803922 0.49803922 0.49019608 0.49019608 0.48235294 0.5411765 0.6392157 0.44705883 0.24313726 0.105882354 0.2784314 0.39607844 0.3254902 0.27450982 0.2784314 0.16862746 0.047058824 0.08627451; 0.34901962 0.3764706 0.34901962 0.38039216 0.40784314 0.4 0.36078432 0.43137255 0.6431373 0.7176471 0.7176471 0.6901961 0.68235296 0.6627451 0.65882355 0.6392157 0.6039216 0.5882353 0.5529412 0.5647059 0.6509804 0.3529412 0.14901961 0.105882354 0.3019608 0.41568628 0.34117648 0.30588236 0.29803923 0.14117648 0.023529412 0.1764706; 0.27450982 0.34901962 0.40392157 0.36862746 0.36078432 0.34117648 0.2784314 0.38039216 0.43137255 0.6117647 0.78431374 0.6784314 0.6862745 0.72156864 0.7294118 0.74509805 0.7372549 0.7294118 0.72156864 0.70980394 0.7176471 0.627451 0.30980393 0.105882354 0.34901962 0.38431373 0.33333334 0.33333334 0.32156864 0.17254902 0.050980393 0.2509804; 0.23529412 0.31764707 0.37254903 0.3137255 0.32156864 0.29803923 0.26666668 0.38039216 0.34117648 0.40784314 0.6745098 0.7176471 0.63529414 0.6901961 0.6901961 0.72156864 0.7372549 0.72156864 0.72156864 0.7254902 0.72156864 0.7529412 0.47058824 0.10980392 0.25490198 0.2 0.23529412 0.3647059 0.4745098 0.42352942 0.2509804 0.3529412; 0.22352941 0.2627451 0.2627451 0.28235295 0.3647059 0.3372549 0.33333334 0.3764706 0.32156864 0.26666668 0.37254903 0.6627451 0.6745098 0.6392157 0.7176471 0.7372549 0.7372549 0.70980394 0.69803923 0.7254902 0.72156864 0.7411765 0.5254902 0.1254902 0.14901961 0.2 0.23921569 0.2509804 0.31764707 0.21960784 0.19215687 0.44313726; 0.30588236 0.3372549 0.3372549 0.39215687 0.38039216 0.3882353 0.33333334 0.28235295 0.24705882 0.28627452 0.27450982 0.47843137 0.7019608 0.654902 0.6784314 0.65882355 0.58431375 0.5529412 0.6039216 0.7294118 0.7411765 0.77254903 0.5921569 0.14901961 0.07058824 0.14509805 0.1254902 0.13333334 0.30588236 0.101960786 0.1882353 0.49803922; 0.3764706 0.37254903 0.3647059 0.35686275 0.28627452 0.3019608 0.3529412 0.30980393 0.21568628 0.30980393 0.39607844 0.44313726 0.5647059 0.7254902 0.6627451 0.67058825 0.45490196 0.3647059 0.48235294 0.65882355 0.72156864 0.7607843 0.6313726 0.1764706 0.05882353 0.078431375 0.08627451 0.12941177 0.105882354 0.05490196 0.28235295 0.50980395; 0.37254903 0.3882353 0.32156864 0.30588236 0.28627452 0.27058825 0.33333334 0.3764706 0.35686275 0.35686275 0.4 0.41568628 0.4 0.6156863 0.69803923 0.6745098 0.6901961 0.5568628 0.5176471 0.654902 0.7294118 0.7529412 0.6745098 0.21960784 0.050980393 0.15686275 0.2627451 0.42352942 0.3019608 0.13333334 0.3647059 0.52156866; 0.3529412 0.3137255 0.27450982 0.25882354 0.27450982 0.3254902 0.30980393 0.33333334 0.32941177 0.27450982 0.3764706 0.3647059 0.30980393 0.31764707 0.61960787 0.69803923 0.6784314 0.70980394 0.7019608 0.7254902 0.7411765 0.75686276 0.7058824 0.34117648 0.15686275 0.13725491 0.23529412 0.38431373 0.25882354 0.20784314 0.44705883 0.5254902; 0.31764707 0.28627452 0.27058825 0.28627452 0.34901962 0.3647059 0.3254902 0.29803923 0.25882354 0.23137255 0.32156864 0.37254903 0.32941177 0.23921569 0.3254902 0.5647059 0.59607846 0.6039216 0.654902 0.7254902 0.7411765 0.7607843 0.74509805 0.6666667 0.6039216 0.35686275 0.3529412 0.48235294 0.34509805 0.3254902 0.4745098 0.52156866;;; 0.73333335 0.6627451 0.6431373 0.60784316 0.5647059 0.58431375 0.6745098 0.7529412 0.5411765 0.27058825 0.19215687 0.2627451 0.39215687 0.40392157 0.38039216 0.5803922 0.7372549 0.78039217 0.8509804 0.5647059 0.3372549 0.7058824 0.7137255 0.61960787 0.7176471 0.64705884 0.6745098 0.6666667 0.627451 0.6509804 0.5019608 0.47058824; 0.53333336 0.6039216 0.58431375 0.57254905 0.59607846 0.64705884 0.65882355 0.6039216 0.4 0.42352942 0.5647059 0.5647059 0.57254905 0.5568628 0.53333336 0.7647059 0.9490196 0.9764706 0.99607843 0.6117647 0.49019608 0.8509804 0.6784314 0.3254902 0.45490196 0.68235296 0.6509804 0.5882353 0.59607846 0.627451 0.50980395 0.47843137; 0.37254903 0.4627451 0.4392157 0.4745098 0.5568628 0.6431373 0.54509807 0.41568628 0.2627451 0.4392157 0.64705884 0.56078434 0.5176471 0.46666667 0.46666667 0.65882355 0.9019608 0.9647059 0.9529412 0.52156866 0.44313726 0.75686276 0.58431375 0.21568628 0.31764707 0.7019608 0.48235294 0.21960784 0.5176471 0.6666667 0.5568628 0.52156866; 0.3882353 0.5176471 0.62352943 0.54509807 0.74509805 0.70980394 0.47058824 0.3882353 0.21960784 0.43137255 0.64705884 0.62352943 0.5764706 0.5529412 0.5568628 0.7294118 0.95686275 0.9764706 0.9372549 0.44313726 0.1882353 0.25882354 0.25490198 0.18039216 0.30980393 0.7137255 0.54901963 0.1882353 0.4745098 0.6392157 0.49803922 0.49019608; 0.54509807 0.6784314 0.63529414 0.654902 0.8901961 0.6784314 0.4862745 0.32156864 0.2627451 0.5764706 0.7019608 0.69411767 0.7019608 0.6313726 0.69411767 0.8666667 0.95686275 0.9764706 0.9137255 0.44313726 0.29803923 0.4117647 0.3882353 0.2 0.3137255 0.72156864 0.627451 0.22352941 0.45882353 0.64705884 0.37254903 0.1254902; 0.7058824 0.6862745 0.6039216 0.7764706 0.8745098 0.6313726 0.46666667 0.23529412 0.36078432 0.6862745 0.6509804 0.6509804 0.6745098 0.6039216 0.7294118 0.9529412 0.9607843 0.98039216 0.87058824 0.41960785 0.37254903 0.41960785 0.34509805 0.20392157 0.32156864 0.7294118 0.60784316 0.20784314 0.4509804 0.67058825 0.40784314 0.047058824; 0.8235294 0.78431374 0.74509805 0.8784314 0.7647059 0.5411765 0.42352942 0.22745098 0.53333336 0.69803923 0.5803922 0.6313726 0.67058825 0.5529412 0.7372549 0.95686275 0.98039216 0.9843137 0.84705883 0.32941177 0.23529412 0.2901961 0.29411766 0.1882353 0.31764707 0.72156864 0.54509807 0.17254902 0.4627451 0.7058824 0.47058824 0.07450981; 0.8392157 0.76862746 0.7529412 0.9019608 0.7254902 0.54509807 0.41568628 0.18039216 0.49803922 0.6627451 0.60784316 0.63529414 0.62352943 0.5529412 0.6745098 0.89411765 0.9882353 0.98039216 0.827451 0.3254902 0.22352941 0.25490198 0.27450982 0.18039216 0.36078432 0.73333335 0.5137255 0.18039216 0.4862745 0.7294118 0.5372549 0.27450982; 0.6117647 0.5372549 0.6862745 0.88235295 0.6627451 0.5372549 0.36078432 0.14901961 0.45490196 0.58431375 0.57254905 0.59607846 0.6039216 0.5803922 0.6156863 0.85490197 0.9882353 0.972549 0.81960785 0.4117647 0.3882353 0.53333336 0.48235294 0.22352941 0.39215687 0.72156864 0.49411765 0.29411766 0.5254902 0.68235296 0.59607846 0.47843137; 0.43137255 0.4 0.7411765 0.8509804 0.5882353 0.5137255 0.30588236 0.16862746 0.54509807 0.6156863 0.60784316 0.60784316 0.63529414 0.6745098 0.654902 0.85882354 0.9882353 0.96862745 0.8 0.4862745 0.47843137 0.61960787 0.5294118 0.2509804 0.49803922 0.68235296 0.59607846 0.65882355 0.62352943 0.627451 0.6039216 0.41960785; 0.38431373 0.47058824 0.8509804 0.7764706 0.52156866 0.49019608 0.25882354 0.25490198 0.6745098 0.7372549 0.70980394 0.67058825 0.69803923 0.7411765 0.8117647 0.9019608 0.98039216 0.9764706 0.7764706 0.5019608 0.3882353 0.54509807 0.41568628 0.44705883 0.7764706 0.64705884 0.64705884 0.7607843 0.6117647 0.6666667 0.7019608 0.3882353; 0.4 0.6117647 0.93333334 0.76862746 0.6039216 0.61960787 0.32941177 0.3882353 0.7607843 0.7882353 0.7529412 0.7254902 0.78039217 0.8156863 0.9254902 0.95686275 0.9647059 0.95686275 0.7372549 0.4392157 0.6117647 0.8784314 0.5921569 0.6431373 0.8156863 0.627451 0.5294118 0.5372549 0.52156866 0.6745098 0.7019608 0.35686275; 0.45882353 0.73333335 0.92156863 0.74509805 0.5764706 0.48235294 0.38039216 0.57254905 0.7176471 0.6901961 0.654902 0.6313726 0.6627451 0.72156864 0.9372549 0.99215686 0.972549 0.9647059 0.6862745 0.2784314 0.60784316 0.9137255 0.5411765 0.5529412 0.70980394 0.5568628 0.5019608 0.42352942 0.45490196 0.59607846 0.5294118 0.24313726; 0.49803922 0.84313726 0.9490196 0.56078434 0.23529412 0.25882354 0.4117647 0.58431375 0.5882353 0.57254905 0.5647059 0.5803922 0.59607846 0.64705884 0.8745098 0.9137255 0.8784314 0.8862745 0.6784314 0.23137255 0.5764706 0.88235295 0.48235294 0.39607844 0.36862746 0.23137255 0.3254902 0.3529412 0.21960784 0.31764707 0.37254903 0.11764706; 0.7411765 0.93333334 0.9490196 0.7254902 0.5686275 0.5137255 0.49019608 0.36078432 0.24313726 0.23921569 0.31764707 0.41960785 0.40392157 0.5058824 0.74509805 0.6627451 0.78039217 0.8509804 0.7372549 0.3529412 0.5921569 0.88235295 0.5372549 0.32156864 0.18431373 0.09019608 0.29411766 0.41960785 0.13725491 0.23137255 0.3882353 0.078431375; 0.8980392 0.9607843 0.94509804 0.93333334 0.9607843 0.83137256 0.5803922 0.46666667 0.28627452 0.21960784 0.27450982 0.34901962 0.35686275 0.40784314 0.65882355 0.78039217 0.8235294 0.84313726 0.8 0.37254903 0.47058824 0.8745098 0.60784316 0.3137255 0.30980393 0.28627452 0.34901962 0.37254903 "
     ]
    },
    {
     "name": "stdout",
     "output_type": "stream",
     "text": [
      "0.2901961 0.31764707 0.29411766 0.08235294; 0.827451 0.9372549 0.8901961 0.8862745 0.9137255 0.9098039 0.70980394 0.5686275 0.46666667 0.36078432 0.40392157 0.47058824 0.5058824 0.46666667 0.6901961 0.90588236 0.84705883 0.85882354 0.8784314 0.44705883 0.33333334 0.84313726 0.63529414 0.1882353 0.19607843 0.22745098 0.25490198 0.42745098 0.5176471 0.4 0.23921569 0.16470589; 0.63529414 0.92156863 0.87058824 0.8117647 0.9137255 0.9254902 0.85882354 0.63529414 0.7294118 0.79607844 0.7921569 0.8039216 0.8039216 0.78039217 0.8352941 0.8862745 0.8627451 0.8666667 0.9019608 0.5647059 0.25490198 0.77254903 0.53333336 0.02745098 0.06666667 0.105882354 0.22352941 0.5803922 0.54901963 0.46666667 0.36862746 0.1882353; 0.6117647 0.8980392 0.9098039 0.76862746 0.8352941 0.92941177 0.91764706 0.79607844 0.7607843 0.92156863 0.91764706 0.8784314 0.8627451 0.8666667 0.8901961 0.8980392 0.8784314 0.8666667 0.8784314 0.65882355 0.3019608 0.67058825 0.6392157 0.22745098 0.07058824 0.078431375 0.11372549 0.21176471 0.23921569 0.30588236 0.2784314 0.10980392; 0.5803922 0.8627451 0.9490196 0.8 0.78431374 0.92941177 0.93333334 0.92941177 0.92941177 0.9372549 0.9372549 0.92156863 0.9098039 0.9019608 0.9019608 0.8862745 0.8745098 0.87058824 0.8627451 0.7647059 0.61960787 0.7254902 0.75686276 0.6745098 0.5254902 0.2901961 0.23137255 0.25490198 0.23529412 0.2627451 0.20392157 0.043137256; 0.40392157 0.53333336 0.69803923 0.7529412 0.57254905 0.67058825 0.69803923 0.78039217 0.75686276 0.7176471 0.77254903 0.7882353 0.8 0.8117647 0.8117647 0.8156863 0.8117647 0.8156863 0.8 0.76862746 0.76862746 0.69411767 0.4392157 0.21568628 0.3764706 0.46666667 0.42352942 0.39215687 0.36078432 0.3019608 0.17254902 0.043137256; 0.3254902 0.33333334 0.38039216 0.4862745 0.5137255 0.45882353 0.4 0.5921569 0.36862746 0.18039216 0.29411766 0.31764707 0.3254902 0.39215687 0.43137255 0.44705883 0.4509804 0.47058824 0.5019608 0.52156866 0.5294118 0.38431373 0.20392157 0.12941177 0.28235295 0.48235294 0.41960785 0.36078432 0.3764706 0.27058825 0.11764706 0.047058824; 0.29803923 0.32941177 0.36078432 0.34117648 0.39607844 0.47843137 0.40784314 0.4745098 0.5568628 0.36078432 0.35686275 0.38039216 0.32941177 0.3529412 0.3764706 0.37254903 0.36862746 0.3647059 0.34117648 0.39607844 0.50980395 0.3529412 0.18431373 0.101960786 0.34901962 0.49803922 0.4 0.34901962 0.36078432 0.22352941 0.07058824 0.08627451; 0.30980393 0.34117648 0.32156864 0.36078432 0.39215687 0.4 0.37254903 0.4392157 0.61960787 0.6431373 0.59607846 0.54509807 0.5372549 0.52156866 0.52156866 0.5058824 0.47058824 0.44705883 0.4 0.4117647 0.52156866 0.26666668 0.09411765 0.09019608 0.37254903 0.5254902 0.42745098 0.38431373 0.3764706 0.18431373 0.03529412 0.16470589; 0.27058825 0.3372549 0.3882353 0.34509805 0.32941177 0.32156864 0.27058825 0.3647059 0.3764706 0.50980395 0.6392157 0.5058824 0.5137255 0.54901963 0.5568628 0.5647059 0.54901963 0.5372549 0.5137255 0.49803922 0.5254902 0.47058824 0.21568628 0.101960786 0.40784314 0.4745098 0.41568628 0.4117647 0.39607844 0.22352941 0.078431375 0.2627451; 0.23921569 0.3019608 0.3372549 0.25882354 0.25882354 0.2509804 0.21960784 0.3254902 0.27058825 0.32156864 0.57254905 0.5882353 0.49803922 0.54509807 0.5294118 0.53333336 0.5372549 0.54901963 0.5372549 0.52156866 0.52156866 0.57254905 0.36078432 0.11764706 0.28627452 0.23921569 0.28235295 0.41568628 0.5294118 0.47843137 0.3019608 0.39607844; 0.21176471 0.23529412 0.21176471 0.21568628 0.28627452 0.27450982 0.27058825 0.30980393 0.25490198 0.19607843 0.29803923 0.5764706 0.5686275 0.5058824 0.5529412 0.56078434 0.5686275 0.5764706 0.54901963 0.5411765 0.5294118 0.5568628 0.4 0.09803922 0.14509805 0.2 0.24313726 0.2627451 0.34117648 0.2509804 0.22745098 0.47843137; 0.28235295 0.29803923 0.27450982 0.3137255 0.2901961 0.3019608 0.2509804 0.20784314 0.18431373 0.23137255 0.23137255 0.4509804 0.6313726 0.52156866 0.5137255 0.49411765 0.45490196 0.46666667 0.49411765 0.57254905 0.56078434 0.58431375 0.45882353 0.10980392 0.05490196 0.12941177 0.11764706 0.12941177 0.30588236 0.11372549 0.20392157 0.52156866; 0.32941177 0.3137255 0.29411766 0.27450982 0.19607843 0.21568628 0.27058825 0.23529412 0.15686275 0.25882354 0.36078432 0.42745098 0.50980395 0.6039216 0.50980395 0.5137255 0.34117648 0.30588236 0.39607844 0.52156866 0.5529412 0.57254905 0.49019608 0.13725491 0.050980393 0.08235294 0.101960786 0.14509805 0.11372549 0.05490196 0.28627452 0.53333336; 0.2784314 0.30588236 0.2509804 0.2509804 0.23529412 0.22352941 0.28235295 0.32156864 0.29803923 0.28627452 0.32941177 0.34509805 0.33333334 0.5372549 0.5921569 0.5294118 0.53333336 0.44313726 0.4 0.50980395 0.56078434 0.5568628 0.50980395 0.15686275 0.05490196 0.20784314 0.33333334 0.48235294 0.32941177 0.14117648 0.3764706 0.54509807; 0.2784314 0.24313726 0.21568628 0.20784314 0.22352941 0.2784314 0.2627451 0.2784314 0.27058825 0.20392157 0.3019608 0.29411766 0.2509804 0.2627451 0.5372549 0.5764706 0.5254902 0.5529412 0.5372549 0.5372549 0.5372549 0.5254902 0.52156866 0.28235295 0.17254902 0.2 0.30980393 0.43529412 0.28627452 0.22352941 0.47058824 0.5568628; 0.27450982 0.23921569 0.21568628 0.23137255 0.2901961 0.31764707 0.2784314 0.24313726 0.2 0.16078432 0.24705882 0.30980393 0.28235295 0.20392157 0.27058825 0.47843137 0.48235294 0.47843137 0.52156866 0.5764706 0.5764706 0.5686275 0.59607846 0.627451 0.6313726 0.41960785 0.41960785 0.52156866 0.36862746 0.35686275 0.5137255 0.5647059]]\n"
     ]
    }
   ],
   "source": [
    "model = Chain([\n",
    "    Conv((3, 3), 3 => 8, relu, pad=SamePad(), stride=(2, 2)), #pad=SamePad() ensures size(output,d) == size(x,d) / stride.\n",
    "    BatchNorm(8),\n",
    "    MeanPool((2,2)),\n",
    "    SkipConnection(\n",
    "        Chain([\n",
    "            Conv((5, 5), 8 => 8, relu, pad=SamePad(), stride=(1, 1))\n",
    "            ]),\n",
    "        +\n",
    "    ),\n",
    "    #ConvTranspose((3, 3), 8 => 4, relu, pad=SamePad(), stride=(2, 2)),#pad=SamePad() ensures size(output,d) == size(x,d) * stride.\n",
    "    Flux.flatten,\n",
    "    Dense(512, 100, relu),\n",
    "    Dense(100, 10)\n",
    "])\n",
    "testmode!(model)\n",
    "# image_seeds = CIFAR10(:train)[1:5].features # 32 x 32 x 3 x 5\n",
    "image_seeds = [CIFAR10(:train)[i].features for i in 1:2]\n",
    "input_set = ImageConvexHull(image_seeds)\n",
    "# println(typeof(image_seeds[1][1,1,1,1]))\n",
    "search_method = BFS(max_iter=1, batch_size=1)\n",
    "split_method = Bisect(1)\n",
    "output_set = BallInf(zeros(10), 1.0)\n",
    "onnx_model_path = \"/home/verification/ModelVerification.jl/mlp.onnx\"\n",
    "flux_model = model\n",
    "image_shape = (32, 32, 3, 5)\n",
    "println(image_seeds)"
   ]
  },
  {
   "cell_type": "code",
   "execution_count": 23,
   "metadata": {},
   "outputs": [],
   "source": [
    "prop_method = ImageStar()\n",
    "@timed verify(search_method, split_method, prop_method, Problem(flux_model, input_set, output_set))"
   ]
  },
  {
   "cell_type": "code",
   "execution_count": null,
   "metadata": {},
   "outputs": [],
   "source": [
    "prop_method = ImageStarZono()\n",
    "@timed verify(search_method, split_method, prop_method, Problem(onnx_model_path, image_seeds, output_set))"
   ]
  },
  {
   "cell_type": "code",
   "execution_count": null,
   "metadata": {},
   "outputs": [],
   "source": [
    "model = Chain([\n",
    "    Flux.flatten,\n",
    "    Dense(784, 200, relu),\n",
    "    Dense(200, 10)\n",
    "])\n",
    "image_seeds = [MNIST(:train)[i].features for i in 1:1]\n",
    "search_method = BFS(max_iter=1, batch_size=1)\n",
    "split_method = Bisect(1)\n",
    "output_set = BallInf(zeros(10), 1.0)\n",
    "onnx_model_path = \"/home/verification/ModelVerification.jl/debug.onnx\"\n",
    "Flux_model = model\n",
    "image_shape = (28, 28, 1, 1)"
   ]
  },
  {
   "cell_type": "code",
   "execution_count": null,
   "metadata": {},
   "outputs": [],
   "source": [
    "model = Chain([\n",
    "    Conv((3, 3), 3 => 8, relu, pad=SamePad(), stride=(2, 2)), #pad=SamePad() ensures size(output,d) == size(x,d) / stride.\n",
    "    BatchNorm(8),\n",
    "    MeanPool((2,2)),\n",
    "    SkipConnection(\n",
    "        Chain([\n",
    "            Conv((5, 5), 8 => 8, relu, pad=SamePad(), stride=(1, 1))\n",
    "            ]),\n",
    "        +\n",
    "    ),\n",
    "    Conv((3, 3), 8 => 8, relu, pad=SamePad(), stride=(2, 2)),\n",
    "    #ConvTranspose((3, 3), 8 => 4, relu, pad=SamePad(), stride=(2, 2)),#pad=SamePad() ensures size(output,d) == size(x,d) * stride.\n",
    "    Flux.flatten,\n",
    "    Dense(128, 100, relu),\n",
    "    Dense(100, 10)\n",
    "])\n",
    "testmode!(model)\n",
    "# image_seeds = CIFAR10(:train)[1:5].features # 32 x 32 x 3 x 5\n",
    "image_seeds = [CIFAR10(:train)[i].features for i in 1:2]\n",
    "# println(typeof(image_seeds[1][1,1,1,1]))\n",
    "search_method = BFS(max_iter=1, batch_size=1)\n",
    "split_method = Bisect(1)\n",
    "output_set = BallInf(zeros(10), 1.0)\n",
    "onnx_model_path = \"/home/verification/ModelVerification.jl/mlp.onnx\"\n",
    "Flux_model = model\n",
    "image_shape = (32, 32, 3, 2)"
   ]
  },
  {
   "cell_type": "code",
   "execution_count": null,
   "metadata": {},
   "outputs": [],
   "source": [
    "prop_method = ImageStar()\n",
    "@timed verify(search_method, split_method, prop_method, Problem(onnx_model_path, Flux_model, image_shape, image_seeds, output_set))"
   ]
  },
  {
   "cell_type": "code",
   "execution_count": null,
   "metadata": {},
   "outputs": [],
   "source": [
    "prop_method = ImageStarZono()\n",
    "@timed verify(search_method, split_method, prop_method, Problem(onnx_model_path, Flux_model, image_shape, image_seeds, output_set))"
   ]
  },
  {
   "cell_type": "code",
   "execution_count": null,
   "metadata": {},
   "outputs": [],
   "source": [
    "model = Chain([\n",
    "    Conv((3, 3), 3 => 128, relu, pad=SamePad(), stride=(2, 2)), #pad=SamePad() ensures size(output,d) == size(x,d) / stride.\n",
    "    BatchNorm(128),\n",
    "    MeanPool((2,2)),\n",
    "    SkipConnection(\n",
    "        Chain([\n",
    "            Conv((5, 5), 128 => 128, relu, pad=SamePad(), stride=(1, 1))\n",
    "            ]),\n",
    "        +\n",
    "    ),\n",
    "    ConvTranspose((3, 3), 128 => 128, relu, pad=SamePad(), stride=(2, 2)),#pad=SamePad() ensures size(output,d) == size(x,d) * stride.\n",
    "    Flux.flatten,\n",
    "    Dense(32768, 100, relu),\n",
    "    Dense(100, 10)\n",
    "])\n",
    "testmode!(model)\n",
    "# image_seeds = CIFAR10(:train)[1:5].features # 32 x 32 x 3 x 5\n",
    "image_seeds = [CIFAR10(:train)[i].features for i in 1:2]\n",
    "# println(typeof(image_seeds[1][1,1,1,1]))\n",
    "search_method = BFS(max_iter=1, batch_size=1)\n",
    "split_method = Bisect(1)\n",
    "output_set = BallInf(zeros(10), 1.0)"
   ]
  },
  {
   "cell_type": "code",
   "execution_count": null,
   "metadata": {},
   "outputs": [],
   "source": [
    "prop_method = ImageStarZono()\n",
    "@timed verify(search_method, split_method, prop_method, Problem(model, image_seeds, output_set))"
   ]
  },
  {
   "cell_type": "code",
   "execution_count": null,
   "metadata": {},
   "outputs": [],
   "source": [
    "Profile.clear()\n",
    "@profile verify(search_method, split_method, prop_method, Problem(model, image_seeds, output_set))"
   ]
  },
  {
   "cell_type": "code",
   "execution_count": null,
   "metadata": {},
   "outputs": [],
   "source": [
    "open(\"./prof.txt\", \"w\") do s\n",
    "    Profile.print(IOContext(s, :displaysize => (24, 500)))\n",
    "end"
   ]
  },
  {
   "cell_type": "code",
   "execution_count": null,
   "metadata": {},
   "outputs": [],
   "source": []
  }
 ],
 "metadata": {
  "kernelspec": {
   "display_name": "Julia 1.8.5",
   "language": "julia",
   "name": "julia-1.8"
  },
  "language_info": {
   "file_extension": ".jl",
   "mimetype": "application/julia",
   "name": "julia",
   "version": "1.8.5"
  },
  "orig_nbformat": 4
 },
 "nbformat": 4,
 "nbformat_minor": 2
}
