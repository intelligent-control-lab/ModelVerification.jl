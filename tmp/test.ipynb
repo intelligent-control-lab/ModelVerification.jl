{
 "cells": [
  {
   "cell_type": "code",
   "execution_count": 1,
   "metadata": {},
   "outputs": [],
   "source": [
    "using Revise"
   ]
  },
  {
   "cell_type": "code",
   "execution_count": 2,
   "metadata": {},
   "outputs": [],
   "source": [
    "using LazySets\n",
    "using ModelVerification\n",
    "using PyCall\n",
    "using CSV\n",
    "using ONNX\n",
    "using Flux\n",
    "using DataFrames"
   ]
  },
  {
   "cell_type": "code",
   "execution_count": 16,
   "metadata": {},
   "outputs": [
    {
     "name": "stdout",
     "output_type": "stream",
     "text": [
      "[1.0; 1.0;;] "
     ]
    },
    {
     "name": "stdout",
     "output_type": "stream",
     "text": [
      "[1.5, 1.5]\n",
      "[2.0 2.0; 2.0 2.0] [2.5, 2.5]\n",
      "[3.0 3.0] [3.5]\n",
      "forward\n",
      "in\n",
      "out\n",
      "false\n",
      "forward\n",
      "in\n",
      "out\n",
      "false\n",
      "forward\n",
      "in\n",
      "out\n",
      "false\n",
      "BasicResult(:violated)\n"
     ]
    }
   ],
   "source": [
    "small_nnet_file = \"../test/networks/small_nnet.nnet\"\n",
    "# small_nnet_file = net_path * \"small_nnet.nnet\"\n",
    "# small_nnet encodes the simple function 24*max(x + 1.5, 0) + 18.5\n",
    "small_nnet = read_nnet(small_nnet_file, last_layer_activation = ModelVerification.ReLU())\n",
    "# model = Chain(\n",
    "#     Dense(1, 2, relu),\n",
    "#     Dense(2, 2, relu),\n",
    "#     Dense(2, 1, relu))\n",
    "flux_model = Flux.Chain(small_nnet)\n",
    "println(flux_model.layers[1].weight, \" \", flux_model.layers[1].bias) # max(x+1.5, 0) max(x+1.5, 0)\n",
    "println(flux_model.layers[2].weight, \" \", flux_model.layers[2].bias) # 4*max(x+1.5, 0)+2.5 4*max(x+1.5, 0)+2.5\n",
    "println(flux_model.layers[3].weight, \" \", flux_model.layers[3].bias) # 24*max(x+1.5, 0)+18.5\n",
    "# in_hyper  = Hyperrectangle(low = [-0.9], high = [0.9])\n",
    "in_hyper  = Hyperrectangle(low = [-2.5], high = [2.5]) # expected: [18.5, 114.5]\n",
    "out_violated    = Hyperrectangle(low = [19], high = [114]) # 20.0 ≤ y ≤ 90.0\n",
    "out_holds = Hyperrectangle(low = [18], high = [115.0]) # -1.0 ≤ y ≤ 50.0\n",
    "info = nothing\n",
    "search_method = BFS(max_iter=1, batch_size=13)\n",
    "split_method = Bisect(1)\n",
    "prop_method = Crown()\n",
    "problem = Problem(flux_model, in_hyper, out_holds)\n",
    "res = verify(search_method, split_method, prop_method, problem)\n",
    "println(res)"
   ]
  },
  {
   "cell_type": "code",
   "execution_count": null,
   "metadata": {},
   "outputs": [],
   "source": []
  }
 ],
 "metadata": {
  "kernelspec": {
   "display_name": "Julia 1.8.5",
   "language": "julia",
   "name": "julia-1.8"
  },
  "language_info": {
   "file_extension": ".jl",
   "mimetype": "application/julia",
   "name": "julia",
   "version": "1.8.5"
  },
  "orig_nbformat": 4
 },
 "nbformat": 4,
 "nbformat_minor": 2
}
