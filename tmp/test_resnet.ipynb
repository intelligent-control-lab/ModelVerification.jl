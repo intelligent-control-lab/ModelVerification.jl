{
 "cells": [
  {
   "cell_type": "code",
   "execution_count": 1,
   "metadata": {},
   "outputs": [],
   "source": [
    "using Revise"
   ]
  },
  {
   "cell_type": "code",
   "execution_count": 2,
   "metadata": {},
   "outputs": [],
   "source": [
    "using Images, ImageIO\n",
    "using LinearAlgebra\n",
    "using OpenCV\n",
    "using CSV\n",
    "using DataFrames\n",
    "using Flux\n",
    "using ONNXNaiveNASflux, NaiveNASflux"
   ]
  },
  {
   "cell_type": "code",
   "execution_count": 3,
   "metadata": {},
   "outputs": [
    {
     "data": {
      "text/plain": [
       "build_flux_model (generic function with 1 method)"
      ]
     },
     "metadata": {},
     "output_type": "display_data"
    }
   ],
   "source": [
    "\n",
    "function square_img(image, bbox, img_size)\n",
    "    bbox_width = round(Int, bbox[\"bbox_x2\"] - bbox[\"bbox_x1\"])\n",
    "    bbox_height = round(Int, bbox[\"bbox_y2\"] - bbox[\"bbox_y1\"])\n",
    "    offset_tl = Int.([bbox[\"bbox_x1\"], bbox[\"bbox_y1\"]] .+ 1)\n",
    "    h, _ = img_size\n",
    "    if bbox_width >= bbox_height\n",
    "        sq_img = zeros(UInt8, bbox_width, bbox_width, 3)\n",
    "        if bbox_width >= h\n",
    "            crop_img = image[:, offset_tl[1]: offset_tl[1] + bbox_width - 1, :]\n",
    "            offset_tl[2] = 1\n",
    "            bbox_height = h\n",
    "        elseif offset_tl[2] + bbox_width - 1 >= h\n",
    "            offset_tl[2] = h + 1 - bbox_width\n",
    "            bbox_height = bbox_width\n",
    "            crop_img = image[offset_tl[2] : offset_tl[2] + bbox_width - 1, offset_tl[1] : offset_tl[1] + bbox_width - 1, :]\n",
    "        else\n",
    "            crop_img = image[offset_tl[2] : offset_tl[2] + bbox_width - 1, offset_tl[1] : offset_tl[1] + bbox_width - 1, :]\n",
    "            bbox_height = bbox_width\n",
    "        end\n",
    "        sq_img[1:bbox_height, 1:bbox_width, :] = crop_img\n",
    "    else\n",
    "        sq_img = zeros(UInt8, bbox_height, bbox_height, 3)\n",
    "    end\n",
    "    return sq_img, offset_tl\n",
    "end\n",
    "\n",
    "function preprocess_image(img_path, csv_path)\n",
    "    image = OpenCV.imread(img_path)\n",
    "    image = OpenCV.resize(image, OpenCV.Size{Int32}(1920, 1200), interpolation=OpenCV.INTER_AREA)\n",
    "    _, w, h = size(image)  # (3, 1920, 1200)\n",
    "    # CWH, BGR channel for Julia OpenCV, we desire WHCN for Flux model\n",
    "    image = OpenCV.cvtColor(image, OpenCV.COLOR_BGR2GRAY)\n",
    "    image = OpenCV.cvtColor(image, OpenCV.COLOR_GRAY2RGB)\n",
    "    image = permutedims(image, (3, 2, 1))\n",
    "    \n",
    "    truth_df = DataFrame(CSV.File(csv_path))\n",
    "    bbox = truth_df[!, [:bbox_x1, :bbox_y1, :bbox_x2, :bbox_y2]]\n",
    "    bbox = bbox[parse(Int, split(img_path[1:end-4], '_')[end]) + 1, :]\n",
    "    sq_image, offset_tl = square_img(image, bbox, (h, w))\n",
    "    input_size = 256\n",
    "    sq_image = permutedims(sq_image, (3, 2, 1))  # no need to permute multiple times, will remove it later\n",
    "    resize_img = OpenCV.resize(sq_image, OpenCV.Size{Int32}(input_size, input_size), interpolation=OpenCV.INTER_AREA)\n",
    "    resize_img = resize_img / 255.0\n",
    "    resize_img = permutedims(resize_img, (3, 2, 1))\n",
    "\n",
    "    resize_img = reshape(resize_img, (size(resize_img)...,1))   # WHCN for Julia, NCHW for Python\n",
    "    resize_img = permutedims(resize_img, (2, 1, 3, 4))\n",
    "    img_mean = reshape([0.48500, 0.45600, 0.40600], (1, 1, 3, 1))\n",
    "    img_variance = reshape([0.2990, 0.22400, 0.22500], (1, 1, 3, 1))\n",
    "    resize_img = (resize_img .- img_mean) ./ img_variance;\n",
    "    return Float32.(resize_img)\n",
    "end\n",
    "\n",
    "function get_parallel_chains(comp_vertices, index_more_than_one_outputs)\n",
    "    function get_chain(vertex)\n",
    "        m = Any[]\n",
    "        curr_vertex = vertex\n",
    "        while length(inputs(curr_vertex)) == 1\n",
    "            # println(\"curr vertex \", name(curr_vertex))\n",
    "            push!(m, layer(curr_vertex))\n",
    "            curr_vertex = outputs(curr_vertex)[1]\n",
    "        end\n",
    "        return Chain(m...), curr_vertex\n",
    "    end\n",
    "    outs = outputs(comp_vertices[index_more_than_one_outputs])\n",
    "    @assert length(outs) == 2\n",
    "    chain1, vertex_more_than_one_inputs = get_chain(outs[1])\n",
    "    chain2, _ = get_chain(outs[2])\n",
    "    @assert occursin(\"Add\", name(vertex_more_than_one_inputs))\n",
    "    inner_iter = findfirst(v -> name(v) == name(vertex_more_than_one_inputs), comp_vertices)\n",
    "    if length(chain1) == 0\n",
    "        return SkipConnection(chain2, (+)), inner_iter\n",
    "    elseif length(chain2) == 0\n",
    "        return SkipConnection(chain1, (+)), inner_iter\n",
    "    else\n",
    "        return Parallel(+; α = chain1, β = chain2), inner_iter\n",
    "    end\n",
    "end\n",
    "\n",
    "function build_flux_model(onnx_model_path)\n",
    "    comp_graph = ONNXNaiveNASflux.load(onnx_model_path)\n",
    "\n",
    "    model_vec = Any[]\n",
    "\n",
    "    inner_iter = 0\n",
    "    for (index, vertex) in enumerate(ONNXNaiveNASflux.vertices(comp_graph))\n",
    "        if index < 5 || index <= inner_iter\n",
    "            continue\n",
    "        end \n",
    "        if string(layer(vertex)) == \"#213\"\n",
    "            push!(model_vec, NNlib.relu)\n",
    "        else\n",
    "            push!(model_vec, layer(vertex))\n",
    "        end\n",
    "        if length(outputs(vertex)) > 1\n",
    "            # println(\"name: \", name(vertex))\n",
    "            parallel_chain, inner_iter = get_parallel_chains(ONNXNaiveNASflux.vertices(comp_graph), index)\n",
    "            push!(model_vec, parallel_chain)\n",
    "        end\n",
    "    end\n",
    "    # model_vec = model_vec[1:end-1]\n",
    "    push!(model_vec, Flux.MeanPool((32,32)))\n",
    "    push!(model_vec, Flux.flatten)\n",
    "    model = Chain(model_vec...)\n",
    "    Flux.testmode!(model)\n",
    "    return (model)\n",
    "end"
   ]
  },
  {
   "cell_type": "code",
   "execution_count": 4,
   "metadata": {},
   "outputs": [
    {
     "name": "stdout",
     "output_type": "stream",
     "text": [
      "Set(Any[\"BatchNormalization\", \"Div\", \"Relu\", \"Constant\", \"Sub\", \"Conv\", \"ConvTranspose\", \"AveragePool\", \"Add\"])\n"
     ]
    },
    {
     "data": {
      "text/plain": [
       "Chain(\n",
       "  Conv((7, 7), 3 => 64, pad=3, stride=2, bias=false),  \u001b[90m# 9_408 parameters\u001b[39m\n",
       "  BatchNorm(64, relu, active=false),    \u001b[90m# 128 parameters\u001b[39m\u001b[90m, plus 128\u001b[39m\n",
       "  MeanPool((3, 3), pad=1, stride=2),\n",
       "  SkipConnection(\n",
       "    Chain(\n",
       "      Conv((3, 3), 64 => 64, pad=1, bias=false),  \u001b[90m# 36_864 parameters\u001b[39m\n",
       "      BatchNorm(64, relu, active=false),  \u001b[90m# 128 parameters\u001b[39m\u001b[90m, plus 128\u001b[39m\n",
       "      Conv((3, 3), 64 => 64, pad=1, bias=false),  \u001b[90m# 36_864 parameters\u001b[39m\n",
       "      BatchNorm(64, active=false),      \u001b[90m# 128 parameters\u001b[39m\u001b[90m, plus 128\u001b[39m\n",
       "    ),\n",
       "    +,\n",
       "  ),\n",
       "  ONNXNaiveNASflux.var\"#217#229\"{typeof(relu)}(NNlib.relu),\n",
       "  SkipConnection(\n",
       "    Chain(\n",
       "      Conv((3, 3), 64 => 64, pad=1, bias=false),  \u001b[90m# 36_864 parameters\u001b[39m\n",
       "      BatchNorm(64, relu, active=false),  \u001b[90m# 128 parameters\u001b[39m\u001b[90m, plus 128\u001b[39m\n",
       "      Conv((3, 3), 64 => 64, pad=1, bias=false),  \u001b[90m# 36_864 parameters\u001b[39m\n",
       "      BatchNorm(64, active=false),      \u001b[90m# 128 parameters\u001b[39m\u001b[90m, plus 128\u001b[39m\n",
       "    ),\n",
       "    +,\n",
       "  ),\n",
       "  ONNXNaiveNASflux.var\"#217#229\"{typeof(relu)}(NNlib.relu),\n",
       "  Parallel(\n",
       "    +,\n",
       "    α = Chain(\n",
       "      Conv((3, 3), 64 => 128, pad=1, stride=2, bias=false),  \u001b[90m# 73_728 parameters\u001b[39m\n",
       "      BatchNorm(128, relu, active=false),  \u001b[90m# 256 parameters\u001b[39m\u001b[90m, plus 256\u001b[39m\n",
       "      Conv((3, 3), 128 => 128, pad=1, bias=false),  \u001b[90m# 147_456 parameters\u001b[39m\n",
       "      BatchNorm(128, active=false),     \u001b[90m# 256 parameters\u001b[39m\u001b[90m, plus 256\u001b[39m\n",
       "    ),\n",
       "    β = Chain(\n",
       "      Conv((1, 1), 64 => 128, stride=2, bias=false),  \u001b[90m# 8_192 parameters\u001b[39m\n",
       "      BatchNorm(128, active=false),     \u001b[90m# 256 parameters\u001b[39m\u001b[90m, plus 256\u001b[39m\n",
       "    ),\n",
       "  ),\n",
       "  ONNXNaiveNASflux.var\"#217#229\"{typeof(relu)}(NNlib.relu),\n",
       "  SkipConnection(\n",
       "    Chain(\n",
       "      Conv((3, 3), 128 => 128, pad=1, bias=false),  \u001b[90m# 147_456 parameters\u001b[39m\n",
       "      BatchNorm(128, relu, active=false),  \u001b[90m# 256 parameters\u001b[39m\u001b[90m, plus 256\u001b[39m\n",
       "      Conv((3, 3), 128 => 128, pad=1, bias=false),  \u001b[90m# 147_456 parameters\u001b[39m\n",
       "      BatchNorm(128, active=false),     \u001b[90m# 256 parameters\u001b[39m\u001b[90m, plus 256\u001b[39m\n",
       "    ),\n",
       "    +,\n",
       "  ),\n",
       "  ONNXNaiveNASflux.var\"#217#229\"{typeof(relu)}(NNlib.relu),\n",
       "  Parallel(\n",
       "    +,\n",
       "    α = Chain(\n",
       "      Conv((3, 3), 128 => 256, pad=1, stride=2, bias=false),  \u001b[90m# 294_912 parameters\u001b[39m\n",
       "      BatchNorm(256, relu, active=false),  \u001b[90m# 512 parameters\u001b[39m\u001b[90m, plus 512\u001b[39m\n",
       "      Conv((3, 3), 256 => 256, pad=1, bias=false),  \u001b[90m# 589_824 parameters\u001b[39m\n",
       "      BatchNorm(256, active=false),     \u001b[90m# 512 parameters\u001b[39m\u001b[90m, plus 512\u001b[39m\n",
       "    ),\n",
       "    β = Chain(\n",
       "      Conv((1, 1), 128 => 256, stride=2, bias=false),  \u001b[90m# 32_768 parameters\u001b[39m\n",
       "      BatchNorm(256, active=false),     \u001b[90m# 512 parameters\u001b[39m\u001b[90m, plus 512\u001b[39m\n",
       "    ),\n",
       "  ),\n",
       "  ONNXNaiveNASflux.var\"#217#229\"{typeof(relu)}(NNlib.relu),\n",
       "  SkipConnection(\n",
       "    Chain(\n",
       "      Conv((3, 3), 256 => 256, pad=1, bias=false),  \u001b[90m# 589_824 parameters\u001b[39m\n",
       "      BatchNorm(256, relu, active=false),  \u001b[90m# 512 parameters\u001b[39m\u001b[90m, plus 512\u001b[39m\n",
       "      Conv((3, 3), 256 => 256, pad=1, bias=false),  \u001b[90m# 589_824 parameters\u001b[39m\n",
       "      BatchNorm(256, active=false),     \u001b[90m# 512 parameters\u001b[39m\u001b[90m, plus 512\u001b[39m\n",
       "    ),\n",
       "    +,\n",
       "  ),\n",
       "  ONNXNaiveNASflux.var\"#217#229\"{typeof(relu)}(NNlib.relu),\n",
       "  Parallel(\n",
       "    +,\n",
       "    α = Chain(\n",
       "      Conv((3, 3), 256 => 512, pad=1, stride=2, bias=false),  \u001b[90m# 1_179_648 parameters\u001b[39m\n",
       "      BatchNorm(512, relu, active=false),  \u001b[90m# 1_024 parameters\u001b[39m\u001b[90m, plus 1_024\u001b[39m\n",
       "      Conv((3, 3), 512 => 512, pad=1, bias=false),  \u001b[90m# 2_359_296 parameters\u001b[39m\n",
       "      BatchNorm(512, active=false),     \u001b[90m# 1_024 parameters\u001b[39m\u001b[90m, plus 1_024\u001b[39m\n",
       "    ),\n",
       "    β = Chain(\n",
       "      Conv((1, 1), 256 => 512, stride=2, bias=false),  \u001b[90m# 131_072 parameters\u001b[39m\n",
       "      BatchNorm(512, active=false),     \u001b[90m# 1_024 parameters\u001b[39m\u001b[90m, plus 1_024\u001b[39m\n",
       "    ),\n",
       "  ),\n",
       "  ONNXNaiveNASflux.var\"#217#229\"{typeof(relu)}(NNlib.relu),\n",
       "  SkipConnection(\n",
       "    Chain(\n",
       "      Conv((3, 3), 512 => 512, pad=1, bias=false),  \u001b[90m# 2_359_296 parameters\u001b[39m\n",
       "      BatchNorm(512, relu, active=false),  \u001b[90m# 1_024 parameters\u001b[39m\u001b[90m, plus 1_024\u001b[39m\n",
       "      Conv((3, 3), 512 => 512, pad=1, bias=false),  \u001b[90m# 2_359_296 parameters\u001b[39m\n",
       "      BatchNorm(512, active=false),     \u001b[90m# 1_024 parameters\u001b[39m\u001b[90m, plus 1_024\u001b[39m\n",
       "    ),\n",
       "    +,\n",
       "  ),\n",
       "  ONNXNaiveNASflux.var\"#217#229\"{typeof(relu)}(NNlib.relu),\n",
       "  ConvTranspose((2, 2), 512 => 256, stride=2, bias=false),  \u001b[90m# 524_288 parameters\u001b[39m\n",
       "  BatchNorm(256, relu, active=false),   \u001b[90m# 512 parameters\u001b[39m\u001b[90m, plus 512\u001b[39m\n",
       "  ConvTranspose((2, 2), 256 => 128, stride=2, bias=false),  \u001b[90m# 131_072 parameters\u001b[39m\n",
       "  BatchNorm(128, relu, active=false),   \u001b[90m# 256 parameters\u001b[39m\u001b[90m, plus 256\u001b[39m\n",
       "  ConvTranspose((2, 2), 128 => 64, stride=2, bias=false),  \u001b[90m# 32_768 parameters\u001b[39m\n",
       "  BatchNorm(64, relu, active=false),    \u001b[90m# 128 parameters\u001b[39m\u001b[90m, plus 128\u001b[39m\n",
       "  ConvTranspose((2, 2), 64 => 64, stride=2, bias=false),  \u001b[90m# 16_384 parameters\u001b[39m\n",
       "  BatchNorm(64, relu, active=false),    \u001b[90m# 128 parameters\u001b[39m\u001b[90m, plus 128\u001b[39m\n",
       "  ConvTranspose((2, 2), 64 => 64, stride=2, bias=false),  \u001b[90m# 16_384 parameters\u001b[39m\n",
       "  BatchNorm(64, relu, active=false),    \u001b[90m# 128 parameters\u001b[39m\u001b[90m, plus 128\u001b[39m\n",
       "  Conv((1, 1), 64 => 24),               \u001b[90m# 1_560 parameters\u001b[39m\n",
       "  MeanPool((32, 32)),\n",
       "  Flux.flatten,\n",
       ") \u001b[90m        # Total: 77 trainable arrays, \u001b[39m11_900_120 parameters,\n",
       "\u001b[90m          # plus 50 non-trainable, 10_752 parameters, summarysize \u001b[39m45.456 MiB."
      ]
     },
     "metadata": {},
     "output_type": "display_data"
    }
   ],
   "source": [
    "# +++++++++++++++++++ build flux model +++++++++++++++++++\n",
    "onnx_model_path = \"./resnet_model.onnx\"\n",
    "model = build_flux_model(onnx_model_path)"
   ]
  },
  {
   "cell_type": "code",
   "execution_count": 5,
   "metadata": {},
   "outputs": [
    {
     "name": "stderr",
     "output_type": "stream",
     "text": [
      "WARNING: method definition for is_polyhedral at /home/wth/.julia/packages/LazySets/HlinV/src/LazyOperations/Complement.jl:53 declares type variable N but does not use it.\n"
     ]
    },
    {
     "name": "stderr",
     "output_type": "stream",
     "text": [
      "WARNING: method definition for convert at /home/wth/.julia/packages/LazySets/HlinV/src/convert.jl:179 declares type variable N but does not use it.\n"
     ]
    },
    {
     "name": "stderr",
     "output_type": "stream",
     "text": [
      "WARNING: method definition for issubset at /home/wth/.julia/packages/LazySets/HlinV/src/ConcreteOperations/issubset.jl:609 declares type variable N but does not use it.\n"
     ]
    },
    {
     "name": "stderr",
     "output_type": "stream",
     "text": [
      "WARNING: using Plots.center in module ModelVerification conflicts with an existing identifier.\n"
     ]
    }
   ],
   "source": [
    "using LazySets\n",
    "using ModelVerification\n",
    "using Test\n",
    "using Profile\n",
    "using Plots"
   ]
  },
  {
   "cell_type": "code",
   "execution_count": 6,
   "metadata": {},
   "outputs": [],
   "source": [
    "# # +++++++++++++++++++ preprocess image +++++++++++++++++++\n",
    "img_path = \"./AircraftInspection_00000008.png\"\n",
    "csv_path = \"./SynthPlane_08.csv\"\n",
    "img = preprocess_image(img_path, csv_path)\n",
    "input = Float32.(img);"
   ]
  },
  {
   "cell_type": "code",
   "execution_count": 7,
   "metadata": {},
   "outputs": [
    {
     "data": {
      "image/png": "[encoded data removed]",
      "text/html": [
       "<img src=\"data:image/png;base64,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\">"
      ],
      "text/plain": [
       "256×256 reinterpret(reshape, RGB{Float32}, ::Array{Float32, 3}) with eltype RGB{Float32}:\n",
       " RGB{Float32}(0.187881,0.380252,0.600784)   …  RGB{Float32}(-1.62207,-2.03571,-1.80444)\n",
       " RGB{Float32}(0.358384,0.607843,0.827364)      RGB{Float32}(-1.62207,-2.03571,-1.80444)\n",
       " RGB{Float32}(0.3715,0.62535,0.844793)         RGB{Float32}(-1.62207,-2.03571,-1.80444)\n",
       " RGB{Float32}(0.397731,0.660364,0.879651)      RGB{Float32}(-1.62207,-2.03571,-1.80444)\n",
       " RGB{Float32}(0.437078,0.712885,0.931939)      RGB{Float32}(-1.62207,-2.03571,-1.80444)\n",
       " RGB{Float32}(0.463309,0.747899,0.966797)   …  RGB{Float32}(-1.62207,-2.03571,-1.80444)\n",
       " RGB{Float32}(0.48954,0.782913,1.00166)        RGB{Float32}(-1.62207,-2.03571,-1.80444)\n",
       " RGB{Float32}(0.502656,0.80042,1.01908)        RGB{Float32}(-1.62207,-2.03571,-1.80444)\n",
       " RGB{Float32}(0.528887,0.835434,1.05394)       RGB{Float32}(-1.62207,-2.03571,-1.80444)\n",
       " RGB{Float32}(0.542003,0.852941,1.07137)       RGB{Float32}(-1.62207,-2.03571,-1.80444)\n",
       " ⋮                                          ⋱  ⋮\n",
       " RGB{Float32}(0.109187,0.27521,0.496209)       RGB{Float32}(-1.62207,-2.03571,-1.80444)\n",
       " RGB{Float32}(0.109187,0.27521,0.496209)       RGB{Float32}(-1.62207,-2.03571,-1.80444)\n",
       " RGB{Float32}(0.16165,0.345238,0.565926)       RGB{Float32}(-1.62207,-2.03571,-1.80444)\n",
       " RGB{Float32}(0.187881,0.380252,0.600784)   …  RGB{Float32}(-1.62207,-2.03571,-1.80444)\n",
       " RGB{Float32}(0.174766,0.362745,0.583355)      RGB{Float32}(-1.62207,-2.03571,-1.80444)\n",
       " RGB{Float32}(0.174766,0.362745,0.583355)      RGB{Float32}(-1.62207,-2.03571,-1.80444)\n",
       " RGB{Float32}(0.16165,0.345238,0.565926)       RGB{Float32}(-1.62207,-2.03571,-1.80444)\n",
       " RGB{Float32}(0.0960719,0.257703,0.47878)      RGB{Float32}(-1.62207,-2.03571,-1.80444)\n",
       " RGB{Float32}(0.0173782,0.152661,0.374205)  …  RGB{Float32}(-1.62207,-2.03571,-1.80444)"
      ]
     },
     "metadata": {},
     "output_type": "display_data"
    }
   ],
   "source": [
    "colorview(RGB, permutedims(input[:, :, :, 1], [3,1,2]))"
   ]
  },
  {
   "cell_type": "code",
   "execution_count": 8,
   "metadata": {},
   "outputs": [],
   "source": [
    "output = model(input);"
   ]
  },
  {
   "cell_type": "code",
   "execution_count": 9,
   "metadata": {},
   "outputs": [
    {
     "data": {
      "text/plain": [
       "256×256×3 Array{Float32, 3}:\n",
       "[:, :, 1] =\n",
       " 0.187881   -1.14991   -1.12368    -0.822021  …  -1.62207  -1.62207  -1.62207\n",
       " 0.358384   -0.91383   -1.17614    -1.1368       -1.62207  -1.62207  -1.62207\n",
       " 0.3715     -0.599056  -1.20237    -1.16303      -1.62207  -1.62207  -1.62207\n",
       " 0.397731   -0.244934  -1.20237    -1.09745      -1.62207  -1.62207  -1.62207\n",
       " 0.437078    0.109187  -1.21549    -1.08433      -1.62207  -1.62207  -1.62207\n",
       " 0.463309    0.358384  -1.04499    -1.1368    …  -1.62207  -1.62207  -1.62207\n",
       " 0.48954     0.410847  -0.703981   -1.17614      -1.62207  -1.62207  -1.62207\n",
       " 0.502656    0.437078  -0.389206   -1.21549      -1.62207  -1.62207  -1.62207\n",
       " 0.528887    0.463309   0.0173782  -1.21549      -1.62207  -1.62207  -1.62207\n",
       " 0.542003    0.476425   0.305922   -1.11056      -1.62207  -1.62207  -1.62207\n",
       " ⋮                                            ⋱                       ⋮\n",
       " 0.109187    0.16165    0.148534    0.266575     -1.62207  -1.62207  -1.62207\n",
       " 0.109187    0.135419   0.174766    0.266575     -1.62207  -1.62207  -1.62207\n",
       " 0.16165     0.135419   0.174766    0.227228     -1.62207  -1.62207  -1.62207\n",
       " 0.187881    0.148534   0.135419    0.187881  …  -1.62207  -1.62207  -1.62207\n",
       " 0.174766    0.16165    0.0960719   0.16165      -1.62207  -1.62207  -1.62207\n",
       " 0.174766    0.148534   0.122303    0.135419     -1.62207  -1.62207  -1.62207\n",
       " 0.16165     0.135419   0.148534    0.109187     -1.62207  -1.62207  -1.62207\n",
       " 0.0960719   0.148534   0.148534    0.135419     -1.62207  -1.62207  -1.62207\n",
       " 0.0173782   0.16165    0.16165     0.16165   …  -1.62207  -1.62207  -1.62207\n",
       "\n",
       "[:, :, 2] =\n",
       " 0.380252  -1.40546   -1.37045   -0.967787  …  -2.03571  -2.03571  -2.03571\n",
       " 0.607843  -1.09034   -1.44048   -1.38796      -2.03571  -2.03571  -2.03571\n",
       " 0.62535   -0.670168  -1.47549   -1.42297      -2.03571  -2.03571  -2.03571\n",
       " 0.660364  -0.197479  -1.47549   -1.33543      -2.03571  -2.03571  -2.03571\n",
       " 0.712885   0.27521   -1.493     -1.31793      -2.03571  -2.03571  -2.03571\n",
       " 0.747899   0.607843  -1.26541   -1.38796   …  -2.03571  -2.03571  -2.03571\n",
       " 0.782913   0.677871  -0.810224  -1.44048      -2.03571  -2.03571  -2.03571\n",
       " 0.80042    0.712885  -0.390056  -1.493        -2.03571  -2.03571  -2.03571\n",
       " 0.835434   0.747899   0.152661  -1.493        -2.03571  -2.03571  -2.03571\n",
       " 0.852941   0.765406   0.537815  -1.35294      -2.03571  -2.03571  -2.03571\n",
       " ⋮                                          ⋱                       ⋮\n",
       " 0.27521    0.345238   0.327731   0.485294     -2.03571  -2.03571  -2.03571\n",
       " 0.27521    0.310224   0.362745   0.485294     -2.03571  -2.03571  -2.03571\n",
       " 0.345238   0.310224   0.362745   0.432773     -2.03571  -2.03571  -2.03571\n",
       " 0.380252   0.327731   0.310224   0.380252  …  -2.03571  -2.03571  -2.03571\n",
       " 0.362745   0.345238   0.257703   0.345238     -2.03571  -2.03571  -2.03571\n",
       " 0.362745   0.327731   0.292717   0.310224     -2.03571  -2.03571  -2.03571\n",
       " 0.345238   0.310224   0.327731   0.27521      -2.03571  -2.03571  -2.03571\n",
       " 0.257703   0.327731   0.327731   0.310224     -2.03571  -2.03571  -2.03571\n",
       " 0.152661   0.345238   0.345238   0.345238  …  -2.03571  -2.03571  -2.03571\n",
       "\n",
       "[:, :, 3] =\n",
       " 0.600784  -1.17699    -1.14214   -0.741264  …  -1.80444  -1.80444  -1.80444\n",
       " 0.827364  -0.863268   -1.21185   -1.15956      -1.80444  -1.80444  -1.80444\n",
       " 0.844793  -0.444967   -1.24671   -1.19442      -1.80444  -1.80444  -1.80444\n",
       " 0.879651   0.0256209  -1.24671   -1.10728      -1.80444  -1.80444  -1.80444\n",
       " 0.931939   0.496209   -1.26414   -1.08985      -1.80444  -1.80444  -1.80444\n",
       " 0.966797   0.827364   -1.03756   -1.15956   …  -1.80444  -1.80444  -1.80444\n",
       " 1.00166    0.897081   -0.584401  -1.21185      -1.80444  -1.80444  -1.80444\n",
       " 1.01908    0.931939   -0.1661    -1.26414      -1.80444  -1.80444  -1.80444\n",
       " 1.05394    0.966797    0.374205  -1.26414      -1.80444  -1.80444  -1.80444\n",
       " 1.07137    0.984227    0.757647  -1.12471      -1.80444  -1.80444  -1.80444\n",
       " ⋮                                           ⋱                       ⋮\n",
       " 0.496209   0.565926    0.548497   0.705359     -1.80444  -1.80444  -1.80444\n",
       " 0.496209   0.531068    0.583355   0.705359     -1.80444  -1.80444  -1.80444\n",
       " 0.565926   0.531068    0.583355   0.653072     -1.80444  -1.80444  -1.80444\n",
       " 0.600784   0.548497    0.531068   0.600784  …  -1.80444  -1.80444  -1.80444\n",
       " 0.583355   0.565926    0.47878    0.565926     -1.80444  -1.80444  -1.80444\n",
       " 0.583355   0.548497    0.513638   0.531068     -1.80444  -1.80444  -1.80444\n",
       " 0.565926   0.531068    0.548497   0.496209     -1.80444  -1.80444  -1.80444\n",
       " 0.47878    0.548497    0.548497   0.531068     -1.80444  -1.80444  -1.80444\n",
       " 0.374205   0.565926    0.565926   0.565926  …  -1.80444  -1.80444  -1.80444"
      ]
     },
     "metadata": {},
     "output_type": "display_data"
    }
   ],
   "source": [
    "input = reshape(input, 256, 256, 3)\n",
    "input_perturbed = copy(input);\n",
    "# input_perturbed[100:102,100:102,1:3,1] .= -0.5\n",
    "# input_perturbed[1,1,1,1] = -0.5\n",
    "# input_perturbed[100,100,1,1] = -0.5\n",
    "# input_perturbed[100,100,1,1] = -0.5\n",
    "# input_perturbed[100,100,1:3,1] .= -0.5\n",
    "# input_perturbed[100:105,100:105,1:3,1] .= -0.5"
   ]
  },
  {
   "cell_type": "code",
   "execution_count": 10,
   "metadata": {},
   "outputs": [
    {
     "data": {
      "image/png": "[encoded data removed]",
      "text/html": [
       "<img src=\"data:image/png;base64,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\">"
      ],
      "text/plain": [
       "256×256 reinterpret(reshape, RGB{Float32}, ::Array{Float32, 3}) with eltype RGB{Float32}:\n",
       " RGB{Float32}(0.187881,0.380252,0.600784)   …  RGB{Float32}(-1.62207,-2.03571,-1.80444)\n",
       " RGB{Float32}(0.358384,0.607843,0.827364)      RGB{Float32}(-1.62207,-2.03571,-1.80444)\n",
       " RGB{Float32}(0.3715,0.62535,0.844793)         RGB{Float32}(-1.62207,-2.03571,-1.80444)\n",
       " RGB{Float32}(0.397731,0.660364,0.879651)      RGB{Float32}(-1.62207,-2.03571,-1.80444)\n",
       " RGB{Float32}(0.437078,0.712885,0.931939)      RGB{Float32}(-1.62207,-2.03571,-1.80444)\n",
       " RGB{Float32}(0.463309,0.747899,0.966797)   …  RGB{Float32}(-1.62207,-2.03571,-1.80444)\n",
       " RGB{Float32}(0.48954,0.782913,1.00166)        RGB{Float32}(-1.62207,-2.03571,-1.80444)\n",
       " RGB{Float32}(0.502656,0.80042,1.01908)        RGB{Float32}(-1.62207,-2.03571,-1.80444)\n",
       " RGB{Float32}(0.528887,0.835434,1.05394)       RGB{Float32}(-1.62207,-2.03571,-1.80444)\n",
       " RGB{Float32}(0.542003,0.852941,1.07137)       RGB{Float32}(-1.62207,-2.03571,-1.80444)\n",
       " ⋮                                          ⋱  ⋮\n",
       " RGB{Float32}(0.109187,0.27521,0.496209)       RGB{Float32}(-1.62207,-2.03571,-1.80444)\n",
       " RGB{Float32}(0.109187,0.27521,0.496209)       RGB{Float32}(-1.62207,-2.03571,-1.80444)\n",
       " RGB{Float32}(0.16165,0.345238,0.565926)       RGB{Float32}(-1.62207,-2.03571,-1.80444)\n",
       " RGB{Float32}(0.187881,0.380252,0.600784)   …  RGB{Float32}(-1.62207,-2.03571,-1.80444)\n",
       " RGB{Float32}(0.174766,0.362745,0.583355)      RGB{Float32}(-1.62207,-2.03571,-1.80444)\n",
       " RGB{Float32}(0.174766,0.362745,0.583355)      RGB{Float32}(-1.62207,-2.03571,-1.80444)\n",
       " RGB{Float32}(0.16165,0.345238,0.565926)       RGB{Float32}(-1.62207,-2.03571,-1.80444)\n",
       " RGB{Float32}(0.0960719,0.257703,0.47878)      RGB{Float32}(-1.62207,-2.03571,-1.80444)\n",
       " RGB{Float32}(0.0173782,0.152661,0.374205)  …  RGB{Float32}(-1.62207,-2.03571,-1.80444)"
      ]
     },
     "metadata": {},
     "output_type": "display_data"
    }
   ],
   "source": [
    "colorview(RGB, permutedims(input_perturbed[:, :, :, 1], [3,1,2]))"
   ]
  },
  {
   "cell_type": "code",
   "execution_count": 11,
   "metadata": {},
   "outputs": [
    {
     "data": {
      "text/plain": [
       "BallInf{Float64, Vector{Float64}}([0.0, 0.0, 0.0, 0.0, 0.0, 0.0, 0.0, 0.0, 0.0, 0.0  …  0.0, 0.0, 0.0, 0.0, 0.0, 0.0, 0.0, 0.0, 0.0, 0.0], 1.0)"
      ]
     },
     "metadata": {},
     "output_type": "display_data"
    }
   ],
   "source": [
    "testmode!(model)\n",
    "prop_method = ImageZono()\n",
    "search_method = BFS(max_iter=1, batch_size=1)\n",
    "split_method = Bisect(1)\n",
    "output_set = BallInf(zeros(1536), 1.0)"
   ]
  },
  {
   "cell_type": "code",
   "execution_count": 19,
   "metadata": {},
   "outputs": [
    {
     "name": "stdout",
     "output_type": "stream",
     "text": [
      "Set(Any[\"BatchNormalization\", \"Flatten\", \"Relu\", \"ConvTranspose\", \"Conv\", \"AveragePool\", \"Add\"])\n",
      "size(bound.generators): (256, 256, 3, 1)\n",
      "prop time:0.017915303\n",
      "comp time:0.007944672\n",
      "saving visualized bound: center_100_100/1_conv_0.png\n",
      "bound time:0.003532571\n",
      "prop time:"
     ]
    },
    {
     "name": "stdout",
     "output_type": "stream",
     "text": [
      "0.001833842\n",
      "comp time:0.000955902\n",
      "saving visualized bound: center_100_100/2_batchnorm_0.png\n",
      "bound time:0.00352139\n",
      "before order: 9.5367431640625e-7\n",
      "non0 ele cnt: 896\n",
      "overapproximate time: 0.034574914\n",
      "after order: 1.430511474609375e-5\n",
      "after reducing order: "
     ]
    },
    {
     "name": "stdout",
     "output_type": "stream",
     "text": [
      "4.76837158203125e-6\n",
      "before size: (128, 128, 64, 1)\n",
      "after size: (128, 128, 64, 5)\n",
      "prop time:7.290973807\n",
      "comp time:0.000668795\n",
      "saving visualized bound: center_100_100/3_batchnorm_0_relu.png\n",
      "bound time:0.004615385\n"
     ]
    },
    {
     "name": "stdout",
     "output_type": "stream",
     "text": [
      "prop time:0.005782753\n",
      "comp time:0.000894951\n",
      "saving visualized bound: center_100_100/4_averagepool_0.png\n",
      "bound time:0.001099945\n",
      "size(bound.generators): (64, 64, 64, 5)\n",
      "prop time:0.026799303\n",
      "comp time:0.00304514\n",
      "saving visualized bound: center_100_100/5_conv_1.png\n",
      "bound time:0.000955642\n",
      "prop time:0.000818039\n",
      "comp time:0.000124113\n",
      "saving visualized bound: center_100_100/6_batchnorm_1.png\n",
      "bound time:0.00083246\n",
      "before order: "
     ]
    },
    {
     "name": "stdout",
     "output_type": "stream",
     "text": [
      "1.9073486328125e-5\n",
      "non0 ele cnt: 1600\n",
      "overapproximate time: 0.003878108\n",
      "after order: 3.0517578125e-5\n",
      "after reducing order: "
     ]
    },
    {
     "name": "stdout",
     "output_type": "stream",
     "text": [
      "7.62939453125e-6\n",
      "before size: (64, 64, 64, 5)\n",
      "after size: (64, 64, 64, 2)\n",
      "prop time:0.977089334\n",
      "comp time:0.000129113\n",
      "saving visualized bound: center_100_100/7_batchnorm_1_relu.png\n",
      "bound time:0.000502851\n",
      "size(bound.generators): (64, 64, 64, 2)\n",
      "prop time:0.015252179\n",
      "comp time:0.00356245\n",
      "saving visualized bound: center_100_100/8_conv_2.png\n",
      "bound time:0.000550472\n",
      "prop time:0.00043977\n",
      "comp time:0.000113593\n",
      "saving visualized bound: center_100_100/9_batchnorm_2.png\n",
      "bound time:0.000447721\n",
      "add_0"
     ]
    },
    {
     "name": "stdout",
     "output_type": "stream",
     "text": [
      "\n",
      "+\n",
      "saving visualized bound: center_100_100/10_add_0.png\n",
      "bound time:0.001237759\n",
      "before order: 2.6702880859375e-5\n",
      "non0 ele cnt: 3136\n",
      "overapproximate time: 0.010903588\n",
      "after order: 7.62939453125e-5\n",
      "after reducing order: "
     ]
    },
    {
     "name": "stdout",
     "output_type": "stream",
     "text": [
      "1.9073486328125e-5\n",
      "before size: (64, 64, 64, 7)\n",
      "after size: (64, 64, 64, 5)\n",
      "prop time:3.101654335\n",
      "comp time:0.000119343\n",
      "saving visualized bound: center_100_100/11_relu_0.png\n",
      "bound time:0.00090231\n",
      "size(bound.generators): (64, 64, 64, 5)\n",
      "prop time:0.029976143\n",
      "comp time:0.003127752\n",
      "saving visualized bound: center_100_100/12_conv_3.png\n",
      "bound time:0.000978802\n",
      "prop time:0.000779338\n",
      "comp time:0.000116892\n",
      "saving visualized bound: center_100_100/13_batchnorm_3.png\n",
      "bound time:0.00087022\n",
      "before order: "
     ]
    },
    {
     "name": "stdout",
     "output_type": "stream",
     "text": [
      "1.9073486328125e-5\n",
      "non0 ele cnt: 5184\n",
      "overapproximate time: 0.007252046\n",
      "after order: 7.2479248046875e-5\n",
      "after reducing order: "
     ]
    },
    {
     "name": "stdout",
     "output_type": "stream",
     "text": [
      "1.1444091796875e-5\n",
      "before size: (64, 64, 64, 5)\n",
      "after size: (64, 64, 64, 3)\n",
      "prop time:2.759744464\n",
      "comp time:0.000131943\n",
      "saving visualized bound: center_100_100/14_batchnorm_3_relu.png\n",
      "bound time:0.000593153\n",
      "size(bound.generators): (64, 64, 64, 3)\n",
      "prop time:0.019206746\n",
      "comp time:0.0031069\n",
      "saving visualized bound: center_100_100/15_conv_4.png\n",
      "bound time:0.000655115\n",
      "prop time:0.000547752\n",
      "comp time:0.000110242\n",
      "saving visualized bound: center_100_100/16_batchnorm_4.png\n",
      "bound time:0.000632694\n",
      "add_1"
     ]
    },
    {
     "name": "stdout",
     "output_type": "stream",
     "text": [
      "\n",
      "+\n",
      "saving visualized bound: center_100_100/17_add_1.png\n",
      "bound time:0.001430512\n",
      "before order: 3.0517578125e-5\n",
      "non0 ele cnt: 7744\n",
      "overapproximate time: 0.015694666\n",
      "after order: 0.000118255615234375\n",
      "after reducing order: "
     ]
    },
    {
     "name": "stdout",
     "output_type": "stream",
     "text": [
      "3.0517578125e-5\n",
      "before size: (64, 64, 64, 8)\n",
      "after size: (64, 64, 64, 8)\n",
      "prop time:4.16937179\n",
      "comp time:0.000121393\n",
      "saving visualized bound: center_100_100/18_relu_1.png\n",
      "bound time:0.001469173\n",
      "size(bound.generators): (64, 64, 64, 8)\n",
      "prop time:0.027519351\n",
      "comp time:0.001421252\n",
      "saving visualized bound: center_100_100/19_conv_5.png\n",
      "bound time:0.000597724\n"
     ]
    },
    {
     "name": "stdout",
     "output_type": "stream",
     "text": [
      "size(bound.generators): (64, 64, 64, 8)\n",
      "prop time:0.004341708\n",
      "comp time:0.000324117\n",
      "saving visualized bound: center_100_100/20_conv_7.png\n",
      "bound time:0.000625714\n",
      "prop time:0.00090655\n",
      "comp time:7.4221e-5\n",
      "saving visualized bound: center_100_100/21_batchnorm_5.png\n",
      "bound time:0.000576863\n",
      "prop time:0.000605654\n",
      "comp time:7.1042e-5\n",
      "saving visualized bound: center_100_100/22_batchnorm_7.png\n",
      "bound time:0.000579673\n",
      "before order: 6.103515625e-5\n",
      "non0 ele cnt: 4607\n",
      "overapproximate time: 0.004717126\n",
      "after order: 0.00020599365234375\n",
      "after reducing order: "
     ]
    },
    {
     "name": "stdout",
     "output_type": "stream",
     "text": [
      "3.814697265625e-5\n",
      "before size: (32, 32, 128, 8)\n",
      "after size: (32, 32, 128, 5)\n",
      "prop time:2.910395369\n",
      "comp time:6.9192e-5\n",
      "saving visualized bound: center_100_100/23_batchnorm_5_relu.png\n",
      "bound time:0.000409929\n",
      "size(bound.generators): (32, 32, 128, 5)\n",
      "prop time:0.024691038\n",
      "comp time:0.002340863\n",
      "saving visualized bound: center_100_100/24_conv_6.png\n",
      "bound time:0.00045014\n",
      "prop time:0.00044558\n",
      "comp time:6.7201e-5\n",
      "saving visualized bound: center_100_100/25_batchnorm_6.png\n",
      "bound time:0.000396929\n",
      "add_2"
     ]
    },
    {
     "name": "stdout",
     "output_type": "stream",
     "text": [
      "\n",
      "+\n",
      "saving visualized bound: center_100_100/26_add_2.png\n",
      "bound time:0.001058994\n",
      "before order: 9.918212890625e-5\n",
      "non0 ele cnt: 8187\n",
      "overapproximate time: 0.007131741\n",
      "after order: 0.00016021728515625\n",
      "after reducing order: "
     ]
    },
    {
     "name": "stdout",
     "output_type": "stream",
     "text": [
      "5.340576171875e-5\n",
      "before size: (32, 32, 128, 13)\n",
      "after size: (32, 32, 128, 7)\n",
      "prop time:3.930816393\n",
      "comp time:6.9171e-5\n",
      "saving visualized bound: center_100_100/27_relu_2.png\n",
      "bound time:0.000529042\n",
      "size(bound.generators): (32, 32, 128, 7)\n",
      "prop time:0.031130821\n",
      "comp time:0.002396073\n",
      "saving visualized bound: center_100_100/28_conv_8.png\n",
      "bound time:0.000634595\n",
      "prop time:0.000551163\n",
      "comp time:7.1862e-5\n",
      "saving visualized bound: center_100_100/29_batchnorm_8.png\n",
      "bound time:0.000761238\n",
      "before order: "
     ]
    },
    {
     "name": "stdout",
     "output_type": "stream",
     "text": [
      "5.340576171875e-5\n",
      "non0 ele cnt: 12776\n",
      "overapproximate time: 0.002954596\n",
      "after order: 9.918212890625e-5\n",
      "after reducing order: "
     ]
    },
    {
     "name": "stdout",
     "output_type": "stream",
     "text": [
      "1.52587890625e-5\n",
      "before size: (32, 32, 128, 7)\n",
      "after size: (32, 32, 128, 2)\n",
      "prop time:1.13064368\n",
      "comp time:7.0621e-5\n",
      "saving visualized bound: center_100_100/30_batchnorm_8_relu.png\n",
      "bound time:0.000265886\n",
      "size(bound.generators): (32, 32, 128, 2)\n",
      "prop time:0.012239085\n",
      "comp time:0.003804755\n",
      "saving visualized bound: center_100_100/31_conv_9.png\n",
      "bound time:0.000300707\n",
      "prop time:0.000253166\n",
      "comp time:6.7462e-5\n",
      "saving visualized bound: center_100_100/32_batchnorm_9.png\n",
      "bound time:0.000299197\n",
      "add_3\n",
      "+\n",
      "saving visualized bound: center_100_100/33_add_3.png\n",
      "bound time:0.000635584\n",
      "before order: "
     ]
    },
    {
     "name": "stdout",
     "output_type": "stream",
     "text": [
      "6.866455078125e-5\n",
      "non0 ele cnt: 18157\n",
      "overapproximate time: 0.004845819\n",
      "after order: 0.0001983642578125\n",
      "after reducing order: "
     ]
    },
    {
     "name": "stdout",
     "output_type": "stream",
     "text": [
      "5.340576171875e-5\n",
      "before size: (32, 32, 128, 9)\n",
      "after size: (32, 32, 128, 7)\n",
      "prop time:2.937469049\n",
      "comp time:7.0232e-5\n",
      "saving visualized bound: center_100_100/34_relu_3.png\n",
      "bound time:0.000521722\n",
      "size(bound.generators): (32, 32, 128, 7)\n",
      "prop time:0.017085273\n",
      "comp time:0.001456513\n",
      "saving visualized bound: center_100_100/35_conv_10.png\n",
      "bound time:0.000244105\n",
      "size(bound.generators): (32, 32, 128, 7)\n",
      "prop time:0.002502546\n",
      "comp time:0.000234305\n",
      "saving visualized bound: center_100_100/36_conv_12.png\n",
      "bound time:0.000252045\n",
      "prop time:0.000361148\n",
      "comp time:4.5901e-5\n",
      "saving visualized bound: center_100_100/37_batchnorm_10.png\n",
      "bound time:0.000261126\n",
      "prop time:"
     ]
    },
    {
     "name": "stdout",
     "output_type": "stream",
     "text": [
      "0.000384439\n",
      "comp time:4.5351e-5\n",
      "saving visualized bound: center_100_100/38_batchnorm_12.png\n",
      "bound time:0.000278937\n",
      "before order: 0.0001068115234375\n",
      "non0 ele cnt: 12299\n",
      "overapproximate time: 0.001246838\n",
      "after order: 0.0001678466796875\n",
      "after reducing order: "
     ]
    },
    {
     "name": "stdout",
     "output_type": "stream",
     "text": [
      "1.52587890625e-5\n",
      "before size: (16, 16, 256, 7)\n",
      "after size: (16, 16, 256, 1)\n",
      "prop time:0.415087298\n",
      "comp time:4.8551e-5\n",
      "saving visualized bound: center_100_100/39_batchnorm_10_relu.png\n",
      "bound time:0.000118082\n",
      "size(bound.generators): (16, 16, 256, 1)\n",
      "prop time:0.008116561\n",
      "comp time:0.003701123\n",
      "saving visualized bound: center_100_100/40_conv_11.png\n",
      "bound time:0.000101533\n",
      "prop time:0.000170134\n",
      "comp time:4.3001e-5\n",
      "saving visualized bound: center_100_100/41_batchnorm_11.png\n",
      "bound time:0.000102343\n",
      "add_4\n",
      "+\n",
      "saving visualized bound: center_100_100/42_add_4.png\n",
      "bound time:0.000280326\n",
      "before order: 0.0001220703125\n",
      "non0 ele cnt: 19574\n",
      "overapproximate time: 0.001222798\n",
      "after order: 0.000152587890625\n",
      "after reducing order: "
     ]
    },
    {
     "name": "stdout",
     "output_type": "stream",
     "text": [
      "1.52587890625e-5\n",
      "before size: (16, 16, 256, 8)\n",
      "after size: (16, 16, 256, 1)\n",
      "prop time:0.375079091\n",
      "comp time:5.2511e-5\n",
      "saving visualized bound: center_100_100/43_relu_4.png\n",
      "bound time:0.000112223\n",
      "size(bound.generators): (16, 16, 256, 1)\n",
      "prop time:0.006882134\n",
      "comp time:0.003375904\n",
      "saving visualized bound: center_100_100/44_conv_13.png\n",
      "bound time:9.8252e-5\n",
      "prop time:0.000167214\n",
      "comp time:4.6962e-5\n",
      "saving visualized bound: center_100_100/45_batchnorm_13.png\n",
      "bound time:0.000100243\n",
      "before order: 1.52587890625e-5\n",
      "non0 ele cnt: 27690\n",
      "overapproximate time: 0.00044155\n",
      "after order: 3.0517578125e-5\n",
      "after reducing order: "
     ]
    },
    {
     "name": "stdout",
     "output_type": "stream",
     "text": [
      "1.52587890625e-5\n",
      "before size: (16, 16, 256, 1)\n",
      "after size: (16, 16, 256, 1)\n",
      "prop time:0.042707896\n",
      "comp time:4.9361e-5\n",
      "saving visualized bound: center_100_100/46_batchnorm_13_relu.png\n",
      "bound time:0.000105752\n",
      "size(bound.generators): (16, 16, 256, 1)\n",
      "prop time:0.006799032\n",
      "comp time:0.003265192\n",
      "saving visualized bound: center_100_100/47_conv_14.png\n",
      "bound time:9.6882e-5\n",
      "prop time:0.000158793\n",
      "comp time:4.0441e-5\n",
      "saving visualized bound: center_100_100/48_batchnorm_14.png\n",
      "bound time:7.1782e-5\n",
      "add_5\n",
      "+\n",
      "saving visualized bound: center_100_100/49_add_5.png\n",
      "bound time:0.000122633\n",
      "before order: 3.0517578125e-5\n",
      "non0 ele cnt: 36687\n",
      "overapproximate time: 0.000478191\n",
      "after order: 4.57763671875e-5\n",
      "after reducing order: "
     ]
    },
    {
     "name": "stdout",
     "output_type": "stream",
     "text": [
      "1.52587890625e-5\n",
      "before size: (16, 16, 256, 2)\n",
      "after size: (16, 16, 256, 1)\n",
      "prop time:0.08392747\n",
      "comp time:4.8381e-5\n",
      "saving visualized bound: center_100_100/50_relu_5.png\n",
      "bound time:0.000109452\n",
      "size(bound.generators): (16, 16, 256, 1)\n",
      "prop time:0.005240688\n",
      "comp time:0.00265412\n",
      "saving visualized bound: center_100_100/51_conv_15.png\n",
      "bound time:5.4741e-5\n",
      "size(bound.generators): (16, 16, 256, 1)\n",
      "prop time:0.000987323\n",
      "comp time:0.000381999\n",
      "saving visualized bound: center_100_100/52_conv_17.png\n",
      "bound time:5.7941e-5\n",
      "prop time:0.000168634\n",
      "comp time:4.4661e-5\n",
      "saving visualized bound: center_100_100/53_batchnorm_15.png\n",
      "bound time:5.8611e-5\n",
      "prop time:0.000166673\n",
      "comp time:4.3371e-5\n",
      "saving visualized bound: center_100_100/54_batchnorm_17.png\n",
      "bound time:5.8181e-5\n",
      "before order: "
     ]
    },
    {
     "name": "stdout",
     "output_type": "stream",
     "text": [
      "3.0517578125e-5\n",
      "non0 ele cnt: 22673\n",
      "overapproximate time: 0.000234145\n",
      "after order: 3.0517578125e-5\n",
      "after reducing order: 3.0517578125e-5\n",
      "before size: (8, 8, 512, 1)\n",
      "after size: (8, 8, 512, 1)\n",
      "prop time:0.000581593\n",
      "comp time:2.501e-5\n",
      "saving visualized bound: center_100_100/55_batchnorm_15_relu.png\n",
      "bound time:4.9981e-5\n",
      "size(bound.generators): (8, 8, 512, 1)\n",
      "prop time:0.010730531\n",
      "comp time:0.004760807\n",
      "saving visualized bound: center_100_100/56_conv_16.png\n",
      "bound time:5.7391e-5\n",
      "prop time:0.000165164\n",
      "comp time:4.2121e-5\n",
      "saving visualized bound: center_100_100/57_batchnorm_16.png\n",
      "bound time:5.9851e-5\n",
      "add_6\n",
      "+\n",
      "saving visualized bound: center_100_100/58_add_6.png\n",
      "bound time:5.7341e-5\n",
      "before order: 6.103515625e-5\n",
      "non0 ele cnt: 30748\n",
      "overapproximate time: 0.000291197\n",
      "after order: 0.0001220703125\n",
      "after reducing order: "
     ]
    },
    {
     "name": "stdout",
     "output_type": "stream",
     "text": [
      "3.0517578125e-5\n",
      "before size: (8, 8, 512, 2)\n",
      "after size: (8, 8, 512, 1)\n",
      "prop time:0.063597073\n",
      "comp time:3.1241e-5\n",
      "saving visualized bound: center_100_100/59_relu_6.png\n",
      "bound time:6.2191e-5\n",
      "size(bound.generators): (8, 8, 512, 1)\n",
      "prop time:0.010539987\n",
      "comp time:0.004492309\n",
      "saving visualized bound: center_100_100/60_conv_18.png\n",
      "bound time:5.6421e-5\n",
      "prop time:0.000161834\n",
      "comp time:5.1171e-5\n",
      "saving visualized bound: center_100_100/61_batchnorm_18.png\n",
      "bound time:5.8231e-5\n",
      "before order: 3.0517578125e-5\n",
      "non0 ele cnt: 32339\n",
      "overapproximate time: 0.000234985\n",
      "after order: 3.0517578125e-5\n",
      "after reducing order: 3.0517578125e-5\n",
      "before size: (8, 8, 512, 1)\n",
      "after size: (8, 8, 512, 1)\n",
      "prop time:0.000507531\n",
      "comp time:2.4921e-5\n",
      "saving visualized bound: center_100_100/62_batchnorm_18_relu.png\n",
      "bound time:5.1232e-5\n"
     ]
    },
    {
     "name": "stdout",
     "output_type": "stream",
     "text": [
      "size(bound.generators): (8, 8, 512, 1)\n",
      "prop time:0.13946361\n",
      "comp time:0.004513561\n",
      "saving visualized bound: center_100_100/63_conv_19.png\n",
      "bound time:6.3351e-5\n",
      "prop time:0.000164493\n",
      "comp time:4.2901e-5\n",
      "saving visualized bound: center_100_100/64_batchnorm_19.png\n",
      "bound time:6.8161e-5\n",
      "add_7\n",
      "+\n",
      "saving visualized bound: center_100_100/65_add_7.png\n",
      "bound time:8.1732e-5\n",
      "before order: 6.103515625e-5\n",
      "non0 ele cnt: 32479\n",
      "overapproximate time: 0.000233705\n",
      "after order: 6.103515625e-5\n",
      "after reducing order: 3.0517578125e-5\n",
      "before size: (8, 8, 512, 2)\n",
      "after size: (8, 8, 512, 1)\n",
      "prop time:0.020416067\n",
      "comp time:4.0741e-5\n",
      "saving visualized bound: center_100_100/66_relu_7.png\n",
      "bound time:5.3061e-5\n"
     ]
    },
    {
     "name": "stdout",
     "output_type": "stream",
     "text": [
      "size(bound.generators): (8, 8, 512, 1)\n",
      "prop time:0.002810313\n",
      "comp time:0.001319959\n",
      "saving visualized bound: center_100_100/67_convtranspose_0.png\n",
      "bound time:9.9592e-5\n",
      "prop time:0.000172134\n",
      "comp time:4.8181e-5\n",
      "saving visualized bound: center_100_100/68_batchnorm_20.png\n",
      "bound time:0.000103543\n",
      "before order: 1.52587890625e-5\n",
      "non0 ele cnt: 64355\n",
      "overapproximate time: 0.000569093\n",
      "after order: 4.57763671875e-5\n",
      "after reducing order: "
     ]
    },
    {
     "name": "stdout",
     "output_type": "stream",
     "text": [
      "1.52587890625e-5\n",
      "before size: (16, 16, 256, 1)\n",
      "after size: (16, 16, 256, 1)\n",
      "prop time:0.080783909\n",
      "comp time:4.9121e-5\n",
      "saving visualized bound: center_100_100/69_batchnorm_20_relu.png\n",
      "bound time:0.000112483\n",
      "size(bound.generators): (16, 16, 256, 1)\n",
      "prop time:0.002057256\n",
      "comp time:0.000890089\n",
      "saving visualized bound: center_100_100/70_convtranspose_1.png\n",
      "bound time:0.000201984\n",
      "prop time:0.000209685\n",
      "comp time:7.1981e-5\n",
      "saving visualized bound: center_100_100/71_batchnorm_21.png\n",
      "bound time:0.000181054\n",
      "before order: 7.62939453125e-6\n",
      "non0 ele cnt: 128491\n",
      "overapproximate time: 0.000738476\n",
      "after order: 7.62939453125e-6\n",
      "after reducing order: 7.62939453125e-6\n",
      "before size: (32, 32, 128, 1)\n",
      "after size: (32, 32, 128, 1)\n",
      "prop time:0.001066213\n",
      "comp time:6.2021e-5\n",
      "saving visualized bound: center_100_100/72_batchnorm_21_relu.png\n",
      "bound time:0.000192234\n",
      "size(bound.generators): (32, 32, 128, 1)\n",
      "prop time:0.00273199\n",
      "comp time:0.001286618\n",
      "saving visualized bound: center_100_100/73_convtranspose_2.png\n",
      "bound time:0.00042891\n",
      "prop time:"
     ]
    },
    {
     "name": "stdout",
     "output_type": "stream",
     "text": [
      "0.000415459\n",
      "comp time:0.000160234\n",
      "saving visualized bound: center_100_100/74_batchnorm_22.png\n",
      "bound time:0.00041863\n",
      "before order: 3.814697265625e-6\n",
      "non0 ele cnt: 256934\n",
      "overapproximate time: 0.001676408\n",
      "after order: 7.62939453125e-6\n",
      "after reducing order: "
     ]
    },
    {
     "name": "stdout",
     "output_type": "stream",
     "text": [
      "3.814697265625e-6\n",
      "before size: (64, 64, 64, 1)\n",
      "after size: (64, 64, 64, 1)\n",
      "prop time:0.161222616\n",
      "comp time:0.000131853\n",
      "saving visualized bound: center_100_100/75_batchnorm_22_relu.png\n",
      "bound time:0.00042001\n",
      "size(bound.generators): (64, 64, 64, 1)\n",
      "prop time:0.009580273\n",
      "comp time:0.0049\n",
      "saving visualized bound: center_100_100/76_convtranspose_3.png\n",
      "bound time:0.002024315\n",
      "prop time:0.000948211\n",
      "comp time:0.000474011\n",
      "saving visualized bound: center_100_100/77_batchnorm_23.png\n",
      "bound time:0.001657077\n",
      "before order: "
     ]
    },
    {
     "name": "stdout",
     "output_type": "stream",
     "text": [
      "9.5367431640625e-7\n",
      "non0 ele cnt: 1023911\n",
      "overapproximate time: 0.017998714\n",
      "after order: 1.1444091796875e-5\n",
      "after reducing order: "
     ]
    },
    {
     "name": "stdout",
     "output_type": "stream",
     "text": [
      "9.5367431640625e-7\n",
      "before size: (128, 128, 64, 1)\n",
      "after size: (128, 128, 64, 1)\n",
      "prop time:7.375673419\n",
      "comp time:0.00046577\n",
      "saving visualized bound: center_100_100/78_batchnorm_23_relu.png\n",
      "bound time:0.001645587\n",
      "size(bound.generators): (128, 128, 64, 1)\n",
      "prop time:0.044993701\n"
     ]
    },
    {
     "name": "stdout",
     "output_type": "stream",
     "text": [
      "comp time:0.020575687\n",
      "saving visualized bound: center_100_100/79_convtranspose_4.png\n",
      "bound time:0.015938954\n",
      "prop time:"
     ]
    },
    {
     "name": "stdout",
     "output_type": "stream",
     "text": [
      "0.008326775\n",
      "comp time:0.004581653\n",
      "saving visualized bound: center_100_100/80_batchnorm_24.png\n",
      "bound time:0.017286094\n",
      "before order: "
     ]
    },
    {
     "name": "stdout",
     "output_type": "stream",
     "text": [
      "2.384185791015625e-7\n",
      "non0 ele cnt: 3948774\n",
      "overapproximate time: "
     ]
    },
    {
     "name": "stdout",
     "output_type": "stream",
     "text": [
      "0.533781369\n",
      "after order: 1.2636184692382812e-5\n",
      "after reducing order: "
     ]
    },
    {
     "name": "stdout",
     "output_type": "stream",
     "text": [
      "2.384185791015625e-7\n",
      "before size: (256, 256, 64, 1)\n",
      "after size: (256, 256, 64, 1)\n",
      "prop time:138.535318302\n",
      "comp time:0.001759845\n",
      "saving visualized bound: center_100_100/81_batchnorm_24_relu.png\n",
      "bound time:0.009031231\n"
     ]
    },
    {
     "name": "stdout",
     "output_type": "stream",
     "text": [
      "size(bound.generators): (256, 256, 64, 1)\n",
      "prop time:0.016896278\n",
      "comp time:0.007127524\n",
      "saving visualized bound: center_100_100/82_conv_20.png\n",
      "bound time:0.002876397\n",
      "prop time:"
     ]
    },
    {
     "name": "stdout",
     "output_type": "stream",
     "text": [
      "0.006080463\n",
      "comp time:0.00302941\n",
      "saving visualized bound: center_100_100/83_averagepool_1.png\n",
      "bound time:2.2391e-5\n",
      "prop time:5.0481e-5\n",
      "comp time:3.17e-6\n",
      "saving visualized bound: center_100_100/84_Flatten_0.png\n",
      "bound time:2.0341e-5\n"
     ]
    },
    {
     "data": {
      "text/plain": [
       "Dict{Any, Any} with 3 entries:\n",
       "  :current_node => \"Flatten_0\"\n",
       "  \"Flatten_0\"   => Dict{Any, Any}(:l=>Float32[0.720662, 3.50656, 3.83534, 4.470…\n",
       "  :batch_index  => 1"
      ]
     },
     "metadata": {},
     "output_type": "display_data"
    }
   ],
   "source": [
    "input_perturbed = copy(input);\n",
    "input_perturbed[100,100,1,1] = -0.5\n",
    "image_seeds = ImageConvexHull([input, input_perturbed])  # 256 x 256 x 3 x 2\n",
    "visualize(search_method, split_method, prop_method, Problem(model, image_seeds, output_set), \"center_100_100/\")"
   ]
  },
  {
   "cell_type": "code",
   "execution_count": 20,
   "metadata": {},
   "outputs": [
    {
     "name": "stdout",
     "output_type": "stream",
     "text": [
      "Set(Any[\"BatchNormalization\", \"Flatten\", \"Relu\", \"ConvTranspose\", \"Conv\", \"AveragePool\", \"Add\"])\n",
      "size(bound.generators): (256, 256, 3, 1)\n",
      "prop time:0.018608553\n",
      "comp time:0.008100922\n",
      "saving visualized bound: center_150_150/1_conv_0.png\n",
      "bound time:0.004376138\n",
      "prop time:"
     ]
    },
    {
     "name": "stdout",
     "output_type": "stream",
     "text": [
      "0.002451419\n",
      "comp time:0.001245894\n",
      "saving visualized bound: center_150_150/2_batchnorm_0.png\n",
      "bound time:0.004371908\n",
      "before order: 9.5367431640625e-7\n",
      "non0 ele cnt: 896\n",
      "overapproximate time: 0.026420378\n",
      "after order: 9.5367431640625e-6\n",
      "after reducing order: "
     ]
    },
    {
     "name": "stdout",
     "output_type": "stream",
     "text": [
      "4.76837158203125e-6\n",
      "before size: (128, 128, 64, 1)\n",
      "after size: (128, 128, 64, 5)\n",
      "prop time:4.226662661\n",
      "comp time:0.000920388\n",
      "saving visualized bound: center_150_150/3_batchnorm_0_relu.png\n",
      "bound time:0.008205403\n",
      "prop time:0.006751465\n",
      "comp time:0.001042731\n",
      "saving visualized bound: center_150_150/4_averagepool_0.png\n",
      "bound time:0.00246714\n",
      "size(bound.generators): (64, 64, 64, 5)\n"
     ]
    },
    {
     "name": "stdout",
     "output_type": "stream",
     "text": [
      "prop time:0.040270254\n",
      "comp time:0.005982399\n",
      "saving visualized bound: center_150_150/5_conv_1.png\n",
      "bound time:0.002242746\n",
      "prop time:0.001774805\n",
      "comp time:0.000332417\n",
      "saving visualized bound: center_150_150/6_batchnorm_1.png\n",
      "bound time:0.002135453\n",
      "before order: 1.9073486328125e-5\n",
      "non0 ele cnt: 1600\n",
      "overapproximate time: 0.006093372\n",
      "after order: 2.6702880859375e-5\n",
      "after reducing order: "
     ]
    },
    {
     "name": "stdout",
     "output_type": "stream",
     "text": [
      "7.62939453125e-6\n",
      "before size: (64, 64, 64, 5)\n",
      "after size: (64, 64, 64, 2)\n",
      "prop time:0.856983002\n",
      "comp time:0.000246354\n",
      "saving visualized bound: center_150_150/7_batchnorm_1_relu.png\n",
      "bound time:0.001105272\n",
      "size(bound.generators): (64, 64, 64, 2)\n",
      "prop time:0.017876287\n",
      "comp time:0.005289234\n",
      "saving visualized bound: center_150_150/8_conv_2.png\n",
      "bound time:0.001145303\n",
      "prop time:0.000661354\n",
      "comp time:0.000250555\n",
      "saving visualized bound: center_150_150/9_batchnorm_2.png\n",
      "bound time:0.001051351\n",
      "add_0"
     ]
    },
    {
     "name": "stdout",
     "output_type": "stream",
     "text": [
      "\n",
      "+\n",
      "saving visualized bound: center_150_150/10_add_0.png\n",
      "bound time:0.002114822\n",
      "before order: 2.6702880859375e-5\n",
      "non0 ele cnt: 3136\n",
      "overapproximate time: 0.01855957\n",
      "after order: 6.4849853515625e-5\n",
      "after reducing order: "
     ]
    },
    {
     "name": "stdout",
     "output_type": "stream",
     "text": [
      "1.52587890625e-5\n",
      "before size: (64, 64, 64, 7)\n",
      "after size: (64, 64, 64, 4)\n",
      "prop time:2.460043779\n",
      "comp time:0.000129312\n",
      "saving visualized bound: center_150_150/11_relu_0.png\n",
      "bound time:0.000838667\n",
      "size(bound.generators): (64, 64, 64, 4)\n",
      "prop time:0.023519848\n",
      "comp time:0.003286207\n",
      "saving visualized bound: center_150_150/12_conv_3.png\n",
      "bound time:0.000825056\n",
      "prop time:0.000704384\n",
      "comp time:0.000118422\n",
      "saving visualized bound: center_150_150/13_batchnorm_3.png\n",
      "bound time:0.000804036\n",
      "before order: "
     ]
    },
    {
     "name": "stdout",
     "output_type": "stream",
     "text": [
      "1.52587890625e-5\n",
      "non0 ele cnt: 5184\n",
      "overapproximate time: 0.006030399\n",
      "after order: 5.7220458984375e-5\n",
      "after reducing order: "
     ]
    },
    {
     "name": "stdout",
     "output_type": "stream",
     "text": [
      "1.1444091796875e-5\n",
      "before size: (64, 64, 64, 4)\n",
      "after size: (64, 64, 64, 3)\n",
      "prop time:2.077409386\n",
      "comp time:0.000121563\n",
      "saving visualized bound: center_150_150/14_batchnorm_3_relu.png\n",
      "bound time:0.000592701\n",
      "size(bound.generators): (64, 64, 64, 3)\n",
      "prop time:0.018046279\n",
      "comp time:0.003613142\n",
      "saving visualized bound: center_150_150/15_conv_4.png\n",
      "bound time:0.000652543\n",
      "prop time:0.000567842\n",
      "comp time:0.000107542\n",
      "saving visualized bound: center_150_150/16_batchnorm_4.png\n",
      "bound time:0.000579782\n",
      "add_1\n",
      "+\n",
      "saving visualized bound: center_150_150/17_add_1.png\n",
      "bound time:0.001295536\n",
      "before order: "
     ]
    },
    {
     "name": "stdout",
     "output_type": "stream",
     "text": [
      "2.6702880859375e-5\n",
      "non0 ele cnt: 7743\n",
      "overapproximate time: 0.013414026\n",
      "after order: 9.1552734375e-5\n",
      "after reducing order: "
     ]
    },
    {
     "name": "stdout",
     "output_type": "stream",
     "text": [
      "2.6702880859375e-5\n",
      "before size: (64, 64, 64, 7)\n",
      "after size: (64, 64, 64, 7)\n",
      "prop time:3.138408633\n",
      "comp time:0.000124603\n",
      "saving visualized bound: center_150_150/18_relu_1.png\n",
      "bound time:0.001262425\n",
      "size(bound.generators): (64, 64, 64, 7)\n",
      "prop time:0.023661309\n",
      "comp time:0.001332127\n",
      "saving visualized bound: center_150_150/19_conv_5.png\n",
      "bound time:0.0005507\n",
      "size(bound.generators): (64, 64, 64, 7)\n",
      "prop time:0.003253155\n",
      "comp time:0.000271355\n",
      "saving visualized bound: center_150_150/20_conv_7.png\n",
      "bound time:0.00051033\n",
      "prop time:"
     ]
    },
    {
     "name": "stdout",
     "output_type": "stream",
     "text": [
      "0.000585041\n",
      "comp time:7.1131e-5\n",
      "saving visualized bound: center_150_150/21_batchnorm_5.png\n",
      "bound time:0.00052141\n",
      "prop time:0.000586892\n",
      "comp time:7.1782e-5\n",
      "saving visualized bound: center_150_150/22_batchnorm_7.png\n",
      "bound time:0.00051928\n",
      "before order: 5.340576171875e-5\n",
      "non0 ele cnt: 4608\n",
      "overapproximate time: 0.004909728\n",
      "after order: 0.00022125244140625\n",
      "after reducing order: "
     ]
    },
    {
     "name": "stdout",
     "output_type": "stream",
     "text": [
      "6.103515625e-5\n",
      "before size: (32, 32, 128, 7)\n",
      "after size: (32, 32, 128, 8)\n",
      "prop time:2.262910256\n",
      "comp time:6.9821e-5\n",
      "saving visualized bound: center_150_150/23_batchnorm_5_relu.png\n",
      "bound time:0.000613883\n",
      "size(bound.generators): (32, 32, 128, 8)\n",
      "prop time:0.03587095\n",
      "comp time:0.002414978\n",
      "saving visualized bound: center_150_150/24_conv_6.png\n",
      "bound time:0.000687113\n",
      "prop time:0.000644833\n",
      "comp time:6.6371e-5\n",
      "saving visualized bound: center_150_150/25_batchnorm_6.png\n",
      "bound time:0.000604402\n",
      "add_2"
     ]
    },
    {
     "name": "stdout",
     "output_type": "stream",
     "text": [
      "\n",
      "+\n",
      "saving visualized bound: center_150_150/26_add_2.png\n",
      "bound time:0.001176324\n",
      "before order: 0.00011444091796875\n",
      "non0 ele cnt: 8189\n",
      "overapproximate time: 0.008784063\n",
      "after order: 0.00022125244140625\n",
      "after reducing order: "
     ]
    },
    {
     "name": "stdout",
     "output_type": "stream",
     "text": [
      "3.0517578125e-5\n",
      "before size: (32, 32, 128, 15)\n",
      "after size: (32, 32, 128, 4)\n",
      "prop time:2.209259355\n",
      "comp time:7.1172e-5\n",
      "saving visualized bound: center_150_150/27_relu_2.png\n",
      "bound time:0.000380748\n",
      "size(bound.generators): (32, 32, 128, 4)\n",
      "prop time:0.020460384\n",
      "comp time:0.002489469\n",
      "saving visualized bound: center_150_150/28_conv_8.png\n",
      "bound time:0.000380207\n",
      "prop time:0.000368107\n",
      "comp time:6.4771e-5\n",
      "saving visualized bound: center_150_150/29_batchnorm_8.png\n",
      "bound time:0.000345677\n",
      "before order: 3.0517578125e-5\n",
      "non0 ele cnt: 12791\n",
      "overapproximate time: 0.002689653\n",
      "after order: 0.00011444091796875\n",
      "after reducing order: "
     ]
    },
    {
     "name": "stdout",
     "output_type": "stream",
     "text": [
      "2.288818359375e-5\n",
      "before size: (32, 32, 128, 4)\n",
      "after size: (32, 32, 128, 3)\n",
      "prop time:2.241684836\n",
      "comp time:7.2731e-5\n",
      "saving visualized bound: center_150_150/30_batchnorm_8_relu.png\n",
      "bound time:0.000322806\n",
      "size(bound.generators): (32, 32, 128, 3)\n",
      "prop time:0.015468435\n",
      "comp time:0.002866636\n",
      "saving visualized bound: center_150_150/31_conv_9.png\n",
      "bound time:0.000318947\n",
      "prop time:0.000322377\n",
      "comp time:5.7401e-5\n",
      "saving visualized bound: center_150_150/32_batchnorm_9.png\n",
      "bound time:0.000298056\n",
      "add_3\n",
      "+\n",
      "saving visualized bound: center_150_150/33_add_3.png\n",
      "bound time:0.00054929\n",
      "before order: "
     ]
    },
    {
     "name": "stdout",
     "output_type": "stream",
     "text": [
      "5.340576171875e-5\n",
      "non0 ele cnt: 18298\n",
      "overapproximate time: 0.004451028\n",
      "after order: 0.0001983642578125\n",
      "after reducing order: "
     ]
    },
    {
     "name": "stdout",
     "output_type": "stream",
     "text": [
      "4.57763671875e-5\n",
      "before size: (32, 32, 128, 7)\n",
      "after size: (32, 32, 128, 6)\n",
      "prop time:3.649719492\n",
      "comp time:0.000140683\n",
      "saving visualized bound: center_150_150/34_relu_3.png\n",
      "bound time:0.00050107\n",
      "size(bound.generators): (32, 32, 128, 6)\n",
      "prop time:0.018060734\n",
      "comp time:0.001336046\n",
      "saving visualized bound: center_150_150/35_conv_10.png\n",
      "bound time:0.000232435\n",
      "size(bound.generators): (32, 32, 128, 6)\n",
      "prop time:0.002311886\n",
      "comp time:0.000238975\n",
      "saving visualized bound: center_150_150/36_conv_12.png\n",
      "bound time:0.000232514\n",
      "prop time:0.000342606\n",
      "comp time:4.8121e-5\n",
      "saving visualized bound: center_150_150/37_batchnorm_10.png\n",
      "bound time:0.000257045\n",
      "prop time:"
     ]
    },
    {
     "name": "stdout",
     "output_type": "stream",
     "text": [
      "0.000480719\n",
      "comp time:4.4831e-5\n",
      "saving visualized bound: center_150_150/38_batchnorm_12.png\n",
      "bound time:0.000309276\n",
      "before order: 9.1552734375e-5\n",
      "non0 ele cnt: 12255\n",
      "overapproximate time: 0.001083351\n",
      "after order: 0.0001220703125\n",
      "after reducing order: "
     ]
    },
    {
     "name": "stdout",
     "output_type": "stream",
     "text": [
      "1.52587890625e-5\n",
      "before size: (16, 16, 256, 6)\n",
      "after size: (16, 16, 256, 1)\n",
      "prop time:0.295286362\n",
      "comp time:5.0671e-5\n",
      "saving visualized bound: center_150_150/39_batchnorm_10_relu.png\n",
      "bound time:0.000114092\n",
      "size(bound.generators): (16, 16, 256, 1)\n",
      "prop time:0.006976168\n",
      "comp time:0.003442326\n",
      "saving visualized bound: center_150_150/40_conv_11.png\n",
      "bound time:0.000102322\n",
      "prop time:0.000161983\n",
      "comp time:4.603e-5\n",
      "saving visualized bound: center_150_150/41_batchnorm_11.png\n",
      "bound time:0.000101702\n",
      "add_4\n",
      "+\n",
      "saving visualized bound: center_150_150/42_add_4.png\n",
      "bound time:0.000267045\n",
      "before order: 0.0001068115234375\n",
      "non0 ele cnt: 19380\n",
      "overapproximate time: 0.000834647\n",
      "after order: 0.0001068115234375\n",
      "after reducing order: "
     ]
    },
    {
     "name": "stdout",
     "output_type": "stream",
     "text": [
      "1.52587890625e-5\n",
      "before size: (16, 16, 256, 7)\n",
      "after size: (16, 16, 256, 1)\n",
      "prop time:0.251717391\n",
      "comp time:4.8881e-5\n",
      "saving visualized bound: center_150_150/43_relu_4.png\n",
      "bound time:0.000119522\n",
      "size(bound.generators): (16, 16, 256, 1)\n",
      "prop time:0.006707263\n",
      "comp time:0.003380207\n",
      "saving visualized bound: center_150_150/44_conv_13.png\n",
      "bound time:0.000100102\n",
      "prop time:0.000167493\n",
      "comp time:4.3281e-5\n",
      "saving visualized bound: center_150_150/45_batchnorm_13.png\n",
      "bound time:7.1472e-5\n",
      "before order: 1.52587890625e-5\n",
      "non0 ele cnt: 27474\n",
      "overapproximate time: 0.000441209\n",
      "after order: 3.0517578125e-5\n",
      "after reducing order: "
     ]
    },
    {
     "name": "stdout",
     "output_type": "stream",
     "text": [
      "1.52587890625e-5\n",
      "before size: (16, 16, 256, 1)\n",
      "after size: (16, 16, 256, 1)\n",
      "prop time:0.043545646\n",
      "comp time:5.1131e-5\n",
      "saving visualized bound: center_150_150/46_batchnorm_13_relu.png\n",
      "bound time:0.000115993\n",
      "size(bound.generators): (16, 16, 256, 1)\n",
      "prop time:0.00656795\n",
      "comp time:0.003258224\n",
      "saving visualized bound: center_150_150/47_conv_14.png\n",
      "bound time:0.000110642\n",
      "prop time:0.000167844\n",
      "comp time:4.0411e-5\n",
      "saving visualized bound: center_150_150/48_batchnorm_14.png\n",
      "bound time:7.4512e-5\n",
      "add_5\n",
      "+\n",
      "saving visualized bound: center_150_150/49_add_5.png\n",
      "bound time:0.000121533\n",
      "before order: 3.0517578125e-5\n",
      "non0 ele cnt: 36800\n",
      "overapproximate time: 0.0005085\n",
      "after order: 4.57763671875e-5\n",
      "after reducing order: "
     ]
    },
    {
     "name": "stdout",
     "output_type": "stream",
     "text": [
      "1.52587890625e-5\n",
      "before size: (16, 16, 256, 2)\n",
      "after size: (16, 16, 256, 1)\n",
      "prop time:0.08493729\n",
      "comp time:4.8931e-5\n",
      "saving visualized bound: center_150_150/50_relu_5.png\n",
      "bound time:0.000115222\n",
      "size(bound.generators): (16, 16, 256, 1)\n",
      "prop time:0.005033219\n",
      "comp time:0.002573771\n",
      "saving visualized bound: center_150_150/51_conv_15.png\n",
      "bound time:5.7481e-5\n",
      "size(bound.generators): (16, 16, 256, 1)\n",
      "prop time:0.000981899\n",
      "comp time:0.000375557\n",
      "saving visualized bound: center_150_150/52_conv_17.png\n",
      "bound time:5.9171e-5\n",
      "prop time:0.000176644\n",
      "comp time:4.7161e-5\n",
      "saving visualized bound: center_150_150/53_batchnorm_15.png\n",
      "bound time:5.7381e-5\n",
      "prop time:0.000198904\n",
      "comp time:4.2241e-5\n",
      "saving visualized bound: center_150_150/54_batchnorm_17.png\n",
      "bound time:5.8311e-5\n",
      "before order: "
     ]
    },
    {
     "name": "stdout",
     "output_type": "stream",
     "text": [
      "3.0517578125e-5\n",
      "non0 ele cnt: 19543\n",
      "overapproximate time: 0.000238894\n",
      "after order: 3.0517578125e-5\n",
      "after reducing order: 3.0517578125e-5\n",
      "before size: (8, 8, 512, 1)\n",
      "after size: (8, 8, 512, 1)\n",
      "prop time:0.000593382\n",
      "comp time:3.1471e-5\n",
      "saving visualized bound: center_150_150/55_batchnorm_15_relu.png\n",
      "bound time:5.1801e-5\n",
      "size(bound.generators): (8, 8, 512, 1)\n",
      "prop time:0.010658298\n",
      "comp time:0.004468208\n",
      "saving visualized bound: center_150_150/56_conv_16.png\n",
      "bound time:5.5391e-5\n",
      "prop time:0.000173983\n",
      "comp time:4.286e-5\n",
      "saving visualized bound: center_150_150/57_batchnorm_16.png\n",
      "bound time:5.7161e-5\n",
      "add_6\n",
      "+\n",
      "saving visualized bound: center_150_150/58_add_6.png\n",
      "bound time:6.0891e-5\n",
      "before order: 6.103515625e-5\n",
      "non0 ele cnt: 25240\n",
      "overapproximate time: 0.000245705\n",
      "after order: 6.103515625e-5\n",
      "after reducing order: "
     ]
    },
    {
     "name": "stdout",
     "output_type": "stream",
     "text": [
      "3.0517578125e-5\n",
      "before size: (8, 8, 512, 2)\n",
      "after size: (8, 8, 512, 1)\n",
      "prop time:0.022015213\n",
      "comp time:2.7741e-5\n",
      "saving visualized bound: center_150_150/59_relu_6.png\n",
      "bound time:5.3881e-5\n",
      "size(bound.generators): (8, 8, 512, 1)\n",
      "prop time:0.010065939\n",
      "comp time:0.004539359\n",
      "saving visualized bound: center_150_150/60_conv_18.png\n",
      "bound time:5.5961e-5\n",
      "prop time:0.000166263\n",
      "comp time:4.503e-5\n",
      "saving visualized bound: center_150_150/61_batchnorm_18.png\n",
      "bound time:0.000130663\n",
      "before order: 3.0517578125e-5\n",
      "non0 ele cnt: 30228\n",
      "overapproximate time: 0.000248885\n",
      "after order: 6.103515625e-5\n",
      "after reducing order: 3.0517578125e-5\n",
      "before size: (8, 8, 512, 1)\n",
      "after size: (8, 8, 512, 1)\n",
      "prop time:0.021938281\n",
      "comp time:0.000103372\n",
      "saving visualized bound: center_150_150/62_batchnorm_18_relu.png\n",
      "bound time:5.5781e-5\n"
     ]
    },
    {
     "name": "stdout",
     "output_type": "stream",
     "text": [
      "size(bound.generators): (8, 8, 512, 1)\n",
      "prop time:0.010904986\n",
      "comp time:0.004823485\n",
      "saving visualized bound: center_150_150/63_conv_19.png\n",
      "bound time:5.6151e-5\n",
      "prop time:0.000236144\n",
      "comp time:6.5151e-5\n",
      "saving visualized bound: center_150_150/64_batchnorm_19.png\n",
      "bound time:6.0851e-5\n",
      "add_7\n",
      "+\n",
      "saving visualized bound: center_150_150/65_add_7.png\n",
      "bound time:5.7911e-5\n",
      "before order: 6.103515625e-5\n",
      "non0 ele cnt: 31616\n",
      "overapproximate time: 0.000248015\n",
      "after order: 9.1552734375e-5\n",
      "after reducing order: "
     ]
    },
    {
     "name": "stdout",
     "output_type": "stream",
     "text": [
      "3.0517578125e-5\n",
      "before size: (8, 8, 512, 2)\n",
      "after size: (8, 8, 512, 1)\n",
      "prop time:0.043336672\n",
      "comp time:2.8821e-5\n",
      "saving visualized bound: center_150_150/66_relu_7.png\n",
      "bound time:5.8671e-5\n",
      "size(bound.generators): (8, 8, 512, 1)\n",
      "prop time:0.003058959\n",
      "comp time:0.001150432\n",
      "saving visualized bound: center_150_150/67_convtranspose_0.png\n",
      "bound time:0.000100472\n",
      "prop time:0.000168713\n",
      "comp time:4.42e-5\n",
      "saving visualized bound: center_150_150/68_batchnorm_20.png\n",
      "bound time:7.5062e-5\n",
      "before order: 1.52587890625e-5\n",
      "non0 ele cnt: 61234\n",
      "overapproximate time: 0.000300585\n",
      "after order: 1.52587890625e-5\n",
      "after reducing order: 1.52587890625e-5\n",
      "before size: (16, 16, 256, 1)\n",
      "after size: (16, 16, 256, 1)\n",
      "prop time:0.000601731\n",
      "comp time:4.3251e-5\n",
      "saving visualized bound: center_150_150/69_batchnorm_20_relu.png\n",
      "bound time:9.4682e-5\n",
      "size(bound.generators): (16, 16, 256, 1)\n",
      "prop time:0.001959159\n",
      "comp time:0.000846367\n",
      "saving visualized bound: center_150_150/70_convtranspose_1.png\n",
      "bound time:0.000205594\n",
      "prop time:"
     ]
    },
    {
     "name": "stdout",
     "output_type": "stream",
     "text": [
      "0.000191874\n",
      "comp time:6.3921e-5\n",
      "saving visualized bound: center_150_150/71_batchnorm_21.png\n",
      "bound time:0.000187494\n",
      "before order: 7.62939453125e-6\n",
      "non0 ele cnt: 119300\n",
      "overapproximate time: 0.000922908\n",
      "after order: 1.52587890625e-5\n",
      "after reducing order: "
     ]
    },
    {
     "name": "stdout",
     "output_type": "stream",
     "text": [
      "7.62939453125e-6\n",
      "before size: (32, 32, 128, 1)\n",
      "after size: (32, 32, 128, 1)\n",
      "prop time:0.086350928\n",
      "comp time:7.3802e-5\n",
      "saving visualized bound: center_150_150/72_batchnorm_21_relu.png\n",
      "bound time:0.000215475\n",
      "size(bound.generators): (32, 32, 128, 1)\n",
      "prop time:0.002851257\n",
      "comp time:0.001300176\n",
      "saving visualized bound: center_150_150/73_convtranspose_2.png\n",
      "bound time:0.000376778\n",
      "prop time:0.000297806\n",
      "comp time:0.000119023\n",
      "saving visualized bound: center_150_150/74_batchnorm_22.png\n",
      "bound time:0.00046968\n",
      "before order: 3.814697265625e-6\n",
      "non0 ele cnt: 236570\n",
      "overapproximate time: 0.001361617\n",
      "after order: 3.814697265625e-6\n",
      "after reducing order: 3.814697265625e-6\n",
      "before size: (64, 64, 64, 1)\n",
      "after size: (64, 64, 64, 1)\n",
      "prop time:0.001795796\n",
      "comp time:0.000109152\n",
      "saving visualized bound: center_150_150/75_batchnorm_22_relu.png\n",
      "bound time:0.000403998\n"
     ]
    },
    {
     "name": "stdout",
     "output_type": "stream",
     "text": [
      "size(bound.generators): (64, 64, 64, 1)\n",
      "prop time:0.009657079\n",
      "comp time:0.004948598\n",
      "saving visualized bound: center_150_150/76_convtranspose_3.png\n",
      "bound time:0.001774925\n",
      "prop time:0.00103469\n",
      "comp time:0.000552631\n",
      "saving visualized bound: center_150_150/77_batchnorm_23.png\n",
      "bound time:0.001635672\n",
      "before order: "
     ]
    },
    {
     "name": "stdout",
     "output_type": "stream",
     "text": [
      "9.5367431640625e-7\n",
      "non0 ele cnt: 952855\n",
      "overapproximate time: 0.006770442\n",
      "after order: 9.5367431640625e-7\n",
      "after reducing order: 9.5367431640625e-7\n",
      "before size: (128, 128, 64, 1)\n",
      "after size: (128, 128, 64, 1)\n",
      "prop time:0.007826942\n",
      "comp time:0.000490739\n",
      "saving visualized bound: center_150_150/78_batchnorm_23_relu.png\n",
      "bound time:0.001817716\n",
      "size(bound.generators): (128, 128, 64, 1)\n",
      "prop time:0.041976815\n"
     ]
    },
    {
     "name": "stdout",
     "output_type": "stream",
     "text": [
      "comp time:0.020428781\n",
      "saving visualized bound: center_150_150/79_convtranspose_4.png\n",
      "bound time:0.011313933\n",
      "prop time:"
     ]
    },
    {
     "name": "stdout",
     "output_type": "stream",
     "text": [
      "0.008035589\n",
      "comp time:0.003867507\n",
      "saving visualized bound: center_150_150/80_batchnorm_24.png\n",
      "bound time:0.016837201\n",
      "before order: "
     ]
    },
    {
     "name": "stdout",
     "output_type": "stream",
     "text": [
      "2.384185791015625e-7\n",
      "non0 ele cnt: 3718836\n",
      "overapproximate time: "
     ]
    },
    {
     "name": "stdout",
     "output_type": "stream",
     "text": [
      "0.144593222\n",
      "after order: 2.86102294921875e-6\n",
      "after reducing order: "
     ]
    },
    {
     "name": "stdout",
     "output_type": "stream",
     "text": [
      "2.384185791015625e-7\n",
      "before size: (256, 256, 64, 1)\n",
      "after size: (256, 256, 64, 1)\n",
      "prop time:29.576159201\n",
      "comp time:0.001895567\n",
      "saving visualized bound: center_150_150/81_batchnorm_24_relu.png\n",
      "bound time:0.009139136\n"
     ]
    },
    {
     "name": "stdout",
     "output_type": "stream",
     "text": [
      "size(bound.generators): (256, 256, 64, 1)\n",
      "prop time:0.009794289\n",
      "comp time:0.004291993\n",
      "saving visualized bound: center_150_150/82_conv_20.png\n",
      "bound time:0.003023898\n",
      "prop time:"
     ]
    },
    {
     "name": "stdout",
     "output_type": "stream",
     "text": [
      "0.006661119\n",
      "comp time:0.00364318\n",
      "saving visualized bound: center_150_150/83_averagepool_1.png\n",
      "bound time:2.3811e-5\n",
      "prop time:5.3391e-5\n",
      "comp time:3.21e-6\n",
      "saving visualized bound: center_150_150/84_Flatten_0.png\n",
      "bound time:8.61e-6\n"
     ]
    },
    {
     "data": {
      "text/plain": [
       "Dict{Any, Any} with 3 entries:\n",
       "  :current_node => \"Flatten_0\"\n",
       "  \"Flatten_0\"   => Dict{Any, Any}(:l=>Float32[0.720675, 3.50657, 3.83532, 4.470…\n",
       "  :batch_index  => 1"
      ]
     },
     "metadata": {},
     "output_type": "display_data"
    }
   ],
   "source": [
    "input_perturbed = copy(input);\n",
    "input_perturbed[150,150,1,1] = -0.5\n",
    "image_seeds = ImageConvexHull([input, input_perturbed])  # 256 x 256 x 3 x 2\n",
    "visualize(search_method, split_method, prop_method, Problem(model, image_seeds, output_set), \"center_150_150/\")"
   ]
  },
  {
   "cell_type": "code",
   "execution_count": 21,
   "metadata": {},
   "outputs": [
    {
     "name": "stdout",
     "output_type": "stream",
     "text": [
      "Set(Any[\"BatchNormalization\", \"Flatten\", \"Relu\", \"ConvTranspose\", \"Conv\", \"AveragePool\", \"Add\"])\n",
      "size(bound.generators): (256, 256, 3, 1)\n",
      "prop time:0.011462581\n",
      "comp time:0.005671749\n",
      "saving visualized bound: center_200_200/1_conv_0.png\n",
      "bound time:0.001718173\n",
      "prop time:0.000940848\n",
      "comp time:0.000444609\n",
      "saving visualized bound: center_200_200/2_batchnorm_0.png\n",
      "bound time:0.0016082\n",
      "before order: "
     ]
    },
    {
     "name": "stdout",
     "output_type": "stream",
     "text": [
      "9.5367431640625e-7\n",
      "non0 ele cnt: 896\n",
      "overapproximate time: 0.030370974\n",
      "after order: 1.239776611328125e-5\n",
      "after reducing order: "
     ]
    },
    {
     "name": "stdout",
     "output_type": "stream",
     "text": [
      "3.814697265625e-6\n",
      "before size: (128, 128, 64, 1)\n",
      "after size: (128, 128, 64, 4)\n",
      "prop time:6.81862831\n",
      "comp time:0.000935147\n",
      "saving visualized bound: center_200_200/3_batchnorm_0_relu.png\n",
      "bound time:0.007069326\n",
      "prop time:0.005458816\n",
      "comp time:0.000845136\n",
      "saving visualized bound: center_200_200/4_averagepool_0.png\n",
      "bound time:0.001522609\n",
      "size(bound.generators): (64, 64, 64, 4)\n"
     ]
    },
    {
     "name": "stdout",
     "output_type": "stream",
     "text": [
      "prop time:0.023763886\n",
      "comp time:0.004366943\n",
      "saving visualized bound: center_200_200/5_conv_1.png\n",
      "bound time:0.001324705\n",
      "prop time:0.001133751\n",
      "comp time:0.000118182\n",
      "saving visualized bound: center_200_200/6_batchnorm_1.png\n",
      "bound time:0.001129732\n",
      "before order: 1.52587890625e-5\n",
      "non0 ele cnt: 1600\n",
      "overapproximate time: 0.003091288\n",
      "after order: 2.288818359375e-5\n",
      "after reducing order: "
     ]
    },
    {
     "name": "stdout",
     "output_type": "stream",
     "text": [
      "7.62939453125e-6\n",
      "before size: (64, 64, 64, 4)\n",
      "after size: (64, 64, 64, 2)\n",
      "prop time:0.675331498\n",
      "comp time:0.000139103\n",
      "saving visualized bound: center_200_200/7_batchnorm_1_relu.png\n",
      "bound time:0.001089691\n",
      "size(bound.generators): (64, 64, 64, 2)\n",
      "prop time:0.021069683\n",
      "comp time:0.00520076\n",
      "saving visualized bound: center_200_200/8_conv_2.png\n",
      "bound time:0.001118432\n",
      "prop time:0.000810335\n",
      "comp time:0.000245274\n",
      "saving visualized bound: center_200_200/9_batchnorm_2.png\n",
      "bound time:0.001068521\n",
      "add_0"
     ]
    },
    {
     "name": "stdout",
     "output_type": "stream",
     "text": [
      "\n",
      "+\n",
      "saving visualized bound: center_200_200/10_add_0.png\n",
      "bound time:0.001717042\n",
      "before order: 2.288818359375e-5\n",
      "non0 ele cnt: 3136\n",
      "overapproximate time: 0.011534061\n",
      "after order: 3.4332275390625e-5\n",
      "after reducing order: "
     ]
    },
    {
     "name": "stdout",
     "output_type": "stream",
     "text": [
      "1.1444091796875e-5\n",
      "before size: (64, 64, 64, 6)\n",
      "after size: (64, 64, 64, 3)\n",
      "prop time:1.16828066\n",
      "comp time:0.000255625\n",
      "saving visualized bound: center_200_200/11_relu_0.png\n",
      "bound time:0.001303785\n",
      "size(bound.generators): (64, 64, 64, 3)\n",
      "prop time:0.02507275\n",
      "comp time:0.005292161\n",
      "saving visualized bound: center_200_200/12_conv_3.png\n",
      "bound time:0.001384737\n",
      "prop time:0.0010414\n",
      "comp time:0.000251405\n",
      "saving visualized bound: center_200_200/13_batchnorm_3.png\n",
      "bound time:0.001285144\n",
      "before order: "
     ]
    },
    {
     "name": "stdout",
     "output_type": "stream",
     "text": [
      "1.1444091796875e-5\n",
      "non0 ele cnt: 5184\n",
      "overapproximate time: 0.032875039\n",
      "after order: 0.000217437744140625\n",
      "after reducing order: "
     ]
    },
    {
     "name": "stdout",
     "output_type": "stream",
     "text": [
      "1.1444091796875e-5\n",
      "before size: (64, 64, 64, 3)\n",
      "after size: (64, 64, 64, 3)\n",
      "prop time:14.082002122\n",
      "comp time:0.000132053\n",
      "saving visualized bound: center_200_200/14_batchnorm_3_relu.png\n",
      "bound time:0.000602582\n",
      "size(bound.generators): (64, 64, 64, 3)\n",
      "prop time:0.01942829\n",
      "comp time:0.003006446\n",
      "saving visualized bound: center_200_200/15_conv_4.png\n",
      "bound time:0.000667833\n",
      "prop time:0.00054958\n",
      "comp time:0.000121552\n",
      "saving visualized bound: center_200_200/16_batchnorm_4.png\n",
      "bound time:0.000626592\n",
      "add_1"
     ]
    },
    {
     "name": "stdout",
     "output_type": "stream",
     "text": [
      "\n",
      "+\n",
      "saving visualized bound: center_200_200/17_add_1.png\n",
      "bound time:0.001095451\n",
      "before order: 2.288818359375e-5\n",
      "non0 ele cnt: 7741\n",
      "overapproximate time: 0.006817531\n",
      "after order: 7.62939453125e-5\n",
      "after reducing order: "
     ]
    },
    {
     "name": "stdout",
     "output_type": "stream",
     "text": [
      "3.4332275390625e-5\n",
      "before size: (64, 64, 64, 6)\n",
      "after size: (64, 64, 64, 9)\n",
      "prop time:2.703547488\n",
      "comp time:0.000140392\n",
      "saving visualized bound: center_200_200/18_relu_1.png\n",
      "bound time:0.001509939\n",
      "size(bound.generators): (64, 64, 64, 9)\n",
      "prop time:0.029819783\n",
      "comp time:0.001405247\n",
      "saving visualized bound: center_200_200/19_conv_5.png\n",
      "bound time:0.000698224\n",
      "size(bound.generators): (64, 64, 64, 9)\n",
      "prop time:0.004375643\n",
      "comp time:0.000289536\n",
      "saving visualized bound: center_200_200/20_conv_7.png\n",
      "bound time:0.000677213\n",
      "prop time:"
     ]
    },
    {
     "name": "stdout",
     "output_type": "stream",
     "text": [
      "0.000684143\n",
      "comp time:6.4321e-5\n",
      "saving visualized bound: center_200_200/21_batchnorm_5.png\n",
      "bound time:0.000626372\n",
      "prop time:0.000719153\n",
      "comp time:6.6671e-5\n",
      "saving visualized bound: center_200_200/22_batchnorm_7.png\n",
      "bound time:0.000694873\n",
      "before order: 6.866455078125e-5\n",
      "non0 ele cnt: 6265\n",
      "overapproximate time: 0.004937213\n",
      "after order: 0.00019073486328125\n",
      "after reducing order: "
     ]
    },
    {
     "name": "stdout",
     "output_type": "stream",
     "text": [
      "3.0517578125e-5\n",
      "before size: (32, 32, 128, 9)\n",
      "after size: (32, 32, 128, 4)\n",
      "prop time:3.34830922\n",
      "comp time:7.4272e-5\n",
      "saving visualized bound: center_200_200/23_batchnorm_5_relu.png\n",
      "bound time:0.000378988\n",
      "size(bound.generators): (32, 32, 128, 4)\n",
      "prop time:0.022516905\n",
      "comp time:0.002421126\n",
      "saving visualized bound: center_200_200/24_conv_6.png\n",
      "bound time:0.000414458\n",
      "prop time:0.000385327\n",
      "comp time:5.9451e-5\n",
      "saving visualized bound: center_200_200/25_batchnorm_6.png\n",
      "bound time:0.000352887\n",
      "add_2"
     ]
    },
    {
     "name": "stdout",
     "output_type": "stream",
     "text": [
      "\n",
      "+\n",
      "saving visualized bound: center_200_200/26_add_2.png\n",
      "bound time:0.000992718\n",
      "before order: 9.918212890625e-5\n",
      "non0 ele cnt: 10264\n",
      "overapproximate time: 0.007836607\n",
      "after order: 0.00019073486328125\n",
      "after reducing order: "
     ]
    },
    {
     "name": "stdout",
     "output_type": "stream",
     "text": [
      "3.0517578125e-5\n",
      "before size: (32, 32, 128, 13)\n",
      "after size: (32, 32, 128, 4)\n",
      "prop time:2.144083593\n",
      "comp time:6.9752e-5\n",
      "saving visualized bound: center_200_200/27_relu_2.png\n",
      "bound time:0.000377568\n",
      "size(bound.generators): (32, 32, 128, 4)\n",
      "prop time:0.01849049\n",
      "comp time:0.002502167\n",
      "saving visualized bound: center_200_200/28_conv_8.png\n",
      "bound time:0.000396208\n",
      "prop time:0.000381667\n",
      "comp time:6.9641e-5\n",
      "saving visualized bound: center_200_200/29_batchnorm_8.png\n",
      "bound time:0.000342656\n",
      "before order: 3.0517578125e-5\n",
      "non0 ele cnt: 15067\n",
      "overapproximate time: 0.00266347\n",
      "after order: 0.0001220703125\n",
      "after reducing order: "
     ]
    },
    {
     "name": "stdout",
     "output_type": "stream",
     "text": [
      "1.52587890625e-5\n",
      "before size: (32, 32, 128, 4)\n",
      "after size: (32, 32, 128, 2)\n",
      "prop time:1.464861985\n",
      "comp time:6.9461e-5\n",
      "saving visualized bound: center_200_200/30_batchnorm_8_relu.png\n",
      "bound time:0.000271495\n",
      "size(bound.generators): (32, 32, 128, 2)\n",
      "prop time:0.013043185\n",
      "comp time:0.002967116\n",
      "saving visualized bound: center_200_200/31_conv_9.png\n",
      "bound time:0.000246765\n",
      "prop time:0.000250925\n",
      "comp time:7.1281e-5\n",
      "saving visualized bound: center_200_200/32_batchnorm_9.png\n",
      "bound time:0.000243854\n",
      "add_3\n",
      "+\n",
      "saving visualized bound: center_200_200/33_add_3.png\n",
      "bound time:0.000448739\n",
      "before order: "
     ]
    },
    {
     "name": "stdout",
     "output_type": "stream",
     "text": [
      "4.57763671875e-5\n",
      "non0 ele cnt: 20631\n",
      "overapproximate time: 0.004930923\n",
      "after order: 0.000244140625\n",
      "after reducing order: "
     ]
    },
    {
     "name": "stdout",
     "output_type": "stream",
     "text": [
      "3.814697265625e-5\n",
      "before size: (32, 32, 128, 6)\n",
      "after size: (32, 32, 128, 5)\n",
      "prop time:4.92626713\n",
      "comp time:7.9001e-5\n",
      "saving visualized bound: center_200_200/34_relu_3.png\n",
      "bound time:0.000462759\n",
      "size(bound.generators): (32, 32, 128, 5)\n",
      "prop time:0.013955291\n",
      "comp time:0.001437357\n",
      "saving visualized bound: center_200_200/35_conv_10.png\n",
      "bound time:0.000213104\n",
      "size(bound.generators): (32, 32, 128, 5)\n",
      "prop time:0.001912326\n",
      "comp time:0.000236425\n",
      "saving visualized bound: center_200_200/36_conv_12.png\n",
      "bound time:0.000222834\n",
      "prop time:0.000320246\n",
      "comp time:4.8931e-5\n",
      "saving visualized bound: center_200_200/37_batchnorm_10.png\n",
      "bound time:0.000229155\n",
      "prop time:"
     ]
    },
    {
     "name": "stdout",
     "output_type": "stream",
     "text": [
      "0.000307355\n",
      "comp time:4.3361e-5\n",
      "saving visualized bound: center_200_200/38_batchnorm_12.png\n",
      "bound time:0.000227204\n",
      "before order: 7.62939453125e-5\n",
      "non0 ele cnt: 12056\n",
      "overapproximate time: 0.001203222\n",
      "after order: 0.00018310546875\n",
      "after reducing order: "
     ]
    },
    {
     "name": "stdout",
     "output_type": "stream",
     "text": [
      "1.52587890625e-5\n",
      "before size: (16, 16, 256, 5)\n",
      "after size: (16, 16, 256, 1)\n",
      "prop time:0.458538401\n",
      "comp time:5.0081e-5\n",
      "saving visualized bound: center_200_200/39_batchnorm_10_relu.png\n",
      "bound time:0.000118322\n",
      "size(bound.generators): (16, 16, 256, 1)\n",
      "prop time:0.006701536\n",
      "comp time:0.003218621\n",
      "saving visualized bound: center_200_200/40_conv_11.png\n",
      "bound time:0.000103822\n",
      "prop time:0.000168023\n",
      "comp time:4.3551e-5\n",
      "saving visualized bound: center_200_200/41_batchnorm_11.png\n",
      "bound time:0.000101481\n",
      "add_4\n",
      "+\n",
      "saving visualized bound: center_200_200/42_add_4.png\n",
      "bound time:0.000247645\n",
      "before order: 9.1552734375e-5\n",
      "non0 ele cnt: 15607\n",
      "overapproximate time: 0.001191362\n",
      "after order: 0.000152587890625\n",
      "after reducing order: "
     ]
    },
    {
     "name": "stdout",
     "output_type": "stream",
     "text": [
      "1.52587890625e-5\n",
      "before size: (16, 16, 256, 6)\n",
      "after size: (16, 16, 256, 1)\n",
      "prop time:0.373971514\n",
      "comp time:5.9691e-5\n",
      "saving visualized bound: center_200_200/43_relu_4.png\n",
      "bound time:0.000119192\n",
      "size(bound.generators): (16, 16, 256, 1)\n",
      "prop time:0.008261276\n",
      "comp time:0.003899372\n",
      "saving visualized bound: center_200_200/44_conv_13.png\n",
      "bound time:0.000112442\n",
      "prop time:0.000160424\n",
      "comp time:4.3671e-5\n",
      "saving visualized bound: center_200_200/45_batchnorm_13.png\n",
      "bound time:8.1852e-5\n",
      "before order: 1.52587890625e-5\n",
      "non0 ele cnt: 18913\n",
      "overapproximate time: 0.000443029\n",
      "after order: 3.0517578125e-5\n",
      "after reducing order: "
     ]
    },
    {
     "name": "stdout",
     "output_type": "stream",
     "text": [
      "1.52587890625e-5\n",
      "before size: (16, 16, 256, 1)\n",
      "after size: (16, 16, 256, 1)\n",
      "prop time:0.042794643\n",
      "comp time:4.8481e-5\n",
      "saving visualized bound: center_200_200/46_batchnorm_13_relu.png\n",
      "bound time:0.000104992\n",
      "size(bound.generators): (16, 16, 256, 1)\n",
      "prop time:0.005576875\n",
      "comp time:0.002952355\n",
      "saving visualized bound: center_200_200/47_conv_14.png\n",
      "bound time:0.000101902\n",
      "prop time:0.000159553\n",
      "comp time:4.017e-5\n",
      "saving visualized bound: center_200_200/48_batchnorm_14.png\n",
      "bound time:7.2841e-5\n",
      "add_5\n",
      "+\n",
      "saving visualized bound: center_200_200/49_add_5.png\n",
      "bound time:0.000116422\n",
      "before order: 3.0517578125e-5\n",
      "non0 ele cnt: 22143\n",
      "overapproximate time: 0.000486619\n",
      "after order: 4.57763671875e-5\n",
      "after reducing order: "
     ]
    },
    {
     "name": "stdout",
     "output_type": "stream",
     "text": [
      "1.52587890625e-5\n",
      "before size: (16, 16, 256, 2)\n",
      "after size: (16, 16, 256, 1)\n",
      "prop time:0.084489055\n",
      "comp time:5.1501e-5\n",
      "saving visualized bound: center_200_200/50_relu_5.png\n",
      "bound time:0.000111702\n",
      "size(bound.generators): (16, 16, 256, 1)\n",
      "prop time:0.005387992\n",
      "comp time:0.002795853\n",
      "saving visualized bound: center_200_200/51_conv_15.png\n",
      "bound time:5.6241e-5\n",
      "size(bound.generators): (16, 16, 256, 1)\n",
      "prop time:0.001031519\n",
      "comp time:0.000441099\n",
      "saving visualized bound: center_200_200/52_conv_17.png\n",
      "bound time:7.8871e-5\n",
      "prop time:0.000176443\n",
      "comp time:4.4801e-5\n",
      "saving visualized bound: center_200_200/53_batchnorm_15.png\n",
      "bound time:5.8121e-5\n",
      "prop time:0.000167163\n",
      "comp time:4.2541e-5\n",
      "saving visualized bound: center_200_200/54_batchnorm_17.png\n",
      "bound time:5.6181e-5\n",
      "before order: "
     ]
    },
    {
     "name": "stdout",
     "output_type": "stream",
     "text": [
      "3.0517578125e-5\n",
      "non0 ele cnt: 11865\n",
      "overapproximate time: 0.000277306\n",
      "after order: 6.103515625e-5\n",
      "after reducing order: 3.0517578125e-5\n",
      "before size: (8, 8, 512, 1)\n",
      "after size: (8, 8, 512, 1)\n",
      "prop time:0.021673717\n",
      "comp time:2.6991e-5\n",
      "saving visualized bound: center_200_200/55_batchnorm_15_relu.png\n",
      "bound time:5.4421e-5\n",
      "size(bound.generators): (8, 8, 512, 1)\n",
      "prop time:0.008852364\n",
      "comp time:0.004493595\n",
      "saving visualized bound: center_200_200/56_conv_16.png\n",
      "bound time:5.7361e-5\n",
      "prop time:0.000159563\n",
      "comp time:4.272e-5\n",
      "saving visualized bound: center_200_200/57_batchnorm_16.png\n",
      "bound time:5.5391e-5\n",
      "add_6\n",
      "+\n",
      "saving visualized bound: center_200_200/58_add_6.png\n",
      "bound time:5.8091e-5\n",
      "before order: "
     ]
    },
    {
     "name": "stdout",
     "output_type": "stream",
     "text": [
      "6.103515625e-5\n",
      "non0 ele cnt: 16330\n",
      "overapproximate time: 0.000258145\n",
      "after order: 6.103515625e-5\n",
      "after reducing order: 3.0517578125e-5\n",
      "before size: (8, 8, 512, 2)\n",
      "after size: (8, 8, 512, 1)\n",
      "prop time:0.021691557\n",
      "comp time:2.7931e-5\n",
      "saving visualized bound: center_200_200/59_relu_6.png\n",
      "bound time:5.3611e-5\n",
      "size(bound.generators): (8, 8, 512, 1)\n",
      "prop time:0.008804565\n",
      "comp time:0.004506304\n",
      "saving visualized bound: center_200_200/60_conv_18.png\n",
      "bound time:5.9901e-5\n",
      "prop time:0.000166853\n",
      "comp time:4.4621e-5\n",
      "saving visualized bound: center_200_200/61_batchnorm_18.png\n",
      "bound time:5.6601e-5\n",
      "before order: 3.0517578125e-5\n",
      "non0 ele cnt: 20178\n",
      "overapproximate time: 0.000229254\n",
      "after order: 3.0517578125e-5\n",
      "after reducing order: 3.0517578125e-5\n",
      "before size: (8, 8, 512, 1)\n",
      "after size: (8, 8, 512, 1)\n",
      "prop time:0.0005101\n",
      "comp time:2.577e-5\n",
      "saving visualized bound: center_200_200/62_batchnorm_18_relu.png\n",
      "bound time:4.8431e-5\n"
     ]
    },
    {
     "name": "stdout",
     "output_type": "stream",
     "text": [
      "size(bound.generators): (8, 8, 512, 1)\n",
      "prop time:0.008958049\n",
      "comp time:0.004512423\n",
      "saving visualized bound: center_200_200/63_conv_19.png\n",
      "bound time:5.6871e-5\n",
      "prop time:0.000162013\n",
      "comp time:4.6011e-5\n",
      "saving visualized bound: center_200_200/64_batchnorm_19.png\n",
      "bound time:5.6421e-5\n",
      "add_7\n",
      "+\n",
      "saving visualized bound: center_200_200/65_add_7.png\n",
      "bound time:6.2392e-5\n",
      "before order: 6.103515625e-5\n",
      "non0 ele cnt: 24999\n",
      "overapproximate time: 0.000219724\n",
      "after order: 6.103515625e-5\n",
      "after reducing order: 3.0517578125e-5\n",
      "before size: (8, 8, 512, 2)\n",
      "after size: (8, 8, 512, 1)\n",
      "prop time:0.021646338\n",
      "comp time:2.628e-5\n",
      "saving visualized bound: center_200_200/66_relu_7.png\n",
      "bound time:5.2461e-5\n"
     ]
    },
    {
     "name": "stdout",
     "output_type": "stream",
     "text": [
      "size(bound.generators): (8, 8, 512, 1)\n",
      "prop time:0.002930075\n",
      "comp time:0.001446558\n",
      "saving visualized bound: center_200_200/67_convtranspose_0.png\n",
      "bound time:0.000101782\n",
      "prop time:0.000175163\n",
      "comp time:4.507e-5\n",
      "saving visualized bound: center_200_200/68_batchnorm_20.png\n",
      "bound time:7.9452e-5\n",
      "before order: 1.52587890625e-5\n",
      "non0 ele cnt: 46639\n",
      "overapproximate time: 0.000388747\n",
      "after order: 3.0517578125e-5\n",
      "after reducing order: 1.52587890625e-5\n",
      "before size: (16, 16, 256, 1)\n",
      "after size: (16, 16, 256, 1)\n",
      "prop time:0.043378304\n",
      "comp time:4.8151e-5\n",
      "saving visualized bound: center_200_200/69_batchnorm_20_relu.png\n",
      "bound time:0.000108032\n"
     ]
    },
    {
     "name": "stdout",
     "output_type": "stream",
     "text": [
      "size(bound.generators): (16, 16, 256, 1)\n",
      "prop time:0.002067169\n",
      "comp time:0.000872906\n",
      "saving visualized bound: center_200_200/70_convtranspose_1.png\n",
      "bound time:0.000183673\n",
      "prop time:0.000192404\n",
      "comp time:6.3881e-5\n",
      "saving visualized bound: center_200_200/71_batchnorm_21.png\n",
      "bound time:0.000194504\n",
      "before order: 7.62939453125e-6\n",
      "non0 ele cnt: 93161\n",
      "overapproximate time: 0.000672272\n",
      "after order: 7.62939453125e-6\n",
      "after reducing order: 7.62939453125e-6\n",
      "before size: (32, 32, 128, 1)\n",
      "after size: (32, 32, 128, 1)\n",
      "prop time:0.001012789\n",
      "comp time:6.2011e-5\n",
      "saving visualized bound: center_200_200/72_batchnorm_21_relu.png\n",
      "bound time:0.000191844\n",
      "size(bound.generators): (32, 32, 128, 1)\n",
      "prop time:0.002765172\n",
      "comp time:0.001268774\n",
      "saving visualized bound: center_200_200/73_convtranspose_2.png\n",
      "bound time:0.000389187\n",
      "prop time:0.000303006\n",
      "comp time:0.000120512\n",
      "saving visualized bound: center_200_200/74_batchnorm_22.png\n",
      "bound time:0.000374797\n",
      "before order: "
     ]
    },
    {
     "name": "stdout",
     "output_type": "stream",
     "text": [
      "3.814697265625e-6\n",
      "non0 ele cnt: 182908\n",
      "overapproximate time: 0.001335285\n",
      "after order: 3.814697265625e-6\n",
      "after reducing order: 3.814697265625e-6\n",
      "before size: (64, 64, 64, 1)\n",
      "after size: (64, 64, 64, 1)\n",
      "prop time:0.001831594\n",
      "comp time:0.000114763\n",
      "saving visualized bound: center_200_200/75_batchnorm_22_relu.png\n",
      "bound time:0.000366227\n",
      "size(bound.generators): (64, 64, 64, 1)\n",
      "prop time:0.009771244\n",
      "comp time:0.00486749\n",
      "saving visualized bound: center_200_200/76_convtranspose_3.png\n",
      "bound time:0.001809144\n",
      "prop time:0.000962467\n",
      "comp time:0.000453268\n",
      "saving visualized bound: center_200_200/77_batchnorm_23.png\n",
      "bound time:0.001694452\n",
      "before order: "
     ]
    },
    {
     "name": "stdout",
     "output_type": "stream",
     "text": [
      "9.5367431640625e-7\n",
      "non0 ele cnt: 738446\n",
      "overapproximate time: 0.010589528\n",
      "after order: 4.76837158203125e-6\n",
      "after reducing order: "
     ]
    },
    {
     "name": "stdout",
     "output_type": "stream",
     "text": [
      "9.5367431640625e-7\n",
      "before size: (128, 128, 64, 1)\n",
      "after size: (128, 128, 64, 1)\n",
      "prop time:2.657571501\n",
      "comp time:0.000448208\n",
      "saving visualized bound: center_200_200/78_batchnorm_23_relu.png\n",
      "bound time:0.001629471\n",
      "size(bound.generators): (128, 128, 64, 1)\n",
      "prop time:0.044728907\n"
     ]
    },
    {
     "name": "stdout",
     "output_type": "stream",
     "text": [
      "comp time:0.020761099\n",
      "saving visualized bound: center_200_200/79_convtranspose_4.png\n",
      "bound time:0.008813616\n",
      "prop time:"
     ]
    },
    {
     "name": "stdout",
     "output_type": "stream",
     "text": [
      "0.003524775\n",
      "comp time:0.001650631\n",
      "saving visualized bound: center_200_200/80_batchnorm_24.png\n",
      "bound time:0.008987279\n",
      "before order: "
     ]
    },
    {
     "name": "stdout",
     "output_type": "stream",
     "text": [
      "2.384185791015625e-7\n",
      "non0 ele cnt: 2887313\n",
      "overapproximate time: "
     ]
    },
    {
     "name": "stdout",
     "output_type": "stream",
     "text": [
      "0.122544455\n",
      "after order: 2.6226043701171875e-6\n",
      "after reducing order: "
     ]
    },
    {
     "name": "stdout",
     "output_type": "stream",
     "text": [
      "2.384185791015625e-7\n",
      "before size: (256, 256, 64, 1)\n",
      "after size: (256, 256, 64, 1)\n",
      "prop time:26.873421954\n",
      "comp time:0.001848724\n",
      "saving visualized bound: center_200_200/81_batchnorm_24_relu.png\n",
      "bound time:0.014767902\n"
     ]
    },
    {
     "name": "stdout",
     "output_type": "stream",
     "text": [
      "size(bound.generators): (256, 256, 64, 1)\n",
      "prop time:0.015871542\n",
      "comp time:0.005788896\n",
      "saving visualized bound: center_200_200/82_conv_20.png\n",
      "bound time:0.002843753\n",
      "prop time:"
     ]
    },
    {
     "name": "stdout",
     "output_type": "stream",
     "text": [
      "0.006307848\n",
      "comp time:0.003384613\n",
      "saving visualized bound: center_200_200/83_averagepool_1.png\n",
      "bound time:2.345e-5\n",
      "prop time:4.9941e-5\n",
      "comp time:3.71e-6\n",
      "saving visualized bound: center_200_200/84_Flatten_0.png\n",
      "bound time:8.41e-6\n"
     ]
    },
    {
     "data": {
      "text/plain": [
       "Dict{Any, Any} with 3 entries:\n",
       "  :current_node => \"Flatten_0\"\n",
       "  \"Flatten_0\"   => Dict{Any, Any}(:l=>Float32[0.720676, 3.50657, 3.83533, 4.470…\n",
       "  :batch_index  => 1"
      ]
     },
     "metadata": {},
     "output_type": "display_data"
    }
   ],
   "source": [
    "input_perturbed = copy(input);\n",
    "input_perturbed[200,200,1,1] = -0.5\n",
    "image_seeds = ImageConvexHull([input, input_perturbed])  # 256 x 256 x 3 x 2\n",
    "visualize(search_method, split_method, prop_method, Problem(model, image_seeds, output_set), \"center_200_200/\")"
   ]
  },
  {
   "cell_type": "code",
   "execution_count": 19,
   "metadata": {},
   "outputs": [
    {
     "name": "stdout",
     "output_type": "stream",
     "text": [
      "Set(Any[\"BatchNormalization\", \"Flatten\", \"Relu\", \"ConvTranspose\", \"Conv\", \"AveragePool\", \"Add\"])\n",
      "size(bound.generators): (256, 256, 3, 1)\n",
      "prop time:0.018117171\n",
      "comp time:0.006404267\n",
      "saving visualized bound: center/1_conv_0.png\n",
      "bound time:0.001902928\n",
      "fuck"
     ]
    },
    {
     "name": "stdout",
     "output_type": "stream",
     "text": [
      "\n",
      "fuck\n",
      "prop time:0.002042461\n",
      "comp time:0.00048045\n",
      "saving visualized bound: center/2_batchnorm_0.png\n",
      "bound time:0.001900189\n",
      "before order: "
     ]
    },
    {
     "name": "stdout",
     "output_type": "stream",
     "text": [
      "9.5367431640625e-7\n"
     ]
    },
    {
     "name": "stdout",
     "output_type": "stream",
     "text": [
      "non0 ele cnt: 896\n",
      "overapproximate time: 0.425266823\n",
      "after order: 1.430511474609375e-5\n",
      "before size: (128, 128, 64, 1)\n",
      "after size: (128, 128, 64, 15)\n",
      "prop time:0.589012989\n",
      "comp time:0.00045899\n",
      "saving visualized bound: center/3_batchnorm_0_relu.png\n",
      "bound time:0.018824255\n",
      "prop time:"
     ]
    },
    {
     "name": "stdout",
     "output_type": "stream",
     "text": [
      "0.01407479\n",
      "comp time:0.000726645\n",
      "saving visualized bound: center/4_averagepool_0.png\n",
      "bound time:0.002953819\n",
      "size(bound.generators): (64, 64, 64, 15)\n",
      "prop time:0.005674113\n",
      "comp time:0.004108553\n",
      "saving visualized bound: center/5_conv_1.png\n",
      "bound time:0.002797866\n",
      "fuck\n",
      "fuck\n",
      "prop time:0.003548121\n",
      "comp time:0.000111102\n",
      "saving visualized bound: center/6_batchnorm_1.png\n",
      "bound time:0.002766595\n",
      "before order: 5.7220458984375e-5\n",
      "non0 ele cnt: 1600\n"
     ]
    },
    {
     "name": "stdout",
     "output_type": "stream",
     "text": [
      "overapproximate time: 0.009305796\n",
      "after order: 6.866455078125e-5\n",
      "before size: (64, 64, 64, 15)\n",
      "after size: (64, 64, 64, 18)\n",
      "prop time:0.009789096\n",
      "comp time:0.000152223\n",
      "saving visualized bound: center/7_batchnorm_1_relu.png\n",
      "bound time:0.003475189\n",
      "size(bound.generators): (64, 64, 64, 18)\n",
      "prop time:0.005311765\n",
      "comp time:0.003657904\n",
      "saving visualized bound: center/8_conv_2.png\n",
      "bound time:0.003335596\n",
      "fuck\n",
      "fuck\n",
      "prop time:0.004160913\n",
      "comp time:0.000127563\n",
      "saving visualized bound: center/9_batchnorm_2.png\n",
      "bound time:0.003370737\n"
     ]
    },
    {
     "name": "stdout",
     "output_type": "stream",
     "text": [
      "add_0\n",
      "+\n",
      "saving visualized bound: center/10_add_0.png\n",
      "bound time:0.048340814\n",
      "before order: 0.000125885009765625\n",
      "non0 ele cnt: 3136\n"
     ]
    },
    {
     "name": "stdout",
     "output_type": "stream",
     "text": [
      "overapproximate time: 0.050528557\n",
      "after order: 0.00017547607421875\n",
      "before size: (64, 64, 64, 33)\n",
      "after size: (64, 64, 64, 46)\n",
      "prop time:0.050992127\n",
      "comp time:0.000214255\n",
      "saving visualized bound: center/11_relu_0.png\n",
      "bound time:0.014131011\n",
      "size(bound.generators): (64, 64, 64, 46)\n",
      "prop time:0.022855767\n",
      "comp time:0.003858337\n",
      "saving visualized bound: center/12_conv_3.png\n",
      "bound time:0.013911498\n",
      "fuck"
     ]
    },
    {
     "name": "stdout",
     "output_type": "stream",
     "text": [
      "\n",
      "fuck\n",
      "prop time:0.019892378\n",
      "comp time:0.000111102\n",
      "saving visualized bound: center/13_batchnorm_3.png\n",
      "bound time:0.013822035\n",
      "before order: 0.00017547607421875\n",
      "non0 ele cnt: 5212\n"
     ]
    },
    {
     "name": "stdout",
     "output_type": "stream",
     "text": [
      "overapproximate time: 0.046373364\n",
      "after order: 0.0002288818359375\n",
      "before size: (64, 64, 64, 46)\n",
      "after size: (64, 64, 64, 60)\n",
      "prop time:0.046809903\n",
      "comp time:0.000126923\n",
      "saving visualized bound: center/14_batchnorm_3_relu.png\n",
      "bound time:0.018005629\n",
      "size(bound.generators): (64, 64, 64, 60)\n",
      "prop time:0.026820564\n",
      "comp time:0.003723984\n",
      "saving visualized bound: center/15_conv_4.png\n",
      "bound time:0.017899688\n",
      "fuck"
     ]
    },
    {
     "name": "stdout",
     "output_type": "stream",
     "text": [
      "\n",
      "fuck\n",
      "prop time:0.065336934\n",
      "comp time:0.000277025\n",
      "saving visualized bound: center/16_batchnorm_4.png\n",
      "bound time:0.017817414\n",
      "add_1"
     ]
    },
    {
     "name": "stdout",
     "output_type": "stream",
     "text": [
      "\n",
      "+\n",
      "saving visualized bound: center/17_add_1.png\n",
      "bound time:0.031430878\n",
      "before order: 0.00040435791015625\n"
     ]
    },
    {
     "name": "stdout",
     "output_type": "stream",
     "text": [
      "non0 ele cnt: 7745\n",
      "overapproximate time: 0.145043313\n",
      "after order: 0.0004730224609375\n",
      "before size: (64, 64, 64, 106)\n",
      "after size: (64, 64, 64, 124)\n",
      "prop time:0.145436942\n",
      "comp time:0.000116972\n",
      "saving visualized bound: center/18_relu_1.png\n"
     ]
    },
    {
     "name": "stdout",
     "output_type": "stream",
     "text": [
      "bound time:0.070748892\n",
      "size(bound.generators): (64, 64, 64, 124)\n",
      "prop time:0.032518648\n",
      "comp time:0.001761476\n",
      "saving visualized bound: center/19_conv_5.png\n",
      "bound time:0.018216003\n",
      "size(bound.generators): (64, 64, 64, 124)\n"
     ]
    },
    {
     "name": "stdout",
     "output_type": "stream",
     "text": [
      "prop time:0.031179722\n",
      "comp time:0.000324597\n",
      "saving visualized bound: center/20_conv_7.png\n",
      "bound time:0.018313576\n",
      "fuck\n",
      "fuck\n",
      "prop time:0.028189731\n",
      "comp time:6.8421e-5\n",
      "saving visualized bound: center/21_batchnorm_5.png\n",
      "bound time:"
     ]
    },
    {
     "name": "stdout",
     "output_type": "stream",
     "text": [
      "0.018175023\n",
      "fuck\n",
      "fuck\n",
      "prop time:0.028526149\n",
      "comp time:6.7991e-5\n",
      "saving visualized bound: center/22_batchnorm_7.png\n",
      "bound time:0.018220754\n",
      "before order: 0.000946044921875\n",
      "non0 ele cnt: "
     ]
    },
    {
     "name": "stdout",
     "output_type": "stream",
     "text": [
      "4608\n",
      "overapproximate time: 0.05962548\n",
      "after order: 0.00110626220703125\n",
      "before size: (32, 32, 128, 124)\n",
      "after size: (32, 32, 128, 145)\n",
      "prop time:0.059988307\n",
      "comp time:6.9061e-5\n",
      "saving visualized bound: center/23_batchnorm_5_relu.png\n",
      "bound time:0.021374206\n",
      "size(bound.generators): (32, 32, 128, 145)\n"
     ]
    },
    {
     "name": "stdout",
     "output_type": "stream",
     "text": [
      "prop time:0.04963782\n",
      "comp time:0.003214605\n",
      "saving visualized bound: center/24_conv_6.png\n",
      "bound time:0.021487098\n",
      "fuck\n",
      "fuck\n",
      "prop time:0.035020469\n",
      "comp time:7.7641e-5\n",
      "saving visualized bound: center/25_batchnorm_6.png\n",
      "bound time:"
     ]
    },
    {
     "name": "stdout",
     "output_type": "stream",
     "text": [
      "0.021342496\n",
      "add_2\n",
      "+\n",
      "saving visualized bound: center/26_add_2.png\n",
      "bound time:"
     ]
    },
    {
     "name": "stdout",
     "output_type": "stream",
     "text": [
      "0.03955868\n",
      "before order: 0.00205230712890625\n",
      "non0 ele cnt: 8199\n"
     ]
    },
    {
     "name": "stdout",
     "output_type": "stream",
     "text": [
      "overapproximate time: 0.185879818\n",
      "after order: 0.00191497802734375\n",
      "before size: (32, 32, 128, 269)\n",
      "after size: (32, 32, 128, 251)\n",
      "prop time:0.186298916\n",
      "comp time:0.000100262\n",
      "saving visualized bound: center/27_relu_2.png\n",
      "bound time:0.037141352\n",
      "size(bound.generators): (32, 32, 128, 251)\n"
     ]
    },
    {
     "name": "stdout",
     "output_type": "stream",
     "text": [
      "prop time:0.056021808\n",
      "comp time:0.004303056\n",
      "saving visualized bound: center/28_conv_8.png\n",
      "bound time:0.036861165\n",
      "fuck\n",
      "fuck\n"
     ]
    },
    {
     "name": "stdout",
     "output_type": "stream",
     "text": [
      "prop time:0.061085848\n",
      "comp time:7.5012e-5\n",
      "saving visualized bound: center/29_batchnorm_8.png\n",
      "bound time:0.037078609\n",
      "before order: 0.00191497802734375\n",
      "non0 ele cnt: "
     ]
    },
    {
     "name": "stdout",
     "output_type": "stream",
     "text": [
      "12785\n",
      "overapproximate time: 0.116874081\n",
      "after order: 0.00201416015625\n",
      "before size: (32, 32, 128, 251)\n",
      "after size: (32, 32, 128, 264)\n",
      "prop time:0.117221658\n",
      "comp time:7.0402e-5\n",
      "saving visualized bound: center/30_batchnorm_8_relu.png\n",
      "bound time:0.038842925\n"
     ]
    },
    {
     "name": "stdout",
     "output_type": "stream",
     "text": [
      "size(bound.generators): (32, 32, 128, 264)\n",
      "prop time:0.057476157\n",
      "comp time:0.003080501\n",
      "saving visualized bound: center/31_conv_9.png\n"
     ]
    },
    {
     "name": "stdout",
     "output_type": "stream",
     "text": [
      "bound time:0.046241253\n",
      "fuck\n",
      "fuck\n",
      "prop time:0.068502485\n",
      "comp time:"
     ]
    },
    {
     "name": "stdout",
     "output_type": "stream",
     "text": [
      "0.031887326\n",
      "saving visualized bound: center/32_batchnorm_9.png\n",
      "bound time:0.039188692\n"
     ]
    },
    {
     "name": "stdout",
     "output_type": "stream",
     "text": [
      "add_3\n",
      "+\n",
      "saving visualized bound: center/33_add_3.png\n",
      "bound time:0.075687211\n",
      "before order: 0.00392913818359375\n",
      "non0 ele cnt: "
     ]
    },
    {
     "name": "stdout",
     "output_type": "stream",
     "text": [
      "18258\n"
     ]
    },
    {
     "name": "stdout",
     "output_type": "stream",
     "text": [
      "overapproximate time: 0.372816268\n",
      "after order: 0.0040740966796875\n",
      "before size: (32, 32, 128, 515)\n",
      "after size: (32, 32, 128, 534)\n",
      "prop time:0.373221096\n",
      "comp time:0.000144633\n",
      "saving visualized bound: center/34_relu_3.png\n",
      "bound time:0.078094098\n"
     ]
    },
    {
     "name": "stdout",
     "output_type": "stream",
     "text": [
      "size(bound.generators): (32, 32, 128, 534)\n",
      "prop time:0.074122918\n",
      "comp time:0.001725914\n",
      "saving visualized bound: center/35_conv_10.png\n"
     ]
    },
    {
     "name": "stdout",
     "output_type": "stream",
     "text": [
      "bound time:0.03861033\n",
      "size(bound.generators): (32, 32, 128, 534)\n",
      "prop time:0.069125278\n",
      "comp time:0.000323187\n",
      "saving visualized bound: center/36_conv_12.png\n"
     ]
    },
    {
     "name": "stdout",
     "output_type": "stream",
     "text": [
      "bound time:0.03909285\n",
      "fuck\n",
      "fuck\n"
     ]
    },
    {
     "name": "stdout",
     "output_type": "stream",
     "text": [
      "prop time:0.080163411\n",
      "comp time:5.5421e-5\n",
      "saving visualized bound: center/37_batchnorm_10.png\n",
      "bound time:0.039100329\n",
      "fuck\n",
      "fuck\n"
     ]
    },
    {
     "name": "stdout",
     "output_type": "stream",
     "text": [
      "prop time:0.111442343\n",
      "comp time:9.1201e-5\n",
      "saving visualized bound: center/38_batchnorm_12.png\n",
      "bound time:0.038848966\n"
     ]
    },
    {
     "name": "stdout",
     "output_type": "stream",
     "text": [
      "before order: 0.008148193359375\n",
      "non0 ele cnt: 12395\n"
     ]
    },
    {
     "name": "stdout",
     "output_type": "stream",
     "text": [
      "overapproximate time: 0.120507723\n",
      "after order: 0.008270263671875\n",
      "before size: (16, 16, 256, 534)\n",
      "after size: (16, 16, 256, 542)\n",
      "prop time:0.120970472\n",
      "comp time:8.1251e-5\n",
      "saving visualized bound: center/39_batchnorm_10_relu.png\n",
      "bound time:0.039726073\n",
      "size(bound.generators): (16, 16, 256, 542)\n"
     ]
    },
    {
     "name": "stdout",
     "output_type": "stream",
     "text": [
      "prop time:0.065096159\n",
      "comp time:0.003781536\n",
      "saving visualized bound: center/40_conv_11.png\n",
      "bound time:0.039733112\n",
      "fuck\n",
      "fuck\n"
     ]
    },
    {
     "name": "stdout",
     "output_type": "stream",
     "text": [
      "prop time:0.10831752\n",
      "comp time:5.1651e-5\n",
      "saving visualized bound: center/41_batchnorm_11.png\n",
      "bound time:0.039686633\n"
     ]
    },
    {
     "name": "stdout",
     "output_type": "stream",
     "text": [
      "add_4\n",
      "+\n",
      "saving visualized bound: center/42_add_4.png\n",
      "bound time:0.078376535\n"
     ]
    },
    {
     "name": "stdout",
     "output_type": "stream",
     "text": [
      "before order: 0.01641845703125\n",
      "non0 ele cnt: "
     ]
    },
    {
     "name": "stdout",
     "output_type": "stream",
     "text": [
      "19870\n"
     ]
    },
    {
     "name": "stdout",
     "output_type": "stream",
     "text": [
      "overapproximate time: 0.353674546\n",
      "after order: 0.0158843994140625\n",
      "before size: (16, 16, 256, 1076)\n",
      "after size: (16, 16, 256, 1041)\n",
      "prop time:0.354121815\n",
      "comp time:5.3791e-5\n",
      "saving visualized bound: center/43_relu_4.png\n",
      "bound time:0.075049418\n",
      "size(bound.generators): (16, 16, 256, 1041)\n"
     ]
    },
    {
     "name": "stdout",
     "output_type": "stream",
     "text": [
      "prop time:0.120495904\n"
     ]
    },
    {
     "name": "stdout",
     "output_type": "stream",
     "text": [
      "comp time:0.004864577\n",
      "saving visualized bound: center/44_conv_13.png\n",
      "bound time:0.075798831\n",
      "fuck\n",
      "fuck\n"
     ]
    },
    {
     "name": "stdout",
     "output_type": "stream",
     "text": [
      "prop time:0.245012728\n",
      "comp time:5.5221e-5\n",
      "saving visualized bound: center/45_batchnorm_13.png\n",
      "bound time:0.076007317\n",
      "before order: 0.0158843994140625\n",
      "non0 ele cnt: "
     ]
    },
    {
     "name": "stdout",
     "output_type": "stream",
     "text": [
      "28624\n"
     ]
    },
    {
     "name": "stdout",
     "output_type": "stream",
     "text": [
      "overapproximate time: 0.265576438\n",
      "after order: 0.0159149169921875\n",
      "before size: (16, 16, 256, 1041)\n",
      "after size: (16, 16, 256, 1043)\n",
      "prop time:0.265970666\n",
      "comp time:0.000191123\n",
      "saving visualized bound: center/46_batchnorm_13_relu.png\n",
      "bound time:0.075867334\n"
     ]
    },
    {
     "name": "stdout",
     "output_type": "stream",
     "text": [
      "size(bound.generators): (16, 16, 256, 1043)\n"
     ]
    },
    {
     "name": "stdout",
     "output_type": "stream",
     "text": [
      "prop time:0.119740079\n",
      "comp time:0.004591832\n",
      "saving visualized bound: center/47_conv_14.png\n",
      "bound time:0.076303981\n",
      "fuck"
     ]
    },
    {
     "name": "stdout",
     "output_type": "stream",
     "text": [
      "\n",
      "fuck\n"
     ]
    },
    {
     "name": "stdout",
     "output_type": "stream",
     "text": [
      "prop time:0.231971099\n",
      "comp time:5.3601e-5\n",
      "saving visualized bound: center/48_batchnorm_14.png\n",
      "bound time:0.075438624\n"
     ]
    },
    {
     "name": "stdout",
     "output_type": "stream",
     "text": [
      "add_5\n",
      "+\n",
      "saving visualized bound: center/49_add_5.png\n",
      "bound time:"
     ]
    },
    {
     "name": "stdout",
     "output_type": "stream",
     "text": [
      "0.152491522\n",
      "before order: 0.03179931640625\n",
      "non0 ele cnt: "
     ]
    },
    {
     "name": "stdout",
     "output_type": "stream",
     "text": [
      "38406\n"
     ]
    },
    {
     "name": "stdout",
     "output_type": "stream",
     "text": [
      "overapproximate time: 0.719984054\n",
      "after order: 0.03179931640625\n",
      "before size: (16, 16, 256, 2084)\n",
      "after size: (16, 16, 256, 2084)\n",
      "prop time:0.720410422\n",
      "comp time:9.9292e-5\n",
      "saving visualized bound: center/50_relu_5.png\n",
      "bound time:"
     ]
    },
    {
     "name": "stdout",
     "output_type": "stream",
     "text": [
      "0.151722996\n",
      "size(bound.generators): (16, 16, 256, 2084)\n"
     ]
    },
    {
     "name": "stdout",
     "output_type": "stream",
     "text": [
      "prop time:0.149825399\n",
      "comp time:0.003118752\n",
      "saving visualized bound: center/51_conv_15.png\n",
      "bound time:0.074367914\n"
     ]
    },
    {
     "name": "stdout",
     "output_type": "stream",
     "text": [
      "size(bound.generators): (16, 16, 256, 2084)\n"
     ]
    },
    {
     "name": "stdout",
     "output_type": "stream",
     "text": [
      "prop time:0.134780889\n",
      "comp time:0.000443949\n",
      "saving visualized bound: center/52_conv_17.png\n",
      "bound time:0.073579588\n",
      "fuck\n",
      "fuck\n"
     ]
    },
    {
     "name": "stdout",
     "output_type": "stream",
     "text": [
      "prop time:0.334285281\n",
      "comp time:6.6562e-5\n",
      "saving visualized bound: center/53_batchnorm_15.png\n",
      "bound time:0.075564608\n",
      "fuck\n",
      "fuck\n"
     ]
    },
    {
     "name": "stdout",
     "output_type": "stream",
     "text": [
      "prop time:0.269345191\n",
      "comp time:5.5951e-5\n",
      "saving visualized bound: center/54_batchnorm_17.png\n",
      "bound time:0.074104677\n",
      "before order: 0.0635986328125\n",
      "non0 ele cnt: "
     ]
    },
    {
     "name": "stdout",
     "output_type": "stream",
     "text": [
      "23819\n"
     ]
    },
    {
     "name": "stdout",
     "output_type": "stream",
     "text": [
      "overapproximate time: 0.263795652\n",
      "after order: 0.06365966796875\n",
      "before size: (8, 8, 512, 2084)\n",
      "after size: (8, 8, 512, 2086)\n",
      "prop time:0.26417702\n",
      "comp time:3.5781e-5\n",
      "saving visualized bound: center/55_batchnorm_15_relu.png\n",
      "bound time:0.074101288\n",
      "size(bound.generators): (8, 8, 512, 2086)\n"
     ]
    },
    {
     "name": "stdout",
     "output_type": "stream",
     "text": [
      "prop time:0.154323687\n"
     ]
    },
    {
     "name": "stdout",
     "output_type": "stream",
     "text": [
      "comp time:0.005663012\n",
      "saving visualized bound: center/56_conv_16.png\n",
      "bound time:0.075541958\n",
      "fuck\n",
      "fuck\n"
     ]
    },
    {
     "name": "stdout",
     "output_type": "stream",
     "text": [
      "prop time:0.277046647\n",
      "comp time:6.5011e-5\n",
      "saving visualized bound: center/57_batchnorm_16.png\n",
      "bound time:0.075355273\n"
     ]
    },
    {
     "name": "stdout",
     "output_type": "stream",
     "text": [
      "add_6\n",
      "+\n",
      "saving visualized bound: center/58_add_6.png\n",
      "bound time:"
     ]
    },
    {
     "name": "stdout",
     "output_type": "stream",
     "text": [
      "0.148564336\n",
      "before order: 0.12725830078125\n",
      "non0 ele cnt: "
     ]
    },
    {
     "name": "stdout",
     "output_type": "stream",
     "text": [
      "32131\n"
     ]
    },
    {
     "name": "stdout",
     "output_type": "stream",
     "text": [
      "overapproximate time: 0.69468096\n",
      "after order: 0.127105712890625\n",
      "before size: (8, 8, 512, 4170)\n",
      "after size: (8, 8, 512, 4165)\n",
      "prop time:0.695068638\n",
      "comp time:3.3151e-5\n",
      "saving visualized bound: center/59_relu_6.png\n",
      "bound time:"
     ]
    },
    {
     "name": "stdout",
     "output_type": "stream",
     "text": [
      "0.148585244\n",
      "size(bound.generators): (8, 8, 512, 4165)\n"
     ]
    },
    {
     "name": "stdout",
     "output_type": "stream",
     "text": [
      "prop time:0.314919463\n",
      "comp time:0.006623252\n",
      "saving visualized bound: center/60_conv_18.png\n"
     ]
    },
    {
     "name": "stdout",
     "output_type": "stream",
     "text": [
      "bound time:0.149020983\n",
      "fuck\n",
      "fuck\n"
     ]
    },
    {
     "name": "stdout",
     "output_type": "stream",
     "text": [
      "prop time:0.880990729\n",
      "comp time:6.4801e-5\n",
      "saving visualized bound: center/61_batchnorm_18.png\n",
      "bound time:"
     ]
    },
    {
     "name": "stdout",
     "output_type": "stream",
     "text": [
      "0.148080165\n",
      "before order: 0.127105712890625\n"
     ]
    },
    {
     "ename": "InterruptException",
     "evalue": "InterruptException:",
     "output_type": "error",
     "traceback": [
      "InterruptException:\n",
      "\n",
      "Stacktrace:\n",
      "  [1] iterate\n",
      "    @ ./range.jl:891 [inlined]\n",
      "  [2] getindex\n",
      "    @ ./range.jl:428 [inlined]\n",
      "  [3] reduced_indices(inds::Tuple{Base.OneTo{Int64}, Base.OneTo{Int64}}, d::Int64)\n",
      "    @ Base ./reducedim.jl:25\n",
      "  [4] reduced_indices\n",
      "    @ ./reducedim.jl:15 [inlined]\n",
      "  [5] reducedim_initarray(A::Matrix{Float32}, region::Int64, init::Float32, #unused#::Type{Float32})\n",
      "    @ Base ./reducedim.jl:91\n",
      "  [6] reducedim_initarray\n",
      "    @ ./reducedim.jl:92 [inlined]\n",
      "  [7] reducedim_init\n",
      "    @ ./reducedim.jl:219 [inlined]\n",
      "  [8] _mapreduce_dim\n",
      "    @ ./reducedim.jl:371 [inlined]\n",
      "  [9] #mapreduce#800\n",
      "    @ ./reducedim.jl:357 [inlined]\n",
      " [10] mapreduce\n",
      "    @ ./reducedim.jl:357 [inlined]\n",
      " [11] #_sum#834\n",
      "    @ ./reducedim.jl:1023 [inlined]\n",
      " [12] _sum\n",
      "    @ ./reducedim.jl:1023 [inlined]\n",
      " [13] #_sum#833\n",
      "    @ ./reducedim.jl:1022 [inlined]\n",
      " [14] _sum\n",
      "    @ ./reducedim.jl:1022 [inlined]\n",
      " [15] #sum#807\n",
      "    @ ./reducedim.jl:994 [inlined]\n",
      " [16] sum\n",
      "    @ ./reducedim.jl:994 [inlined]\n",
      " [17] compute_bound(Z::Zonotope{Float32, Vector{Float32}, Matrix{Float32}})\n",
      "    @ ModelVerification ~/dev/ModelVerification.jl/src/propagate/operators/relu.jl:16\n",
      " [18] fast_overapproximate(r::Rectification{Float32, Zonotope{Float32, Vector{Float32}, Matrix{Float32}}}, #unused#::Type{Zonotope})\n",
      "    @ ModelVerification ~/dev/ModelVerification.jl/src/propagate/operators/relu.jl:27\n",
      " [19] macro expansion\n",
      "    @ ./timing.jl:501 [inlined]\n",
      " [20] propagate_act(prop_method::ImageZono, layer::typeof(relu), bound::ModelVerification.ImageZonoBound{Float32}, batch_info::Dict{Any, Any})\n",
      "    @ ModelVerification ~/dev/ModelVerification.jl/src/propagate/operators/relu.jl:62\n",
      " [21] #68\n",
      "    @ ./none:0 [inlined]\n",
      " [22] iterate\n",
      "    @ ./generator.jl:47 [inlined]\n",
      " [23] collect(itr::Base.Generator{Base.OneTo{Int64}, ModelVerification.var\"#68#69\"{ImageZono, typeof(relu), Vector{ModelVerification.ImageZonoBound{Float32}}, Dict{Any, Any}}})\n",
      "    @ Base ./array.jl:782\n",
      " [24] propagate_act_batch(prop_method::ImageZono, σ::Function, batch_reach::Vector{ModelVerification.ImageZonoBound{Float32}}, batch_info::Dict{Any, Any})\n",
      "    @ ModelVerification ~/dev/ModelVerification.jl/src/propagate/propagate.jl:117\n",
      " [25] propagate_layer_batch(prop_method::ImageZono, layer::Function, batch_bound::Vector{ModelVerification.ImageZonoBound{Float32}}, batch_info::Dict{Any, Any})\n",
      "    @ ModelVerification ~/dev/ModelVerification.jl/src/propagate/propagate.jl:135\n",
      " [26] propagate_layer_method(prop_method::ImageZono, model_info::ModelVerification.Model, batch_info::Dict{Any, Any}, node::String)\n",
      "    @ ModelVerification ~/dev/ModelVerification.jl/src/propagate/propagate.jl:83\n",
      " [27] macro expansion\n",
      "    @ ./timing.jl:501 [inlined]\n",
      " [28] visualize_propagate(prop_method::ImageZono, model_info::ModelVerification.Model, batch_info::Dict{Any, Any}, save_path::String; vis_center::Bool, save_bound::Bool)\n",
      "    @ ModelVerification ~/dev/ModelVerification.jl/src/utils/visualization.jl:34\n",
      " [29] visualize_propagate\n",
      "    @ ~/dev/ModelVerification.jl/src/utils/visualization.jl:4 [inlined]\n",
      " [30] visualize(search_method::BFS, split_method::Bisect, prop_method::ImageZono, problem::Problem{ImageConvexHull, BallInf{Float64, Vector{Float64}}}, save_path::String; vis_center::Bool, save_bound::Bool)\n",
      "    @ ModelVerification ~/dev/ModelVerification.jl/src/utils/visualization.jl:102\n",
      " [31] visualize(search_method::BFS, split_method::Bisect, prop_method::ImageZono, problem::Problem{ImageConvexHull, BallInf{Float64, Vector{Float64}}}, save_path::String)\n",
      "    @ ModelVerification ~/dev/ModelVerification.jl/src/utils/visualization.jl:99\n",
      " [32] top-level scope\n",
      "    @ ~/dev/ModelVerification.jl/tmp/test_resnet.ipynb:3"
     ]
    }
   ],
   "source": [
    "input_perturbed = copy(input);\n",
    "input_perturbed[100,100,1,1] = -0.5\n",
    "image_seeds = ImageConvexHull([input, input_perturbed])  # 256 x 256 x 3 x 2\n",
    "visualize(search_method, split_method, prop_method, Problem(model, image_seeds, output_set), \"center/\")"
   ]
  },
  {
   "cell_type": "code",
   "execution_count": 26,
   "metadata": {},
   "outputs": [
    {
     "data": {
      "image/png": "[encoded data removed]",
      "text/html": [
       "<img src=\"data:image/png;base64,iVBORw0KGgoAAAANSUhEUgAAAQAAAAEACAIAAADTED8xAAAABGdBTUEAALGPC/xhBQAAAAFzUkdCAK7OHOkAAAAgY0hSTQAAeiYAAICEAAD6AAAAgOgAAHUwAADqYAAAOpgAABdwnLpRPAAAIABJREFUeAHswX+U5Xdd5/ln7uv9ube/N95Kbp2yOtslaQKJUyNhITBhhxyMDFmDIJOFWVjBHyjsoDjsGXcGV5EBgTkm4o6BCf5YMRzQcwZljshxwq9tIr855EwyGDARWhMMHaxsutOnmtQldfvW9/2u7PdT99v3V9/qH9H5rx4Pe+Zr3vvVD/wcO376A99QSkCrKAb9/tLKiswAS+ald/ebGSODPkpESaVVMOgz6LOwSGXQJ5x2BxmbPSqtghEZQ70TtDs0C4bMWPsm3WVkhFN5+MjJ42trm73es657phkyRsK589BX7/jYx9buv9/7J4GF5eW3/NF7FrqMKFGJEndaBUMywhka9Nns0e5ghhIzZIQTJUpEySQloqTiTiVKNnso0e7QKhiJkiElKlFScWeuKBkJx53TRcnGum/1+0pJZoAlaxXImKTEVh8vGQpnSMbb/8kF7JlgT7vmmq9+gKHByZPtlIBBvy+zzY2N7v5loFUAZoaMcIaUMCNKRixRcUeJVoEMJZSoyAhHxpASUSKjYkalWbDVp7uMDCXCqRxfW7vjYx9bWll5zguf2SyIkooSW30q3eXl7vLy2v33W7EvSt/q97f6aJlKlCgxpIQSQzIqMsKZpMRulKgoESVDSlSUiBIz3JkrSkZkhDNkxiR3KlGiRCVK5jLDnYolC08yaxXGDhkjSgzJGPISGXt2YxVO+eh73/vjb3pTuLNj0O/LGJIxw4yKEkNKDEVJq0CGEkNmVGQMKTEio6JEOEo0CyYdPXLkGx/7+CtuuvHEMZYOoESUVNypLK0c6C4vt4pi0O8r2aDff2zDwQAlJsmYISOcSpSMyDgDJaJkkhJRYkaUnE6Jc6fEJHcmmVExI0oqMmsVZokRJSpmuGNGJUr2nAtrFgW0YAA89tXfs/TWcAfCvbO4aAkvkeElMioyZrhTiZJwKq0CGUpMUiJKKq2CGUrMJePhbx3hu0cO33lXu9PZf3A1SipbfSpmDPonO4uLncXFx+7/5gVmQLjLDAhHRiUcGXPJmCRjhiWGwpERjhKnU0KOEmZUZIQzwxIzomTIjCF3oqQSziQzRpSQAWYJGZVwlDBjyIwZlthzBtZeWPi+69/0d596B9PanY6ZAZZQgj5DSgxFSTgVM2QMyVBiyIyKGTIqSgwpESUjMirhRIkZFXdkVCwZcM+hQ8+67gWAElt93DGjWXD0W99SSmbJin3eP3mBWZQl7ANkDMkYssSQl1hiKEoqZgxZYi4Zk2RUwqkoMWSGDDMqMkbCkTEjSipKRMmQO1FSCWcoSpQwoyJjxBKTZOxGxqRw9pzOWkXxQ694+Qc/9Q52bG5sKCWgvbAQZSmjYoYllBgyw52KjEo44YRTUcKMijsVJWQMmeGOEkNmVJQYUaISJWYMXbq6et9zf3T/wYOXPX3VjM0e7rT2oURls9db6HaVrFUUUTo7tvo0CyqWGPISS1RkhGOJGUrIsMQMGSNeImOGjHAqZoQxZAkvGZFRkVEJZ0iJKImSijuVKKmEM6LEiBJD4VQsIUOJKKmYMSIjnIoSQ1EyJCOcPTOsVexbWFzklI/+/u+/9A1vaHc6MgOUGJIxZEbFjCgZcidKKs0CM5SIEjOUGFJiyIwhJaKkYoYlZkSJGe7sP3jw+le/utPtLiwy6FNpdzCj4k6zKPY/+clmBihZlH7i2DH3ThMsMWKJiozThTNJxgwZ4VQs4SWTZAzJiJKKEkpULDHiJZaYESVD7kRJODIqMpSIEnfMkDFkxtAWyAhnSIkhGeFUwhkyw52KElEyJGPPDJPRLApOWb/j3e03vam9sAC0in1MM2NEicpWnyipdLqEo0RFiSiZZIYSIzKiZMRLTmdGd/9ye2GhVexjR7uDEpUoaRVcurpqyZRSlA487v7g4cNXXPXUdgcZQ+FUZAzJmCRDCRmWkDGiBmNGOBVLDHmJJbykIqOiBH3MkDHDEjIqMioywnEnSkZkKFExo2JGRYkoqSgxIqMiQwkz3DFDRkXGpHDMcKeiRCVK9pzOWgWtorB/9NP+13/IjvbCQqvYB7Q7mDGkhBkj7gy5E06nixLhjCgxYsYkGRUlKkpULOElQzKGoqQis3aHZkGroBIlSlRkrFxu9919YnOjp2SAe++Be+45fu21K5d31KAS28g4MzNG1GAuGZVwhloF4Vii4iWWCGfIEjLOIJxBn60+IzIqZigxIqeixOmUiJIhM87MjIo7FSX2nM6UkNmLX/va2375D9mxubHR7uwDlBiS4U5FiSF3zHCn0u7QKqiEIWMkHBlKDMkIR8aIEiOWqHjJUJS4I6NVWGeRVoGMcJSoKFFpFTx4+LB7KUvseGTtoRPHjkEHiG0mqcHplKhYQoYaTDIyZ5aMioxwJimhxOnUILaphBMl7kSJOxUzZChhRrNgJBwzZihRkWNOxQwZ4QwpESVKRMmQjHCGzHBnz1wWJa3CLl1d5ZQP33LLL/zWjeGYISOcihlKjJhRiZLWPpSoKCFnkgxLmDEio2IJLxmRMRSOJSrhuLPVp9Lp0u4QTkVGOBUZlSjpra9H6ZYsvGRHb33dy6cCzSZnZcaQGgwZc6hBbCOjogaV2EZGOJaYJGOSGsQ2I+5UwjGjIkOJVkGrYMhLLDESJbuRUZERzpASFSWGokRGJZyKGXvmMsASkx7+zE1wo4wZUaJERUaUuKOEGRUlZJhRscRZWSKciowRGeF4yUh7gVZBOFFSkSGjEo6MjROcOHoMkCXoY6lVFJu9HjsMnPmMmhJKNJsYU0TNmU8NYhsZ4cgYkqEGc4XjJRUzKIiSSqugWWAJGeFUWgXhjChRiRIlZIRjxhaYoYQZgz4ylDDDHTPcmSEjnD27sXAqraKAZ8NXmCBDiYoS4SghY8idKGkVKFGRYYlwLDFJxpASlhiSEY6MiiXUYCi2qYQTJWZQoBIlNjdQolkwIqPSW2ezt6FkUXqUbsW+8HJjfT0cSwy2UYMhY1cyjF0Z0GBEDSoGTk3GUJSMGDhj4VTCMUOJoVaBDEvIqMgYklEJZ0jGiIwokaGEGRUlomTIjIoZk6KkImPPbsxLWgVK6Z/98ls++xsvY8dmj84iQ0pUZEza6tNZpCKjYgkZMibJOHexTcVLKs2CipzNkiEzRizhJZbw0oEoPbx0L9udBS/96JEjR4/Q6dIquHiJinEmlhgRBDVBkBkMthkxMgMaVGKbGcZYbBNOxUsqzYIhJWRYQkZFDYZimyEZIzLCGVKCPhUlKu4oYcaQElEySYko2XMGFo4SMlt9znM+S+3WN/+7f/t7NyphhjszwqnIqFiiImNIxlA4k2TIGFIDDC8ZMQgIJxwZlhiRoUR7gd2El0CUvrC4eOLY0Ye/deQbd967cvnlC4v72gu0m4yIWTIqYkxkYooaDBmZIMgMgrFwKg5GFtuEU/GSSqtARmXQp2KJITUYUYPMmOQlMiqWCEeJETMqSkxSIkrMcKeiRJTs2Y2xo1VYsyg45eHP3AQ3ssOMSeFESWeRiiVkVNQgtpkkY5IlRmKbSjiTwtncoFnQKpi02aPSbBLbhDNkCRmbvR7gpVsywL2M0jc3evfffXe47z94cP/BbruJIEDMJ2OGqIksqBmZqBkI1CC2GYlt1MAhtgnHSyqWqMhQg9imVXDuvGTIEhUZFTN2o8SIGe5UlIgSJfaczgb9kx32tQp2tGDA7sIZ9FlYZNCnIqOiBkOWqKjBJCUqMiapwaBPlMioDLbxEiVaBWpQiW2GtvrImCRj6PjaWrgDXjoQpQOPn+wfX1u7eHkZOLja7VyEQMwSBJkaiFowxSDIjJqoiTmipBLbjFiiIqOiBgY0mGFkzpgaYFTCscSIDC8xY0SJioxwJilRiRIz3KkosWcuG/T7sK9VUDn4o2858vG3suPEUV/omhJRooQ7lUGfVoEMGa0CNajENmowpAank1FRg9hmKLbZ6jO0tUXFEq2CirGjAcZQq2BIxsjxNY4eOSIzILwEwksq/f4jaw8duPxy4JE1P3CZMUFMscQkQVAzEIj5RBbUoiScSWqgJpMMxBQHo2ZkDgYOahDbTJIxSUYlHBkVGZPCGTHDnT27sa1+36wro1UU1//UT9368bey472/9Es33fYuTomSXp/OIu0OalBRAwMHNaioAUbFwMEYs4QaVNQgthlyR4lBn0qroKIGM5RoL9AqqKhBbDMUzt/ee2JzoweEl1E64KVTKX2zt7HV70fpx9fWYvtgNGgyh8iMKSIzxgQBohYgagGxTTjujKiBkTkYYyITY4JgipEZOJmMcCoy1KBiiXBGZMywhJcMKVGJEjP27MaAZkGroFXsay8scMr6He9WehegRGWzR7tDq6AS21jCqMU2ajBkZMYUGTMGfaJEiUqrQA120yqQMaQGsU3lG3f6A/fcM+j3w51Twksqybx/ctDvy/zokSPhB9XkdAZOJjBqzpjIWhCMBYhZXlKR0SxoNaiITNTEWDBFZMGYIMjUILaRcb4sUQlnSIko2bMbG/T7ZlTaHTY3jAlRokRl0GfQZ2mFITUIxtTA2NFgRGRBpgZG5mThbPaomNEqaDU4nQENzGg2GTJwsqNH+MsvfOH42lp4KbMonRn9fpQuS4N+X8YkY4qMSUbmjInMqYksqDmEY4lWQRitgopA7ErUgprIAsSYgYMaxDZqUDGyLcYsUfGSIUtMklEJp6LEUJTsmWHAoE870Vnk+Boc+Bc89BF2HH+IA09lq89WH0vIOJ0xRZyJQcCgT5R0FqmowXnZ7HHnoa8+/K0j4WWUHu6AktEnSqdSOuBeys1SajUQNQMHY4qoiTFRMwhqBg4BQSYyGWpQGUCrQZPMGHMwcOYQY6ImCGYZsywho+Ilk2SEMyIjnBEl9swwmfVOsLRClFRe8aY3/cm//gg7bn3zr73lg28Z9Gl32OxhCRmTRC3IjDlkGDWHQZ9Bn1ZBe4HNDSqCYExkQaaEUXOyv73HH7jnns3eBrC0svKdo8fYoWRKNuj3qfT7ZilKb3c6IjMyZz4xSxBkDkFtQDYgMwgwsAaVMGSIrEUtyIzMmOJMEVMEAQYOajAjSpSYZIkhGRUZQ16y56wMeGzD2w073qdZFJeurnLKkY+/dXPjLa2CZkGzQMbpBAGCYIogGHOyrS22+rQK2h3UYBOMMTHFmHX02xy+667NjV64R1k+67rr/vLzn//be+9hx+ZG73F3kuFlsyg2exsXLy+LmjNF4KAGkwQBgoBgLMgCnDExpgaWEBhziLGgJjBwMHBqRhaMGTVBkCkxpAaxzZCM01nCS2QMhbPndNYqis1eT3SVaBUWnpjQKmgWVFr7UIPYZkiGQGSCAEGAmPW1L5x47ou6sU04gz6Vdgc1qCixG0Ewpfcodx6696H779/sbbj7Qnfx2dd1Hzy8X5bCS+DxXg8vqXQW2gudrX6/u38/YOBg4GBkYsyYIggIagMICHBqBoIWUwLCMBAIgkxMEQQ1AyczakYmCBA1kQWIKTJkDFlikhrENjLCmSEjnD0zTClt9ftBt1VgiR2XwQPsOHGMlcuptAoqalAxCKYIglmCOz538pYXL97SfdGtD3wCiJJmQavB6QRiLMhkjNx398n77757Y3190D8JXPb0K9tNKpbMkm1u9OhtUDpFsfDUyxcWF79z9Fh3eZ+RGWNizEAgpgSZQ5AFYwZNMBCz1GBEEIyJMZEFY6ImxkQWZGKWJYbUIEDGkBpU1CC2GbKEl4zI2DPD2LG5TbuDDJn9s19+12d/42Xs+MDbbn7LB98IKHEuAsTY6tX7qJz45Osufspv/39/2ypoFQiCTIZAZGI+kQXcd/fdG+vrgJJtbvQue/rTgc2NDVlSssdP9imdKOlzyZMPdhYXlay7jINRM2YJAsRYkDkEU1pkghaZqAVjAjEmsmBMENQMBEEmCLJgisiCKTIqajBDDSbJqIRjCS+xhJfsOZ0BMju+xmVPYuifvuQln/0Nhv7mw7+o//zGcEaMmsiMKSIzcAhoFZzywB/9+of+5U2vVIMRS4isReZkBk7NEiOtojBL7mWUDjzlyq5DuCtZqyiwRFHw3T7B0oGVpQMH2p2FziLGFDFmEMwKcAjGmmDUBGI+gwBREzWRGThziJoYM3CmiJoMLxkycJBRUYMzsETFEl6yZ4a1ikKdTu8E7SehRMWSMU2GjIpxJoIAgZMNYNAHPY/4EvDl3/md1/+HVxqZyGRUDAQBBk5mEMzaf/DgfX9x9+axDfdyYbG7tEIlytIsmdkFZo8nIzvZXugsrSzvf/LBdoMRQYAgqAkEgmCWwMgEIgsQUwwcBEEmakbmzDJwELWgJghqgiAzMicTY+FUZBhjajBDDWKbioxwRiyxZ4a1in0yHtvwwIBWYeFMOr7G0goVoybGHIwxkQUEbD5Gq+CaN7zhy+/5EpX4UrOJmGJMMWpiiuCSg92FxW7vxPpWv/+Ma69tNxiAuyuZUqJSOpmdOHqsu8wVV10FOBiITGSiFhBkAaImMpEJjJqROZmBIMBAMKAmMOYwagZOJhDzCYKagTNFxgw1iG3UoGJkTqYGsU1FRjgywtlzOpNhic2eb2LtDlt9wvm+69/2d596Bzs+8f5Dr3nbCwFBgMjUwMCZIyBgsM3ChQhe/L+/8svveRU7eo/Suohz5yU0qQj2H+TS1dWHjxzpLC5eec01AVtbROlmBjx+so+X7Ljv7rvhNVdctU9gTAkygUEPBtCmJrIAgciMKU5mZAGCYExkgiAz5jMyZ4rIgpogqBk4GFkwnxpMMnAyNYhtKjIqMsLZM8MAL4myHLCvu8x3jlF56Rv+1W9/6h3sOPT2173mbQ9aYkTUDJxZAQ6tBk0IuHSVkY++9wuv+aVrOUUNKgJRC+YQ2dKFrD5n9fBdd115zTVXXNUBThxFyYBBv0/p1Hzj8OETx7jsSRg4GASImsg24cRjWIImTTJjrEUWTDHmC2piV4LgLEQWZILg/BhjBk6mBrHNiIw9M8wSgz5KqfcoKxfxAFl3/zJj3zbYIhNTBE4mcLItsha0mLQEx4Hbfud3X/NL1zKPIEAQZAYBlhCZkV26yurVV1/9I6udRTYe4+EjHqUrJSrJsARGpd9fu//IM559EDAQNUHAFmzCiUe57+6TV16zT2BkoiamCIJZYpaBgagFNbEro+bMIeaToQZDRuZgZIKgZuCMqUFss+d0xg6Z9dZpX4SM0514lFaBIEBkRs2oBQzAQCCmLD73p9bveDeVB/8zfEhkwdnJMHAyh3aDZ123esklOBx/iN76upLJTGZYIhlKxEmifODeew8//eBlP0CbTDCALRhsM+jz4GH+6st3HV9bW736pdZEjIlagJhP1MSuxCyRBXMYmZMJglkiE1k4ajIkCDAykYksyAwc1GBIDWKbPTPMSyrd/bbZo9Iq2Owh44Kn/MTjf/tBdnz6j7/64tc+ExBTgkxkAQZNag4GRnb9q1/9oTvezY7eFhc3GTIQiCliijMmWHkSgsE2mxsopXan0yqKKB0vsUQyApQO33kX8PJf+FGW6D1KJUo2exw5fOLokSOH77xz7f5vdvcvtwrErGCWIJgiCAgQNYGYEiAyQVATBBhzGJkzJggQY2qAURHnxMAZU4M9MyycVsFCl4c32IRmQavAS17+f/7Cn/zrD7LjQ7/6tn/+s/+FCSITWVBrgpE5YzKue9UzP/TzDH3uT7750p94KqeIMUEwRQ0qRmbgIDI1WFikvdB98PBCqyg2+utYwhLr62DA3917z/G1tee+5Ec3TnD4zm8Cg37fzL72hS88ePgwO2TWbnA6MYeYQ9TEHKIWTBEEuwoycXaiFiAyQZCJLKgZmbNnDmt36C6jhCU2obvMd45RecYPXf0nnPLIbWowYhDUAhwMmmAgCDBwxlYuAn4Avg58+D/e8tKfeA/zBGcnshbsP0g47U5Hlqh4iSUyp9LvnyyPfe3zX1BKf/n5zyul63/qp5TSfXffvbnR6+5f9tLZIQgIEIgsOAsxFjxxohaMCYJZ4kxEJjJBMMWoGTh7ZtnSCjLCkTHYpt1ARkXGpO8cp72EkQlEFjCAFgicLKgZNTUQXPjMax/76teBjf/2Wzdc8FsMdV/021//xOolnIGRCQKMzKEFNIgm7U6HUy4wezwZdCgKOgv7Op0H7rnXvVy7/5vPe9lLn/Mjy/fdjSwBmxs9JQMEwRMXjIldibEgE1mAyEQW1ETNqBk4YwYCIwsyMSYIMkEwxdgzy1oFQ62CzR7di1AinB3fD3/Djjs+dvjHfmaVUwIMBiAQmZGJLMgEXbjv29z45t8d9Pt0X8SJTzLpxCf/j//hAuBXvlhe9zwTWXBORNbdv1/JqFiiYonFxQv2Fa2iuPQfry6tHOgsLh49cuRZ1113oMmDBe2FjiUDmkXRXd5vjImayAJELRgTNZEFiHMVnIkgmGXgZAbGfCIzMicTBJkgQGTBnjlMRjiWaHforaOLMGMLwvnBN974xZtfwY4PvvOdP/Yzf8COgAAHQQsEAQ7G2AH4x/D2L/ldhw61Fzr+138Gj7KLX//B9Ovf88N/3vsU84g5jGxpZV+709nq9y8wU7JYXt7/5IOtojCz1auvvuKqqzqLnaNHjqxevc+gWdBdXm53Fr5z7Gi7s9BZ7AoEAWKWGBNnEmTGmCCoiV0JBMGYmMOYogaiJhBTDJxMEGSiJgj2zDJ2yGgvcPwhKs2CzR4yrnvVy794M0P+138IfwA4BDi0QdQEBiITPAcuhn/1kYf2HzzQW1//r7/7as7qu7f/zxdccOjxx5lgIGqCYIrB0gEWFhcH/ZPAwuJiu7OwtHKgVRQXLy9f9vSnX3FVx52nXXPNyoVUzHjK05/+P1577QP33tvpdltFEfx9iVkiE7MCBEFNEJwrQVAzEGdi4GSCIBMEe+YzQEZFhpdsghkyKu0FJq09ytJFDKAFLRBztOE50IT3PYrMeuu9//q7r+ac/S9Xvu6/3HsrpxEEY05msHAh7U7HvWwVxf6DB7vL+9sLHZldcvBgd7m7tMSJR7l09aktss4iV7/wBavP5oqrngls9TmxTafBJAOnZmTOFKPmIAgygZhljDmITBAgpgiCJyKoGVMMnEwQZIIAsWeWqUFsowaxjSUG0Flk4wRRMuMDv/qhN7z7lWrQAgcxqwvPAsEmfOBXP3TTLa98/gUXcD5O/tX7/ugP3vjjP7MKBIhMzOdkBy6//JKDBxcWF1ef85woy0G/3yqKzuJie4E2bBhLK1QE+y9i6dl0gQsZwNHE2jdZuQKBwKgZswyczJgjqInzIzKRCYIpohZkoiYwcM6bINgzywA1GJKxtUWniRlRUrnkBW9++DM3sePL73nV/3XLK1sgcGa14Vkgsvd9m9f8+1f+/Ktu4fz94b/7dy/6mT/tUhNnIli53J52zTXtTmfl8oP33X1vHDvWKopWUbT20WRKGwxE1oLNDc5MEGBkxiwDJxM4BLQ4J2I+QVATYwJBkBk1Y5YgGDNwMoGBs2c+Y4dBQLvD5gYXL1FRwoxXv/Wt//dnbuIUgZhl4PAMEFnA177wzee99Knf+NDbeAIe+sgH3nHo377thewIEFOCmkBwySU844eu7C7TKji+trzZ6zWLQil1FjGyzR5cQsVA1ER2yUEE4h+AmE8QYGTOLAOnFtTErgRiTODUAkQtyAycPWdhgJGpQXc/x9dgiWaB93DnkoP7mPD523vX/3CH06xAm2wLvgFRlp/+43vh0Td+auPm6xc4T4fe/pOvf9sjYpZDQJA1wcgMVp5Kt4FDd/9yb31dKQHdC6ls9YmSIYEY6yzSbTBknBNRC2oCgTGHmGVkDsaYgfMEBRg4swRBZuDsORPjFAOauFMxI0paBTIm3XzDDdf3PytqBg4duASaELAJn7oPd//g634YuPn6Bc7TJS9488OfuenTtx277oZlIEBkAUEmEBgIgqzdQCDoLnPi6OKg32939rVB4E53GVELEBg4tBs0QUwRU0QWzBIEGDiZQCAI5hAEY8Z8gmAOMcWYZZxJC4I9uzIjEwRZlGxBs6BVUOu+iBOfZOjk54AgMzKDS8i2YAMCHrjnobsOHYKHeUIWFhcfhi/92Z9dd8PPAmJMZMaYGBN0FqmE+8rltMgWFrm4yYjAyAza0AJjTOxKEOxK1MSuRBYgCKYYOJmYJaYIRC2YIhAEWYCYQ+yZZWLMIByHhQvpGeFUfv597/t//tcVTgkQGGzAFgg+vcXlTZ4CA7LNjY2/+fAf80QN+n3gq5/+DPxsQIDIBIJgDoGgBa2CzV6vVRT7L0IQcHGTBc6J2JXIBIKgJggyIzPmEwSImshEFswhagGiZhAgcMYEQU0gMkGA2HOujGntDltbtJooEU5l9eoDTPjoRx566b84sAGHv0J3mcFJlg6w1WQTBmRr3/wm37PId3li2p0Oeh4P3t3bot1kRLBFTYyJMRmVpZUDbRDZAog5nCdIEPzDEFkwn9iVIMjEuTIyZ88s4xRBQLvDiaMsPQkzwqiEc+t3Ht/c4BcuvQAY9Ptrj3H0CJu9k4O+bfZ6R79lx5/cufgKAgKWVla+/0de+Dcfvp0nZGllhaLYd/BaGU0QYyILxkRmYBDQatBZXLx0lRYEs8QUMZ84VyILCM5EEOxKEGQGzhzGLCMLxsSZCII985kgQBBknUXW7uKKJ6EEfSrNgkGflScx9MA99zzl6U9td4iyPL62dnxt7bZbbvmJd7zjuVdcCQRcduWVH33ve+HZ8BXO38ve8PK/+PSn//nP/Vy7gYEYEwRjYlYbnnJld/9FVAQBoibGBE4mEARj4kwMHEQW1AKcTBDMJwjOxJjPyByCzJhDTBEEiFowZuyZZewwCHDoNNhYP+F0WwWDPlFihjuDbfieH+a7t3/2N37+n77kJRvrfnxt7eEjRw795s189/allfdtwgAMrrzGHvvq7/G9N/Ct1n/mAAAgAElEQVTIVzh/V1/G0srK/oMH2YVAzBJZGy57El0QmagF50ScN5EZiJogQBAgMHAykQVzCILMwKkZOGOiJnAysSsxSxDsmcMCBE5m0CLbhIubbIAS7lTCefarXvWVW2+Hhx+6/37g+EMPHfrNm/nu7cAPvqg7gC3YhM0e8P08chtPyAo854UvNDOByIyagyAYM3DGBAsgZokpQWZgZCITYwbOmJE5mYGzK5GJTMwhsmCWyIIpRiZwphg4YwbOrgTBnl0Zp4hau9P5znGWljDDHTPc8ZLnv+LlX7n1tcBHf//3n3bNNV+8+dfga2Tf34Q2fGeLjXV667zw7e859PYf4Qn5ndt7L3rt1Vt9DATGrozMIKgFCAycmoEzZmQi22I+IzPGnMyYJQgycX4EwXxGTRDUDIJMTDFqRubsOW8GBLQYW1i04w+xuoQS7ow867oOO9bvePcX73g3Y+X9D3DxMps9jq9x9MhDl66u8oS8/7uP/+ktn7l09QXPeBKbYGQiCzAYgNiVQExxxoxMZM58xhzGFAMHcd6MzDkPYkwQ1IxMEIwZmZMZOBg4e87EAppMWbmcr32+B512hyipmFFRg1089Lk/+UJncbG7vKyUNtbXN3u9Z7/u/V+59bWcqwZsw4Xve/OHXv3WV7rThAGZGHMQGDgYmSCoiZpzrgSCoGachSCYQyAwcGoGDkZmTDFwEAQIgvMgZgmCKQZOZuBgZMGe+awJBoKgttRks9cb0Gk36JEpEc6D9zFLz9u3unryr973ife/v7u8v1UU7YVOp7vY3b/8nWNH+d4beOToa//TB9//k5dzFtvA913/i+HlvV8+9uM3LBuZQGQBInMyY44AQYCYw6gFs0RmnIk4J8aYcRYiE7UAQXCuxK6MPefKjFmCzuLiANqgxMilVzDpi48/DgTc8fVbf+VpFzzy1z/AvmVO9uEk9GEdenzPtVdc9dS3/7fH3/5PLuBsNtbXf+iql7/4huUWBJmoCYLMQMwSY+LsRBYgMKaIc2LgPHEGzpmIMUGwq6AmsmCKURNZsGeWcYrIBAELi/s2ocuU2GbSJ77kL36eCZ73Azz7de//yq2v5eTXoQHbjHz39l952gXsez48G77C7uwf/fQPvuylL/+XVx6AIBPnR8wyMgdjTPy9CILMqDXBODtBcCaCAEFQE1MCAkRm7PmHYSITBDXBxcv0HqV1Ea2CQR8Z4YQz6ddvuOHF659gx82//5rnf/xjPPQR2KZ2CTzM0MnPcTb+1/e+4c0vOEAmzkJkwZiYZdSMmhhzMmNM1EQWzBJZgCCYZWRiSpCJMZEFGDjziVkiC3Yl9jxBxmkCli7hwfvwi5AhY+iOjz3EpBOfZIfIDq396QsXX8yJT1LR84gvcc5e9q4vv+XfPFdg1AIMjMzJBAHiXDmZcU5ETUwR84maMyZmCYIxMcXAmSKyAEFwJqImxoL5DJxM7JllnCJqgiX42lGPK6zVYEAm44qrDjDtvse44kJGDq1/4p1v+rNmURz6nd/lEc7Nk9DBt/2b5xqZIMgEombgnIlx3oI5xJg4D2JXYg5BsCuRCYJdBZkYC/Y8EcY0AydrFTaAJljCSypLK8x4x4/92h9+7C3s2IQ23PjOl96/xV2HDq0/wrn5NvHto7ACIhMEmTg7QYCDQMwyxsSYmCIQYwbOmJE5GDiIWvAEBZmTGZmzKzGfgzEW1ATBnvNggJhl0F6gB20yS8x15ONvhbewQ9AGg9Um/++X3zXgXUfhw7/31b/49Kf/5sPvhOPwP/3ojTd9/FffRnyJaR+97djrb1hmgjHFwKmJmsicTNQMnFliDrErA2eKMV9QE+fHGDNw5hCZQTAWZCILEJkgyII958fYRbvD5jadBjLCqX3PD/Pd25mwAV1qIhNZGy6DN7z+me3XP7PFGzll0O//+a+9hGkfvuWW199wI6cIgpogqImagVMzxowxY5YYExiZmGKciYFTE5nIxK4EwdkZOGcSTAky45w4e3ZlTBAIHBzaHXrrrCyhBhjhyLjhrW+57ZdvZ8J/+MUP3/SbLwdaYEwRiFlXXHXVnzPr4c/cIm4EBMEsQYCRBTUjc86bkQW0QGSiZvx3IbKgJgjmMHDOSYA4E0EwR7BnlrHDwMkCjKx9IccfgiUMaIBRefFrr73tl5n0xZtfod98PEDMJ2oie8a1B5jjsRPQZZaYJWaJOYwxMWbUAjahBU0IEHMYOPMZOGchpgiCszAy5+wCRBbUHIxM1JxakAU4e2YZYGQGAzBqLTCj0gQHNYhtlpY4XYDAQMwyZq0uMdeffe7ka56/j78fBwMDQTBFTHFY26bdQMxn4GDMMjKnFmRGJgj+OxJZMMU5iyAL9sxnTBMEWUC7wwAMDBzUwJnjS1/nh36AucSsJeb7o19/52ue//ZgPkFQM8YMAsSsoCbm24SvfeHkZc/f1yYz5jDmc85O1AycmiA4OwNnzCEYEwQ1Z4qDQZA5WbDnLIwJIhMECJTYhA4MQBDs+N4beOQ2Jrzjf3vdZ+69VUwR84n5/u5T/xHezjRBMMvBmM/IRBaMicyoCbbg8J13xvOvBcT5MXDmE1OMsxAEU5yxAEGAgzMrmCVwMMYEQSYIMPbMMjEWZEEm6FzEALpkh7/OrzztAuC1/+n+9//kbUw4+Vfvg1vFmYhasJtHT0AXRBbMYcwRZGKWOBOH3vo6pzgY84ksmC/YlbErQZAFU5yxIAuygIDg7IwpBkbmIAj2/P/swQuc3WV9IO5neF/mkIEJJJ+YZJOFlJsbFUVUaOGv1EoFb3XxtqJUW1lssVYp1KJr7Qcs1or1skBbqbheqhZcvOC1IkUruKEUFVhQo9w2wWQh5JNABmZyJu+X+eeNv/RwDmdmcsG2K+d5emWPUFQjtFh9v9a+XjI0ZLvjXnXwR39Tj3tYRJB0ZEI/j3uxe7/kEb7xPa9+uh5JI0wrqbKZZB1Bi5G5c1t2SJBUoSp2QtEROhKhS9EIjSARhCoRJNPKqqQj6SgkA72ybRKhkVWJxJrbvP4ZQx5mZA+PdO0/bj7x2XuZXpA0Fj/5sLu/+SWP8Mlz3/PKy9+WVMUsEqERJP2FKulSaHHA8uXJDkm6ZIoq9ApVUhWyHVVUoSNUQdGRVIlQJb0SSSNIqiCpioFe2TZBUSVVqDLnPGNIt7Y+vvw3f/Mbzz49m1bScdBhT777mx7p9i++P3lbpugjEaaVNRJB0pF0SRRGeNpxS1p2UZAI2rRIJFXSpWiERmgUvUIfSTVJIlSJTKaQNZJG0pEMzC4HWZV1JH385f+dOmixwt5PPe3BGy/yMD+69A/GLzl9xLSCpPGkY45ecYF+1o8xSqiyWSRCIxEkvZIqqxKhMcyh+0qqIFHI+gizC5JGkHSEKlSFIHQk00qqRJAoJDJJI2kkVZBUWUemqEKVDfTKQVIFWZUIkupxzzrr3mve++mYWrSHFuOq09773vcff5FuN93quEMlHYUgqZKOJxy1zDS+8UMve6KHyxSNROgIjaRKGsm0kkaLlj6KKptJ0SiERugIjVAVjUnaJI2skcwkkciqpEr6SLpkAzskD2skQq+z/+d5OZ936B420SIY55nPHX2/Xn//Py4/7j0nmkYiNA450HT+9tzzX3bJ6aaXCLNLhCrpL2kkHUWjqLI+CkEQTDLOMEV/RUfoyKqkSmRV0StrZEIjmUk2sHOyh0l6Hb7YGhKZxDBtRvXxrfPPj/ecmMxusWn96NJ3ueR022UzSYRdNMmwjtAr6VIIjaAQtGkTZF0SocoUjaRqkUhkCpmkUXRkfQQjqqJLVhWyXsXALDKSKvTRUiUSQSaZxuZ/vOl+R+7rkZIqEaphM1g/TosgUchml3VJOoIWhayP0BEUjawROkJVNEKVNJKOZFqJrEqqpCObVjK7rI9MMTCTnFVBIjSSRiETJNUwmcLi57z97m++W7cv/83VR551rG0yRUeQPFyLtn6+cavfOFSoWjoSoUqELoWkkXRJ+ggKSZdCEBpFlXUUMpmiSozQJqmSLkkVJFWoso4gaYQdkvTKFI2iyroUA7PItkmmlVRZY5jCf/v4n51+wLt1+9Jbz/rTs/7JIwTDBEHxM0/lOv188k//+jc++XtI+guNIKmyKkiEKukoOoJCm0myRtaRdEk6kkYiyKqWKmmEjmRHJUIfiTCTYhaZokqEgT6y7YJEpujSok2LIJPJPG1//Vy3mgM0Qh+ZwtxnHLXpu9fp5+ZPvccnf6+oiip0SXoVjSCpQhV6FUJH0pFVWSOR9AqNpAoSWRX6SISORJAIvRJhp2WKgd2S9RO0NEYZZ4QgMUzbtL78mVVvfOUy2xWGVaEjc9CTD7vxu6Zx1zihSmYRFIZZz613uXtVmbcoH3WoUUIjSISOTDBMJmkELY1E1lH0SoQqyGaSCJJGUiU7IRMaiTDwaMq6FVVSJQqJYIxglEzyMwtYr9vnzj//ja/8AIoq9Hf4scfe+DHT+fadjjxQj9CrqL789xvPf8F8PfZ57jVj32gRqiCpsipRVElH0qWosirrEoSqaCRdQpdE2CGJUCWzy6psYLfkwrCOTNGRKVz0wWu/8L73nfzOd77j1MMSmcJTX/dnN37sd3XbcO1H1/vAAo0gyIQuhz5tuen97bkfftpHfydphKpohCoxzq8PHcBdHumBK996+qX//fyTbJNUWZUphC5JFaqkyvrIFBKhClXSR9IlEWaRzCLZLYkw0CvbLukVGi8//ejTzvjcmCoxrDr13b/z+x/7Xb3u/873nPh0mdCRNEL1lKeYwY0f++Py0d8Z1kgEQegY4wVDQ6a34oI3Of8kJL1ClfVKGtm0MkWvTNGRNLKqqJJGkAh9BIkwrdBHIZtWNjCTbAcs30Ni5V0O2d9cMsHTFuvr1htu8fTDkHQJjcJcM1tvm9AoqkImqV4wNGQW65FUyUySnROqIFRJlXUUso5M0SX0l3SERiFIqqKRNYpG1kiq0JEpBvrLWa9M0WWMJRy5vyCRSLT0d/0VV8SphyFUQVEVVSZIZvH9Wz3zUIUWLYpqHok2f/GRW/zbSaowrWxaoZEI/SUdiaJX1kgU00qEgVlk3RKhSoQqk1nMPG4lSGQ/80R+aLsTzvn6Fec87yf/fP1G5hGqopokEQRtPQ50wFEHH/HUX3nRiw5Yvvy4Z+bDWaDjHkZZyeFcyzI+dephf3nq1Gfv95n3ffUf3nU237MbgkSQzK4QGkWjkDUSoUqq0BE6wq7IOpIqG9gt2XZBS5ekCtU4q8kUWgSFZS981aqv/ontrjjnebZa/Zkf3HXpr+5vhAWMMMqIXlNTU3bMItXTVIcxqtqPU/d16rkvdO4Lg6T6AX/x8ZWfOOut7v0ST7RN0iv0kcgahWx2mdBRyHolQiMRGokgEfpLhC7Z7JJG0kcy0Ct7mKIqBEEiVIU2hUwwwgiZVV/9CuY+400v/4PTlx5y8IGHOXRvT2PEz8uojnHe+qV1a26//ewzjj5c9SQ+/tvLP/7bX7TdON9nhKSRdEmEXReEqugvVJmiSjqSKhH6CJKOrI/QRyI0EmFgJtkjZFqM0mIuw4yoDtBrauqf/NsZ4cIXL2Sh6Y3wTCa5hgOYJFRJlyCZXdGrEARJf4lQZYr+ki6hSvpIhCqpEqFKhJlkioE+8qEMM8KIX1jDHKfjTu7WCLsi6UiqIOkvEXZUkAh9JFUy8GjKSzzmHMiBjLParkiqULVIGkHWSKpMsXOSPpJdlwhVphjolT1WjbCcSe4g6ShmkikahURWBcO6ZFWmkAiyXsXAv7HssW2Y5Yxxt5kkQn9Jr0SoMsVMsi5Fl0SYVmgkVdIIHWFgFtkAo4xyHxvJFApZR+iSCYKkV5BIqqIjaYQuidDIFFUi7JBEIswkEQb6ywa224/9WEsh20XJTEIfibBbEqFXaISBaWUD3Zao7tTroKEh3DE1hUKosmllitmF/pJHQSIMzCQb6OdA7mOjRtEouiRVkFRJI+svEWaSKaogmUXSkVShEaowMItsYBr7sR93UlQ/mZryCEl/hayPsKOSWSTTSqowMLtsYEYHspq2KlN0JF3Cv6og6QiSKqnCwA7JBmZzAOtZoLqPe1VFlU2r6CMRqkK2ixJB0iUZ2BXZwA5YwDhryDpCI6mSKkiqTNErNLJdFzqSLkkjEQZmlw3smOAHLCepQpU0gqRKqqwjq4rZFY0g2SFBMrDrsseev7rb7/+Hoae//qPf/fDr7LBRns1+rKatS+ijmEkhm0UmzCLpFRpJFQZmkj2W/JcLr7/szUfZ5nsXn/K8pUu+fvYJdth+qgNYy5gdVch2QphFIswiEapEGJhW9thwH/OGhjQO97hlNmy44pzn/dL15/6fr7zDTlqiukNH0qXoLxGqbFrJTJI+MsXArsgeA95y5dj7j5+r4yb33sxy9l311T/5pRf5P195h520hGHuIXEgmVWmVXQkwiyCpBG6BEmvoiMRBnZU9hjw/uPn6vUQP7TNqq/+SXhHstMWMI+kWsveFLML08oUgqQquiRCFWYSJAM7KnsM2Puppz1440WmdzkvsysSk/yIETKJTFGFKtkJRZU0MqFXInTJFB3JwE7IHgOOe9WrvnTjRaa3+k4OtGuGuZMnaRSNpI8wk0whSGTTSoQumWJ22UCv7DHgU2cdO/etZnDx288/45LT7arjVes9OpJG0SU0wkyCpL9ioFf2GDBqFj+69A9ccrpdNaJawH0UjUyx0zJFR2gkVagSoUqqYmDXZQOPkhHVeo2ij0TolQizCx2J0MgUHUkVBnZIHmfEL74rpqZOGBoyvbUssbtazGWTaYUdVQi9kl5ZryCRCL2ygV55xGPC8WZxyjuv+PrZJ9g9wQht2nZC6CgamdBHkMwk6ZUIA/1ljxkX3Tt12uOGTGPu/Pl22zCTjNL285LsumKgV/aY8bsLnKbLRfdO/e4CW93Hi9/yWY6025JqLpv0lwgdSRUameJRFhrZQK/sseSYN1+y4oJXnXzxzZ869TDbXc5Lhp7KTd43ZfcEoUpkil5JryDZXZmiVyJUiTDQX/ZY8r/OP2nfFSu+c/nlv53z3atWXXHOW7nJduOM2C1BWyOpiipUSR9JlQhVsUNCl2JgF+VQJY8VL3nj733idU/4xFf/xCP814tuvOS0p9oNw7QZVyUSRUfoSIQqzKSokl6J0JEpeoWB2eU2LYJg2C++E397+Sdep69L33DEJadN2T0txtmkapEpOpIqCDPJOkKV7LREGJhFHmOSYVoEoUokv5hO9PM1zAjjrGeYFiN6JcJOSzrCwKMjr2eEESYZpqUKgmG/mE445+tXnPM8/axngd3VYoTCahawgBGNUCX/GsLA7PKtLGU/9qbNJIkWiVAlguQXx5lnn3DFOfp63u987Lsffp3dM0yLBazmlrsdsNihtDSSnRBmks0kEarQKAZ65e9cOXboEaMHLrCIuapEqIZp+QV0uGl97+JTfPh1dtswLUaYnPD975n7dAfokgizS4RdFBqJMNBf/sBpb3j5H5z+pGOOPPQIi/awmFFGyExqtPxCWUT+T79VfvwJ/axngd2VyQQjo6665JvzFj7ngP39K0uEgVnkqTs+fdmbr7rj9e8++kUvPOjJC9cfaCmLmEeLINFWjfjF8e4vf/ysx39CP//fK97/48v+0G5LLGBsrrJly2fed+lx5580oktShf6KKjQyhSCRdSlksysG+sh/25567YEv+97Fp3z/qpOPf+1rDjvmmPVPHj1osQUsYq5GYlzVIvl/3uJlpvOTz76FP7R7CkFLNTkxseKC/77p/JNGVGHnJFXRRyGTKWSKmWSKgV75gGH/uOZz//g95zzjgCvOueIHx7/xyOedsP7Yow89wvgeFjCPEVUi0yaTSDqC5P8lw8N+roI2bdoTNq5bx3XjdkjWK0hkij6KRiGrioGdkJPqN57u+KnVf/HBa79w5jN/+o2v3/abrz3yeSccfuzBB+xvAQuYyzAtjaJqkVTJ/2M+d+H1pncf+9l1QZtxNrLmNresWIFJjaQKVSJUhayjaIQqUcwim0Ux0Ee2XebcM44+/Yz4rRe96+ZPvfHmrz7/mNe89ugXvXD5UaOL9rWYUUZo0WKYYJxEZlgfQTDs36PL3nyU6RW7pc04G1m73g9WXF9+/Als0iXpkjWKLkU1rCPsqDAwuxwkQmM/Pv+Vd1x79zt+/8BfW3HByd+/6pTjXv2qI094zkFPtmTYPEYYYYQWSVUoTKpGSRqJ5N+d4B6zWKC/cVWQVJMUgnkMa0wyxj2sfshNV6+96pJLbDNXI3QkMwm9gkSokoFHQbZN0eVpi62Y+NYnP7/2Qy974lf/+Cu3rHjjUSec8LTjjjzwiRYwj1FajNAikVXBGMNkhv17FLR54SkfNr3HPeusMUb1MaLLiC7BGBu5mzsfcu1X1n36z9+z6bsX2mYJidAlzCJ0hF5ZVVSFbGCnZdsEQVuXV790yaun7nvW0D6rvvonq75+xa2vfc2RJ5xw2DHLFu1vMaOMMJcRQmNcFRRVZti/C5MUxpnkxo/9rul96urzwk4bZ4yNbOTOh1x1ye1f++hHN333wxoL5plWUWWK/sJMsqqoiip0hEamGOiVkyqRVKEKkqplqwdtFd+58WMrbrzqFb/+2tcsP/LI5UctPGix/Wgzwt6MkEi0adMi0aKQVUmX5OcrSARBYVI1yUXXmdGBx5HsqEkK44yzkfWsvNv1X1/55Q9/eMO1H7TdyRd/q0VbVcg6ikYxrSDpEiSKKquyPkJHMdBHRpDItGgTBEHi2rv8i/yfXlN+fP0/vOvUm5712qOed8JTjj32CUflRcPmMcmD7K1qM0IQTKqGGaHokilkio6sSgSJpNekLsM6gtAoGkGoksa5vzJkeh994I6kSxB6FSYpTNJmE/exetJN3x77/lVXfeuTn7T28x7mdaceFmRCVTSyaQVFR+gIVZBURSNrJEKVCAMzybYJsiqRaKuCv3vPJ2nRxryFi9ZvOWJq44Z7r7nqq9dccevLX3PkCSc84ajDDnmKBcxjkmGCosqqFuMESUdmUjVJUiVVm0QhSEwyzCSJYFg1qZEoGplCaLRVk6o2iUybm8ziN/b2cME4bVUQFFXQJmgzxt3cc5ePvP2v77jl5gdv/CzrPcwpn7ptMQ+SKbq0VUEi6SNUhawqqkToyBRdQiMMzCLrllUjqjbX/fX5HneCssXo3PbExNTGDTaustU+S3/y2U/+5NtXH/OqVy0/6sjDjz146f72Yy6JREsVtGmTGaGlSgSJIEgEiaRLqIqqTaJNInQkjUzRCNoEiWBcVQheMvQk03v9pf9ngSpUbYIxHmSSQhC0CQpjrL/f6pVW/vP1l537LveuYL1ux7z5kleffPA4hRZJR5AIVZhFMa2iUVShIxEGZpI9TCFrJFq2+t78Q45tT0y05szZtGGDTWNM2OqBK21174YVl7hlxYpbbzj2accdd9Bh8w7Y3zwSkwyTGaZFsIlghBZJlSkUVSGrko7EJEk1SSFTCI1EpqiCRKjGVW1VIhhjo61+aHp/9Mpl6xlRBeO0GWMj47QJgvFJ45tsXGf1yrW33nDD6pUrf/LZs3jIIxzz5kvOPP+kEQpJI6sKiawKHaEj9JEIHUEyrdAoBvrLpjfGr7/jK605c772Pz7amjOnjI2JMSZ03OXeu0ae/Pa1t9125823PO245yw/6qiDDttr0QKJebQYZ5hMME6bzDCZpEtikmFVppApZAqZto4gESRVUFSZwiSF4M5Jo8O2Srxk6FfMYN7z7+Nx3MlGxhhmjKD9kPEx45uMj9m0oaxfs2b92rV33nzzjV/5qg0bxHf08+vv+Mqp577wQIKikUl6JUIjERpBUSUSQSJ0hCo0EqEK/YWBXlm3QiZIqved+8LFfPaU57znt87ZsKWwiQk2e5i7v/luvPi8b49t2PDtyy678+blTzrmyKWHmNzXCMOMEKpgXBWMUJjLsC5FFSRVZpzMOJk2iUld2qrQKARtgvaE1SuVLba5zvQuvvNrT2KMRRQSk7QZ4daV7l618b577lm/du36NWvW3Hb7T6+6SnzH9A7+z3/+5nNfuFgjk3RJOoKkIxEamaK/IOkShC5FI1RhoFe2TegoGuMcoHrJYs+84pzfO/3SFResULU9wpfe+qv2ee4pF33onlWrvnP5Vw9YvnzpIQcvPdjofPP2MKwjkWgTbFK1SARJ1WKMYSYZoZBp69ImVIkgKBqTjE9qTxjfZM3tm9evWZNyvvikXzKjF+zrPtbQZpx7Jm215jYb123G9V+/Yv3aNbd+/4apO67nJ2Y09xlv+vjlb5tHm1AlVaiCpEsidEkESZVJ+igUjayj6BWEgf5yqIo+vvz5tU976ZJQPY6Pn3/S37zohe8//le4X18PXPnR3zxk76eedvxrXzu2YcP3r1p1x80LDz3isAOWG9lbS5UIEkFinMQ4I2TaZCZJTJLYSIv7SASJYJhxjUmKKh4SxVbjm2zaaHyTe1atvePmm+9bt+66yz5rRsteeO7d3ENi9f1iizW3W3Pb7QuWLr3p299ee9vt42Obbv/i+1lvNi/8s6v+7O3PaalGCFXRKPpLGqGRVInQSGRVInQpuoQuoSoG+si2KwxrFNWHXrb0HVNTtikEr3nu6HFTP3jB0JDpPXjjRV+48aL5R5/xq694RWvOnOuv+OatNyx8wlGHLVpmZFTaw1aZRGiMPWSMtIesMczYQ1p7GJ80Mqz9kLSHyUlbpSyKkWGbHrTV5IStSrHV5IT2hI3rNq9fs2bjunXr16y5Z9Wq0Xnz3fslM5q3cOHKh6y5XWzRnnDrDbeMjI6uue22b192WXti80+/cTk32QEv+cCKc884OumVKRSNIKkyRZekCh2JrCqqpEqqoo9QharoEgZ6ZduFRia4/i5bHXvie66+/G22y9z9oB2x4bvQY9cAACAASURBVNoPfuHaD/7H488+YPny9sTE2IYNSw85ZMHSJQuWGJlrZFQUW6UsirJFFFulLO9pZNi4auP9UrbmHqPz3bfO6Hwb1xkZNTlhZFR7Qnuz2KI9oT1RopTYsmV8bGz9mjWrV65cc9vt69es2Tw2ZvVnzObwY4/92kdvWbB06drbbhsfG2tPTNz07avHxzY9uHKlzf9oh+x70b33PXOBHkkVZApFI0i6ZIouiaRKuiTTKqpQFVUQqkI20CsngqxXe7Otbv/if/v0rW87+VBtjY+d/Vk77KffeOdPv9Gyz7GPO+KIufPnLTnkkKWHHLJo2bKlh8xr7SXtqTXHVrFFKSYn/MzwHDkrRWyxVXuzjSvlPd29avO8hXvdesPGeQvnrbltbN6i0U0bNm+8554opT0xMTkxMT42Nr5pU3ti86qVK9evWVN+fAur7ICbrr56dP78//3tqxcsXXLT1VdvWLnSluKBK+2gJS+9Zs3nFhF2QmgkVdGRCI2sI5F0JF1ClVShV6YY6JVDVRjWKKrDD/UzZz1+aPKmqZc9RZC45v1n2zltD1w5tmFZa86cay65ZO+FCw9YvhxHv+hFI6Ojo/Pn5z1zyvKe2hPGN42Nzh9Fa47xMSlrT5TWnNyeKOTYsmXjOiOjo+vXrBuZO/eOm29vzZkztnHjxnvumZyYaE9sbk9MTE5MjI9tuu+edWViM5n1ZjN00Mk3ffvq0fnzcfOn3sMW7jaTfbnfdi/8s6s++PbnZAqJUCVVaCSCTCHrFSS9ko6kS9YrVIlE6CgkAzPJtgmNIBG0OOtbE+/9tTl4x+FDt37sR2/77eXjtvqhnbf5Bx/56Q9++cXnvfdL73v/j2682j5L19x2+0FPPmzewoWj8+enPfdcsGRJ3nPPlHNZV1pz5oyP+ZmU8/jY5tiy5b51Y9i4bh1iy5ZNGzbMnT//zjVrRufPHx8bG980NjkxsWnjhvVr1rQnJmJLMTHBmB0wdcenWbDpDqw3iwVs4H6N1vmrNx+/vxZBpqiSRlIFoZF1CZIqSBpZI+uVyKqkKhpJH4lEkCkG+ssougSFeZz97L3eq0Ubn3jdE/ZbtOFxS+fZddd96a2/+mtv/cKJbzzxY2d/+MZLLrnxuyssWYb/eNiTsfSQg0dGR/dbtKg1Z05rr71KKRgfGxsZHR0fG2vNmTO+aVPac8+xDRtiy5ZSytrbbh+ZO/qj66+fO38+Vv9o5eaxMWObTEzYvI4x5vBEfmh2681if9axXuPAP/zGTcc9d/QVR7zhO6ec8ro3HfkkwrQSob8gqYKkj6QKHUkj61JUSZUIjSAb6C/bJhGEKlSjqjVTm5cODdnm2c+f95YT32P3fOu8l3zrPKd86rZX/7ff+fv/cfm33vd+seWnExO2lJ+uWOGBTdKe+ZCDR0bnLj3k4Jz33G/RwthS0p55fNMYxsc2jY+NxZYyPrYp5T3HxzbNW7ho/Zo17YmJzWNjVt/MOiYotD0KFrCQldyl8fTTv3bla58/Lxjm6zd8aB6jGtmuCJIqSBSyquiSNEJ/maJKhCobmEUuZIpGUFR7E6pVU1PLhoZwOLd/8V0eDR/9zUOw7IXnigkmbNyssZc5c8qGjZvGxsbHNsWWMjJ3dMHSpe2Jib1HRx8cG8t5T9uULaU9MfHgmrUP3nyL2MCerGSU9R4FC8w70lYbr+eHtsn/6bfef+XHf2N/iTHGVaMM2xWJ0BEkHcVuCVUidEkGemUUVVK1CVqMEKrglqmpy/+31bZ60KNn1Vf/RMceLGMvW927htuKueQH9znkwdtuN3++rSYm7JmtXaW6hb24X5e23ZGeaf78vRYu3LxunXtv44e2efzL3/e+y/7wcIKkKiTTyhpFRyJIBImwo4Kkv0ToKKrQCI1EkAgDvXKmkHVJJMYpFIZ59VN84Evr/Bw9xJ3c6YHH7/3U5zy4Zql7/5l1HljFQx7QT9vu2tvjjjNnzuJDDp6cmNhw2+3uvXnzvWOM0bbVAa+8ZtWlB9ghiSDryBQdSZX0kTSCpAp9ZI1CJnTJGkGoio4w0EcuqqLKqsICEkEQJNVFZ53lX8NPHrxxgyXHPuGktx2wfPnI3LmtOXPaExPfv+qqVTfcYO0K1vGQ3fJ0+8w3f/7chQsX/9Ky2LLl9hXXuvcG1vCQh1v9mWcNfebxL3/feZf94eGqIJGZJHk0BUmXIOtSyKZV9BcGppVDI1MIglGCogpaJMqPP+FfyXprP/+jSz+ff/Ovnv9fT5m3cK9NG8qhRxyxfs2a9WvWRCnXfuUrG264weZV3KljDx7SZbFqkX0WemADE3s96Zilhxyc9txz0bJlkxMTq1au/MlXvmLzSu42vZ989i0vGXoL+5988dfOPPWwBRSNTBAkVVKF2SVVaIRGMpOso5AN7K4cJI2gkBihTVBIqmv1OulDN3znC5f/9Bvv9HNz86feePOn3qhxuH0W2jObmLB5jA1MsJili59zQs57lrJlbMOGQ484Yv2ataPz5+W85+j8+fMWLcTGe9alPfPSQw5pT0ysve22W2+44Sdfv8IDt3GnnXDXp1//5E+/3txnvOkdf3fBMw+VyIRZJFXoI6lCR5BUoSNIqkK2o4pGIlRhoFdOqiCRVCNkNqmCpPq7916t26mnPfWNpz31WctWWv0Z/xpu8oBHWIzYUhYvW3brDTcsWLr0jptvGduwYdEvLTvosCcvPeTgjevWpZxbc/ZavXLlNZdcYu0VPGj3bPruhWc9/kI86w8v+6P3vfwgvZIqdEkaoVci9EqqQlYFSR9Fr9DIFI1EkAz0yolJimqSzFxVUAhaqi+d+y4Ps/g5b8+qf1h16a8v3WLt5/3buJu7773me/deY6sHb/Qzd9/h7m/6ebvm/a+45v3s89x3/a9v/JenaOmSVEWvpAodYRZB0ivrI3TJqmJgWhmJQmiM0qYQGm08cKWHOesjf4Ygc82az7319EtXXPAqj00PXPmOw4fewS//3t/+6V+9ZrkuWVX0SoRGIvQR+igaRa/Qq5A1EmGgV0aQNYZpEaogqf7+Tj2OPNBWoXHh+Sd95FeP/dDLlv7H488+86JzjjzQKOOs5+8/v/ZDL1vqMeC6v37tCX/92qGDTr7k9k8drUtWFV0SoZEIj75MMTCTHKqiSmQSbUKVVLesuN3D/Po7vhIkEkHwg0knvnTJf5+aQmGSNm3msfilS46fmnrJ0JDHhqk7Pn3S0KfnPuNNH7rugqP3MIPQX5D0SmYROkKj6AgDfeSgqAqJYVVbI6tOPPngj/6mf3HauS+0XVG9Zti1rOEAhmkxTIsWLUa4Zmrqv77i/T/57Fs8Nmz67oUnpwv55T/5p3969S9L+kiEaYVdESQSoUsY6C8jNMZYpAodhXFdRlXBMAdxoOpwPnKXeYu8ctgwLTJJlUh8/LI//Mzfn3L+C+Z7DLnu3F8ZOlfr97+4+o0vXpj0SoRpFR1BIlPMJBG6hIGZ5KIRDNNiUhUkCpNccPqlHuaEoSHbvOumqT9+ip8Z4c37u49hVSKRSCTW8OXvlPvuuefX3vqFb533Eo8t7b/8z4v+0oLzV9/7/P09XGgEyUwSmaK/0AgdRUcY6C8jEQSjtBhXJRLBOCsuOEsfjz/jKXrsp8s3eMHQk/ihAetPP2DoT57xpq9ef8EiVWiERpBIZpIpdkIiSISBPrJtEoURVdERtLHPcg/cpVt76sfDphXse8QbHrzxIgMPs+m7Fz5r6MKzvjXxumfvpVvoUlRB1ij6Cx2JUBW9EmGgVw4SmcJcxgkdhcADV9pmryed+uHvX3zrDTZt2NhmWH8recLQ46Tl0jPFdwx0e++vzbnoGW/6+vUXzNNH6JV0FF2CROiVKQZml0OVGaHFgzqCSTbqOPt/Xpyy5Ue6ZcXorTxNH7fye2+7/GtT955y3B/f/c13G+hn03cvPGbowr/8v1PPXuxnEkGQVEGYXSIM7LpcVIX9NEKVVIV3nvJh242PGR+zdF9z5+fVPE2v4G+uHPvme07c98g3b/ruhQZm9Pv/YeglH1hx9hlHZ0JH2FGhS2gUAzskozDMPIqOxCST3Pix37XN45511sZ71i1YstC+nvRE3/nHzSc+ey/d/vZBf/rc0ae85q83ffdCAzvgC2ce8+3Lzvj6ig+M0tYRBv41ZNu0GCEzTiGT+eDn15YtW2y3eNmy1StXLli6sL2/FvMW7jXGqI7vMLK3T65386feaOfsy/0eqzZc+8Gjhr75j1M37qdR7KikCo1EGNgJObPpQQv2lkm0ySQKH3rZE7nfNid96IbXnfbUyz+/ds1tqw568rL2sMOfaD2jOv7u82sPPWLJmQcN2Unzjz5lw7Uf9Jh207OH9vrs1OZDNApBUiVdgqSP0JEpqjAwk1yYnDCyt0SQKSTW2up+273utKfixJcuueDd39x4z7KRucazJXv7F3/P96+66kMvO9/Oe/4pp3z62g96rGu/fGjob9tTTxkWGolkFqG/TCERBqaV4yFpT3NJtClkEhd/5BYPkwgSr3n7c/7uvVcvP+qoO2++eeRNRx5OkPj0R2753lVX8T0773WnHvbp1x/OTR7zXtsaeu9Ppo471HRCf2FaiTDQX0bKRlVtjcynzzjTdm/43BqEail/dNax19/pvb921KvfNBW0afGDFSvKho12yWHYZ6EHDGx11uOHfv+L97z6xQs9QugVZpIpOpKBXjmKuXsbYZJQFTbhgStt9+qXLmnrSBx5oM9OTS1lIy3a3LJihbLFLhnFAysMbPeX/3nRmg+sOP2Moz1M6CMRplV0hIE+ctliwbDMOG2CFp/9nr6CIJFYwGpGOIBJyo+/ap8j2PcDd9x35kFDdtgxb75kxFYPGniYL5x5zPimr5999gkI0wr9FbJGEAb6y3lPCygEkyQSHzjtzbY7+eKbQ5U0gqRqP+TWPQwz11brPXAD95950JCd8a3zT7rPQB9XnPO8eYtu+KPTnuoRgkToVci6hIGZ5OFhI6q2jk3fvdB2J596WNFIuizawz/9b62nONBWe7DeTPbgId1efN63h3nxO68w0M+lbzhi0bINr33+PA+TVGFaRX/FQK88lxZBm0LiO/d7mD2SRlIVEqHxlKe46sqxZz539HHPesu917zXTB7S64lfPOtYXHXJJQamcf4L5i/9ydRxh+qRVKEKfRQDs8vDJNoEmcRfnfFh273hc3fZLlP0mssznzt60/f8t0+cd+ZB77UT9r5j6gf4nc+sWrB06d0/NjCdsx4/9NEHpg7f288EidCRCI2iv2KgjzxXNU6brLrxY2+23fNfusQ2maIjdCzgmU93+ZfW8UR+aIc8/o6pHx/IJyctPWTZ3d98t4EZnbLP0Genpg7UCH0UAzstj5AIgsydtmprHIigRSFIZFXRZYTjXrzw1nM+cMU5zzObl3xgxWVnHJ34yP3GNznnGUMGdsDLh4b+YWpqnj5Cf2FgFnmUSdqqxEXvvMJ2r7/0W5O6BJnQCI3EPP7o7BPGNlyy4oJXmcZvfexH5/328gWM8dK3XX7IEUdcfNIvGdhhzz34N6+7/VNJH0Wv0AgD08qZNm0SiSvOOdt2x71yWVIVjaQq+pvL+84/6S9+adkXzjzGdvOPPuN9V37g8L3NI/G1B52y+HgPXMmCb1lvYGdM3fHpP//gG08+4+gDNcLAbsnDbCQYYdxW12ksbpHIhEam6JI1isY7zjj6dWdMvef0S1dc8CpsuPaDp+zzQT0OeKXV/8x6AzvpC2ce84Uz973o3vuOXGCnZIqBXhltVeJzV47Z7g2f+16osipIqtBIJApZFRrBUs47/6Q4/6SrrnPuS19m7ec1Dj/hnPP+6OwT5vH0oQMM7KL7R+YKOyQMzCQHocpc/PY/tt3xL11im8KwRtERJI1QFY0gGOVlv+zENZ9r01KNM84IYau7DOyq17Z+ZcXUP2WNohEk/RUDfeQ2bZJq03cv1GghNCZJBG1aqkRoJEIfQVJlgkRSZZKB3XTdH7/t8vPec6KHCY0gGdghua1q8c8P+hcnfeifbFNUhaQKQpV0BEVHIetIqraBR9m3znvJP//B1FGLFVVohI7QKAb6y+OqFp953xW2e8EpTw2KqjBCqBKFTOgoTJLMJFShsdHAo+D3/8MB10ytTmQyhdAIfYSBXnmMxDBXnPsujT1QdClkMkUVJI1J2ozoI3SMkzXuecjAo+GuD3zw2j8642gUskaoQqMYmFZGi9WI79jm5Itv8jDxkLKHrRJtJjWSKiiEjiBTdEmEKlQrrzfwqPjCmcecfMbUElXRSISBHZKDxN99+nbbPfsVh9km035Ij0IiESQdoaNoBIkgVEGisOa22w08St5w7Fu/ePV5HiYIii5hoI88TObv/vw9tktZ2WJ4WCHtYXJSDEuqrAqNpJEoGkmjkAmKXt+/6ioDj5J7r3nv9Xedd+T+fib0Co3w/7cHN0CW5WV9x79zn+d/Tp8ee3CmZhdkdC3WXSTlCyAixRYghgDFshBLoQAXCEsK3YiwuFBYMVigJEEshOBLBV8K0ezKawy+QaFsXCW1VDAoJLFAEiEQFwls9Whf95459/97bud/+ty53X379sxQqY2y25/PkWXucBbO/dkvs+Ppr//DEObEDBtRKBMVRdCLGT4i6AUYFyEICHoBRu9jt/1H7hE1dNz33HTFN96x/ecc+fI58Nu3n+O8a1/4OHOKEDg2YhAgcHYFvQ4CjH2COUHAhF5AB+vgwOdu455w2ZNv/cJvXm/HuM/51HtvP/e0x69xQDAXHFnBBb/+up/kPImKnjLmxIzDdDOqEQEBxlyA0QvmAjrmAoLBXdwTlL9pxO3b248/9u3wUe5Lfuq7midtb9fMiSOXxKfwl7/3k+x4+uv/EJiMqRvMCWHOQFCB6AmcOYMODAyCXQEBBoKgZyB6Z7mnHDt5Cvhq+Mj2f3nuM3/6U+95BfclP/+mD9/8w48GgrlgLjiymv/JZ4COHde+8HESkaGhUMacgUPQC2EVezkEGHMBAaIXEBDsEnzyM9xDNk6dYkcF73r3y3/hN57zb7/3DPcZ/+Hma170w9vrzAXLxJFl/muv/UX2iIwlIlOYU4QQc0YvZvgIG7EgMHYJptBBDR09gTH34d/5Y+4ZZ676Bs4L+IHveeBDPrd90xXHuM943Sve89o3PIP9giOH8o/9yk+y47EvfzdgCXeqhhAhQkRmIZgT+zgEdFBDQNCbQA0BohfM3f7u93DPuPrhD2e/x3wd79vevvbY18AXuA/40E8/c/KG7QqCZeLICg6fYcfTfuAZlpiM8Q3Wj/PXd2EJZSRiho04KOgJnN4EHETPYAoT6Ngn4Esf+gD3jG+65hoOuD/csf1X111z8+aH38R9wDvf9snnveAhnBf0xJHVnPPcicxkTNUQM9ZPMNkiMoOYwQgHZczZK2YwwiFgAgYdBHQzbMQgZjAiZjACPs494+qHOzuCfdbh9+944/d//7d89JdeyL3dr95w7fNe8Gl2BEcuwtnxqB/8NQmJwp3CHEt0LZEJYc4FxAxGVPQCgrnJDBsRM4rplF7FPefq4wQYc8E+r//FG9573VN/7h/fn3u5z3x+yv0rDgqOLHN2POn5z5u2rG9gjkQIc+qGyRaDEHXFkgCDEOYUATUETGbUIwYOASGUCbG1yT1nndWCXsB3P/3yh/719ou++hj3ar/9C398w0seyXniyKGc85RZUGZgiWlLYY7YFTNsxJIOajDoWuw4CyGKEJH5oa85xiW76X2bb772u+DjXJIHsIdBsMI33Y/3bW9f23wX527nXurdr371DS95HzvEXHBkBQcue+wrJ1vjk/ffiIwlIhPCE12LO1NQxpyYcVCAOSGsImZohNGLGTZioIwnzOla4BHwUS7N055y8snbH7v22DEuwWWPfX6AQXARp+GO9g/+6XPe/Il3vIx7pbPvZ7/gyGoOXPvCGyRVDYU7ISIjZyHEQohBzKhHBNgInJjRtdTHcfDESpFhbYNzXJpHOL23fGn7xsuOcTFP+L7ncLiAAKMncPjVt9/0luuue+tzr+Le6At3c/o4g2AuOLLMAUsJcGdBoqInUUQmhDkhIhPCnCKYsxHFtGWSsIqqoogZNqLwROEJS3Dudi7NP/v3v8WOq07zli9t33jZMS7ou298GKsEGMtE78brv+Gbr9m++cpj3Ot8/I/OPuEpJ9kjOLKCP/gZb1jf2AC6lvUNzAkRmRBFZMyxRNeyvkEhoUxhziBmDCS2NqkeQA0d2AinV1UM3Ll03/09D+S8q07zzJ/5yLtf+h0c7kp6AUYvIMDYJTCWPeZBvGd7+xnHroTPcC/yyY985AlPeTIQHLkQf/RTn9q17XpKXcv6BoVE1XBQ1+KJIoQnbEQhCGHOYDJmssH6cQpnzqGCgK7lUq09vmafF7/kke9+6YPhU6z2YNGrOVTQCzDmRO+BcPv2p7/nmps3P/wm7i3Gm2fZIziymksyKXIOEcKcQWQsYYmFEJ6IDA3KVBUDc0KY4447401OHmc6hYqaXtAzuPMvznFpbvqN3xA4OIie4Nb48+vtGKs86gdfFewTzAkMxAoOolfBb97xxh//sSd88F9ex71C17bBMnFkmXNe3VCEcMcdiSIylliYbBEiMubEDB9RhBh0LeZ05yjMiRmMKESvgj+57TYuzdOecpLzHETv/iPe+Ontm688xgEvftPzAgw6cObEXNALloldBj/x2qc+8sn5dY9NfOW7+tseDgRHLsJDipxDUkbCHQlLFBJ7mdO1SEiYKMScOQNLuBiEoKKoYTJDI/7kttu4FJc9nVUcvvVB/NSntl/54GPsd1VFQAfOnNMTc8Eledpj/B9028+vDWZ8JXv0Ux8GiDkHcWQFj5zlrpzHm+O62XBnYImuJYQlFtyJTGRoCIFjIxbqhskYcwy6Fk8EGL16xNbdbH74d7kEL7/1FnYInDkH0fuOq3nLl7ZvvOwY5z3zZz7CDqcXEMwFGMuCOWOFqyretx3XbjyJv/19vmJd8XXsJY6s5pLW3UPq2ja0AURmr8jQsFeIrsWcnlOEMMcS6xtUDQEhPFEYc3UDfIpL8KQnbjiIXc4uwYNOc2tsX3/6Ws6+H46/+CWPDHoGAR09oxfMBYhlAcYKXw0fHP/eS57z5k+842V8Bbrssa8MVogZR5b4ZGtrfWPDUgKUKSwxsESIIjKWGFhCQmPc8UQIZTwRoqga6oYFgYHRq0dckq96otFzEMsCjF494oOb7/s/M+4/wsAgmHMQBD2xLMCYC+aMZTX84ttv+pXrrnvrc6/iK80//9XXi10xo7ARRw7yyXgckrmHFKJrscSChDkSllhwZzJm4lQNRQhPLIkMDUWA0bvrLi7FTe96JyDmBM4KgoAzI4xeMGcQ4CB6UwiomQtWC3rGshuu/4Zvvmb75iuP8ZXja5/06tNnmE4xZ6+YceQgn2yNu7bdOHnS3Lv2XN2ssV8IS0TGnEHVUHQtIYrIyPFEZPZSpqoQVPQ+ettnuQSPf8rJAGPOQeDsCgiIGYxYyZjr6AV0zIlegEGwLMDoBbu+7UHcGtvX28Pg43wFOP7qd71GmZXMObLEx2c3J1tbPPCBddN0bau8pkxkLOFOIWGZwoSEO0XVsLVJ11I3SJgYmBMiKooQMcNGTKGCP3zPe7ior3qisY/oCZxd4uIMDAJETxAzYoTYZSwLVjgz4n3bH3vdK97zoZ9+Jn+/vfHTf1s3dC0LIQpzCmWOLPHIeTIeT8bj02fOaDzuWtWNS1hiIUQRjjvhRKZuqBsiE04RGXMGky3WTyNRhMDxEQGfuu02LuaHbr2FQ4h96hGDAGM1h6AnmMBkjN2PDXYFGBcSzFXw6jc8489u2r7piivgf/P30UN/7q8+dvJyQgxCFJEpImOJIwe5pTTZGk/bFnD3kDx5ZMKRWAixpG4IIVFImBhIDCSKEKoQcPb9XMyjr7s86AU9Y4WgV9ETOAQ9Y4UaOnqTu+la1jeIEUZP4BAsM3rBsoCrv45b43PvfMMf/daPfCd/n1zz0re/+E3PthExY6/ISETGEhLuHFni9VozbVtg2rZA3awBdYOEOwNzQkjsVTVMxtCyvkHXEo4ELYXoRUaZwpxLcezK6zkv6Bn7BLucZQHGXIAxZ/Q84U6IrqLmQoJlYp8bX/m4Z71i+0ee8pq//L0f5+/a1z7p1a+69TWnT1MIbASOOSEWQhSWkDiyxC15ZBVbm5snTp2qGwaRGUxb6jVWcmcyZn2DQWQiY4mYsaRruahX/fot7CEwMAh6xq6AGgKMfQKM1cypGsyZ0quZcy5J0BNz9x/xtg+85pNfeM0PPerZfO6d/F14xIve+qJ/fcPp0yw4iDlzQgzMKSJz5CCvm2aSx5HztG27tlXe8ERhiWlLcfeW1jdcwjJLzFFmMsacojuHO0WIwhIhzCn+x5+Ki3nko/jrKVQEdPQCjH2CZQJnVzAX7DKoR9BgI7oZNqKDml4HNRcilgkqeg95AB/87Dv+62fe8fJ/9NztT9/K/xfHH3bjS3/2Zx/6GHeWiTlPKLNgiUFkjizxrm2Brm0lTcbj0OV1Q+HORAwkihDmFJYo3BlMxphjicgMJltExhJFiBC//KP/ggs6duX1gDJUDAIExlwwJwjowJkTPWeXwNnH6NUQIzqooYOansDpiX0cRC/YFYKKAGPuWx/E7//FLZ/5m1veeOObP/GOl3HPOPHtL3n+j73q0dddvj6iCJaJZeZExh2JgSWOLPHIsuTTtgW6tlVWyAEJd7qWkCK7JcwpQlhCwp3CE11L3TBtCVG4MxlTWGLhSx/6KS7o1e+6JdgVYPQCjGWi5+D0RE/g7COWGRi9DhwCajAQK4hdQS+YMwgwekHvivvxb95+U/f2m377nZ/9pRe8gHO38//s2JXXP+H7nvOk5z/1iqup2RVckhCWiEzhAzqhKwAADetJREFUjsSRg1zKVdN07bmQzH3atsdPbLDDnBBFCEusZI45VUPXUoSQmLZUDRW9yMi5qKsfTnBJnJ5YQfQcnH2CuYCauW5GESMKA4MAY59gn4DJFhunWQj2WYdnPevrn/GsPzgL73/bJ3/ttf9y+9O38uU48e0veeh3Pu6hj3vctz3h8vXjOMuCZWKfEMocuUQOTMZb6yc2Imdz79pWeUNiYE7krLxmTjiFRMU+IYq6YWsTT0RGGXMiQ8Ol8G/8JyE6J0QhVgvmYkahEQJnmeg5KxiIXgUaMbmbDjhOBTUEc8Yygw66GZMx3WnWuYjT8LwXPOR5L7hlwi133c2f3TH+73fc8T//9E+/dOfntz5/J5+/E87CFrRw1fGHPfLaF77wO5/5yDMPoIPJ3YTwxEHBMnEoc0IsuCNxZIkDIbk754WIzIKl1LXy5BLuuBMZS0i4M4hMvUYITxwU4sJe8663saNrifthYPQCHIJDBTi9AGMfsYKDmKthmphssQXrxymcXrBC0OtaJmPGf8OJ+2EQrBD0grkazhznzBM3nvDEJ8OTAdEL5oxlISJDw8BYTaxmjjJFiMgU7hw5jLsnoGvPAdO2ZUcIc0IUdbPWteeU3ZzCnRCWGFhCWeAh6oauZeMUky+e87QWIjLFXXdyYVd9KzFjIDAwCHoCZ5fY5fTEl0HgIHoGVUWXCDG5G45TwzrLgrkATyjTtXT3owbjkgRzYpdBgEGAsStmDJSpKopgztgl9okZNmLBE8oskThykLOja1tLKXIGlAUeQqIwp5iMz3laC+EbDCJTRGbQtZijrMgeOcNa17K+gcQnP/JJDveAf/ijgI2IGcV0ilcYGHMCpyfmbETMWBLMGfsEyxwEAQ7rG4ToWiZ3Ew02YsEg2EeZYrxJ9wCMnrHLmAswVnN6Yi7YJ7iQALFCzChixiDEEokjh3EgpGnbrm9sjDc3u7bdoCcRmSJE3axNtsawBki4E5kQA08OhKgaPPlkzGAypm6oGj7ygQ9wuJvf8q/YEaKoKgQGxoXYCGMu2CeYM3YFcwKnZxBgI6xCmRDjTTjF+ginF2AQ7LN+gshMp9QVzj7BRTiXJDILAmdZzLARg5hxAZaIzJEL8KppJuMt1pqubaummbYtILGgrLrxqmmUKcxxZxBi0LUUVcNka7xxamMyHm+c2ujac1ubaydO8Ynf+V0Od8XVFDFjrw5qekZP4OAgejHDRgyCQwVzAYIQUWHsMhC9uqFricxkTDRQYewSu06cpGuZbFGdxthl7DIIVhArBBgEGD0bYYnIrBQzBjHjApQ5KDJHDnJPDkj5rjvvPHPVVZPxOCTwyIQwp24cqBvvWnnyEEWIvbpWdeOR2drcPH1mQzkDkXPXetc6f3sbh/j6p74WiBmDyBQ1dNCBg0GwTzAXYMwFc8ZqMWNBzBk4CGxE3VCE2NqEU1QVNTiIOaNXNVhissXkbvw4hXMRYjWDoBf0AgJixkLMsBGi5yCwETFjEKIwJ8SCOXtFRqJwJzJHDnJgfePEZLw13jwLRM5d20ZeC9G11A2eUMYTIe/ac+ZrEu5IFCGUFRJ41zI+exa+3lMCLCUgBMw4xE0/+yr2CDGoIUBgzAW7QlhFEfSMXcGcsU+IlYyewEbUDSEiM9miS8QGjCgCKgh6nvBE1zJt0XGMXcYucSHBXHARMcNGFGKfEIMQe4VQpggxcEfiyGFcWZYcCOXx5iY7QhTKMnfAE4U5XdvWzVpk3BkoM21bemshxpubXcvA3OvGuaAHPoiYMVBGYmD0BEHPWEHg7CN6DmIf0VMmKgyCOWNXzCjMqRqmLeNNuhYux0YsMWd9gxAxI0YMHIKLC/YxCJZF5jAx48slUUgUIY4scXZUTWOetjY3T585ww5lihALnqibhh0SC5LY0bXngMn4HDs8uSe+8L++yCEe/Iw3xIxBiIUAAwMH0TMIMFYLdgVzAgdBDWJXQIDRC+YcGBEzirohRNfStdQN5niCir3qhq4lBBUBBgJnWXARQS/oGQhCLIkZhY1YCDFQpvCEMp5QxhNFiCIyEkcuzIHIqpvGkk/G45AiZ2WWhCjqZq1rz9XNGjssEaJwd6Br241TpyZbW+Yeom7oWv74Ax/gEC9+48s5IGYwoqjAQBAzuhEOwZwyVUUhes6FdBCgTCEwMJaJuRBF3bBxivEmky0s4Q4nqCoKZcwJUXQtVYVDMOfMBRcSrBD0lJEoKghhziBmDEIsUaZQplAmxII7EpE5chgHNk6dGm9usqNrW3aEKJRFz7v2XN2ssUMZc4rImDPoWgEbJ09aSuwwp/jPv/O7HOL0GVaKGYwweg4BMYMRhdPzRBHschA9Y5foBQSEMGcQYPSCniBm7GXOiVNEpohMZHonCFGEKEJEZq+AAGOFAIPgUKIXM5aEKMw5SJkiRGHOIMReEgshjhzkgCW35IC7T7a2urblEObUzVqIIoQ5ReQcOXdtC5w4dapqmsl4rCxLXjfwudtY5REvemuIwpwQS6ZTqHB6NmI6BcdGiJ4yVcUgwECsFtDRi8wg6AUYF1JVbJxi2iIRGYnJFl1L3SBnIWYwojDmgrlgn2AFsUJkLBGi8EQRYokyRYhBiCWRkVgIcWQlB6Zt27XtBlRNM23badt2rYBp21ZNwx6eCKGsrnVPhBh0bQt4SpZS3fi0dXaYA3exyg0/cYM5IUIMQuwVMxgRM2xEVREzYoaNWAgwdgUYBHMGwVzMkLDEEoEzF2KJJwoT4UhMxnQtxfoJlCkssRB8GcShQuylTOGJJZ5QZhAZS+wVmYXIhDhyGJ+Mt9xTSO4e6gEhmbukCjw5EDnTrClTePKulSc3p2spQqqbhh0hipAie9dyiPrEKUIUynhCmSIyA2V6TggcG2EjplNwihCDoBfMBbuCXkDMsBFFZGIGI5xe0BMrhMApPDGwxGTMZExRN1QNgxBWcQECpyd6zmoxowgxiAwNIcwplPHEgjKDyAwiM7BEZBYiM5Ao3DmyxMebZzdOnQQspcnW2JJbSuY+bdtp265vbADKYkeIwhxllDFHWSHVTcN5XXuO89ZPsNI1L30bq1gixECZQQgcG1F0LZ4onH0CBM6csSuEVSzEDEYsxAwbsZcyC8qEWOjac+ZrkzGWKCJDQxEzfMRBoid2iV0x46DIhDAnMpYIUZijzEoS7ixEppCIzILEQOLIEgembbu+cQIIZXbUjU/GAkLy5OxQlic3p/DkIYqQlLOn1LXt+sZG5GwpAebO4Z7/Y89mhzKFMkVkIrOXMoUnQljFoGvpWnQ/CmcfscsgQKBMVVFIhDAnZtiIImbYiJgRolBmEKLwRIgiMlVDETl7WgMmW1jCHWXMsRHiy2YjYsZCCGUGISQKSxQhCnMWQhSWKCQKdySWhBhExhJHDvKNUyenbQtMtsbKUlbkHKJumsg5cu7A3NmhLHNnh7JCbu6eknKOnNkROXdtaymBR2aVUdWgzEKIvZQJUZhTKOOJmGGOMkVkYoaNEDg90YsZhY0QuzwRMyIzCNFzBjFjSYiBMkVkBu5YSuZUDcW0hYYKQuAUNuKgmLHERsSMhRAXEJnCEoMQe0WmcEdCYiEyRYhCIjJFZI4c5HXThDQZb1ly8xTKKrLMPaSubWt6kkwydyBEEZKyA+aunC0lwFKKnDnv0//tsxxwzUtvDWHOEolCmRCRsUSIwhxlzCk8UXTnCIFjI4qAmFGEKAKqCrHLRoQwRxlPFCHMKWxEzFgIMQgxsERkQphj7paoG8wZhBiYEzMKG1HEDBsRM0IMzBnEjIUQynhiQULCnYNC7BWZgcRekSlCFBJHLswjy9y3NjerplnfSJEV0rRtLSUgpK5t11MCImcg5MoC6matazVtW8BTAkKKnNkROcPaf3rvezngWa94dmQKc0LsFWIgYYnBtMUSIcwZuKNMYRViH2WKquKiQpgTMw6KjCUurG7oWiKzYE4RMwYxY68QhTkLIQbKeEKZEJEZRGbgTmQKSwwisyCxV2SKEIXEIERhzpGDHAipbppp265vnLDkkbMkdnRtWzdN5Bw5u3vkLHcgJHZ0bRsS50mqm8YkIMQn3vHvOMASgxCRsYQ505bI7BWZhcjIWaKMOYMQhTKDmDGwEcV0yiDEwBNFiMKcvSKzxBJFiCXuFJFZYs4ghDILnghhToiBMgNlPBGiiExhzkCicCcylojMSpHZS2IQmYUQR5a4lCPnumkmW+Np21pyIHIGzD1ypmkkhcSOkMyd80IClDP7WUrKwEfZ71ue+/ORcScyg8jsNW0pIuNOITEwMQhhziDEgjIhish4wpwFZSTMWVDGE4MQB0XmoiwRmaJrqRsKTyhzGGUOClGYMwgxCLFgCQl3IrOXRBGZQQhzFiJThBiEOHKQn/3iF0+cOgXUzZqUu3MtOyLnkICubc2dHZIAc+c8c+/a1lPigBAHfe/LfrA7R1E3rCQxkFiITAd1gznmFJ5QRpmFEEVkCmXMKWJGMW2JDGvspcxenthLwp29qoaQIjt7WCIyRWQiE8KcvUIsmFMosxBiQZnISISwRBHCnCIyFxWiCFFIDEIUynjiyEp+1513nrz8csDcgci5a9uQzF05W0pd29ZNo5wlRc7uHhI7PLmlRNsCVdNEzpEzTRM5h/tW27JstH4Cd7pzWGLgzkqRWRIZc0JYYiGEOSH2ChGiMGdJCHMOUmaJxMCdIjIHRWbQtVjiwkKYsyQylgixV2QKd0IU5hSRuRQSRWQGyhTKeEKZI0v+Lz+NzwyrFT+oAAAAAElFTkSuQmCC\">"
      ],
      "text/plain": [
       "256×256 reinterpret(reshape, RGB{Float32}, ::Array{Float32, 3}) with eltype RGB{Float32}:\n",
       " RGB{Float32}(0.187881,0.380252,0.600784)   …  RGB{Float32}(-1.62207,-2.03571,-1.80444)\n",
       " RGB{Float32}(0.358384,0.607843,0.827364)      RGB{Float32}(-1.62207,-2.03571,-1.80444)\n",
       " RGB{Float32}(0.3715,0.62535,0.844793)         RGB{Float32}(-1.62207,-2.03571,-1.80444)\n",
       " RGB{Float32}(0.397731,0.660364,0.879651)      RGB{Float32}(-1.62207,-2.03571,-1.80444)\n",
       " RGB{Float32}(0.437078,0.712885,0.931939)      RGB{Float32}(-1.62207,-2.03571,-1.80444)\n",
       " RGB{Float32}(0.463309,0.747899,0.966797)   …  RGB{Float32}(-1.62207,-2.03571,-1.80444)\n",
       " RGB{Float32}(0.48954,0.782913,1.00166)        RGB{Float32}(-1.62207,-2.03571,-1.80444)\n",
       " RGB{Float32}(0.502656,0.80042,1.01908)        RGB{Float32}(-1.62207,-2.03571,-1.80444)\n",
       " RGB{Float32}(0.528887,0.835434,1.05394)       RGB{Float32}(-1.62207,-2.03571,-1.80444)\n",
       " RGB{Float32}(0.542003,0.852941,1.07137)       RGB{Float32}(-1.62207,-2.03571,-1.80444)\n",
       " ⋮                                          ⋱  ⋮\n",
       " RGB{Float32}(0.109187,0.27521,0.496209)       RGB{Float32}(-1.62207,-2.03571,-1.80444)\n",
       " RGB{Float32}(0.109187,0.27521,0.496209)       RGB{Float32}(-1.62207,-2.03571,-1.80444)\n",
       " RGB{Float32}(0.16165,0.345238,0.565926)       RGB{Float32}(-1.62207,-2.03571,-1.80444)\n",
       " RGB{Float32}(0.187881,0.380252,0.600784)   …  RGB{Float32}(-1.62207,-2.03571,-1.80444)\n",
       " RGB{Float32}(0.174766,0.362745,0.583355)      RGB{Float32}(-1.62207,-2.03571,-1.80444)\n",
       " RGB{Float32}(0.174766,0.362745,0.583355)      RGB{Float32}(-1.62207,-2.03571,-1.80444)\n",
       " RGB{Float32}(0.16165,0.345238,0.565926)       RGB{Float32}(-1.62207,-2.03571,-1.80444)\n",
       " RGB{Float32}(0.0960719,0.257703,0.47878)      RGB{Float32}(-1.62207,-2.03571,-1.80444)\n",
       " RGB{Float32}(0.0173782,0.152661,0.374205)  …  RGB{Float32}(-1.62207,-2.03571,-1.80444)"
      ]
     },
     "metadata": {},
     "output_type": "display_data"
    }
   ],
   "source": [
    "# input_perturbed[100:105,100:105,1:3,1] .= -0.5\n",
    "input_perturbed[100:101,100:101,1:3,1] .= -0.5\n",
    "colorview(RGB, permutedims(input_perturbed[:, :, :, 1], [3,1,2]))"
   ]
  },
  {
   "cell_type": "code",
   "execution_count": 27,
   "metadata": {},
   "outputs": [
    {
     "name": "stdout",
     "output_type": "stream",
     "text": [
      "Set(Any[\"BatchNormalization\", \"Flatten\", \"Relu\", \"ConvTranspose\", \"Conv\", \"AveragePool\", \"Add\"])\n",
      "size(bound.generators): (256, 256, 3, 1)\n",
      "prop time:0.017662783\n",
      "comp time:0.007722075\n",
      "saving visualized bound: center_2x2/1_conv_0.png\n",
      "bound time:0.002177283\n",
      "prop time:0.000953869\n",
      "comp time:0.000416638\n",
      "saving visualized bound: center_2x2/2_batchnorm_0.png\n",
      "bound time:0.001680553\n",
      "before order: "
     ]
    },
    {
     "name": "stdout",
     "output_type": "stream",
     "text": [
      "9.5367431640625e-7\n",
      "non0 ele cnt: 912\n",
      "overapproximate time: "
     ]
    },
    {
     "name": "stdout",
     "output_type": "stream",
     "text": [
      "0.308604235\n",
      "after order: 0.00010395050048828125\n",
      "before size: (128, 128, 64, 1)\n",
      "after size: (128, 128, 64, 109)\n",
      "prop time:0.309069145\n",
      "comp time:0.001084161\n",
      "saving visualized bound: center_2x2/3_batchnorm_0_relu.png\n"
     ]
    },
    {
     "name": "stdout",
     "output_type": "stream",
     "text": [
      "bound time:0.127925149\n",
      "prop time:"
     ]
    },
    {
     "name": "stdout",
     "output_type": "stream",
     "text": [
      "0.094087442\n",
      "comp time:0.000669413\n",
      "saving visualized bound: center_2x2/4_averagepool_0.png\n",
      "bound time:0.031818827\n",
      "size(bound.generators): (64, 64, 64, 109)\n"
     ]
    },
    {
     "name": "stdout",
     "output_type": "stream",
     "text": [
      "prop time:0.594764561\n",
      "comp time:0.003114962\n",
      "saving visualized bound: center_2x2/5_conv_1.png\n",
      "bound time:0.032245886\n",
      "prop time:"
     ]
    },
    {
     "name": "stdout",
     "output_type": "stream",
     "text": [
      "0.029030291\n",
      "comp time:0.000138613\n",
      "saving visualized bound: center_2x2/6_batchnorm_1.png\n",
      "bound time:0.031922539\n",
      "before order: 0.000415802001953125\n"
     ]
    },
    {
     "name": "stdout",
     "output_type": "stream",
     "text": [
      "non0 ele cnt: 1600\n",
      "overapproximate time: 0.109539692\n",
      "after order: 0.0005340576171875\n",
      "before size: (64, 64, 64, 109)\n",
      "after size: (64, 64, 64, 140)\n",
      "prop time:0.109883049\n",
      "comp time:0.000267835\n",
      "saving visualized bound: center_2x2/7_batchnorm_1_relu.png\n",
      "bound time:0.041393958\n"
     ]
    },
    {
     "name": "stdout",
     "output_type": "stream",
     "text": [
      "size(bound.generators): (64, 64, 64, 140)\n"
     ]
    },
    {
     "name": "stdout",
     "output_type": "stream",
     "text": [
      "prop time:0.827497288\n",
      "comp time:0.003682664\n",
      "saving visualized bound: center_2x2/8_conv_2.png\n",
      "bound time:0.0425284\n",
      "prop time:"
     ]
    },
    {
     "name": "stdout",
     "output_type": "stream",
     "text": [
      "0.040938589\n",
      "comp time:0.000138272\n",
      "saving visualized bound: center_2x2/9_batchnorm_2.png\n",
      "bound time:0.041279346\n",
      "add_0"
     ]
    },
    {
     "name": "stdout",
     "output_type": "stream",
     "text": [
      "\n",
      "+\n",
      "saving visualized bound: center_2x2/10_add_0.png\n",
      "bound time:0.072521371\n",
      "before order: 0.000949859619140625\n"
     ]
    },
    {
     "name": "stdout",
     "output_type": "stream",
     "text": [
      "non0 ele cnt: 3136\n",
      "overapproximate time: "
     ]
    },
    {
     "name": "stdout",
     "output_type": "stream",
     "text": [
      "0.484080117\n",
      "after order: 0.001422882080078125\n",
      "before size: (64, 64, 64, 249)\n",
      "after size: (64, 64, 64, 373)\n",
      "prop time:0.484481855\n",
      "comp time:0.000129753\n",
      "saving visualized bound: center_2x2/11_relu_0.png\n"
     ]
    },
    {
     "name": "stdout",
     "output_type": "stream",
     "text": [
      "bound time:0.10798971\n",
      "size(bound.generators): (64, 64, 64, 373)\n"
     ]
    },
    {
     "name": "stdout",
     "output_type": "stream",
     "text": [
      "prop time:2.014747564\n"
     ]
    },
    {
     "name": "stdout",
     "output_type": "stream",
     "text": [
      "comp time:0.003664404\n",
      "saving visualized bound: center_2x2/12_conv_3.png\n"
     ]
    },
    {
     "name": "stdout",
     "output_type": "stream",
     "text": [
      "bound time:0.155140034\n",
      "prop time:"
     ]
    },
    {
     "name": "stdout",
     "output_type": "stream",
     "text": [
      "0.102308767\n",
      "comp time:0.000234044\n",
      "saving visualized bound: center_2x2/13_batchnorm_3.png\n"
     ]
    },
    {
     "name": "stdout",
     "output_type": "stream",
     "text": [
      "bound time:0.109121994\n",
      "before order: 0.001422882080078125\n"
     ]
    },
    {
     "name": "stdout",
     "output_type": "stream",
     "text": [
      "non0 ele cnt: 5184\n",
      "overapproximate time: "
     ]
    },
    {
     "name": "stdout",
     "output_type": "stream",
     "text": [
      "0.594406345\n",
      "after order: 0.00273895263671875\n",
      "before size: (64, 64, 64, 373)\n",
      "after size: (64, 64, 64, 718)\n",
      "prop time:0.594813213\n",
      "comp time:0.000125162\n",
      "saving visualized bound: center_2x2/14_batchnorm_3_relu.png\n"
     ]
    },
    {
     "name": "stdout",
     "output_type": "stream",
     "text": [
      "bound time:0.207832349\n",
      "size(bound.generators): (64, 64, 64, 718)\n"
     ]
    },
    {
     "name": "stdout",
     "output_type": "stream",
     "text": [
      "prop time:3.908395639\n",
      "comp time:0.003734995\n",
      "saving visualized bound: center_2x2/15_conv_4.png\n"
     ]
    },
    {
     "name": "stdout",
     "output_type": "stream",
     "text": [
      "bound time:0.209731536\n",
      "prop time:"
     ]
    },
    {
     "name": "stdout",
     "output_type": "stream",
     "text": [
      "0.189021712\n",
      "comp time:0.000144333\n",
      "saving visualized bound: center_2x2/16_batchnorm_4.png\n"
     ]
    },
    {
     "name": "stdout",
     "output_type": "stream",
     "text": [
      "bound time:0.252851089\n",
      "add_1"
     ]
    },
    {
     "name": "stdout",
     "output_type": "stream",
     "text": [
      "\n",
      "+\n",
      "saving visualized bound: center_2x2/17_add_1.png\n"
     ]
    },
    {
     "name": "stdout",
     "output_type": "stream",
     "text": [
      "bound time:0.343778909\n",
      "before order: 0.004161834716796875\n"
     ]
    },
    {
     "name": "stdout",
     "output_type": "stream",
     "text": [
      "non0 ele cnt: 7744\n",
      "overapproximate time: "
     ]
    },
    {
     "name": "stdout",
     "output_type": "stream",
     "text": [
      "1.96936306\n",
      "after order: 0.006214141845703125\n",
      "before size: (64, 64, 64, 1091)\n",
      "after size: (64, 64, 64, 1629)\n",
      "prop time:1.969777178\n",
      "comp time:0.000125503\n",
      "saving visualized bound: center_2x2/18_relu_1.png\n"
     ]
    },
    {
     "name": "stdout",
     "output_type": "stream",
     "text": [
      "bound time:0.549064316\n",
      "size(bound.generators): (64, 64, 64, 1629)\n"
     ]
    },
    {
     "name": "stdout",
     "output_type": "stream",
     "text": [
      "prop time:6.889156012\n",
      "comp time:0.001733325\n",
      "saving visualized bound: center_2x2/19_conv_5.png\n"
     ]
    },
    {
     "name": "stdout",
     "output_type": "stream",
     "text": [
      "bound time:0.306911172\n",
      "size(bound.generators): (64, 64, 64, 1629)\n"
     ]
    },
    {
     "name": "stdout",
     "output_type": "stream",
     "text": [
      "prop time:2.882391612\n",
      "comp time:0.000448659\n",
      "saving visualized bound: center_2x2/20_conv_7.png\n"
     ]
    },
    {
     "name": "stdout",
     "output_type": "stream",
     "text": [
      "bound time:0.292098766\n",
      "prop time:"
     ]
    },
    {
     "name": "stdout",
     "output_type": "stream",
     "text": [
      "0.228264728\n",
      "comp time:8.0992e-5\n",
      "saving visualized bound: center_2x2/21_batchnorm_5.png\n"
     ]
    },
    {
     "name": "stdout",
     "output_type": "stream",
     "text": [
      "bound time:0.236625675\n",
      "prop time:"
     ]
    },
    {
     "name": "stdout",
     "output_type": "stream",
     "text": [
      "0.268644316\n",
      "comp time:0.000108682\n",
      "saving visualized bound: center_2x2/22_batchnorm_7.png\n"
     ]
    },
    {
     "name": "stdout",
     "output_type": "stream",
     "text": [
      "bound time:0.23481769\n",
      "before order: 0.01242828369140625\n"
     ]
    },
    {
     "name": "stdout",
     "output_type": "stream",
     "text": [
      "non0 ele cnt: 4608\n",
      "overapproximate time: "
     ]
    },
    {
     "name": "stdout",
     "output_type": "stream",
     "text": [
      "1.063103276\n",
      "after order: 0.018341064453125\n",
      "before size: (32, 32, 128, 1629)\n",
      "after size: (32, 32, 128, 2404)\n",
      "prop time:1.063514735\n",
      "comp time:7.0931e-5\n",
      "saving visualized bound: center_2x2/23_batchnorm_5_relu.png\n"
     ]
    },
    {
     "name": "stdout",
     "output_type": "stream",
     "text": [
      "bound time:0.346173237\n",
      "size(bound.generators): (32, 32, 128, 2404)\n"
     ]
    },
    {
     "name": "stdout",
     "output_type": "stream",
     "text": [
      "prop time:12.205717797\n",
      "comp time:0.003095031\n",
      "saving visualized bound: center_2x2/24_conv_6.png\n"
     ]
    },
    {
     "name": "stdout",
     "output_type": "stream",
     "text": [
      "bound time:0.350047096\n",
      "prop time:"
     ]
    },
    {
     "name": "stdout",
     "output_type": "stream",
     "text": [
      "0.331126018\n",
      "comp time:7.8232e-5\n",
      "saving visualized bound: center_2x2/25_batchnorm_6.png\n"
     ]
    },
    {
     "name": "stdout",
     "output_type": "stream",
     "text": [
      "bound time:0.412266851\n",
      "add_2"
     ]
    },
    {
     "name": "stdout",
     "output_type": "stream",
     "text": [
      "\n",
      "+\n",
      "saving visualized bound: center_2x2/26_add_2.png\n"
     ]
    },
    {
     "name": "stdout",
     "output_type": "stream",
     "text": [
      "bound time:0.612971687\n",
      "before order: 0.03076934814453125\n"
     ]
    },
    {
     "name": "stdout",
     "output_type": "stream",
     "text": [
      "non0 ele cnt: 8192\n",
      "overapproximate time: "
     ]
    },
    {
     "name": "stdout",
     "output_type": "stream",
     "text": [
      "3.539663295\n",
      "after order: 0.03989410400390625\n",
      "before size: (32, 32, 128, 4033)\n",
      "after size: (32, 32, 128, 5229)\n",
      "prop time:3.540090893\n",
      "comp time:6.6811e-5\n",
      "saving visualized bound: center_2x2/27_relu_2.png\n"
     ]
    },
    {
     "name": "stdout",
     "output_type": "stream",
     "text": [
      "bound time:0.865323779\n",
      "size(bound.generators): (32, 32, 128, 5229)\n"
     ]
    },
    {
     "name": "stdout",
     "output_type": "stream",
     "text": [
      "prop time:25.787131384\n",
      "comp time:0.003602413\n",
      "saving visualized bound: center_2x2/28_conv_8.png\n"
     ]
    },
    {
     "name": "stdout",
     "output_type": "stream",
     "text": [
      "bound time:0.754217888\n",
      "prop time:"
     ]
    },
    {
     "name": "stdout",
     "output_type": "stream",
     "text": [
      "0.847021475\n",
      "comp time:0.000156333\n",
      "saving visualized bound: center_2x2/29_batchnorm_8.png\n"
     ]
    },
    {
     "name": "stdout",
     "output_type": "stream",
     "text": [
      "bound time:0.756119406\n",
      "before order: 0.03989410400390625\n"
     ]
    },
    {
     "name": "stdout",
     "output_type": "stream",
     "text": [
      "non0 ele cnt: 12800\n",
      "overapproximate time: "
     ]
    },
    {
     "name": "stdout",
     "output_type": "stream",
     "text": [
      "3.979269905\n",
      "after order: 0.06878662109375\n",
      "before size: (32, 32, 128, 5229)\n",
      "after size: (32, 32, 128, 9016)\n",
      "prop time:3.979690634\n",
      "comp time:6.9521e-5\n",
      "saving visualized bound: center_2x2/30_batchnorm_8_relu.png\n"
     ]
    },
    {
     "name": "stdout",
     "output_type": "stream",
     "text": [
      "bound time:1.391350952\n",
      "size(bound.generators): (32, 32, 128, 9016)\n"
     ]
    },
    {
     "name": "stdout",
     "output_type": "stream",
     "text": [
      "prop time:45.447091173\n",
      "comp time:0.004961029\n",
      "saving visualized bound: center_2x2/31_conv_9.png\n"
     ]
    },
    {
     "name": "stdout",
     "output_type": "stream",
     "text": [
      "bound time:1.421449311\n",
      "prop time:"
     ]
    },
    {
     "name": "stdout",
     "output_type": "stream",
     "text": [
      "1.33344467\n",
      "comp time:0.000102922\n",
      "saving visualized bound: center_2x2/32_batchnorm_9.png\n"
     ]
    },
    {
     "name": "stdout",
     "output_type": "stream",
     "text": [
      "bound time:1.288619541\n",
      "add_3"
     ]
    },
    {
     "name": "stdout",
     "output_type": "stream",
     "text": [
      "\n",
      "+\n",
      "saving visualized bound: center_2x2/33_add_3.png\n"
     ]
    },
    {
     "name": "stdout",
     "output_type": "stream",
     "text": [
      "bound time:2.020246801\n",
      "before order: 0.10868072509765625\n"
     ]
    },
    {
     "name": "stdout",
     "output_type": "stream",
     "text": [
      "non0 ele cnt: 18432\n",
      "overapproximate time: "
     ]
    },
    {
     "name": "stdout",
     "output_type": "stream",
     "text": [
      "10.031013238\n",
      "after order: 0.161346435546875\n",
      "before size: (32, 32, 128, 14245)\n",
      "after size: (32, 32, 128, 21148)\n",
      "prop time:10.031496387\n",
      "comp time:6.6802e-5\n",
      "saving visualized bound: center_2x2/34_relu_3.png\n"
     ]
    },
    {
     "name": "stdout",
     "output_type": "stream",
     "text": [
      "bound time:3.063003615\n",
      "size(bound.generators): (32, 32, 128, 21148)\n"
     ]
    },
    {
     "name": "stdout",
     "output_type": "stream",
     "text": [
      "prop time:56.906879972\n",
      "comp time:0.003173575\n",
      "saving visualized bound: center_2x2/35_conv_10.png\n"
     ]
    },
    {
     "name": "stdout",
     "output_type": "stream",
     "text": [
      "bound time:1.636904417\n",
      "size(bound.generators): (32, 32, 128, 21148)\n"
     ]
    },
    {
     "name": "stdout",
     "output_type": "stream",
     "text": [
      "prop time:20.006803665\n",
      "comp time:0.000837356\n",
      "saving visualized bound: center_2x2/36_conv_12.png\n"
     ]
    },
    {
     "name": "stdout",
     "output_type": "stream",
     "text": [
      "bound time:1.65993477\n",
      "prop time:"
     ]
    },
    {
     "name": "stdout",
     "output_type": "stream",
     "text": [
      "1.892811846\n",
      "comp time:7.4971e-5\n",
      "saving visualized bound: center_2x2/37_batchnorm_10.png\n"
     ]
    },
    {
     "name": "stdout",
     "output_type": "stream",
     "text": [
      "bound time:1.481183228\n",
      "prop time:"
     ]
    },
    {
     "name": "stdout",
     "output_type": "stream",
     "text": [
      "1.901825805\n",
      "comp time:8.8942e-5\n",
      "saving visualized bound: center_2x2/38_batchnorm_12.png\n"
     ]
    },
    {
     "name": "stdout",
     "output_type": "stream",
     "text": [
      "bound time:1.495041797\n",
      "before order: 0.32269287109375\n"
     ]
    },
    {
     "name": "stdout",
     "output_type": "stream",
     "text": [
      "non0 ele cnt: 12544\n",
      "overapproximate time: "
     ]
    },
    {
     "name": "stdout",
     "output_type": "stream",
     "text": [
      "7.329624615\n",
      "after order: 0.4098358154296875\n",
      "before size: (16, 16, 256, 21148)\n",
      "after size: (16, 16, 256, 26859)\n",
      "prop time:7.330047593\n",
      "comp time:5.6812e-5\n",
      "saving visualized bound: center_2x2/39_batchnorm_10_relu.png\n"
     ]
    },
    {
     "name": "stdout",
     "output_type": "stream",
     "text": [
      "bound time:2.014009865\n",
      "size(bound.generators): (16, 16, 256, 26859)\n"
     ]
    },
    {
     "name": "stdout",
     "output_type": "stream",
     "text": [
      "prop time:115.727661175\n",
      "comp time:0.003537381\n",
      "saving visualized bound: center_2x2/40_conv_11.png\n"
     ]
    },
    {
     "name": "stdout",
     "output_type": "stream",
     "text": [
      "bound time:2.186467625\n",
      "prop time:"
     ]
    },
    {
     "name": "stdout",
     "output_type": "stream",
     "text": [
      "5.021816037\n",
      "comp time:0.000261855\n",
      "saving visualized bound: center_2x2/41_batchnorm_11.png\n"
     ]
    },
    {
     "name": "stdout",
     "output_type": "stream",
     "text": [
      "bound time:2.430325573\n",
      "add_4"
     ]
    },
    {
     "name": "stdout",
     "output_type": "stream",
     "text": [
      "\n",
      "+\n",
      "saving visualized bound: center_2x2/42_add_4.png\n"
     ]
    },
    {
     "name": "stdout",
     "output_type": "stream",
     "text": [
      "bound time:3.486302708\n",
      "before order: 0.7325286865234375\n"
     ]
    },
    {
     "name": "stdout",
     "output_type": "stream",
     "text": [
      "non0 ele cnt: 20599\n",
      "overapproximate time: "
     ]
    },
    {
     "name": "stdout",
     "output_type": "stream",
     "text": [
      "22.715939345\n",
      "after order: 0.80340576171875\n",
      "before size: (16, 16, 256, 48007)\n",
      "after size: (16, 16, 256, 52652)\n",
      "prop time:22.716347403\n",
      "comp time:5.0321e-5\n",
      "saving visualized bound: center_2x2/43_relu_4.png\n"
     ]
    },
    {
     "name": "stdout",
     "output_type": "stream",
     "text": [
      "bound time:4.091076813\n",
      "size(bound.generators): (16, 16, 256, 52652)\n"
     ]
    },
    {
     "name": "stdout",
     "output_type": "stream",
     "text": [
      "prop time:222.724767054\n",
      "comp time:0.004762476\n",
      "saving visualized bound: center_2x2/44_conv_13.png\n"
     ]
    },
    {
     "name": "stdout",
     "output_type": "stream",
     "text": [
      "bound time:4.041867396\n",
      "prop time:"
     ]
    },
    {
     "name": "stdout",
     "output_type": "stream",
     "text": [
      "4.677672995\n",
      "comp time:7.0792e-5\n",
      "saving visualized bound: center_2x2/45_batchnorm_13.png\n"
     ]
    },
    {
     "name": "stdout",
     "output_type": "stream",
     "text": [
      "bound time:3.743554035\n",
      "before order: 0.80340576171875\n"
     ]
    },
    {
     "name": "stdout",
     "output_type": "stream",
     "text": [
      "non0 ele cnt: 30320\n",
      "overapproximate time: "
     ]
    },
    {
     "name": "stdout",
     "output_type": "stream",
     "text": [
      "21.24647907\n",
      "after order: 1.0965118408203125\n",
      "before size: (16, 16, 256, 52652)\n",
      "after size: (16, 16, 256, 71861)\n",
      "prop time:21.25044656\n",
      "comp time:5.4331e-5\n",
      "saving visualized bound: center_2x2/46_batchnorm_13_relu.png\n"
     ]
    },
    {
     "name": "stdout",
     "output_type": "stream",
     "text": [
      "bound time:19.990092389\n"
     ]
    },
    {
     "name": "stdout",
     "output_type": "stream",
     "text": [
      "size(bound.generators): (16, 16, 256, 71861)\n"
     ]
    },
    {
     "name": "stdout",
     "output_type": "stream",
     "text": [
      "prop time:317.935266241\n",
      "comp time:0.012978979\n",
      "saving visualized bound: center_2x2/47_conv_14.png\n"
     ]
    },
    {
     "name": "stdout",
     "output_type": "stream",
     "text": [
      "bound time:5.858696493\n",
      "prop time:"
     ]
    },
    {
     "name": "stdout",
     "output_type": "stream",
     "text": [
      "6.758059258\n",
      "comp time:6.5581e-5\n",
      "saving visualized bound: center_2x2/48_batchnorm_14.png\n"
     ]
    },
    {
     "name": "stdout",
     "output_type": "stream",
     "text": [
      "bound time:5.090691811\n",
      "add_5"
     ]
    },
    {
     "name": "stdout",
     "output_type": "stream",
     "text": [
      "\n",
      "+\n",
      "saving visualized bound: center_2x2/49_add_5.png\n"
     ]
    },
    {
     "name": "stdout",
     "output_type": "stream",
     "text": [
      "bound time:18.414745582\n",
      "before order: "
     ]
    },
    {
     "name": "stdout",
     "output_type": "stream",
     "text": [
      "1.8999176025390625\n"
     ]
    },
    {
     "name": "stdout",
     "output_type": "stream",
     "text": [
      "non0 ele cnt: 41983\n",
      "overapproximate time: "
     ]
    }
   ],
   "source": [
    "input = Float32.(input)\n",
    "input_perturbed = Float32.(input_perturbed)\n",
    "image_seeds = ImageConvexHull([input, input_perturbed])  # 256 x 256 x 3 x 2\n",
    "prop_method = ImageZono()\n",
    "visualize(search_method, split_method, prop_method, Problem(model, image_seeds, output_set), \"center_2x2/\";)"
   ]
  },
  {
   "cell_type": "code",
   "execution_count": 15,
   "metadata": {},
   "outputs": [
    {
     "data": {
      "image/png": "[encoded data removed]",
      "text/html": [
       "<img src=\"data:image/png;base64,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\">"
      ],
      "text/plain": [
       "256×256 reinterpret(reshape, RGB{Float32}, ::Array{Float32, 3}) with eltype RGB{Float32}:\n",
       " RGB{Float32}(0.187881,0.380252,0.600784)   …  RGB{Float32}(-1.62207,-2.03571,-1.80444)\n",
       " RGB{Float32}(0.358384,0.607843,0.827364)      RGB{Float32}(-1.62207,-2.03571,-1.80444)\n",
       " RGB{Float32}(0.3715,0.62535,0.844793)         RGB{Float32}(-1.62207,-2.03571,-1.80444)\n",
       " RGB{Float32}(0.397731,0.660364,0.879651)      RGB{Float32}(-1.62207,-2.03571,-1.80444)\n",
       " RGB{Float32}(0.437078,0.712885,0.931939)      RGB{Float32}(-1.62207,-2.03571,-1.80444)\n",
       " RGB{Float32}(0.463309,0.747899,0.966797)   …  RGB{Float32}(-1.62207,-2.03571,-1.80444)\n",
       " RGB{Float32}(0.48954,0.782913,1.00166)        RGB{Float32}(-1.62207,-2.03571,-1.80444)\n",
       " RGB{Float32}(0.502656,0.80042,1.01908)        RGB{Float32}(-1.62207,-2.03571,-1.80444)\n",
       " RGB{Float32}(0.528887,0.835434,1.05394)       RGB{Float32}(-1.62207,-2.03571,-1.80444)\n",
       " RGB{Float32}(0.542003,0.852941,1.07137)       RGB{Float32}(-1.62207,-2.03571,-1.80444)\n",
       " ⋮                                          ⋱  ⋮\n",
       " RGB{Float32}(0.109187,0.27521,0.496209)       RGB{Float32}(-1.62207,-2.03571,-1.80444)\n",
       " RGB{Float32}(0.109187,0.27521,0.496209)       RGB{Float32}(-1.62207,-2.03571,-1.80444)\n",
       " RGB{Float32}(0.16165,0.345238,0.565926)       RGB{Float32}(-1.62207,-2.03571,-1.80444)\n",
       " RGB{Float32}(0.187881,0.380252,0.600784)   …  RGB{Float32}(-1.62207,-2.03571,-1.80444)\n",
       " RGB{Float32}(0.174766,0.362745,0.583355)      RGB{Float32}(-1.62207,-2.03571,-1.80444)\n",
       " RGB{Float32}(0.174766,0.362745,0.583355)      RGB{Float32}(-1.62207,-2.03571,-1.80444)\n",
       " RGB{Float32}(0.16165,0.345238,0.565926)       RGB{Float32}(-1.62207,-2.03571,-1.80444)\n",
       " RGB{Float32}(0.0960719,0.257703,0.47878)      RGB{Float32}(-1.62207,-2.03571,-1.80444)\n",
       " RGB{Float32}(0.0173782,0.152661,0.374205)  …  RGB{Float32}(-1.62207,-2.03571,-1.80444)"
      ]
     },
     "metadata": {},
     "output_type": "display_data"
    }
   ],
   "source": [
    "colorview(RGB, permutedims(input[:, :, :, 1], [3,1,2]))"
   ]
  },
  {
   "cell_type": "code",
   "execution_count": 12,
   "metadata": {},
   "outputs": [
    {
     "data": {
      "image/png": "[encoded data removed]",
      "text/html": [
       "<img src=\"data:image/png;base64,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\">"
      ],
      "text/plain": [
       "256×256 reinterpret(reshape, RGB{Float32}, ::Array{Float32, 3}) with eltype RGB{Float32}:\n",
       " RGB{Float32}(0.187881,0.380252,0.600784)  …  RGB{Float32}(-1.62207,-2.03571,-1.80444)\n",
       " RGB{Float32}(0.345269,0.590336,0.809935)     RGB{Float32}(-1.62207,-2.03571,-1.80444)\n",
       " RGB{Float32}(0.384615,0.642857,0.862222)     RGB{Float32}(-1.62207,-2.03571,-1.80444)\n",
       " RGB{Float32}(0.397731,0.660364,0.879651)     RGB{Float32}(-1.62207,-2.03571,-1.80444)\n",
       " RGB{Float32}(0.437078,0.712885,0.931939)     RGB{Float32}(-1.62207,-2.03571,-1.80444)\n",
       " RGB{Float32}(0.476425,0.765406,0.984227)  …  RGB{Float32}(-1.62207,-2.03571,-1.80444)\n",
       " RGB{Float32}(0.502656,0.80042,1.01908)       RGB{Float32}(-1.62207,-2.03571,-1.80444)\n",
       " RGB{Float32}(0.502656,0.80042,1.01908)       RGB{Float32}(-1.62207,-2.03571,-1.80444)\n",
       " RGB{Float32}(0.528887,0.835434,1.05394)      RGB{Float32}(-1.62207,-2.03571,-1.80444)\n",
       " RGB{Float32}(0.542003,0.852941,1.07137)      RGB{Float32}(-1.62207,-2.03571,-1.80444)\n",
       " ⋮                                         ⋱  ⋮\n",
       " RGB{Float32}(-1.62207,-2.03571,-1.80444)     RGB{Float32}(-1.62207,-2.03571,-1.80444)\n",
       " RGB{Float32}(-1.62207,-2.03571,-1.80444)     RGB{Float32}(-1.62207,-2.03571,-1.80444)\n",
       " RGB{Float32}(-1.62207,-2.03571,-1.80444)     RGB{Float32}(-1.62207,-2.03571,-1.80444)\n",
       " RGB{Float32}(-1.62207,-2.03571,-1.80444)  …  RGB{Float32}(-1.62207,-2.03571,-1.80444)\n",
       " RGB{Float32}(-1.62207,-2.03571,-1.80444)     RGB{Float32}(-1.62207,-2.03571,-1.80444)\n",
       " RGB{Float32}(-1.62207,-2.03571,-1.80444)     RGB{Float32}(-1.62207,-2.03571,-1.80444)\n",
       " RGB{Float32}(-1.62207,-2.03571,-1.80444)     RGB{Float32}(-1.62207,-2.03571,-1.80444)\n",
       " RGB{Float32}(-1.62207,-2.03571,-1.80444)     RGB{Float32}(-1.62207,-2.03571,-1.80444)\n",
       " RGB{Float32}(-1.62207,-2.03571,-1.80444)  …  RGB{Float32}(-1.62207,-2.03571,-1.80444)"
      ]
     },
     "metadata": {},
     "output_type": "display_data"
    }
   ],
   "source": [
    "img_pert_path = \"./AircraftInspection-no-bg_00000008.png\"\n",
    "csv_path = \"./SynthPlane_08.csv\"\n",
    "input_perturbed = preprocess_image(img_pert_path, csv_path)\n",
    "colorview(RGB, permutedims(input_perturbed[:, :, :, 1], [3,1,2]))"
   ]
  },
  {
   "cell_type": "code",
   "execution_count": 17,
   "metadata": {},
   "outputs": [
    {
     "name": "stdout",
     "output_type": "stream",
     "text": [
      "Set(Any[\"BatchNormalization\", \"Flatten\", \"Relu\", \"ConvTranspose\", \"Conv\", \"AveragePool\", \"Add\"])\n"
     ]
    },
    {
     "name": "stdout",
     "output_type": "stream",
     "text": [
      "size(bound.generators): (256, 256, 3, 1)\n",
      "prop time:0.516802467\n"
     ]
    },
    {
     "name": "stdout",
     "output_type": "stream",
     "text": [
      "comp time:0.514892321\n",
      "saving visualized bound: bg/1_conv_0.png\n",
      "bound time:0.002840346\n",
      "prop time:0.001275009\n"
     ]
    },
    {
     "name": "stdout",
     "output_type": "stream",
     "text": [
      "comp time:0.508096741\n",
      "saving visualized bound: bg/2_batchnorm_0.png\n",
      "bound time:0.002055228\n",
      "before order: 9.5367431640625e-7\n"
     ]
    },
    {
     "name": "stdout",
     "output_type": "stream",
     "text": [
      "non0 ele cnt: 626640\n"
     ]
    },
    {
     "ename": "OutOfMemoryError",
     "evalue": "OutOfMemoryError()",
     "output_type": "error",
     "traceback": [
      "OutOfMemoryError()\n",
      "\n",
      "Stacktrace:\n",
      "  [1] Array\n",
      "    @ ./boot.jl:479 [inlined]\n",
      "  [2] Array\n",
      "    @ ./boot.jl:487 [inlined]\n",
      "  [3] zeros\n",
      "    @ ./array.jl:584 [inlined]\n",
      "  [4] zeros\n",
      "    @ ./array.jl:580 [inlined]\n",
      "  [5] fast_overapproximate(r::Rectification{Float32, Zonotope{Float32, Vector{Float32}, Matrix{Float32}}}, #unused#::Type{Zonotope})\n",
      "    @ ModelVerification ~/dev/ModelVerification.jl/src/propagate/operators/relu.jl:45\n",
      "  [6] macro expansion\n",
      "    @ ./timing.jl:501 [inlined]\n",
      "  [7] propagate_act(prop_method::ImageZono, layer::typeof(relu), bound::ModelVerification.ImageZonoBound{Float32}, batch_info::Dict{Any, Any})\n",
      "    @ ModelVerification ~/dev/ModelVerification.jl/src/propagate/operators/relu.jl:62\n",
      "  [8] #68\n",
      "    @ ./none:0 [inlined]\n",
      "  [9] iterate\n",
      "    @ ./generator.jl:47 [inlined]\n",
      " [10] collect(itr::Base.Generator{Base.OneTo{Int64}, ModelVerification.var\"#68#69\"{ImageZono, typeof(relu), Vector{ModelVerification.ImageZonoBound{Float32}}, Dict{Any, Any}}})\n",
      "    @ Base ./array.jl:782\n",
      " [11] propagate_act_batch(prop_method::ImageZono, σ::Function, batch_reach::Vector{ModelVerification.ImageZonoBound{Float32}}, batch_info::Dict{Any, Any})\n",
      "    @ ModelVerification ~/dev/ModelVerification.jl/src/propagate/propagate.jl:117\n",
      " [12] propagate_layer_batch(prop_method::ImageZono, layer::Function, batch_bound::Vector{ModelVerification.ImageZonoBound{Float32}}, batch_info::Dict{Any, Any})\n",
      "    @ ModelVerification ~/dev/ModelVerification.jl/src/propagate/propagate.jl:135\n",
      " [13] propagate_layer_method(prop_method::ImageZono, model_info::ModelVerification.Model, batch_info::Dict{Any, Any}, node::String)\n",
      "    @ ModelVerification ~/dev/ModelVerification.jl/src/propagate/propagate.jl:83\n",
      " [14] macro expansion\n",
      "    @ ./timing.jl:501 [inlined]\n",
      " [15] visualize_propagate(prop_method::ImageZono, model_info::ModelVerification.Model, batch_info::Dict{Any, Any}, save_path::String; vis_center::Bool, save_bound::Bool)\n",
      "    @ ModelVerification ~/dev/ModelVerification.jl/src/utils/visualization.jl:34\n",
      " [16] visualize_propagate\n",
      "    @ ~/dev/ModelVerification.jl/src/utils/visualization.jl:4 [inlined]\n",
      " [17] visualize(search_method::BFS, split_method::Bisect, prop_method::ImageZono, problem::Problem{ImageConvexHull, BallInf{Float64, Vector{Float64}}}, save_path::String; vis_center::Bool, save_bound::Bool)\n",
      "    @ ModelVerification ~/dev/ModelVerification.jl/src/utils/visualization.jl:102\n",
      " [18] visualize(search_method::BFS, split_method::Bisect, prop_method::ImageZono, problem::Problem{ImageConvexHull, BallInf{Float64, Vector{Float64}}}, save_path::String)\n",
      "    @ ModelVerification ~/dev/ModelVerification.jl/src/utils/visualization.jl:99\n",
      " [19] top-level scope\n",
      "    @ ~/dev/ModelVerification.jl/tmp/test_resnet.ipynb:2"
     ]
    }
   ],
   "source": [
    "image_seeds = ImageConvexHull([input, input_perturbed])  # 256 x 256 x 3 x 2\n",
    "visualize(search_method, split_method, prop_method, Problem(model, image_seeds, output_set), \"bg/\";)"
   ]
  },
  {
   "cell_type": "code",
   "execution_count": null,
   "metadata": {},
   "outputs": [],
   "source": []
  }
 ],
 "metadata": {
  "kernelspec": {
   "display_name": "Julia 1.9.2",
   "language": "julia",
   "name": "julia-1.9"
  },
  "language_info": {
   "file_extension": ".jl",
   "mimetype": "application/julia",
   "name": "julia",
   "version": "1.9.2"
  },
  "orig_nbformat": 4
 },
 "nbformat": 4,
 "nbformat_minor": 2
}
