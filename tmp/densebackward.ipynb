{
 "cells": [
  {
   "cell_type": "code",
   "execution_count": null,
   "metadata": {},
   "outputs": [],
   "source": [
    "using Revise"
   ]
  },
  {
   "cell_type": "code",
   "execution_count": null,
   "metadata": {},
   "outputs": [],
   "source": [
    "using Flux"
   ]
  },
  {
   "cell_type": "code",
   "execution_count": null,
   "metadata": {},
   "outputs": [],
   "source": [
    "using PaddedViews"
   ]
  },
  {
   "cell_type": "code",
   "execution_count": null,
   "metadata": {},
   "outputs": [],
   "source": [
    "using ModelVerification"
   ]
  },
  {
   "cell_type": "code",
   "execution_count": null,
   "metadata": {},
   "outputs": [],
   "source": [
    "include(\"/home/verification/ModelVerification.jl/src/propagate/operators/normalise.jl\")"
   ]
  },
  {
   "cell_type": "code",
   "execution_count": null,
   "metadata": {},
   "outputs": [],
   "source": [
    "bn_layer = BatchNorm(2)\n",
    "last_A = [0.80288410  1.77289701  4.04968071  1.10468459; \n",
    "-1.95263970  0.03672504 -0.94798982  2.70319653; \n",
    "-1.37702072 -0.42611432  0.75072187 -1.17853343; \n",
    "-2.34488750  0.19852549  1.74567282  2.40724754;;; \n",
    "0.57746184 -1.12509835 -0.65899199  0.09659922; \n",
    "2.02263784 -0.49920616  0.24671881 -1.36043179; \n",
    "-0.92502880  0.13907211  0.80686390 -3.31853700; \n",
    "0.67951810 -0.25937605 -0.62096345  0.68446565;;;;]\n",
    "batch_info = nothing\n",
    "batch_reach, batch_bias, batch_info = bound_backward(bn_layer, last_A, batch_info)\n",
    "println(batch_reach)\n",
    "println(batch_bias)"
   ]
  }
 ],
 "metadata": {
  "kernelspec": {
   "display_name": "Julia 1.8.5",
   "language": "julia",
   "name": "julia-1.8"
  },
  "language_info": {
   "file_extension": ".jl",
   "mimetype": "application/julia",
   "name": "julia",
   "version": "1.8.5"
  },
  "orig_nbformat": 4
 },
 "nbformat": 4,
 "nbformat_minor": 2
}
