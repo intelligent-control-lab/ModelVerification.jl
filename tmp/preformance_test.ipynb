{
 "cells": [
  {
   "cell_type": "code",
   "execution_count": 1,
   "metadata": {},
   "outputs": [],
   "source": [
    "using Revise"
   ]
  },
  {
   "cell_type": "code",
   "execution_count": 2,
   "metadata": {},
   "outputs": [],
   "source": [
    "using LazySets\n",
    "using ModelVerification"
   ]
  },
  {
   "cell_type": "code",
   "execution_count": 3,
   "metadata": {},
   "outputs": [],
   "source": [
    "using PyCall\n",
    "using CSV\n",
    "using ONNX\n",
    "using Flux\n",
    "using DataFrames"
   ]
  },
  {
   "cell_type": "code",
   "execution_count": null,
   "metadata": {},
   "outputs": [],
   "source": [
    "include(\"vnnlib_parser.jl\")"
   ]
  },
  {
   "cell_type": "code",
   "execution_count": 7,
   "metadata": {},
   "outputs": [
    {
     "data": {
      "text/plain": [
       "run_all (generic function with 1 method)"
      ]
     },
     "metadata": {},
     "output_type": "display_data"
    }
   ],
   "source": [
    "\n",
    "function onnx_to_nnet(onnx_file)\n",
    "    pushfirst!(PyVector(pyimport(\"sys\").\"path\"), @__DIR__)\n",
    "    nnet = pyimport(\"NNet\")\n",
    "    use_gz = split(onnx_file, \".\")[end] == \"gz\"\n",
    "    if use_gz\n",
    "        onnx_file = onnx_file[1:end-3]\n",
    "    end\n",
    "    nnet_file = onnx_file[1:end-4] * \"nnet\"\n",
    "    isfile(nnet_file) && return\n",
    "    nnet.onnx2nnet(onnx_file, nnetFile=nnet_file)\n",
    "end\n",
    "\n",
    "function verify_an_instance(onnx_file, spec_file, timeout)\n",
    "    use_gz = split(onnx_file, \".\")[end] == \"gz\"\n",
    "    nnet_file = use_gz ? onnx_file[1:end-7] * \"nnet\" : onnx_file[1:end-4] * \"nnet\"\n",
    "    net = ModelVerification.read_nnet(nnet_file)\n",
    "    ###### TODO: change this ad-hoc remedy for nnet read ######\n",
    "    net.layers[1] = ModelVerification.Layer(net.layers[1].weights, net.layers[1].bias, ModelVerification.Id())\n",
    "    flux_model = Flux.Chain(net)\n",
    "    n_in = size(net.layers[1].weights)[2]\n",
    "    n_out = length(net.layers[end].bias)\n",
    "    specs = read_vnnlib_simple(spec_file, n_in, n_out)\n",
    "    current_time = 0\n",
    "    for spec in specs\n",
    "        X_range, Y_cons = spec\n",
    "        lb = [bd[1] for bd in X_range]\n",
    "        ub = [bd[2] for bd in X_range]\n",
    "        X = Hyperrectangle(low = lb, high = ub)\n",
    "        res = nothing\n",
    "        A = []\n",
    "        b = []\n",
    "        for Y_con in Y_cons\n",
    "            A = hcat(Y_con[1]...)'\n",
    "            b = Y_con[2]\n",
    "            Yc = HPolytope(A, b)\n",
    "            Y = Complement(Yc)\n",
    "            search_method = BFS(max_iter=2e5, batch_size=100)\n",
    "            split_method = Bisect(1)\n",
    "            prop_method = Ai2z()\n",
    "            problem = Problem(flux_model, X, Y)\n",
    "            res = @timed verify(search_method, split_method, prop_method, problem)\n",
    "            current_time += res.time \n",
    "            if(current_time >= timeout)\n",
    "                println(\"timed out at:\", current_time)\n",
    "                return \"unknown\"\n",
    "            end\n",
    "            res.value.status == :violated && (return \"violated\")\n",
    "            res.value.status == :unknown && (return \"unknown\")\n",
    "        end\n",
    "    end\n",
    "    return \"holds\"\n",
    "end\n",
    "\n",
    "function run_all(instance_csv, result_csv)\n",
    "    file = CSV.File(instance_csv, header=false)\n",
    "    dirpath = dirname(instance_csv)\n",
    "    df = DataFrame()\n",
    "    for (index,row) in enumerate(file)\n",
    "        println(\"Instance $index.\")\n",
    "        onnx_file = joinpath(dirpath, row[1])\n",
    "        vnnlib_file = joinpath(dirpath, row[2])\n",
    "        timeout = row[3]\n",
    "        onnx_to_nnet(onnx_file)\n",
    "        result = @timed verify_an_instance(onnx_file, vnnlib_file, timeout)\n",
    "        println(result)\n",
    "        push!(df, result)\n",
    "    end\n",
    "    CSV.write(result_csv, df)\n",
    "end"
   ]
  },
  {
   "cell_type": "code",
   "execution_count": 8,
   "metadata": {},
   "outputs": [
    {
     "data": {
      "text/plain": [
       "\"holds\""
      ]
     },
     "metadata": {},
     "output_type": "display_data"
    }
   ],
   "source": [
    "onnx_file = \"../../vnncomp2021/benchmarks/acasxu/ACASXU_run2a_4_5_batch_2000.onnx\"\n",
    "spec_file = \"../../vnncomp2021/benchmarks/acasxu/prop_10.vnnlib\"\n",
    "timeout = 116\n",
    "verify_an_instance(onnx_file, spec_file, timeout)"
   ]
  },
  {
   "cell_type": "code",
   "execution_count": 9,
   "metadata": {},
   "outputs": [
    {
     "name": "stdout",
     "output_type": "stream",
     "text": [
      "Instance 1.\n"
     ]
    },
    {
     "name": "stdout",
     "output_type": "stream",
     "text": [
      "(value = \""
     ]
    },
    {
     "name": "stdout",
     "output_type": "stream",
     "text": [
      "holds\", time = 0.179820385, bytes = 116430203, gctime = 0.0, gcstats = Base"
     ]
    },
    {
     "name": "stdout",
     "output_type": "stream",
     "text": [
      ".GC_Diff(116430203, 1871, 0, 514527, 4717, 0, 0, 0, 0))\n",
      "Instance 2."
     ]
    },
    {
     "name": "stdout",
     "output_type": "stream",
     "text": [
      "\n",
      "("
     ]
    },
    {
     "name": "stdout",
     "output_type": "stream",
     "text": [
      "value = \"holds\", time = 0.188785252, bytes = 89658681, gctime = 0.067628979, gcstats = Base.GC_Diff(89658681, 1268, 0, 425733, 4263, 2211, 67628979, 1, 0))\n",
      "Instance 3.\n"
     ]
    },
    {
     "name": "stdout",
     "output_type": "stream",
     "text": [
      "(value = \"holds\", time = 0.188884446, bytes = 142022448, gctime = 0.0, gcstats = Base.GC_Diff(142022448, 2243, 0, 661008, 6319, 0, 0, 0, 0))\n",
      "Instance 4.\n",
      "("
     ]
    },
    {
     "name": "stdout",
     "output_type": "stream",
     "text": [
      "value = \"holds\", time = 0.142576264, bytes = 86787117, gctime = 0.032685986, gcstats = Base.GC_Diff(86787117, 1431, 0, 367540, 3438, 3430, 32685986, 1, 0))\n",
      "Instance 5.\n",
      "(value = \"holds\", time = 0.082206007, bytes = 72361008, gctime = 0.0, gcstats = Base.GC_Diff(72361008, 1177, 0, 298990, 2841, 0, 0, 0, 0))\n",
      "Instance 6.\n",
      "("
     ]
    },
    {
     "name": "stdout",
     "output_type": "stream",
     "text": [
      "value = \"holds\", time = 0.117364635, bytes = 86737594, gctime = 0.022216454, gcstats = Base.GC_Diff(86737594, 1524, 0, 289775, 2398, 3882, 22216454, 1, 0))\n",
      "Instance 7.\n",
      "(value = \"holds\", time = 0.052027732, bytes = 53263761, gctime = 0.0, gcstats = Base.GC_Diff(53263761, 924, 0, 171851, 1473, 0, 0, 0, 0))\n",
      "Instance 8.\n",
      "(value = \"holds\", time = 0.031510242, bytes = 33988947, gctime = 0.0, gcstats = Base.GC_Diff(33988947, 578, 0, 98051, 868, 0, 0, 0, 0))\n",
      "Instance 9.\n"
     ]
    },
    {
     "name": "stdout",
     "output_type": "stream",
     "text": [
      "(value = \"holds\", time = 0.025911858, bytes = 27574935, gctime = 0.0, gcstats = Base.GC_Diff(27574935, 441, 0, 68645, 624, 0, 0, 0, 0))\n",
      "Instance 10.\n",
      "("
     ]
    },
    {
     "name": "stdout",
     "output_type": "stream",
     "text": [
      "value = \"holds\", time = 0.159809586, bytes = 117442922, gctime = 0.018422066, gcstats = Base.GC_Diff(117442922, 2015, 0, 490282, 4436, 3792, 18422066, 1, 0))\n",
      "Instance 11.\n"
     ]
    },
    {
     "name": "stdout",
     "output_type": "stream",
     "text": [
      "(value = \"holds\", time = 0.505909054, bytes = 409413586, gctime = 0.015177611, gcstats = Base.GC_Diff(409413586, 6916, 0, 1905764, 17520, 3821, 15177611, 1, 0))\n",
      "Instance 12.\n",
      "("
     ]
    },
    {
     "name": "stdout",
     "output_type": "stream",
     "text": [
      "value = \"holds\", time = 0.219390487, bytes = 153051521, gctime = 0.017306746, gcstats = Base.GC_Diff(153051521, 2369, 0, 724495, 7003, 3841, 17306746, 1, 0))\n",
      "Instance 13.\n"
     ]
    },
    {
     "name": "stdout",
     "output_type": "stream",
     "text": [
      "(value = \"holds\", time = 0.193832005, bytes = 118363872, gctime = 0.026227818, gcstats = Base.GC_Diff(118363872, 1700, 0, 611560, 6085, 3423, 26227818, 1, 0))\n",
      "Instance 14.\n",
      "("
     ]
    },
    {
     "name": "stdout",
     "output_type": "stream",
     "text": [
      "value = \"holds\", time = 1.307859049, bytes = 924195474, gctime = 0.074770243, gcstats = Base.GC_Diff(924195474, 13338, 0, 5018804, 49710, 13324, 74770243, 4, 0))\n",
      "Instance 15.\n"
     ]
    },
    {
     "name": "stdout",
     "output_type": "stream",
     "text": [
      "(value = \"holds\", time = 0.691706551, bytes = 500464913, gctime = 0.037171665, gcstats = Base.GC_Diff(500464913, 8091, 0, 2642219, 25290, 7108, 37171665, 2, 0))\n",
      "Instance 16.\n",
      "("
     ]
    },
    {
     "name": "stdout",
     "output_type": "stream",
     "text": [
      "value = \"holds\", time = 5.673302783, bytes = 3669527352, gctime = 0.335184222, gcstats = Base.GC_Diff(3669527352, 52321, 0, 22338213, 220389, 53162, 335184222, 16, 0))\n",
      "Instance 17.\n"
     ]
    },
    {
     "name": "stdout",
     "output_type": "stream",
     "text": [
      "(value = \"holds\", time = 13.586049713, bytes = 8554261584, gctime = 0.814110003, gcstats = Base.GC_Diff(8554261584, 98511, 0, 54528691, 554756, 98497, 814110003, 37, 0))\n",
      "Instance 18.\n",
      "("
     ]
    },
    {
     "name": "stdout",
     "output_type": "stream",
     "text": [
      "value = \"holds\", time = 12.041212157, bytes = 7769350758, gctime = 0.722209223, gcstats = Base.GC_Diff(7769350758, 95566, 0, 48096634, 480596, 95547, 722209223, 33, 0))\n",
      "Instance 19.\n"
     ]
    },
    {
     "name": "stdout",
     "output_type": "stream",
     "text": [
      "(value = \"holds\", time = 0.644270801, bytes = 431035102, gctime = 0.064755478, gcstats = Base.GC_Diff(431035102, 6605, 0, 2280443, 21893, 4918, 64755478, 2, 0))\n",
      "Instance 20.\n",
      "("
     ]
    },
    {
     "name": "stdout",
     "output_type": "stream",
     "text": [
      "value = \"holds\", time = 0.295388828, bytes = 203307364, gctime = 0.019122384, gcstats = Base.GC_Diff(203307364, 3065, 0, 1027880, 9907, 3662, 19122384, 1, 0))\n",
      "Instance 21.\n"
     ]
    },
    {
     "name": "stdout",
     "output_type": "stream",
     "text": [
      "(value = \"holds\", time = 0.351116021, bytes = 268753883, gctime = 0.018618099, gcstats = Base.GC_Diff(268753883, 4609, 0, 1288607, 11755, 3654, 18618099, 1, 0))\n",
      "Instance 22.\n",
      "("
     ]
    },
    {
     "name": "stdout",
     "output_type": "stream",
     "text": [
      "value = \"holds\", time = 0.2572101, bytes = 169813234, gctime = 0.019401265, gcstats = Base.GC_Diff(169813234, 2326, 0, 963118, 9804, 3812, 19401265, 1, 0))\n",
      "Instance 23.\n"
     ]
    },
    {
     "name": "stdout",
     "output_type": "stream",
     "text": [
      "(value = \"holds\", time = 1.817630666, bytes = 1193187683, gctime = 0.106078904, gcstats = Base.GC_Diff(1193187683, 15551, 0, 7189507, 74082, 15972, 106078904, 5, 0))\n",
      "Instance 24.\n",
      "("
     ]
    },
    {
     "name": "stdout",
     "output_type": "stream",
     "text": [
      "value = \"holds\", time = 2.953106622, bytes = 2030542643, gctime = 0.1964298, gcstats = Base.GC_Diff(2030542643, 29987, 0, 11261903, 111728, 30484, 196429800, 9, 0))\n",
      "Instance 25.\n"
     ]
    },
    {
     "name": "stdout",
     "output_type": "stream",
     "text": [
      "(value = \"holds\", time = 3.4543315, bytes = 2281849234, gctime = 0.195404443, gcstats = Base.GC_Diff(2281849234, 31042, 0, 13747664, 140378, 28648, 195404443, 9, 0))\n",
      "Instance 26.\n",
      "("
     ]
    },
    {
     "name": "stdout",
     "output_type": "stream",
     "text": [
      "value = \"holds\", time = 4.20208258, bytes = 2727740893, gctime = 0.267585539, gcstats = Base.GC_Diff(2727740893, 36088, 0, 16562931, 167953, 37973, 267585539, 12, 0))\n",
      "Instance 27.\n"
     ]
    },
    {
     "name": "stdout",
     "output_type": "stream",
     "text": [
      "(value = \"holds\", time = 14.393075145, bytes = 8794081191, gctime = 0.851410896, gcstats = Base.GC_Diff(8794081191, 89357, 0, 58967697, 601305, 89706, 851410896, 36, 0))\n",
      "Instance 28.\n",
      "("
     ]
    },
    {
     "name": "stdout",
     "output_type": "stream",
     "text": [
      "value = \"holds\", time = 0.912362415, bytes = 624920153, gctime = 0.072827325, gcstats = Base.GC_Diff(624920153, 9228, 0, 3384348, 33379, 7554, 72827325, 3, 0))\n",
      "Instance 29.\n"
     ]
    },
    {
     "name": "stdout",
     "output_type": "stream",
     "text": [
      "(value = \"holds\", time = 0.34523773, bytes = 292441384, gctime = 0.020241038, gcstats = Base.GC_Diff(292441384, 5279, 0, 1235491, 10830, 3706, 20241038, 1, 0))\n",
      "Instance 30.\n",
      "("
     ]
    },
    {
     "name": "stdout",
     "output_type": "stream",
     "text": [
      "value = \"holds\", time = 0.305839912, bytes = 221992035, gctime = 0.018520928, gcstats = Base.GC_Diff(221992035, 3349, 0, 1145286, 11181, 4476, 18520928, 1, 0))\n",
      "Instance 31.\n"
     ]
    },
    {
     "name": "stdout",
     "output_type": "stream",
     "text": [
      "(value = \"holds\", time = 0.201443307, bytes = 132534700, gctime = 0.020791803, gcstats = Base.GC_Diff(132534700, 1957, 0, 690097, 6709, 3607, 20791803, 1, 0))\n",
      "Instance 32.\n",
      "("
     ]
    },
    {
     "name": "stdout",
     "output_type": "stream",
     "text": [
      "value = \"holds\", time = 0.617754717, bytes = 435675122, gctime = 0.041349558, gcstats = Base.GC_Diff(435675122, 6759, 0, 2319123, 22786, 7421, 41349558, 2, 0))\n",
      "Instance 33.\n"
     ]
    },
    {
     "name": "stdout",
     "output_type": "stream",
     "text": [
      "(value = \"holds\", time = 5.193066853, bytes = 3640314291, gctime = 0.33117541, gcstats = Base.GC_Diff(3640314291, 56068, 0, 20042891, 194976, 56073, 331175410, 15, 0))\n",
      "Instance 34.\n",
      "("
     ]
    },
    {
     "name": "stdout",
     "output_type": "stream",
     "text": [
      "value = \"holds\", time = 11.452769818, bytes = 7478019581, gctime = 0.681271206, gcstats = Base.GC_Diff(7478019581, 95877, 0, 45615998, 459472, 95752, 681271206, 30, 0))\n",
      "Instance 35.\n"
     ]
    },
    {
     "name": "stdout",
     "output_type": "stream",
     "text": [
      "(value = \"holds\", time = 3.699645832, bytes = 2470581691, gctime = 0.227497068, gcstats = Base.GC_Diff(2470581691, 32897, 0, 14688316, 147849, 31444, 227497068, 10, 0))\n",
      "Instance 36.\n",
      "("
     ]
    },
    {
     "name": "stdout",
     "output_type": "stream",
     "text": [
      "value = \"holds\", time = 28.975632385, bytes = 20244099997, gctime = 1.762286943, gcstats = Base.GC_Diff(20244099997, 217263, 0, 115705818, 1165637, 218380, 1762286943, 81, 0))\n",
      "Instance 37.\n"
     ]
    },
    {
     "name": "stdout",
     "output_type": "stream",
     "text": [
      "(value = \"holds\", time = 0.244111599, bytes = 177797999, gctime = 0.026460756, gcstats = Base.GC_Diff(177797999, 2927, 0, 827835, 7675, 2428, 26460756, 1, 0))\n",
      "Instance 38.\n",
      "("
     ]
    },
    {
     "name": "stdout",
     "output_type": "stream",
     "text": [
      "value = \"holds\", time = 0.304262282, bytes = 220598988, gctime = 0.021218273, gcstats = Base.GC_Diff(220598988, 3410, 0, 1135623, 10851, 3778, 21218273, 1, 0))\n",
      "Instance 39.\n"
     ]
    },
    {
     "name": "stdout",
     "output_type": "stream",
     "text": [
      "(value = \"holds\", time = 0.113363966, bytes = 96100635, gctime = 0.0, gcstats = Base.GC_Diff(96100635, 1533, 0, 431120, 4055, 0, 0, 0, 0))\n",
      "Instance 40.\n",
      "("
     ]
    },
    {
     "name": "stdout",
     "output_type": "stream",
     "text": [
      "value = \"holds\", time = 0.107508166, bytes = 86609850, gctime = 0.0, gcstats = Base.GC_Diff(86609850, 1311, 0, 420888, 4222, 0, 0, 0, 0))\n",
      "Instance 41.\n"
     ]
    },
    {
     "name": "stdout",
     "output_type": "stream",
     "text": [
      "(value = \"holds\", time = 0.486751715, bytes = 330676819, gctime = 0.040414802, gcstats = Base.GC_Diff(330676819, 5039, 0, 1809751, 17682, 7815, 40414802, 2, 0))\n",
      "Instance 42.\n",
      "("
     ]
    },
    {
     "name": "stdout",
     "output_type": "stream",
     "text": [
      "value = \"holds\", time = 2.352609355, bytes = 1577679328, gctime = 0.132554816, gcstats = Base.GC_Diff(1577679328, 20742, 0, 9452537, 96766, 20971, 132554816, 6, 0))\n",
      "Instance 43.\n"
     ]
    },
    {
     "name": "stdout",
     "output_type": "stream",
     "text": [
      "(value = \"holds\", time = 2.789808021, bytes = 1778480141, gctime = 0.165886307, gcstats = Base.GC_Diff(1778480141, 21788, 0, 11060688, 114971, 21200, 165886307, 7, 0))\n",
      "Instance 44.\n",
      "("
     ]
    },
    {
     "name": "stdout",
     "output_type": "stream",
     "text": [
      "value = \"holds\", time = 5.58385325, bytes = 3428579651, gctime = 0.310745273, gcstats = Base.GC_Diff(3428579651, 37121, 0, 23090776, 238372, 38111, 310745273, 13, 0))\n",
      "Instance 45.\n"
     ]
    },
    {
     "name": "stdout",
     "output_type": "stream",
     "text": [
      "(value = \"holds\", time = 3.982626021, bytes = 2759817804, gctime = 0.266091601, gcstats = Base.GC_Diff(2759817804, 38938, 0, 15488214, 155550, 37715, 266091601, 11, 0))\n",
      "Instance 46.\n",
      "timed out at:"
     ]
    },
    {
     "name": "stdout",
     "output_type": "stream",
     "text": [
      "161.61472121\n",
      "(value = \"unknown\", time = 161.764653232, bytes = 180615815479, gctime = 10.21302917, gcstats = Base.GC_Diff(180615815479, 149842, 1, 504921140, 4604345, 151012, 10213029170, 653, 0))\n",
      "Instance 47.\n",
      "("
     ]
    },
    {
     "name": "stdout",
     "output_type": "stream",
     "text": [
      "value = \"violated\", time = 3.228542647, bytes = 1408443597, gctime = 0.17816669, gcstats = Base.GC_Diff(1408443597, 5236, 0, 11951155, 119779, 4660, 178166690, 5, 0))\n",
      "Instance 48.\n",
      "("
     ]
    },
    {
     "name": "stdout",
     "output_type": "stream",
     "text": [
      "value = \"violated\", time = 56.880982689, bytes = 54027668248, gctime = 3.416973919, gcstats = Base.GC_Diff(54027668248, 66467, 0, 187583847, 1771261, 67093, 3416973919, 182, 0))\n",
      "Instance 49.\n",
      "("
     ]
    },
    {
     "name": "stdout",
     "output_type": "stream",
     "text": [
      "value = \"violated\", time = 3.188014833, bytes = 1601848133, gctime = 0.151881352, gcstats = Base.GC_Diff(1601848133, 9920, 0, 11897050, 122145, 8917, 151881352, 5, 0))\n",
      "Instance 50.\n",
      "("
     ]
    },
    {
     "name": "stdout",
     "output_type": "stream",
     "text": [
      "value = \"violated\", time = 111.654402172, bytes = 106614466352, gctime = 6.725444219, gcstats = Base.GC_Diff(106614466352, 109447, 1, 369757996, 3408333, 110336, 6725444219, 335, 0))\n",
      "Instance 51.\n",
      "("
     ]
    },
    {
     "name": "stdout",
     "output_type": "stream",
     "text": [
      "value = \"violated\", time = 12.233842526, bytes = 7161719122, gctime = 0.642128394, gcstats = Base.GC_Diff(7161719122, 36413, 0, 44309594, 457962, 36089, 642128394, 22, 0))\n",
      "Instance 52.\n",
      "timed out at:"
     ]
    },
    {
     "name": "stdout",
     "output_type": "stream",
     "text": [
      "116.552882518\n",
      "(value = \"unknown\", time = 116.556702936, bytes = 79105765481, gctime = 7.65931924, gcstats = Base.GC_Diff(79105765481, 94446, 1, 456986303, 4192458, 95256, 7659319240, 244, 2))\n",
      "Instance 53.\n",
      "("
     ]
    },
    {
     "name": "stdout",
     "output_type": "stream",
     "text": [
      "value = \"holds\", time = 29.270709301, bytes = 15393541707, gctime = 1.432852968, gcstats = Base.GC_Diff(15393541707, 29281, 0, 123174961, 1202790, 29279, 1432852968, 73, 0))\n",
      "Instance 54.\n"
     ]
    },
    {
     "name": "stdout",
     "output_type": "stream",
     "text": [
      "(value = \"holds\", time = 33.285698397, bytes = 17902054703, gctime = 1.688690766, gcstats = Base.GC_Diff(17902054703, 34015, 0, 139764266, 1371334, 34011, 1688690766, 82, 0))\n",
      "Instance 55.\n",
      "("
     ]
    },
    {
     "name": "stdout",
     "output_type": "stream",
     "text": [
      "value = \"violated\", time = 0.489125124, bytes = 303634434, gctime = 0.026444306, gcstats = Base.GC_Diff(303634434, 3128, 0, 1847809, 18900, 1411, 26444306, 1, 0))\n",
      "Instance 56.\n",
      "("
     ]
    },
    {
     "name": "stdout",
     "output_type": "stream",
     "text": [
      "value = \"violated\", time = 0.75624521, bytes = 494998666, gctime = 0.054976423, gcstats = Base.GC_Diff(494998666, 7035, 0, 2614375, 24948, 8100, 54976423, 3, 0))\n",
      "Instance 57.\n",
      "(value = \"violated\", time = 0.004873778, bytes = 3959481, gctime = 0.0, gcstats = Base.GC_Diff(3959481, 27, 0, 9333, 268, 0, 0, 0, 0))\n",
      "Instance 58.\n",
      "("
     ]
    },
    {
     "name": "stdout",
     "output_type": "stream",
     "text": [
      "value = \"violated\", time = 2.455755509, bytes = 1193604328, gctime = 0.109294323, gcstats = Base.GC_Diff(1193604328, 5020, 0, 10178728, 103967, 5384, 109294323, 5, 0))\n",
      "Instance 59.\n",
      "(value = \"violated\", time = 0.004925857, bytes = 4005306, gctime = 0.0, gcstats = Base.GC_Diff(4005306, 26, 0, 9332, 269, 0, 0, 0, 0))\n",
      "Instance 60.\n",
      "(value = \"violated\", time = 0.004946695, bytes = 4081001, gctime = 0.0, gcstats = Base.GC_Diff(4081001, 27, 0, 9335, 268, 0, 0, 0, 0))\n",
      "Instance 61.\n",
      "(value = \"violated\", time = 0.005219114, bytes = 4123856, gctime = 0.0, gcstats = Base.GC_Diff(4123856, 27, 0, 9335, 268, 0, 0, 0, 0))\n",
      "Instance 62.\n",
      "(value = \"violated\", time = 0.005251227, bytes = 4141352, gctime = 0.0, gcstats = Base.GC_Diff(4141352, 31, 0, 9339, 264, 0, 0, 0, 0))\n",
      "Instance 63.\n",
      "("
     ]
    },
    {
     "name": "stdout",
     "output_type": "stream",
     "text": [
      "value = \"violated\", time = 0.646140826, bytes = 428651470, gctime = 0.044777701, gcstats = Base.GC_Diff(428651470, 6200, 0, 2107139, 19416, 4862, 44777701, 2, 0))\n",
      "Instance 64.\n",
      "(value = \"violated\", time = 0.005201309, bytes = 3943030, gctime = 0.0, gcstats = Base.GC_Diff(3943030, 27, 0, 9335, 268, 0, 0, 0, 0))\n",
      "Instance 65.\n",
      "("
     ]
    },
    {
     "name": "stdout",
     "output_type": "stream",
     "text": [
      "value = \"violated\", time = 5.825635805, bytes = 3066357276, gctime = 0.287993128, gcstats = Base.GC_Diff(3066357276, 15951, 0, 23079824, 233742, 17452, 287993128, 14, 0))\n",
      "Instance 66.\n",
      "timed out at:"
     ]
    },
    {
     "name": "stdout",
     "output_type": "stream",
     "text": [
      "184.084482273\n",
      "(value = \"unknown\", time = 184.088674249, bytes = 270821628883, gctime = 12.105512646, gcstats = Base.GC_Diff(270821628883, 193152, 1, 504880735, 4897113, 193395, 12105512646, 1105, 0))\n",
      "Instance 67.\n",
      "(value = \"violated\", time = 0.005772532, bytes = 3895146, gctime = 0.0, gcstats = Base.GC_Diff(3895146, 26, 0, 9332, 269, 0, 0, 0, 0))\n",
      "Instance 68.\n",
      "(value = \"violated\", time = 0.005401197, bytes = 3971403, gctime = 0.0, gcstats = Base.GC_Diff(3971403, 26, 0, 9332, 269, 0, 0, 0, 0))\n",
      "Instance 69.\n",
      "("
     ]
    },
    {
     "name": "stdout",
     "output_type": "stream",
     "text": [
      "value = \"violated\", time = 0.197492382, bytes = 142595051, gctime = 0.012990969, gcstats = Base.GC_Diff(142595051, 2221, 0, 584468, 5039, 338, 12990969, 1, 0))\n",
      "Instance 70.\n",
      "("
     ]
    },
    {
     "name": "stdout",
     "output_type": "stream",
     "text": [
      "value = \"violated\", time = 0.735473747, bytes = 474193338, gctime = 0.034608077, gcstats = Base.GC_Diff(474193338, 5951, 0, 2610018, 25261, 6991, 34608077, 2, 0))\n",
      "Instance 71.\n",
      "("
     ]
    },
    {
     "name": "stdout",
     "output_type": "stream",
     "text": [
      "value = \"violated\", time = 0.917252983, bytes = 587203029, gctime = 0.037010665, gcstats = Base.GC_Diff(587203029, 6800, 0, 3371881, 33086, 6404, 37010665, 2, 0))\n",
      "Instance 72.\n",
      "(value = \"violated\", time = 0.004888528, bytes = 4106703, gctime = 0.0, gcstats = Base.GC_Diff(4106703, 31, 0, 9339, 264, 0, 0, 0, 0))\n",
      "Instance 73.\n",
      "("
     ]
    },
    {
     "name": "stdout",
     "output_type": "stream",
     "text": [
      "value = \"violated\", time = 4.19231774, bytes = 2360235729, gctime = 0.196370058, gcstats = Base.GC_Diff(2360235729, 20661, 0, 16519049, 165446, 20243, 196370058, 9, 0))\n",
      "Instance 74.\n",
      "timed out at:"
     ]
    },
    {
     "name": "stdout",
     "output_type": "stream",
     "text": [
      "199.769462705\n",
      "(value = \"unknown\", time = 199.773380597, bytes = 312740059248, gctime = 12.974028836, gcstats = Base.GC_Diff(312740059248, 189604, 1, 505335493, 4885042, 191419, 12974028836, 1106, 0))\n",
      "Instance 75.\n",
      "(value = \"violated\", time = 0.006085952, bytes = 3956955, gctime = 0.0, gcstats = Base.GC_Diff(3956955, 26, 0, 9332, 269, 0, 0, 0, 0))\n",
      "Instance 76.\n",
      "("
     ]
    },
    {
     "name": "stdout",
     "output_type": "stream",
     "text": [
      "value = \"violated\", time = 0.506873121, bytes = 267544868, gctime = 0.023177122, gcstats = Base.GC_Diff(267544868, 2459, 0, 1830106, 18318, 1898, 23177122, 1, 0))\n",
      "Instance 77.\n",
      "(value = \"violated\", time = 0.005201131, bytes = 4041610, gctime = 0.0, gcstats = Base.GC_Diff(4041610, 27, 0, 9334, 268, 0, 0, 0, 0))\n",
      "Instance 78.\n",
      "(value = \"violated\", time = 0.004885966, bytes = 4113579, gctime = 0.0, gcstats = Base.GC_Diff(4113579, 27, 0, 9335, 268, 0, 0, 0, 0))\n",
      "Instance 79.\n",
      "(value = \"violated\", time = 0.005161247, bytes = 4037285, gctime = 0.0, gcstats = Base.GC_Diff(4037285, 26, 0, 9332, 269, 0, 0, 0, 0))\n",
      "Instance 80.\n",
      "(value = \"violated\", time = 0.00544006, bytes = 4129155, gctime = 0.0, gcstats = Base.GC_Diff(4129155, 27, 0, 9334, 268, 0, 0, 0, 0))\n",
      "Instance 81.\n",
      "("
     ]
    },
    {
     "name": "stdout",
     "output_type": "stream",
     "text": [
      "value = \"violated\", time = 7.335402045, bytes = 4862674853, gctime = 0.338712529, gcstats = Base.GC_Diff(4862674853, 53730, 0, 26941395, 260849, 52855, 338712529, 16, 0))\n",
      "Instance 82.\n",
      "(value = \"violated\", time = 0.004854563, bytes = 3964647, gctime = 0.0, gcstats = Base.GC_Diff(3964647, 27, 0, 9335, 268, 0, 0, 0, 0))\n",
      "Instance 83.\n",
      "(value = \"violated\", time = 0.004689532, bytes = 3933780, gctime = 0.0, gcstats = Base.GC_Diff(3933780, 27, 0, 9335, 268, 0, 0, 0, 0))\n",
      "Instance 84.\n",
      "("
     ]
    },
    {
     "name": "stdout",
     "output_type": "stream",
     "text": [
      "value = \"violated\", time = 15.297825692, bytes = 8407968259, gctime = 0.697043873, gcstats = Base.GC_Diff(8407968259, 23023, 0, 60183229, 599834, 24192, 697043873, 28, 0))\n",
      "Instance 85.\n",
      "(value = \"violated\", time = 0.005020118, bytes = 3874210, gctime = 0.0, gcstats = Base.GC_Diff(3874210, 26, 0, 9332, 269, 0, 0, 0, 0))\n",
      "Instance 86.\n",
      "(value = \"violated\", time = 0.00490539, bytes = 4005179, gctime = 0.0, gcstats = Base.GC_Diff(4005179, 27, 0, 9335, 268, 0, 0, 0, 0))\n",
      "Instance 87.\n",
      "(value = \"violated\", time = 0.005296042, bytes = 4139752, gctime = 0.0, gcstats = Base.GC_Diff(4139752, 31, 0, 9339, 264, 0, 0, 0, 0))\n",
      "Instance 88.\n",
      "(value = \"violated\", time = 0.009100461, bytes = 4165045, gctime = 0.0, gcstats = Base.GC_Diff(4165045, 31, 0, 9339, 264, 0, 0, 0, 0))\n",
      "Instance 89.\n",
      "(value = \"violated\", time = 0.005596436, bytes = 4136843, gctime = 0.0, gcstats = Base.GC_Diff(4136843, 27, 0, 9335, 268, 0, 0, 0, 0))\n",
      "Instance 90.\n",
      "(value = \"violated\", time = 0.047430458, bytes = 4131300, gctime = 0.034399733, gcstats = Base.GC_Diff(4131300, 27, 0, 9335, 268, 723, 34399733, 1, 0))\n",
      "Instance 91.\n",
      "timed out at:"
     ]
    },
    {
     "name": "stdout",
     "output_type": "stream",
     "text": [
      "184.016933019\n",
      "(value = \"unknown\", time = 184.020995583, bytes = 261498556275, gctime = 11.057042657, gcstats = Base.GC_Diff(261498556275, 156313, 1, 504682026, 4806972, 156281, 11057042657, 813, 0))\n",
      "Instance 92.\n",
      "("
     ]
    },
    {
     "name": "stdout",
     "output_type": "stream",
     "text": [
      "value = \"holds\", time = 10.277944929, bytes = 4774602609, gctime = 0.449143713, gcstats = Base.GC_Diff(4774602609, 9097, 0, 43914996, 446150, 9132, 449143713, 14, 0))\n",
      "Instance 93.\n"
     ]
    },
    {
     "name": "stdout",
     "output_type": "stream",
     "text": [
      "timed out at:197.037601258\n",
      "(value = \"unknown\", time = 197.041597016, bytes = 316765811560, gctime = 12.352301629, gcstats = Base.GC_Diff(316765811560, 164738, 1, 504805598, 4734391, 164653, 12352301629, 887, 0))\n",
      "Instance 94.\n"
     ]
    },
    {
     "name": "stdout",
     "output_type": "stream",
     "text": [
      "(value = \"holds\", time = 0.121008222, bytes = 54250261, gctime = 0.0, gcstats = Base.GC_Diff(54250261, 39, 0, 523622, 5338, 0, 0, 0, 0))\n",
      "Instance 95.\n",
      "("
     ]
    },
    {
     "name": "stdout",
     "output_type": "stream",
     "text": [
      "value = \"holds\", time = 0.24499871, bytes = 102489192, gctime = 0.026438697, gcstats = Base.GC_Diff(102489192, 199, 0, 921677, 9565, 325, 26438697, 1, 0))\n",
      "Instance 96.\n",
      "(value = \"holds\", time = 0.008236252, bytes = 4972962, gctime = 0.0, gcstats = Base.GC_Diff(4972962, 18, 0, 24603, 443, 0, 0, 0, 0))\n",
      "Instance 97.\n",
      "(value = \"violated\", time = 0.004465387, bytes = 3003945, gctime = 0.0, gcstats = Base.GC_Diff(3003945, 10, 0, 9301, 281, 0, 0, 0, 0))\n",
      "Instance 98.\n",
      "(value = \"violated\", time = 0.004661033, bytes = 2962475, gctime = 0.0, gcstats = Base.GC_Diff(2962475, 5, 0, 9294, 286, 0, 0, 0, 0))\n",
      "Instance 99.\n",
      "(value = \"violated\", time = 0.004635644, bytes = 2933823, gctime = 0.0, gcstats = Base.GC_Diff(2933823, 5, 0, 9296, 284, 0, 0, 0, 0))\n",
      "Instance 100.\n",
      "("
     ]
    },
    {
     "name": "stdout",
     "output_type": "stream",
     "text": [
      "value = \"holds\", time = 6.582800328, bytes = 2681753346, gctime = 0.28897461, gcstats = Base.GC_Diff(2681753346, 4421, 0, 28436455, 279034, 4480, 288974610, 7, 0))\n",
      "Instance 101.\n"
     ]
    },
    {
     "name": "stdout",
     "output_type": "stream",
     "text": [
      "(value = \"holds\", time = 13.114065718, bytes = 5334328426, gctime = 0.558229781, gcstats = Base.GC_Diff(5334328426, 11181, 0, 58254300, 543704, 11180, 558229781, 14, 0))\n",
      "Instance 102.\n",
      "("
     ]
    },
    {
     "name": "stdout",
     "output_type": "stream",
     "text": [
      "value = \"holds\", time = 0.622205853, bytes = 255607721, gctime = 0.04568706, gcstats = Base.GC_Diff(255607721, 93, 0, 2621299, 26752, 94, 45687060, 1, 0))\n",
      "Instance 103.\n",
      "(value = \"holds\", time = 0.005871588, bytes = 3559256, gctime = 0.0, gcstats = Base.GC_Diff(3559256, 6, 0, 14408, 340, 0, 0, 0, 0))\n",
      "Instance 104.\n",
      "(value = \"holds\", time = 0.010424492, bytes = 6621066, gctime = 0.0, gcstats = Base.GC_Diff(6621066, 37, 0, 34785, 545, 0, 0, 0, 0))\n",
      "Instance 105.\n",
      "(value = \"holds\", time = 0.007167538, bytes = 4476617, gctime = 0.0, gcstats = Base.GC_Diff(4476617, 17, 0, 19546, 389, 0, 0, 0, 0))\n",
      "Instance 106.\n",
      "(value = \"holds\", time = 0.010637248, bytes = 6097488, gctime = 0.0, gcstats = Base.GC_Diff(6097488, 16, 0, 34819, 554, 0, 0, 0, 0))\n",
      "Instance 107.\n",
      "(value = \"holds\", time = 0.012412196, bytes = 7101112, gctime = 0.0, gcstats = Base.GC_Diff(7101112, 11, 0, 44819, 648, 0, 0, 0, 0))\n",
      "Instance 108.\n",
      "(value = \"holds\", time = 0.004527741, bytes = 2903886, gctime = 0.0, gcstats = Base.GC_Diff(2903886, 5, 0, 9287, 283, 0, 0, 0, 0))\n",
      "Instance 109.\n"
     ]
    },
    {
     "name": "stdout",
     "output_type": "stream",
     "text": [
      "(value = \"holds\", time = 0.255643348, bytes = 118308342, gctime = 0.0, gcstats = Base.GC_Diff(118308342, 136, 0, 1174502, 12279, 0, 0, 0, 0))\n",
      "Instance 110.\n",
      "("
     ]
    },
    {
     "name": "stdout",
     "output_type": "stream",
     "text": [
      "value = \"holds\", time = 43.888293323, bytes = 26998956364, gctime = 2.044439789, gcstats = Base.GC_Diff(26998956364, 35656, 0, 179881600, 1719954, 35921, 2044439789, 72, 0))\n",
      "Instance 111.\n"
     ]
    },
    {
     "name": "stdout",
     "output_type": "stream",
     "text": [
      "(value = \"holds\", time = 0.613832971, bytes = 305953795, gctime = 0.04387043, gcstats = Base.GC_Diff(305953795, 898, 0, 2587052, 28343, 528, 43870430, 1, 0))\n",
      "Instance 112.\n",
      "(value = \"holds\", time = 0.026168674, bytes = 15141850, gctime = 0.0, gcstats = Base.GC_Diff(15141850, 71, 0, 105613, 1274, 0, 0, 0, 0))\n",
      "Instance 113.\n",
      "(value = \"holds\", time = 0.00831236, bytes = 4978379, gctime = 0.0, gcstats = Base.GC_Diff(4978379, 20, 0, 24595, 443, 0, 0, 0, 0))\n",
      "Instance 114.\n",
      "(value = \"holds\", time = 0.019636454, bytes = 12053131, gctime = 0.0, gcstats = Base.GC_Diff(12053131, 82, 0, 75315, 953, 0, 0, 0, 0))\n",
      "Instance 115.\n",
      "(value = \"holds\", time = 0.005669796, bytes = 3706426, gctime = 0.0, gcstats = Base.GC_Diff(3706426, 19, 0, 14425, 330, 0, 0, 0, 0))\n",
      "Instance 116.\n",
      "(value = \"holds\", time = 0.0123708, bytes = 7186693, gctime = 0.0, gcstats = Base.GC_Diff(7186693, 13, 0, 44822, 661, 0, 0, 0, 0))\n",
      "Instance 117.\n",
      "(value = \"holds\", time = 0.016520748, bytes = 8731311, gctime = 0.0, gcstats = Base.GC_Diff(8731311, 18, 0, 60100, 822, 0, 0, 0, 0))\n",
      "Instance 118.\n",
      "("
     ]
    },
    {
     "name": "stdout",
     "output_type": "stream",
     "text": [
      "value = \"holds\", time = 23.874516926, bytes = 10984372657, gctime = 1.09446925, gcstats = Base.GC_Diff(10984372657, 20330, 0, 103154180, 917956, 20956, 1094469250, 29, 0))\n",
      "Instance 119.\n"
     ]
    },
    {
     "name": "stdout",
     "output_type": "stream",
     "text": [
      "timed out at:160.161102403\n",
      "(value = \"unknown\", time = 160.165228601, bytes = 189016935744, gctime = 8.853705526, gcstats = Base.GC_Diff(189016935744, 131902, 1, 504020240, 4778597, 131654, 8853705526, 471, 0))\n",
      "Instance 120.\n"
     ]
    },
    {
     "name": "stdout",
     "output_type": "stream",
     "text": [
      "(value = \"holds\", time = 3.039767039, bytes = 1316655627, gctime = 0.147199598, gcstats = Base.GC_Diff(1316655627, 2533, 0, 13055459, 134097, 2780, 147199598, 4, 0))\n",
      "Instance 121.\n",
      "(value = \"holds\", time = 0.009205611, bytes = 5343588, gctime = 0.0, gcstats = Base.GC_Diff(5343588, 12, 0, 29699, 497, 0, 0, 0, 0))\n",
      "Instance 122.\n",
      "(value = \"holds\", time = 0.007931511, bytes = 4576154, gctime = 0.0, gcstats = Base.GC_Diff(4576154, 10, 0, 24582, 435, 0, 0, 0, 0))\n",
      "Instance 123.\n",
      "(value = \"holds\", time = 0.050228376, bytes = 29214507, gctime = 0.0, gcstats = Base.GC_Diff(29214507, 217, 0, 211875, 2294, 0, 0, 0, 0))\n",
      "Instance 124.\n",
      "(value = \"holds\", time = 0.0151772, bytes = 8566341, gctime = 0.0, gcstats = Base.GC_Diff(8566341, 22, 0, 55006, 762, 0, 0, 0, 0))\n",
      "Instance 125.\n",
      "(value = \"holds\", time = 0.009617992, bytes = 5568979, gctime = 0.0, gcstats = Base.GC_Diff(5568979, 12, 0, 29693, 500, 0, 0, 0, 0))\n",
      "Instance 126.\n"
     ]
    },
    {
     "name": "stdout",
     "output_type": "stream",
     "text": [
      "(value = \"holds\", time = 0.015899523, bytes = 9394501, gctime = 0.0, gcstats = Base.GC_Diff(9394501, 61, 0, 55029, 741, 0, 0, 0, 0))\n",
      "Instance 127.\n",
      "("
     ]
    },
    {
     "name": "stdout",
     "output_type": "stream",
     "text": [
      "value = \"holds\", time = 33.481202737, bytes = 14775929495, gctime = 1.485439267, gcstats = Base.GC_Diff(14775929495, 28768, 0, 146303123, 1314567, 29129, 1485439267, 35, 0))\n",
      "Instance 128.\n"
     ]
    },
    {
     "name": "stdout",
     "output_type": "stream",
     "text": [
      "(value = \"holds\", time = 5.531255254, bytes = 1565012196, gctime = 1.221228235, gcstats = Base.GC_Diff(1565012196, 2460, 0, 19968905, 179725, 2578, 1221228235, 6, 2))\n",
      "Instance 129.\n",
      "("
     ]
    },
    {
     "name": "stdout",
     "output_type": "stream",
     "text": [
      "value = \"holds\", time = 0.284885192, bytes = 124771059, gctime = 0.0, gcstats = Base.GC_Diff(124771059, 73, 0, 1348476, 13376, 0, 0, 0, 0))\n",
      "Instance 130.\n",
      "(value = \"holds\", time = 0.014697724, bytes = 8114818, gctime = 0.0, gcstats = Base.GC_Diff(8114818, 20, 0, 55066, 761, 0, 0, 0, 0))\n",
      "Instance 131.\n",
      "(value = \"holds\", time = 0.036882015, bytes = 18893435, gctime = 0.0, gcstats = Base.GC_Diff(18893435, 44, 0, 156146, 1744, 0, 0, 0, 0))\n",
      "Instance 132.\n",
      "(value = \"holds\", time = 0.01496316, bytes = 9518008, gctime = 0.0, gcstats = Base.GC_Diff(9518008, 51, 0, 55029, 754, 0, 0, 0, 0))\n",
      "Instance 133.\n",
      "(value = \"holds\", time = 0.004539482, bytes = 2927253, gctime = 0.0, gcstats = Base.GC_Diff(2927253, 5, 0, 9287, 283, 0, 0, 0, 0))\n",
      "Instance 134.\n",
      "(value = \"holds\", time = 0.022873591, bytes = 12334123, gctime = 0.0, gcstats = Base.GC_Diff(12334123, 31, 0, 90325, 1142, 0, 0, 0, 0))\n",
      "Instance 135.\n",
      "("
     ]
    },
    {
     "name": "stdout",
     "output_type": "stream",
     "text": [
      "value = \"holds\", time = 0.015902237, bytes = 7421188, gctime = 0.0, gcstats = Base.GC_Diff(7421188, 6, 0, 60118, 785, 0, 0, 0, 0))\n",
      "Instance 136.\n"
     ]
    },
    {
     "name": "stdout",
     "output_type": "stream",
     "text": [
      "(value = \"holds\", time = 99.453084899, bytes = 77426421443, gctime = 4.944593953, gcstats = Base.GC_Diff(77426421443, 78134, 1, 393723269, 2663911, 78397, 4944593953, 341, 0))\n",
      "Instance 137.\n",
      "("
     ]
    },
    {
     "name": "stdout",
     "output_type": "stream",
     "text": [
      "value = \"holds\", time = 27.383085832, bytes = 13969208889, gctime = 1.244816829, gcstats = Base.GC_Diff(13969208889, 23184, 0, 118335722, 854129, 23183, 1244816829, 59, 0))\n",
      "Instance 138.\n"
     ]
    },
    {
     "name": "stdout",
     "output_type": "stream",
     "text": [
      "(value = \"holds\", time = 11.356660106, bytes = 5248256912, gctime = 0.498402243, gcstats = Base.GC_Diff(5248256912, 9752, 0, 49623012, 353109, 9750, 498402243, 21, 0))\n",
      "Instance 139.\n",
      "("
     ]
    },
    {
     "name": "stdout",
     "output_type": "stream",
     "text": [
      "value = \"holds\", time = 0.288425701, bytes = 90382621, gctime = 0.032481978, gcstats = Base.GC_Diff(90382621, 12, 0, 1134844, 8419, 12, 32481978, 1, 0))\n",
      "Instance 140.\n"
     ]
    },
    {
     "name": "stdout",
     "output_type": "stream",
     "text": [
      "(value = \"holds\", time = 0.284278045, bytes = 134151776, gctime = 0.0, gcstats = Base.GC_Diff(134151776, 251, 0, 1352859, 12435, 0, 0, 0, 0))\n",
      "Instance 141.\n",
      "("
     ]
    },
    {
     "name": "stdout",
     "output_type": "stream",
     "text": [
      "value = \"holds\", time = 0.10779179, bytes = 46692330, gctime = 0.0, gcstats = Base.GC_Diff(46692330, 42, 0, 479223, 4292, 0, 0, 0, 0))\n",
      "Instance 142.\n",
      "(value = \"violated\", time = 0.004942149, bytes = 2943025, gctime = 0.0, gcstats = Base.GC_Diff(2943025, 6, 0, 9304, 280, 0, 0, 0, 0))\n",
      "Instance 143.\n",
      "(value = \"violated\", time = 0.004967489, bytes = 2993875, gctime = 0.0, gcstats = Base.GC_Diff(2993875, 10, 0, 9306, 280, 0, 0, 0, 0))\n",
      "Instance 144.\n",
      "(value = \"violated\", time = 0.004975441, bytes = 2891991, gctime = 0.0, gcstats = Base.GC_Diff(2891991, 5, 0, 9298, 278, 0, 0, 0, 0))\n",
      "Instance 145.\n"
     ]
    },
    {
     "name": "stdout",
     "output_type": "stream",
     "text": [
      "(value = \"holds\", time = 0.724602011, bytes = 245453914, gctime = 0.055876711, gcstats = Base.GC_Diff(245453914, 46, 0, 3040714, 21633, 386, 55876711, 2, 0))\n",
      "Instance 146.\n",
      "("
     ]
    },
    {
     "name": "stdout",
     "output_type": "stream",
     "text": [
      "value = \"holds\", time = 0.780872556, bytes = 295587458, gctime = 0.027234829, gcstats = Base.GC_Diff(295587458, 63, 0, 3546124, 27993, 68, 27234829, 1, 0))\n",
      "Instance 147.\n",
      "(value = \"holds\", time = 0.045766876, bytes = 20692417, gctime = 0.0, gcstats = Base.GC_Diff(20692417, 19, 0, 196517, 1981, 0, 0, 0, 0))\n",
      "Instance 148.\n",
      "(value = \"holds\", time = 0.010451935, bytes = 5779216, gctime = 0.0, gcstats = Base.GC_Diff(5779216, 19, 0, 34792, 505, 0, 0, 0, 0))\n",
      "Instance 149.\n"
     ]
    },
    {
     "name": "stdout",
     "output_type": "stream",
     "text": [
      "(value = \"holds\", time = 0.073068331, bytes = 33200930, gctime = 0.0, gcstats = Base.GC_Diff(33200930, 47, 0, 337677, 3128, 0, 0, 0, 0))\n",
      "Instance 150.\n",
      "(value = \"holds\", time = 0.012871099, bytes = 7980689, gctime = 0.0, gcstats = Base.GC_Diff(7980689, 54, 0, 44929, 604, 0, 0, 0, 0))\n",
      "Instance 151.\n",
      "(value = \"holds\", time = 0.010887282, bytes = 6089400, gctime = 0.0, gcstats = Base.GC_Diff(6089400, 18, 0, 34779, 513, 0, 0, 0, 0))\n",
      "Instance 152.\n",
      "(value = \"holds\", time = 0.02225007, bytes = 13794560, gctime = 0.0, gcstats = Base.GC_Diff(13794560, 73, 0, 85455, 977, 0, 0, 0, 0))\n",
      "Instance 153.\n",
      "(value = \"holds\", time = 0.005765868, bytes = 3515686, gctime = 0.0, gcstats = Base.GC_Diff(3515686, 5, 0, 14422, 326, 0, 0, 0, 0))\n",
      "Instance 154.\n",
      "("
     ]
    },
    {
     "name": "stdout",
     "output_type": "stream",
     "text": [
      "value = \"holds\", time = 5.097181503, bytes = 2121023966, gctime = 0.228450881, gcstats = Base.GC_Diff(2121023966, 3683, 0, 22477286, 186304, 3957, 228450881, 9, 0))\n",
      "Instance 155.\n",
      "(value = \"holds\", time = 0.04332094, bytes = 20396532, gctime = 0.0, gcstats = Base.GC_Diff(20396532, 44, 0, 186638, 1849, 0, 0, 0, 0))\n",
      "Instance 156.\n",
      "("
     ]
    },
    {
     "name": "stdout",
     "output_type": "stream",
     "text": [
      "value = \"holds\", time = 0.063580323, bytes = 27953131, gctime = 0.0, gcstats = Base.GC_Diff(27953131, 19, 0, 292582, 2562, 0, 0, 0, 0))\n",
      "Instance 157.\n",
      "(value = \"holds\", time = 0.010472317, bytes = 5624178, gctime = 0.0, gcstats = Base.GC_Diff(5624178, 13, 0, 34802, 509, 0, 0, 0, 0))\n",
      "Instance 158.\n",
      "(value = \"holds\", time = 0.025244792, bytes = 13404675, gctime = 0.0, gcstats = Base.GC_Diff(13404675, 63, 0, 100630, 1123, 0, 0, 0, 0))\n",
      "Instance 159.\n",
      "(value = \"holds\", time = 0.009704732, bytes = 6094435, gctime = 0.0, gcstats = Base.GC_Diff(6094435, 51, 0, 29776, 449, 0, 0, 0, 0))\n",
      "Instance 160.\n",
      "(value = \"holds\", time = 0.008228872, bytes = 5008626, gctime = 0.0, gcstats = Base.GC_Diff(5008626, 16, 0, 24597, 426, 0, 0, 0, 0))\n",
      "Instance 161.\n",
      "(value = \"holds\", time = 0.013540443, bytes = 7625645, gctime = 0.0, gcstats = Base.GC_Diff(7625645, 23, 0, 49992, 649, 0, 0, 0, 0))\n",
      "Instance 162.\n",
      "(value = \"holds\", time = 0.015544477, bytes = 9625751, gctime = 0.0, gcstats = Base.GC_Diff(9625751, 66, 0, 55109, 691, 0, 0, 0, 0))\n",
      "Instance 163.\n"
     ]
    },
    {
     "name": "stdout",
     "output_type": "stream",
     "text": [
      "(value = \"holds\", time = 0.425088026, bytes = 143596649, gctime = 0.028069519, gcstats = Base.GC_Diff(143596649, 7, 0, 1855974, 14450, 340, 28069519, 1, 0))\n",
      "Instance 164.\n",
      "(value = \"holds\", time = 0.048028191, bytes = 22269656, gctime = 0.0, gcstats = Base.GC_Diff(22269656, 36, 0, 206695, 2024, 0, 0, 0, 0))\n",
      "Instance 165.\n"
     ]
    },
    {
     "name": "stdout",
     "output_type": "stream",
     "text": [
      "(value = \"holds\", time = 0.209576539, bytes = 89066787, gctime = 0.0, gcstats = Base.GC_Diff(89066787, 30, 0, 962743, 8324, 0, 0, 0, 0))\n",
      "Instance 166.\n",
      "(value = \"holds\", time = 0.013756166, bytes = 7469404, gctime = 0.0, gcstats = Base.GC_Diff(7469404, 30, 0, 44885, 614, 0, 0, 0, 0))\n",
      "Instance 167.\n",
      "(value = \"holds\", time = 0.008545212, bytes = 5228818, gctime = 0.0, gcstats = Base.GC_Diff(5228818, 27, 0, 24609, 426, 0, 0, 0, 0))\n",
      "Instance 168.\n",
      "(value = \"holds\", time = 0.00838046, bytes = 5254979, gctime = 0.0, gcstats = Base.GC_Diff(5254979, 42, 0, 24643, 405, 0, 0, 0, 0))\n",
      "Instance 169.\n",
      "(value = \"holds\", time = 0.012832424, bytes = 6468221, gctime = 0.0, gcstats = Base.GC_Diff(6468221, 17, 0, 44884, 589, 0, 0, 0, 0))\n",
      "Instance 170.\n",
      "(value = \"holds\", time = 0.038603643, bytes = 19155723, gctime = 0.0, gcstats = Base.GC_Diff(19155723, 36, 0, 156182, 1621, 0, 0, 0, 0))\n",
      "Instance 171.\n",
      "(value = \"holds\", time = 0.010969589, bytes = 5727501, gctime = 0.0, gcstats = Base.GC_Diff(5727501, 29, 0, 29826, 463, 0, 0, 0, 0))\n",
      "Instance 172.\n",
      "("
     ]
    },
    {
     "name": "stdout",
     "output_type": "stream",
     "text": [
      "value = \"holds\", time = 0.238697208, bytes = 81374495, gctime = 0.031541907, gcstats = Base.GC_Diff(81374495, 29, 0, 918804, 7757, 306, 31541907, 1, 0))\n",
      "Instance 173.\n",
      "(value = \"holds\", time = 0.02104346, bytes = 10477340, gctime = 0.0, gcstats = Base.GC_Diff(10477340, 19, 0, 85394, 936, 0, 0, 0, 0))\n",
      "Instance 174.\n",
      "(value = \"holds\", time = 0.014594351, bytes = 8157851, gctime = 0.0, gcstats = Base.GC_Diff(8157851, 25, 0, 55068, 711, 0, 0, 0, 0))\n",
      "Instance 175.\n",
      "(value = \"holds\", time = 0.012558936, bytes = 6911322, gctime = 0.0, gcstats = Base.GC_Diff(6911322, 21, 0, 44886, 609, 0, 0, 0, 0))\n",
      "Instance 176.\n",
      "(value = \"holds\", time = 0.017624567, bytes = 9113539, gctime = 0.0, gcstats = Base.GC_Diff(9113539, 23, 0, 65277, 792, 0, 0, 0, 0))\n",
      "Instance 177.\n",
      "(value = \"holds\", time = 0.010811055, bytes = 6218384, gctime = 0.0, gcstats = Base.GC_Diff(6218384, 29, 0, 34808, 516, 0, 0, 0, 0))\n",
      "Instance 178.\n",
      "(value = \"holds\", time = 0.008727566, bytes = 4672189, gctime = 0.0, gcstats = Base.GC_Diff(4672189, 12, 0, 24686, 418, 0, 0, 0, 0))\n",
      "Instance 179.\n"
     ]
    },
    {
     "name": "stdout",
     "output_type": "stream",
     "text": [
      "(value = \"holds\", time = 0.013205213, bytes = 7154787, gctime = 0.0, gcstats = Base.GC_Diff(7154787, 23, 0, 44889, 600, 0, 0, 0, 0))\n",
      "Instance 180.\n",
      "(value = \"holds\", time = 0.007393886, bytes = 4472236, gctime = 0.0, gcstats = Base.GC_Diff(4472236, 17, 0, 19564, 375, 0, 0, 0, 0))\n",
      "Instance 181.\n"
     ]
    },
    {
     "name": "stdout",
     "output_type": "stream",
     "text": [
      "timed out at:124.199495341\n",
      "(value = \"unknown\", time = 124.203946324, bytes = 72124282931, gctime = 5.920438251, gcstats = Base.GC_Diff(72124282931, 109105, 0, 531415099, 4968263, 109092, 5920438251, 282, 0))\n",
      "Instance 182.\n"
     ]
    },
    {
     "name": "stdout",
     "output_type": "stream",
     "text": [
      "timed out at:231.78623178700002\n",
      "(value = \"unknown\", time = 231.791198718, bytes = 232291751347, gctime = 12.448461302, gcstats = Base.GC_Diff(232291751347, 278665, 1, 808780608, 7781465, 278876, 12448461302, 784, 0))\n",
      "Instance 183.\n"
     ]
    },
    {
     "name": "stdout",
     "output_type": "stream",
     "text": [
      "timed out at:306.54381229\n",
      "(value = \"unknown\", time = 306.589486768, bytes = 626209829226, gctime = 20.438868487, gcstats = Base.GC_Diff(626209829226, 3032556, 1, 505585902, 3526350, 3032537, 20438868487, 1722, 0))\n",
      "Instance 184.\n"
     ]
    },
    {
     "name": "stdout",
     "output_type": "stream",
     "text": [
      "timed out at:240.185056719\n",
      "(value = \"unknown\", time = 240.245977276, bytes = 449800161919, gctime = 15.720090401, gcstats = Base.GC_Diff(449800161919, 1483796, 1, 497084480, 4581210, 1483838, 15720090401, 1223, 2))\n",
      "Instance 185.\n"
     ]
    },
    {
     "name": "stdout",
     "output_type": "stream",
     "text": [
      "timed out at:149.031296366\n",
      "(value = \"unknown\", time = 149.035824114, bytes = 179993077347, gctime = 7.625395195, gcstats = Base.GC_Diff(179993077347, 129322, 1, 487227270, 4687937, 129365, 7625395195, 563, 0))\n",
      "Instance 186.\n"
     ]
    },
    {
     "name": "stdout",
     "output_type": "stream",
     "text": [
      "(value = \"holds\", time = 12.108418566, bytes = 5957749450, gctime = 0.541219703, gcstats = Base.GC_Diff(5957749450, 24808, 0, 53355636, 549580, 24813, 541219703, 18, 0))\n"
     ]
    },
    {
     "data": {
      "text/plain": [
       "\"./result.csv\""
      ]
     },
     "metadata": {},
     "output_type": "display_data"
    }
   ],
   "source": [
    "run_all(\"../../vnncomp2021/benchmarks/acasxu/acasxu_instances.csv\", \"./result.csv\")"
   ]
  },
  {
   "cell_type": "code",
   "execution_count": 10,
   "metadata": {},
   "outputs": [],
   "source": [
    "using Plots"
   ]
  },
  {
   "cell_type": "code",
   "execution_count": 23,
   "metadata": {},
   "outputs": [
    {
     "data": {
      "image/png": "[encoded data removed]",
      "image/svg+xml": [
       "<?xml version=\"1.0\" encoding=\"utf-8\"?>\n",
       "<svg xmlns=\"http://www.w3.org/2000/svg\" xmlns:xlink=\"http://www.w3.org/1999/xlink\" width=\"600\" height=\"400\" viewBox=\"0 0 2400 1600\">\n",
       "<defs>\n",
       "  <clipPath id=\"clip140\">\n",
       "    <rect x=\"0\" y=\"0\" width=\"2400\" height=\"1600\"/>\n",
       "  </clipPath>\n",
       "</defs>\n",
       "<path clip-path=\"url(#clip140)\" d=\"M0 1600 L2400 1600 L2400 0 L0 0  Z\" fill=\"#ffffff\" fill-rule=\"evenodd\" fill-opacity=\"1\"/>\n",
       "<defs>\n",
       "  <clipPath id=\"clip141\">\n",
       "    <rect x=\"480\" y=\"0\" width=\"1681\" height=\"1600\"/>\n",
       "  </clipPath>\n",
       "</defs>\n",
       "<path clip-path=\"url(#clip140)\" d=\"M232.389 1423.18 L2352.76 1423.18 L2352.76 47.2441 L232.389 47.2441  Z\" fill=\"#ffffff\" fill-rule=\"evenodd\" fill-opacity=\"1\"/>\n",
       "<defs>\n",
       "  <clipPath id=\"clip142\">\n",
       "    <rect x=\"232\" y=\"47\" width=\"2121\" height=\"1377\"/>\n",
       "  </clipPath>\n",
       "</defs>\n",
       "<polyline clip-path=\"url(#clip142)\" style=\"stroke:#000000; stroke-linecap:round; stroke-linejoin:round; stroke-width:2; stroke-opacity:0.1; fill:none\" points=\"349.013,1423.18 349.013,47.2441 \"/>\n",
       "<polyline clip-path=\"url(#clip142)\" style=\"stroke:#000000; stroke-linecap:round; stroke-linejoin:round; stroke-width:2; stroke-opacity:0.1; fill:none\" points=\"668.864,1423.18 668.864,47.2441 \"/>\n",
       "<polyline clip-path=\"url(#clip142)\" style=\"stroke:#000000; stroke-linecap:round; stroke-linejoin:round; stroke-width:2; stroke-opacity:0.1; fill:none\" points=\"988.715,1423.18 988.715,47.2441 \"/>\n",
       "<polyline clip-path=\"url(#clip142)\" style=\"stroke:#000000; stroke-linecap:round; stroke-linejoin:round; stroke-width:2; stroke-opacity:0.1; fill:none\" points=\"1308.57,1423.18 1308.57,47.2441 \"/>\n",
       "<polyline clip-path=\"url(#clip142)\" style=\"stroke:#000000; stroke-linecap:round; stroke-linejoin:round; stroke-width:2; stroke-opacity:0.1; fill:none\" points=\"1628.42,1423.18 1628.42,47.2441 \"/>\n",
       "<polyline clip-path=\"url(#clip142)\" style=\"stroke:#000000; stroke-linecap:round; stroke-linejoin:round; stroke-width:2; stroke-opacity:0.1; fill:none\" points=\"1948.27,1423.18 1948.27,47.2441 \"/>\n",
       "<polyline clip-path=\"url(#clip142)\" style=\"stroke:#000000; stroke-linecap:round; stroke-linejoin:round; stroke-width:2; stroke-opacity:0.1; fill:none\" points=\"2268.12,1423.18 2268.12,47.2441 \"/>\n",
       "<polyline clip-path=\"url(#clip140)\" style=\"stroke:#000000; stroke-linecap:round; stroke-linejoin:round; stroke-width:4; stroke-opacity:1; fill:none\" points=\"232.389,1423.18 2352.76,1423.18 \"/>\n",
       "<polyline clip-path=\"url(#clip140)\" style=\"stroke:#000000; stroke-linecap:round; stroke-linejoin:round; stroke-width:4; stroke-opacity:1; fill:none\" points=\"349.013,1423.18 349.013,1404.28 \"/>\n",
       "<polyline clip-path=\"url(#clip140)\" style=\"stroke:#000000; stroke-linecap:round; stroke-linejoin:round; stroke-width:4; stroke-opacity:1; fill:none\" points=\"668.864,1423.18 668.864,1404.28 \"/>\n",
       "<polyline clip-path=\"url(#clip140)\" style=\"stroke:#000000; stroke-linecap:round; stroke-linejoin:round; stroke-width:4; stroke-opacity:1; fill:none\" points=\"988.715,1423.18 988.715,1404.28 \"/>\n",
       "<polyline clip-path=\"url(#clip140)\" style=\"stroke:#000000; stroke-linecap:round; stroke-linejoin:round; stroke-width:4; stroke-opacity:1; fill:none\" points=\"1308.57,1423.18 1308.57,1404.28 \"/>\n",
       "<polyline clip-path=\"url(#clip140)\" style=\"stroke:#000000; stroke-linecap:round; stroke-linejoin:round; stroke-width:4; stroke-opacity:1; fill:none\" points=\"1628.42,1423.18 1628.42,1404.28 \"/>\n",
       "<polyline clip-path=\"url(#clip140)\" style=\"stroke:#000000; stroke-linecap:round; stroke-linejoin:round; stroke-width:4; stroke-opacity:1; fill:none\" points=\"1948.27,1423.18 1948.27,1404.28 \"/>\n",
       "<polyline clip-path=\"url(#clip140)\" style=\"stroke:#000000; stroke-linecap:round; stroke-linejoin:round; stroke-width:4; stroke-opacity:1; fill:none\" points=\"2268.12,1423.18 2268.12,1404.28 \"/>\n",
       "<path clip-path=\"url(#clip140)\" d=\"M349.013 1454.1 Q345.402 1454.1 343.573 1457.66 Q341.768 1461.2 341.768 1468.33 Q341.768 1475.44 343.573 1479.01 Q345.402 1482.55 349.013 1482.55 Q352.648 1482.55 354.453 1479.01 Q356.282 1475.44 356.282 1468.33 Q356.282 1461.2 354.453 1457.66 Q352.648 1454.1 349.013 1454.1 M349.013 1450.39 Q354.823 1450.39 357.879 1455 Q360.958 1459.58 360.958 1468.33 Q360.958 1477.06 357.879 1481.67 Q354.823 1486.25 349.013 1486.25 Q343.203 1486.25 340.124 1481.67 Q337.069 1477.06 337.069 1468.33 Q337.069 1459.58 340.124 1455 Q343.203 1450.39 349.013 1450.39 Z\" fill=\"#000000\" fill-rule=\"nonzero\" fill-opacity=\"1\" /><path clip-path=\"url(#clip140)\" d=\"M647.637 1481.64 L663.957 1481.64 L663.957 1485.58 L642.012 1485.58 L642.012 1481.64 Q644.674 1478.89 649.258 1474.26 Q653.864 1469.61 655.045 1468.27 Q657.29 1465.74 658.17 1464.01 Q659.072 1462.25 659.072 1460.56 Q659.072 1457.8 657.128 1456.07 Q655.207 1454.33 652.105 1454.33 Q649.906 1454.33 647.452 1455.09 Q645.021 1455.86 642.244 1457.41 L642.244 1452.69 Q645.068 1451.55 647.521 1450.97 Q649.975 1450.39 652.012 1450.39 Q657.382 1450.39 660.577 1453.08 Q663.771 1455.77 663.771 1460.26 Q663.771 1462.39 662.961 1464.31 Q662.174 1466.2 660.068 1468.8 Q659.489 1469.47 656.387 1472.69 Q653.285 1475.88 647.637 1481.64 Z\" fill=\"#000000\" fill-rule=\"nonzero\" fill-opacity=\"1\" /><path clip-path=\"url(#clip140)\" d=\"M683.771 1454.1 Q680.16 1454.1 678.331 1457.66 Q676.526 1461.2 676.526 1468.33 Q676.526 1475.44 678.331 1479.01 Q680.16 1482.55 683.771 1482.55 Q687.405 1482.55 689.211 1479.01 Q691.04 1475.44 691.04 1468.33 Q691.04 1461.2 689.211 1457.66 Q687.405 1454.1 683.771 1454.1 M683.771 1450.39 Q689.581 1450.39 692.637 1455 Q695.716 1459.58 695.716 1468.33 Q695.716 1477.06 692.637 1481.67 Q689.581 1486.25 683.771 1486.25 Q677.961 1486.25 674.882 1481.67 Q671.827 1477.06 671.827 1468.33 Q671.827 1459.58 674.882 1455 Q677.961 1450.39 683.771 1450.39 Z\" fill=\"#000000\" fill-rule=\"nonzero\" fill-opacity=\"1\" /><path clip-path=\"url(#clip140)\" d=\"M976.886 1455.09 L965.08 1473.54 L976.886 1473.54 L976.886 1455.09 M975.659 1451.02 L981.539 1451.02 L981.539 1473.54 L986.469 1473.54 L986.469 1477.43 L981.539 1477.43 L981.539 1485.58 L976.886 1485.58 L976.886 1477.43 L961.284 1477.43 L961.284 1472.92 L975.659 1451.02 Z\" fill=\"#000000\" fill-rule=\"nonzero\" fill-opacity=\"1\" /><path clip-path=\"url(#clip140)\" d=\"M1004.2 1454.1 Q1000.59 1454.1 998.761 1457.66 Q996.955 1461.2 996.955 1468.33 Q996.955 1475.44 998.761 1479.01 Q1000.59 1482.55 1004.2 1482.55 Q1007.83 1482.55 1009.64 1479.01 Q1011.47 1475.44 1011.47 1468.33 Q1011.47 1461.2 1009.64 1457.66 Q1007.83 1454.1 1004.2 1454.1 M1004.2 1450.39 Q1010.01 1450.39 1013.07 1455 Q1016.14 1459.58 1016.14 1468.33 Q1016.14 1477.06 1013.07 1481.67 Q1010.01 1486.25 1004.2 1486.25 Q998.39 1486.25 995.312 1481.67 Q992.256 1477.06 992.256 1468.33 Q992.256 1459.58 995.312 1455 Q998.39 1450.39 1004.2 1450.39 Z\" fill=\"#000000\" fill-rule=\"nonzero\" fill-opacity=\"1\" /><path clip-path=\"url(#clip140)\" d=\"M1293.97 1466.44 Q1290.82 1466.44 1288.97 1468.59 Q1287.14 1470.74 1287.14 1474.49 Q1287.14 1478.22 1288.97 1480.39 Q1290.82 1482.55 1293.97 1482.55 Q1297.12 1482.55 1298.95 1480.39 Q1300.8 1478.22 1300.8 1474.49 Q1300.8 1470.74 1298.95 1468.59 Q1297.12 1466.44 1293.97 1466.44 M1303.25 1451.78 L1303.25 1456.04 Q1301.49 1455.21 1299.69 1454.77 Q1297.91 1454.33 1296.15 1454.33 Q1291.52 1454.33 1289.06 1457.45 Q1286.63 1460.58 1286.29 1466.9 Q1287.65 1464.89 1289.71 1463.82 Q1291.77 1462.73 1294.25 1462.73 Q1299.46 1462.73 1302.47 1465.9 Q1305.5 1469.05 1305.5 1474.49 Q1305.5 1479.82 1302.35 1483.03 Q1299.2 1486.25 1293.97 1486.25 Q1287.97 1486.25 1284.8 1481.67 Q1281.63 1477.06 1281.63 1468.33 Q1281.63 1460.14 1285.52 1455.28 Q1289.41 1450.39 1295.96 1450.39 Q1297.72 1450.39 1299.5 1450.74 Q1301.31 1451.09 1303.25 1451.78 Z\" fill=\"#000000\" fill-rule=\"nonzero\" fill-opacity=\"1\" /><path clip-path=\"url(#clip140)\" d=\"M1323.55 1454.1 Q1319.94 1454.1 1318.11 1457.66 Q1316.31 1461.2 1316.31 1468.33 Q1316.31 1475.44 1318.11 1479.01 Q1319.94 1482.55 1323.55 1482.55 Q1327.19 1482.55 1328.99 1479.01 Q1330.82 1475.44 1330.82 1468.33 Q1330.82 1461.2 1328.99 1457.66 Q1327.19 1454.1 1323.55 1454.1 M1323.55 1450.39 Q1329.36 1450.39 1332.42 1455 Q1335.5 1459.58 1335.5 1468.33 Q1335.5 1477.06 1332.42 1481.67 Q1329.36 1486.25 1323.55 1486.25 Q1317.74 1486.25 1314.66 1481.67 Q1311.61 1477.06 1311.61 1468.33 Q1311.61 1459.58 1314.66 1455 Q1317.74 1450.39 1323.55 1450.39 Z\" fill=\"#000000\" fill-rule=\"nonzero\" fill-opacity=\"1\" /><path clip-path=\"url(#clip140)\" d=\"M1613.29 1469.17 Q1609.96 1469.17 1608.03 1470.95 Q1606.14 1472.73 1606.14 1475.86 Q1606.14 1478.98 1608.03 1480.77 Q1609.96 1482.55 1613.29 1482.55 Q1616.62 1482.55 1618.54 1480.77 Q1620.46 1478.96 1620.46 1475.86 Q1620.46 1472.73 1618.54 1470.95 Q1616.65 1469.17 1613.29 1469.17 M1608.61 1467.18 Q1605.6 1466.44 1603.91 1464.38 Q1602.25 1462.32 1602.25 1459.35 Q1602.25 1455.21 1605.19 1452.8 Q1608.15 1450.39 1613.29 1450.39 Q1618.45 1450.39 1621.39 1452.8 Q1624.33 1455.21 1624.33 1459.35 Q1624.33 1462.32 1622.64 1464.38 Q1620.97 1466.44 1617.99 1467.18 Q1621.37 1467.96 1623.24 1470.26 Q1625.14 1472.55 1625.14 1475.86 Q1625.14 1480.88 1622.06 1483.57 Q1619.01 1486.25 1613.29 1486.25 Q1607.57 1486.25 1604.49 1483.57 Q1601.44 1480.88 1601.44 1475.86 Q1601.44 1472.55 1603.33 1470.26 Q1605.23 1467.96 1608.61 1467.18 M1606.9 1459.79 Q1606.9 1462.48 1608.57 1463.98 Q1610.26 1465.49 1613.29 1465.49 Q1616.3 1465.49 1617.99 1463.98 Q1619.7 1462.48 1619.7 1459.79 Q1619.7 1457.11 1617.99 1455.6 Q1616.3 1454.1 1613.29 1454.1 Q1610.26 1454.1 1608.57 1455.6 Q1606.9 1457.11 1606.9 1459.79 Z\" fill=\"#000000\" fill-rule=\"nonzero\" fill-opacity=\"1\" /><path clip-path=\"url(#clip140)\" d=\"M1643.45 1454.1 Q1639.84 1454.1 1638.01 1457.66 Q1636.21 1461.2 1636.21 1468.33 Q1636.21 1475.44 1638.01 1479.01 Q1639.84 1482.55 1643.45 1482.55 Q1647.08 1482.55 1648.89 1479.01 Q1650.72 1475.44 1650.72 1468.33 Q1650.72 1461.2 1648.89 1457.66 Q1647.08 1454.1 1643.45 1454.1 M1643.45 1450.39 Q1649.26 1450.39 1652.32 1455 Q1655.39 1459.58 1655.39 1468.33 Q1655.39 1477.06 1652.32 1481.67 Q1649.26 1486.25 1643.45 1486.25 Q1637.64 1486.25 1634.56 1481.67 Q1631.51 1477.06 1631.51 1468.33 Q1631.51 1459.58 1634.56 1455 Q1637.64 1450.39 1643.45 1450.39 Z\" fill=\"#000000\" fill-rule=\"nonzero\" fill-opacity=\"1\" /><path clip-path=\"url(#clip140)\" d=\"M1907.87 1481.64 L1915.51 1481.64 L1915.51 1455.28 L1907.2 1456.95 L1907.2 1452.69 L1915.47 1451.02 L1920.14 1451.02 L1920.14 1481.64 L1927.78 1481.64 L1927.78 1485.58 L1907.87 1485.58 L1907.87 1481.64 Z\" fill=\"#000000\" fill-rule=\"nonzero\" fill-opacity=\"1\" /><path clip-path=\"url(#clip140)\" d=\"M1947.22 1454.1 Q1943.61 1454.1 1941.78 1457.66 Q1939.98 1461.2 1939.98 1468.33 Q1939.98 1475.44 1941.78 1479.01 Q1943.61 1482.55 1947.22 1482.55 Q1950.86 1482.55 1952.66 1479.01 Q1954.49 1475.44 1954.49 1468.33 Q1954.49 1461.2 1952.66 1457.66 Q1950.86 1454.1 1947.22 1454.1 M1947.22 1450.39 Q1953.03 1450.39 1956.09 1455 Q1959.17 1459.58 1959.17 1468.33 Q1959.17 1477.06 1956.09 1481.67 Q1953.03 1486.25 1947.22 1486.25 Q1941.41 1486.25 1938.34 1481.67 Q1935.28 1477.06 1935.28 1468.33 Q1935.28 1459.58 1938.34 1455 Q1941.41 1450.39 1947.22 1450.39 Z\" fill=\"#000000\" fill-rule=\"nonzero\" fill-opacity=\"1\" /><path clip-path=\"url(#clip140)\" d=\"M1977.39 1454.1 Q1973.78 1454.1 1971.95 1457.66 Q1970.14 1461.2 1970.14 1468.33 Q1970.14 1475.44 1971.95 1479.01 Q1973.78 1482.55 1977.39 1482.55 Q1981.02 1482.55 1982.83 1479.01 Q1984.66 1475.44 1984.66 1468.33 Q1984.66 1461.2 1982.83 1457.66 Q1981.02 1454.1 1977.39 1454.1 M1977.39 1450.39 Q1983.2 1450.39 1986.25 1455 Q1989.33 1459.58 1989.33 1468.33 Q1989.33 1477.06 1986.25 1481.67 Q1983.2 1486.25 1977.39 1486.25 Q1971.58 1486.25 1968.5 1481.67 Q1965.44 1477.06 1965.44 1468.33 Q1965.44 1459.58 1968.5 1455 Q1971.58 1450.39 1977.39 1450.39 Z\" fill=\"#000000\" fill-rule=\"nonzero\" fill-opacity=\"1\" /><path clip-path=\"url(#clip140)\" d=\"M2227.72 1481.64 L2235.36 1481.64 L2235.36 1455.28 L2227.05 1456.95 L2227.05 1452.69 L2235.32 1451.02 L2239.99 1451.02 L2239.99 1481.64 L2247.63 1481.64 L2247.63 1485.58 L2227.72 1485.58 L2227.72 1481.64 Z\" fill=\"#000000\" fill-rule=\"nonzero\" fill-opacity=\"1\" /><path clip-path=\"url(#clip140)\" d=\"M2261.1 1481.64 L2277.42 1481.64 L2277.42 1485.58 L2255.48 1485.58 L2255.48 1481.64 Q2258.14 1478.89 2262.72 1474.26 Q2267.33 1469.61 2268.51 1468.27 Q2270.76 1465.74 2271.64 1464.01 Q2272.54 1462.25 2272.54 1460.56 Q2272.54 1457.8 2270.59 1456.07 Q2268.67 1454.33 2265.57 1454.33 Q2263.37 1454.33 2260.92 1455.09 Q2258.49 1455.86 2255.71 1457.41 L2255.71 1452.69 Q2258.53 1451.55 2260.99 1450.97 Q2263.44 1450.39 2265.48 1450.39 Q2270.85 1450.39 2274.04 1453.08 Q2277.24 1455.77 2277.24 1460.26 Q2277.24 1462.39 2276.43 1464.31 Q2275.64 1466.2 2273.53 1468.8 Q2272.95 1469.47 2269.85 1472.69 Q2266.75 1475.88 2261.1 1481.64 Z\" fill=\"#000000\" fill-rule=\"nonzero\" fill-opacity=\"1\" /><path clip-path=\"url(#clip140)\" d=\"M2297.24 1454.1 Q2293.63 1454.1 2291.8 1457.66 Q2289.99 1461.2 2289.99 1468.33 Q2289.99 1475.44 2291.8 1479.01 Q2293.63 1482.55 2297.24 1482.55 Q2300.87 1482.55 2302.68 1479.01 Q2304.51 1475.44 2304.51 1468.33 Q2304.51 1461.2 2302.68 1457.66 Q2300.87 1454.1 2297.24 1454.1 M2297.24 1450.39 Q2303.05 1450.39 2306.1 1455 Q2309.18 1459.58 2309.18 1468.33 Q2309.18 1477.06 2306.1 1481.67 Q2303.05 1486.25 2297.24 1486.25 Q2291.43 1486.25 2288.35 1481.67 Q2285.29 1477.06 2285.29 1468.33 Q2285.29 1459.58 2288.35 1455 Q2291.43 1450.39 2297.24 1450.39 Z\" fill=\"#000000\" fill-rule=\"nonzero\" fill-opacity=\"1\" /><path clip-path=\"url(#clip140)\" d=\"M1180.03 1522.27 L1180.03 1532.4 L1192.09 1532.4 L1192.09 1536.95 L1180.03 1536.95 L1180.03 1556.3 Q1180.03 1560.66 1181.2 1561.9 Q1182.41 1563.14 1186.07 1563.14 L1192.09 1563.14 L1192.09 1568.04 L1186.07 1568.04 Q1179.29 1568.04 1176.72 1565.53 Q1174.14 1562.98 1174.14 1556.3 L1174.14 1536.95 L1169.84 1536.95 L1169.84 1532.4 L1174.14 1532.4 L1174.14 1522.27 L1180.03 1522.27 Z\" fill=\"#000000\" fill-rule=\"nonzero\" fill-opacity=\"1\" /><path clip-path=\"url(#clip140)\" d=\"M1199.79 1532.4 L1205.65 1532.4 L1205.65 1568.04 L1199.79 1568.04 L1199.79 1532.4 M1199.79 1518.52 L1205.65 1518.52 L1205.65 1525.93 L1199.79 1525.93 L1199.79 1518.52 Z\" fill=\"#000000\" fill-rule=\"nonzero\" fill-opacity=\"1\" /><path clip-path=\"url(#clip140)\" d=\"M1245.66 1539.24 Q1247.85 1535.29 1250.91 1533.41 Q1253.96 1531.54 1258.1 1531.54 Q1263.67 1531.54 1266.7 1535.45 Q1269.72 1539.33 1269.72 1546.53 L1269.72 1568.04 L1263.83 1568.04 L1263.83 1546.72 Q1263.83 1541.59 1262.02 1539.11 Q1260.2 1536.63 1256.48 1536.63 Q1251.93 1536.63 1249.29 1539.65 Q1246.64 1542.68 1246.64 1547.9 L1246.64 1568.04 L1240.76 1568.04 L1240.76 1546.72 Q1240.76 1541.56 1238.94 1539.11 Q1237.13 1536.63 1233.34 1536.63 Q1228.85 1536.63 1226.21 1539.68 Q1223.57 1542.71 1223.57 1547.9 L1223.57 1568.04 L1217.68 1568.04 L1217.68 1532.4 L1223.57 1532.4 L1223.57 1537.93 Q1225.57 1534.66 1228.37 1533.1 Q1231.18 1531.54 1235.03 1531.54 Q1238.91 1531.54 1241.62 1533.51 Q1244.35 1535.48 1245.66 1539.24 Z\" fill=\"#000000\" fill-rule=\"nonzero\" fill-opacity=\"1\" /><path clip-path=\"url(#clip140)\" d=\"M1311.89 1548.76 L1311.89 1551.62 L1284.97 1551.62 Q1285.35 1557.67 1288.59 1560.85 Q1291.87 1564 1297.7 1564 Q1301.07 1564 1304.22 1563.17 Q1307.4 1562.35 1310.52 1560.69 L1310.52 1566.23 Q1307.37 1567.57 1304.06 1568.27 Q1300.75 1568.97 1297.35 1568.97 Q1288.82 1568.97 1283.82 1564 Q1278.85 1559.04 1278.85 1550.57 Q1278.85 1541.82 1283.57 1536.69 Q1288.31 1531.54 1296.33 1531.54 Q1303.52 1531.54 1307.69 1536.18 Q1311.89 1540.8 1311.89 1548.76 M1306.04 1547.04 Q1305.97 1542.23 1303.33 1539.37 Q1300.72 1536.5 1296.39 1536.5 Q1291.49 1536.5 1288.53 1539.27 Q1285.6 1542.04 1285.16 1547.07 L1306.04 1547.04 Z\" fill=\"#000000\" fill-rule=\"nonzero\" fill-opacity=\"1\" /><path clip-path=\"url(#clip140)\" d=\"M1356.29 1518.58 Q1352.03 1525.9 1349.96 1533.06 Q1347.89 1540.23 1347.89 1547.58 Q1347.89 1554.93 1349.96 1562.16 Q1352.06 1569.35 1356.29 1576.64 L1351.2 1576.64 Q1346.43 1569.16 1344.04 1561.93 Q1341.68 1554.71 1341.68 1547.58 Q1341.68 1540.48 1344.04 1533.29 Q1346.39 1526.09 1351.2 1518.58 L1356.29 1518.58 Z\" fill=\"#000000\" fill-rule=\"nonzero\" fill-opacity=\"1\" /><path clip-path=\"url(#clip140)\" d=\"M1390.38 1533.45 L1390.38 1538.98 Q1387.9 1537.71 1385.23 1537.07 Q1382.55 1536.44 1379.69 1536.44 Q1375.33 1536.44 1373.13 1537.77 Q1370.97 1539.11 1370.97 1541.79 Q1370.97 1543.82 1372.53 1545 Q1374.09 1546.15 1378.8 1547.2 L1380.8 1547.64 Q1387.04 1548.98 1389.65 1551.43 Q1392.29 1553.85 1392.29 1558.21 Q1392.29 1563.17 1388.34 1566.07 Q1384.43 1568.97 1377.55 1568.97 Q1374.69 1568.97 1371.57 1568.39 Q1368.48 1567.85 1365.05 1566.74 L1365.05 1560.69 Q1368.29 1562.38 1371.44 1563.24 Q1374.59 1564.07 1377.68 1564.07 Q1381.82 1564.07 1384.05 1562.66 Q1386.28 1561.23 1386.28 1558.65 Q1386.28 1556.27 1384.65 1554.99 Q1383.06 1553.72 1377.62 1552.54 L1375.58 1552.07 Q1370.14 1550.92 1367.72 1548.56 Q1365.3 1546.18 1365.3 1542.04 Q1365.3 1537.01 1368.87 1534.27 Q1372.43 1531.54 1378.99 1531.54 Q1382.23 1531.54 1385.1 1532.01 Q1387.96 1532.49 1390.38 1533.45 Z\" fill=\"#000000\" fill-rule=\"nonzero\" fill-opacity=\"1\" /><path clip-path=\"url(#clip140)\" d=\"M1400.69 1518.58 L1405.79 1518.58 Q1410.56 1526.09 1412.92 1533.29 Q1415.3 1540.48 1415.3 1547.58 Q1415.3 1554.71 1412.92 1561.93 Q1410.56 1569.16 1405.79 1576.64 L1400.69 1576.64 Q1404.93 1569.35 1407 1562.16 Q1409.1 1554.93 1409.1 1547.58 Q1409.1 1540.23 1407 1533.06 Q1404.93 1525.9 1400.69 1518.58 Z\" fill=\"#000000\" fill-rule=\"nonzero\" fill-opacity=\"1\" /><polyline clip-path=\"url(#clip142)\" style=\"stroke:#000000; stroke-linecap:round; stroke-linejoin:round; stroke-width:2; stroke-opacity:0.1; fill:none\" points=\"232.389,1384.24 2352.76,1384.24 \"/>\n",
       "<polyline clip-path=\"url(#clip142)\" style=\"stroke:#000000; stroke-linecap:round; stroke-linejoin:round; stroke-width:2; stroke-opacity:0.1; fill:none\" points=\"232.389,1190.5 2352.76,1190.5 \"/>\n",
       "<polyline clip-path=\"url(#clip142)\" style=\"stroke:#000000; stroke-linecap:round; stroke-linejoin:round; stroke-width:2; stroke-opacity:0.1; fill:none\" points=\"232.389,996.76 2352.76,996.76 \"/>\n",
       "<polyline clip-path=\"url(#clip142)\" style=\"stroke:#000000; stroke-linecap:round; stroke-linejoin:round; stroke-width:2; stroke-opacity:0.1; fill:none\" points=\"232.389,803.021 2352.76,803.021 \"/>\n",
       "<polyline clip-path=\"url(#clip142)\" style=\"stroke:#000000; stroke-linecap:round; stroke-linejoin:round; stroke-width:2; stroke-opacity:0.1; fill:none\" points=\"232.389,609.281 2352.76,609.281 \"/>\n",
       "<polyline clip-path=\"url(#clip142)\" style=\"stroke:#000000; stroke-linecap:round; stroke-linejoin:round; stroke-width:2; stroke-opacity:0.1; fill:none\" points=\"232.389,415.542 2352.76,415.542 \"/>\n",
       "<polyline clip-path=\"url(#clip142)\" style=\"stroke:#000000; stroke-linecap:round; stroke-linejoin:round; stroke-width:2; stroke-opacity:0.1; fill:none\" points=\"232.389,221.803 2352.76,221.803 \"/>\n",
       "<polyline clip-path=\"url(#clip140)\" style=\"stroke:#000000; stroke-linecap:round; stroke-linejoin:round; stroke-width:4; stroke-opacity:1; fill:none\" points=\"232.389,1423.18 232.389,47.2441 \"/>\n",
       "<polyline clip-path=\"url(#clip140)\" style=\"stroke:#000000; stroke-linecap:round; stroke-linejoin:round; stroke-width:4; stroke-opacity:1; fill:none\" points=\"232.389,1384.24 251.287,1384.24 \"/>\n",
       "<polyline clip-path=\"url(#clip140)\" style=\"stroke:#000000; stroke-linecap:round; stroke-linejoin:round; stroke-width:4; stroke-opacity:1; fill:none\" points=\"232.389,1190.5 251.287,1190.5 \"/>\n",
       "<polyline clip-path=\"url(#clip140)\" style=\"stroke:#000000; stroke-linecap:round; stroke-linejoin:round; stroke-width:4; stroke-opacity:1; fill:none\" points=\"232.389,996.76 251.287,996.76 \"/>\n",
       "<polyline clip-path=\"url(#clip140)\" style=\"stroke:#000000; stroke-linecap:round; stroke-linejoin:round; stroke-width:4; stroke-opacity:1; fill:none\" points=\"232.389,803.021 251.287,803.021 \"/>\n",
       "<polyline clip-path=\"url(#clip140)\" style=\"stroke:#000000; stroke-linecap:round; stroke-linejoin:round; stroke-width:4; stroke-opacity:1; fill:none\" points=\"232.389,609.281 251.287,609.281 \"/>\n",
       "<polyline clip-path=\"url(#clip140)\" style=\"stroke:#000000; stroke-linecap:round; stroke-linejoin:round; stroke-width:4; stroke-opacity:1; fill:none\" points=\"232.389,415.542 251.287,415.542 \"/>\n",
       "<polyline clip-path=\"url(#clip140)\" style=\"stroke:#000000; stroke-linecap:round; stroke-linejoin:round; stroke-width:4; stroke-opacity:1; fill:none\" points=\"232.389,221.803 251.287,221.803 \"/>\n",
       "<path clip-path=\"url(#clip140)\" d=\"M184.445 1370.04 Q180.834 1370.04 179.005 1373.6 Q177.2 1377.14 177.2 1384.27 Q177.2 1391.38 179.005 1394.94 Q180.834 1398.49 184.445 1398.49 Q188.079 1398.49 189.885 1394.94 Q191.713 1391.38 191.713 1384.27 Q191.713 1377.14 189.885 1373.6 Q188.079 1370.04 184.445 1370.04 M184.445 1366.33 Q190.255 1366.33 193.311 1370.94 Q196.389 1375.52 196.389 1384.27 Q196.389 1393 193.311 1397.61 Q190.255 1402.19 184.445 1402.19 Q178.635 1402.19 175.556 1397.61 Q172.501 1393 172.501 1384.27 Q172.501 1375.52 175.556 1370.94 Q178.635 1366.33 184.445 1366.33 Z\" fill=\"#000000\" fill-rule=\"nonzero\" fill-opacity=\"1\" /><path clip-path=\"url(#clip140)\" d=\"M148.311 1203.84 L164.63 1203.84 L164.63 1207.78 L142.686 1207.78 L142.686 1203.84 Q145.348 1201.09 149.931 1196.46 Q154.538 1191.81 155.718 1190.46 Q157.964 1187.94 158.843 1186.21 Q159.746 1184.45 159.746 1182.76 Q159.746 1180 157.802 1178.27 Q155.88 1176.53 152.778 1176.53 Q150.579 1176.53 148.126 1177.29 Q145.695 1178.06 142.917 1179.61 L142.917 1174.89 Q145.741 1173.75 148.195 1173.17 Q150.649 1172.59 152.686 1172.59 Q158.056 1172.59 161.251 1175.28 Q164.445 1177.96 164.445 1182.46 Q164.445 1184.58 163.635 1186.51 Q162.848 1188.4 160.741 1191 Q160.163 1191.67 157.061 1194.89 Q153.959 1198.08 148.311 1203.84 Z\" fill=\"#000000\" fill-rule=\"nonzero\" fill-opacity=\"1\" /><path clip-path=\"url(#clip140)\" d=\"M184.445 1176.3 Q180.834 1176.3 179.005 1179.86 Q177.2 1183.4 177.2 1190.53 Q177.2 1197.64 179.005 1201.21 Q180.834 1204.75 184.445 1204.75 Q188.079 1204.75 189.885 1201.21 Q191.713 1197.64 191.713 1190.53 Q191.713 1183.4 189.885 1179.86 Q188.079 1176.3 184.445 1176.3 M184.445 1172.59 Q190.255 1172.59 193.311 1177.2 Q196.389 1181.78 196.389 1190.53 Q196.389 1199.26 193.311 1203.87 Q190.255 1208.45 184.445 1208.45 Q178.635 1208.45 175.556 1203.87 Q172.501 1199.26 172.501 1190.53 Q172.501 1181.78 175.556 1177.2 Q178.635 1172.59 184.445 1172.59 Z\" fill=\"#000000\" fill-rule=\"nonzero\" fill-opacity=\"1\" /><path clip-path=\"url(#clip140)\" d=\"M157.13 983.554 L145.325 1002 L157.13 1002 L157.13 983.554 M155.903 979.48 L161.783 979.48 L161.783 1002 L166.714 1002 L166.714 1005.89 L161.783 1005.89 L161.783 1014.04 L157.13 1014.04 L157.13 1005.89 L141.529 1005.89 L141.529 1001.38 L155.903 979.48 Z\" fill=\"#000000\" fill-rule=\"nonzero\" fill-opacity=\"1\" /><path clip-path=\"url(#clip140)\" d=\"M184.445 982.559 Q180.834 982.559 179.005 986.123 Q177.2 989.665 177.2 996.795 Q177.2 1003.9 179.005 1007.47 Q180.834 1011.01 184.445 1011.01 Q188.079 1011.01 189.885 1007.47 Q191.713 1003.9 191.713 996.795 Q191.713 989.665 189.885 986.123 Q188.079 982.559 184.445 982.559 M184.445 978.855 Q190.255 978.855 193.311 983.461 Q196.389 988.045 196.389 996.795 Q196.389 1005.52 193.311 1010.13 Q190.255 1014.71 184.445 1014.71 Q178.635 1014.71 175.556 1010.13 Q172.501 1005.52 172.501 996.795 Q172.501 988.045 175.556 983.461 Q178.635 978.855 184.445 978.855 Z\" fill=\"#000000\" fill-rule=\"nonzero\" fill-opacity=\"1\" /><path clip-path=\"url(#clip140)\" d=\"M154.862 801.157 Q151.714 801.157 149.862 803.31 Q148.033 805.463 148.033 809.213 Q148.033 812.94 149.862 815.116 Q151.714 817.268 154.862 817.268 Q158.01 817.268 159.839 815.116 Q161.69 812.94 161.69 809.213 Q161.69 805.463 159.839 803.31 Q158.01 801.157 154.862 801.157 M164.144 786.505 L164.144 790.764 Q162.385 789.93 160.579 789.491 Q158.797 789.051 157.038 789.051 Q152.408 789.051 149.954 792.176 Q147.524 795.301 147.177 801.62 Q148.542 799.606 150.603 798.542 Q152.663 797.454 155.14 797.454 Q160.348 797.454 163.357 800.625 Q166.39 803.773 166.39 809.213 Q166.39 814.537 163.241 817.754 Q160.093 820.972 154.862 820.972 Q148.866 820.972 145.695 816.389 Q142.524 811.782 142.524 803.055 Q142.524 794.861 146.413 790 Q150.302 785.116 156.853 785.116 Q158.612 785.116 160.394 785.463 Q162.2 785.81 164.144 786.505 Z\" fill=\"#000000\" fill-rule=\"nonzero\" fill-opacity=\"1\" /><path clip-path=\"url(#clip140)\" d=\"M184.445 788.819 Q180.834 788.819 179.005 792.384 Q177.2 795.926 177.2 803.055 Q177.2 810.162 179.005 813.727 Q180.834 817.268 184.445 817.268 Q188.079 817.268 189.885 813.727 Q191.713 810.162 191.713 803.055 Q191.713 795.926 189.885 792.384 Q188.079 788.819 184.445 788.819 M184.445 785.116 Q190.255 785.116 193.311 789.722 Q196.389 794.305 196.389 803.055 Q196.389 811.782 193.311 816.389 Q190.255 820.972 184.445 820.972 Q178.635 820.972 175.556 816.389 Q172.501 811.782 172.501 803.055 Q172.501 794.305 175.556 789.722 Q178.635 785.116 184.445 785.116 Z\" fill=\"#000000\" fill-rule=\"nonzero\" fill-opacity=\"1\" /><path clip-path=\"url(#clip140)\" d=\"M154.283 610.15 Q150.95 610.15 149.028 611.932 Q147.13 613.714 147.13 616.839 Q147.13 619.964 149.028 621.747 Q150.95 623.529 154.283 623.529 Q157.616 623.529 159.538 621.747 Q161.459 619.941 161.459 616.839 Q161.459 613.714 159.538 611.932 Q157.64 610.15 154.283 610.15 M149.607 608.159 Q146.598 607.418 144.908 605.358 Q143.241 603.298 143.241 600.335 Q143.241 596.191 146.181 593.784 Q149.144 591.376 154.283 591.376 Q159.445 591.376 162.385 593.784 Q165.325 596.191 165.325 600.335 Q165.325 603.298 163.635 605.358 Q161.968 607.418 158.982 608.159 Q162.362 608.946 164.237 611.238 Q166.135 613.529 166.135 616.839 Q166.135 621.862 163.056 624.548 Q160.001 627.233 154.283 627.233 Q148.566 627.233 145.487 624.548 Q142.431 621.862 142.431 616.839 Q142.431 613.529 144.329 611.238 Q146.228 608.946 149.607 608.159 M147.894 600.775 Q147.894 603.46 149.561 604.964 Q151.251 606.469 154.283 606.469 Q157.292 606.469 158.982 604.964 Q160.695 603.46 160.695 600.775 Q160.695 598.089 158.982 596.585 Q157.292 595.08 154.283 595.08 Q151.251 595.08 149.561 596.585 Q147.894 598.089 147.894 600.775 Z\" fill=\"#000000\" fill-rule=\"nonzero\" fill-opacity=\"1\" /><path clip-path=\"url(#clip140)\" d=\"M184.445 595.08 Q180.834 595.08 179.005 598.645 Q177.2 602.187 177.2 609.316 Q177.2 616.423 179.005 619.987 Q180.834 623.529 184.445 623.529 Q188.079 623.529 189.885 619.987 Q191.713 616.423 191.713 609.316 Q191.713 602.187 189.885 598.645 Q188.079 595.08 184.445 595.08 M184.445 591.376 Q190.255 591.376 193.311 595.983 Q196.389 600.566 196.389 609.316 Q196.389 618.043 193.311 622.649 Q190.255 627.233 184.445 627.233 Q178.635 627.233 175.556 622.649 Q172.501 618.043 172.501 609.316 Q172.501 600.566 175.556 595.983 Q178.635 591.376 184.445 591.376 Z\" fill=\"#000000\" fill-rule=\"nonzero\" fill-opacity=\"1\" /><path clip-path=\"url(#clip140)\" d=\"M114.931 428.887 L122.57 428.887 L122.57 402.522 L114.26 404.188 L114.26 399.929 L122.524 398.262 L127.2 398.262 L127.2 428.887 L134.839 428.887 L134.839 432.822 L114.931 432.822 L114.931 428.887 Z\" fill=\"#000000\" fill-rule=\"nonzero\" fill-opacity=\"1\" /><path clip-path=\"url(#clip140)\" d=\"M154.283 401.341 Q150.672 401.341 148.843 404.906 Q147.038 408.447 147.038 415.577 Q147.038 422.683 148.843 426.248 Q150.672 429.79 154.283 429.79 Q157.917 429.79 159.723 426.248 Q161.552 422.683 161.552 415.577 Q161.552 408.447 159.723 404.906 Q157.917 401.341 154.283 401.341 M154.283 397.637 Q160.093 397.637 163.149 402.244 Q166.227 406.827 166.227 415.577 Q166.227 424.304 163.149 428.91 Q160.093 433.494 154.283 433.494 Q148.473 433.494 145.394 428.91 Q142.339 424.304 142.339 415.577 Q142.339 406.827 145.394 402.244 Q148.473 397.637 154.283 397.637 Z\" fill=\"#000000\" fill-rule=\"nonzero\" fill-opacity=\"1\" /><path clip-path=\"url(#clip140)\" d=\"M184.445 401.341 Q180.834 401.341 179.005 404.906 Q177.2 408.447 177.2 415.577 Q177.2 422.683 179.005 426.248 Q180.834 429.79 184.445 429.79 Q188.079 429.79 189.885 426.248 Q191.713 422.683 191.713 415.577 Q191.713 408.447 189.885 404.906 Q188.079 401.341 184.445 401.341 M184.445 397.637 Q190.255 397.637 193.311 402.244 Q196.389 406.827 196.389 415.577 Q196.389 424.304 193.311 428.91 Q190.255 433.494 184.445 433.494 Q178.635 433.494 175.556 428.91 Q172.501 424.304 172.501 415.577 Q172.501 406.827 175.556 402.244 Q178.635 397.637 184.445 397.637 Z\" fill=\"#000000\" fill-rule=\"nonzero\" fill-opacity=\"1\" /><path clip-path=\"url(#clip140)\" d=\"M114.931 235.148 L122.57 235.148 L122.57 208.782 L114.26 210.449 L114.26 206.19 L122.524 204.523 L127.2 204.523 L127.2 235.148 L134.839 235.148 L134.839 239.083 L114.931 239.083 L114.931 235.148 Z\" fill=\"#000000\" fill-rule=\"nonzero\" fill-opacity=\"1\" /><path clip-path=\"url(#clip140)\" d=\"M148.311 235.148 L164.63 235.148 L164.63 239.083 L142.686 239.083 L142.686 235.148 Q145.348 232.393 149.931 227.764 Q154.538 223.111 155.718 221.768 Q157.964 219.245 158.843 217.509 Q159.746 215.75 159.746 214.06 Q159.746 211.305 157.802 209.569 Q155.88 207.833 152.778 207.833 Q150.579 207.833 148.126 208.597 Q145.695 209.361 142.917 210.912 L142.917 206.19 Q145.741 205.056 148.195 204.477 Q150.649 203.898 152.686 203.898 Q158.056 203.898 161.251 206.583 Q164.445 209.268 164.445 213.759 Q164.445 215.889 163.635 217.81 Q162.848 219.708 160.741 222.301 Q160.163 222.972 157.061 226.19 Q153.959 229.384 148.311 235.148 Z\" fill=\"#000000\" fill-rule=\"nonzero\" fill-opacity=\"1\" /><path clip-path=\"url(#clip140)\" d=\"M184.445 207.602 Q180.834 207.602 179.005 211.167 Q177.2 214.708 177.2 221.838 Q177.2 228.944 179.005 232.509 Q180.834 236.051 184.445 236.051 Q188.079 236.051 189.885 232.509 Q191.713 228.944 191.713 221.838 Q191.713 214.708 189.885 211.167 Q188.079 207.602 184.445 207.602 M184.445 203.898 Q190.255 203.898 193.311 208.505 Q196.389 213.088 196.389 221.838 Q196.389 230.565 193.311 235.171 Q190.255 239.754 184.445 239.754 Q178.635 239.754 175.556 235.171 Q172.501 230.565 172.501 221.838 Q172.501 213.088 175.556 208.505 Q178.635 203.898 184.445 203.898 Z\" fill=\"#000000\" fill-rule=\"nonzero\" fill-opacity=\"1\" /><path clip-path=\"url(#clip140)\" d=\"M29.7248 796.386 L35.1993 796.386 Q33.8307 798.869 33.1623 801.383 Q32.4621 803.866 32.4621 806.412 Q32.4621 812.11 36.0905 815.261 Q39.6872 818.412 46.212 818.412 Q52.7369 818.412 56.3653 815.261 Q59.9619 812.11 59.9619 806.412 Q59.9619 803.866 59.2935 801.383 Q58.5933 798.869 57.2247 796.386 L62.6355 796.386 Q63.7814 798.837 64.3543 801.479 Q64.9272 804.089 64.9272 807.049 Q64.9272 815.102 59.8664 819.844 Q54.8057 824.586 46.212 824.586 Q37.491 824.586 32.4939 819.812 Q27.4968 815.006 27.4968 806.667 Q27.4968 803.962 28.0697 801.383 Q28.6108 798.805 29.7248 796.386 Z\" fill=\"#000000\" fill-rule=\"nonzero\" fill-opacity=\"1\" /><path clip-path=\"url(#clip140)\" d=\"M32.4621 772.388 Q32.4621 777.098 36.1542 779.836 Q39.8145 782.573 46.212 782.573 Q52.6095 782.573 56.3017 779.867 Q59.9619 777.13 59.9619 772.388 Q59.9619 767.709 56.2698 764.972 Q52.5777 762.234 46.212 762.234 Q39.8781 762.234 36.186 764.972 Q32.4621 767.709 32.4621 772.388 M27.4968 772.388 Q27.4968 764.749 32.4621 760.388 Q37.4273 756.028 46.212 756.028 Q54.9649 756.028 59.9619 760.388 Q64.9272 764.749 64.9272 772.388 Q64.9272 780.058 59.9619 784.419 Q54.9649 788.748 46.212 788.748 Q37.4273 788.748 32.4621 784.419 Q27.4968 780.058 27.4968 772.388 Z\" fill=\"#000000\" fill-rule=\"nonzero\" fill-opacity=\"1\" /><path clip-path=\"url(#clip140)\" d=\"M49.9359 746.925 L28.3562 746.925 L28.3562 741.068 L49.7131 741.068 Q54.7739 741.068 57.3202 739.095 Q59.8346 737.122 59.8346 733.175 Q59.8346 728.432 56.8109 725.695 Q53.7872 722.926 48.5673 722.926 L28.3562 722.926 L28.3562 717.07 L64.0042 717.07 L64.0042 722.926 L58.5296 722.926 Q61.7762 725.059 63.3676 727.891 Q64.9272 730.692 64.9272 734.416 Q64.9272 740.559 61.1078 743.742 Q57.2883 746.925 49.9359 746.925 M27.4968 732.188 L27.4968 732.188 Z\" fill=\"#000000\" fill-rule=\"nonzero\" fill-opacity=\"1\" /><path clip-path=\"url(#clip140)\" d=\"M42.4881 675.374 L64.0042 675.374 L64.0042 681.231 L42.679 681.231 Q37.6183 681.231 35.1038 683.204 Q32.5894 685.178 32.5894 689.124 Q32.5894 693.867 35.6131 696.604 Q38.6368 699.341 43.8567 699.341 L64.0042 699.341 L64.0042 705.229 L28.3562 705.229 L28.3562 699.341 L33.8944 699.341 Q30.6797 697.241 29.0883 694.408 Q27.4968 691.543 27.4968 687.819 Q27.4968 681.676 31.3163 678.525 Q35.1038 675.374 42.4881 675.374 Z\" fill=\"#000000\" fill-rule=\"nonzero\" fill-opacity=\"1\" /><path clip-path=\"url(#clip140)\" d=\"M18.2347 657.9 L28.3562 657.9 L28.3562 645.837 L32.9077 645.837 L32.9077 657.9 L52.2594 657.9 Q56.6199 657.9 57.8613 656.723 Q59.1026 655.513 59.1026 651.853 L59.1026 645.837 L64.0042 645.837 L64.0042 651.853 Q64.0042 658.633 61.4897 661.211 Q58.9434 663.789 52.2594 663.789 L32.9077 663.789 L32.9077 668.086 L28.3562 668.086 L28.3562 663.789 L18.2347 663.789 L18.2347 657.9 Z\" fill=\"#000000\" fill-rule=\"nonzero\" fill-opacity=\"1\" /><path clip-path=\"url(#clip142)\" d=\"M349.013 86.1857 L349.013 1384.24 L380.998 1384.24 L380.998 86.1857 L349.013 86.1857 L349.013 86.1857  Z\" fill=\"#009af9\" fill-rule=\"evenodd\" fill-opacity=\"1\"/>\n",
       "<polyline clip-path=\"url(#clip142)\" style=\"stroke:#000000; stroke-linecap:round; stroke-linejoin:round; stroke-width:4; stroke-opacity:1; fill:none\" points=\"349.013,86.1857 349.013,1384.24 380.998,1384.24 380.998,86.1857 349.013,86.1857 \"/>\n",
       "<path clip-path=\"url(#clip142)\" d=\"M380.998 1287.37 L380.998 1384.24 L412.983 1384.24 L412.983 1287.37 L380.998 1287.37 L380.998 1287.37  Z\" fill=\"#009af9\" fill-rule=\"evenodd\" fill-opacity=\"1\"/>\n",
       "<polyline clip-path=\"url(#clip142)\" style=\"stroke:#000000; stroke-linecap:round; stroke-linejoin:round; stroke-width:4; stroke-opacity:1; fill:none\" points=\"380.998,1287.37 380.998,1384.24 412.983,1384.24 412.983,1287.37 380.998,1287.37 \"/>\n",
       "<path clip-path=\"url(#clip142)\" d=\"M412.983 1306.74 L412.983 1384.24 L444.968 1384.24 L444.968 1306.74 L412.983 1306.74 L412.983 1306.74  Z\" fill=\"#009af9\" fill-rule=\"evenodd\" fill-opacity=\"1\"/>\n",
       "<polyline clip-path=\"url(#clip142)\" style=\"stroke:#000000; stroke-linecap:round; stroke-linejoin:round; stroke-width:4; stroke-opacity:1; fill:none\" points=\"412.983,1306.74 412.983,1384.24 444.968,1384.24 444.968,1306.74 412.983,1306.74 \"/>\n",
       "<path clip-path=\"url(#clip142)\" d=\"M444.968 1364.86 L444.968 1384.24 L476.954 1384.24 L476.954 1364.86 L444.968 1364.86 L444.968 1364.86  Z\" fill=\"#009af9\" fill-rule=\"evenodd\" fill-opacity=\"1\"/>\n",
       "<polyline clip-path=\"url(#clip142)\" style=\"stroke:#000000; stroke-linecap:round; stroke-linejoin:round; stroke-width:4; stroke-opacity:1; fill:none\" points=\"444.968,1364.86 444.968,1384.24 476.954,1384.24 476.954,1364.86 444.968,1364.86 \"/>\n",
       "<path clip-path=\"url(#clip142)\" d=\"M476.954 1384.24 L476.954 1384.24 L508.939 1384.24 L508.939 1384.24 L476.954 1384.24 L476.954 1384.24  Z\" fill=\"#009af9\" fill-rule=\"evenodd\" fill-opacity=\"1\"/>\n",
       "<polyline clip-path=\"url(#clip142)\" style=\"stroke:#000000; stroke-linecap:round; stroke-linejoin:round; stroke-width:4; stroke-opacity:1; fill:none\" points=\"476.954,1384.24 476.954,1384.24 508.939,1384.24 476.954,1384.24 \"/>\n",
       "<path clip-path=\"url(#clip142)\" d=\"M508.939 1355.18 L508.939 1384.24 L540.924 1384.24 L540.924 1355.18 L508.939 1355.18 L508.939 1355.18  Z\" fill=\"#009af9\" fill-rule=\"evenodd\" fill-opacity=\"1\"/>\n",
       "<polyline clip-path=\"url(#clip142)\" style=\"stroke:#000000; stroke-linecap:round; stroke-linejoin:round; stroke-width:4; stroke-opacity:1; fill:none\" points=\"508.939,1355.18 508.939,1384.24 540.924,1384.24 540.924,1355.18 508.939,1355.18 \"/>\n",
       "<path clip-path=\"url(#clip142)\" d=\"M540.924 1335.8 L540.924 1384.24 L572.909 1384.24 L572.909 1335.8 L540.924 1335.8 L540.924 1335.8  Z\" fill=\"#009af9\" fill-rule=\"evenodd\" fill-opacity=\"1\"/>\n",
       "<polyline clip-path=\"url(#clip142)\" style=\"stroke:#000000; stroke-linecap:round; stroke-linejoin:round; stroke-width:4; stroke-opacity:1; fill:none\" points=\"540.924,1335.8 540.924,1384.24 572.909,1384.24 572.909,1335.8 540.924,1335.8 \"/>\n",
       "<path clip-path=\"url(#clip142)\" d=\"M572.909 1364.86 L572.909 1384.24 L604.894 1384.24 L604.894 1364.86 L572.909 1364.86 L572.909 1364.86  Z\" fill=\"#009af9\" fill-rule=\"evenodd\" fill-opacity=\"1\"/>\n",
       "<polyline clip-path=\"url(#clip142)\" style=\"stroke:#000000; stroke-linecap:round; stroke-linejoin:round; stroke-width:4; stroke-opacity:1; fill:none\" points=\"572.909,1364.86 572.909,1384.24 604.894,1384.24 604.894,1364.86 572.909,1364.86 \"/>\n",
       "<path clip-path=\"url(#clip142)\" d=\"M604.894 1384.24 L604.894 1384.24 L636.879 1384.24 L636.879 1384.24 L604.894 1384.24 L604.894 1384.24  Z\" fill=\"#009af9\" fill-rule=\"evenodd\" fill-opacity=\"1\"/>\n",
       "<polyline clip-path=\"url(#clip142)\" style=\"stroke:#000000; stroke-linecap:round; stroke-linejoin:round; stroke-width:4; stroke-opacity:1; fill:none\" points=\"604.894,1384.24 604.894,1384.24 636.879,1384.24 604.894,1384.24 \"/>\n",
       "<path clip-path=\"url(#clip142)\" d=\"M636.879 1384.24 L636.879 1384.24 L668.864 1384.24 L668.864 1384.24 L636.879 1384.24 L636.879 1384.24  Z\" fill=\"#009af9\" fill-rule=\"evenodd\" fill-opacity=\"1\"/>\n",
       "<polyline clip-path=\"url(#clip142)\" style=\"stroke:#000000; stroke-linecap:round; stroke-linejoin:round; stroke-width:4; stroke-opacity:1; fill:none\" points=\"636.879,1384.24 636.879,1384.24 668.864,1384.24 636.879,1384.24 \"/>\n",
       "<path clip-path=\"url(#clip142)\" d=\"M668.864 1384.24 L668.864 1384.24 L700.849 1384.24 L700.849 1384.24 L668.864 1384.24 L668.864 1384.24  Z\" fill=\"#009af9\" fill-rule=\"evenodd\" fill-opacity=\"1\"/>\n",
       "<polyline clip-path=\"url(#clip142)\" style=\"stroke:#000000; stroke-linecap:round; stroke-linejoin:round; stroke-width:4; stroke-opacity:1; fill:none\" points=\"668.864,1384.24 668.864,1384.24 700.849,1384.24 668.864,1384.24 \"/>\n",
       "<path clip-path=\"url(#clip142)\" d=\"M700.849 1374.55 L700.849 1384.24 L732.834 1384.24 L732.834 1374.55 L700.849 1374.55 L700.849 1374.55  Z\" fill=\"#009af9\" fill-rule=\"evenodd\" fill-opacity=\"1\"/>\n",
       "<polyline clip-path=\"url(#clip142)\" style=\"stroke:#000000; stroke-linecap:round; stroke-linejoin:round; stroke-width:4; stroke-opacity:1; fill:none\" points=\"700.849,1374.55 700.849,1384.24 732.834,1384.24 732.834,1374.55 700.849,1374.55 \"/>\n",
       "<path clip-path=\"url(#clip142)\" d=\"M732.834 1384.24 L732.834 1384.24 L764.819 1384.24 L764.819 1384.24 L732.834 1384.24 L732.834 1384.24  Z\" fill=\"#009af9\" fill-rule=\"evenodd\" fill-opacity=\"1\"/>\n",
       "<polyline clip-path=\"url(#clip142)\" style=\"stroke:#000000; stroke-linecap:round; stroke-linejoin:round; stroke-width:4; stroke-opacity:1; fill:none\" points=\"732.834,1384.24 732.834,1384.24 764.819,1384.24 732.834,1384.24 \"/>\n",
       "<path clip-path=\"url(#clip142)\" d=\"M764.819 1374.55 L764.819 1384.24 L796.804 1384.24 L796.804 1374.55 L764.819 1374.55 L764.819 1374.55  Z\" fill=\"#009af9\" fill-rule=\"evenodd\" fill-opacity=\"1\"/>\n",
       "<polyline clip-path=\"url(#clip142)\" style=\"stroke:#000000; stroke-linecap:round; stroke-linejoin:round; stroke-width:4; stroke-opacity:1; fill:none\" points=\"764.819,1374.55 764.819,1384.24 796.804,1384.24 796.804,1374.55 764.819,1374.55 \"/>\n",
       "<path clip-path=\"url(#clip142)\" d=\"M796.804 1364.86 L796.804 1384.24 L828.789 1384.24 L828.789 1364.86 L796.804 1364.86 L796.804 1364.86  Z\" fill=\"#009af9\" fill-rule=\"evenodd\" fill-opacity=\"1\"/>\n",
       "<polyline clip-path=\"url(#clip142)\" style=\"stroke:#000000; stroke-linecap:round; stroke-linejoin:round; stroke-width:4; stroke-opacity:1; fill:none\" points=\"796.804,1364.86 796.804,1384.24 828.789,1384.24 828.789,1364.86 796.804,1364.86 \"/>\n",
       "<path clip-path=\"url(#clip142)\" d=\"M828.789 1384.24 L828.789 1384.24 L860.774 1384.24 L860.774 1384.24 L828.789 1384.24 L828.789 1384.24  Z\" fill=\"#009af9\" fill-rule=\"evenodd\" fill-opacity=\"1\"/>\n",
       "<polyline clip-path=\"url(#clip142)\" style=\"stroke:#000000; stroke-linecap:round; stroke-linejoin:round; stroke-width:4; stroke-opacity:1; fill:none\" points=\"828.789,1384.24 828.789,1384.24 860.774,1384.24 828.789,1384.24 \"/>\n",
       "<path clip-path=\"url(#clip142)\" d=\"M860.774 1364.86 L860.774 1384.24 L892.759 1384.24 L892.759 1364.86 L860.774 1364.86 L860.774 1364.86  Z\" fill=\"#009af9\" fill-rule=\"evenodd\" fill-opacity=\"1\"/>\n",
       "<polyline clip-path=\"url(#clip142)\" style=\"stroke:#000000; stroke-linecap:round; stroke-linejoin:round; stroke-width:4; stroke-opacity:1; fill:none\" points=\"860.774,1364.86 860.774,1384.24 892.759,1384.24 892.759,1364.86 860.774,1364.86 \"/>\n",
       "<path clip-path=\"url(#clip142)\" d=\"M892.759 1384.24 L892.759 1384.24 L924.744 1384.24 L924.744 1384.24 L892.759 1384.24 L892.759 1384.24  Z\" fill=\"#009af9\" fill-rule=\"evenodd\" fill-opacity=\"1\"/>\n",
       "<polyline clip-path=\"url(#clip142)\" style=\"stroke:#000000; stroke-linecap:round; stroke-linejoin:round; stroke-width:4; stroke-opacity:1; fill:none\" points=\"892.759,1384.24 892.759,1384.24 924.744,1384.24 892.759,1384.24 \"/>\n",
       "<path clip-path=\"url(#clip142)\" d=\"M924.744 1384.24 L924.744 1384.24 L956.729 1384.24 L956.729 1384.24 L924.744 1384.24 L924.744 1384.24  Z\" fill=\"#009af9\" fill-rule=\"evenodd\" fill-opacity=\"1\"/>\n",
       "<polyline clip-path=\"url(#clip142)\" style=\"stroke:#000000; stroke-linecap:round; stroke-linejoin:round; stroke-width:4; stroke-opacity:1; fill:none\" points=\"924.744,1384.24 924.744,1384.24 956.729,1384.24 924.744,1384.24 \"/>\n",
       "<path clip-path=\"url(#clip142)\" d=\"M956.729 1384.24 L956.729 1384.24 L988.715 1384.24 L988.715 1384.24 L956.729 1384.24 L956.729 1384.24  Z\" fill=\"#009af9\" fill-rule=\"evenodd\" fill-opacity=\"1\"/>\n",
       "<polyline clip-path=\"url(#clip142)\" style=\"stroke:#000000; stroke-linecap:round; stroke-linejoin:round; stroke-width:4; stroke-opacity:1; fill:none\" points=\"956.729,1384.24 956.729,1384.24 988.715,1384.24 956.729,1384.24 \"/>\n",
       "<path clip-path=\"url(#clip142)\" d=\"M988.715 1384.24 L988.715 1384.24 L1020.7 1384.24 L1020.7 1384.24 L988.715 1384.24 L988.715 1384.24  Z\" fill=\"#009af9\" fill-rule=\"evenodd\" fill-opacity=\"1\"/>\n",
       "<polyline clip-path=\"url(#clip142)\" style=\"stroke:#000000; stroke-linecap:round; stroke-linejoin:round; stroke-width:4; stroke-opacity:1; fill:none\" points=\"988.715,1384.24 988.715,1384.24 1020.7,1384.24 988.715,1384.24 \"/>\n",
       "<path clip-path=\"url(#clip142)\" d=\"M1020.7 1374.55 L1020.7 1384.24 L1052.68 1384.24 L1052.68 1374.55 L1020.7 1374.55 L1020.7 1374.55  Z\" fill=\"#009af9\" fill-rule=\"evenodd\" fill-opacity=\"1\"/>\n",
       "<polyline clip-path=\"url(#clip142)\" style=\"stroke:#000000; stroke-linecap:round; stroke-linejoin:round; stroke-width:4; stroke-opacity:1; fill:none\" points=\"1020.7,1374.55 1020.7,1384.24 1052.68,1384.24 1052.68,1374.55 1020.7,1374.55 \"/>\n",
       "<path clip-path=\"url(#clip142)\" d=\"M1052.68 1384.24 L1052.68 1384.24 L1084.67 1384.24 L1084.67 1384.24 L1052.68 1384.24 L1052.68 1384.24  Z\" fill=\"#009af9\" fill-rule=\"evenodd\" fill-opacity=\"1\"/>\n",
       "<polyline clip-path=\"url(#clip142)\" style=\"stroke:#000000; stroke-linecap:round; stroke-linejoin:round; stroke-width:4; stroke-opacity:1; fill:none\" points=\"1052.68,1384.24 1052.68,1384.24 1084.67,1384.24 1052.68,1384.24 \"/>\n",
       "<path clip-path=\"url(#clip142)\" d=\"M1084.67 1384.24 L1084.67 1384.24 L1116.65 1384.24 L1116.65 1384.24 L1084.67 1384.24 L1084.67 1384.24  Z\" fill=\"#009af9\" fill-rule=\"evenodd\" fill-opacity=\"1\"/>\n",
       "<polyline clip-path=\"url(#clip142)\" style=\"stroke:#000000; stroke-linecap:round; stroke-linejoin:round; stroke-width:4; stroke-opacity:1; fill:none\" points=\"1084.67,1384.24 1084.67,1384.24 1116.65,1384.24 1084.67,1384.24 \"/>\n",
       "<path clip-path=\"url(#clip142)\" d=\"M1116.65 1384.24 L1116.65 1384.24 L1148.64 1384.24 L1148.64 1384.24 L1116.65 1384.24 L1116.65 1384.24  Z\" fill=\"#009af9\" fill-rule=\"evenodd\" fill-opacity=\"1\"/>\n",
       "<polyline clip-path=\"url(#clip142)\" style=\"stroke:#000000; stroke-linecap:round; stroke-linejoin:round; stroke-width:4; stroke-opacity:1; fill:none\" points=\"1116.65,1384.24 1116.65,1384.24 1148.64,1384.24 1116.65,1384.24 \"/>\n",
       "<path clip-path=\"url(#clip142)\" d=\"M1148.64 1384.24 L1148.64 1384.24 L1180.62 1384.24 L1180.62 1384.24 L1148.64 1384.24 L1148.64 1384.24  Z\" fill=\"#009af9\" fill-rule=\"evenodd\" fill-opacity=\"1\"/>\n",
       "<polyline clip-path=\"url(#clip142)\" style=\"stroke:#000000; stroke-linecap:round; stroke-linejoin:round; stroke-width:4; stroke-opacity:1; fill:none\" points=\"1148.64,1384.24 1148.64,1384.24 1180.62,1384.24 1148.64,1384.24 \"/>\n",
       "<path clip-path=\"url(#clip142)\" d=\"M1180.62 1384.24 L1180.62 1384.24 L1212.61 1384.24 L1212.61 1384.24 L1180.62 1384.24 L1180.62 1384.24  Z\" fill=\"#009af9\" fill-rule=\"evenodd\" fill-opacity=\"1\"/>\n",
       "<polyline clip-path=\"url(#clip142)\" style=\"stroke:#000000; stroke-linecap:round; stroke-linejoin:round; stroke-width:4; stroke-opacity:1; fill:none\" points=\"1180.62,1384.24 1180.62,1384.24 1212.61,1384.24 1180.62,1384.24 \"/>\n",
       "<path clip-path=\"url(#clip142)\" d=\"M1212.61 1384.24 L1212.61 1384.24 L1244.6 1384.24 L1244.6 1384.24 L1212.61 1384.24 L1212.61 1384.24  Z\" fill=\"#009af9\" fill-rule=\"evenodd\" fill-opacity=\"1\"/>\n",
       "<polyline clip-path=\"url(#clip142)\" style=\"stroke:#000000; stroke-linecap:round; stroke-linejoin:round; stroke-width:4; stroke-opacity:1; fill:none\" points=\"1212.61,1384.24 1212.61,1384.24 1244.6,1384.24 1212.61,1384.24 \"/>\n",
       "<path clip-path=\"url(#clip142)\" d=\"M1244.6 1374.55 L1244.6 1384.24 L1276.58 1384.24 L1276.58 1374.55 L1244.6 1374.55 L1244.6 1374.55  Z\" fill=\"#009af9\" fill-rule=\"evenodd\" fill-opacity=\"1\"/>\n",
       "<polyline clip-path=\"url(#clip142)\" style=\"stroke:#000000; stroke-linecap:round; stroke-linejoin:round; stroke-width:4; stroke-opacity:1; fill:none\" points=\"1244.6,1374.55 1244.6,1384.24 1276.58,1384.24 1276.58,1374.55 1244.6,1374.55 \"/>\n",
       "<path clip-path=\"url(#clip142)\" d=\"M1276.58 1384.24 L1276.58 1384.24 L1308.57 1384.24 L1308.57 1384.24 L1276.58 1384.24 L1276.58 1384.24  Z\" fill=\"#009af9\" fill-rule=\"evenodd\" fill-opacity=\"1\"/>\n",
       "<polyline clip-path=\"url(#clip142)\" style=\"stroke:#000000; stroke-linecap:round; stroke-linejoin:round; stroke-width:4; stroke-opacity:1; fill:none\" points=\"1276.58,1384.24 1276.58,1384.24 1308.57,1384.24 1276.58,1384.24 \"/>\n",
       "<path clip-path=\"url(#clip142)\" d=\"M1308.57 1384.24 L1308.57 1384.24 L1340.55 1384.24 L1340.55 1384.24 L1308.57 1384.24 L1308.57 1384.24  Z\" fill=\"#009af9\" fill-rule=\"evenodd\" fill-opacity=\"1\"/>\n",
       "<polyline clip-path=\"url(#clip142)\" style=\"stroke:#000000; stroke-linecap:round; stroke-linejoin:round; stroke-width:4; stroke-opacity:1; fill:none\" points=\"1308.57,1384.24 1308.57,1384.24 1340.55,1384.24 1308.57,1384.24 \"/>\n",
       "<path clip-path=\"url(#clip142)\" d=\"M1340.55 1384.24 L1340.55 1384.24 L1372.54 1384.24 L1372.54 1384.24 L1340.55 1384.24 L1340.55 1384.24  Z\" fill=\"#009af9\" fill-rule=\"evenodd\" fill-opacity=\"1\"/>\n",
       "<polyline clip-path=\"url(#clip142)\" style=\"stroke:#000000; stroke-linecap:round; stroke-linejoin:round; stroke-width:4; stroke-opacity:1; fill:none\" points=\"1340.55,1384.24 1340.55,1384.24 1372.54,1384.24 1340.55,1384.24 \"/>\n",
       "<path clip-path=\"url(#clip142)\" d=\"M1372.54 1384.24 L1372.54 1384.24 L1404.52 1384.24 L1404.52 1384.24 L1372.54 1384.24 L1372.54 1384.24  Z\" fill=\"#009af9\" fill-rule=\"evenodd\" fill-opacity=\"1\"/>\n",
       "<polyline clip-path=\"url(#clip142)\" style=\"stroke:#000000; stroke-linecap:round; stroke-linejoin:round; stroke-width:4; stroke-opacity:1; fill:none\" points=\"1372.54,1384.24 1372.54,1384.24 1404.52,1384.24 1372.54,1384.24 \"/>\n",
       "<path clip-path=\"url(#clip142)\" d=\"M1404.52 1384.24 L1404.52 1384.24 L1436.51 1384.24 L1436.51 1384.24 L1404.52 1384.24 L1404.52 1384.24  Z\" fill=\"#009af9\" fill-rule=\"evenodd\" fill-opacity=\"1\"/>\n",
       "<polyline clip-path=\"url(#clip142)\" style=\"stroke:#000000; stroke-linecap:round; stroke-linejoin:round; stroke-width:4; stroke-opacity:1; fill:none\" points=\"1404.52,1384.24 1404.52,1384.24 1436.51,1384.24 1404.52,1384.24 \"/>\n",
       "<path clip-path=\"url(#clip142)\" d=\"M1436.51 1384.24 L1436.51 1384.24 L1468.49 1384.24 L1468.49 1384.24 L1436.51 1384.24 L1436.51 1384.24  Z\" fill=\"#009af9\" fill-rule=\"evenodd\" fill-opacity=\"1\"/>\n",
       "<polyline clip-path=\"url(#clip142)\" style=\"stroke:#000000; stroke-linecap:round; stroke-linejoin:round; stroke-width:4; stroke-opacity:1; fill:none\" points=\"1436.51,1384.24 1436.51,1384.24 1468.49,1384.24 1436.51,1384.24 \"/>\n",
       "<path clip-path=\"url(#clip142)\" d=\"M1468.49 1384.24 L1468.49 1384.24 L1500.48 1384.24 L1500.48 1384.24 L1468.49 1384.24 L1468.49 1384.24  Z\" fill=\"#009af9\" fill-rule=\"evenodd\" fill-opacity=\"1\"/>\n",
       "<polyline clip-path=\"url(#clip142)\" style=\"stroke:#000000; stroke-linecap:round; stroke-linejoin:round; stroke-width:4; stroke-opacity:1; fill:none\" points=\"1468.49,1384.24 1468.49,1384.24 1500.48,1384.24 1468.49,1384.24 \"/>\n",
       "<path clip-path=\"url(#clip142)\" d=\"M1500.48 1384.24 L1500.48 1384.24 L1532.46 1384.24 L1532.46 1384.24 L1500.48 1384.24 L1500.48 1384.24  Z\" fill=\"#009af9\" fill-rule=\"evenodd\" fill-opacity=\"1\"/>\n",
       "<polyline clip-path=\"url(#clip142)\" style=\"stroke:#000000; stroke-linecap:round; stroke-linejoin:round; stroke-width:4; stroke-opacity:1; fill:none\" points=\"1500.48,1384.24 1500.48,1384.24 1532.46,1384.24 1500.48,1384.24 \"/>\n",
       "<path clip-path=\"url(#clip142)\" d=\"M1532.46 1384.24 L1532.46 1384.24 L1564.45 1384.24 L1564.45 1384.24 L1532.46 1384.24 L1532.46 1384.24  Z\" fill=\"#009af9\" fill-rule=\"evenodd\" fill-opacity=\"1\"/>\n",
       "<polyline clip-path=\"url(#clip142)\" style=\"stroke:#000000; stroke-linecap:round; stroke-linejoin:round; stroke-width:4; stroke-opacity:1; fill:none\" points=\"1532.46,1384.24 1532.46,1384.24 1564.45,1384.24 1532.46,1384.24 \"/>\n",
       "<path clip-path=\"url(#clip142)\" d=\"M1564.45 1384.24 L1564.45 1384.24 L1596.43 1384.24 L1596.43 1384.24 L1564.45 1384.24 L1564.45 1384.24  Z\" fill=\"#009af9\" fill-rule=\"evenodd\" fill-opacity=\"1\"/>\n",
       "<polyline clip-path=\"url(#clip142)\" style=\"stroke:#000000; stroke-linecap:round; stroke-linejoin:round; stroke-width:4; stroke-opacity:1; fill:none\" points=\"1564.45,1384.24 1564.45,1384.24 1596.43,1384.24 1564.45,1384.24 \"/>\n",
       "<path clip-path=\"url(#clip142)\" d=\"M1596.43 1384.24 L1596.43 1384.24 L1628.42 1384.24 L1628.42 1384.24 L1596.43 1384.24 L1596.43 1384.24  Z\" fill=\"#009af9\" fill-rule=\"evenodd\" fill-opacity=\"1\"/>\n",
       "<polyline clip-path=\"url(#clip142)\" style=\"stroke:#000000; stroke-linecap:round; stroke-linejoin:round; stroke-width:4; stroke-opacity:1; fill:none\" points=\"1596.43,1384.24 1596.43,1384.24 1628.42,1384.24 1596.43,1384.24 \"/>\n",
       "<path clip-path=\"url(#clip142)\" d=\"M1628.42 1384.24 L1628.42 1384.24 L1660.4 1384.24 L1660.4 1384.24 L1628.42 1384.24 L1628.42 1384.24  Z\" fill=\"#009af9\" fill-rule=\"evenodd\" fill-opacity=\"1\"/>\n",
       "<polyline clip-path=\"url(#clip142)\" style=\"stroke:#000000; stroke-linecap:round; stroke-linejoin:round; stroke-width:4; stroke-opacity:1; fill:none\" points=\"1628.42,1384.24 1628.42,1384.24 1660.4,1384.24 1628.42,1384.24 \"/>\n",
       "<path clip-path=\"url(#clip142)\" d=\"M1660.4 1384.24 L1660.4 1384.24 L1692.39 1384.24 L1692.39 1384.24 L1660.4 1384.24 L1660.4 1384.24  Z\" fill=\"#009af9\" fill-rule=\"evenodd\" fill-opacity=\"1\"/>\n",
       "<polyline clip-path=\"url(#clip142)\" style=\"stroke:#000000; stroke-linecap:round; stroke-linejoin:round; stroke-width:4; stroke-opacity:1; fill:none\" points=\"1660.4,1384.24 1660.4,1384.24 1692.39,1384.24 1660.4,1384.24 \"/>\n",
       "<path clip-path=\"url(#clip142)\" d=\"M1692.39 1384.24 L1692.39 1384.24 L1724.37 1384.24 L1724.37 1384.24 L1692.39 1384.24 L1692.39 1384.24  Z\" fill=\"#009af9\" fill-rule=\"evenodd\" fill-opacity=\"1\"/>\n",
       "<polyline clip-path=\"url(#clip142)\" style=\"stroke:#000000; stroke-linecap:round; stroke-linejoin:round; stroke-width:4; stroke-opacity:1; fill:none\" points=\"1692.39,1384.24 1692.39,1384.24 1724.37,1384.24 1692.39,1384.24 \"/>\n",
       "<path clip-path=\"url(#clip142)\" d=\"M1724.37 1384.24 L1724.37 1384.24 L1756.36 1384.24 L1756.36 1384.24 L1724.37 1384.24 L1724.37 1384.24  Z\" fill=\"#009af9\" fill-rule=\"evenodd\" fill-opacity=\"1\"/>\n",
       "<polyline clip-path=\"url(#clip142)\" style=\"stroke:#000000; stroke-linecap:round; stroke-linejoin:round; stroke-width:4; stroke-opacity:1; fill:none\" points=\"1724.37,1384.24 1724.37,1384.24 1756.36,1384.24 1724.37,1384.24 \"/>\n",
       "<path clip-path=\"url(#clip142)\" d=\"M1756.36 1384.24 L1756.36 1384.24 L1788.34 1384.24 L1788.34 1384.24 L1756.36 1384.24 L1756.36 1384.24  Z\" fill=\"#009af9\" fill-rule=\"evenodd\" fill-opacity=\"1\"/>\n",
       "<polyline clip-path=\"url(#clip142)\" style=\"stroke:#000000; stroke-linecap:round; stroke-linejoin:round; stroke-width:4; stroke-opacity:1; fill:none\" points=\"1756.36,1384.24 1756.36,1384.24 1788.34,1384.24 1756.36,1384.24 \"/>\n",
       "<path clip-path=\"url(#clip142)\" d=\"M1788.34 1384.24 L1788.34 1384.24 L1820.33 1384.24 L1820.33 1384.24 L1788.34 1384.24 L1788.34 1384.24  Z\" fill=\"#009af9\" fill-rule=\"evenodd\" fill-opacity=\"1\"/>\n",
       "<polyline clip-path=\"url(#clip142)\" style=\"stroke:#000000; stroke-linecap:round; stroke-linejoin:round; stroke-width:4; stroke-opacity:1; fill:none\" points=\"1788.34,1384.24 1788.34,1384.24 1820.33,1384.24 1788.34,1384.24 \"/>\n",
       "<path clip-path=\"url(#clip142)\" d=\"M1820.33 1384.24 L1820.33 1384.24 L1852.31 1384.24 L1852.31 1384.24 L1820.33 1384.24 L1820.33 1384.24  Z\" fill=\"#009af9\" fill-rule=\"evenodd\" fill-opacity=\"1\"/>\n",
       "<polyline clip-path=\"url(#clip142)\" style=\"stroke:#000000; stroke-linecap:round; stroke-linejoin:round; stroke-width:4; stroke-opacity:1; fill:none\" points=\"1820.33,1384.24 1820.33,1384.24 1852.31,1384.24 1820.33,1384.24 \"/>\n",
       "<path clip-path=\"url(#clip142)\" d=\"M1852.31 1384.24 L1852.31 1384.24 L1884.3 1384.24 L1884.3 1384.24 L1852.31 1384.24 L1852.31 1384.24  Z\" fill=\"#009af9\" fill-rule=\"evenodd\" fill-opacity=\"1\"/>\n",
       "<polyline clip-path=\"url(#clip142)\" style=\"stroke:#000000; stroke-linecap:round; stroke-linejoin:round; stroke-width:4; stroke-opacity:1; fill:none\" points=\"1852.31,1384.24 1852.31,1384.24 1884.3,1384.24 1852.31,1384.24 \"/>\n",
       "<path clip-path=\"url(#clip142)\" d=\"M1884.3 1384.24 L1884.3 1384.24 L1916.28 1384.24 L1916.28 1384.24 L1884.3 1384.24 L1884.3 1384.24  Z\" fill=\"#009af9\" fill-rule=\"evenodd\" fill-opacity=\"1\"/>\n",
       "<polyline clip-path=\"url(#clip142)\" style=\"stroke:#000000; stroke-linecap:round; stroke-linejoin:round; stroke-width:4; stroke-opacity:1; fill:none\" points=\"1884.3,1384.24 1884.3,1384.24 1916.28,1384.24 1884.3,1384.24 \"/>\n",
       "<path clip-path=\"url(#clip142)\" d=\"M1916.28 1374.55 L1916.28 1384.24 L1948.27 1384.24 L1948.27 1374.55 L1916.28 1374.55 L1916.28 1374.55  Z\" fill=\"#009af9\" fill-rule=\"evenodd\" fill-opacity=\"1\"/>\n",
       "<polyline clip-path=\"url(#clip142)\" style=\"stroke:#000000; stroke-linecap:round; stroke-linejoin:round; stroke-width:4; stroke-opacity:1; fill:none\" points=\"1916.28,1374.55 1916.28,1384.24 1948.27,1384.24 1948.27,1374.55 1916.28,1374.55 \"/>\n",
       "<path clip-path=\"url(#clip142)\" d=\"M1948.27 1384.24 L1948.27 1384.24 L1980.25 1384.24 L1980.25 1384.24 L1948.27 1384.24 L1948.27 1384.24  Z\" fill=\"#009af9\" fill-rule=\"evenodd\" fill-opacity=\"1\"/>\n",
       "<polyline clip-path=\"url(#clip142)\" style=\"stroke:#000000; stroke-linecap:round; stroke-linejoin:round; stroke-width:4; stroke-opacity:1; fill:none\" points=\"1948.27,1384.24 1948.27,1384.24 1980.25,1384.24 1948.27,1384.24 \"/>\n",
       "<path clip-path=\"url(#clip142)\" d=\"M1980.25 1384.24 L1980.25 1384.24 L2012.24 1384.24 L2012.24 1384.24 L1980.25 1384.24 L1980.25 1384.24  Z\" fill=\"#009af9\" fill-rule=\"evenodd\" fill-opacity=\"1\"/>\n",
       "<polyline clip-path=\"url(#clip142)\" style=\"stroke:#000000; stroke-linecap:round; stroke-linejoin:round; stroke-width:4; stroke-opacity:1; fill:none\" points=\"1980.25,1384.24 1980.25,1384.24 2012.24,1384.24 1980.25,1384.24 \"/>\n",
       "<path clip-path=\"url(#clip142)\" d=\"M2012.24 1384.24 L2012.24 1384.24 L2044.22 1384.24 L2044.22 1384.24 L2012.24 1384.24 L2012.24 1384.24  Z\" fill=\"#009af9\" fill-rule=\"evenodd\" fill-opacity=\"1\"/>\n",
       "<polyline clip-path=\"url(#clip142)\" style=\"stroke:#000000; stroke-linecap:round; stroke-linejoin:round; stroke-width:4; stroke-opacity:1; fill:none\" points=\"2012.24,1384.24 2012.24,1384.24 2044.22,1384.24 2012.24,1384.24 \"/>\n",
       "<path clip-path=\"url(#clip142)\" d=\"M2044.22 1384.24 L2044.22 1384.24 L2076.21 1384.24 L2076.21 1384.24 L2044.22 1384.24 L2044.22 1384.24  Z\" fill=\"#009af9\" fill-rule=\"evenodd\" fill-opacity=\"1\"/>\n",
       "<polyline clip-path=\"url(#clip142)\" style=\"stroke:#000000; stroke-linecap:round; stroke-linejoin:round; stroke-width:4; stroke-opacity:1; fill:none\" points=\"2044.22,1384.24 2044.22,1384.24 2076.21,1384.24 2044.22,1384.24 \"/>\n",
       "<path clip-path=\"url(#clip142)\" d=\"M2076.21 1384.24 L2076.21 1384.24 L2108.19 1384.24 L2108.19 1384.24 L2076.21 1384.24 L2076.21 1384.24  Z\" fill=\"#009af9\" fill-rule=\"evenodd\" fill-opacity=\"1\"/>\n",
       "<polyline clip-path=\"url(#clip142)\" style=\"stroke:#000000; stroke-linecap:round; stroke-linejoin:round; stroke-width:4; stroke-opacity:1; fill:none\" points=\"2076.21,1384.24 2076.21,1384.24 2108.19,1384.24 2076.21,1384.24 \"/>\n",
       "<path clip-path=\"url(#clip142)\" d=\"M2108.19 1374.55 L2108.19 1384.24 L2140.18 1384.24 L2140.18 1374.55 L2108.19 1374.55 L2108.19 1374.55  Z\" fill=\"#009af9\" fill-rule=\"evenodd\" fill-opacity=\"1\"/>\n",
       "<polyline clip-path=\"url(#clip142)\" style=\"stroke:#000000; stroke-linecap:round; stroke-linejoin:round; stroke-width:4; stroke-opacity:1; fill:none\" points=\"2108.19,1374.55 2108.19,1384.24 2140.18,1384.24 2140.18,1374.55 2108.19,1374.55 \"/>\n",
       "<path clip-path=\"url(#clip142)\" d=\"M2140.18 1384.24 L2140.18 1384.24 L2172.16 1384.24 L2172.16 1384.24 L2140.18 1384.24 L2140.18 1384.24  Z\" fill=\"#009af9\" fill-rule=\"evenodd\" fill-opacity=\"1\"/>\n",
       "<polyline clip-path=\"url(#clip142)\" style=\"stroke:#000000; stroke-linecap:round; stroke-linejoin:round; stroke-width:4; stroke-opacity:1; fill:none\" points=\"2140.18,1384.24 2140.18,1384.24 2172.16,1384.24 2140.18,1384.24 \"/>\n",
       "<path clip-path=\"url(#clip142)\" d=\"M2172.16 1384.24 L2172.16 1384.24 L2204.15 1384.24 L2204.15 1384.24 L2172.16 1384.24 L2172.16 1384.24  Z\" fill=\"#009af9\" fill-rule=\"evenodd\" fill-opacity=\"1\"/>\n",
       "<polyline clip-path=\"url(#clip142)\" style=\"stroke:#000000; stroke-linecap:round; stroke-linejoin:round; stroke-width:4; stroke-opacity:1; fill:none\" points=\"2172.16,1384.24 2172.16,1384.24 2204.15,1384.24 2172.16,1384.24 \"/>\n",
       "<path clip-path=\"url(#clip142)\" d=\"M2204.15 1267.99 L2204.15 1384.24 L2236.13 1384.24 L2236.13 1267.99 L2204.15 1267.99 L2204.15 1267.99  Z\" fill=\"#009af9\" fill-rule=\"evenodd\" fill-opacity=\"1\"/>\n",
       "<polyline clip-path=\"url(#clip142)\" style=\"stroke:#000000; stroke-linecap:round; stroke-linejoin:round; stroke-width:4; stroke-opacity:1; fill:none\" points=\"2204.15,1267.99 2204.15,1384.24 2236.13,1384.24 2236.13,1267.99 2204.15,1267.99 \"/>\n",
       "<circle clip-path=\"url(#clip142)\" style=\"fill:#009af9; stroke:none; fill-opacity:0\" cx=\"365.006\" cy=\"86.1857\" r=\"2\"/>\n",
       "<circle clip-path=\"url(#clip142)\" style=\"fill:#009af9; stroke:none; fill-opacity:0\" cx=\"396.991\" cy=\"1287.37\" r=\"2\"/>\n",
       "<circle clip-path=\"url(#clip142)\" style=\"fill:#009af9; stroke:none; fill-opacity:0\" cx=\"428.976\" cy=\"1306.74\" r=\"2\"/>\n",
       "<circle clip-path=\"url(#clip142)\" style=\"fill:#009af9; stroke:none; fill-opacity:0\" cx=\"460.961\" cy=\"1364.86\" r=\"2\"/>\n",
       "<circle clip-path=\"url(#clip142)\" style=\"fill:#009af9; stroke:none; fill-opacity:0\" cx=\"492.946\" cy=\"1384.24\" r=\"2\"/>\n",
       "<circle clip-path=\"url(#clip142)\" style=\"fill:#009af9; stroke:none; fill-opacity:0\" cx=\"524.931\" cy=\"1355.18\" r=\"2\"/>\n",
       "<circle clip-path=\"url(#clip142)\" style=\"fill:#009af9; stroke:none; fill-opacity:0\" cx=\"556.916\" cy=\"1335.8\" r=\"2\"/>\n",
       "<circle clip-path=\"url(#clip142)\" style=\"fill:#009af9; stroke:none; fill-opacity:0\" cx=\"588.901\" cy=\"1364.86\" r=\"2\"/>\n",
       "<circle clip-path=\"url(#clip142)\" style=\"fill:#009af9; stroke:none; fill-opacity:0\" cx=\"620.886\" cy=\"1384.24\" r=\"2\"/>\n",
       "<circle clip-path=\"url(#clip142)\" style=\"fill:#009af9; stroke:none; fill-opacity:0\" cx=\"652.871\" cy=\"1384.24\" r=\"2\"/>\n",
       "<circle clip-path=\"url(#clip142)\" style=\"fill:#009af9; stroke:none; fill-opacity:0\" cx=\"684.856\" cy=\"1384.24\" r=\"2\"/>\n",
       "<circle clip-path=\"url(#clip142)\" style=\"fill:#009af9; stroke:none; fill-opacity:0\" cx=\"716.842\" cy=\"1374.55\" r=\"2\"/>\n",
       "<circle clip-path=\"url(#clip142)\" style=\"fill:#009af9; stroke:none; fill-opacity:0\" cx=\"748.827\" cy=\"1384.24\" r=\"2\"/>\n",
       "<circle clip-path=\"url(#clip142)\" style=\"fill:#009af9; stroke:none; fill-opacity:0\" cx=\"780.812\" cy=\"1374.55\" r=\"2\"/>\n",
       "<circle clip-path=\"url(#clip142)\" style=\"fill:#009af9; stroke:none; fill-opacity:0\" cx=\"812.797\" cy=\"1364.86\" r=\"2\"/>\n",
       "<circle clip-path=\"url(#clip142)\" style=\"fill:#009af9; stroke:none; fill-opacity:0\" cx=\"844.782\" cy=\"1384.24\" r=\"2\"/>\n",
       "<circle clip-path=\"url(#clip142)\" style=\"fill:#009af9; stroke:none; fill-opacity:0\" cx=\"876.767\" cy=\"1364.86\" r=\"2\"/>\n",
       "<circle clip-path=\"url(#clip142)\" style=\"fill:#009af9; stroke:none; fill-opacity:0\" cx=\"908.752\" cy=\"1384.24\" r=\"2\"/>\n",
       "<circle clip-path=\"url(#clip142)\" style=\"fill:#009af9; stroke:none; fill-opacity:0\" cx=\"940.737\" cy=\"1384.24\" r=\"2\"/>\n",
       "<circle clip-path=\"url(#clip142)\" style=\"fill:#009af9; stroke:none; fill-opacity:0\" cx=\"972.722\" cy=\"1384.24\" r=\"2\"/>\n",
       "<circle clip-path=\"url(#clip142)\" style=\"fill:#009af9; stroke:none; fill-opacity:0\" cx=\"1004.71\" cy=\"1384.24\" r=\"2\"/>\n",
       "<circle clip-path=\"url(#clip142)\" style=\"fill:#009af9; stroke:none; fill-opacity:0\" cx=\"1036.69\" cy=\"1374.55\" r=\"2\"/>\n",
       "<circle clip-path=\"url(#clip142)\" style=\"fill:#009af9; stroke:none; fill-opacity:0\" cx=\"1068.68\" cy=\"1384.24\" r=\"2\"/>\n",
       "<circle clip-path=\"url(#clip142)\" style=\"fill:#009af9; stroke:none; fill-opacity:0\" cx=\"1100.66\" cy=\"1384.24\" r=\"2\"/>\n",
       "<circle clip-path=\"url(#clip142)\" style=\"fill:#009af9; stroke:none; fill-opacity:0\" cx=\"1132.65\" cy=\"1384.24\" r=\"2\"/>\n",
       "<circle clip-path=\"url(#clip142)\" style=\"fill:#009af9; stroke:none; fill-opacity:0\" cx=\"1164.63\" cy=\"1384.24\" r=\"2\"/>\n",
       "<circle clip-path=\"url(#clip142)\" style=\"fill:#009af9; stroke:none; fill-opacity:0\" cx=\"1196.62\" cy=\"1384.24\" r=\"2\"/>\n",
       "<circle clip-path=\"url(#clip142)\" style=\"fill:#009af9; stroke:none; fill-opacity:0\" cx=\"1228.6\" cy=\"1384.24\" r=\"2\"/>\n",
       "<circle clip-path=\"url(#clip142)\" style=\"fill:#009af9; stroke:none; fill-opacity:0\" cx=\"1260.59\" cy=\"1374.55\" r=\"2\"/>\n",
       "<circle clip-path=\"url(#clip142)\" style=\"fill:#009af9; stroke:none; fill-opacity:0\" cx=\"1292.57\" cy=\"1384.24\" r=\"2\"/>\n",
       "<circle clip-path=\"url(#clip142)\" style=\"fill:#009af9; stroke:none; fill-opacity:0\" cx=\"1324.56\" cy=\"1384.24\" r=\"2\"/>\n",
       "<circle clip-path=\"url(#clip142)\" style=\"fill:#009af9; stroke:none; fill-opacity:0\" cx=\"1356.54\" cy=\"1384.24\" r=\"2\"/>\n",
       "<circle clip-path=\"url(#clip142)\" style=\"fill:#009af9; stroke:none; fill-opacity:0\" cx=\"1388.53\" cy=\"1384.24\" r=\"2\"/>\n",
       "<circle clip-path=\"url(#clip142)\" style=\"fill:#009af9; stroke:none; fill-opacity:0\" cx=\"1420.51\" cy=\"1384.24\" r=\"2\"/>\n",
       "<circle clip-path=\"url(#clip142)\" style=\"fill:#009af9; stroke:none; fill-opacity:0\" cx=\"1452.5\" cy=\"1384.24\" r=\"2\"/>\n",
       "<circle clip-path=\"url(#clip142)\" style=\"fill:#009af9; stroke:none; fill-opacity:0\" cx=\"1484.48\" cy=\"1384.24\" r=\"2\"/>\n",
       "<circle clip-path=\"url(#clip142)\" style=\"fill:#009af9; stroke:none; fill-opacity:0\" cx=\"1516.47\" cy=\"1384.24\" r=\"2\"/>\n",
       "<circle clip-path=\"url(#clip142)\" style=\"fill:#009af9; stroke:none; fill-opacity:0\" cx=\"1548.45\" cy=\"1384.24\" r=\"2\"/>\n",
       "<circle clip-path=\"url(#clip142)\" style=\"fill:#009af9; stroke:none; fill-opacity:0\" cx=\"1580.44\" cy=\"1384.24\" r=\"2\"/>\n",
       "<circle clip-path=\"url(#clip142)\" style=\"fill:#009af9; stroke:none; fill-opacity:0\" cx=\"1612.42\" cy=\"1384.24\" r=\"2\"/>\n",
       "<circle clip-path=\"url(#clip142)\" style=\"fill:#009af9; stroke:none; fill-opacity:0\" cx=\"1644.41\" cy=\"1384.24\" r=\"2\"/>\n",
       "<circle clip-path=\"url(#clip142)\" style=\"fill:#009af9; stroke:none; fill-opacity:0\" cx=\"1676.39\" cy=\"1384.24\" r=\"2\"/>\n",
       "<circle clip-path=\"url(#clip142)\" style=\"fill:#009af9; stroke:none; fill-opacity:0\" cx=\"1708.38\" cy=\"1384.24\" r=\"2\"/>\n",
       "<circle clip-path=\"url(#clip142)\" style=\"fill:#009af9; stroke:none; fill-opacity:0\" cx=\"1740.36\" cy=\"1384.24\" r=\"2\"/>\n",
       "<circle clip-path=\"url(#clip142)\" style=\"fill:#009af9; stroke:none; fill-opacity:0\" cx=\"1772.35\" cy=\"1384.24\" r=\"2\"/>\n",
       "<circle clip-path=\"url(#clip142)\" style=\"fill:#009af9; stroke:none; fill-opacity:0\" cx=\"1804.33\" cy=\"1384.24\" r=\"2\"/>\n",
       "<circle clip-path=\"url(#clip142)\" style=\"fill:#009af9; stroke:none; fill-opacity:0\" cx=\"1836.32\" cy=\"1384.24\" r=\"2\"/>\n",
       "<circle clip-path=\"url(#clip142)\" style=\"fill:#009af9; stroke:none; fill-opacity:0\" cx=\"1868.3\" cy=\"1384.24\" r=\"2\"/>\n",
       "<circle clip-path=\"url(#clip142)\" style=\"fill:#009af9; stroke:none; fill-opacity:0\" cx=\"1900.29\" cy=\"1384.24\" r=\"2\"/>\n",
       "<circle clip-path=\"url(#clip142)\" style=\"fill:#009af9; stroke:none; fill-opacity:0\" cx=\"1932.27\" cy=\"1374.55\" r=\"2\"/>\n",
       "<circle clip-path=\"url(#clip142)\" style=\"fill:#009af9; stroke:none; fill-opacity:0\" cx=\"1964.26\" cy=\"1384.24\" r=\"2\"/>\n",
       "<circle clip-path=\"url(#clip142)\" style=\"fill:#009af9; stroke:none; fill-opacity:0\" cx=\"1996.24\" cy=\"1384.24\" r=\"2\"/>\n",
       "<circle clip-path=\"url(#clip142)\" style=\"fill:#009af9; stroke:none; fill-opacity:0\" cx=\"2028.23\" cy=\"1384.24\" r=\"2\"/>\n",
       "<circle clip-path=\"url(#clip142)\" style=\"fill:#009af9; stroke:none; fill-opacity:0\" cx=\"2060.21\" cy=\"1384.24\" r=\"2\"/>\n",
       "<circle clip-path=\"url(#clip142)\" style=\"fill:#009af9; stroke:none; fill-opacity:0\" cx=\"2092.2\" cy=\"1384.24\" r=\"2\"/>\n",
       "<circle clip-path=\"url(#clip142)\" style=\"fill:#009af9; stroke:none; fill-opacity:0\" cx=\"2124.18\" cy=\"1374.55\" r=\"2\"/>\n",
       "<circle clip-path=\"url(#clip142)\" style=\"fill:#009af9; stroke:none; fill-opacity:0\" cx=\"2156.17\" cy=\"1384.24\" r=\"2\"/>\n",
       "<circle clip-path=\"url(#clip142)\" style=\"fill:#009af9; stroke:none; fill-opacity:0\" cx=\"2188.15\" cy=\"1384.24\" r=\"2\"/>\n",
       "<circle clip-path=\"url(#clip142)\" style=\"fill:#009af9; stroke:none; fill-opacity:0\" cx=\"2220.14\" cy=\"1267.99\" r=\"2\"/>\n",
       "<path clip-path=\"url(#clip140)\" d=\"M1670.02 196.789 L2282.08 196.789 L2282.08 93.1086 L1670.02 93.1086  Z\" fill=\"#ffffff\" fill-rule=\"evenodd\" fill-opacity=\"1\"/>\n",
       "<polyline clip-path=\"url(#clip140)\" style=\"stroke:#000000; stroke-linecap:round; stroke-linejoin:round; stroke-width:4; stroke-opacity:1; fill:none\" points=\"1670.02,196.789 2282.08,196.789 2282.08,93.1086 1670.02,93.1086 1670.02,196.789 \"/>\n",
       "<path clip-path=\"url(#clip140)\" d=\"M1693.58 165.685 L1834.94 165.685 L1834.94 124.213 L1693.58 124.213 L1693.58 165.685  Z\" fill=\"#009af9\" fill-rule=\"evenodd\" fill-opacity=\"1\"/>\n",
       "<polyline clip-path=\"url(#clip140)\" style=\"stroke:#000000; stroke-linecap:round; stroke-linejoin:round; stroke-width:4; stroke-opacity:1; fill:none\" points=\"1693.58,165.685 1834.94,165.685 1834.94,124.213 1693.58,124.213 1693.58,165.685 \"/>\n",
       "<path clip-path=\"url(#clip140)\" d=\"M1858.5 127.669 L1865.46 127.669 L1874.28 151.187 L1883.15 127.669 L1890.12 127.669 L1890.12 162.229 L1885.56 162.229 L1885.56 131.882 L1876.64 155.585 L1871.95 155.585 L1863.03 131.882 L1863.03 162.229 L1858.5 162.229 L1858.5 127.669 Z\" fill=\"#000000\" fill-rule=\"nonzero\" fill-opacity=\"1\" /><path clip-path=\"url(#clip140)\" d=\"M1909.26 139.289 Q1905.83 139.289 1903.84 141.974 Q1901.85 144.636 1901.85 149.289 Q1901.85 153.942 1903.82 156.627 Q1905.81 159.289 1909.26 159.289 Q1912.66 159.289 1914.65 156.604 Q1916.64 153.918 1916.64 149.289 Q1916.64 144.682 1914.65 141.997 Q1912.66 139.289 1909.26 139.289 M1909.26 135.678 Q1914.82 135.678 1917.99 139.289 Q1921.16 142.9 1921.16 149.289 Q1921.16 155.655 1917.99 159.289 Q1914.82 162.9 1909.26 162.9 Q1903.68 162.9 1900.51 159.289 Q1897.36 155.655 1897.36 149.289 Q1897.36 142.9 1900.51 139.289 Q1903.68 135.678 1909.26 135.678 Z\" fill=\"#000000\" fill-rule=\"nonzero\" fill-opacity=\"1\" /><path clip-path=\"url(#clip140)\" d=\"M1945.28 140.238 L1945.28 126.21 L1949.54 126.21 L1949.54 162.229 L1945.28 162.229 L1945.28 158.34 Q1943.94 160.655 1941.88 161.789 Q1939.84 162.9 1936.97 162.9 Q1932.27 162.9 1929.31 159.15 Q1926.37 155.4 1926.37 149.289 Q1926.37 143.178 1929.31 139.428 Q1932.27 135.678 1936.97 135.678 Q1939.84 135.678 1941.88 136.812 Q1943.94 137.923 1945.28 140.238 M1930.76 149.289 Q1930.76 153.988 1932.69 156.673 Q1934.63 159.335 1938.01 159.335 Q1941.39 159.335 1943.33 156.673 Q1945.28 153.988 1945.28 149.289 Q1945.28 144.59 1943.33 141.928 Q1941.39 139.243 1938.01 139.243 Q1934.63 139.243 1932.69 141.928 Q1930.76 144.59 1930.76 149.289 Z\" fill=\"#000000\" fill-rule=\"nonzero\" fill-opacity=\"1\" /><path clip-path=\"url(#clip140)\" d=\"M1980.49 148.201 L1980.49 150.284 L1960.9 150.284 Q1961.18 154.682 1963.54 156.997 Q1965.93 159.289 1970.16 159.289 Q1972.62 159.289 1974.91 158.687 Q1977.22 158.085 1979.49 156.881 L1979.49 160.909 Q1977.2 161.881 1974.79 162.391 Q1972.38 162.9 1969.91 162.9 Q1963.7 162.9 1960.07 159.289 Q1956.46 155.678 1956.46 149.52 Q1956.46 143.155 1959.88 139.428 Q1963.33 135.678 1969.17 135.678 Q1974.4 135.678 1977.43 139.057 Q1980.49 142.414 1980.49 148.201 M1976.23 146.951 Q1976.18 143.456 1974.26 141.372 Q1972.36 139.289 1969.21 139.289 Q1965.65 139.289 1963.5 141.303 Q1961.37 143.317 1961.04 146.974 L1976.23 146.951 Z\" fill=\"#000000\" fill-rule=\"nonzero\" fill-opacity=\"1\" /><path clip-path=\"url(#clip140)\" d=\"M1987.48 126.21 L1991.74 126.21 L1991.74 162.229 L1987.48 162.229 L1987.48 126.21 Z\" fill=\"#000000\" fill-rule=\"nonzero\" fill-opacity=\"1\" /><path clip-path=\"url(#clip140)\" d=\"M2009.75 162.229 L1996.55 127.669 L2001.44 127.669 L2012.38 156.766 L2023.36 127.669 L2028.22 127.669 L2015.05 162.229 L2009.75 162.229 Z\" fill=\"#000000\" fill-rule=\"nonzero\" fill-opacity=\"1\" /><path clip-path=\"url(#clip140)\" d=\"M2051.57 148.201 L2051.57 150.284 L2031.99 150.284 Q2032.27 154.682 2034.63 156.997 Q2037.01 159.289 2041.25 159.289 Q2043.7 159.289 2046 158.687 Q2048.31 158.085 2050.58 156.881 L2050.58 160.909 Q2048.29 161.881 2045.88 162.391 Q2043.47 162.9 2041 162.9 Q2034.79 162.9 2031.16 159.289 Q2027.55 155.678 2027.55 149.52 Q2027.55 143.155 2030.97 139.428 Q2034.42 135.678 2040.25 135.678 Q2045.49 135.678 2048.52 139.057 Q2051.57 142.414 2051.57 148.201 M2047.31 146.951 Q2047.27 143.456 2045.35 141.372 Q2043.45 139.289 2040.3 139.289 Q2036.74 139.289 2034.58 141.303 Q2032.45 143.317 2032.13 146.974 L2047.31 146.951 Z\" fill=\"#000000\" fill-rule=\"nonzero\" fill-opacity=\"1\" /><path clip-path=\"url(#clip140)\" d=\"M2073.59 140.284 Q2072.87 139.868 2072.01 139.682 Q2071.18 139.474 2070.16 139.474 Q2066.55 139.474 2064.61 141.835 Q2062.69 144.173 2062.69 148.571 L2062.69 162.229 L2058.4 162.229 L2058.4 136.303 L2062.69 136.303 L2062.69 140.331 Q2064.03 137.969 2066.18 136.835 Q2068.33 135.678 2071.41 135.678 Q2071.85 135.678 2072.38 135.747 Q2072.92 135.794 2073.56 135.909 L2073.59 140.284 Z\" fill=\"#000000\" fill-rule=\"nonzero\" fill-opacity=\"1\" /><path clip-path=\"url(#clip140)\" d=\"M2078.06 136.303 L2082.31 136.303 L2082.31 162.229 L2078.06 162.229 L2078.06 136.303 M2078.06 126.21 L2082.31 126.21 L2082.31 131.604 L2078.06 131.604 L2078.06 126.21 Z\" fill=\"#000000\" fill-rule=\"nonzero\" fill-opacity=\"1\" /><path clip-path=\"url(#clip140)\" d=\"M2104.35 126.21 L2104.35 129.752 L2100.28 129.752 Q2097.99 129.752 2097.08 130.678 Q2096.2 131.604 2096.2 134.011 L2096.2 136.303 L2103.22 136.303 L2103.22 139.613 L2096.2 139.613 L2096.2 162.229 L2091.92 162.229 L2091.92 139.613 L2087.85 139.613 L2087.85 136.303 L2091.92 136.303 L2091.92 134.497 Q2091.92 130.169 2093.93 128.201 Q2095.95 126.21 2100.32 126.21 L2104.35 126.21 Z\" fill=\"#000000\" fill-rule=\"nonzero\" fill-opacity=\"1\" /><path clip-path=\"url(#clip140)\" d=\"M2107.92 136.303 L2112.18 136.303 L2112.18 162.229 L2107.92 162.229 L2107.92 136.303 M2107.92 126.21 L2112.18 126.21 L2112.18 131.604 L2107.92 131.604 L2107.92 126.21 Z\" fill=\"#000000\" fill-rule=\"nonzero\" fill-opacity=\"1\" /><path clip-path=\"url(#clip140)\" d=\"M2139.74 137.298 L2139.74 141.28 Q2137.94 140.284 2136.11 139.798 Q2134.31 139.289 2132.45 139.289 Q2128.31 139.289 2126.02 141.928 Q2123.73 144.544 2123.73 149.289 Q2123.73 154.034 2126.02 156.673 Q2128.31 159.289 2132.45 159.289 Q2134.31 159.289 2136.11 158.803 Q2137.94 158.293 2139.74 157.298 L2139.74 161.233 Q2137.96 162.067 2136.04 162.483 Q2134.14 162.9 2131.99 162.9 Q2126.13 162.9 2122.68 159.219 Q2119.24 155.539 2119.24 149.289 Q2119.24 142.946 2122.71 139.312 Q2126.2 135.678 2132.27 135.678 Q2134.24 135.678 2136.11 136.095 Q2137.99 136.488 2139.74 137.298 Z\" fill=\"#000000\" fill-rule=\"nonzero\" fill-opacity=\"1\" /><path clip-path=\"url(#clip140)\" d=\"M2158.93 149.196 Q2153.77 149.196 2151.78 150.377 Q2149.79 151.557 2149.79 154.405 Q2149.79 156.673 2151.27 158.016 Q2152.78 159.335 2155.35 159.335 Q2158.89 159.335 2161.02 156.835 Q2163.17 154.312 2163.17 150.145 L2163.17 149.196 L2158.93 149.196 M2167.43 147.437 L2167.43 162.229 L2163.17 162.229 L2163.17 158.293 Q2161.71 160.655 2159.54 161.789 Q2157.36 162.9 2154.21 162.9 Q2150.23 162.9 2147.87 160.678 Q2145.53 158.432 2145.53 154.682 Q2145.53 150.307 2148.45 148.085 Q2151.39 145.863 2157.2 145.863 L2163.17 145.863 L2163.17 145.446 Q2163.17 142.507 2161.23 140.909 Q2159.3 139.289 2155.81 139.289 Q2153.59 139.289 2151.48 139.821 Q2149.37 140.354 2147.43 141.419 L2147.43 137.483 Q2149.77 136.581 2151.97 136.141 Q2154.17 135.678 2156.25 135.678 Q2161.87 135.678 2164.65 138.594 Q2167.43 141.511 2167.43 147.437 Z\" fill=\"#000000\" fill-rule=\"nonzero\" fill-opacity=\"1\" /><path clip-path=\"url(#clip140)\" d=\"M2180.42 128.942 L2180.42 136.303 L2189.19 136.303 L2189.19 139.613 L2180.42 139.613 L2180.42 153.687 Q2180.42 156.858 2181.27 157.761 Q2182.15 158.664 2184.81 158.664 L2189.19 158.664 L2189.19 162.229 L2184.81 162.229 Q2179.88 162.229 2178.01 160.4 Q2176.13 158.548 2176.13 153.687 L2176.13 139.613 L2173.01 139.613 L2173.01 136.303 L2176.13 136.303 L2176.13 128.942 L2180.42 128.942 Z\" fill=\"#000000\" fill-rule=\"nonzero\" fill-opacity=\"1\" /><path clip-path=\"url(#clip140)\" d=\"M2194.79 136.303 L2199.05 136.303 L2199.05 162.229 L2194.79 162.229 L2194.79 136.303 M2194.79 126.21 L2199.05 126.21 L2199.05 131.604 L2194.79 131.604 L2194.79 126.21 Z\" fill=\"#000000\" fill-rule=\"nonzero\" fill-opacity=\"1\" /><path clip-path=\"url(#clip140)\" d=\"M2218.01 139.289 Q2214.58 139.289 2212.59 141.974 Q2210.6 144.636 2210.6 149.289 Q2210.6 153.942 2212.57 156.627 Q2214.56 159.289 2218.01 159.289 Q2221.41 159.289 2223.4 156.604 Q2225.39 153.918 2225.39 149.289 Q2225.39 144.682 2223.4 141.997 Q2221.41 139.289 2218.01 139.289 M2218.01 135.678 Q2223.56 135.678 2226.74 139.289 Q2229.91 142.9 2229.91 149.289 Q2229.91 155.655 2226.74 159.289 Q2223.56 162.9 2218.01 162.9 Q2212.43 162.9 2209.26 159.289 Q2206.11 155.655 2206.11 149.289 Q2206.11 142.9 2209.26 139.289 Q2212.43 135.678 2218.01 135.678 Z\" fill=\"#000000\" fill-rule=\"nonzero\" fill-opacity=\"1\" /><path clip-path=\"url(#clip140)\" d=\"M2258.52 146.581 L2258.52 162.229 L2254.26 162.229 L2254.26 146.719 Q2254.26 143.039 2252.82 141.21 Q2251.39 139.382 2248.52 139.382 Q2245.07 139.382 2243.08 141.581 Q2241.09 143.78 2241.09 147.576 L2241.09 162.229 L2236.8 162.229 L2236.8 136.303 L2241.09 136.303 L2241.09 140.331 Q2242.61 137.993 2244.67 136.835 Q2246.76 135.678 2249.47 135.678 Q2253.93 135.678 2256.23 138.456 Q2258.52 141.21 2258.52 146.581 Z\" fill=\"#000000\" fill-rule=\"nonzero\" fill-opacity=\"1\" /></svg>\n"
      ],
      "text/html": [
       "<?xml version=\"1.0\" encoding=\"utf-8\"?>\n",
       "<svg xmlns=\"http://www.w3.org/2000/svg\" xmlns:xlink=\"http://www.w3.org/1999/xlink\" width=\"600\" height=\"400\" viewBox=\"0 0 2400 1600\">\n",
       "<defs>\n",
       "  <clipPath id=\"clip190\">\n",
       "    <rect x=\"0\" y=\"0\" width=\"2400\" height=\"1600\"/>\n",
       "  </clipPath>\n",
       "</defs>\n",
       "<path clip-path=\"url(#clip190)\" d=\"M0 1600 L2400 1600 L2400 0 L0 0  Z\" fill=\"#ffffff\" fill-rule=\"evenodd\" fill-opacity=\"1\"/>\n",
       "<defs>\n",
       "  <clipPath id=\"clip191\">\n",
       "    <rect x=\"480\" y=\"0\" width=\"1681\" height=\"1600\"/>\n",
       "  </clipPath>\n",
       "</defs>\n",
       "<path clip-path=\"url(#clip190)\" d=\"M232.389 1423.18 L2352.76 1423.18 L2352.76 47.2441 L232.389 47.2441  Z\" fill=\"#ffffff\" fill-rule=\"evenodd\" fill-opacity=\"1\"/>\n",
       "<defs>\n",
       "  <clipPath id=\"clip192\">\n",
       "    <rect x=\"232\" y=\"47\" width=\"2121\" height=\"1377\"/>\n",
       "  </clipPath>\n",
       "</defs>\n",
       "<polyline clip-path=\"url(#clip192)\" style=\"stroke:#000000; stroke-linecap:round; stroke-linejoin:round; stroke-width:2; stroke-opacity:0.1; fill:none\" points=\"349.013,1423.18 349.013,47.2441 \"/>\n",
       "<polyline clip-path=\"url(#clip192)\" style=\"stroke:#000000; stroke-linecap:round; stroke-linejoin:round; stroke-width:2; stroke-opacity:0.1; fill:none\" points=\"668.864,1423.18 668.864,47.2441 \"/>\n",
       "<polyline clip-path=\"url(#clip192)\" style=\"stroke:#000000; stroke-linecap:round; stroke-linejoin:round; stroke-width:2; stroke-opacity:0.1; fill:none\" points=\"988.715,1423.18 988.715,47.2441 \"/>\n",
       "<polyline clip-path=\"url(#clip192)\" style=\"stroke:#000000; stroke-linecap:round; stroke-linejoin:round; stroke-width:2; stroke-opacity:0.1; fill:none\" points=\"1308.57,1423.18 1308.57,47.2441 \"/>\n",
       "<polyline clip-path=\"url(#clip192)\" style=\"stroke:#000000; stroke-linecap:round; stroke-linejoin:round; stroke-width:2; stroke-opacity:0.1; fill:none\" points=\"1628.42,1423.18 1628.42,47.2441 \"/>\n",
       "<polyline clip-path=\"url(#clip192)\" style=\"stroke:#000000; stroke-linecap:round; stroke-linejoin:round; stroke-width:2; stroke-opacity:0.1; fill:none\" points=\"1948.27,1423.18 1948.27,47.2441 \"/>\n",
       "<polyline clip-path=\"url(#clip192)\" style=\"stroke:#000000; stroke-linecap:round; stroke-linejoin:round; stroke-width:2; stroke-opacity:0.1; fill:none\" points=\"2268.12,1423.18 2268.12,47.2441 \"/>\n",
       "<polyline clip-path=\"url(#clip190)\" style=\"stroke:#000000; stroke-linecap:round; stroke-linejoin:round; stroke-width:4; stroke-opacity:1; fill:none\" points=\"232.389,1423.18 2352.76,1423.18 \"/>\n",
       "<polyline clip-path=\"url(#clip190)\" style=\"stroke:#000000; stroke-linecap:round; stroke-linejoin:round; stroke-width:4; stroke-opacity:1; fill:none\" points=\"349.013,1423.18 349.013,1404.28 \"/>\n",
       "<polyline clip-path=\"url(#clip190)\" style=\"stroke:#000000; stroke-linecap:round; stroke-linejoin:round; stroke-width:4; stroke-opacity:1; fill:none\" points=\"668.864,1423.18 668.864,1404.28 \"/>\n",
       "<polyline clip-path=\"url(#clip190)\" style=\"stroke:#000000; stroke-linecap:round; stroke-linejoin:round; stroke-width:4; stroke-opacity:1; fill:none\" points=\"988.715,1423.18 988.715,1404.28 \"/>\n",
       "<polyline clip-path=\"url(#clip190)\" style=\"stroke:#000000; stroke-linecap:round; stroke-linejoin:round; stroke-width:4; stroke-opacity:1; fill:none\" points=\"1308.57,1423.18 1308.57,1404.28 \"/>\n",
       "<polyline clip-path=\"url(#clip190)\" style=\"stroke:#000000; stroke-linecap:round; stroke-linejoin:round; stroke-width:4; stroke-opacity:1; fill:none\" points=\"1628.42,1423.18 1628.42,1404.28 \"/>\n",
       "<polyline clip-path=\"url(#clip190)\" style=\"stroke:#000000; stroke-linecap:round; stroke-linejoin:round; stroke-width:4; stroke-opacity:1; fill:none\" points=\"1948.27,1423.18 1948.27,1404.28 \"/>\n",
       "<polyline clip-path=\"url(#clip190)\" style=\"stroke:#000000; stroke-linecap:round; stroke-linejoin:round; stroke-width:4; stroke-opacity:1; fill:none\" points=\"2268.12,1423.18 2268.12,1404.28 \"/>\n",
       "<path clip-path=\"url(#clip190)\" d=\"M349.013 1454.1 Q345.402 1454.1 343.573 1457.66 Q341.768 1461.2 341.768 1468.33 Q341.768 1475.44 343.573 1479.01 Q345.402 1482.55 349.013 1482.55 Q352.648 1482.55 354.453 1479.01 Q356.282 1475.44 356.282 1468.33 Q356.282 1461.2 354.453 1457.66 Q352.648 1454.1 349.013 1454.1 M349.013 1450.39 Q354.823 1450.39 357.879 1455 Q360.958 1459.58 360.958 1468.33 Q360.958 1477.06 357.879 1481.67 Q354.823 1486.25 349.013 1486.25 Q343.203 1486.25 340.124 1481.67 Q337.069 1477.06 337.069 1468.33 Q337.069 1459.58 340.124 1455 Q343.203 1450.39 349.013 1450.39 Z\" fill=\"#000000\" fill-rule=\"nonzero\" fill-opacity=\"1\" /><path clip-path=\"url(#clip190)\" d=\"M647.637 1481.64 L663.957 1481.64 L663.957 1485.58 L642.012 1485.58 L642.012 1481.64 Q644.674 1478.89 649.258 1474.26 Q653.864 1469.61 655.045 1468.27 Q657.29 1465.74 658.17 1464.01 Q659.072 1462.25 659.072 1460.56 Q659.072 1457.8 657.128 1456.07 Q655.207 1454.33 652.105 1454.33 Q649.906 1454.33 647.452 1455.09 Q645.021 1455.86 642.244 1457.41 L642.244 1452.69 Q645.068 1451.55 647.521 1450.97 Q649.975 1450.39 652.012 1450.39 Q657.382 1450.39 660.577 1453.08 Q663.771 1455.77 663.771 1460.26 Q663.771 1462.39 662.961 1464.31 Q662.174 1466.2 660.068 1468.8 Q659.489 1469.47 656.387 1472.69 Q653.285 1475.88 647.637 1481.64 Z\" fill=\"#000000\" fill-rule=\"nonzero\" fill-opacity=\"1\" /><path clip-path=\"url(#clip190)\" d=\"M683.771 1454.1 Q680.16 1454.1 678.331 1457.66 Q676.526 1461.2 676.526 1468.33 Q676.526 1475.44 678.331 1479.01 Q680.16 1482.55 683.771 1482.55 Q687.405 1482.55 689.211 1479.01 Q691.04 1475.44 691.04 1468.33 Q691.04 1461.2 689.211 1457.66 Q687.405 1454.1 683.771 1454.1 M683.771 1450.39 Q689.581 1450.39 692.637 1455 Q695.716 1459.58 695.716 1468.33 Q695.716 1477.06 692.637 1481.67 Q689.581 1486.25 683.771 1486.25 Q677.961 1486.25 674.882 1481.67 Q671.827 1477.06 671.827 1468.33 Q671.827 1459.58 674.882 1455 Q677.961 1450.39 683.771 1450.39 Z\" fill=\"#000000\" fill-rule=\"nonzero\" fill-opacity=\"1\" /><path clip-path=\"url(#clip190)\" d=\"M976.886 1455.09 L965.08 1473.54 L976.886 1473.54 L976.886 1455.09 M975.659 1451.02 L981.539 1451.02 L981.539 1473.54 L986.469 1473.54 L986.469 1477.43 L981.539 1477.43 L981.539 1485.58 L976.886 1485.58 L976.886 1477.43 L961.284 1477.43 L961.284 1472.92 L975.659 1451.02 Z\" fill=\"#000000\" fill-rule=\"nonzero\" fill-opacity=\"1\" /><path clip-path=\"url(#clip190)\" d=\"M1004.2 1454.1 Q1000.59 1454.1 998.761 1457.66 Q996.955 1461.2 996.955 1468.33 Q996.955 1475.44 998.761 1479.01 Q1000.59 1482.55 1004.2 1482.55 Q1007.83 1482.55 1009.64 1479.01 Q1011.47 1475.44 1011.47 1468.33 Q1011.47 1461.2 1009.64 1457.66 Q1007.83 1454.1 1004.2 1454.1 M1004.2 1450.39 Q1010.01 1450.39 1013.07 1455 Q1016.14 1459.58 1016.14 1468.33 Q1016.14 1477.06 1013.07 1481.67 Q1010.01 1486.25 1004.2 1486.25 Q998.39 1486.25 995.312 1481.67 Q992.256 1477.06 992.256 1468.33 Q992.256 1459.58 995.312 1455 Q998.39 1450.39 1004.2 1450.39 Z\" fill=\"#000000\" fill-rule=\"nonzero\" fill-opacity=\"1\" /><path clip-path=\"url(#clip190)\" d=\"M1293.97 1466.44 Q1290.82 1466.44 1288.97 1468.59 Q1287.14 1470.74 1287.14 1474.49 Q1287.14 1478.22 1288.97 1480.39 Q1290.82 1482.55 1293.97 1482.55 Q1297.12 1482.55 1298.95 1480.39 Q1300.8 1478.22 1300.8 1474.49 Q1300.8 1470.74 1298.95 1468.59 Q1297.12 1466.44 1293.97 1466.44 M1303.25 1451.78 L1303.25 1456.04 Q1301.49 1455.21 1299.69 1454.77 Q1297.91 1454.33 1296.15 1454.33 Q1291.52 1454.33 1289.06 1457.45 Q1286.63 1460.58 1286.29 1466.9 Q1287.65 1464.89 1289.71 1463.82 Q1291.77 1462.73 1294.25 1462.73 Q1299.46 1462.73 1302.47 1465.9 Q1305.5 1469.05 1305.5 1474.49 Q1305.5 1479.82 1302.35 1483.03 Q1299.2 1486.25 1293.97 1486.25 Q1287.97 1486.25 1284.8 1481.67 Q1281.63 1477.06 1281.63 1468.33 Q1281.63 1460.14 1285.52 1455.28 Q1289.41 1450.39 1295.96 1450.39 Q1297.72 1450.39 1299.5 1450.74 Q1301.31 1451.09 1303.25 1451.78 Z\" fill=\"#000000\" fill-rule=\"nonzero\" fill-opacity=\"1\" /><path clip-path=\"url(#clip190)\" d=\"M1323.55 1454.1 Q1319.94 1454.1 1318.11 1457.66 Q1316.31 1461.2 1316.31 1468.33 Q1316.31 1475.44 1318.11 1479.01 Q1319.94 1482.55 1323.55 1482.55 Q1327.19 1482.55 1328.99 1479.01 Q1330.82 1475.44 1330.82 1468.33 Q1330.82 1461.2 1328.99 1457.66 Q1327.19 1454.1 1323.55 1454.1 M1323.55 1450.39 Q1329.36 1450.39 1332.42 1455 Q1335.5 1459.58 1335.5 1468.33 Q1335.5 1477.06 1332.42 1481.67 Q1329.36 1486.25 1323.55 1486.25 Q1317.74 1486.25 1314.66 1481.67 Q1311.61 1477.06 1311.61 1468.33 Q1311.61 1459.58 1314.66 1455 Q1317.74 1450.39 1323.55 1450.39 Z\" fill=\"#000000\" fill-rule=\"nonzero\" fill-opacity=\"1\" /><path clip-path=\"url(#clip190)\" d=\"M1613.29 1469.17 Q1609.96 1469.17 1608.03 1470.95 Q1606.14 1472.73 1606.14 1475.86 Q1606.14 1478.98 1608.03 1480.77 Q1609.96 1482.55 1613.29 1482.55 Q1616.62 1482.55 1618.54 1480.77 Q1620.46 1478.96 1620.46 1475.86 Q1620.46 1472.73 1618.54 1470.95 Q1616.65 1469.17 1613.29 1469.17 M1608.61 1467.18 Q1605.6 1466.44 1603.91 1464.38 Q1602.25 1462.32 1602.25 1459.35 Q1602.25 1455.21 1605.19 1452.8 Q1608.15 1450.39 1613.29 1450.39 Q1618.45 1450.39 1621.39 1452.8 Q1624.33 1455.21 1624.33 1459.35 Q1624.33 1462.32 1622.64 1464.38 Q1620.97 1466.44 1617.99 1467.18 Q1621.37 1467.96 1623.24 1470.26 Q1625.14 1472.55 1625.14 1475.86 Q1625.14 1480.88 1622.06 1483.57 Q1619.01 1486.25 1613.29 1486.25 Q1607.57 1486.25 1604.49 1483.57 Q1601.44 1480.88 1601.44 1475.86 Q1601.44 1472.55 1603.33 1470.26 Q1605.23 1467.96 1608.61 1467.18 M1606.9 1459.79 Q1606.9 1462.48 1608.57 1463.98 Q1610.26 1465.49 1613.29 1465.49 Q1616.3 1465.49 1617.99 1463.98 Q1619.7 1462.48 1619.7 1459.79 Q1619.7 1457.11 1617.99 1455.6 Q1616.3 1454.1 1613.29 1454.1 Q1610.26 1454.1 1608.57 1455.6 Q1606.9 1457.11 1606.9 1459.79 Z\" fill=\"#000000\" fill-rule=\"nonzero\" fill-opacity=\"1\" /><path clip-path=\"url(#clip190)\" d=\"M1643.45 1454.1 Q1639.84 1454.1 1638.01 1457.66 Q1636.21 1461.2 1636.21 1468.33 Q1636.21 1475.44 1638.01 1479.01 Q1639.84 1482.55 1643.45 1482.55 Q1647.08 1482.55 1648.89 1479.01 Q1650.72 1475.44 1650.72 1468.33 Q1650.72 1461.2 1648.89 1457.66 Q1647.08 1454.1 1643.45 1454.1 M1643.45 1450.39 Q1649.26 1450.39 1652.32 1455 Q1655.39 1459.58 1655.39 1468.33 Q1655.39 1477.06 1652.32 1481.67 Q1649.26 1486.25 1643.45 1486.25 Q1637.64 1486.25 1634.56 1481.67 Q1631.51 1477.06 1631.51 1468.33 Q1631.51 1459.58 1634.56 1455 Q1637.64 1450.39 1643.45 1450.39 Z\" fill=\"#000000\" fill-rule=\"nonzero\" fill-opacity=\"1\" /><path clip-path=\"url(#clip190)\" d=\"M1907.87 1481.64 L1915.51 1481.64 L1915.51 1455.28 L1907.2 1456.95 L1907.2 1452.69 L1915.47 1451.02 L1920.14 1451.02 L1920.14 1481.64 L1927.78 1481.64 L1927.78 1485.58 L1907.87 1485.58 L1907.87 1481.64 Z\" fill=\"#000000\" fill-rule=\"nonzero\" fill-opacity=\"1\" /><path clip-path=\"url(#clip190)\" d=\"M1947.22 1454.1 Q1943.61 1454.1 1941.78 1457.66 Q1939.98 1461.2 1939.98 1468.33 Q1939.98 1475.44 1941.78 1479.01 Q1943.61 1482.55 1947.22 1482.55 Q1950.86 1482.55 1952.66 1479.01 Q1954.49 1475.44 1954.49 1468.33 Q1954.49 1461.2 1952.66 1457.66 Q1950.86 1454.1 1947.22 1454.1 M1947.22 1450.39 Q1953.03 1450.39 1956.09 1455 Q1959.17 1459.58 1959.17 1468.33 Q1959.17 1477.06 1956.09 1481.67 Q1953.03 1486.25 1947.22 1486.25 Q1941.41 1486.25 1938.34 1481.67 Q1935.28 1477.06 1935.28 1468.33 Q1935.28 1459.58 1938.34 1455 Q1941.41 1450.39 1947.22 1450.39 Z\" fill=\"#000000\" fill-rule=\"nonzero\" fill-opacity=\"1\" /><path clip-path=\"url(#clip190)\" d=\"M1977.39 1454.1 Q1973.78 1454.1 1971.95 1457.66 Q1970.14 1461.2 1970.14 1468.33 Q1970.14 1475.44 1971.95 1479.01 Q1973.78 1482.55 1977.39 1482.55 Q1981.02 1482.55 1982.83 1479.01 Q1984.66 1475.44 1984.66 1468.33 Q1984.66 1461.2 1982.83 1457.66 Q1981.02 1454.1 1977.39 1454.1 M1977.39 1450.39 Q1983.2 1450.39 1986.25 1455 Q1989.33 1459.58 1989.33 1468.33 Q1989.33 1477.06 1986.25 1481.67 Q1983.2 1486.25 1977.39 1486.25 Q1971.58 1486.25 1968.5 1481.67 Q1965.44 1477.06 1965.44 1468.33 Q1965.44 1459.58 1968.5 1455 Q1971.58 1450.39 1977.39 1450.39 Z\" fill=\"#000000\" fill-rule=\"nonzero\" fill-opacity=\"1\" /><path clip-path=\"url(#clip190)\" d=\"M2227.72 1481.64 L2235.36 1481.64 L2235.36 1455.28 L2227.05 1456.95 L2227.05 1452.69 L2235.32 1451.02 L2239.99 1451.02 L2239.99 1481.64 L2247.63 1481.64 L2247.63 1485.58 L2227.72 1485.58 L2227.72 1481.64 Z\" fill=\"#000000\" fill-rule=\"nonzero\" fill-opacity=\"1\" /><path clip-path=\"url(#clip190)\" d=\"M2261.1 1481.64 L2277.42 1481.64 L2277.42 1485.58 L2255.48 1485.58 L2255.48 1481.64 Q2258.14 1478.89 2262.72 1474.26 Q2267.33 1469.61 2268.51 1468.27 Q2270.76 1465.74 2271.64 1464.01 Q2272.54 1462.25 2272.54 1460.56 Q2272.54 1457.8 2270.59 1456.07 Q2268.67 1454.33 2265.57 1454.33 Q2263.37 1454.33 2260.92 1455.09 Q2258.49 1455.86 2255.71 1457.41 L2255.71 1452.69 Q2258.53 1451.55 2260.99 1450.97 Q2263.44 1450.39 2265.48 1450.39 Q2270.85 1450.39 2274.04 1453.08 Q2277.24 1455.77 2277.24 1460.26 Q2277.24 1462.39 2276.43 1464.31 Q2275.64 1466.2 2273.53 1468.8 Q2272.95 1469.47 2269.85 1472.69 Q2266.75 1475.88 2261.1 1481.64 Z\" fill=\"#000000\" fill-rule=\"nonzero\" fill-opacity=\"1\" /><path clip-path=\"url(#clip190)\" d=\"M2297.24 1454.1 Q2293.63 1454.1 2291.8 1457.66 Q2289.99 1461.2 2289.99 1468.33 Q2289.99 1475.44 2291.8 1479.01 Q2293.63 1482.55 2297.24 1482.55 Q2300.87 1482.55 2302.68 1479.01 Q2304.51 1475.44 2304.51 1468.33 Q2304.51 1461.2 2302.68 1457.66 Q2300.87 1454.1 2297.24 1454.1 M2297.24 1450.39 Q2303.05 1450.39 2306.1 1455 Q2309.18 1459.58 2309.18 1468.33 Q2309.18 1477.06 2306.1 1481.67 Q2303.05 1486.25 2297.24 1486.25 Q2291.43 1486.25 2288.35 1481.67 Q2285.29 1477.06 2285.29 1468.33 Q2285.29 1459.58 2288.35 1455 Q2291.43 1450.39 2297.24 1450.39 Z\" fill=\"#000000\" fill-rule=\"nonzero\" fill-opacity=\"1\" /><path clip-path=\"url(#clip190)\" d=\"M1180.03 1522.27 L1180.03 1532.4 L1192.09 1532.4 L1192.09 1536.95 L1180.03 1536.95 L1180.03 1556.3 Q1180.03 1560.66 1181.2 1561.9 Q1182.41 1563.14 1186.07 1563.14 L1192.09 1563.14 L1192.09 1568.04 L1186.07 1568.04 Q1179.29 1568.04 1176.72 1565.53 Q1174.14 1562.98 1174.14 1556.3 L1174.14 1536.95 L1169.84 1536.95 L1169.84 1532.4 L1174.14 1532.4 L1174.14 1522.27 L1180.03 1522.27 Z\" fill=\"#000000\" fill-rule=\"nonzero\" fill-opacity=\"1\" /><path clip-path=\"url(#clip190)\" d=\"M1199.79 1532.4 L1205.65 1532.4 L1205.65 1568.04 L1199.79 1568.04 L1199.79 1532.4 M1199.79 1518.52 L1205.65 1518.52 L1205.65 1525.93 L1199.79 1525.93 L1199.79 1518.52 Z\" fill=\"#000000\" fill-rule=\"nonzero\" fill-opacity=\"1\" /><path clip-path=\"url(#clip190)\" d=\"M1245.66 1539.24 Q1247.85 1535.29 1250.91 1533.41 Q1253.96 1531.54 1258.1 1531.54 Q1263.67 1531.54 1266.7 1535.45 Q1269.72 1539.33 1269.72 1546.53 L1269.72 1568.04 L1263.83 1568.04 L1263.83 1546.72 Q1263.83 1541.59 1262.02 1539.11 Q1260.2 1536.63 1256.48 1536.63 Q1251.93 1536.63 1249.29 1539.65 Q1246.64 1542.68 1246.64 1547.9 L1246.64 1568.04 L1240.76 1568.04 L1240.76 1546.72 Q1240.76 1541.56 1238.94 1539.11 Q1237.13 1536.63 1233.34 1536.63 Q1228.85 1536.63 1226.21 1539.68 Q1223.57 1542.71 1223.57 1547.9 L1223.57 1568.04 L1217.68 1568.04 L1217.68 1532.4 L1223.57 1532.4 L1223.57 1537.93 Q1225.57 1534.66 1228.37 1533.1 Q1231.18 1531.54 1235.03 1531.54 Q1238.91 1531.54 1241.62 1533.51 Q1244.35 1535.48 1245.66 1539.24 Z\" fill=\"#000000\" fill-rule=\"nonzero\" fill-opacity=\"1\" /><path clip-path=\"url(#clip190)\" d=\"M1311.89 1548.76 L1311.89 1551.62 L1284.97 1551.62 Q1285.35 1557.67 1288.59 1560.85 Q1291.87 1564 1297.7 1564 Q1301.07 1564 1304.22 1563.17 Q1307.4 1562.35 1310.52 1560.69 L1310.52 1566.23 Q1307.37 1567.57 1304.06 1568.27 Q1300.75 1568.97 1297.35 1568.97 Q1288.82 1568.97 1283.82 1564 Q1278.85 1559.04 1278.85 1550.57 Q1278.85 1541.82 1283.57 1536.69 Q1288.31 1531.54 1296.33 1531.54 Q1303.52 1531.54 1307.69 1536.18 Q1311.89 1540.8 1311.89 1548.76 M1306.04 1547.04 Q1305.97 1542.23 1303.33 1539.37 Q1300.72 1536.5 1296.39 1536.5 Q1291.49 1536.5 1288.53 1539.27 Q1285.6 1542.04 1285.16 1547.07 L1306.04 1547.04 Z\" fill=\"#000000\" fill-rule=\"nonzero\" fill-opacity=\"1\" /><path clip-path=\"url(#clip190)\" d=\"M1356.29 1518.58 Q1352.03 1525.9 1349.96 1533.06 Q1347.89 1540.23 1347.89 1547.58 Q1347.89 1554.93 1349.96 1562.16 Q1352.06 1569.35 1356.29 1576.64 L1351.2 1576.64 Q1346.43 1569.16 1344.04 1561.93 Q1341.68 1554.71 1341.68 1547.58 Q1341.68 1540.48 1344.04 1533.29 Q1346.39 1526.09 1351.2 1518.58 L1356.29 1518.58 Z\" fill=\"#000000\" fill-rule=\"nonzero\" fill-opacity=\"1\" /><path clip-path=\"url(#clip190)\" d=\"M1390.38 1533.45 L1390.38 1538.98 Q1387.9 1537.71 1385.23 1537.07 Q1382.55 1536.44 1379.69 1536.44 Q1375.33 1536.44 1373.13 1537.77 Q1370.97 1539.11 1370.97 1541.79 Q1370.97 1543.82 1372.53 1545 Q1374.09 1546.15 1378.8 1547.2 L1380.8 1547.64 Q1387.04 1548.98 1389.65 1551.43 Q1392.29 1553.85 1392.29 1558.21 Q1392.29 1563.17 1388.34 1566.07 Q1384.43 1568.97 1377.55 1568.97 Q1374.69 1568.97 1371.57 1568.39 Q1368.48 1567.85 1365.05 1566.74 L1365.05 1560.69 Q1368.29 1562.38 1371.44 1563.24 Q1374.59 1564.07 1377.68 1564.07 Q1381.82 1564.07 1384.05 1562.66 Q1386.28 1561.23 1386.28 1558.65 Q1386.28 1556.27 1384.65 1554.99 Q1383.06 1553.72 1377.62 1552.54 L1375.58 1552.07 Q1370.14 1550.92 1367.72 1548.56 Q1365.3 1546.18 1365.3 1542.04 Q1365.3 1537.01 1368.87 1534.27 Q1372.43 1531.54 1378.99 1531.54 Q1382.23 1531.54 1385.1 1532.01 Q1387.96 1532.49 1390.38 1533.45 Z\" fill=\"#000000\" fill-rule=\"nonzero\" fill-opacity=\"1\" /><path clip-path=\"url(#clip190)\" d=\"M1400.69 1518.58 L1405.79 1518.58 Q1410.56 1526.09 1412.92 1533.29 Q1415.3 1540.48 1415.3 1547.58 Q1415.3 1554.71 1412.92 1561.93 Q1410.56 1569.16 1405.79 1576.64 L1400.69 1576.64 Q1404.93 1569.35 1407 1562.16 Q1409.1 1554.93 1409.1 1547.58 Q1409.1 1540.23 1407 1533.06 Q1404.93 1525.9 1400.69 1518.58 Z\" fill=\"#000000\" fill-rule=\"nonzero\" fill-opacity=\"1\" /><polyline clip-path=\"url(#clip192)\" style=\"stroke:#000000; stroke-linecap:round; stroke-linejoin:round; stroke-width:2; stroke-opacity:0.1; fill:none\" points=\"232.389,1384.24 2352.76,1384.24 \"/>\n",
       "<polyline clip-path=\"url(#clip192)\" style=\"stroke:#000000; stroke-linecap:round; stroke-linejoin:round; stroke-width:2; stroke-opacity:0.1; fill:none\" points=\"232.389,1190.5 2352.76,1190.5 \"/>\n",
       "<polyline clip-path=\"url(#clip192)\" style=\"stroke:#000000; stroke-linecap:round; stroke-linejoin:round; stroke-width:2; stroke-opacity:0.1; fill:none\" points=\"232.389,996.76 2352.76,996.76 \"/>\n",
       "<polyline clip-path=\"url(#clip192)\" style=\"stroke:#000000; stroke-linecap:round; stroke-linejoin:round; stroke-width:2; stroke-opacity:0.1; fill:none\" points=\"232.389,803.021 2352.76,803.021 \"/>\n",
       "<polyline clip-path=\"url(#clip192)\" style=\"stroke:#000000; stroke-linecap:round; stroke-linejoin:round; stroke-width:2; stroke-opacity:0.1; fill:none\" points=\"232.389,609.281 2352.76,609.281 \"/>\n",
       "<polyline clip-path=\"url(#clip192)\" style=\"stroke:#000000; stroke-linecap:round; stroke-linejoin:round; stroke-width:2; stroke-opacity:0.1; fill:none\" points=\"232.389,415.542 2352.76,415.542 \"/>\n",
       "<polyline clip-path=\"url(#clip192)\" style=\"stroke:#000000; stroke-linecap:round; stroke-linejoin:round; stroke-width:2; stroke-opacity:0.1; fill:none\" points=\"232.389,221.803 2352.76,221.803 \"/>\n",
       "<polyline clip-path=\"url(#clip190)\" style=\"stroke:#000000; stroke-linecap:round; stroke-linejoin:round; stroke-width:4; stroke-opacity:1; fill:none\" points=\"232.389,1423.18 232.389,47.2441 \"/>\n",
       "<polyline clip-path=\"url(#clip190)\" style=\"stroke:#000000; stroke-linecap:round; stroke-linejoin:round; stroke-width:4; stroke-opacity:1; fill:none\" points=\"232.389,1384.24 251.287,1384.24 \"/>\n",
       "<polyline clip-path=\"url(#clip190)\" style=\"stroke:#000000; stroke-linecap:round; stroke-linejoin:round; stroke-width:4; stroke-opacity:1; fill:none\" points=\"232.389,1190.5 251.287,1190.5 \"/>\n",
       "<polyline clip-path=\"url(#clip190)\" style=\"stroke:#000000; stroke-linecap:round; stroke-linejoin:round; stroke-width:4; stroke-opacity:1; fill:none\" points=\"232.389,996.76 251.287,996.76 \"/>\n",
       "<polyline clip-path=\"url(#clip190)\" style=\"stroke:#000000; stroke-linecap:round; stroke-linejoin:round; stroke-width:4; stroke-opacity:1; fill:none\" points=\"232.389,803.021 251.287,803.021 \"/>\n",
       "<polyline clip-path=\"url(#clip190)\" style=\"stroke:#000000; stroke-linecap:round; stroke-linejoin:round; stroke-width:4; stroke-opacity:1; fill:none\" points=\"232.389,609.281 251.287,609.281 \"/>\n",
       "<polyline clip-path=\"url(#clip190)\" style=\"stroke:#000000; stroke-linecap:round; stroke-linejoin:round; stroke-width:4; stroke-opacity:1; fill:none\" points=\"232.389,415.542 251.287,415.542 \"/>\n",
       "<polyline clip-path=\"url(#clip190)\" style=\"stroke:#000000; stroke-linecap:round; stroke-linejoin:round; stroke-width:4; stroke-opacity:1; fill:none\" points=\"232.389,221.803 251.287,221.803 \"/>\n",
       "<path clip-path=\"url(#clip190)\" d=\"M184.445 1370.04 Q180.834 1370.04 179.005 1373.6 Q177.2 1377.14 177.2 1384.27 Q177.2 1391.38 179.005 1394.94 Q180.834 1398.49 184.445 1398.49 Q188.079 1398.49 189.885 1394.94 Q191.713 1391.38 191.713 1384.27 Q191.713 1377.14 189.885 1373.6 Q188.079 1370.04 184.445 1370.04 M184.445 1366.33 Q190.255 1366.33 193.311 1370.94 Q196.389 1375.52 196.389 1384.27 Q196.389 1393 193.311 1397.61 Q190.255 1402.19 184.445 1402.19 Q178.635 1402.19 175.556 1397.61 Q172.501 1393 172.501 1384.27 Q172.501 1375.52 175.556 1370.94 Q178.635 1366.33 184.445 1366.33 Z\" fill=\"#000000\" fill-rule=\"nonzero\" fill-opacity=\"1\" /><path clip-path=\"url(#clip190)\" d=\"M148.311 1203.84 L164.63 1203.84 L164.63 1207.78 L142.686 1207.78 L142.686 1203.84 Q145.348 1201.09 149.931 1196.46 Q154.538 1191.81 155.718 1190.46 Q157.964 1187.94 158.843 1186.21 Q159.746 1184.45 159.746 1182.76 Q159.746 1180 157.802 1178.27 Q155.88 1176.53 152.778 1176.53 Q150.579 1176.53 148.126 1177.29 Q145.695 1178.06 142.917 1179.61 L142.917 1174.89 Q145.741 1173.75 148.195 1173.17 Q150.649 1172.59 152.686 1172.59 Q158.056 1172.59 161.251 1175.28 Q164.445 1177.96 164.445 1182.46 Q164.445 1184.58 163.635 1186.51 Q162.848 1188.4 160.741 1191 Q160.163 1191.67 157.061 1194.89 Q153.959 1198.08 148.311 1203.84 Z\" fill=\"#000000\" fill-rule=\"nonzero\" fill-opacity=\"1\" /><path clip-path=\"url(#clip190)\" d=\"M184.445 1176.3 Q180.834 1176.3 179.005 1179.86 Q177.2 1183.4 177.2 1190.53 Q177.2 1197.64 179.005 1201.21 Q180.834 1204.75 184.445 1204.75 Q188.079 1204.75 189.885 1201.21 Q191.713 1197.64 191.713 1190.53 Q191.713 1183.4 189.885 1179.86 Q188.079 1176.3 184.445 1176.3 M184.445 1172.59 Q190.255 1172.59 193.311 1177.2 Q196.389 1181.78 196.389 1190.53 Q196.389 1199.26 193.311 1203.87 Q190.255 1208.45 184.445 1208.45 Q178.635 1208.45 175.556 1203.87 Q172.501 1199.26 172.501 1190.53 Q172.501 1181.78 175.556 1177.2 Q178.635 1172.59 184.445 1172.59 Z\" fill=\"#000000\" fill-rule=\"nonzero\" fill-opacity=\"1\" /><path clip-path=\"url(#clip190)\" d=\"M157.13 983.554 L145.325 1002 L157.13 1002 L157.13 983.554 M155.903 979.48 L161.783 979.48 L161.783 1002 L166.714 1002 L166.714 1005.89 L161.783 1005.89 L161.783 1014.04 L157.13 1014.04 L157.13 1005.89 L141.529 1005.89 L141.529 1001.38 L155.903 979.48 Z\" fill=\"#000000\" fill-rule=\"nonzero\" fill-opacity=\"1\" /><path clip-path=\"url(#clip190)\" d=\"M184.445 982.559 Q180.834 982.559 179.005 986.123 Q177.2 989.665 177.2 996.795 Q177.2 1003.9 179.005 1007.47 Q180.834 1011.01 184.445 1011.01 Q188.079 1011.01 189.885 1007.47 Q191.713 1003.9 191.713 996.795 Q191.713 989.665 189.885 986.123 Q188.079 982.559 184.445 982.559 M184.445 978.855 Q190.255 978.855 193.311 983.461 Q196.389 988.045 196.389 996.795 Q196.389 1005.52 193.311 1010.13 Q190.255 1014.71 184.445 1014.71 Q178.635 1014.71 175.556 1010.13 Q172.501 1005.52 172.501 996.795 Q172.501 988.045 175.556 983.461 Q178.635 978.855 184.445 978.855 Z\" fill=\"#000000\" fill-rule=\"nonzero\" fill-opacity=\"1\" /><path clip-path=\"url(#clip190)\" d=\"M154.862 801.157 Q151.714 801.157 149.862 803.31 Q148.033 805.463 148.033 809.213 Q148.033 812.94 149.862 815.116 Q151.714 817.268 154.862 817.268 Q158.01 817.268 159.839 815.116 Q161.69 812.94 161.69 809.213 Q161.69 805.463 159.839 803.31 Q158.01 801.157 154.862 801.157 M164.144 786.505 L164.144 790.764 Q162.385 789.93 160.579 789.491 Q158.797 789.051 157.038 789.051 Q152.408 789.051 149.954 792.176 Q147.524 795.301 147.177 801.62 Q148.542 799.606 150.603 798.542 Q152.663 797.454 155.14 797.454 Q160.348 797.454 163.357 800.625 Q166.39 803.773 166.39 809.213 Q166.39 814.537 163.241 817.754 Q160.093 820.972 154.862 820.972 Q148.866 820.972 145.695 816.389 Q142.524 811.782 142.524 803.055 Q142.524 794.861 146.413 790 Q150.302 785.116 156.853 785.116 Q158.612 785.116 160.394 785.463 Q162.2 785.81 164.144 786.505 Z\" fill=\"#000000\" fill-rule=\"nonzero\" fill-opacity=\"1\" /><path clip-path=\"url(#clip190)\" d=\"M184.445 788.819 Q180.834 788.819 179.005 792.384 Q177.2 795.926 177.2 803.055 Q177.2 810.162 179.005 813.727 Q180.834 817.268 184.445 817.268 Q188.079 817.268 189.885 813.727 Q191.713 810.162 191.713 803.055 Q191.713 795.926 189.885 792.384 Q188.079 788.819 184.445 788.819 M184.445 785.116 Q190.255 785.116 193.311 789.722 Q196.389 794.305 196.389 803.055 Q196.389 811.782 193.311 816.389 Q190.255 820.972 184.445 820.972 Q178.635 820.972 175.556 816.389 Q172.501 811.782 172.501 803.055 Q172.501 794.305 175.556 789.722 Q178.635 785.116 184.445 785.116 Z\" fill=\"#000000\" fill-rule=\"nonzero\" fill-opacity=\"1\" /><path clip-path=\"url(#clip190)\" d=\"M154.283 610.15 Q150.95 610.15 149.028 611.932 Q147.13 613.714 147.13 616.839 Q147.13 619.964 149.028 621.747 Q150.95 623.529 154.283 623.529 Q157.616 623.529 159.538 621.747 Q161.459 619.941 161.459 616.839 Q161.459 613.714 159.538 611.932 Q157.64 610.15 154.283 610.15 M149.607 608.159 Q146.598 607.418 144.908 605.358 Q143.241 603.298 143.241 600.335 Q143.241 596.191 146.181 593.784 Q149.144 591.376 154.283 591.376 Q159.445 591.376 162.385 593.784 Q165.325 596.191 165.325 600.335 Q165.325 603.298 163.635 605.358 Q161.968 607.418 158.982 608.159 Q162.362 608.946 164.237 611.238 Q166.135 613.529 166.135 616.839 Q166.135 621.862 163.056 624.548 Q160.001 627.233 154.283 627.233 Q148.566 627.233 145.487 624.548 Q142.431 621.862 142.431 616.839 Q142.431 613.529 144.329 611.238 Q146.228 608.946 149.607 608.159 M147.894 600.775 Q147.894 603.46 149.561 604.964 Q151.251 606.469 154.283 606.469 Q157.292 606.469 158.982 604.964 Q160.695 603.46 160.695 600.775 Q160.695 598.089 158.982 596.585 Q157.292 595.08 154.283 595.08 Q151.251 595.08 149.561 596.585 Q147.894 598.089 147.894 600.775 Z\" fill=\"#000000\" fill-rule=\"nonzero\" fill-opacity=\"1\" /><path clip-path=\"url(#clip190)\" d=\"M184.445 595.08 Q180.834 595.08 179.005 598.645 Q177.2 602.187 177.2 609.316 Q177.2 616.423 179.005 619.987 Q180.834 623.529 184.445 623.529 Q188.079 623.529 189.885 619.987 Q191.713 616.423 191.713 609.316 Q191.713 602.187 189.885 598.645 Q188.079 595.08 184.445 595.08 M184.445 591.376 Q190.255 591.376 193.311 595.983 Q196.389 600.566 196.389 609.316 Q196.389 618.043 193.311 622.649 Q190.255 627.233 184.445 627.233 Q178.635 627.233 175.556 622.649 Q172.501 618.043 172.501 609.316 Q172.501 600.566 175.556 595.983 Q178.635 591.376 184.445 591.376 Z\" fill=\"#000000\" fill-rule=\"nonzero\" fill-opacity=\"1\" /><path clip-path=\"url(#clip190)\" d=\"M114.931 428.887 L122.57 428.887 L122.57 402.522 L114.26 404.188 L114.26 399.929 L122.524 398.262 L127.2 398.262 L127.2 428.887 L134.839 428.887 L134.839 432.822 L114.931 432.822 L114.931 428.887 Z\" fill=\"#000000\" fill-rule=\"nonzero\" fill-opacity=\"1\" /><path clip-path=\"url(#clip190)\" d=\"M154.283 401.341 Q150.672 401.341 148.843 404.906 Q147.038 408.447 147.038 415.577 Q147.038 422.683 148.843 426.248 Q150.672 429.79 154.283 429.79 Q157.917 429.79 159.723 426.248 Q161.552 422.683 161.552 415.577 Q161.552 408.447 159.723 404.906 Q157.917 401.341 154.283 401.341 M154.283 397.637 Q160.093 397.637 163.149 402.244 Q166.227 406.827 166.227 415.577 Q166.227 424.304 163.149 428.91 Q160.093 433.494 154.283 433.494 Q148.473 433.494 145.394 428.91 Q142.339 424.304 142.339 415.577 Q142.339 406.827 145.394 402.244 Q148.473 397.637 154.283 397.637 Z\" fill=\"#000000\" fill-rule=\"nonzero\" fill-opacity=\"1\" /><path clip-path=\"url(#clip190)\" d=\"M184.445 401.341 Q180.834 401.341 179.005 404.906 Q177.2 408.447 177.2 415.577 Q177.2 422.683 179.005 426.248 Q180.834 429.79 184.445 429.79 Q188.079 429.79 189.885 426.248 Q191.713 422.683 191.713 415.577 Q191.713 408.447 189.885 404.906 Q188.079 401.341 184.445 401.341 M184.445 397.637 Q190.255 397.637 193.311 402.244 Q196.389 406.827 196.389 415.577 Q196.389 424.304 193.311 428.91 Q190.255 433.494 184.445 433.494 Q178.635 433.494 175.556 428.91 Q172.501 424.304 172.501 415.577 Q172.501 406.827 175.556 402.244 Q178.635 397.637 184.445 397.637 Z\" fill=\"#000000\" fill-rule=\"nonzero\" fill-opacity=\"1\" /><path clip-path=\"url(#clip190)\" d=\"M114.931 235.148 L122.57 235.148 L122.57 208.782 L114.26 210.449 L114.26 206.19 L122.524 204.523 L127.2 204.523 L127.2 235.148 L134.839 235.148 L134.839 239.083 L114.931 239.083 L114.931 235.148 Z\" fill=\"#000000\" fill-rule=\"nonzero\" fill-opacity=\"1\" /><path clip-path=\"url(#clip190)\" d=\"M148.311 235.148 L164.63 235.148 L164.63 239.083 L142.686 239.083 L142.686 235.148 Q145.348 232.393 149.931 227.764 Q154.538 223.111 155.718 221.768 Q157.964 219.245 158.843 217.509 Q159.746 215.75 159.746 214.06 Q159.746 211.305 157.802 209.569 Q155.88 207.833 152.778 207.833 Q150.579 207.833 148.126 208.597 Q145.695 209.361 142.917 210.912 L142.917 206.19 Q145.741 205.056 148.195 204.477 Q150.649 203.898 152.686 203.898 Q158.056 203.898 161.251 206.583 Q164.445 209.268 164.445 213.759 Q164.445 215.889 163.635 217.81 Q162.848 219.708 160.741 222.301 Q160.163 222.972 157.061 226.19 Q153.959 229.384 148.311 235.148 Z\" fill=\"#000000\" fill-rule=\"nonzero\" fill-opacity=\"1\" /><path clip-path=\"url(#clip190)\" d=\"M184.445 207.602 Q180.834 207.602 179.005 211.167 Q177.2 214.708 177.2 221.838 Q177.2 228.944 179.005 232.509 Q180.834 236.051 184.445 236.051 Q188.079 236.051 189.885 232.509 Q191.713 228.944 191.713 221.838 Q191.713 214.708 189.885 211.167 Q188.079 207.602 184.445 207.602 M184.445 203.898 Q190.255 203.898 193.311 208.505 Q196.389 213.088 196.389 221.838 Q196.389 230.565 193.311 235.171 Q190.255 239.754 184.445 239.754 Q178.635 239.754 175.556 235.171 Q172.501 230.565 172.501 221.838 Q172.501 213.088 175.556 208.505 Q178.635 203.898 184.445 203.898 Z\" fill=\"#000000\" fill-rule=\"nonzero\" fill-opacity=\"1\" /><path clip-path=\"url(#clip190)\" d=\"M29.7248 796.386 L35.1993 796.386 Q33.8307 798.869 33.1623 801.383 Q32.4621 803.866 32.4621 806.412 Q32.4621 812.11 36.0905 815.261 Q39.6872 818.412 46.212 818.412 Q52.7369 818.412 56.3653 815.261 Q59.9619 812.11 59.9619 806.412 Q59.9619 803.866 59.2935 801.383 Q58.5933 798.869 57.2247 796.386 L62.6355 796.386 Q63.7814 798.837 64.3543 801.479 Q64.9272 804.089 64.9272 807.049 Q64.9272 815.102 59.8664 819.844 Q54.8057 824.586 46.212 824.586 Q37.491 824.586 32.4939 819.812 Q27.4968 815.006 27.4968 806.667 Q27.4968 803.962 28.0697 801.383 Q28.6108 798.805 29.7248 796.386 Z\" fill=\"#000000\" fill-rule=\"nonzero\" fill-opacity=\"1\" /><path clip-path=\"url(#clip190)\" d=\"M32.4621 772.388 Q32.4621 777.098 36.1542 779.836 Q39.8145 782.573 46.212 782.573 Q52.6095 782.573 56.3017 779.867 Q59.9619 777.13 59.9619 772.388 Q59.9619 767.709 56.2698 764.972 Q52.5777 762.234 46.212 762.234 Q39.8781 762.234 36.186 764.972 Q32.4621 767.709 32.4621 772.388 M27.4968 772.388 Q27.4968 764.749 32.4621 760.388 Q37.4273 756.028 46.212 756.028 Q54.9649 756.028 59.9619 760.388 Q64.9272 764.749 64.9272 772.388 Q64.9272 780.058 59.9619 784.419 Q54.9649 788.748 46.212 788.748 Q37.4273 788.748 32.4621 784.419 Q27.4968 780.058 27.4968 772.388 Z\" fill=\"#000000\" fill-rule=\"nonzero\" fill-opacity=\"1\" /><path clip-path=\"url(#clip190)\" d=\"M49.9359 746.925 L28.3562 746.925 L28.3562 741.068 L49.7131 741.068 Q54.7739 741.068 57.3202 739.095 Q59.8346 737.122 59.8346 733.175 Q59.8346 728.432 56.8109 725.695 Q53.7872 722.926 48.5673 722.926 L28.3562 722.926 L28.3562 717.07 L64.0042 717.07 L64.0042 722.926 L58.5296 722.926 Q61.7762 725.059 63.3676 727.891 Q64.9272 730.692 64.9272 734.416 Q64.9272 740.559 61.1078 743.742 Q57.2883 746.925 49.9359 746.925 M27.4968 732.188 L27.4968 732.188 Z\" fill=\"#000000\" fill-rule=\"nonzero\" fill-opacity=\"1\" /><path clip-path=\"url(#clip190)\" d=\"M42.4881 675.374 L64.0042 675.374 L64.0042 681.231 L42.679 681.231 Q37.6183 681.231 35.1038 683.204 Q32.5894 685.178 32.5894 689.124 Q32.5894 693.867 35.6131 696.604 Q38.6368 699.341 43.8567 699.341 L64.0042 699.341 L64.0042 705.229 L28.3562 705.229 L28.3562 699.341 L33.8944 699.341 Q30.6797 697.241 29.0883 694.408 Q27.4968 691.543 27.4968 687.819 Q27.4968 681.676 31.3163 678.525 Q35.1038 675.374 42.4881 675.374 Z\" fill=\"#000000\" fill-rule=\"nonzero\" fill-opacity=\"1\" /><path clip-path=\"url(#clip190)\" d=\"M18.2347 657.9 L28.3562 657.9 L28.3562 645.837 L32.9077 645.837 L32.9077 657.9 L52.2594 657.9 Q56.6199 657.9 57.8613 656.723 Q59.1026 655.513 59.1026 651.853 L59.1026 645.837 L64.0042 645.837 L64.0042 651.853 Q64.0042 658.633 61.4897 661.211 Q58.9434 663.789 52.2594 663.789 L32.9077 663.789 L32.9077 668.086 L28.3562 668.086 L28.3562 663.789 L18.2347 663.789 L18.2347 657.9 Z\" fill=\"#000000\" fill-rule=\"nonzero\" fill-opacity=\"1\" /><path clip-path=\"url(#clip192)\" d=\"M349.013 86.1857 L349.013 1384.24 L380.998 1384.24 L380.998 86.1857 L349.013 86.1857 L349.013 86.1857  Z\" fill=\"#009af9\" fill-rule=\"evenodd\" fill-opacity=\"1\"/>\n",
       "<polyline clip-path=\"url(#clip192)\" style=\"stroke:#000000; stroke-linecap:round; stroke-linejoin:round; stroke-width:4; stroke-opacity:1; fill:none\" points=\"349.013,86.1857 349.013,1384.24 380.998,1384.24 380.998,86.1857 349.013,86.1857 \"/>\n",
       "<path clip-path=\"url(#clip192)\" d=\"M380.998 1287.37 L380.998 1384.24 L412.983 1384.24 L412.983 1287.37 L380.998 1287.37 L380.998 1287.37  Z\" fill=\"#009af9\" fill-rule=\"evenodd\" fill-opacity=\"1\"/>\n",
       "<polyline clip-path=\"url(#clip192)\" style=\"stroke:#000000; stroke-linecap:round; stroke-linejoin:round; stroke-width:4; stroke-opacity:1; fill:none\" points=\"380.998,1287.37 380.998,1384.24 412.983,1384.24 412.983,1287.37 380.998,1287.37 \"/>\n",
       "<path clip-path=\"url(#clip192)\" d=\"M412.983 1306.74 L412.983 1384.24 L444.968 1384.24 L444.968 1306.74 L412.983 1306.74 L412.983 1306.74  Z\" fill=\"#009af9\" fill-rule=\"evenodd\" fill-opacity=\"1\"/>\n",
       "<polyline clip-path=\"url(#clip192)\" style=\"stroke:#000000; stroke-linecap:round; stroke-linejoin:round; stroke-width:4; stroke-opacity:1; fill:none\" points=\"412.983,1306.74 412.983,1384.24 444.968,1384.24 444.968,1306.74 412.983,1306.74 \"/>\n",
       "<path clip-path=\"url(#clip192)\" d=\"M444.968 1364.86 L444.968 1384.24 L476.954 1384.24 L476.954 1364.86 L444.968 1364.86 L444.968 1364.86  Z\" fill=\"#009af9\" fill-rule=\"evenodd\" fill-opacity=\"1\"/>\n",
       "<polyline clip-path=\"url(#clip192)\" style=\"stroke:#000000; stroke-linecap:round; stroke-linejoin:round; stroke-width:4; stroke-opacity:1; fill:none\" points=\"444.968,1364.86 444.968,1384.24 476.954,1384.24 476.954,1364.86 444.968,1364.86 \"/>\n",
       "<path clip-path=\"url(#clip192)\" d=\"M476.954 1384.24 L476.954 1384.24 L508.939 1384.24 L508.939 1384.24 L476.954 1384.24 L476.954 1384.24  Z\" fill=\"#009af9\" fill-rule=\"evenodd\" fill-opacity=\"1\"/>\n",
       "<polyline clip-path=\"url(#clip192)\" style=\"stroke:#000000; stroke-linecap:round; stroke-linejoin:round; stroke-width:4; stroke-opacity:1; fill:none\" points=\"476.954,1384.24 476.954,1384.24 508.939,1384.24 476.954,1384.24 \"/>\n",
       "<path clip-path=\"url(#clip192)\" d=\"M508.939 1355.18 L508.939 1384.24 L540.924 1384.24 L540.924 1355.18 L508.939 1355.18 L508.939 1355.18  Z\" fill=\"#009af9\" fill-rule=\"evenodd\" fill-opacity=\"1\"/>\n",
       "<polyline clip-path=\"url(#clip192)\" style=\"stroke:#000000; stroke-linecap:round; stroke-linejoin:round; stroke-width:4; stroke-opacity:1; fill:none\" points=\"508.939,1355.18 508.939,1384.24 540.924,1384.24 540.924,1355.18 508.939,1355.18 \"/>\n",
       "<path clip-path=\"url(#clip192)\" d=\"M540.924 1335.8 L540.924 1384.24 L572.909 1384.24 L572.909 1335.8 L540.924 1335.8 L540.924 1335.8  Z\" fill=\"#009af9\" fill-rule=\"evenodd\" fill-opacity=\"1\"/>\n",
       "<polyline clip-path=\"url(#clip192)\" style=\"stroke:#000000; stroke-linecap:round; stroke-linejoin:round; stroke-width:4; stroke-opacity:1; fill:none\" points=\"540.924,1335.8 540.924,1384.24 572.909,1384.24 572.909,1335.8 540.924,1335.8 \"/>\n",
       "<path clip-path=\"url(#clip192)\" d=\"M572.909 1364.86 L572.909 1384.24 L604.894 1384.24 L604.894 1364.86 L572.909 1364.86 L572.909 1364.86  Z\" fill=\"#009af9\" fill-rule=\"evenodd\" fill-opacity=\"1\"/>\n",
       "<polyline clip-path=\"url(#clip192)\" style=\"stroke:#000000; stroke-linecap:round; stroke-linejoin:round; stroke-width:4; stroke-opacity:1; fill:none\" points=\"572.909,1364.86 572.909,1384.24 604.894,1384.24 604.894,1364.86 572.909,1364.86 \"/>\n",
       "<path clip-path=\"url(#clip192)\" d=\"M604.894 1384.24 L604.894 1384.24 L636.879 1384.24 L636.879 1384.24 L604.894 1384.24 L604.894 1384.24  Z\" fill=\"#009af9\" fill-rule=\"evenodd\" fill-opacity=\"1\"/>\n",
       "<polyline clip-path=\"url(#clip192)\" style=\"stroke:#000000; stroke-linecap:round; stroke-linejoin:round; stroke-width:4; stroke-opacity:1; fill:none\" points=\"604.894,1384.24 604.894,1384.24 636.879,1384.24 604.894,1384.24 \"/>\n",
       "<path clip-path=\"url(#clip192)\" d=\"M636.879 1384.24 L636.879 1384.24 L668.864 1384.24 L668.864 1384.24 L636.879 1384.24 L636.879 1384.24  Z\" fill=\"#009af9\" fill-rule=\"evenodd\" fill-opacity=\"1\"/>\n",
       "<polyline clip-path=\"url(#clip192)\" style=\"stroke:#000000; stroke-linecap:round; stroke-linejoin:round; stroke-width:4; stroke-opacity:1; fill:none\" points=\"636.879,1384.24 636.879,1384.24 668.864,1384.24 636.879,1384.24 \"/>\n",
       "<path clip-path=\"url(#clip192)\" d=\"M668.864 1384.24 L668.864 1384.24 L700.849 1384.24 L700.849 1384.24 L668.864 1384.24 L668.864 1384.24  Z\" fill=\"#009af9\" fill-rule=\"evenodd\" fill-opacity=\"1\"/>\n",
       "<polyline clip-path=\"url(#clip192)\" style=\"stroke:#000000; stroke-linecap:round; stroke-linejoin:round; stroke-width:4; stroke-opacity:1; fill:none\" points=\"668.864,1384.24 668.864,1384.24 700.849,1384.24 668.864,1384.24 \"/>\n",
       "<path clip-path=\"url(#clip192)\" d=\"M700.849 1374.55 L700.849 1384.24 L732.834 1384.24 L732.834 1374.55 L700.849 1374.55 L700.849 1374.55  Z\" fill=\"#009af9\" fill-rule=\"evenodd\" fill-opacity=\"1\"/>\n",
       "<polyline clip-path=\"url(#clip192)\" style=\"stroke:#000000; stroke-linecap:round; stroke-linejoin:round; stroke-width:4; stroke-opacity:1; fill:none\" points=\"700.849,1374.55 700.849,1384.24 732.834,1384.24 732.834,1374.55 700.849,1374.55 \"/>\n",
       "<path clip-path=\"url(#clip192)\" d=\"M732.834 1384.24 L732.834 1384.24 L764.819 1384.24 L764.819 1384.24 L732.834 1384.24 L732.834 1384.24  Z\" fill=\"#009af9\" fill-rule=\"evenodd\" fill-opacity=\"1\"/>\n",
       "<polyline clip-path=\"url(#clip192)\" style=\"stroke:#000000; stroke-linecap:round; stroke-linejoin:round; stroke-width:4; stroke-opacity:1; fill:none\" points=\"732.834,1384.24 732.834,1384.24 764.819,1384.24 732.834,1384.24 \"/>\n",
       "<path clip-path=\"url(#clip192)\" d=\"M764.819 1374.55 L764.819 1384.24 L796.804 1384.24 L796.804 1374.55 L764.819 1374.55 L764.819 1374.55  Z\" fill=\"#009af9\" fill-rule=\"evenodd\" fill-opacity=\"1\"/>\n",
       "<polyline clip-path=\"url(#clip192)\" style=\"stroke:#000000; stroke-linecap:round; stroke-linejoin:round; stroke-width:4; stroke-opacity:1; fill:none\" points=\"764.819,1374.55 764.819,1384.24 796.804,1384.24 796.804,1374.55 764.819,1374.55 \"/>\n",
       "<path clip-path=\"url(#clip192)\" d=\"M796.804 1364.86 L796.804 1384.24 L828.789 1384.24 L828.789 1364.86 L796.804 1364.86 L796.804 1364.86  Z\" fill=\"#009af9\" fill-rule=\"evenodd\" fill-opacity=\"1\"/>\n",
       "<polyline clip-path=\"url(#clip192)\" style=\"stroke:#000000; stroke-linecap:round; stroke-linejoin:round; stroke-width:4; stroke-opacity:1; fill:none\" points=\"796.804,1364.86 796.804,1384.24 828.789,1384.24 828.789,1364.86 796.804,1364.86 \"/>\n",
       "<path clip-path=\"url(#clip192)\" d=\"M828.789 1384.24 L828.789 1384.24 L860.774 1384.24 L860.774 1384.24 L828.789 1384.24 L828.789 1384.24  Z\" fill=\"#009af9\" fill-rule=\"evenodd\" fill-opacity=\"1\"/>\n",
       "<polyline clip-path=\"url(#clip192)\" style=\"stroke:#000000; stroke-linecap:round; stroke-linejoin:round; stroke-width:4; stroke-opacity:1; fill:none\" points=\"828.789,1384.24 828.789,1384.24 860.774,1384.24 828.789,1384.24 \"/>\n",
       "<path clip-path=\"url(#clip192)\" d=\"M860.774 1364.86 L860.774 1384.24 L892.759 1384.24 L892.759 1364.86 L860.774 1364.86 L860.774 1364.86  Z\" fill=\"#009af9\" fill-rule=\"evenodd\" fill-opacity=\"1\"/>\n",
       "<polyline clip-path=\"url(#clip192)\" style=\"stroke:#000000; stroke-linecap:round; stroke-linejoin:round; stroke-width:4; stroke-opacity:1; fill:none\" points=\"860.774,1364.86 860.774,1384.24 892.759,1384.24 892.759,1364.86 860.774,1364.86 \"/>\n",
       "<path clip-path=\"url(#clip192)\" d=\"M892.759 1384.24 L892.759 1384.24 L924.744 1384.24 L924.744 1384.24 L892.759 1384.24 L892.759 1384.24  Z\" fill=\"#009af9\" fill-rule=\"evenodd\" fill-opacity=\"1\"/>\n",
       "<polyline clip-path=\"url(#clip192)\" style=\"stroke:#000000; stroke-linecap:round; stroke-linejoin:round; stroke-width:4; stroke-opacity:1; fill:none\" points=\"892.759,1384.24 892.759,1384.24 924.744,1384.24 892.759,1384.24 \"/>\n",
       "<path clip-path=\"url(#clip192)\" d=\"M924.744 1384.24 L924.744 1384.24 L956.729 1384.24 L956.729 1384.24 L924.744 1384.24 L924.744 1384.24  Z\" fill=\"#009af9\" fill-rule=\"evenodd\" fill-opacity=\"1\"/>\n",
       "<polyline clip-path=\"url(#clip192)\" style=\"stroke:#000000; stroke-linecap:round; stroke-linejoin:round; stroke-width:4; stroke-opacity:1; fill:none\" points=\"924.744,1384.24 924.744,1384.24 956.729,1384.24 924.744,1384.24 \"/>\n",
       "<path clip-path=\"url(#clip192)\" d=\"M956.729 1384.24 L956.729 1384.24 L988.715 1384.24 L988.715 1384.24 L956.729 1384.24 L956.729 1384.24  Z\" fill=\"#009af9\" fill-rule=\"evenodd\" fill-opacity=\"1\"/>\n",
       "<polyline clip-path=\"url(#clip192)\" style=\"stroke:#000000; stroke-linecap:round; stroke-linejoin:round; stroke-width:4; stroke-opacity:1; fill:none\" points=\"956.729,1384.24 956.729,1384.24 988.715,1384.24 956.729,1384.24 \"/>\n",
       "<path clip-path=\"url(#clip192)\" d=\"M988.715 1384.24 L988.715 1384.24 L1020.7 1384.24 L1020.7 1384.24 L988.715 1384.24 L988.715 1384.24  Z\" fill=\"#009af9\" fill-rule=\"evenodd\" fill-opacity=\"1\"/>\n",
       "<polyline clip-path=\"url(#clip192)\" style=\"stroke:#000000; stroke-linecap:round; stroke-linejoin:round; stroke-width:4; stroke-opacity:1; fill:none\" points=\"988.715,1384.24 988.715,1384.24 1020.7,1384.24 988.715,1384.24 \"/>\n",
       "<path clip-path=\"url(#clip192)\" d=\"M1020.7 1374.55 L1020.7 1384.24 L1052.68 1384.24 L1052.68 1374.55 L1020.7 1374.55 L1020.7 1374.55  Z\" fill=\"#009af9\" fill-rule=\"evenodd\" fill-opacity=\"1\"/>\n",
       "<polyline clip-path=\"url(#clip192)\" style=\"stroke:#000000; stroke-linecap:round; stroke-linejoin:round; stroke-width:4; stroke-opacity:1; fill:none\" points=\"1020.7,1374.55 1020.7,1384.24 1052.68,1384.24 1052.68,1374.55 1020.7,1374.55 \"/>\n",
       "<path clip-path=\"url(#clip192)\" d=\"M1052.68 1384.24 L1052.68 1384.24 L1084.67 1384.24 L1084.67 1384.24 L1052.68 1384.24 L1052.68 1384.24  Z\" fill=\"#009af9\" fill-rule=\"evenodd\" fill-opacity=\"1\"/>\n",
       "<polyline clip-path=\"url(#clip192)\" style=\"stroke:#000000; stroke-linecap:round; stroke-linejoin:round; stroke-width:4; stroke-opacity:1; fill:none\" points=\"1052.68,1384.24 1052.68,1384.24 1084.67,1384.24 1052.68,1384.24 \"/>\n",
       "<path clip-path=\"url(#clip192)\" d=\"M1084.67 1384.24 L1084.67 1384.24 L1116.65 1384.24 L1116.65 1384.24 L1084.67 1384.24 L1084.67 1384.24  Z\" fill=\"#009af9\" fill-rule=\"evenodd\" fill-opacity=\"1\"/>\n",
       "<polyline clip-path=\"url(#clip192)\" style=\"stroke:#000000; stroke-linecap:round; stroke-linejoin:round; stroke-width:4; stroke-opacity:1; fill:none\" points=\"1084.67,1384.24 1084.67,1384.24 1116.65,1384.24 1084.67,1384.24 \"/>\n",
       "<path clip-path=\"url(#clip192)\" d=\"M1116.65 1384.24 L1116.65 1384.24 L1148.64 1384.24 L1148.64 1384.24 L1116.65 1384.24 L1116.65 1384.24  Z\" fill=\"#009af9\" fill-rule=\"evenodd\" fill-opacity=\"1\"/>\n",
       "<polyline clip-path=\"url(#clip192)\" style=\"stroke:#000000; stroke-linecap:round; stroke-linejoin:round; stroke-width:4; stroke-opacity:1; fill:none\" points=\"1116.65,1384.24 1116.65,1384.24 1148.64,1384.24 1116.65,1384.24 \"/>\n",
       "<path clip-path=\"url(#clip192)\" d=\"M1148.64 1384.24 L1148.64 1384.24 L1180.62 1384.24 L1180.62 1384.24 L1148.64 1384.24 L1148.64 1384.24  Z\" fill=\"#009af9\" fill-rule=\"evenodd\" fill-opacity=\"1\"/>\n",
       "<polyline clip-path=\"url(#clip192)\" style=\"stroke:#000000; stroke-linecap:round; stroke-linejoin:round; stroke-width:4; stroke-opacity:1; fill:none\" points=\"1148.64,1384.24 1148.64,1384.24 1180.62,1384.24 1148.64,1384.24 \"/>\n",
       "<path clip-path=\"url(#clip192)\" d=\"M1180.62 1384.24 L1180.62 1384.24 L1212.61 1384.24 L1212.61 1384.24 L1180.62 1384.24 L1180.62 1384.24  Z\" fill=\"#009af9\" fill-rule=\"evenodd\" fill-opacity=\"1\"/>\n",
       "<polyline clip-path=\"url(#clip192)\" style=\"stroke:#000000; stroke-linecap:round; stroke-linejoin:round; stroke-width:4; stroke-opacity:1; fill:none\" points=\"1180.62,1384.24 1180.62,1384.24 1212.61,1384.24 1180.62,1384.24 \"/>\n",
       "<path clip-path=\"url(#clip192)\" d=\"M1212.61 1384.24 L1212.61 1384.24 L1244.6 1384.24 L1244.6 1384.24 L1212.61 1384.24 L1212.61 1384.24  Z\" fill=\"#009af9\" fill-rule=\"evenodd\" fill-opacity=\"1\"/>\n",
       "<polyline clip-path=\"url(#clip192)\" style=\"stroke:#000000; stroke-linecap:round; stroke-linejoin:round; stroke-width:4; stroke-opacity:1; fill:none\" points=\"1212.61,1384.24 1212.61,1384.24 1244.6,1384.24 1212.61,1384.24 \"/>\n",
       "<path clip-path=\"url(#clip192)\" d=\"M1244.6 1374.55 L1244.6 1384.24 L1276.58 1384.24 L1276.58 1374.55 L1244.6 1374.55 L1244.6 1374.55  Z\" fill=\"#009af9\" fill-rule=\"evenodd\" fill-opacity=\"1\"/>\n",
       "<polyline clip-path=\"url(#clip192)\" style=\"stroke:#000000; stroke-linecap:round; stroke-linejoin:round; stroke-width:4; stroke-opacity:1; fill:none\" points=\"1244.6,1374.55 1244.6,1384.24 1276.58,1384.24 1276.58,1374.55 1244.6,1374.55 \"/>\n",
       "<path clip-path=\"url(#clip192)\" d=\"M1276.58 1384.24 L1276.58 1384.24 L1308.57 1384.24 L1308.57 1384.24 L1276.58 1384.24 L1276.58 1384.24  Z\" fill=\"#009af9\" fill-rule=\"evenodd\" fill-opacity=\"1\"/>\n",
       "<polyline clip-path=\"url(#clip192)\" style=\"stroke:#000000; stroke-linecap:round; stroke-linejoin:round; stroke-width:4; stroke-opacity:1; fill:none\" points=\"1276.58,1384.24 1276.58,1384.24 1308.57,1384.24 1276.58,1384.24 \"/>\n",
       "<path clip-path=\"url(#clip192)\" d=\"M1308.57 1384.24 L1308.57 1384.24 L1340.55 1384.24 L1340.55 1384.24 L1308.57 1384.24 L1308.57 1384.24  Z\" fill=\"#009af9\" fill-rule=\"evenodd\" fill-opacity=\"1\"/>\n",
       "<polyline clip-path=\"url(#clip192)\" style=\"stroke:#000000; stroke-linecap:round; stroke-linejoin:round; stroke-width:4; stroke-opacity:1; fill:none\" points=\"1308.57,1384.24 1308.57,1384.24 1340.55,1384.24 1308.57,1384.24 \"/>\n",
       "<path clip-path=\"url(#clip192)\" d=\"M1340.55 1384.24 L1340.55 1384.24 L1372.54 1384.24 L1372.54 1384.24 L1340.55 1384.24 L1340.55 1384.24  Z\" fill=\"#009af9\" fill-rule=\"evenodd\" fill-opacity=\"1\"/>\n",
       "<polyline clip-path=\"url(#clip192)\" style=\"stroke:#000000; stroke-linecap:round; stroke-linejoin:round; stroke-width:4; stroke-opacity:1; fill:none\" points=\"1340.55,1384.24 1340.55,1384.24 1372.54,1384.24 1340.55,1384.24 \"/>\n",
       "<path clip-path=\"url(#clip192)\" d=\"M1372.54 1384.24 L1372.54 1384.24 L1404.52 1384.24 L1404.52 1384.24 L1372.54 1384.24 L1372.54 1384.24  Z\" fill=\"#009af9\" fill-rule=\"evenodd\" fill-opacity=\"1\"/>\n",
       "<polyline clip-path=\"url(#clip192)\" style=\"stroke:#000000; stroke-linecap:round; stroke-linejoin:round; stroke-width:4; stroke-opacity:1; fill:none\" points=\"1372.54,1384.24 1372.54,1384.24 1404.52,1384.24 1372.54,1384.24 \"/>\n",
       "<path clip-path=\"url(#clip192)\" d=\"M1404.52 1384.24 L1404.52 1384.24 L1436.51 1384.24 L1436.51 1384.24 L1404.52 1384.24 L1404.52 1384.24  Z\" fill=\"#009af9\" fill-rule=\"evenodd\" fill-opacity=\"1\"/>\n",
       "<polyline clip-path=\"url(#clip192)\" style=\"stroke:#000000; stroke-linecap:round; stroke-linejoin:round; stroke-width:4; stroke-opacity:1; fill:none\" points=\"1404.52,1384.24 1404.52,1384.24 1436.51,1384.24 1404.52,1384.24 \"/>\n",
       "<path clip-path=\"url(#clip192)\" d=\"M1436.51 1384.24 L1436.51 1384.24 L1468.49 1384.24 L1468.49 1384.24 L1436.51 1384.24 L1436.51 1384.24  Z\" fill=\"#009af9\" fill-rule=\"evenodd\" fill-opacity=\"1\"/>\n",
       "<polyline clip-path=\"url(#clip192)\" style=\"stroke:#000000; stroke-linecap:round; stroke-linejoin:round; stroke-width:4; stroke-opacity:1; fill:none\" points=\"1436.51,1384.24 1436.51,1384.24 1468.49,1384.24 1436.51,1384.24 \"/>\n",
       "<path clip-path=\"url(#clip192)\" d=\"M1468.49 1384.24 L1468.49 1384.24 L1500.48 1384.24 L1500.48 1384.24 L1468.49 1384.24 L1468.49 1384.24  Z\" fill=\"#009af9\" fill-rule=\"evenodd\" fill-opacity=\"1\"/>\n",
       "<polyline clip-path=\"url(#clip192)\" style=\"stroke:#000000; stroke-linecap:round; stroke-linejoin:round; stroke-width:4; stroke-opacity:1; fill:none\" points=\"1468.49,1384.24 1468.49,1384.24 1500.48,1384.24 1468.49,1384.24 \"/>\n",
       "<path clip-path=\"url(#clip192)\" d=\"M1500.48 1384.24 L1500.48 1384.24 L1532.46 1384.24 L1532.46 1384.24 L1500.48 1384.24 L1500.48 1384.24  Z\" fill=\"#009af9\" fill-rule=\"evenodd\" fill-opacity=\"1\"/>\n",
       "<polyline clip-path=\"url(#clip192)\" style=\"stroke:#000000; stroke-linecap:round; stroke-linejoin:round; stroke-width:4; stroke-opacity:1; fill:none\" points=\"1500.48,1384.24 1500.48,1384.24 1532.46,1384.24 1500.48,1384.24 \"/>\n",
       "<path clip-path=\"url(#clip192)\" d=\"M1532.46 1384.24 L1532.46 1384.24 L1564.45 1384.24 L1564.45 1384.24 L1532.46 1384.24 L1532.46 1384.24  Z\" fill=\"#009af9\" fill-rule=\"evenodd\" fill-opacity=\"1\"/>\n",
       "<polyline clip-path=\"url(#clip192)\" style=\"stroke:#000000; stroke-linecap:round; stroke-linejoin:round; stroke-width:4; stroke-opacity:1; fill:none\" points=\"1532.46,1384.24 1532.46,1384.24 1564.45,1384.24 1532.46,1384.24 \"/>\n",
       "<path clip-path=\"url(#clip192)\" d=\"M1564.45 1384.24 L1564.45 1384.24 L1596.43 1384.24 L1596.43 1384.24 L1564.45 1384.24 L1564.45 1384.24  Z\" fill=\"#009af9\" fill-rule=\"evenodd\" fill-opacity=\"1\"/>\n",
       "<polyline clip-path=\"url(#clip192)\" style=\"stroke:#000000; stroke-linecap:round; stroke-linejoin:round; stroke-width:4; stroke-opacity:1; fill:none\" points=\"1564.45,1384.24 1564.45,1384.24 1596.43,1384.24 1564.45,1384.24 \"/>\n",
       "<path clip-path=\"url(#clip192)\" d=\"M1596.43 1384.24 L1596.43 1384.24 L1628.42 1384.24 L1628.42 1384.24 L1596.43 1384.24 L1596.43 1384.24  Z\" fill=\"#009af9\" fill-rule=\"evenodd\" fill-opacity=\"1\"/>\n",
       "<polyline clip-path=\"url(#clip192)\" style=\"stroke:#000000; stroke-linecap:round; stroke-linejoin:round; stroke-width:4; stroke-opacity:1; fill:none\" points=\"1596.43,1384.24 1596.43,1384.24 1628.42,1384.24 1596.43,1384.24 \"/>\n",
       "<path clip-path=\"url(#clip192)\" d=\"M1628.42 1384.24 L1628.42 1384.24 L1660.4 1384.24 L1660.4 1384.24 L1628.42 1384.24 L1628.42 1384.24  Z\" fill=\"#009af9\" fill-rule=\"evenodd\" fill-opacity=\"1\"/>\n",
       "<polyline clip-path=\"url(#clip192)\" style=\"stroke:#000000; stroke-linecap:round; stroke-linejoin:round; stroke-width:4; stroke-opacity:1; fill:none\" points=\"1628.42,1384.24 1628.42,1384.24 1660.4,1384.24 1628.42,1384.24 \"/>\n",
       "<path clip-path=\"url(#clip192)\" d=\"M1660.4 1384.24 L1660.4 1384.24 L1692.39 1384.24 L1692.39 1384.24 L1660.4 1384.24 L1660.4 1384.24  Z\" fill=\"#009af9\" fill-rule=\"evenodd\" fill-opacity=\"1\"/>\n",
       "<polyline clip-path=\"url(#clip192)\" style=\"stroke:#000000; stroke-linecap:round; stroke-linejoin:round; stroke-width:4; stroke-opacity:1; fill:none\" points=\"1660.4,1384.24 1660.4,1384.24 1692.39,1384.24 1660.4,1384.24 \"/>\n",
       "<path clip-path=\"url(#clip192)\" d=\"M1692.39 1384.24 L1692.39 1384.24 L1724.37 1384.24 L1724.37 1384.24 L1692.39 1384.24 L1692.39 1384.24  Z\" fill=\"#009af9\" fill-rule=\"evenodd\" fill-opacity=\"1\"/>\n",
       "<polyline clip-path=\"url(#clip192)\" style=\"stroke:#000000; stroke-linecap:round; stroke-linejoin:round; stroke-width:4; stroke-opacity:1; fill:none\" points=\"1692.39,1384.24 1692.39,1384.24 1724.37,1384.24 1692.39,1384.24 \"/>\n",
       "<path clip-path=\"url(#clip192)\" d=\"M1724.37 1384.24 L1724.37 1384.24 L1756.36 1384.24 L1756.36 1384.24 L1724.37 1384.24 L1724.37 1384.24  Z\" fill=\"#009af9\" fill-rule=\"evenodd\" fill-opacity=\"1\"/>\n",
       "<polyline clip-path=\"url(#clip192)\" style=\"stroke:#000000; stroke-linecap:round; stroke-linejoin:round; stroke-width:4; stroke-opacity:1; fill:none\" points=\"1724.37,1384.24 1724.37,1384.24 1756.36,1384.24 1724.37,1384.24 \"/>\n",
       "<path clip-path=\"url(#clip192)\" d=\"M1756.36 1384.24 L1756.36 1384.24 L1788.34 1384.24 L1788.34 1384.24 L1756.36 1384.24 L1756.36 1384.24  Z\" fill=\"#009af9\" fill-rule=\"evenodd\" fill-opacity=\"1\"/>\n",
       "<polyline clip-path=\"url(#clip192)\" style=\"stroke:#000000; stroke-linecap:round; stroke-linejoin:round; stroke-width:4; stroke-opacity:1; fill:none\" points=\"1756.36,1384.24 1756.36,1384.24 1788.34,1384.24 1756.36,1384.24 \"/>\n",
       "<path clip-path=\"url(#clip192)\" d=\"M1788.34 1384.24 L1788.34 1384.24 L1820.33 1384.24 L1820.33 1384.24 L1788.34 1384.24 L1788.34 1384.24  Z\" fill=\"#009af9\" fill-rule=\"evenodd\" fill-opacity=\"1\"/>\n",
       "<polyline clip-path=\"url(#clip192)\" style=\"stroke:#000000; stroke-linecap:round; stroke-linejoin:round; stroke-width:4; stroke-opacity:1; fill:none\" points=\"1788.34,1384.24 1788.34,1384.24 1820.33,1384.24 1788.34,1384.24 \"/>\n",
       "<path clip-path=\"url(#clip192)\" d=\"M1820.33 1384.24 L1820.33 1384.24 L1852.31 1384.24 L1852.31 1384.24 L1820.33 1384.24 L1820.33 1384.24  Z\" fill=\"#009af9\" fill-rule=\"evenodd\" fill-opacity=\"1\"/>\n",
       "<polyline clip-path=\"url(#clip192)\" style=\"stroke:#000000; stroke-linecap:round; stroke-linejoin:round; stroke-width:4; stroke-opacity:1; fill:none\" points=\"1820.33,1384.24 1820.33,1384.24 1852.31,1384.24 1820.33,1384.24 \"/>\n",
       "<path clip-path=\"url(#clip192)\" d=\"M1852.31 1384.24 L1852.31 1384.24 L1884.3 1384.24 L1884.3 1384.24 L1852.31 1384.24 L1852.31 1384.24  Z\" fill=\"#009af9\" fill-rule=\"evenodd\" fill-opacity=\"1\"/>\n",
       "<polyline clip-path=\"url(#clip192)\" style=\"stroke:#000000; stroke-linecap:round; stroke-linejoin:round; stroke-width:4; stroke-opacity:1; fill:none\" points=\"1852.31,1384.24 1852.31,1384.24 1884.3,1384.24 1852.31,1384.24 \"/>\n",
       "<path clip-path=\"url(#clip192)\" d=\"M1884.3 1384.24 L1884.3 1384.24 L1916.28 1384.24 L1916.28 1384.24 L1884.3 1384.24 L1884.3 1384.24  Z\" fill=\"#009af9\" fill-rule=\"evenodd\" fill-opacity=\"1\"/>\n",
       "<polyline clip-path=\"url(#clip192)\" style=\"stroke:#000000; stroke-linecap:round; stroke-linejoin:round; stroke-width:4; stroke-opacity:1; fill:none\" points=\"1884.3,1384.24 1884.3,1384.24 1916.28,1384.24 1884.3,1384.24 \"/>\n",
       "<path clip-path=\"url(#clip192)\" d=\"M1916.28 1374.55 L1916.28 1384.24 L1948.27 1384.24 L1948.27 1374.55 L1916.28 1374.55 L1916.28 1374.55  Z\" fill=\"#009af9\" fill-rule=\"evenodd\" fill-opacity=\"1\"/>\n",
       "<polyline clip-path=\"url(#clip192)\" style=\"stroke:#000000; stroke-linecap:round; stroke-linejoin:round; stroke-width:4; stroke-opacity:1; fill:none\" points=\"1916.28,1374.55 1916.28,1384.24 1948.27,1384.24 1948.27,1374.55 1916.28,1374.55 \"/>\n",
       "<path clip-path=\"url(#clip192)\" d=\"M1948.27 1384.24 L1948.27 1384.24 L1980.25 1384.24 L1980.25 1384.24 L1948.27 1384.24 L1948.27 1384.24  Z\" fill=\"#009af9\" fill-rule=\"evenodd\" fill-opacity=\"1\"/>\n",
       "<polyline clip-path=\"url(#clip192)\" style=\"stroke:#000000; stroke-linecap:round; stroke-linejoin:round; stroke-width:4; stroke-opacity:1; fill:none\" points=\"1948.27,1384.24 1948.27,1384.24 1980.25,1384.24 1948.27,1384.24 \"/>\n",
       "<path clip-path=\"url(#clip192)\" d=\"M1980.25 1384.24 L1980.25 1384.24 L2012.24 1384.24 L2012.24 1384.24 L1980.25 1384.24 L1980.25 1384.24  Z\" fill=\"#009af9\" fill-rule=\"evenodd\" fill-opacity=\"1\"/>\n",
       "<polyline clip-path=\"url(#clip192)\" style=\"stroke:#000000; stroke-linecap:round; stroke-linejoin:round; stroke-width:4; stroke-opacity:1; fill:none\" points=\"1980.25,1384.24 1980.25,1384.24 2012.24,1384.24 1980.25,1384.24 \"/>\n",
       "<path clip-path=\"url(#clip192)\" d=\"M2012.24 1384.24 L2012.24 1384.24 L2044.22 1384.24 L2044.22 1384.24 L2012.24 1384.24 L2012.24 1384.24  Z\" fill=\"#009af9\" fill-rule=\"evenodd\" fill-opacity=\"1\"/>\n",
       "<polyline clip-path=\"url(#clip192)\" style=\"stroke:#000000; stroke-linecap:round; stroke-linejoin:round; stroke-width:4; stroke-opacity:1; fill:none\" points=\"2012.24,1384.24 2012.24,1384.24 2044.22,1384.24 2012.24,1384.24 \"/>\n",
       "<path clip-path=\"url(#clip192)\" d=\"M2044.22 1384.24 L2044.22 1384.24 L2076.21 1384.24 L2076.21 1384.24 L2044.22 1384.24 L2044.22 1384.24  Z\" fill=\"#009af9\" fill-rule=\"evenodd\" fill-opacity=\"1\"/>\n",
       "<polyline clip-path=\"url(#clip192)\" style=\"stroke:#000000; stroke-linecap:round; stroke-linejoin:round; stroke-width:4; stroke-opacity:1; fill:none\" points=\"2044.22,1384.24 2044.22,1384.24 2076.21,1384.24 2044.22,1384.24 \"/>\n",
       "<path clip-path=\"url(#clip192)\" d=\"M2076.21 1384.24 L2076.21 1384.24 L2108.19 1384.24 L2108.19 1384.24 L2076.21 1384.24 L2076.21 1384.24  Z\" fill=\"#009af9\" fill-rule=\"evenodd\" fill-opacity=\"1\"/>\n",
       "<polyline clip-path=\"url(#clip192)\" style=\"stroke:#000000; stroke-linecap:round; stroke-linejoin:round; stroke-width:4; stroke-opacity:1; fill:none\" points=\"2076.21,1384.24 2076.21,1384.24 2108.19,1384.24 2076.21,1384.24 \"/>\n",
       "<path clip-path=\"url(#clip192)\" d=\"M2108.19 1374.55 L2108.19 1384.24 L2140.18 1384.24 L2140.18 1374.55 L2108.19 1374.55 L2108.19 1374.55  Z\" fill=\"#009af9\" fill-rule=\"evenodd\" fill-opacity=\"1\"/>\n",
       "<polyline clip-path=\"url(#clip192)\" style=\"stroke:#000000; stroke-linecap:round; stroke-linejoin:round; stroke-width:4; stroke-opacity:1; fill:none\" points=\"2108.19,1374.55 2108.19,1384.24 2140.18,1384.24 2140.18,1374.55 2108.19,1374.55 \"/>\n",
       "<path clip-path=\"url(#clip192)\" d=\"M2140.18 1384.24 L2140.18 1384.24 L2172.16 1384.24 L2172.16 1384.24 L2140.18 1384.24 L2140.18 1384.24  Z\" fill=\"#009af9\" fill-rule=\"evenodd\" fill-opacity=\"1\"/>\n",
       "<polyline clip-path=\"url(#clip192)\" style=\"stroke:#000000; stroke-linecap:round; stroke-linejoin:round; stroke-width:4; stroke-opacity:1; fill:none\" points=\"2140.18,1384.24 2140.18,1384.24 2172.16,1384.24 2140.18,1384.24 \"/>\n",
       "<path clip-path=\"url(#clip192)\" d=\"M2172.16 1384.24 L2172.16 1384.24 L2204.15 1384.24 L2204.15 1384.24 L2172.16 1384.24 L2172.16 1384.24  Z\" fill=\"#009af9\" fill-rule=\"evenodd\" fill-opacity=\"1\"/>\n",
       "<polyline clip-path=\"url(#clip192)\" style=\"stroke:#000000; stroke-linecap:round; stroke-linejoin:round; stroke-width:4; stroke-opacity:1; fill:none\" points=\"2172.16,1384.24 2172.16,1384.24 2204.15,1384.24 2172.16,1384.24 \"/>\n",
       "<path clip-path=\"url(#clip192)\" d=\"M2204.15 1267.99 L2204.15 1384.24 L2236.13 1384.24 L2236.13 1267.99 L2204.15 1267.99 L2204.15 1267.99  Z\" fill=\"#009af9\" fill-rule=\"evenodd\" fill-opacity=\"1\"/>\n",
       "<polyline clip-path=\"url(#clip192)\" style=\"stroke:#000000; stroke-linecap:round; stroke-linejoin:round; stroke-width:4; stroke-opacity:1; fill:none\" points=\"2204.15,1267.99 2204.15,1384.24 2236.13,1384.24 2236.13,1267.99 2204.15,1267.99 \"/>\n",
       "<circle clip-path=\"url(#clip192)\" style=\"fill:#009af9; stroke:none; fill-opacity:0\" cx=\"365.006\" cy=\"86.1857\" r=\"2\"/>\n",
       "<circle clip-path=\"url(#clip192)\" style=\"fill:#009af9; stroke:none; fill-opacity:0\" cx=\"396.991\" cy=\"1287.37\" r=\"2\"/>\n",
       "<circle clip-path=\"url(#clip192)\" style=\"fill:#009af9; stroke:none; fill-opacity:0\" cx=\"428.976\" cy=\"1306.74\" r=\"2\"/>\n",
       "<circle clip-path=\"url(#clip192)\" style=\"fill:#009af9; stroke:none; fill-opacity:0\" cx=\"460.961\" cy=\"1364.86\" r=\"2\"/>\n",
       "<circle clip-path=\"url(#clip192)\" style=\"fill:#009af9; stroke:none; fill-opacity:0\" cx=\"492.946\" cy=\"1384.24\" r=\"2\"/>\n",
       "<circle clip-path=\"url(#clip192)\" style=\"fill:#009af9; stroke:none; fill-opacity:0\" cx=\"524.931\" cy=\"1355.18\" r=\"2\"/>\n",
       "<circle clip-path=\"url(#clip192)\" style=\"fill:#009af9; stroke:none; fill-opacity:0\" cx=\"556.916\" cy=\"1335.8\" r=\"2\"/>\n",
       "<circle clip-path=\"url(#clip192)\" style=\"fill:#009af9; stroke:none; fill-opacity:0\" cx=\"588.901\" cy=\"1364.86\" r=\"2\"/>\n",
       "<circle clip-path=\"url(#clip192)\" style=\"fill:#009af9; stroke:none; fill-opacity:0\" cx=\"620.886\" cy=\"1384.24\" r=\"2\"/>\n",
       "<circle clip-path=\"url(#clip192)\" style=\"fill:#009af9; stroke:none; fill-opacity:0\" cx=\"652.871\" cy=\"1384.24\" r=\"2\"/>\n",
       "<circle clip-path=\"url(#clip192)\" style=\"fill:#009af9; stroke:none; fill-opacity:0\" cx=\"684.856\" cy=\"1384.24\" r=\"2\"/>\n",
       "<circle clip-path=\"url(#clip192)\" style=\"fill:#009af9; stroke:none; fill-opacity:0\" cx=\"716.842\" cy=\"1374.55\" r=\"2\"/>\n",
       "<circle clip-path=\"url(#clip192)\" style=\"fill:#009af9; stroke:none; fill-opacity:0\" cx=\"748.827\" cy=\"1384.24\" r=\"2\"/>\n",
       "<circle clip-path=\"url(#clip192)\" style=\"fill:#009af9; stroke:none; fill-opacity:0\" cx=\"780.812\" cy=\"1374.55\" r=\"2\"/>\n",
       "<circle clip-path=\"url(#clip192)\" style=\"fill:#009af9; stroke:none; fill-opacity:0\" cx=\"812.797\" cy=\"1364.86\" r=\"2\"/>\n",
       "<circle clip-path=\"url(#clip192)\" style=\"fill:#009af9; stroke:none; fill-opacity:0\" cx=\"844.782\" cy=\"1384.24\" r=\"2\"/>\n",
       "<circle clip-path=\"url(#clip192)\" style=\"fill:#009af9; stroke:none; fill-opacity:0\" cx=\"876.767\" cy=\"1364.86\" r=\"2\"/>\n",
       "<circle clip-path=\"url(#clip192)\" style=\"fill:#009af9; stroke:none; fill-opacity:0\" cx=\"908.752\" cy=\"1384.24\" r=\"2\"/>\n",
       "<circle clip-path=\"url(#clip192)\" style=\"fill:#009af9; stroke:none; fill-opacity:0\" cx=\"940.737\" cy=\"1384.24\" r=\"2\"/>\n",
       "<circle clip-path=\"url(#clip192)\" style=\"fill:#009af9; stroke:none; fill-opacity:0\" cx=\"972.722\" cy=\"1384.24\" r=\"2\"/>\n",
       "<circle clip-path=\"url(#clip192)\" style=\"fill:#009af9; stroke:none; fill-opacity:0\" cx=\"1004.71\" cy=\"1384.24\" r=\"2\"/>\n",
       "<circle clip-path=\"url(#clip192)\" style=\"fill:#009af9; stroke:none; fill-opacity:0\" cx=\"1036.69\" cy=\"1374.55\" r=\"2\"/>\n",
       "<circle clip-path=\"url(#clip192)\" style=\"fill:#009af9; stroke:none; fill-opacity:0\" cx=\"1068.68\" cy=\"1384.24\" r=\"2\"/>\n",
       "<circle clip-path=\"url(#clip192)\" style=\"fill:#009af9; stroke:none; fill-opacity:0\" cx=\"1100.66\" cy=\"1384.24\" r=\"2\"/>\n",
       "<circle clip-path=\"url(#clip192)\" style=\"fill:#009af9; stroke:none; fill-opacity:0\" cx=\"1132.65\" cy=\"1384.24\" r=\"2\"/>\n",
       "<circle clip-path=\"url(#clip192)\" style=\"fill:#009af9; stroke:none; fill-opacity:0\" cx=\"1164.63\" cy=\"1384.24\" r=\"2\"/>\n",
       "<circle clip-path=\"url(#clip192)\" style=\"fill:#009af9; stroke:none; fill-opacity:0\" cx=\"1196.62\" cy=\"1384.24\" r=\"2\"/>\n",
       "<circle clip-path=\"url(#clip192)\" style=\"fill:#009af9; stroke:none; fill-opacity:0\" cx=\"1228.6\" cy=\"1384.24\" r=\"2\"/>\n",
       "<circle clip-path=\"url(#clip192)\" style=\"fill:#009af9; stroke:none; fill-opacity:0\" cx=\"1260.59\" cy=\"1374.55\" r=\"2\"/>\n",
       "<circle clip-path=\"url(#clip192)\" style=\"fill:#009af9; stroke:none; fill-opacity:0\" cx=\"1292.57\" cy=\"1384.24\" r=\"2\"/>\n",
       "<circle clip-path=\"url(#clip192)\" style=\"fill:#009af9; stroke:none; fill-opacity:0\" cx=\"1324.56\" cy=\"1384.24\" r=\"2\"/>\n",
       "<circle clip-path=\"url(#clip192)\" style=\"fill:#009af9; stroke:none; fill-opacity:0\" cx=\"1356.54\" cy=\"1384.24\" r=\"2\"/>\n",
       "<circle clip-path=\"url(#clip192)\" style=\"fill:#009af9; stroke:none; fill-opacity:0\" cx=\"1388.53\" cy=\"1384.24\" r=\"2\"/>\n",
       "<circle clip-path=\"url(#clip192)\" style=\"fill:#009af9; stroke:none; fill-opacity:0\" cx=\"1420.51\" cy=\"1384.24\" r=\"2\"/>\n",
       "<circle clip-path=\"url(#clip192)\" style=\"fill:#009af9; stroke:none; fill-opacity:0\" cx=\"1452.5\" cy=\"1384.24\" r=\"2\"/>\n",
       "<circle clip-path=\"url(#clip192)\" style=\"fill:#009af9; stroke:none; fill-opacity:0\" cx=\"1484.48\" cy=\"1384.24\" r=\"2\"/>\n",
       "<circle clip-path=\"url(#clip192)\" style=\"fill:#009af9; stroke:none; fill-opacity:0\" cx=\"1516.47\" cy=\"1384.24\" r=\"2\"/>\n",
       "<circle clip-path=\"url(#clip192)\" style=\"fill:#009af9; stroke:none; fill-opacity:0\" cx=\"1548.45\" cy=\"1384.24\" r=\"2\"/>\n",
       "<circle clip-path=\"url(#clip192)\" style=\"fill:#009af9; stroke:none; fill-opacity:0\" cx=\"1580.44\" cy=\"1384.24\" r=\"2\"/>\n",
       "<circle clip-path=\"url(#clip192)\" style=\"fill:#009af9; stroke:none; fill-opacity:0\" cx=\"1612.42\" cy=\"1384.24\" r=\"2\"/>\n",
       "<circle clip-path=\"url(#clip192)\" style=\"fill:#009af9; stroke:none; fill-opacity:0\" cx=\"1644.41\" cy=\"1384.24\" r=\"2\"/>\n",
       "<circle clip-path=\"url(#clip192)\" style=\"fill:#009af9; stroke:none; fill-opacity:0\" cx=\"1676.39\" cy=\"1384.24\" r=\"2\"/>\n",
       "<circle clip-path=\"url(#clip192)\" style=\"fill:#009af9; stroke:none; fill-opacity:0\" cx=\"1708.38\" cy=\"1384.24\" r=\"2\"/>\n",
       "<circle clip-path=\"url(#clip192)\" style=\"fill:#009af9; stroke:none; fill-opacity:0\" cx=\"1740.36\" cy=\"1384.24\" r=\"2\"/>\n",
       "<circle clip-path=\"url(#clip192)\" style=\"fill:#009af9; stroke:none; fill-opacity:0\" cx=\"1772.35\" cy=\"1384.24\" r=\"2\"/>\n",
       "<circle clip-path=\"url(#clip192)\" style=\"fill:#009af9; stroke:none; fill-opacity:0\" cx=\"1804.33\" cy=\"1384.24\" r=\"2\"/>\n",
       "<circle clip-path=\"url(#clip192)\" style=\"fill:#009af9; stroke:none; fill-opacity:0\" cx=\"1836.32\" cy=\"1384.24\" r=\"2\"/>\n",
       "<circle clip-path=\"url(#clip192)\" style=\"fill:#009af9; stroke:none; fill-opacity:0\" cx=\"1868.3\" cy=\"1384.24\" r=\"2\"/>\n",
       "<circle clip-path=\"url(#clip192)\" style=\"fill:#009af9; stroke:none; fill-opacity:0\" cx=\"1900.29\" cy=\"1384.24\" r=\"2\"/>\n",
       "<circle clip-path=\"url(#clip192)\" style=\"fill:#009af9; stroke:none; fill-opacity:0\" cx=\"1932.27\" cy=\"1374.55\" r=\"2\"/>\n",
       "<circle clip-path=\"url(#clip192)\" style=\"fill:#009af9; stroke:none; fill-opacity:0\" cx=\"1964.26\" cy=\"1384.24\" r=\"2\"/>\n",
       "<circle clip-path=\"url(#clip192)\" style=\"fill:#009af9; stroke:none; fill-opacity:0\" cx=\"1996.24\" cy=\"1384.24\" r=\"2\"/>\n",
       "<circle clip-path=\"url(#clip192)\" style=\"fill:#009af9; stroke:none; fill-opacity:0\" cx=\"2028.23\" cy=\"1384.24\" r=\"2\"/>\n",
       "<circle clip-path=\"url(#clip192)\" style=\"fill:#009af9; stroke:none; fill-opacity:0\" cx=\"2060.21\" cy=\"1384.24\" r=\"2\"/>\n",
       "<circle clip-path=\"url(#clip192)\" style=\"fill:#009af9; stroke:none; fill-opacity:0\" cx=\"2092.2\" cy=\"1384.24\" r=\"2\"/>\n",
       "<circle clip-path=\"url(#clip192)\" style=\"fill:#009af9; stroke:none; fill-opacity:0\" cx=\"2124.18\" cy=\"1374.55\" r=\"2\"/>\n",
       "<circle clip-path=\"url(#clip192)\" style=\"fill:#009af9; stroke:none; fill-opacity:0\" cx=\"2156.17\" cy=\"1384.24\" r=\"2\"/>\n",
       "<circle clip-path=\"url(#clip192)\" style=\"fill:#009af9; stroke:none; fill-opacity:0\" cx=\"2188.15\" cy=\"1384.24\" r=\"2\"/>\n",
       "<circle clip-path=\"url(#clip192)\" style=\"fill:#009af9; stroke:none; fill-opacity:0\" cx=\"2220.14\" cy=\"1267.99\" r=\"2\"/>\n",
       "<path clip-path=\"url(#clip190)\" d=\"M1670.02 196.789 L2282.08 196.789 L2282.08 93.1086 L1670.02 93.1086  Z\" fill=\"#ffffff\" fill-rule=\"evenodd\" fill-opacity=\"1\"/>\n",
       "<polyline clip-path=\"url(#clip190)\" style=\"stroke:#000000; stroke-linecap:round; stroke-linejoin:round; stroke-width:4; stroke-opacity:1; fill:none\" points=\"1670.02,196.789 2282.08,196.789 2282.08,93.1086 1670.02,93.1086 1670.02,196.789 \"/>\n",
       "<path clip-path=\"url(#clip190)\" d=\"M1693.58 165.685 L1834.94 165.685 L1834.94 124.213 L1693.58 124.213 L1693.58 165.685  Z\" fill=\"#009af9\" fill-rule=\"evenodd\" fill-opacity=\"1\"/>\n",
       "<polyline clip-path=\"url(#clip190)\" style=\"stroke:#000000; stroke-linecap:round; stroke-linejoin:round; stroke-width:4; stroke-opacity:1; fill:none\" points=\"1693.58,165.685 1834.94,165.685 1834.94,124.213 1693.58,124.213 1693.58,165.685 \"/>\n",
       "<path clip-path=\"url(#clip190)\" d=\"M1858.5 127.669 L1865.46 127.669 L1874.28 151.187 L1883.15 127.669 L1890.12 127.669 L1890.12 162.229 L1885.56 162.229 L1885.56 131.882 L1876.64 155.585 L1871.95 155.585 L1863.03 131.882 L1863.03 162.229 L1858.5 162.229 L1858.5 127.669 Z\" fill=\"#000000\" fill-rule=\"nonzero\" fill-opacity=\"1\" /><path clip-path=\"url(#clip190)\" d=\"M1909.26 139.289 Q1905.83 139.289 1903.84 141.974 Q1901.85 144.636 1901.85 149.289 Q1901.85 153.942 1903.82 156.627 Q1905.81 159.289 1909.26 159.289 Q1912.66 159.289 1914.65 156.604 Q1916.64 153.918 1916.64 149.289 Q1916.64 144.682 1914.65 141.997 Q1912.66 139.289 1909.26 139.289 M1909.26 135.678 Q1914.82 135.678 1917.99 139.289 Q1921.16 142.9 1921.16 149.289 Q1921.16 155.655 1917.99 159.289 Q1914.82 162.9 1909.26 162.9 Q1903.68 162.9 1900.51 159.289 Q1897.36 155.655 1897.36 149.289 Q1897.36 142.9 1900.51 139.289 Q1903.68 135.678 1909.26 135.678 Z\" fill=\"#000000\" fill-rule=\"nonzero\" fill-opacity=\"1\" /><path clip-path=\"url(#clip190)\" d=\"M1945.28 140.238 L1945.28 126.21 L1949.54 126.21 L1949.54 162.229 L1945.28 162.229 L1945.28 158.34 Q1943.94 160.655 1941.88 161.789 Q1939.84 162.9 1936.97 162.9 Q1932.27 162.9 1929.31 159.15 Q1926.37 155.4 1926.37 149.289 Q1926.37 143.178 1929.31 139.428 Q1932.27 135.678 1936.97 135.678 Q1939.84 135.678 1941.88 136.812 Q1943.94 137.923 1945.28 140.238 M1930.76 149.289 Q1930.76 153.988 1932.69 156.673 Q1934.63 159.335 1938.01 159.335 Q1941.39 159.335 1943.33 156.673 Q1945.28 153.988 1945.28 149.289 Q1945.28 144.59 1943.33 141.928 Q1941.39 139.243 1938.01 139.243 Q1934.63 139.243 1932.69 141.928 Q1930.76 144.59 1930.76 149.289 Z\" fill=\"#000000\" fill-rule=\"nonzero\" fill-opacity=\"1\" /><path clip-path=\"url(#clip190)\" d=\"M1980.49 148.201 L1980.49 150.284 L1960.9 150.284 Q1961.18 154.682 1963.54 156.997 Q1965.93 159.289 1970.16 159.289 Q1972.62 159.289 1974.91 158.687 Q1977.22 158.085 1979.49 156.881 L1979.49 160.909 Q1977.2 161.881 1974.79 162.391 Q1972.38 162.9 1969.91 162.9 Q1963.7 162.9 1960.07 159.289 Q1956.46 155.678 1956.46 149.52 Q1956.46 143.155 1959.88 139.428 Q1963.33 135.678 1969.17 135.678 Q1974.4 135.678 1977.43 139.057 Q1980.49 142.414 1980.49 148.201 M1976.23 146.951 Q1976.18 143.456 1974.26 141.372 Q1972.36 139.289 1969.21 139.289 Q1965.65 139.289 1963.5 141.303 Q1961.37 143.317 1961.04 146.974 L1976.23 146.951 Z\" fill=\"#000000\" fill-rule=\"nonzero\" fill-opacity=\"1\" /><path clip-path=\"url(#clip190)\" d=\"M1987.48 126.21 L1991.74 126.21 L1991.74 162.229 L1987.48 162.229 L1987.48 126.21 Z\" fill=\"#000000\" fill-rule=\"nonzero\" fill-opacity=\"1\" /><path clip-path=\"url(#clip190)\" d=\"M2009.75 162.229 L1996.55 127.669 L2001.44 127.669 L2012.38 156.766 L2023.36 127.669 L2028.22 127.669 L2015.05 162.229 L2009.75 162.229 Z\" fill=\"#000000\" fill-rule=\"nonzero\" fill-opacity=\"1\" /><path clip-path=\"url(#clip190)\" d=\"M2051.57 148.201 L2051.57 150.284 L2031.99 150.284 Q2032.27 154.682 2034.63 156.997 Q2037.01 159.289 2041.25 159.289 Q2043.7 159.289 2046 158.687 Q2048.31 158.085 2050.58 156.881 L2050.58 160.909 Q2048.29 161.881 2045.88 162.391 Q2043.47 162.9 2041 162.9 Q2034.79 162.9 2031.16 159.289 Q2027.55 155.678 2027.55 149.52 Q2027.55 143.155 2030.97 139.428 Q2034.42 135.678 2040.25 135.678 Q2045.49 135.678 2048.52 139.057 Q2051.57 142.414 2051.57 148.201 M2047.31 146.951 Q2047.27 143.456 2045.35 141.372 Q2043.45 139.289 2040.3 139.289 Q2036.74 139.289 2034.58 141.303 Q2032.45 143.317 2032.13 146.974 L2047.31 146.951 Z\" fill=\"#000000\" fill-rule=\"nonzero\" fill-opacity=\"1\" /><path clip-path=\"url(#clip190)\" d=\"M2073.59 140.284 Q2072.87 139.868 2072.01 139.682 Q2071.18 139.474 2070.16 139.474 Q2066.55 139.474 2064.61 141.835 Q2062.69 144.173 2062.69 148.571 L2062.69 162.229 L2058.4 162.229 L2058.4 136.303 L2062.69 136.303 L2062.69 140.331 Q2064.03 137.969 2066.18 136.835 Q2068.33 135.678 2071.41 135.678 Q2071.85 135.678 2072.38 135.747 Q2072.92 135.794 2073.56 135.909 L2073.59 140.284 Z\" fill=\"#000000\" fill-rule=\"nonzero\" fill-opacity=\"1\" /><path clip-path=\"url(#clip190)\" d=\"M2078.06 136.303 L2082.31 136.303 L2082.31 162.229 L2078.06 162.229 L2078.06 136.303 M2078.06 126.21 L2082.31 126.21 L2082.31 131.604 L2078.06 131.604 L2078.06 126.21 Z\" fill=\"#000000\" fill-rule=\"nonzero\" fill-opacity=\"1\" /><path clip-path=\"url(#clip190)\" d=\"M2104.35 126.21 L2104.35 129.752 L2100.28 129.752 Q2097.99 129.752 2097.08 130.678 Q2096.2 131.604 2096.2 134.011 L2096.2 136.303 L2103.22 136.303 L2103.22 139.613 L2096.2 139.613 L2096.2 162.229 L2091.92 162.229 L2091.92 139.613 L2087.85 139.613 L2087.85 136.303 L2091.92 136.303 L2091.92 134.497 Q2091.92 130.169 2093.93 128.201 Q2095.95 126.21 2100.32 126.21 L2104.35 126.21 Z\" fill=\"#000000\" fill-rule=\"nonzero\" fill-opacity=\"1\" /><path clip-path=\"url(#clip190)\" d=\"M2107.92 136.303 L2112.18 136.303 L2112.18 162.229 L2107.92 162.229 L2107.92 136.303 M2107.92 126.21 L2112.18 126.21 L2112.18 131.604 L2107.92 131.604 L2107.92 126.21 Z\" fill=\"#000000\" fill-rule=\"nonzero\" fill-opacity=\"1\" /><path clip-path=\"url(#clip190)\" d=\"M2139.74 137.298 L2139.74 141.28 Q2137.94 140.284 2136.11 139.798 Q2134.31 139.289 2132.45 139.289 Q2128.31 139.289 2126.02 141.928 Q2123.73 144.544 2123.73 149.289 Q2123.73 154.034 2126.02 156.673 Q2128.31 159.289 2132.45 159.289 Q2134.31 159.289 2136.11 158.803 Q2137.94 158.293 2139.74 157.298 L2139.74 161.233 Q2137.96 162.067 2136.04 162.483 Q2134.14 162.9 2131.99 162.9 Q2126.13 162.9 2122.68 159.219 Q2119.24 155.539 2119.24 149.289 Q2119.24 142.946 2122.71 139.312 Q2126.2 135.678 2132.27 135.678 Q2134.24 135.678 2136.11 136.095 Q2137.99 136.488 2139.74 137.298 Z\" fill=\"#000000\" fill-rule=\"nonzero\" fill-opacity=\"1\" /><path clip-path=\"url(#clip190)\" d=\"M2158.93 149.196 Q2153.77 149.196 2151.78 150.377 Q2149.79 151.557 2149.79 154.405 Q2149.79 156.673 2151.27 158.016 Q2152.78 159.335 2155.35 159.335 Q2158.89 159.335 2161.02 156.835 Q2163.17 154.312 2163.17 150.145 L2163.17 149.196 L2158.93 149.196 M2167.43 147.437 L2167.43 162.229 L2163.17 162.229 L2163.17 158.293 Q2161.71 160.655 2159.54 161.789 Q2157.36 162.9 2154.21 162.9 Q2150.23 162.9 2147.87 160.678 Q2145.53 158.432 2145.53 154.682 Q2145.53 150.307 2148.45 148.085 Q2151.39 145.863 2157.2 145.863 L2163.17 145.863 L2163.17 145.446 Q2163.17 142.507 2161.23 140.909 Q2159.3 139.289 2155.81 139.289 Q2153.59 139.289 2151.48 139.821 Q2149.37 140.354 2147.43 141.419 L2147.43 137.483 Q2149.77 136.581 2151.97 136.141 Q2154.17 135.678 2156.25 135.678 Q2161.87 135.678 2164.65 138.594 Q2167.43 141.511 2167.43 147.437 Z\" fill=\"#000000\" fill-rule=\"nonzero\" fill-opacity=\"1\" /><path clip-path=\"url(#clip190)\" d=\"M2180.42 128.942 L2180.42 136.303 L2189.19 136.303 L2189.19 139.613 L2180.42 139.613 L2180.42 153.687 Q2180.42 156.858 2181.27 157.761 Q2182.15 158.664 2184.81 158.664 L2189.19 158.664 L2189.19 162.229 L2184.81 162.229 Q2179.88 162.229 2178.01 160.4 Q2176.13 158.548 2176.13 153.687 L2176.13 139.613 L2173.01 139.613 L2173.01 136.303 L2176.13 136.303 L2176.13 128.942 L2180.42 128.942 Z\" fill=\"#000000\" fill-rule=\"nonzero\" fill-opacity=\"1\" /><path clip-path=\"url(#clip190)\" d=\"M2194.79 136.303 L2199.05 136.303 L2199.05 162.229 L2194.79 162.229 L2194.79 136.303 M2194.79 126.21 L2199.05 126.21 L2199.05 131.604 L2194.79 131.604 L2194.79 126.21 Z\" fill=\"#000000\" fill-rule=\"nonzero\" fill-opacity=\"1\" /><path clip-path=\"url(#clip190)\" d=\"M2218.01 139.289 Q2214.58 139.289 2212.59 141.974 Q2210.6 144.636 2210.6 149.289 Q2210.6 153.942 2212.57 156.627 Q2214.56 159.289 2218.01 159.289 Q2221.41 159.289 2223.4 156.604 Q2225.39 153.918 2225.39 149.289 Q2225.39 144.682 2223.4 141.997 Q2221.41 139.289 2218.01 139.289 M2218.01 135.678 Q2223.56 135.678 2226.74 139.289 Q2229.91 142.9 2229.91 149.289 Q2229.91 155.655 2226.74 159.289 Q2223.56 162.9 2218.01 162.9 Q2212.43 162.9 2209.26 159.289 Q2206.11 155.655 2206.11 149.289 Q2206.11 142.9 2209.26 139.289 Q2212.43 135.678 2218.01 135.678 Z\" fill=\"#000000\" fill-rule=\"nonzero\" fill-opacity=\"1\" /><path clip-path=\"url(#clip190)\" d=\"M2258.52 146.581 L2258.52 162.229 L2254.26 162.229 L2254.26 146.719 Q2254.26 143.039 2252.82 141.21 Q2251.39 139.382 2248.52 139.382 Q2245.07 139.382 2243.08 141.581 Q2241.09 143.78 2241.09 147.576 L2241.09 162.229 L2236.8 162.229 L2236.8 136.303 L2241.09 136.303 L2241.09 140.331 Q2242.61 137.993 2244.67 136.835 Q2246.76 135.678 2249.47 135.678 Q2253.93 135.678 2256.23 138.456 Q2258.52 141.21 2258.52 146.581 Z\" fill=\"#000000\" fill-rule=\"nonzero\" fill-opacity=\"1\" /></svg>\n"
      ]
     },
     "metadata": {},
     "output_type": "display_data"
    }
   ],
   "source": [
    "mv_df = DataFrame(CSV.File(\"./result.csv\", header=true))\n",
    "mv_df[mv_df.time .> 116, :time] .= 116\n",
    "t = histogram(mv_df.time, bins=100, label=\"ModelVerification\")\n",
    "xlabel!(\"time (s)\")\n",
    "ylabel!(\"count\")\n",
    "display(t)"
   ]
  },
  {
   "cell_type": "code",
   "execution_count": 21,
   "metadata": {},
   "outputs": [
    {
     "data": {
      "image/png": "[encoded data removed]",
      "image/svg+xml": [
       "<?xml version=\"1.0\" encoding=\"utf-8\"?>\n",
       "<svg xmlns=\"http://www.w3.org/2000/svg\" xmlns:xlink=\"http://www.w3.org/1999/xlink\" width=\"600\" height=\"400\" viewBox=\"0 0 2400 1600\">\n",
       "<defs>\n",
       "  <clipPath id=\"clip050\">\n",
       "    <rect x=\"0\" y=\"0\" width=\"2400\" height=\"1600\"/>\n",
       "  </clipPath>\n",
       "</defs>\n",
       "<path clip-path=\"url(#clip050)\" d=\"M0 1600 L2400 1600 L2400 0 L0 0  Z\" fill=\"#ffffff\" fill-rule=\"evenodd\" fill-opacity=\"1\"/>\n",
       "<defs>\n",
       "  <clipPath id=\"clip051\">\n",
       "    <rect x=\"480\" y=\"0\" width=\"1681\" height=\"1600\"/>\n",
       "  </clipPath>\n",
       "</defs>\n",
       "<path clip-path=\"url(#clip050)\" d=\"M232.389 1423.18 L2352.76 1423.18 L2352.76 47.2441 L232.389 47.2441  Z\" fill=\"#ffffff\" fill-rule=\"evenodd\" fill-opacity=\"1\"/>\n",
       "<defs>\n",
       "  <clipPath id=\"clip052\">\n",
       "    <rect x=\"232\" y=\"47\" width=\"2121\" height=\"1377\"/>\n",
       "  </clipPath>\n",
       "</defs>\n",
       "<polyline clip-path=\"url(#clip052)\" style=\"stroke:#000000; stroke-linecap:round; stroke-linejoin:round; stroke-width:2; stroke-opacity:0.1; fill:none\" points=\"349.013,1423.18 349.013,47.2441 \"/>\n",
       "<polyline clip-path=\"url(#clip052)\" style=\"stroke:#000000; stroke-linecap:round; stroke-linejoin:round; stroke-width:2; stroke-opacity:0.1; fill:none\" points=\"668.864,1423.18 668.864,47.2441 \"/>\n",
       "<polyline clip-path=\"url(#clip052)\" style=\"stroke:#000000; stroke-linecap:round; stroke-linejoin:round; stroke-width:2; stroke-opacity:0.1; fill:none\" points=\"988.715,1423.18 988.715,47.2441 \"/>\n",
       "<polyline clip-path=\"url(#clip052)\" style=\"stroke:#000000; stroke-linecap:round; stroke-linejoin:round; stroke-width:2; stroke-opacity:0.1; fill:none\" points=\"1308.57,1423.18 1308.57,47.2441 \"/>\n",
       "<polyline clip-path=\"url(#clip052)\" style=\"stroke:#000000; stroke-linecap:round; stroke-linejoin:round; stroke-width:2; stroke-opacity:0.1; fill:none\" points=\"1628.42,1423.18 1628.42,47.2441 \"/>\n",
       "<polyline clip-path=\"url(#clip052)\" style=\"stroke:#000000; stroke-linecap:round; stroke-linejoin:round; stroke-width:2; stroke-opacity:0.1; fill:none\" points=\"1948.27,1423.18 1948.27,47.2441 \"/>\n",
       "<polyline clip-path=\"url(#clip052)\" style=\"stroke:#000000; stroke-linecap:round; stroke-linejoin:round; stroke-width:2; stroke-opacity:0.1; fill:none\" points=\"2268.12,1423.18 2268.12,47.2441 \"/>\n",
       "<polyline clip-path=\"url(#clip050)\" style=\"stroke:#000000; stroke-linecap:round; stroke-linejoin:round; stroke-width:4; stroke-opacity:1; fill:none\" points=\"232.389,1423.18 2352.76,1423.18 \"/>\n",
       "<polyline clip-path=\"url(#clip050)\" style=\"stroke:#000000; stroke-linecap:round; stroke-linejoin:round; stroke-width:4; stroke-opacity:1; fill:none\" points=\"349.013,1423.18 349.013,1404.28 \"/>\n",
       "<polyline clip-path=\"url(#clip050)\" style=\"stroke:#000000; stroke-linecap:round; stroke-linejoin:round; stroke-width:4; stroke-opacity:1; fill:none\" points=\"668.864,1423.18 668.864,1404.28 \"/>\n",
       "<polyline clip-path=\"url(#clip050)\" style=\"stroke:#000000; stroke-linecap:round; stroke-linejoin:round; stroke-width:4; stroke-opacity:1; fill:none\" points=\"988.715,1423.18 988.715,1404.28 \"/>\n",
       "<polyline clip-path=\"url(#clip050)\" style=\"stroke:#000000; stroke-linecap:round; stroke-linejoin:round; stroke-width:4; stroke-opacity:1; fill:none\" points=\"1308.57,1423.18 1308.57,1404.28 \"/>\n",
       "<polyline clip-path=\"url(#clip050)\" style=\"stroke:#000000; stroke-linecap:round; stroke-linejoin:round; stroke-width:4; stroke-opacity:1; fill:none\" points=\"1628.42,1423.18 1628.42,1404.28 \"/>\n",
       "<polyline clip-path=\"url(#clip050)\" style=\"stroke:#000000; stroke-linecap:round; stroke-linejoin:round; stroke-width:4; stroke-opacity:1; fill:none\" points=\"1948.27,1423.18 1948.27,1404.28 \"/>\n",
       "<polyline clip-path=\"url(#clip050)\" style=\"stroke:#000000; stroke-linecap:round; stroke-linejoin:round; stroke-width:4; stroke-opacity:1; fill:none\" points=\"2268.12,1423.18 2268.12,1404.28 \"/>\n",
       "<path clip-path=\"url(#clip050)\" d=\"M349.013 1454.1 Q345.402 1454.1 343.573 1457.66 Q341.768 1461.2 341.768 1468.33 Q341.768 1475.44 343.573 1479.01 Q345.402 1482.55 349.013 1482.55 Q352.648 1482.55 354.453 1479.01 Q356.282 1475.44 356.282 1468.33 Q356.282 1461.2 354.453 1457.66 Q352.648 1454.1 349.013 1454.1 M349.013 1450.39 Q354.823 1450.39 357.879 1455 Q360.958 1459.58 360.958 1468.33 Q360.958 1477.06 357.879 1481.67 Q354.823 1486.25 349.013 1486.25 Q343.203 1486.25 340.124 1481.67 Q337.069 1477.06 337.069 1468.33 Q337.069 1459.58 340.124 1455 Q343.203 1450.39 349.013 1450.39 Z\" fill=\"#000000\" fill-rule=\"nonzero\" fill-opacity=\"1\" /><path clip-path=\"url(#clip050)\" d=\"M647.637 1481.64 L663.957 1481.64 L663.957 1485.58 L642.012 1485.58 L642.012 1481.64 Q644.674 1478.89 649.258 1474.26 Q653.864 1469.61 655.045 1468.27 Q657.29 1465.74 658.17 1464.01 Q659.072 1462.25 659.072 1460.56 Q659.072 1457.8 657.128 1456.07 Q655.207 1454.33 652.105 1454.33 Q649.906 1454.33 647.452 1455.09 Q645.021 1455.86 642.244 1457.41 L642.244 1452.69 Q645.068 1451.55 647.521 1450.97 Q649.975 1450.39 652.012 1450.39 Q657.382 1450.39 660.577 1453.08 Q663.771 1455.77 663.771 1460.26 Q663.771 1462.39 662.961 1464.31 Q662.174 1466.2 660.068 1468.8 Q659.489 1469.47 656.387 1472.69 Q653.285 1475.88 647.637 1481.64 Z\" fill=\"#000000\" fill-rule=\"nonzero\" fill-opacity=\"1\" /><path clip-path=\"url(#clip050)\" d=\"M683.771 1454.1 Q680.16 1454.1 678.331 1457.66 Q676.526 1461.2 676.526 1468.33 Q676.526 1475.44 678.331 1479.01 Q680.16 1482.55 683.771 1482.55 Q687.405 1482.55 689.211 1479.01 Q691.04 1475.44 691.04 1468.33 Q691.04 1461.2 689.211 1457.66 Q687.405 1454.1 683.771 1454.1 M683.771 1450.39 Q689.581 1450.39 692.637 1455 Q695.716 1459.58 695.716 1468.33 Q695.716 1477.06 692.637 1481.67 Q689.581 1486.25 683.771 1486.25 Q677.961 1486.25 674.882 1481.67 Q671.827 1477.06 671.827 1468.33 Q671.827 1459.58 674.882 1455 Q677.961 1450.39 683.771 1450.39 Z\" fill=\"#000000\" fill-rule=\"nonzero\" fill-opacity=\"1\" /><path clip-path=\"url(#clip050)\" d=\"M976.886 1455.09 L965.08 1473.54 L976.886 1473.54 L976.886 1455.09 M975.659 1451.02 L981.539 1451.02 L981.539 1473.54 L986.469 1473.54 L986.469 1477.43 L981.539 1477.43 L981.539 1485.58 L976.886 1485.58 L976.886 1477.43 L961.284 1477.43 L961.284 1472.92 L975.659 1451.02 Z\" fill=\"#000000\" fill-rule=\"nonzero\" fill-opacity=\"1\" /><path clip-path=\"url(#clip050)\" d=\"M1004.2 1454.1 Q1000.59 1454.1 998.761 1457.66 Q996.955 1461.2 996.955 1468.33 Q996.955 1475.44 998.761 1479.01 Q1000.59 1482.55 1004.2 1482.55 Q1007.83 1482.55 1009.64 1479.01 Q1011.47 1475.44 1011.47 1468.33 Q1011.47 1461.2 1009.64 1457.66 Q1007.83 1454.1 1004.2 1454.1 M1004.2 1450.39 Q1010.01 1450.39 1013.07 1455 Q1016.14 1459.58 1016.14 1468.33 Q1016.14 1477.06 1013.07 1481.67 Q1010.01 1486.25 1004.2 1486.25 Q998.39 1486.25 995.312 1481.67 Q992.256 1477.06 992.256 1468.33 Q992.256 1459.58 995.312 1455 Q998.39 1450.39 1004.2 1450.39 Z\" fill=\"#000000\" fill-rule=\"nonzero\" fill-opacity=\"1\" /><path clip-path=\"url(#clip050)\" d=\"M1293.97 1466.44 Q1290.82 1466.44 1288.97 1468.59 Q1287.14 1470.74 1287.14 1474.49 Q1287.14 1478.22 1288.97 1480.39 Q1290.82 1482.55 1293.97 1482.55 Q1297.12 1482.55 1298.95 1480.39 Q1300.8 1478.22 1300.8 1474.49 Q1300.8 1470.74 1298.95 1468.59 Q1297.12 1466.44 1293.97 1466.44 M1303.25 1451.78 L1303.25 1456.04 Q1301.49 1455.21 1299.69 1454.77 Q1297.91 1454.33 1296.15 1454.33 Q1291.52 1454.33 1289.06 1457.45 Q1286.63 1460.58 1286.29 1466.9 Q1287.65 1464.89 1289.71 1463.82 Q1291.77 1462.73 1294.25 1462.73 Q1299.46 1462.73 1302.47 1465.9 Q1305.5 1469.05 1305.5 1474.49 Q1305.5 1479.82 1302.35 1483.03 Q1299.2 1486.25 1293.97 1486.25 Q1287.97 1486.25 1284.8 1481.67 Q1281.63 1477.06 1281.63 1468.33 Q1281.63 1460.14 1285.52 1455.28 Q1289.41 1450.39 1295.96 1450.39 Q1297.72 1450.39 1299.5 1450.74 Q1301.31 1451.09 1303.25 1451.78 Z\" fill=\"#000000\" fill-rule=\"nonzero\" fill-opacity=\"1\" /><path clip-path=\"url(#clip050)\" d=\"M1323.55 1454.1 Q1319.94 1454.1 1318.11 1457.66 Q1316.31 1461.2 1316.31 1468.33 Q1316.31 1475.44 1318.11 1479.01 Q1319.94 1482.55 1323.55 1482.55 Q1327.19 1482.55 1328.99 1479.01 Q1330.82 1475.44 1330.82 1468.33 Q1330.82 1461.2 1328.99 1457.66 Q1327.19 1454.1 1323.55 1454.1 M1323.55 1450.39 Q1329.36 1450.39 1332.42 1455 Q1335.5 1459.58 1335.5 1468.33 Q1335.5 1477.06 1332.42 1481.67 Q1329.36 1486.25 1323.55 1486.25 Q1317.74 1486.25 1314.66 1481.67 Q1311.61 1477.06 1311.61 1468.33 Q1311.61 1459.58 1314.66 1455 Q1317.74 1450.39 1323.55 1450.39 Z\" fill=\"#000000\" fill-rule=\"nonzero\" fill-opacity=\"1\" /><path clip-path=\"url(#clip050)\" d=\"M1613.29 1469.17 Q1609.96 1469.17 1608.03 1470.95 Q1606.14 1472.73 1606.14 1475.86 Q1606.14 1478.98 1608.03 1480.77 Q1609.96 1482.55 1613.29 1482.55 Q1616.62 1482.55 1618.54 1480.77 Q1620.46 1478.96 1620.46 1475.86 Q1620.46 1472.73 1618.54 1470.95 Q1616.65 1469.17 1613.29 1469.17 M1608.61 1467.18 Q1605.6 1466.44 1603.91 1464.38 Q1602.25 1462.32 1602.25 1459.35 Q1602.25 1455.21 1605.19 1452.8 Q1608.15 1450.39 1613.29 1450.39 Q1618.45 1450.39 1621.39 1452.8 Q1624.33 1455.21 1624.33 1459.35 Q1624.33 1462.32 1622.64 1464.38 Q1620.97 1466.44 1617.99 1467.18 Q1621.37 1467.96 1623.24 1470.26 Q1625.14 1472.55 1625.14 1475.86 Q1625.14 1480.88 1622.06 1483.57 Q1619.01 1486.25 1613.29 1486.25 Q1607.57 1486.25 1604.49 1483.57 Q1601.44 1480.88 1601.44 1475.86 Q1601.44 1472.55 1603.33 1470.26 Q1605.23 1467.96 1608.61 1467.18 M1606.9 1459.79 Q1606.9 1462.48 1608.57 1463.98 Q1610.26 1465.49 1613.29 1465.49 Q1616.3 1465.49 1617.99 1463.98 Q1619.7 1462.48 1619.7 1459.79 Q1619.7 1457.11 1617.99 1455.6 Q1616.3 1454.1 1613.29 1454.1 Q1610.26 1454.1 1608.57 1455.6 Q1606.9 1457.11 1606.9 1459.79 Z\" fill=\"#000000\" fill-rule=\"nonzero\" fill-opacity=\"1\" /><path clip-path=\"url(#clip050)\" d=\"M1643.45 1454.1 Q1639.84 1454.1 1638.01 1457.66 Q1636.21 1461.2 1636.21 1468.33 Q1636.21 1475.44 1638.01 1479.01 Q1639.84 1482.55 1643.45 1482.55 Q1647.08 1482.55 1648.89 1479.01 Q1650.72 1475.44 1650.72 1468.33 Q1650.72 1461.2 1648.89 1457.66 Q1647.08 1454.1 1643.45 1454.1 M1643.45 1450.39 Q1649.26 1450.39 1652.32 1455 Q1655.39 1459.58 1655.39 1468.33 Q1655.39 1477.06 1652.32 1481.67 Q1649.26 1486.25 1643.45 1486.25 Q1637.64 1486.25 1634.56 1481.67 Q1631.51 1477.06 1631.51 1468.33 Q1631.51 1459.58 1634.56 1455 Q1637.64 1450.39 1643.45 1450.39 Z\" fill=\"#000000\" fill-rule=\"nonzero\" fill-opacity=\"1\" /><path clip-path=\"url(#clip050)\" d=\"M1907.87 1481.64 L1915.51 1481.64 L1915.51 1455.28 L1907.2 1456.95 L1907.2 1452.69 L1915.47 1451.02 L1920.14 1451.02 L1920.14 1481.64 L1927.78 1481.64 L1927.78 1485.58 L1907.87 1485.58 L1907.87 1481.64 Z\" fill=\"#000000\" fill-rule=\"nonzero\" fill-opacity=\"1\" /><path clip-path=\"url(#clip050)\" d=\"M1947.22 1454.1 Q1943.61 1454.1 1941.78 1457.66 Q1939.98 1461.2 1939.98 1468.33 Q1939.98 1475.44 1941.78 1479.01 Q1943.61 1482.55 1947.22 1482.55 Q1950.86 1482.55 1952.66 1479.01 Q1954.49 1475.44 1954.49 1468.33 Q1954.49 1461.2 1952.66 1457.66 Q1950.86 1454.1 1947.22 1454.1 M1947.22 1450.39 Q1953.03 1450.39 1956.09 1455 Q1959.17 1459.58 1959.17 1468.33 Q1959.17 1477.06 1956.09 1481.67 Q1953.03 1486.25 1947.22 1486.25 Q1941.41 1486.25 1938.34 1481.67 Q1935.28 1477.06 1935.28 1468.33 Q1935.28 1459.58 1938.34 1455 Q1941.41 1450.39 1947.22 1450.39 Z\" fill=\"#000000\" fill-rule=\"nonzero\" fill-opacity=\"1\" /><path clip-path=\"url(#clip050)\" d=\"M1977.39 1454.1 Q1973.78 1454.1 1971.95 1457.66 Q1970.14 1461.2 1970.14 1468.33 Q1970.14 1475.44 1971.95 1479.01 Q1973.78 1482.55 1977.39 1482.55 Q1981.02 1482.55 1982.83 1479.01 Q1984.66 1475.44 1984.66 1468.33 Q1984.66 1461.2 1982.83 1457.66 Q1981.02 1454.1 1977.39 1454.1 M1977.39 1450.39 Q1983.2 1450.39 1986.25 1455 Q1989.33 1459.58 1989.33 1468.33 Q1989.33 1477.06 1986.25 1481.67 Q1983.2 1486.25 1977.39 1486.25 Q1971.58 1486.25 1968.5 1481.67 Q1965.44 1477.06 1965.44 1468.33 Q1965.44 1459.58 1968.5 1455 Q1971.58 1450.39 1977.39 1450.39 Z\" fill=\"#000000\" fill-rule=\"nonzero\" fill-opacity=\"1\" /><path clip-path=\"url(#clip050)\" d=\"M2227.72 1481.64 L2235.36 1481.64 L2235.36 1455.28 L2227.05 1456.95 L2227.05 1452.69 L2235.32 1451.02 L2239.99 1451.02 L2239.99 1481.64 L2247.63 1481.64 L2247.63 1485.58 L2227.72 1485.58 L2227.72 1481.64 Z\" fill=\"#000000\" fill-rule=\"nonzero\" fill-opacity=\"1\" /><path clip-path=\"url(#clip050)\" d=\"M2261.1 1481.64 L2277.42 1481.64 L2277.42 1485.58 L2255.48 1485.58 L2255.48 1481.64 Q2258.14 1478.89 2262.72 1474.26 Q2267.33 1469.61 2268.51 1468.27 Q2270.76 1465.74 2271.64 1464.01 Q2272.54 1462.25 2272.54 1460.56 Q2272.54 1457.8 2270.59 1456.07 Q2268.67 1454.33 2265.57 1454.33 Q2263.37 1454.33 2260.92 1455.09 Q2258.49 1455.86 2255.71 1457.41 L2255.71 1452.69 Q2258.53 1451.55 2260.99 1450.97 Q2263.44 1450.39 2265.48 1450.39 Q2270.85 1450.39 2274.04 1453.08 Q2277.24 1455.77 2277.24 1460.26 Q2277.24 1462.39 2276.43 1464.31 Q2275.64 1466.2 2273.53 1468.8 Q2272.95 1469.47 2269.85 1472.69 Q2266.75 1475.88 2261.1 1481.64 Z\" fill=\"#000000\" fill-rule=\"nonzero\" fill-opacity=\"1\" /><path clip-path=\"url(#clip050)\" d=\"M2297.24 1454.1 Q2293.63 1454.1 2291.8 1457.66 Q2289.99 1461.2 2289.99 1468.33 Q2289.99 1475.44 2291.8 1479.01 Q2293.63 1482.55 2297.24 1482.55 Q2300.87 1482.55 2302.68 1479.01 Q2304.51 1475.44 2304.51 1468.33 Q2304.51 1461.2 2302.68 1457.66 Q2300.87 1454.1 2297.24 1454.1 M2297.24 1450.39 Q2303.05 1450.39 2306.1 1455 Q2309.18 1459.58 2309.18 1468.33 Q2309.18 1477.06 2306.1 1481.67 Q2303.05 1486.25 2297.24 1486.25 Q2291.43 1486.25 2288.35 1481.67 Q2285.29 1477.06 2285.29 1468.33 Q2285.29 1459.58 2288.35 1455 Q2291.43 1450.39 2297.24 1450.39 Z\" fill=\"#000000\" fill-rule=\"nonzero\" fill-opacity=\"1\" /><path clip-path=\"url(#clip050)\" d=\"M1180.03 1522.27 L1180.03 1532.4 L1192.09 1532.4 L1192.09 1536.95 L1180.03 1536.95 L1180.03 1556.3 Q1180.03 1560.66 1181.2 1561.9 Q1182.41 1563.14 1186.07 1563.14 L1192.09 1563.14 L1192.09 1568.04 L1186.07 1568.04 Q1179.29 1568.04 1176.72 1565.53 Q1174.14 1562.98 1174.14 1556.3 L1174.14 1536.95 L1169.84 1536.95 L1169.84 1532.4 L1174.14 1532.4 L1174.14 1522.27 L1180.03 1522.27 Z\" fill=\"#000000\" fill-rule=\"nonzero\" fill-opacity=\"1\" /><path clip-path=\"url(#clip050)\" d=\"M1199.79 1532.4 L1205.65 1532.4 L1205.65 1568.04 L1199.79 1568.04 L1199.79 1532.4 M1199.79 1518.52 L1205.65 1518.52 L1205.65 1525.93 L1199.79 1525.93 L1199.79 1518.52 Z\" fill=\"#000000\" fill-rule=\"nonzero\" fill-opacity=\"1\" /><path clip-path=\"url(#clip050)\" d=\"M1245.66 1539.24 Q1247.85 1535.29 1250.91 1533.41 Q1253.96 1531.54 1258.1 1531.54 Q1263.67 1531.54 1266.7 1535.45 Q1269.72 1539.33 1269.72 1546.53 L1269.72 1568.04 L1263.83 1568.04 L1263.83 1546.72 Q1263.83 1541.59 1262.02 1539.11 Q1260.2 1536.63 1256.48 1536.63 Q1251.93 1536.63 1249.29 1539.65 Q1246.64 1542.68 1246.64 1547.9 L1246.64 1568.04 L1240.76 1568.04 L1240.76 1546.72 Q1240.76 1541.56 1238.94 1539.11 Q1237.13 1536.63 1233.34 1536.63 Q1228.85 1536.63 1226.21 1539.68 Q1223.57 1542.71 1223.57 1547.9 L1223.57 1568.04 L1217.68 1568.04 L1217.68 1532.4 L1223.57 1532.4 L1223.57 1537.93 Q1225.57 1534.66 1228.37 1533.1 Q1231.18 1531.54 1235.03 1531.54 Q1238.91 1531.54 1241.62 1533.51 Q1244.35 1535.48 1245.66 1539.24 Z\" fill=\"#000000\" fill-rule=\"nonzero\" fill-opacity=\"1\" /><path clip-path=\"url(#clip050)\" d=\"M1311.89 1548.76 L1311.89 1551.62 L1284.97 1551.62 Q1285.35 1557.67 1288.59 1560.85 Q1291.87 1564 1297.7 1564 Q1301.07 1564 1304.22 1563.17 Q1307.4 1562.35 1310.52 1560.69 L1310.52 1566.23 Q1307.37 1567.57 1304.06 1568.27 Q1300.75 1568.97 1297.35 1568.97 Q1288.82 1568.97 1283.82 1564 Q1278.85 1559.04 1278.85 1550.57 Q1278.85 1541.82 1283.57 1536.69 Q1288.31 1531.54 1296.33 1531.54 Q1303.52 1531.54 1307.69 1536.18 Q1311.89 1540.8 1311.89 1548.76 M1306.04 1547.04 Q1305.97 1542.23 1303.33 1539.37 Q1300.72 1536.5 1296.39 1536.5 Q1291.49 1536.5 1288.53 1539.27 Q1285.6 1542.04 1285.16 1547.07 L1306.04 1547.04 Z\" fill=\"#000000\" fill-rule=\"nonzero\" fill-opacity=\"1\" /><path clip-path=\"url(#clip050)\" d=\"M1356.29 1518.58 Q1352.03 1525.9 1349.96 1533.06 Q1347.89 1540.23 1347.89 1547.58 Q1347.89 1554.93 1349.96 1562.16 Q1352.06 1569.35 1356.29 1576.64 L1351.2 1576.64 Q1346.43 1569.16 1344.04 1561.93 Q1341.68 1554.71 1341.68 1547.58 Q1341.68 1540.48 1344.04 1533.29 Q1346.39 1526.09 1351.2 1518.58 L1356.29 1518.58 Z\" fill=\"#000000\" fill-rule=\"nonzero\" fill-opacity=\"1\" /><path clip-path=\"url(#clip050)\" d=\"M1390.38 1533.45 L1390.38 1538.98 Q1387.9 1537.71 1385.23 1537.07 Q1382.55 1536.44 1379.69 1536.44 Q1375.33 1536.44 1373.13 1537.77 Q1370.97 1539.11 1370.97 1541.79 Q1370.97 1543.82 1372.53 1545 Q1374.09 1546.15 1378.8 1547.2 L1380.8 1547.64 Q1387.04 1548.98 1389.65 1551.43 Q1392.29 1553.85 1392.29 1558.21 Q1392.29 1563.17 1388.34 1566.07 Q1384.43 1568.97 1377.55 1568.97 Q1374.69 1568.97 1371.57 1568.39 Q1368.48 1567.85 1365.05 1566.74 L1365.05 1560.69 Q1368.29 1562.38 1371.44 1563.24 Q1374.59 1564.07 1377.68 1564.07 Q1381.82 1564.07 1384.05 1562.66 Q1386.28 1561.23 1386.28 1558.65 Q1386.28 1556.27 1384.65 1554.99 Q1383.06 1553.72 1377.62 1552.54 L1375.58 1552.07 Q1370.14 1550.92 1367.72 1548.56 Q1365.3 1546.18 1365.3 1542.04 Q1365.3 1537.01 1368.87 1534.27 Q1372.43 1531.54 1378.99 1531.54 Q1382.23 1531.54 1385.1 1532.01 Q1387.96 1532.49 1390.38 1533.45 Z\" fill=\"#000000\" fill-rule=\"nonzero\" fill-opacity=\"1\" /><path clip-path=\"url(#clip050)\" d=\"M1400.69 1518.58 L1405.79 1518.58 Q1410.56 1526.09 1412.92 1533.29 Q1415.3 1540.48 1415.3 1547.58 Q1415.3 1554.71 1412.92 1561.93 Q1410.56 1569.16 1405.79 1576.64 L1400.69 1576.64 Q1404.93 1569.35 1407 1562.16 Q1409.1 1554.93 1409.1 1547.58 Q1409.1 1540.23 1407 1533.06 Q1404.93 1525.9 1400.69 1518.58 Z\" fill=\"#000000\" fill-rule=\"nonzero\" fill-opacity=\"1\" /><polyline clip-path=\"url(#clip052)\" style=\"stroke:#000000; stroke-linecap:round; stroke-linejoin:round; stroke-width:2; stroke-opacity:0.1; fill:none\" points=\"232.389,1384.24 2352.76,1384.24 \"/>\n",
       "<polyline clip-path=\"url(#clip052)\" style=\"stroke:#000000; stroke-linecap:round; stroke-linejoin:round; stroke-width:2; stroke-opacity:0.1; fill:none\" points=\"232.389,1000.2 2352.76,1000.2 \"/>\n",
       "<polyline clip-path=\"url(#clip052)\" style=\"stroke:#000000; stroke-linecap:round; stroke-linejoin:round; stroke-width:2; stroke-opacity:0.1; fill:none\" points=\"232.389,616.16 2352.76,616.16 \"/>\n",
       "<polyline clip-path=\"url(#clip052)\" style=\"stroke:#000000; stroke-linecap:round; stroke-linejoin:round; stroke-width:2; stroke-opacity:0.1; fill:none\" points=\"232.389,232.121 2352.76,232.121 \"/>\n",
       "<polyline clip-path=\"url(#clip050)\" style=\"stroke:#000000; stroke-linecap:round; stroke-linejoin:round; stroke-width:4; stroke-opacity:1; fill:none\" points=\"232.389,1423.18 232.389,47.2441 \"/>\n",
       "<polyline clip-path=\"url(#clip050)\" style=\"stroke:#000000; stroke-linecap:round; stroke-linejoin:round; stroke-width:4; stroke-opacity:1; fill:none\" points=\"232.389,1384.24 251.287,1384.24 \"/>\n",
       "<polyline clip-path=\"url(#clip050)\" style=\"stroke:#000000; stroke-linecap:round; stroke-linejoin:round; stroke-width:4; stroke-opacity:1; fill:none\" points=\"232.389,1000.2 251.287,1000.2 \"/>\n",
       "<polyline clip-path=\"url(#clip050)\" style=\"stroke:#000000; stroke-linecap:round; stroke-linejoin:round; stroke-width:4; stroke-opacity:1; fill:none\" points=\"232.389,616.16 251.287,616.16 \"/>\n",
       "<polyline clip-path=\"url(#clip050)\" style=\"stroke:#000000; stroke-linecap:round; stroke-linejoin:round; stroke-width:4; stroke-opacity:1; fill:none\" points=\"232.389,232.121 251.287,232.121 \"/>\n",
       "<path clip-path=\"url(#clip050)\" d=\"M184.445 1370.04 Q180.834 1370.04 179.005 1373.6 Q177.2 1377.14 177.2 1384.27 Q177.2 1391.38 179.005 1394.94 Q180.834 1398.49 184.445 1398.49 Q188.079 1398.49 189.885 1394.94 Q191.713 1391.38 191.713 1384.27 Q191.713 1377.14 189.885 1373.6 Q188.079 1370.04 184.445 1370.04 M184.445 1366.33 Q190.255 1366.33 193.311 1370.94 Q196.389 1375.52 196.389 1384.27 Q196.389 1393 193.311 1397.61 Q190.255 1402.19 184.445 1402.19 Q178.635 1402.19 175.556 1397.61 Q172.501 1393 172.501 1384.27 Q172.501 1375.52 175.556 1370.94 Q178.635 1366.33 184.445 1366.33 Z\" fill=\"#000000\" fill-rule=\"nonzero\" fill-opacity=\"1\" /><path clip-path=\"url(#clip050)\" d=\"M144.329 982.919 L162.686 982.919 L162.686 986.854 L148.612 986.854 L148.612 995.326 Q149.63 994.979 150.649 994.817 Q151.667 994.632 152.686 994.632 Q158.473 994.632 161.852 997.803 Q165.232 1000.97 165.232 1006.39 Q165.232 1011.97 161.76 1015.07 Q158.288 1018.15 151.968 1018.15 Q149.792 1018.15 147.524 1017.78 Q145.279 1017.41 142.871 1016.67 L142.871 1011.97 Q144.954 1013.1 147.177 1013.66 Q149.399 1014.22 151.876 1014.22 Q155.88 1014.22 158.218 1012.11 Q160.556 1010 160.556 1006.39 Q160.556 1002.78 158.218 1000.67 Q155.88 998.567 151.876 998.567 Q150.001 998.567 148.126 998.984 Q146.274 999.4 144.329 1000.28 L144.329 982.919 Z\" fill=\"#000000\" fill-rule=\"nonzero\" fill-opacity=\"1\" /><path clip-path=\"url(#clip050)\" d=\"M184.445 985.998 Q180.834 985.998 179.005 989.563 Q177.2 993.104 177.2 1000.23 Q177.2 1007.34 179.005 1010.9 Q180.834 1014.45 184.445 1014.45 Q188.079 1014.45 189.885 1010.9 Q191.713 1007.34 191.713 1000.23 Q191.713 993.104 189.885 989.563 Q188.079 985.998 184.445 985.998 M184.445 982.294 Q190.255 982.294 193.311 986.9 Q196.389 991.484 196.389 1000.23 Q196.389 1008.96 193.311 1013.57 Q190.255 1018.15 184.445 1018.15 Q178.635 1018.15 175.556 1013.57 Q172.501 1008.96 172.501 1000.23 Q172.501 991.484 175.556 986.9 Q178.635 982.294 184.445 982.294 Z\" fill=\"#000000\" fill-rule=\"nonzero\" fill-opacity=\"1\" /><path clip-path=\"url(#clip050)\" d=\"M114.931 629.505 L122.57 629.505 L122.57 603.139 L114.26 604.806 L114.26 600.546 L122.524 598.88 L127.2 598.88 L127.2 629.505 L134.839 629.505 L134.839 633.44 L114.931 633.44 L114.931 629.505 Z\" fill=\"#000000\" fill-rule=\"nonzero\" fill-opacity=\"1\" /><path clip-path=\"url(#clip050)\" d=\"M154.283 601.958 Q150.672 601.958 148.843 605.523 Q147.038 609.065 147.038 616.195 Q147.038 623.301 148.843 626.866 Q150.672 630.407 154.283 630.407 Q157.917 630.407 159.723 626.866 Q161.552 623.301 161.552 616.195 Q161.552 609.065 159.723 605.523 Q157.917 601.958 154.283 601.958 M154.283 598.255 Q160.093 598.255 163.149 602.861 Q166.227 607.445 166.227 616.195 Q166.227 624.921 163.149 629.528 Q160.093 634.111 154.283 634.111 Q148.473 634.111 145.394 629.528 Q142.339 624.921 142.339 616.195 Q142.339 607.445 145.394 602.861 Q148.473 598.255 154.283 598.255 Z\" fill=\"#000000\" fill-rule=\"nonzero\" fill-opacity=\"1\" /><path clip-path=\"url(#clip050)\" d=\"M184.445 601.958 Q180.834 601.958 179.005 605.523 Q177.2 609.065 177.2 616.195 Q177.2 623.301 179.005 626.866 Q180.834 630.407 184.445 630.407 Q188.079 630.407 189.885 626.866 Q191.713 623.301 191.713 616.195 Q191.713 609.065 189.885 605.523 Q188.079 601.958 184.445 601.958 M184.445 598.255 Q190.255 598.255 193.311 602.861 Q196.389 607.445 196.389 616.195 Q196.389 624.921 193.311 629.528 Q190.255 634.111 184.445 634.111 Q178.635 634.111 175.556 629.528 Q172.501 624.921 172.501 616.195 Q172.501 607.445 175.556 602.861 Q178.635 598.255 184.445 598.255 Z\" fill=\"#000000\" fill-rule=\"nonzero\" fill-opacity=\"1\" /><path clip-path=\"url(#clip050)\" d=\"M114.931 245.465 L122.57 245.465 L122.57 219.1 L114.26 220.766 L114.26 216.507 L122.524 214.841 L127.2 214.841 L127.2 245.465 L134.839 245.465 L134.839 249.401 L114.931 249.401 L114.931 245.465 Z\" fill=\"#000000\" fill-rule=\"nonzero\" fill-opacity=\"1\" /><path clip-path=\"url(#clip050)\" d=\"M144.329 214.841 L162.686 214.841 L162.686 218.776 L148.612 218.776 L148.612 227.248 Q149.63 226.901 150.649 226.739 Q151.667 226.553 152.686 226.553 Q158.473 226.553 161.852 229.725 Q165.232 232.896 165.232 238.313 Q165.232 243.891 161.76 246.993 Q158.288 250.072 151.968 250.072 Q149.792 250.072 147.524 249.702 Q145.279 249.331 142.871 248.59 L142.871 243.891 Q144.954 245.026 147.177 245.581 Q149.399 246.137 151.876 246.137 Q155.88 246.137 158.218 244.03 Q160.556 241.924 160.556 238.313 Q160.556 234.702 158.218 232.595 Q155.88 230.489 151.876 230.489 Q150.001 230.489 148.126 230.905 Q146.274 231.322 144.329 232.202 L144.329 214.841 Z\" fill=\"#000000\" fill-rule=\"nonzero\" fill-opacity=\"1\" /><path clip-path=\"url(#clip050)\" d=\"M184.445 217.919 Q180.834 217.919 179.005 221.484 Q177.2 225.026 177.2 232.155 Q177.2 239.262 179.005 242.827 Q180.834 246.368 184.445 246.368 Q188.079 246.368 189.885 242.827 Q191.713 239.262 191.713 232.155 Q191.713 225.026 189.885 221.484 Q188.079 217.919 184.445 217.919 M184.445 214.216 Q190.255 214.216 193.311 218.822 Q196.389 223.405 196.389 232.155 Q196.389 240.882 193.311 245.489 Q190.255 250.072 184.445 250.072 Q178.635 250.072 175.556 245.489 Q172.501 240.882 172.501 232.155 Q172.501 223.405 175.556 218.822 Q178.635 214.216 184.445 214.216 Z\" fill=\"#000000\" fill-rule=\"nonzero\" fill-opacity=\"1\" /><path clip-path=\"url(#clip050)\" d=\"M29.7248 796.386 L35.1993 796.386 Q33.8307 798.869 33.1623 801.383 Q32.4621 803.866 32.4621 806.412 Q32.4621 812.11 36.0905 815.261 Q39.6872 818.412 46.212 818.412 Q52.7369 818.412 56.3653 815.261 Q59.9619 812.11 59.9619 806.412 Q59.9619 803.866 59.2935 801.383 Q58.5933 798.869 57.2247 796.386 L62.6355 796.386 Q63.7814 798.837 64.3543 801.479 Q64.9272 804.089 64.9272 807.049 Q64.9272 815.102 59.8664 819.844 Q54.8057 824.586 46.212 824.586 Q37.491 824.586 32.4939 819.812 Q27.4968 815.006 27.4968 806.667 Q27.4968 803.962 28.0697 801.383 Q28.6108 798.805 29.7248 796.386 Z\" fill=\"#000000\" fill-rule=\"nonzero\" fill-opacity=\"1\" /><path clip-path=\"url(#clip050)\" d=\"M32.4621 772.388 Q32.4621 777.098 36.1542 779.836 Q39.8145 782.573 46.212 782.573 Q52.6095 782.573 56.3017 779.867 Q59.9619 777.13 59.9619 772.388 Q59.9619 767.709 56.2698 764.972 Q52.5777 762.234 46.212 762.234 Q39.8781 762.234 36.186 764.972 Q32.4621 767.709 32.4621 772.388 M27.4968 772.388 Q27.4968 764.749 32.4621 760.388 Q37.4273 756.028 46.212 756.028 Q54.9649 756.028 59.9619 760.388 Q64.9272 764.749 64.9272 772.388 Q64.9272 780.058 59.9619 784.419 Q54.9649 788.748 46.212 788.748 Q37.4273 788.748 32.4621 784.419 Q27.4968 780.058 27.4968 772.388 Z\" fill=\"#000000\" fill-rule=\"nonzero\" fill-opacity=\"1\" /><path clip-path=\"url(#clip050)\" d=\"M49.9359 746.925 L28.3562 746.925 L28.3562 741.068 L49.7131 741.068 Q54.7739 741.068 57.3202 739.095 Q59.8346 737.122 59.8346 733.175 Q59.8346 728.432 56.8109 725.695 Q53.7872 722.926 48.5673 722.926 L28.3562 722.926 L28.3562 717.07 L64.0042 717.07 L64.0042 722.926 L58.5296 722.926 Q61.7762 725.059 63.3676 727.891 Q64.9272 730.692 64.9272 734.416 Q64.9272 740.559 61.1078 743.742 Q57.2883 746.925 49.9359 746.925 M27.4968 732.188 L27.4968 732.188 Z\" fill=\"#000000\" fill-rule=\"nonzero\" fill-opacity=\"1\" /><path clip-path=\"url(#clip050)\" d=\"M42.4881 675.374 L64.0042 675.374 L64.0042 681.231 L42.679 681.231 Q37.6183 681.231 35.1038 683.204 Q32.5894 685.178 32.5894 689.124 Q32.5894 693.867 35.6131 696.604 Q38.6368 699.341 43.8567 699.341 L64.0042 699.341 L64.0042 705.229 L28.3562 705.229 L28.3562 699.341 L33.8944 699.341 Q30.6797 697.241 29.0883 694.408 Q27.4968 691.543 27.4968 687.819 Q27.4968 681.676 31.3163 678.525 Q35.1038 675.374 42.4881 675.374 Z\" fill=\"#000000\" fill-rule=\"nonzero\" fill-opacity=\"1\" /><path clip-path=\"url(#clip050)\" d=\"M18.2347 657.9 L28.3562 657.9 L28.3562 645.837 L32.9077 645.837 L32.9077 657.9 L52.2594 657.9 Q56.6199 657.9 57.8613 656.723 Q59.1026 655.513 59.1026 651.853 L59.1026 645.837 L64.0042 645.837 L64.0042 651.853 Q64.0042 658.633 61.4897 661.211 Q58.9434 663.789 52.2594 663.789 L32.9077 663.789 L32.9077 668.086 L28.3562 668.086 L28.3562 663.789 L18.2347 663.789 L18.2347 657.9 Z\" fill=\"#000000\" fill-rule=\"nonzero\" fill-opacity=\"1\" /><path clip-path=\"url(#clip052)\" d=\"M349.013 86.1857 L349.013 1384.24 L380.998 1384.24 L380.998 86.1857 L349.013 86.1857 L349.013 86.1857  Z\" fill=\"#009af9\" fill-rule=\"evenodd\" fill-opacity=\"1\"/>\n",
       "<polyline clip-path=\"url(#clip052)\" style=\"stroke:#000000; stroke-linecap:round; stroke-linejoin:round; stroke-width:4; stroke-opacity:1; fill:none\" points=\"349.013,86.1857 349.013,1384.24 380.998,1384.24 380.998,86.1857 349.013,86.1857 \"/>\n",
       "<path clip-path=\"url(#clip052)\" d=\"M380.998 1338.15 L380.998 1384.24 L412.983 1384.24 L412.983 1338.15 L380.998 1338.15 L380.998 1338.15  Z\" fill=\"#009af9\" fill-rule=\"evenodd\" fill-opacity=\"1\"/>\n",
       "<polyline clip-path=\"url(#clip052)\" style=\"stroke:#000000; stroke-linecap:round; stroke-linejoin:round; stroke-width:4; stroke-opacity:1; fill:none\" points=\"380.998,1338.15 380.998,1384.24 412.983,1384.24 412.983,1338.15 380.998,1338.15 \"/>\n",
       "<path clip-path=\"url(#clip052)\" d=\"M412.983 1368.88 L412.983 1384.24 L444.968 1384.24 L444.968 1368.88 L412.983 1368.88 L412.983 1368.88  Z\" fill=\"#009af9\" fill-rule=\"evenodd\" fill-opacity=\"1\"/>\n",
       "<polyline clip-path=\"url(#clip052)\" style=\"stroke:#000000; stroke-linecap:round; stroke-linejoin:round; stroke-width:4; stroke-opacity:1; fill:none\" points=\"412.983,1368.88 412.983,1384.24 444.968,1384.24 444.968,1368.88 412.983,1368.88 \"/>\n",
       "<path clip-path=\"url(#clip052)\" d=\"M444.968 1368.88 L444.968 1384.24 L476.954 1384.24 L476.954 1368.88 L444.968 1368.88 L444.968 1368.88  Z\" fill=\"#009af9\" fill-rule=\"evenodd\" fill-opacity=\"1\"/>\n",
       "<polyline clip-path=\"url(#clip052)\" style=\"stroke:#000000; stroke-linecap:round; stroke-linejoin:round; stroke-width:4; stroke-opacity:1; fill:none\" points=\"444.968,1368.88 444.968,1384.24 476.954,1384.24 476.954,1368.88 444.968,1368.88 \"/>\n",
       "<path clip-path=\"url(#clip052)\" d=\"M476.954 1368.88 L476.954 1384.24 L508.939 1384.24 L508.939 1368.88 L476.954 1368.88 L476.954 1368.88  Z\" fill=\"#009af9\" fill-rule=\"evenodd\" fill-opacity=\"1\"/>\n",
       "<polyline clip-path=\"url(#clip052)\" style=\"stroke:#000000; stroke-linecap:round; stroke-linejoin:round; stroke-width:4; stroke-opacity:1; fill:none\" points=\"476.954,1368.88 476.954,1384.24 508.939,1384.24 508.939,1368.88 476.954,1368.88 \"/>\n",
       "<path clip-path=\"url(#clip052)\" d=\"M508.939 1384.24 L508.939 1384.24 L540.924 1384.24 L540.924 1384.24 L508.939 1384.24 L508.939 1384.24  Z\" fill=\"#009af9\" fill-rule=\"evenodd\" fill-opacity=\"1\"/>\n",
       "<polyline clip-path=\"url(#clip052)\" style=\"stroke:#000000; stroke-linecap:round; stroke-linejoin:round; stroke-width:4; stroke-opacity:1; fill:none\" points=\"508.939,1384.24 508.939,1384.24 540.924,1384.24 508.939,1384.24 \"/>\n",
       "<path clip-path=\"url(#clip052)\" d=\"M540.924 1376.56 L540.924 1384.24 L572.909 1384.24 L572.909 1376.56 L540.924 1376.56 L540.924 1376.56  Z\" fill=\"#009af9\" fill-rule=\"evenodd\" fill-opacity=\"1\"/>\n",
       "<polyline clip-path=\"url(#clip052)\" style=\"stroke:#000000; stroke-linecap:round; stroke-linejoin:round; stroke-width:4; stroke-opacity:1; fill:none\" points=\"540.924,1376.56 540.924,1384.24 572.909,1384.24 572.909,1376.56 540.924,1376.56 \"/>\n",
       "<path clip-path=\"url(#clip052)\" d=\"M572.909 1384.24 L572.909 1384.24 L604.894 1384.24 L604.894 1384.24 L572.909 1384.24 L572.909 1384.24  Z\" fill=\"#009af9\" fill-rule=\"evenodd\" fill-opacity=\"1\"/>\n",
       "<polyline clip-path=\"url(#clip052)\" style=\"stroke:#000000; stroke-linecap:round; stroke-linejoin:round; stroke-width:4; stroke-opacity:1; fill:none\" points=\"572.909,1384.24 572.909,1384.24 604.894,1384.24 572.909,1384.24 \"/>\n",
       "<path clip-path=\"url(#clip052)\" d=\"M604.894 1384.24 L604.894 1384.24 L636.879 1384.24 L636.879 1384.24 L604.894 1384.24 L604.894 1384.24  Z\" fill=\"#009af9\" fill-rule=\"evenodd\" fill-opacity=\"1\"/>\n",
       "<polyline clip-path=\"url(#clip052)\" style=\"stroke:#000000; stroke-linecap:round; stroke-linejoin:round; stroke-width:4; stroke-opacity:1; fill:none\" points=\"604.894,1384.24 604.894,1384.24 636.879,1384.24 604.894,1384.24 \"/>\n",
       "<path clip-path=\"url(#clip052)\" d=\"M636.879 1384.24 L636.879 1384.24 L668.864 1384.24 L668.864 1384.24 L636.879 1384.24 L636.879 1384.24  Z\" fill=\"#009af9\" fill-rule=\"evenodd\" fill-opacity=\"1\"/>\n",
       "<polyline clip-path=\"url(#clip052)\" style=\"stroke:#000000; stroke-linecap:round; stroke-linejoin:round; stroke-width:4; stroke-opacity:1; fill:none\" points=\"636.879,1384.24 636.879,1384.24 668.864,1384.24 636.879,1384.24 \"/>\n",
       "<path clip-path=\"url(#clip052)\" d=\"M668.864 1384.24 L668.864 1384.24 L700.849 1384.24 L700.849 1384.24 L668.864 1384.24 L668.864 1384.24  Z\" fill=\"#009af9\" fill-rule=\"evenodd\" fill-opacity=\"1\"/>\n",
       "<polyline clip-path=\"url(#clip052)\" style=\"stroke:#000000; stroke-linecap:round; stroke-linejoin:round; stroke-width:4; stroke-opacity:1; fill:none\" points=\"668.864,1384.24 668.864,1384.24 700.849,1384.24 668.864,1384.24 \"/>\n",
       "<path clip-path=\"url(#clip052)\" d=\"M700.849 1384.24 L700.849 1384.24 L732.834 1384.24 L732.834 1384.24 L700.849 1384.24 L700.849 1384.24  Z\" fill=\"#009af9\" fill-rule=\"evenodd\" fill-opacity=\"1\"/>\n",
       "<polyline clip-path=\"url(#clip052)\" style=\"stroke:#000000; stroke-linecap:round; stroke-linejoin:round; stroke-width:4; stroke-opacity:1; fill:none\" points=\"700.849,1384.24 700.849,1384.24 732.834,1384.24 700.849,1384.24 \"/>\n",
       "<path clip-path=\"url(#clip052)\" d=\"M732.834 1384.24 L732.834 1384.24 L764.819 1384.24 L764.819 1384.24 L732.834 1384.24 L732.834 1384.24  Z\" fill=\"#009af9\" fill-rule=\"evenodd\" fill-opacity=\"1\"/>\n",
       "<polyline clip-path=\"url(#clip052)\" style=\"stroke:#000000; stroke-linecap:round; stroke-linejoin:round; stroke-width:4; stroke-opacity:1; fill:none\" points=\"732.834,1384.24 732.834,1384.24 764.819,1384.24 732.834,1384.24 \"/>\n",
       "<path clip-path=\"url(#clip052)\" d=\"M764.819 1384.24 L764.819 1384.24 L796.804 1384.24 L796.804 1384.24 L764.819 1384.24 L764.819 1384.24  Z\" fill=\"#009af9\" fill-rule=\"evenodd\" fill-opacity=\"1\"/>\n",
       "<polyline clip-path=\"url(#clip052)\" style=\"stroke:#000000; stroke-linecap:round; stroke-linejoin:round; stroke-width:4; stroke-opacity:1; fill:none\" points=\"764.819,1384.24 764.819,1384.24 796.804,1384.24 764.819,1384.24 \"/>\n",
       "<path clip-path=\"url(#clip052)\" d=\"M796.804 1384.24 L796.804 1384.24 L828.789 1384.24 L828.789 1384.24 L796.804 1384.24 L796.804 1384.24  Z\" fill=\"#009af9\" fill-rule=\"evenodd\" fill-opacity=\"1\"/>\n",
       "<polyline clip-path=\"url(#clip052)\" style=\"stroke:#000000; stroke-linecap:round; stroke-linejoin:round; stroke-width:4; stroke-opacity:1; fill:none\" points=\"796.804,1384.24 796.804,1384.24 828.789,1384.24 796.804,1384.24 \"/>\n",
       "<path clip-path=\"url(#clip052)\" d=\"M828.789 1384.24 L828.789 1384.24 L860.774 1384.24 L860.774 1384.24 L828.789 1384.24 L828.789 1384.24  Z\" fill=\"#009af9\" fill-rule=\"evenodd\" fill-opacity=\"1\"/>\n",
       "<polyline clip-path=\"url(#clip052)\" style=\"stroke:#000000; stroke-linecap:round; stroke-linejoin:round; stroke-width:4; stroke-opacity:1; fill:none\" points=\"828.789,1384.24 828.789,1384.24 860.774,1384.24 828.789,1384.24 \"/>\n",
       "<path clip-path=\"url(#clip052)\" d=\"M860.774 1384.24 L860.774 1384.24 L892.759 1384.24 L892.759 1384.24 L860.774 1384.24 L860.774 1384.24  Z\" fill=\"#009af9\" fill-rule=\"evenodd\" fill-opacity=\"1\"/>\n",
       "<polyline clip-path=\"url(#clip052)\" style=\"stroke:#000000; stroke-linecap:round; stroke-linejoin:round; stroke-width:4; stroke-opacity:1; fill:none\" points=\"860.774,1384.24 860.774,1384.24 892.759,1384.24 860.774,1384.24 \"/>\n",
       "<path clip-path=\"url(#clip052)\" d=\"M892.759 1384.24 L892.759 1384.24 L924.744 1384.24 L924.744 1384.24 L892.759 1384.24 L892.759 1384.24  Z\" fill=\"#009af9\" fill-rule=\"evenodd\" fill-opacity=\"1\"/>\n",
       "<polyline clip-path=\"url(#clip052)\" style=\"stroke:#000000; stroke-linecap:round; stroke-linejoin:round; stroke-width:4; stroke-opacity:1; fill:none\" points=\"892.759,1384.24 892.759,1384.24 924.744,1384.24 892.759,1384.24 \"/>\n",
       "<path clip-path=\"url(#clip052)\" d=\"M924.744 1384.24 L924.744 1384.24 L956.729 1384.24 L956.729 1384.24 L924.744 1384.24 L924.744 1384.24  Z\" fill=\"#009af9\" fill-rule=\"evenodd\" fill-opacity=\"1\"/>\n",
       "<polyline clip-path=\"url(#clip052)\" style=\"stroke:#000000; stroke-linecap:round; stroke-linejoin:round; stroke-width:4; stroke-opacity:1; fill:none\" points=\"924.744,1384.24 924.744,1384.24 956.729,1384.24 924.744,1384.24 \"/>\n",
       "<path clip-path=\"url(#clip052)\" d=\"M956.729 1384.24 L956.729 1384.24 L988.715 1384.24 L988.715 1384.24 L956.729 1384.24 L956.729 1384.24  Z\" fill=\"#009af9\" fill-rule=\"evenodd\" fill-opacity=\"1\"/>\n",
       "<polyline clip-path=\"url(#clip052)\" style=\"stroke:#000000; stroke-linecap:round; stroke-linejoin:round; stroke-width:4; stroke-opacity:1; fill:none\" points=\"956.729,1384.24 956.729,1384.24 988.715,1384.24 956.729,1384.24 \"/>\n",
       "<path clip-path=\"url(#clip052)\" d=\"M988.715 1384.24 L988.715 1384.24 L1020.7 1384.24 L1020.7 1384.24 L988.715 1384.24 L988.715 1384.24  Z\" fill=\"#009af9\" fill-rule=\"evenodd\" fill-opacity=\"1\"/>\n",
       "<polyline clip-path=\"url(#clip052)\" style=\"stroke:#000000; stroke-linecap:round; stroke-linejoin:round; stroke-width:4; stroke-opacity:1; fill:none\" points=\"988.715,1384.24 988.715,1384.24 1020.7,1384.24 988.715,1384.24 \"/>\n",
       "<path clip-path=\"url(#clip052)\" d=\"M1020.7 1384.24 L1020.7 1384.24 L1052.68 1384.24 L1052.68 1384.24 L1020.7 1384.24 L1020.7 1384.24  Z\" fill=\"#009af9\" fill-rule=\"evenodd\" fill-opacity=\"1\"/>\n",
       "<polyline clip-path=\"url(#clip052)\" style=\"stroke:#000000; stroke-linecap:round; stroke-linejoin:round; stroke-width:4; stroke-opacity:1; fill:none\" points=\"1020.7,1384.24 1020.7,1384.24 1052.68,1384.24 1020.7,1384.24 \"/>\n",
       "<path clip-path=\"url(#clip052)\" d=\"M1052.68 1384.24 L1052.68 1384.24 L1084.67 1384.24 L1084.67 1384.24 L1052.68 1384.24 L1052.68 1384.24  Z\" fill=\"#009af9\" fill-rule=\"evenodd\" fill-opacity=\"1\"/>\n",
       "<polyline clip-path=\"url(#clip052)\" style=\"stroke:#000000; stroke-linecap:round; stroke-linejoin:round; stroke-width:4; stroke-opacity:1; fill:none\" points=\"1052.68,1384.24 1052.68,1384.24 1084.67,1384.24 1052.68,1384.24 \"/>\n",
       "<path clip-path=\"url(#clip052)\" d=\"M1084.67 1384.24 L1084.67 1384.24 L1116.65 1384.24 L1116.65 1384.24 L1084.67 1384.24 L1084.67 1384.24  Z\" fill=\"#009af9\" fill-rule=\"evenodd\" fill-opacity=\"1\"/>\n",
       "<polyline clip-path=\"url(#clip052)\" style=\"stroke:#000000; stroke-linecap:round; stroke-linejoin:round; stroke-width:4; stroke-opacity:1; fill:none\" points=\"1084.67,1384.24 1084.67,1384.24 1116.65,1384.24 1084.67,1384.24 \"/>\n",
       "<path clip-path=\"url(#clip052)\" d=\"M1116.65 1384.24 L1116.65 1384.24 L1148.64 1384.24 L1148.64 1384.24 L1116.65 1384.24 L1116.65 1384.24  Z\" fill=\"#009af9\" fill-rule=\"evenodd\" fill-opacity=\"1\"/>\n",
       "<polyline clip-path=\"url(#clip052)\" style=\"stroke:#000000; stroke-linecap:round; stroke-linejoin:round; stroke-width:4; stroke-opacity:1; fill:none\" points=\"1116.65,1384.24 1116.65,1384.24 1148.64,1384.24 1116.65,1384.24 \"/>\n",
       "<path clip-path=\"url(#clip052)\" d=\"M1148.64 1384.24 L1148.64 1384.24 L1180.62 1384.24 L1180.62 1384.24 L1148.64 1384.24 L1148.64 1384.24  Z\" fill=\"#009af9\" fill-rule=\"evenodd\" fill-opacity=\"1\"/>\n",
       "<polyline clip-path=\"url(#clip052)\" style=\"stroke:#000000; stroke-linecap:round; stroke-linejoin:round; stroke-width:4; stroke-opacity:1; fill:none\" points=\"1148.64,1384.24 1148.64,1384.24 1180.62,1384.24 1148.64,1384.24 \"/>\n",
       "<path clip-path=\"url(#clip052)\" d=\"M1180.62 1384.24 L1180.62 1384.24 L1212.61 1384.24 L1212.61 1384.24 L1180.62 1384.24 L1180.62 1384.24  Z\" fill=\"#009af9\" fill-rule=\"evenodd\" fill-opacity=\"1\"/>\n",
       "<polyline clip-path=\"url(#clip052)\" style=\"stroke:#000000; stroke-linecap:round; stroke-linejoin:round; stroke-width:4; stroke-opacity:1; fill:none\" points=\"1180.62,1384.24 1180.62,1384.24 1212.61,1384.24 1180.62,1384.24 \"/>\n",
       "<path clip-path=\"url(#clip052)\" d=\"M1212.61 1384.24 L1212.61 1384.24 L1244.6 1384.24 L1244.6 1384.24 L1212.61 1384.24 L1212.61 1384.24  Z\" fill=\"#009af9\" fill-rule=\"evenodd\" fill-opacity=\"1\"/>\n",
       "<polyline clip-path=\"url(#clip052)\" style=\"stroke:#000000; stroke-linecap:round; stroke-linejoin:round; stroke-width:4; stroke-opacity:1; fill:none\" points=\"1212.61,1384.24 1212.61,1384.24 1244.6,1384.24 1212.61,1384.24 \"/>\n",
       "<path clip-path=\"url(#clip052)\" d=\"M1244.6 1384.24 L1244.6 1384.24 L1276.58 1384.24 L1276.58 1384.24 L1244.6 1384.24 L1244.6 1384.24  Z\" fill=\"#009af9\" fill-rule=\"evenodd\" fill-opacity=\"1\"/>\n",
       "<polyline clip-path=\"url(#clip052)\" style=\"stroke:#000000; stroke-linecap:round; stroke-linejoin:round; stroke-width:4; stroke-opacity:1; fill:none\" points=\"1244.6,1384.24 1244.6,1384.24 1276.58,1384.24 1244.6,1384.24 \"/>\n",
       "<path clip-path=\"url(#clip052)\" d=\"M1276.58 1384.24 L1276.58 1384.24 L1308.57 1384.24 L1308.57 1384.24 L1276.58 1384.24 L1276.58 1384.24  Z\" fill=\"#009af9\" fill-rule=\"evenodd\" fill-opacity=\"1\"/>\n",
       "<polyline clip-path=\"url(#clip052)\" style=\"stroke:#000000; stroke-linecap:round; stroke-linejoin:round; stroke-width:4; stroke-opacity:1; fill:none\" points=\"1276.58,1384.24 1276.58,1384.24 1308.57,1384.24 1276.58,1384.24 \"/>\n",
       "<path clip-path=\"url(#clip052)\" d=\"M1308.57 1384.24 L1308.57 1384.24 L1340.55 1384.24 L1340.55 1384.24 L1308.57 1384.24 L1308.57 1384.24  Z\" fill=\"#009af9\" fill-rule=\"evenodd\" fill-opacity=\"1\"/>\n",
       "<polyline clip-path=\"url(#clip052)\" style=\"stroke:#000000; stroke-linecap:round; stroke-linejoin:round; stroke-width:4; stroke-opacity:1; fill:none\" points=\"1308.57,1384.24 1308.57,1384.24 1340.55,1384.24 1308.57,1384.24 \"/>\n",
       "<path clip-path=\"url(#clip052)\" d=\"M1340.55 1376.56 L1340.55 1384.24 L1372.54 1384.24 L1372.54 1376.56 L1340.55 1376.56 L1340.55 1376.56  Z\" fill=\"#009af9\" fill-rule=\"evenodd\" fill-opacity=\"1\"/>\n",
       "<polyline clip-path=\"url(#clip052)\" style=\"stroke:#000000; stroke-linecap:round; stroke-linejoin:round; stroke-width:4; stroke-opacity:1; fill:none\" points=\"1340.55,1376.56 1340.55,1384.24 1372.54,1384.24 1372.54,1376.56 1340.55,1376.56 \"/>\n",
       "<path clip-path=\"url(#clip052)\" d=\"M1372.54 1384.24 L1372.54 1384.24 L1404.52 1384.24 L1404.52 1384.24 L1372.54 1384.24 L1372.54 1384.24  Z\" fill=\"#009af9\" fill-rule=\"evenodd\" fill-opacity=\"1\"/>\n",
       "<polyline clip-path=\"url(#clip052)\" style=\"stroke:#000000; stroke-linecap:round; stroke-linejoin:round; stroke-width:4; stroke-opacity:1; fill:none\" points=\"1372.54,1384.24 1372.54,1384.24 1404.52,1384.24 1372.54,1384.24 \"/>\n",
       "<path clip-path=\"url(#clip052)\" d=\"M1404.52 1384.24 L1404.52 1384.24 L1436.51 1384.24 L1436.51 1384.24 L1404.52 1384.24 L1404.52 1384.24  Z\" fill=\"#009af9\" fill-rule=\"evenodd\" fill-opacity=\"1\"/>\n",
       "<polyline clip-path=\"url(#clip052)\" style=\"stroke:#000000; stroke-linecap:round; stroke-linejoin:round; stroke-width:4; stroke-opacity:1; fill:none\" points=\"1404.52,1384.24 1404.52,1384.24 1436.51,1384.24 1404.52,1384.24 \"/>\n",
       "<path clip-path=\"url(#clip052)\" d=\"M1436.51 1376.56 L1436.51 1384.24 L1468.49 1384.24 L1468.49 1376.56 L1436.51 1376.56 L1436.51 1376.56  Z\" fill=\"#009af9\" fill-rule=\"evenodd\" fill-opacity=\"1\"/>\n",
       "<polyline clip-path=\"url(#clip052)\" style=\"stroke:#000000; stroke-linecap:round; stroke-linejoin:round; stroke-width:4; stroke-opacity:1; fill:none\" points=\"1436.51,1376.56 1436.51,1384.24 1468.49,1384.24 1468.49,1376.56 1436.51,1376.56 \"/>\n",
       "<path clip-path=\"url(#clip052)\" d=\"M1468.49 1384.24 L1468.49 1384.24 L1500.48 1384.24 L1500.48 1384.24 L1468.49 1384.24 L1468.49 1384.24  Z\" fill=\"#009af9\" fill-rule=\"evenodd\" fill-opacity=\"1\"/>\n",
       "<polyline clip-path=\"url(#clip052)\" style=\"stroke:#000000; stroke-linecap:round; stroke-linejoin:round; stroke-width:4; stroke-opacity:1; fill:none\" points=\"1468.49,1384.24 1468.49,1384.24 1500.48,1384.24 1468.49,1384.24 \"/>\n",
       "<path clip-path=\"url(#clip052)\" d=\"M1500.48 1384.24 L1500.48 1384.24 L1532.46 1384.24 L1532.46 1384.24 L1500.48 1384.24 L1500.48 1384.24  Z\" fill=\"#009af9\" fill-rule=\"evenodd\" fill-opacity=\"1\"/>\n",
       "<polyline clip-path=\"url(#clip052)\" style=\"stroke:#000000; stroke-linecap:round; stroke-linejoin:round; stroke-width:4; stroke-opacity:1; fill:none\" points=\"1500.48,1384.24 1500.48,1384.24 1532.46,1384.24 1500.48,1384.24 \"/>\n",
       "<path clip-path=\"url(#clip052)\" d=\"M1532.46 1384.24 L1532.46 1384.24 L1564.45 1384.24 L1564.45 1384.24 L1532.46 1384.24 L1532.46 1384.24  Z\" fill=\"#009af9\" fill-rule=\"evenodd\" fill-opacity=\"1\"/>\n",
       "<polyline clip-path=\"url(#clip052)\" style=\"stroke:#000000; stroke-linecap:round; stroke-linejoin:round; stroke-width:4; stroke-opacity:1; fill:none\" points=\"1532.46,1384.24 1532.46,1384.24 1564.45,1384.24 1532.46,1384.24 \"/>\n",
       "<path clip-path=\"url(#clip052)\" d=\"M1564.45 1384.24 L1564.45 1384.24 L1596.43 1384.24 L1596.43 1384.24 L1564.45 1384.24 L1564.45 1384.24  Z\" fill=\"#009af9\" fill-rule=\"evenodd\" fill-opacity=\"1\"/>\n",
       "<polyline clip-path=\"url(#clip052)\" style=\"stroke:#000000; stroke-linecap:round; stroke-linejoin:round; stroke-width:4; stroke-opacity:1; fill:none\" points=\"1564.45,1384.24 1564.45,1384.24 1596.43,1384.24 1564.45,1384.24 \"/>\n",
       "<path clip-path=\"url(#clip052)\" d=\"M1596.43 1384.24 L1596.43 1384.24 L1628.42 1384.24 L1628.42 1384.24 L1596.43 1384.24 L1596.43 1384.24  Z\" fill=\"#009af9\" fill-rule=\"evenodd\" fill-opacity=\"1\"/>\n",
       "<polyline clip-path=\"url(#clip052)\" style=\"stroke:#000000; stroke-linecap:round; stroke-linejoin:round; stroke-width:4; stroke-opacity:1; fill:none\" points=\"1596.43,1384.24 1596.43,1384.24 1628.42,1384.24 1596.43,1384.24 \"/>\n",
       "<path clip-path=\"url(#clip052)\" d=\"M1628.42 1384.24 L1628.42 1384.24 L1660.4 1384.24 L1660.4 1384.24 L1628.42 1384.24 L1628.42 1384.24  Z\" fill=\"#009af9\" fill-rule=\"evenodd\" fill-opacity=\"1\"/>\n",
       "<polyline clip-path=\"url(#clip052)\" style=\"stroke:#000000; stroke-linecap:round; stroke-linejoin:round; stroke-width:4; stroke-opacity:1; fill:none\" points=\"1628.42,1384.24 1628.42,1384.24 1660.4,1384.24 1628.42,1384.24 \"/>\n",
       "<path clip-path=\"url(#clip052)\" d=\"M1660.4 1384.24 L1660.4 1384.24 L1692.39 1384.24 L1692.39 1384.24 L1660.4 1384.24 L1660.4 1384.24  Z\" fill=\"#009af9\" fill-rule=\"evenodd\" fill-opacity=\"1\"/>\n",
       "<polyline clip-path=\"url(#clip052)\" style=\"stroke:#000000; stroke-linecap:round; stroke-linejoin:round; stroke-width:4; stroke-opacity:1; fill:none\" points=\"1660.4,1384.24 1660.4,1384.24 1692.39,1384.24 1660.4,1384.24 \"/>\n",
       "<path clip-path=\"url(#clip052)\" d=\"M1692.39 1384.24 L1692.39 1384.24 L1724.37 1384.24 L1724.37 1384.24 L1692.39 1384.24 L1692.39 1384.24  Z\" fill=\"#009af9\" fill-rule=\"evenodd\" fill-opacity=\"1\"/>\n",
       "<polyline clip-path=\"url(#clip052)\" style=\"stroke:#000000; stroke-linecap:round; stroke-linejoin:round; stroke-width:4; stroke-opacity:1; fill:none\" points=\"1692.39,1384.24 1692.39,1384.24 1724.37,1384.24 1692.39,1384.24 \"/>\n",
       "<path clip-path=\"url(#clip052)\" d=\"M1724.37 1384.24 L1724.37 1384.24 L1756.36 1384.24 L1756.36 1384.24 L1724.37 1384.24 L1724.37 1384.24  Z\" fill=\"#009af9\" fill-rule=\"evenodd\" fill-opacity=\"1\"/>\n",
       "<polyline clip-path=\"url(#clip052)\" style=\"stroke:#000000; stroke-linecap:round; stroke-linejoin:round; stroke-width:4; stroke-opacity:1; fill:none\" points=\"1724.37,1384.24 1724.37,1384.24 1756.36,1384.24 1724.37,1384.24 \"/>\n",
       "<path clip-path=\"url(#clip052)\" d=\"M1756.36 1384.24 L1756.36 1384.24 L1788.34 1384.24 L1788.34 1384.24 L1756.36 1384.24 L1756.36 1384.24  Z\" fill=\"#009af9\" fill-rule=\"evenodd\" fill-opacity=\"1\"/>\n",
       "<polyline clip-path=\"url(#clip052)\" style=\"stroke:#000000; stroke-linecap:round; stroke-linejoin:round; stroke-width:4; stroke-opacity:1; fill:none\" points=\"1756.36,1384.24 1756.36,1384.24 1788.34,1384.24 1756.36,1384.24 \"/>\n",
       "<path clip-path=\"url(#clip052)\" d=\"M1788.34 1384.24 L1788.34 1384.24 L1820.33 1384.24 L1820.33 1384.24 L1788.34 1384.24 L1788.34 1384.24  Z\" fill=\"#009af9\" fill-rule=\"evenodd\" fill-opacity=\"1\"/>\n",
       "<polyline clip-path=\"url(#clip052)\" style=\"stroke:#000000; stroke-linecap:round; stroke-linejoin:round; stroke-width:4; stroke-opacity:1; fill:none\" points=\"1788.34,1384.24 1788.34,1384.24 1820.33,1384.24 1788.34,1384.24 \"/>\n",
       "<path clip-path=\"url(#clip052)\" d=\"M1820.33 1384.24 L1820.33 1384.24 L1852.31 1384.24 L1852.31 1384.24 L1820.33 1384.24 L1820.33 1384.24  Z\" fill=\"#009af9\" fill-rule=\"evenodd\" fill-opacity=\"1\"/>\n",
       "<polyline clip-path=\"url(#clip052)\" style=\"stroke:#000000; stroke-linecap:round; stroke-linejoin:round; stroke-width:4; stroke-opacity:1; fill:none\" points=\"1820.33,1384.24 1820.33,1384.24 1852.31,1384.24 1820.33,1384.24 \"/>\n",
       "<path clip-path=\"url(#clip052)\" d=\"M1852.31 1384.24 L1852.31 1384.24 L1884.3 1384.24 L1884.3 1384.24 L1852.31 1384.24 L1852.31 1384.24  Z\" fill=\"#009af9\" fill-rule=\"evenodd\" fill-opacity=\"1\"/>\n",
       "<polyline clip-path=\"url(#clip052)\" style=\"stroke:#000000; stroke-linecap:round; stroke-linejoin:round; stroke-width:4; stroke-opacity:1; fill:none\" points=\"1852.31,1384.24 1852.31,1384.24 1884.3,1384.24 1852.31,1384.24 \"/>\n",
       "<path clip-path=\"url(#clip052)\" d=\"M1884.3 1384.24 L1884.3 1384.24 L1916.28 1384.24 L1916.28 1384.24 L1884.3 1384.24 L1884.3 1384.24  Z\" fill=\"#009af9\" fill-rule=\"evenodd\" fill-opacity=\"1\"/>\n",
       "<polyline clip-path=\"url(#clip052)\" style=\"stroke:#000000; stroke-linecap:round; stroke-linejoin:round; stroke-width:4; stroke-opacity:1; fill:none\" points=\"1884.3,1384.24 1884.3,1384.24 1916.28,1384.24 1884.3,1384.24 \"/>\n",
       "<path clip-path=\"url(#clip052)\" d=\"M1916.28 1384.24 L1916.28 1384.24 L1948.27 1384.24 L1948.27 1384.24 L1916.28 1384.24 L1916.28 1384.24  Z\" fill=\"#009af9\" fill-rule=\"evenodd\" fill-opacity=\"1\"/>\n",
       "<polyline clip-path=\"url(#clip052)\" style=\"stroke:#000000; stroke-linecap:round; stroke-linejoin:round; stroke-width:4; stroke-opacity:1; fill:none\" points=\"1916.28,1384.24 1916.28,1384.24 1948.27,1384.24 1916.28,1384.24 \"/>\n",
       "<path clip-path=\"url(#clip052)\" d=\"M1948.27 1384.24 L1948.27 1384.24 L1980.25 1384.24 L1980.25 1384.24 L1948.27 1384.24 L1948.27 1384.24  Z\" fill=\"#009af9\" fill-rule=\"evenodd\" fill-opacity=\"1\"/>\n",
       "<polyline clip-path=\"url(#clip052)\" style=\"stroke:#000000; stroke-linecap:round; stroke-linejoin:round; stroke-width:4; stroke-opacity:1; fill:none\" points=\"1948.27,1384.24 1948.27,1384.24 1980.25,1384.24 1948.27,1384.24 \"/>\n",
       "<path clip-path=\"url(#clip052)\" d=\"M1980.25 1384.24 L1980.25 1384.24 L2012.24 1384.24 L2012.24 1384.24 L1980.25 1384.24 L1980.25 1384.24  Z\" fill=\"#009af9\" fill-rule=\"evenodd\" fill-opacity=\"1\"/>\n",
       "<polyline clip-path=\"url(#clip052)\" style=\"stroke:#000000; stroke-linecap:round; stroke-linejoin:round; stroke-width:4; stroke-opacity:1; fill:none\" points=\"1980.25,1384.24 1980.25,1384.24 2012.24,1384.24 1980.25,1384.24 \"/>\n",
       "<path clip-path=\"url(#clip052)\" d=\"M2012.24 1384.24 L2012.24 1384.24 L2044.22 1384.24 L2044.22 1384.24 L2012.24 1384.24 L2012.24 1384.24  Z\" fill=\"#009af9\" fill-rule=\"evenodd\" fill-opacity=\"1\"/>\n",
       "<polyline clip-path=\"url(#clip052)\" style=\"stroke:#000000; stroke-linecap:round; stroke-linejoin:round; stroke-width:4; stroke-opacity:1; fill:none\" points=\"2012.24,1384.24 2012.24,1384.24 2044.22,1384.24 2012.24,1384.24 \"/>\n",
       "<path clip-path=\"url(#clip052)\" d=\"M2044.22 1384.24 L2044.22 1384.24 L2076.21 1384.24 L2076.21 1384.24 L2044.22 1384.24 L2044.22 1384.24  Z\" fill=\"#009af9\" fill-rule=\"evenodd\" fill-opacity=\"1\"/>\n",
       "<polyline clip-path=\"url(#clip052)\" style=\"stroke:#000000; stroke-linecap:round; stroke-linejoin:round; stroke-width:4; stroke-opacity:1; fill:none\" points=\"2044.22,1384.24 2044.22,1384.24 2076.21,1384.24 2044.22,1384.24 \"/>\n",
       "<path clip-path=\"url(#clip052)\" d=\"M2076.21 1384.24 L2076.21 1384.24 L2108.19 1384.24 L2108.19 1384.24 L2076.21 1384.24 L2076.21 1384.24  Z\" fill=\"#009af9\" fill-rule=\"evenodd\" fill-opacity=\"1\"/>\n",
       "<polyline clip-path=\"url(#clip052)\" style=\"stroke:#000000; stroke-linecap:round; stroke-linejoin:round; stroke-width:4; stroke-opacity:1; fill:none\" points=\"2076.21,1384.24 2076.21,1384.24 2108.19,1384.24 2076.21,1384.24 \"/>\n",
       "<path clip-path=\"url(#clip052)\" d=\"M2108.19 1384.24 L2108.19 1384.24 L2140.18 1384.24 L2140.18 1384.24 L2108.19 1384.24 L2108.19 1384.24  Z\" fill=\"#009af9\" fill-rule=\"evenodd\" fill-opacity=\"1\"/>\n",
       "<polyline clip-path=\"url(#clip052)\" style=\"stroke:#000000; stroke-linecap:round; stroke-linejoin:round; stroke-width:4; stroke-opacity:1; fill:none\" points=\"2108.19,1384.24 2108.19,1384.24 2140.18,1384.24 2108.19,1384.24 \"/>\n",
       "<path clip-path=\"url(#clip052)\" d=\"M2140.18 1384.24 L2140.18 1384.24 L2172.16 1384.24 L2172.16 1384.24 L2140.18 1384.24 L2140.18 1384.24  Z\" fill=\"#009af9\" fill-rule=\"evenodd\" fill-opacity=\"1\"/>\n",
       "<polyline clip-path=\"url(#clip052)\" style=\"stroke:#000000; stroke-linecap:round; stroke-linejoin:round; stroke-width:4; stroke-opacity:1; fill:none\" points=\"2140.18,1384.24 2140.18,1384.24 2172.16,1384.24 2140.18,1384.24 \"/>\n",
       "<path clip-path=\"url(#clip052)\" d=\"M2172.16 1384.24 L2172.16 1384.24 L2204.15 1384.24 L2204.15 1384.24 L2172.16 1384.24 L2172.16 1384.24  Z\" fill=\"#009af9\" fill-rule=\"evenodd\" fill-opacity=\"1\"/>\n",
       "<polyline clip-path=\"url(#clip052)\" style=\"stroke:#000000; stroke-linecap:round; stroke-linejoin:round; stroke-width:4; stroke-opacity:1; fill:none\" points=\"2172.16,1384.24 2172.16,1384.24 2204.15,1384.24 2172.16,1384.24 \"/>\n",
       "<path clip-path=\"url(#clip052)\" d=\"M2204.15 1368.88 L2204.15 1384.24 L2236.13 1384.24 L2236.13 1368.88 L2204.15 1368.88 L2204.15 1368.88  Z\" fill=\"#009af9\" fill-rule=\"evenodd\" fill-opacity=\"1\"/>\n",
       "<polyline clip-path=\"url(#clip052)\" style=\"stroke:#000000; stroke-linecap:round; stroke-linejoin:round; stroke-width:4; stroke-opacity:1; fill:none\" points=\"2204.15,1368.88 2204.15,1384.24 2236.13,1384.24 2236.13,1368.88 2204.15,1368.88 \"/>\n",
       "<circle clip-path=\"url(#clip052)\" style=\"fill:#009af9; stroke:none; fill-opacity:0\" cx=\"365.006\" cy=\"86.1857\" r=\"2\"/>\n",
       "<circle clip-path=\"url(#clip052)\" style=\"fill:#009af9; stroke:none; fill-opacity:0\" cx=\"396.991\" cy=\"1338.15\" r=\"2\"/>\n",
       "<circle clip-path=\"url(#clip052)\" style=\"fill:#009af9; stroke:none; fill-opacity:0\" cx=\"428.976\" cy=\"1368.88\" r=\"2\"/>\n",
       "<circle clip-path=\"url(#clip052)\" style=\"fill:#009af9; stroke:none; fill-opacity:0\" cx=\"460.961\" cy=\"1368.88\" r=\"2\"/>\n",
       "<circle clip-path=\"url(#clip052)\" style=\"fill:#009af9; stroke:none; fill-opacity:0\" cx=\"492.946\" cy=\"1368.88\" r=\"2\"/>\n",
       "<circle clip-path=\"url(#clip052)\" style=\"fill:#009af9; stroke:none; fill-opacity:0\" cx=\"524.931\" cy=\"1384.24\" r=\"2\"/>\n",
       "<circle clip-path=\"url(#clip052)\" style=\"fill:#009af9; stroke:none; fill-opacity:0\" cx=\"556.916\" cy=\"1376.56\" r=\"2\"/>\n",
       "<circle clip-path=\"url(#clip052)\" style=\"fill:#009af9; stroke:none; fill-opacity:0\" cx=\"588.901\" cy=\"1384.24\" r=\"2\"/>\n",
       "<circle clip-path=\"url(#clip052)\" style=\"fill:#009af9; stroke:none; fill-opacity:0\" cx=\"620.886\" cy=\"1384.24\" r=\"2\"/>\n",
       "<circle clip-path=\"url(#clip052)\" style=\"fill:#009af9; stroke:none; fill-opacity:0\" cx=\"652.871\" cy=\"1384.24\" r=\"2\"/>\n",
       "<circle clip-path=\"url(#clip052)\" style=\"fill:#009af9; stroke:none; fill-opacity:0\" cx=\"684.856\" cy=\"1384.24\" r=\"2\"/>\n",
       "<circle clip-path=\"url(#clip052)\" style=\"fill:#009af9; stroke:none; fill-opacity:0\" cx=\"716.842\" cy=\"1384.24\" r=\"2\"/>\n",
       "<circle clip-path=\"url(#clip052)\" style=\"fill:#009af9; stroke:none; fill-opacity:0\" cx=\"748.827\" cy=\"1384.24\" r=\"2\"/>\n",
       "<circle clip-path=\"url(#clip052)\" style=\"fill:#009af9; stroke:none; fill-opacity:0\" cx=\"780.812\" cy=\"1384.24\" r=\"2\"/>\n",
       "<circle clip-path=\"url(#clip052)\" style=\"fill:#009af9; stroke:none; fill-opacity:0\" cx=\"812.797\" cy=\"1384.24\" r=\"2\"/>\n",
       "<circle clip-path=\"url(#clip052)\" style=\"fill:#009af9; stroke:none; fill-opacity:0\" cx=\"844.782\" cy=\"1384.24\" r=\"2\"/>\n",
       "<circle clip-path=\"url(#clip052)\" style=\"fill:#009af9; stroke:none; fill-opacity:0\" cx=\"876.767\" cy=\"1384.24\" r=\"2\"/>\n",
       "<circle clip-path=\"url(#clip052)\" style=\"fill:#009af9; stroke:none; fill-opacity:0\" cx=\"908.752\" cy=\"1384.24\" r=\"2\"/>\n",
       "<circle clip-path=\"url(#clip052)\" style=\"fill:#009af9; stroke:none; fill-opacity:0\" cx=\"940.737\" cy=\"1384.24\" r=\"2\"/>\n",
       "<circle clip-path=\"url(#clip052)\" style=\"fill:#009af9; stroke:none; fill-opacity:0\" cx=\"972.722\" cy=\"1384.24\" r=\"2\"/>\n",
       "<circle clip-path=\"url(#clip052)\" style=\"fill:#009af9; stroke:none; fill-opacity:0\" cx=\"1004.71\" cy=\"1384.24\" r=\"2\"/>\n",
       "<circle clip-path=\"url(#clip052)\" style=\"fill:#009af9; stroke:none; fill-opacity:0\" cx=\"1036.69\" cy=\"1384.24\" r=\"2\"/>\n",
       "<circle clip-path=\"url(#clip052)\" style=\"fill:#009af9; stroke:none; fill-opacity:0\" cx=\"1068.68\" cy=\"1384.24\" r=\"2\"/>\n",
       "<circle clip-path=\"url(#clip052)\" style=\"fill:#009af9; stroke:none; fill-opacity:0\" cx=\"1100.66\" cy=\"1384.24\" r=\"2\"/>\n",
       "<circle clip-path=\"url(#clip052)\" style=\"fill:#009af9; stroke:none; fill-opacity:0\" cx=\"1132.65\" cy=\"1384.24\" r=\"2\"/>\n",
       "<circle clip-path=\"url(#clip052)\" style=\"fill:#009af9; stroke:none; fill-opacity:0\" cx=\"1164.63\" cy=\"1384.24\" r=\"2\"/>\n",
       "<circle clip-path=\"url(#clip052)\" style=\"fill:#009af9; stroke:none; fill-opacity:0\" cx=\"1196.62\" cy=\"1384.24\" r=\"2\"/>\n",
       "<circle clip-path=\"url(#clip052)\" style=\"fill:#009af9; stroke:none; fill-opacity:0\" cx=\"1228.6\" cy=\"1384.24\" r=\"2\"/>\n",
       "<circle clip-path=\"url(#clip052)\" style=\"fill:#009af9; stroke:none; fill-opacity:0\" cx=\"1260.59\" cy=\"1384.24\" r=\"2\"/>\n",
       "<circle clip-path=\"url(#clip052)\" style=\"fill:#009af9; stroke:none; fill-opacity:0\" cx=\"1292.57\" cy=\"1384.24\" r=\"2\"/>\n",
       "<circle clip-path=\"url(#clip052)\" style=\"fill:#009af9; stroke:none; fill-opacity:0\" cx=\"1324.56\" cy=\"1384.24\" r=\"2\"/>\n",
       "<circle clip-path=\"url(#clip052)\" style=\"fill:#009af9; stroke:none; fill-opacity:0\" cx=\"1356.54\" cy=\"1376.56\" r=\"2\"/>\n",
       "<circle clip-path=\"url(#clip052)\" style=\"fill:#009af9; stroke:none; fill-opacity:0\" cx=\"1388.53\" cy=\"1384.24\" r=\"2\"/>\n",
       "<circle clip-path=\"url(#clip052)\" style=\"fill:#009af9; stroke:none; fill-opacity:0\" cx=\"1420.51\" cy=\"1384.24\" r=\"2\"/>\n",
       "<circle clip-path=\"url(#clip052)\" style=\"fill:#009af9; stroke:none; fill-opacity:0\" cx=\"1452.5\" cy=\"1376.56\" r=\"2\"/>\n",
       "<circle clip-path=\"url(#clip052)\" style=\"fill:#009af9; stroke:none; fill-opacity:0\" cx=\"1484.48\" cy=\"1384.24\" r=\"2\"/>\n",
       "<circle clip-path=\"url(#clip052)\" style=\"fill:#009af9; stroke:none; fill-opacity:0\" cx=\"1516.47\" cy=\"1384.24\" r=\"2\"/>\n",
       "<circle clip-path=\"url(#clip052)\" style=\"fill:#009af9; stroke:none; fill-opacity:0\" cx=\"1548.45\" cy=\"1384.24\" r=\"2\"/>\n",
       "<circle clip-path=\"url(#clip052)\" style=\"fill:#009af9; stroke:none; fill-opacity:0\" cx=\"1580.44\" cy=\"1384.24\" r=\"2\"/>\n",
       "<circle clip-path=\"url(#clip052)\" style=\"fill:#009af9; stroke:none; fill-opacity:0\" cx=\"1612.42\" cy=\"1384.24\" r=\"2\"/>\n",
       "<circle clip-path=\"url(#clip052)\" style=\"fill:#009af9; stroke:none; fill-opacity:0\" cx=\"1644.41\" cy=\"1384.24\" r=\"2\"/>\n",
       "<circle clip-path=\"url(#clip052)\" style=\"fill:#009af9; stroke:none; fill-opacity:0\" cx=\"1676.39\" cy=\"1384.24\" r=\"2\"/>\n",
       "<circle clip-path=\"url(#clip052)\" style=\"fill:#009af9; stroke:none; fill-opacity:0\" cx=\"1708.38\" cy=\"1384.24\" r=\"2\"/>\n",
       "<circle clip-path=\"url(#clip052)\" style=\"fill:#009af9; stroke:none; fill-opacity:0\" cx=\"1740.36\" cy=\"1384.24\" r=\"2\"/>\n",
       "<circle clip-path=\"url(#clip052)\" style=\"fill:#009af9; stroke:none; fill-opacity:0\" cx=\"1772.35\" cy=\"1384.24\" r=\"2\"/>\n",
       "<circle clip-path=\"url(#clip052)\" style=\"fill:#009af9; stroke:none; fill-opacity:0\" cx=\"1804.33\" cy=\"1384.24\" r=\"2\"/>\n",
       "<circle clip-path=\"url(#clip052)\" style=\"fill:#009af9; stroke:none; fill-opacity:0\" cx=\"1836.32\" cy=\"1384.24\" r=\"2\"/>\n",
       "<circle clip-path=\"url(#clip052)\" style=\"fill:#009af9; stroke:none; fill-opacity:0\" cx=\"1868.3\" cy=\"1384.24\" r=\"2\"/>\n",
       "<circle clip-path=\"url(#clip052)\" style=\"fill:#009af9; stroke:none; fill-opacity:0\" cx=\"1900.29\" cy=\"1384.24\" r=\"2\"/>\n",
       "<circle clip-path=\"url(#clip052)\" style=\"fill:#009af9; stroke:none; fill-opacity:0\" cx=\"1932.27\" cy=\"1384.24\" r=\"2\"/>\n",
       "<circle clip-path=\"url(#clip052)\" style=\"fill:#009af9; stroke:none; fill-opacity:0\" cx=\"1964.26\" cy=\"1384.24\" r=\"2\"/>\n",
       "<circle clip-path=\"url(#clip052)\" style=\"fill:#009af9; stroke:none; fill-opacity:0\" cx=\"1996.24\" cy=\"1384.24\" r=\"2\"/>\n",
       "<circle clip-path=\"url(#clip052)\" style=\"fill:#009af9; stroke:none; fill-opacity:0\" cx=\"2028.23\" cy=\"1384.24\" r=\"2\"/>\n",
       "<circle clip-path=\"url(#clip052)\" style=\"fill:#009af9; stroke:none; fill-opacity:0\" cx=\"2060.21\" cy=\"1384.24\" r=\"2\"/>\n",
       "<circle clip-path=\"url(#clip052)\" style=\"fill:#009af9; stroke:none; fill-opacity:0\" cx=\"2092.2\" cy=\"1384.24\" r=\"2\"/>\n",
       "<circle clip-path=\"url(#clip052)\" style=\"fill:#009af9; stroke:none; fill-opacity:0\" cx=\"2124.18\" cy=\"1384.24\" r=\"2\"/>\n",
       "<circle clip-path=\"url(#clip052)\" style=\"fill:#009af9; stroke:none; fill-opacity:0\" cx=\"2156.17\" cy=\"1384.24\" r=\"2\"/>\n",
       "<circle clip-path=\"url(#clip052)\" style=\"fill:#009af9; stroke:none; fill-opacity:0\" cx=\"2188.15\" cy=\"1384.24\" r=\"2\"/>\n",
       "<circle clip-path=\"url(#clip052)\" style=\"fill:#009af9; stroke:none; fill-opacity:0\" cx=\"2220.14\" cy=\"1368.88\" r=\"2\"/>\n",
       "<path clip-path=\"url(#clip050)\" d=\"M1851.73 196.789 L2282.08 196.789 L2282.08 93.1086 L1851.73 93.1086  Z\" fill=\"#ffffff\" fill-rule=\"evenodd\" fill-opacity=\"1\"/>\n",
       "<polyline clip-path=\"url(#clip050)\" style=\"stroke:#000000; stroke-linecap:round; stroke-linejoin:round; stroke-width:4; stroke-opacity:1; fill:none\" points=\"1851.73,196.789 2282.08,196.789 2282.08,93.1086 1851.73,93.1086 1851.73,196.789 \"/>\n",
       "<path clip-path=\"url(#clip050)\" d=\"M1875.29 165.685 L2016.65 165.685 L2016.65 124.213 L1875.29 124.213 L1875.29 165.685  Z\" fill=\"#009af9\" fill-rule=\"evenodd\" fill-opacity=\"1\"/>\n",
       "<polyline clip-path=\"url(#clip050)\" style=\"stroke:#000000; stroke-linecap:round; stroke-linejoin:round; stroke-width:4; stroke-opacity:1; fill:none\" points=\"1875.29,165.685 2016.65,165.685 2016.65,124.213 1875.29,124.213 1875.29,165.685 \"/>\n",
       "<path clip-path=\"url(#clip050)\" d=\"M2053.61 149.196 Q2048.45 149.196 2046.46 150.377 Q2044.47 151.557 2044.47 154.405 Q2044.47 156.673 2045.95 158.016 Q2047.45 159.335 2050.02 159.335 Q2053.56 159.335 2055.69 156.835 Q2057.85 154.312 2057.85 150.145 L2057.85 149.196 L2053.61 149.196 M2062.11 147.437 L2062.11 162.229 L2057.85 162.229 L2057.85 158.293 Q2056.39 160.655 2054.21 161.789 Q2052.04 162.9 2048.89 162.9 Q2044.91 162.9 2042.55 160.678 Q2040.21 158.432 2040.21 154.682 Q2040.21 150.307 2043.13 148.085 Q2046.06 145.863 2051.87 145.863 L2057.85 145.863 L2057.85 145.446 Q2057.85 142.507 2055.9 140.909 Q2053.98 139.289 2050.49 139.289 Q2048.26 139.289 2046.16 139.821 Q2044.05 140.354 2042.11 141.419 L2042.11 137.483 Q2044.44 136.581 2046.64 136.141 Q2048.84 135.678 2050.93 135.678 Q2056.55 135.678 2059.33 138.594 Q2062.11 141.511 2062.11 147.437 Z\" fill=\"#000000\" fill-rule=\"nonzero\" fill-opacity=\"1\" /><path clip-path=\"url(#clip050)\" d=\"M2089.49 149.289 Q2089.49 144.59 2087.55 141.928 Q2085.62 139.243 2082.25 139.243 Q2078.87 139.243 2076.92 141.928 Q2075 144.59 2075 149.289 Q2075 153.988 2076.92 156.673 Q2078.87 159.335 2082.25 159.335 Q2085.62 159.335 2087.55 156.673 Q2089.49 153.988 2089.49 149.289 M2075 140.238 Q2076.34 137.923 2078.38 136.812 Q2080.44 135.678 2083.29 135.678 Q2088.01 135.678 2090.95 139.428 Q2093.91 143.178 2093.91 149.289 Q2093.91 155.4 2090.95 159.15 Q2088.01 162.9 2083.29 162.9 Q2080.44 162.9 2078.38 161.789 Q2076.34 160.655 2075 158.34 L2075 162.229 L2070.72 162.229 L2070.72 126.21 L2075 126.21 L2075 140.238 Z\" fill=\"#000000\" fill-rule=\"nonzero\" fill-opacity=\"1\" /><path clip-path=\"url(#clip050)\" d=\"M2120.67 170.099 L2120.67 173.409 L2096.04 173.409 L2096.04 170.099 L2120.67 170.099 Z\" fill=\"#000000\" fill-rule=\"nonzero\" fill-opacity=\"1\" /><path clip-path=\"url(#clip050)\" d=\"M2143.33 137.298 L2143.33 141.28 Q2141.53 140.284 2139.7 139.798 Q2137.89 139.289 2136.04 139.289 Q2131.9 139.289 2129.61 141.928 Q2127.31 144.544 2127.31 149.289 Q2127.31 154.034 2129.61 156.673 Q2131.9 159.289 2136.04 159.289 Q2137.89 159.289 2139.7 158.803 Q2141.53 158.293 2143.33 157.298 L2143.33 161.233 Q2141.55 162.067 2139.63 162.483 Q2137.73 162.9 2135.58 162.9 Q2129.72 162.9 2126.27 159.219 Q2122.82 155.539 2122.82 149.289 Q2122.82 142.946 2126.3 139.312 Q2129.79 135.678 2135.86 135.678 Q2137.82 135.678 2139.7 136.095 Q2141.57 136.488 2143.33 137.298 Z\" fill=\"#000000\" fill-rule=\"nonzero\" fill-opacity=\"1\" /><path clip-path=\"url(#clip050)\" d=\"M2165.76 140.284 Q2165.05 139.868 2164.19 139.682 Q2163.36 139.474 2162.34 139.474 Q2158.73 139.474 2156.78 141.835 Q2154.86 144.173 2154.86 148.571 L2154.86 162.229 L2150.58 162.229 L2150.58 136.303 L2154.86 136.303 L2154.86 140.331 Q2156.2 137.969 2158.36 136.835 Q2160.51 135.678 2163.59 135.678 Q2164.03 135.678 2164.56 135.747 Q2165.09 135.794 2165.74 135.909 L2165.76 140.284 Z\" fill=\"#000000\" fill-rule=\"nonzero\" fill-opacity=\"1\" /><path clip-path=\"url(#clip050)\" d=\"M2179.24 139.289 Q2175.81 139.289 2173.82 141.974 Q2171.83 144.636 2171.83 149.289 Q2171.83 153.942 2173.8 156.627 Q2175.79 159.289 2179.24 159.289 Q2182.64 159.289 2184.63 156.604 Q2186.62 153.918 2186.62 149.289 Q2186.62 144.682 2184.63 141.997 Q2182.64 139.289 2179.24 139.289 M2179.24 135.678 Q2184.79 135.678 2187.96 139.289 Q2191.13 142.9 2191.13 149.289 Q2191.13 155.655 2187.96 159.289 Q2184.79 162.9 2179.24 162.9 Q2173.66 162.9 2170.49 159.289 Q2167.34 155.655 2167.34 149.289 Q2167.34 142.9 2170.49 139.289 Q2173.66 135.678 2179.24 135.678 Z\" fill=\"#000000\" fill-rule=\"nonzero\" fill-opacity=\"1\" /><path clip-path=\"url(#clip050)\" d=\"M2195.72 136.303 L2199.98 136.303 L2205.3 156.534 L2210.6 136.303 L2215.62 136.303 L2220.95 156.534 L2226.25 136.303 L2230.51 136.303 L2223.73 162.229 L2218.7 162.229 L2213.12 140.979 L2207.52 162.229 L2202.5 162.229 L2195.72 136.303 Z\" fill=\"#000000\" fill-rule=\"nonzero\" fill-opacity=\"1\" /><path clip-path=\"url(#clip050)\" d=\"M2258.52 146.581 L2258.52 162.229 L2254.26 162.229 L2254.26 146.719 Q2254.26 143.039 2252.82 141.21 Q2251.39 139.382 2248.52 139.382 Q2245.07 139.382 2243.08 141.581 Q2241.09 143.78 2241.09 147.576 L2241.09 162.229 L2236.8 162.229 L2236.8 136.303 L2241.09 136.303 L2241.09 140.331 Q2242.61 137.993 2244.67 136.835 Q2246.76 135.678 2249.47 135.678 Q2253.93 135.678 2256.23 138.456 Q2258.52 141.21 2258.52 146.581 Z\" fill=\"#000000\" fill-rule=\"nonzero\" fill-opacity=\"1\" /></svg>\n"
      ],
      "text/html": [
       "<?xml version=\"1.0\" encoding=\"utf-8\"?>\n",
       "<svg xmlns=\"http://www.w3.org/2000/svg\" xmlns:xlink=\"http://www.w3.org/1999/xlink\" width=\"600\" height=\"400\" viewBox=\"0 0 2400 1600\">\n",
       "<defs>\n",
       "  <clipPath id=\"clip100\">\n",
       "    <rect x=\"0\" y=\"0\" width=\"2400\" height=\"1600\"/>\n",
       "  </clipPath>\n",
       "</defs>\n",
       "<path clip-path=\"url(#clip100)\" d=\"M0 1600 L2400 1600 L2400 0 L0 0  Z\" fill=\"#ffffff\" fill-rule=\"evenodd\" fill-opacity=\"1\"/>\n",
       "<defs>\n",
       "  <clipPath id=\"clip101\">\n",
       "    <rect x=\"480\" y=\"0\" width=\"1681\" height=\"1600\"/>\n",
       "  </clipPath>\n",
       "</defs>\n",
       "<path clip-path=\"url(#clip100)\" d=\"M232.389 1423.18 L2352.76 1423.18 L2352.76 47.2441 L232.389 47.2441  Z\" fill=\"#ffffff\" fill-rule=\"evenodd\" fill-opacity=\"1\"/>\n",
       "<defs>\n",
       "  <clipPath id=\"clip102\">\n",
       "    <rect x=\"232\" y=\"47\" width=\"2121\" height=\"1377\"/>\n",
       "  </clipPath>\n",
       "</defs>\n",
       "<polyline clip-path=\"url(#clip102)\" style=\"stroke:#000000; stroke-linecap:round; stroke-linejoin:round; stroke-width:2; stroke-opacity:0.1; fill:none\" points=\"349.013,1423.18 349.013,47.2441 \"/>\n",
       "<polyline clip-path=\"url(#clip102)\" style=\"stroke:#000000; stroke-linecap:round; stroke-linejoin:round; stroke-width:2; stroke-opacity:0.1; fill:none\" points=\"668.864,1423.18 668.864,47.2441 \"/>\n",
       "<polyline clip-path=\"url(#clip102)\" style=\"stroke:#000000; stroke-linecap:round; stroke-linejoin:round; stroke-width:2; stroke-opacity:0.1; fill:none\" points=\"988.715,1423.18 988.715,47.2441 \"/>\n",
       "<polyline clip-path=\"url(#clip102)\" style=\"stroke:#000000; stroke-linecap:round; stroke-linejoin:round; stroke-width:2; stroke-opacity:0.1; fill:none\" points=\"1308.57,1423.18 1308.57,47.2441 \"/>\n",
       "<polyline clip-path=\"url(#clip102)\" style=\"stroke:#000000; stroke-linecap:round; stroke-linejoin:round; stroke-width:2; stroke-opacity:0.1; fill:none\" points=\"1628.42,1423.18 1628.42,47.2441 \"/>\n",
       "<polyline clip-path=\"url(#clip102)\" style=\"stroke:#000000; stroke-linecap:round; stroke-linejoin:round; stroke-width:2; stroke-opacity:0.1; fill:none\" points=\"1948.27,1423.18 1948.27,47.2441 \"/>\n",
       "<polyline clip-path=\"url(#clip102)\" style=\"stroke:#000000; stroke-linecap:round; stroke-linejoin:round; stroke-width:2; stroke-opacity:0.1; fill:none\" points=\"2268.12,1423.18 2268.12,47.2441 \"/>\n",
       "<polyline clip-path=\"url(#clip100)\" style=\"stroke:#000000; stroke-linecap:round; stroke-linejoin:round; stroke-width:4; stroke-opacity:1; fill:none\" points=\"232.389,1423.18 2352.76,1423.18 \"/>\n",
       "<polyline clip-path=\"url(#clip100)\" style=\"stroke:#000000; stroke-linecap:round; stroke-linejoin:round; stroke-width:4; stroke-opacity:1; fill:none\" points=\"349.013,1423.18 349.013,1404.28 \"/>\n",
       "<polyline clip-path=\"url(#clip100)\" style=\"stroke:#000000; stroke-linecap:round; stroke-linejoin:round; stroke-width:4; stroke-opacity:1; fill:none\" points=\"668.864,1423.18 668.864,1404.28 \"/>\n",
       "<polyline clip-path=\"url(#clip100)\" style=\"stroke:#000000; stroke-linecap:round; stroke-linejoin:round; stroke-width:4; stroke-opacity:1; fill:none\" points=\"988.715,1423.18 988.715,1404.28 \"/>\n",
       "<polyline clip-path=\"url(#clip100)\" style=\"stroke:#000000; stroke-linecap:round; stroke-linejoin:round; stroke-width:4; stroke-opacity:1; fill:none\" points=\"1308.57,1423.18 1308.57,1404.28 \"/>\n",
       "<polyline clip-path=\"url(#clip100)\" style=\"stroke:#000000; stroke-linecap:round; stroke-linejoin:round; stroke-width:4; stroke-opacity:1; fill:none\" points=\"1628.42,1423.18 1628.42,1404.28 \"/>\n",
       "<polyline clip-path=\"url(#clip100)\" style=\"stroke:#000000; stroke-linecap:round; stroke-linejoin:round; stroke-width:4; stroke-opacity:1; fill:none\" points=\"1948.27,1423.18 1948.27,1404.28 \"/>\n",
       "<polyline clip-path=\"url(#clip100)\" style=\"stroke:#000000; stroke-linecap:round; stroke-linejoin:round; stroke-width:4; stroke-opacity:1; fill:none\" points=\"2268.12,1423.18 2268.12,1404.28 \"/>\n",
       "<path clip-path=\"url(#clip100)\" d=\"M349.013 1454.1 Q345.402 1454.1 343.573 1457.66 Q341.768 1461.2 341.768 1468.33 Q341.768 1475.44 343.573 1479.01 Q345.402 1482.55 349.013 1482.55 Q352.648 1482.55 354.453 1479.01 Q356.282 1475.44 356.282 1468.33 Q356.282 1461.2 354.453 1457.66 Q352.648 1454.1 349.013 1454.1 M349.013 1450.39 Q354.823 1450.39 357.879 1455 Q360.958 1459.58 360.958 1468.33 Q360.958 1477.06 357.879 1481.67 Q354.823 1486.25 349.013 1486.25 Q343.203 1486.25 340.124 1481.67 Q337.069 1477.06 337.069 1468.33 Q337.069 1459.58 340.124 1455 Q343.203 1450.39 349.013 1450.39 Z\" fill=\"#000000\" fill-rule=\"nonzero\" fill-opacity=\"1\" /><path clip-path=\"url(#clip100)\" d=\"M647.637 1481.64 L663.957 1481.64 L663.957 1485.58 L642.012 1485.58 L642.012 1481.64 Q644.674 1478.89 649.258 1474.26 Q653.864 1469.61 655.045 1468.27 Q657.29 1465.74 658.17 1464.01 Q659.072 1462.25 659.072 1460.56 Q659.072 1457.8 657.128 1456.07 Q655.207 1454.33 652.105 1454.33 Q649.906 1454.33 647.452 1455.09 Q645.021 1455.86 642.244 1457.41 L642.244 1452.69 Q645.068 1451.55 647.521 1450.97 Q649.975 1450.39 652.012 1450.39 Q657.382 1450.39 660.577 1453.08 Q663.771 1455.77 663.771 1460.26 Q663.771 1462.39 662.961 1464.31 Q662.174 1466.2 660.068 1468.8 Q659.489 1469.47 656.387 1472.69 Q653.285 1475.88 647.637 1481.64 Z\" fill=\"#000000\" fill-rule=\"nonzero\" fill-opacity=\"1\" /><path clip-path=\"url(#clip100)\" d=\"M683.771 1454.1 Q680.16 1454.1 678.331 1457.66 Q676.526 1461.2 676.526 1468.33 Q676.526 1475.44 678.331 1479.01 Q680.16 1482.55 683.771 1482.55 Q687.405 1482.55 689.211 1479.01 Q691.04 1475.44 691.04 1468.33 Q691.04 1461.2 689.211 1457.66 Q687.405 1454.1 683.771 1454.1 M683.771 1450.39 Q689.581 1450.39 692.637 1455 Q695.716 1459.58 695.716 1468.33 Q695.716 1477.06 692.637 1481.67 Q689.581 1486.25 683.771 1486.25 Q677.961 1486.25 674.882 1481.67 Q671.827 1477.06 671.827 1468.33 Q671.827 1459.58 674.882 1455 Q677.961 1450.39 683.771 1450.39 Z\" fill=\"#000000\" fill-rule=\"nonzero\" fill-opacity=\"1\" /><path clip-path=\"url(#clip100)\" d=\"M976.886 1455.09 L965.08 1473.54 L976.886 1473.54 L976.886 1455.09 M975.659 1451.02 L981.539 1451.02 L981.539 1473.54 L986.469 1473.54 L986.469 1477.43 L981.539 1477.43 L981.539 1485.58 L976.886 1485.58 L976.886 1477.43 L961.284 1477.43 L961.284 1472.92 L975.659 1451.02 Z\" fill=\"#000000\" fill-rule=\"nonzero\" fill-opacity=\"1\" /><path clip-path=\"url(#clip100)\" d=\"M1004.2 1454.1 Q1000.59 1454.1 998.761 1457.66 Q996.955 1461.2 996.955 1468.33 Q996.955 1475.44 998.761 1479.01 Q1000.59 1482.55 1004.2 1482.55 Q1007.83 1482.55 1009.64 1479.01 Q1011.47 1475.44 1011.47 1468.33 Q1011.47 1461.2 1009.64 1457.66 Q1007.83 1454.1 1004.2 1454.1 M1004.2 1450.39 Q1010.01 1450.39 1013.07 1455 Q1016.14 1459.58 1016.14 1468.33 Q1016.14 1477.06 1013.07 1481.67 Q1010.01 1486.25 1004.2 1486.25 Q998.39 1486.25 995.312 1481.67 Q992.256 1477.06 992.256 1468.33 Q992.256 1459.58 995.312 1455 Q998.39 1450.39 1004.2 1450.39 Z\" fill=\"#000000\" fill-rule=\"nonzero\" fill-opacity=\"1\" /><path clip-path=\"url(#clip100)\" d=\"M1293.97 1466.44 Q1290.82 1466.44 1288.97 1468.59 Q1287.14 1470.74 1287.14 1474.49 Q1287.14 1478.22 1288.97 1480.39 Q1290.82 1482.55 1293.97 1482.55 Q1297.12 1482.55 1298.95 1480.39 Q1300.8 1478.22 1300.8 1474.49 Q1300.8 1470.74 1298.95 1468.59 Q1297.12 1466.44 1293.97 1466.44 M1303.25 1451.78 L1303.25 1456.04 Q1301.49 1455.21 1299.69 1454.77 Q1297.91 1454.33 1296.15 1454.33 Q1291.52 1454.33 1289.06 1457.45 Q1286.63 1460.58 1286.29 1466.9 Q1287.65 1464.89 1289.71 1463.82 Q1291.77 1462.73 1294.25 1462.73 Q1299.46 1462.73 1302.47 1465.9 Q1305.5 1469.05 1305.5 1474.49 Q1305.5 1479.82 1302.35 1483.03 Q1299.2 1486.25 1293.97 1486.25 Q1287.97 1486.25 1284.8 1481.67 Q1281.63 1477.06 1281.63 1468.33 Q1281.63 1460.14 1285.52 1455.28 Q1289.41 1450.39 1295.96 1450.39 Q1297.72 1450.39 1299.5 1450.74 Q1301.31 1451.09 1303.25 1451.78 Z\" fill=\"#000000\" fill-rule=\"nonzero\" fill-opacity=\"1\" /><path clip-path=\"url(#clip100)\" d=\"M1323.55 1454.1 Q1319.94 1454.1 1318.11 1457.66 Q1316.31 1461.2 1316.31 1468.33 Q1316.31 1475.44 1318.11 1479.01 Q1319.94 1482.55 1323.55 1482.55 Q1327.19 1482.55 1328.99 1479.01 Q1330.82 1475.44 1330.82 1468.33 Q1330.82 1461.2 1328.99 1457.66 Q1327.19 1454.1 1323.55 1454.1 M1323.55 1450.39 Q1329.36 1450.39 1332.42 1455 Q1335.5 1459.58 1335.5 1468.33 Q1335.5 1477.06 1332.42 1481.67 Q1329.36 1486.25 1323.55 1486.25 Q1317.74 1486.25 1314.66 1481.67 Q1311.61 1477.06 1311.61 1468.33 Q1311.61 1459.58 1314.66 1455 Q1317.74 1450.39 1323.55 1450.39 Z\" fill=\"#000000\" fill-rule=\"nonzero\" fill-opacity=\"1\" /><path clip-path=\"url(#clip100)\" d=\"M1613.29 1469.17 Q1609.96 1469.17 1608.03 1470.95 Q1606.14 1472.73 1606.14 1475.86 Q1606.14 1478.98 1608.03 1480.77 Q1609.96 1482.55 1613.29 1482.55 Q1616.62 1482.55 1618.54 1480.77 Q1620.46 1478.96 1620.46 1475.86 Q1620.46 1472.73 1618.54 1470.95 Q1616.65 1469.17 1613.29 1469.17 M1608.61 1467.18 Q1605.6 1466.44 1603.91 1464.38 Q1602.25 1462.32 1602.25 1459.35 Q1602.25 1455.21 1605.19 1452.8 Q1608.15 1450.39 1613.29 1450.39 Q1618.45 1450.39 1621.39 1452.8 Q1624.33 1455.21 1624.33 1459.35 Q1624.33 1462.32 1622.64 1464.38 Q1620.97 1466.44 1617.99 1467.18 Q1621.37 1467.96 1623.24 1470.26 Q1625.14 1472.55 1625.14 1475.86 Q1625.14 1480.88 1622.06 1483.57 Q1619.01 1486.25 1613.29 1486.25 Q1607.57 1486.25 1604.49 1483.57 Q1601.44 1480.88 1601.44 1475.86 Q1601.44 1472.55 1603.33 1470.26 Q1605.23 1467.96 1608.61 1467.18 M1606.9 1459.79 Q1606.9 1462.48 1608.57 1463.98 Q1610.26 1465.49 1613.29 1465.49 Q1616.3 1465.49 1617.99 1463.98 Q1619.7 1462.48 1619.7 1459.79 Q1619.7 1457.11 1617.99 1455.6 Q1616.3 1454.1 1613.29 1454.1 Q1610.26 1454.1 1608.57 1455.6 Q1606.9 1457.11 1606.9 1459.79 Z\" fill=\"#000000\" fill-rule=\"nonzero\" fill-opacity=\"1\" /><path clip-path=\"url(#clip100)\" d=\"M1643.45 1454.1 Q1639.84 1454.1 1638.01 1457.66 Q1636.21 1461.2 1636.21 1468.33 Q1636.21 1475.44 1638.01 1479.01 Q1639.84 1482.55 1643.45 1482.55 Q1647.08 1482.55 1648.89 1479.01 Q1650.72 1475.44 1650.72 1468.33 Q1650.72 1461.2 1648.89 1457.66 Q1647.08 1454.1 1643.45 1454.1 M1643.45 1450.39 Q1649.26 1450.39 1652.32 1455 Q1655.39 1459.58 1655.39 1468.33 Q1655.39 1477.06 1652.32 1481.67 Q1649.26 1486.25 1643.45 1486.25 Q1637.64 1486.25 1634.56 1481.67 Q1631.51 1477.06 1631.51 1468.33 Q1631.51 1459.58 1634.56 1455 Q1637.64 1450.39 1643.45 1450.39 Z\" fill=\"#000000\" fill-rule=\"nonzero\" fill-opacity=\"1\" /><path clip-path=\"url(#clip100)\" d=\"M1907.87 1481.64 L1915.51 1481.64 L1915.51 1455.28 L1907.2 1456.95 L1907.2 1452.69 L1915.47 1451.02 L1920.14 1451.02 L1920.14 1481.64 L1927.78 1481.64 L1927.78 1485.58 L1907.87 1485.58 L1907.87 1481.64 Z\" fill=\"#000000\" fill-rule=\"nonzero\" fill-opacity=\"1\" /><path clip-path=\"url(#clip100)\" d=\"M1947.22 1454.1 Q1943.61 1454.1 1941.78 1457.66 Q1939.98 1461.2 1939.98 1468.33 Q1939.98 1475.44 1941.78 1479.01 Q1943.61 1482.55 1947.22 1482.55 Q1950.86 1482.55 1952.66 1479.01 Q1954.49 1475.44 1954.49 1468.33 Q1954.49 1461.2 1952.66 1457.66 Q1950.86 1454.1 1947.22 1454.1 M1947.22 1450.39 Q1953.03 1450.39 1956.09 1455 Q1959.17 1459.58 1959.17 1468.33 Q1959.17 1477.06 1956.09 1481.67 Q1953.03 1486.25 1947.22 1486.25 Q1941.41 1486.25 1938.34 1481.67 Q1935.28 1477.06 1935.28 1468.33 Q1935.28 1459.58 1938.34 1455 Q1941.41 1450.39 1947.22 1450.39 Z\" fill=\"#000000\" fill-rule=\"nonzero\" fill-opacity=\"1\" /><path clip-path=\"url(#clip100)\" d=\"M1977.39 1454.1 Q1973.78 1454.1 1971.95 1457.66 Q1970.14 1461.2 1970.14 1468.33 Q1970.14 1475.44 1971.95 1479.01 Q1973.78 1482.55 1977.39 1482.55 Q1981.02 1482.55 1982.83 1479.01 Q1984.66 1475.44 1984.66 1468.33 Q1984.66 1461.2 1982.83 1457.66 Q1981.02 1454.1 1977.39 1454.1 M1977.39 1450.39 Q1983.2 1450.39 1986.25 1455 Q1989.33 1459.58 1989.33 1468.33 Q1989.33 1477.06 1986.25 1481.67 Q1983.2 1486.25 1977.39 1486.25 Q1971.58 1486.25 1968.5 1481.67 Q1965.44 1477.06 1965.44 1468.33 Q1965.44 1459.58 1968.5 1455 Q1971.58 1450.39 1977.39 1450.39 Z\" fill=\"#000000\" fill-rule=\"nonzero\" fill-opacity=\"1\" /><path clip-path=\"url(#clip100)\" d=\"M2227.72 1481.64 L2235.36 1481.64 L2235.36 1455.28 L2227.05 1456.95 L2227.05 1452.69 L2235.32 1451.02 L2239.99 1451.02 L2239.99 1481.64 L2247.63 1481.64 L2247.63 1485.58 L2227.72 1485.58 L2227.72 1481.64 Z\" fill=\"#000000\" fill-rule=\"nonzero\" fill-opacity=\"1\" /><path clip-path=\"url(#clip100)\" d=\"M2261.1 1481.64 L2277.42 1481.64 L2277.42 1485.58 L2255.48 1485.58 L2255.48 1481.64 Q2258.14 1478.89 2262.72 1474.26 Q2267.33 1469.61 2268.51 1468.27 Q2270.76 1465.74 2271.64 1464.01 Q2272.54 1462.25 2272.54 1460.56 Q2272.54 1457.8 2270.59 1456.07 Q2268.67 1454.33 2265.57 1454.33 Q2263.37 1454.33 2260.92 1455.09 Q2258.49 1455.86 2255.71 1457.41 L2255.71 1452.69 Q2258.53 1451.55 2260.99 1450.97 Q2263.44 1450.39 2265.48 1450.39 Q2270.85 1450.39 2274.04 1453.08 Q2277.24 1455.77 2277.24 1460.26 Q2277.24 1462.39 2276.43 1464.31 Q2275.64 1466.2 2273.53 1468.8 Q2272.95 1469.47 2269.85 1472.69 Q2266.75 1475.88 2261.1 1481.64 Z\" fill=\"#000000\" fill-rule=\"nonzero\" fill-opacity=\"1\" /><path clip-path=\"url(#clip100)\" d=\"M2297.24 1454.1 Q2293.63 1454.1 2291.8 1457.66 Q2289.99 1461.2 2289.99 1468.33 Q2289.99 1475.44 2291.8 1479.01 Q2293.63 1482.55 2297.24 1482.55 Q2300.87 1482.55 2302.68 1479.01 Q2304.51 1475.44 2304.51 1468.33 Q2304.51 1461.2 2302.68 1457.66 Q2300.87 1454.1 2297.24 1454.1 M2297.24 1450.39 Q2303.05 1450.39 2306.1 1455 Q2309.18 1459.58 2309.18 1468.33 Q2309.18 1477.06 2306.1 1481.67 Q2303.05 1486.25 2297.24 1486.25 Q2291.43 1486.25 2288.35 1481.67 Q2285.29 1477.06 2285.29 1468.33 Q2285.29 1459.58 2288.35 1455 Q2291.43 1450.39 2297.24 1450.39 Z\" fill=\"#000000\" fill-rule=\"nonzero\" fill-opacity=\"1\" /><path clip-path=\"url(#clip100)\" d=\"M1180.03 1522.27 L1180.03 1532.4 L1192.09 1532.4 L1192.09 1536.95 L1180.03 1536.95 L1180.03 1556.3 Q1180.03 1560.66 1181.2 1561.9 Q1182.41 1563.14 1186.07 1563.14 L1192.09 1563.14 L1192.09 1568.04 L1186.07 1568.04 Q1179.29 1568.04 1176.72 1565.53 Q1174.14 1562.98 1174.14 1556.3 L1174.14 1536.95 L1169.84 1536.95 L1169.84 1532.4 L1174.14 1532.4 L1174.14 1522.27 L1180.03 1522.27 Z\" fill=\"#000000\" fill-rule=\"nonzero\" fill-opacity=\"1\" /><path clip-path=\"url(#clip100)\" d=\"M1199.79 1532.4 L1205.65 1532.4 L1205.65 1568.04 L1199.79 1568.04 L1199.79 1532.4 M1199.79 1518.52 L1205.65 1518.52 L1205.65 1525.93 L1199.79 1525.93 L1199.79 1518.52 Z\" fill=\"#000000\" fill-rule=\"nonzero\" fill-opacity=\"1\" /><path clip-path=\"url(#clip100)\" d=\"M1245.66 1539.24 Q1247.85 1535.29 1250.91 1533.41 Q1253.96 1531.54 1258.1 1531.54 Q1263.67 1531.54 1266.7 1535.45 Q1269.72 1539.33 1269.72 1546.53 L1269.72 1568.04 L1263.83 1568.04 L1263.83 1546.72 Q1263.83 1541.59 1262.02 1539.11 Q1260.2 1536.63 1256.48 1536.63 Q1251.93 1536.63 1249.29 1539.65 Q1246.64 1542.68 1246.64 1547.9 L1246.64 1568.04 L1240.76 1568.04 L1240.76 1546.72 Q1240.76 1541.56 1238.94 1539.11 Q1237.13 1536.63 1233.34 1536.63 Q1228.85 1536.63 1226.21 1539.68 Q1223.57 1542.71 1223.57 1547.9 L1223.57 1568.04 L1217.68 1568.04 L1217.68 1532.4 L1223.57 1532.4 L1223.57 1537.93 Q1225.57 1534.66 1228.37 1533.1 Q1231.18 1531.54 1235.03 1531.54 Q1238.91 1531.54 1241.62 1533.51 Q1244.35 1535.48 1245.66 1539.24 Z\" fill=\"#000000\" fill-rule=\"nonzero\" fill-opacity=\"1\" /><path clip-path=\"url(#clip100)\" d=\"M1311.89 1548.76 L1311.89 1551.62 L1284.97 1551.62 Q1285.35 1557.67 1288.59 1560.85 Q1291.87 1564 1297.7 1564 Q1301.07 1564 1304.22 1563.17 Q1307.4 1562.35 1310.52 1560.69 L1310.52 1566.23 Q1307.37 1567.57 1304.06 1568.27 Q1300.75 1568.97 1297.35 1568.97 Q1288.82 1568.97 1283.82 1564 Q1278.85 1559.04 1278.85 1550.57 Q1278.85 1541.82 1283.57 1536.69 Q1288.31 1531.54 1296.33 1531.54 Q1303.52 1531.54 1307.69 1536.18 Q1311.89 1540.8 1311.89 1548.76 M1306.04 1547.04 Q1305.97 1542.23 1303.33 1539.37 Q1300.72 1536.5 1296.39 1536.5 Q1291.49 1536.5 1288.53 1539.27 Q1285.6 1542.04 1285.16 1547.07 L1306.04 1547.04 Z\" fill=\"#000000\" fill-rule=\"nonzero\" fill-opacity=\"1\" /><path clip-path=\"url(#clip100)\" d=\"M1356.29 1518.58 Q1352.03 1525.9 1349.96 1533.06 Q1347.89 1540.23 1347.89 1547.58 Q1347.89 1554.93 1349.96 1562.16 Q1352.06 1569.35 1356.29 1576.64 L1351.2 1576.64 Q1346.43 1569.16 1344.04 1561.93 Q1341.68 1554.71 1341.68 1547.58 Q1341.68 1540.48 1344.04 1533.29 Q1346.39 1526.09 1351.2 1518.58 L1356.29 1518.58 Z\" fill=\"#000000\" fill-rule=\"nonzero\" fill-opacity=\"1\" /><path clip-path=\"url(#clip100)\" d=\"M1390.38 1533.45 L1390.38 1538.98 Q1387.9 1537.71 1385.23 1537.07 Q1382.55 1536.44 1379.69 1536.44 Q1375.33 1536.44 1373.13 1537.77 Q1370.97 1539.11 1370.97 1541.79 Q1370.97 1543.82 1372.53 1545 Q1374.09 1546.15 1378.8 1547.2 L1380.8 1547.64 Q1387.04 1548.98 1389.65 1551.43 Q1392.29 1553.85 1392.29 1558.21 Q1392.29 1563.17 1388.34 1566.07 Q1384.43 1568.97 1377.55 1568.97 Q1374.69 1568.97 1371.57 1568.39 Q1368.48 1567.85 1365.05 1566.74 L1365.05 1560.69 Q1368.29 1562.38 1371.44 1563.24 Q1374.59 1564.07 1377.68 1564.07 Q1381.82 1564.07 1384.05 1562.66 Q1386.28 1561.23 1386.28 1558.65 Q1386.28 1556.27 1384.65 1554.99 Q1383.06 1553.72 1377.62 1552.54 L1375.58 1552.07 Q1370.14 1550.92 1367.72 1548.56 Q1365.3 1546.18 1365.3 1542.04 Q1365.3 1537.01 1368.87 1534.27 Q1372.43 1531.54 1378.99 1531.54 Q1382.23 1531.54 1385.1 1532.01 Q1387.96 1532.49 1390.38 1533.45 Z\" fill=\"#000000\" fill-rule=\"nonzero\" fill-opacity=\"1\" /><path clip-path=\"url(#clip100)\" d=\"M1400.69 1518.58 L1405.79 1518.58 Q1410.56 1526.09 1412.92 1533.29 Q1415.3 1540.48 1415.3 1547.58 Q1415.3 1554.71 1412.92 1561.93 Q1410.56 1569.16 1405.79 1576.64 L1400.69 1576.64 Q1404.93 1569.35 1407 1562.16 Q1409.1 1554.93 1409.1 1547.58 Q1409.1 1540.23 1407 1533.06 Q1404.93 1525.9 1400.69 1518.58 Z\" fill=\"#000000\" fill-rule=\"nonzero\" fill-opacity=\"1\" /><polyline clip-path=\"url(#clip102)\" style=\"stroke:#000000; stroke-linecap:round; stroke-linejoin:round; stroke-width:2; stroke-opacity:0.1; fill:none\" points=\"232.389,1384.24 2352.76,1384.24 \"/>\n",
       "<polyline clip-path=\"url(#clip102)\" style=\"stroke:#000000; stroke-linecap:round; stroke-linejoin:round; stroke-width:2; stroke-opacity:0.1; fill:none\" points=\"232.389,1000.2 2352.76,1000.2 \"/>\n",
       "<polyline clip-path=\"url(#clip102)\" style=\"stroke:#000000; stroke-linecap:round; stroke-linejoin:round; stroke-width:2; stroke-opacity:0.1; fill:none\" points=\"232.389,616.16 2352.76,616.16 \"/>\n",
       "<polyline clip-path=\"url(#clip102)\" style=\"stroke:#000000; stroke-linecap:round; stroke-linejoin:round; stroke-width:2; stroke-opacity:0.1; fill:none\" points=\"232.389,232.121 2352.76,232.121 \"/>\n",
       "<polyline clip-path=\"url(#clip100)\" style=\"stroke:#000000; stroke-linecap:round; stroke-linejoin:round; stroke-width:4; stroke-opacity:1; fill:none\" points=\"232.389,1423.18 232.389,47.2441 \"/>\n",
       "<polyline clip-path=\"url(#clip100)\" style=\"stroke:#000000; stroke-linecap:round; stroke-linejoin:round; stroke-width:4; stroke-opacity:1; fill:none\" points=\"232.389,1384.24 251.287,1384.24 \"/>\n",
       "<polyline clip-path=\"url(#clip100)\" style=\"stroke:#000000; stroke-linecap:round; stroke-linejoin:round; stroke-width:4; stroke-opacity:1; fill:none\" points=\"232.389,1000.2 251.287,1000.2 \"/>\n",
       "<polyline clip-path=\"url(#clip100)\" style=\"stroke:#000000; stroke-linecap:round; stroke-linejoin:round; stroke-width:4; stroke-opacity:1; fill:none\" points=\"232.389,616.16 251.287,616.16 \"/>\n",
       "<polyline clip-path=\"url(#clip100)\" style=\"stroke:#000000; stroke-linecap:round; stroke-linejoin:round; stroke-width:4; stroke-opacity:1; fill:none\" points=\"232.389,232.121 251.287,232.121 \"/>\n",
       "<path clip-path=\"url(#clip100)\" d=\"M184.445 1370.04 Q180.834 1370.04 179.005 1373.6 Q177.2 1377.14 177.2 1384.27 Q177.2 1391.38 179.005 1394.94 Q180.834 1398.49 184.445 1398.49 Q188.079 1398.49 189.885 1394.94 Q191.713 1391.38 191.713 1384.27 Q191.713 1377.14 189.885 1373.6 Q188.079 1370.04 184.445 1370.04 M184.445 1366.33 Q190.255 1366.33 193.311 1370.94 Q196.389 1375.52 196.389 1384.27 Q196.389 1393 193.311 1397.61 Q190.255 1402.19 184.445 1402.19 Q178.635 1402.19 175.556 1397.61 Q172.501 1393 172.501 1384.27 Q172.501 1375.52 175.556 1370.94 Q178.635 1366.33 184.445 1366.33 Z\" fill=\"#000000\" fill-rule=\"nonzero\" fill-opacity=\"1\" /><path clip-path=\"url(#clip100)\" d=\"M144.329 982.919 L162.686 982.919 L162.686 986.854 L148.612 986.854 L148.612 995.326 Q149.63 994.979 150.649 994.817 Q151.667 994.632 152.686 994.632 Q158.473 994.632 161.852 997.803 Q165.232 1000.97 165.232 1006.39 Q165.232 1011.97 161.76 1015.07 Q158.288 1018.15 151.968 1018.15 Q149.792 1018.15 147.524 1017.78 Q145.279 1017.41 142.871 1016.67 L142.871 1011.97 Q144.954 1013.1 147.177 1013.66 Q149.399 1014.22 151.876 1014.22 Q155.88 1014.22 158.218 1012.11 Q160.556 1010 160.556 1006.39 Q160.556 1002.78 158.218 1000.67 Q155.88 998.567 151.876 998.567 Q150.001 998.567 148.126 998.984 Q146.274 999.4 144.329 1000.28 L144.329 982.919 Z\" fill=\"#000000\" fill-rule=\"nonzero\" fill-opacity=\"1\" /><path clip-path=\"url(#clip100)\" d=\"M184.445 985.998 Q180.834 985.998 179.005 989.563 Q177.2 993.104 177.2 1000.23 Q177.2 1007.34 179.005 1010.9 Q180.834 1014.45 184.445 1014.45 Q188.079 1014.45 189.885 1010.9 Q191.713 1007.34 191.713 1000.23 Q191.713 993.104 189.885 989.563 Q188.079 985.998 184.445 985.998 M184.445 982.294 Q190.255 982.294 193.311 986.9 Q196.389 991.484 196.389 1000.23 Q196.389 1008.96 193.311 1013.57 Q190.255 1018.15 184.445 1018.15 Q178.635 1018.15 175.556 1013.57 Q172.501 1008.96 172.501 1000.23 Q172.501 991.484 175.556 986.9 Q178.635 982.294 184.445 982.294 Z\" fill=\"#000000\" fill-rule=\"nonzero\" fill-opacity=\"1\" /><path clip-path=\"url(#clip100)\" d=\"M114.931 629.505 L122.57 629.505 L122.57 603.139 L114.26 604.806 L114.26 600.546 L122.524 598.88 L127.2 598.88 L127.2 629.505 L134.839 629.505 L134.839 633.44 L114.931 633.44 L114.931 629.505 Z\" fill=\"#000000\" fill-rule=\"nonzero\" fill-opacity=\"1\" /><path clip-path=\"url(#clip100)\" d=\"M154.283 601.958 Q150.672 601.958 148.843 605.523 Q147.038 609.065 147.038 616.195 Q147.038 623.301 148.843 626.866 Q150.672 630.407 154.283 630.407 Q157.917 630.407 159.723 626.866 Q161.552 623.301 161.552 616.195 Q161.552 609.065 159.723 605.523 Q157.917 601.958 154.283 601.958 M154.283 598.255 Q160.093 598.255 163.149 602.861 Q166.227 607.445 166.227 616.195 Q166.227 624.921 163.149 629.528 Q160.093 634.111 154.283 634.111 Q148.473 634.111 145.394 629.528 Q142.339 624.921 142.339 616.195 Q142.339 607.445 145.394 602.861 Q148.473 598.255 154.283 598.255 Z\" fill=\"#000000\" fill-rule=\"nonzero\" fill-opacity=\"1\" /><path clip-path=\"url(#clip100)\" d=\"M184.445 601.958 Q180.834 601.958 179.005 605.523 Q177.2 609.065 177.2 616.195 Q177.2 623.301 179.005 626.866 Q180.834 630.407 184.445 630.407 Q188.079 630.407 189.885 626.866 Q191.713 623.301 191.713 616.195 Q191.713 609.065 189.885 605.523 Q188.079 601.958 184.445 601.958 M184.445 598.255 Q190.255 598.255 193.311 602.861 Q196.389 607.445 196.389 616.195 Q196.389 624.921 193.311 629.528 Q190.255 634.111 184.445 634.111 Q178.635 634.111 175.556 629.528 Q172.501 624.921 172.501 616.195 Q172.501 607.445 175.556 602.861 Q178.635 598.255 184.445 598.255 Z\" fill=\"#000000\" fill-rule=\"nonzero\" fill-opacity=\"1\" /><path clip-path=\"url(#clip100)\" d=\"M114.931 245.465 L122.57 245.465 L122.57 219.1 L114.26 220.766 L114.26 216.507 L122.524 214.841 L127.2 214.841 L127.2 245.465 L134.839 245.465 L134.839 249.401 L114.931 249.401 L114.931 245.465 Z\" fill=\"#000000\" fill-rule=\"nonzero\" fill-opacity=\"1\" /><path clip-path=\"url(#clip100)\" d=\"M144.329 214.841 L162.686 214.841 L162.686 218.776 L148.612 218.776 L148.612 227.248 Q149.63 226.901 150.649 226.739 Q151.667 226.553 152.686 226.553 Q158.473 226.553 161.852 229.725 Q165.232 232.896 165.232 238.313 Q165.232 243.891 161.76 246.993 Q158.288 250.072 151.968 250.072 Q149.792 250.072 147.524 249.702 Q145.279 249.331 142.871 248.59 L142.871 243.891 Q144.954 245.026 147.177 245.581 Q149.399 246.137 151.876 246.137 Q155.88 246.137 158.218 244.03 Q160.556 241.924 160.556 238.313 Q160.556 234.702 158.218 232.595 Q155.88 230.489 151.876 230.489 Q150.001 230.489 148.126 230.905 Q146.274 231.322 144.329 232.202 L144.329 214.841 Z\" fill=\"#000000\" fill-rule=\"nonzero\" fill-opacity=\"1\" /><path clip-path=\"url(#clip100)\" d=\"M184.445 217.919 Q180.834 217.919 179.005 221.484 Q177.2 225.026 177.2 232.155 Q177.2 239.262 179.005 242.827 Q180.834 246.368 184.445 246.368 Q188.079 246.368 189.885 242.827 Q191.713 239.262 191.713 232.155 Q191.713 225.026 189.885 221.484 Q188.079 217.919 184.445 217.919 M184.445 214.216 Q190.255 214.216 193.311 218.822 Q196.389 223.405 196.389 232.155 Q196.389 240.882 193.311 245.489 Q190.255 250.072 184.445 250.072 Q178.635 250.072 175.556 245.489 Q172.501 240.882 172.501 232.155 Q172.501 223.405 175.556 218.822 Q178.635 214.216 184.445 214.216 Z\" fill=\"#000000\" fill-rule=\"nonzero\" fill-opacity=\"1\" /><path clip-path=\"url(#clip100)\" d=\"M29.7248 796.386 L35.1993 796.386 Q33.8307 798.869 33.1623 801.383 Q32.4621 803.866 32.4621 806.412 Q32.4621 812.11 36.0905 815.261 Q39.6872 818.412 46.212 818.412 Q52.7369 818.412 56.3653 815.261 Q59.9619 812.11 59.9619 806.412 Q59.9619 803.866 59.2935 801.383 Q58.5933 798.869 57.2247 796.386 L62.6355 796.386 Q63.7814 798.837 64.3543 801.479 Q64.9272 804.089 64.9272 807.049 Q64.9272 815.102 59.8664 819.844 Q54.8057 824.586 46.212 824.586 Q37.491 824.586 32.4939 819.812 Q27.4968 815.006 27.4968 806.667 Q27.4968 803.962 28.0697 801.383 Q28.6108 798.805 29.7248 796.386 Z\" fill=\"#000000\" fill-rule=\"nonzero\" fill-opacity=\"1\" /><path clip-path=\"url(#clip100)\" d=\"M32.4621 772.388 Q32.4621 777.098 36.1542 779.836 Q39.8145 782.573 46.212 782.573 Q52.6095 782.573 56.3017 779.867 Q59.9619 777.13 59.9619 772.388 Q59.9619 767.709 56.2698 764.972 Q52.5777 762.234 46.212 762.234 Q39.8781 762.234 36.186 764.972 Q32.4621 767.709 32.4621 772.388 M27.4968 772.388 Q27.4968 764.749 32.4621 760.388 Q37.4273 756.028 46.212 756.028 Q54.9649 756.028 59.9619 760.388 Q64.9272 764.749 64.9272 772.388 Q64.9272 780.058 59.9619 784.419 Q54.9649 788.748 46.212 788.748 Q37.4273 788.748 32.4621 784.419 Q27.4968 780.058 27.4968 772.388 Z\" fill=\"#000000\" fill-rule=\"nonzero\" fill-opacity=\"1\" /><path clip-path=\"url(#clip100)\" d=\"M49.9359 746.925 L28.3562 746.925 L28.3562 741.068 L49.7131 741.068 Q54.7739 741.068 57.3202 739.095 Q59.8346 737.122 59.8346 733.175 Q59.8346 728.432 56.8109 725.695 Q53.7872 722.926 48.5673 722.926 L28.3562 722.926 L28.3562 717.07 L64.0042 717.07 L64.0042 722.926 L58.5296 722.926 Q61.7762 725.059 63.3676 727.891 Q64.9272 730.692 64.9272 734.416 Q64.9272 740.559 61.1078 743.742 Q57.2883 746.925 49.9359 746.925 M27.4968 732.188 L27.4968 732.188 Z\" fill=\"#000000\" fill-rule=\"nonzero\" fill-opacity=\"1\" /><path clip-path=\"url(#clip100)\" d=\"M42.4881 675.374 L64.0042 675.374 L64.0042 681.231 L42.679 681.231 Q37.6183 681.231 35.1038 683.204 Q32.5894 685.178 32.5894 689.124 Q32.5894 693.867 35.6131 696.604 Q38.6368 699.341 43.8567 699.341 L64.0042 699.341 L64.0042 705.229 L28.3562 705.229 L28.3562 699.341 L33.8944 699.341 Q30.6797 697.241 29.0883 694.408 Q27.4968 691.543 27.4968 687.819 Q27.4968 681.676 31.3163 678.525 Q35.1038 675.374 42.4881 675.374 Z\" fill=\"#000000\" fill-rule=\"nonzero\" fill-opacity=\"1\" /><path clip-path=\"url(#clip100)\" d=\"M18.2347 657.9 L28.3562 657.9 L28.3562 645.837 L32.9077 645.837 L32.9077 657.9 L52.2594 657.9 Q56.6199 657.9 57.8613 656.723 Q59.1026 655.513 59.1026 651.853 L59.1026 645.837 L64.0042 645.837 L64.0042 651.853 Q64.0042 658.633 61.4897 661.211 Q58.9434 663.789 52.2594 663.789 L32.9077 663.789 L32.9077 668.086 L28.3562 668.086 L28.3562 663.789 L18.2347 663.789 L18.2347 657.9 Z\" fill=\"#000000\" fill-rule=\"nonzero\" fill-opacity=\"1\" /><path clip-path=\"url(#clip102)\" d=\"M349.013 86.1857 L349.013 1384.24 L380.998 1384.24 L380.998 86.1857 L349.013 86.1857 L349.013 86.1857  Z\" fill=\"#009af9\" fill-rule=\"evenodd\" fill-opacity=\"1\"/>\n",
       "<polyline clip-path=\"url(#clip102)\" style=\"stroke:#000000; stroke-linecap:round; stroke-linejoin:round; stroke-width:4; stroke-opacity:1; fill:none\" points=\"349.013,86.1857 349.013,1384.24 380.998,1384.24 380.998,86.1857 349.013,86.1857 \"/>\n",
       "<path clip-path=\"url(#clip102)\" d=\"M380.998 1338.15 L380.998 1384.24 L412.983 1384.24 L412.983 1338.15 L380.998 1338.15 L380.998 1338.15  Z\" fill=\"#009af9\" fill-rule=\"evenodd\" fill-opacity=\"1\"/>\n",
       "<polyline clip-path=\"url(#clip102)\" style=\"stroke:#000000; stroke-linecap:round; stroke-linejoin:round; stroke-width:4; stroke-opacity:1; fill:none\" points=\"380.998,1338.15 380.998,1384.24 412.983,1384.24 412.983,1338.15 380.998,1338.15 \"/>\n",
       "<path clip-path=\"url(#clip102)\" d=\"M412.983 1368.88 L412.983 1384.24 L444.968 1384.24 L444.968 1368.88 L412.983 1368.88 L412.983 1368.88  Z\" fill=\"#009af9\" fill-rule=\"evenodd\" fill-opacity=\"1\"/>\n",
       "<polyline clip-path=\"url(#clip102)\" style=\"stroke:#000000; stroke-linecap:round; stroke-linejoin:round; stroke-width:4; stroke-opacity:1; fill:none\" points=\"412.983,1368.88 412.983,1384.24 444.968,1384.24 444.968,1368.88 412.983,1368.88 \"/>\n",
       "<path clip-path=\"url(#clip102)\" d=\"M444.968 1368.88 L444.968 1384.24 L476.954 1384.24 L476.954 1368.88 L444.968 1368.88 L444.968 1368.88  Z\" fill=\"#009af9\" fill-rule=\"evenodd\" fill-opacity=\"1\"/>\n",
       "<polyline clip-path=\"url(#clip102)\" style=\"stroke:#000000; stroke-linecap:round; stroke-linejoin:round; stroke-width:4; stroke-opacity:1; fill:none\" points=\"444.968,1368.88 444.968,1384.24 476.954,1384.24 476.954,1368.88 444.968,1368.88 \"/>\n",
       "<path clip-path=\"url(#clip102)\" d=\"M476.954 1368.88 L476.954 1384.24 L508.939 1384.24 L508.939 1368.88 L476.954 1368.88 L476.954 1368.88  Z\" fill=\"#009af9\" fill-rule=\"evenodd\" fill-opacity=\"1\"/>\n",
       "<polyline clip-path=\"url(#clip102)\" style=\"stroke:#000000; stroke-linecap:round; stroke-linejoin:round; stroke-width:4; stroke-opacity:1; fill:none\" points=\"476.954,1368.88 476.954,1384.24 508.939,1384.24 508.939,1368.88 476.954,1368.88 \"/>\n",
       "<path clip-path=\"url(#clip102)\" d=\"M508.939 1384.24 L508.939 1384.24 L540.924 1384.24 L540.924 1384.24 L508.939 1384.24 L508.939 1384.24  Z\" fill=\"#009af9\" fill-rule=\"evenodd\" fill-opacity=\"1\"/>\n",
       "<polyline clip-path=\"url(#clip102)\" style=\"stroke:#000000; stroke-linecap:round; stroke-linejoin:round; stroke-width:4; stroke-opacity:1; fill:none\" points=\"508.939,1384.24 508.939,1384.24 540.924,1384.24 508.939,1384.24 \"/>\n",
       "<path clip-path=\"url(#clip102)\" d=\"M540.924 1376.56 L540.924 1384.24 L572.909 1384.24 L572.909 1376.56 L540.924 1376.56 L540.924 1376.56  Z\" fill=\"#009af9\" fill-rule=\"evenodd\" fill-opacity=\"1\"/>\n",
       "<polyline clip-path=\"url(#clip102)\" style=\"stroke:#000000; stroke-linecap:round; stroke-linejoin:round; stroke-width:4; stroke-opacity:1; fill:none\" points=\"540.924,1376.56 540.924,1384.24 572.909,1384.24 572.909,1376.56 540.924,1376.56 \"/>\n",
       "<path clip-path=\"url(#clip102)\" d=\"M572.909 1384.24 L572.909 1384.24 L604.894 1384.24 L604.894 1384.24 L572.909 1384.24 L572.909 1384.24  Z\" fill=\"#009af9\" fill-rule=\"evenodd\" fill-opacity=\"1\"/>\n",
       "<polyline clip-path=\"url(#clip102)\" style=\"stroke:#000000; stroke-linecap:round; stroke-linejoin:round; stroke-width:4; stroke-opacity:1; fill:none\" points=\"572.909,1384.24 572.909,1384.24 604.894,1384.24 572.909,1384.24 \"/>\n",
       "<path clip-path=\"url(#clip102)\" d=\"M604.894 1384.24 L604.894 1384.24 L636.879 1384.24 L636.879 1384.24 L604.894 1384.24 L604.894 1384.24  Z\" fill=\"#009af9\" fill-rule=\"evenodd\" fill-opacity=\"1\"/>\n",
       "<polyline clip-path=\"url(#clip102)\" style=\"stroke:#000000; stroke-linecap:round; stroke-linejoin:round; stroke-width:4; stroke-opacity:1; fill:none\" points=\"604.894,1384.24 604.894,1384.24 636.879,1384.24 604.894,1384.24 \"/>\n",
       "<path clip-path=\"url(#clip102)\" d=\"M636.879 1384.24 L636.879 1384.24 L668.864 1384.24 L668.864 1384.24 L636.879 1384.24 L636.879 1384.24  Z\" fill=\"#009af9\" fill-rule=\"evenodd\" fill-opacity=\"1\"/>\n",
       "<polyline clip-path=\"url(#clip102)\" style=\"stroke:#000000; stroke-linecap:round; stroke-linejoin:round; stroke-width:4; stroke-opacity:1; fill:none\" points=\"636.879,1384.24 636.879,1384.24 668.864,1384.24 636.879,1384.24 \"/>\n",
       "<path clip-path=\"url(#clip102)\" d=\"M668.864 1384.24 L668.864 1384.24 L700.849 1384.24 L700.849 1384.24 L668.864 1384.24 L668.864 1384.24  Z\" fill=\"#009af9\" fill-rule=\"evenodd\" fill-opacity=\"1\"/>\n",
       "<polyline clip-path=\"url(#clip102)\" style=\"stroke:#000000; stroke-linecap:round; stroke-linejoin:round; stroke-width:4; stroke-opacity:1; fill:none\" points=\"668.864,1384.24 668.864,1384.24 700.849,1384.24 668.864,1384.24 \"/>\n",
       "<path clip-path=\"url(#clip102)\" d=\"M700.849 1384.24 L700.849 1384.24 L732.834 1384.24 L732.834 1384.24 L700.849 1384.24 L700.849 1384.24  Z\" fill=\"#009af9\" fill-rule=\"evenodd\" fill-opacity=\"1\"/>\n",
       "<polyline clip-path=\"url(#clip102)\" style=\"stroke:#000000; stroke-linecap:round; stroke-linejoin:round; stroke-width:4; stroke-opacity:1; fill:none\" points=\"700.849,1384.24 700.849,1384.24 732.834,1384.24 700.849,1384.24 \"/>\n",
       "<path clip-path=\"url(#clip102)\" d=\"M732.834 1384.24 L732.834 1384.24 L764.819 1384.24 L764.819 1384.24 L732.834 1384.24 L732.834 1384.24  Z\" fill=\"#009af9\" fill-rule=\"evenodd\" fill-opacity=\"1\"/>\n",
       "<polyline clip-path=\"url(#clip102)\" style=\"stroke:#000000; stroke-linecap:round; stroke-linejoin:round; stroke-width:4; stroke-opacity:1; fill:none\" points=\"732.834,1384.24 732.834,1384.24 764.819,1384.24 732.834,1384.24 \"/>\n",
       "<path clip-path=\"url(#clip102)\" d=\"M764.819 1384.24 L764.819 1384.24 L796.804 1384.24 L796.804 1384.24 L764.819 1384.24 L764.819 1384.24  Z\" fill=\"#009af9\" fill-rule=\"evenodd\" fill-opacity=\"1\"/>\n",
       "<polyline clip-path=\"url(#clip102)\" style=\"stroke:#000000; stroke-linecap:round; stroke-linejoin:round; stroke-width:4; stroke-opacity:1; fill:none\" points=\"764.819,1384.24 764.819,1384.24 796.804,1384.24 764.819,1384.24 \"/>\n",
       "<path clip-path=\"url(#clip102)\" d=\"M796.804 1384.24 L796.804 1384.24 L828.789 1384.24 L828.789 1384.24 L796.804 1384.24 L796.804 1384.24  Z\" fill=\"#009af9\" fill-rule=\"evenodd\" fill-opacity=\"1\"/>\n",
       "<polyline clip-path=\"url(#clip102)\" style=\"stroke:#000000; stroke-linecap:round; stroke-linejoin:round; stroke-width:4; stroke-opacity:1; fill:none\" points=\"796.804,1384.24 796.804,1384.24 828.789,1384.24 796.804,1384.24 \"/>\n",
       "<path clip-path=\"url(#clip102)\" d=\"M828.789 1384.24 L828.789 1384.24 L860.774 1384.24 L860.774 1384.24 L828.789 1384.24 L828.789 1384.24  Z\" fill=\"#009af9\" fill-rule=\"evenodd\" fill-opacity=\"1\"/>\n",
       "<polyline clip-path=\"url(#clip102)\" style=\"stroke:#000000; stroke-linecap:round; stroke-linejoin:round; stroke-width:4; stroke-opacity:1; fill:none\" points=\"828.789,1384.24 828.789,1384.24 860.774,1384.24 828.789,1384.24 \"/>\n",
       "<path clip-path=\"url(#clip102)\" d=\"M860.774 1384.24 L860.774 1384.24 L892.759 1384.24 L892.759 1384.24 L860.774 1384.24 L860.774 1384.24  Z\" fill=\"#009af9\" fill-rule=\"evenodd\" fill-opacity=\"1\"/>\n",
       "<polyline clip-path=\"url(#clip102)\" style=\"stroke:#000000; stroke-linecap:round; stroke-linejoin:round; stroke-width:4; stroke-opacity:1; fill:none\" points=\"860.774,1384.24 860.774,1384.24 892.759,1384.24 860.774,1384.24 \"/>\n",
       "<path clip-path=\"url(#clip102)\" d=\"M892.759 1384.24 L892.759 1384.24 L924.744 1384.24 L924.744 1384.24 L892.759 1384.24 L892.759 1384.24  Z\" fill=\"#009af9\" fill-rule=\"evenodd\" fill-opacity=\"1\"/>\n",
       "<polyline clip-path=\"url(#clip102)\" style=\"stroke:#000000; stroke-linecap:round; stroke-linejoin:round; stroke-width:4; stroke-opacity:1; fill:none\" points=\"892.759,1384.24 892.759,1384.24 924.744,1384.24 892.759,1384.24 \"/>\n",
       "<path clip-path=\"url(#clip102)\" d=\"M924.744 1384.24 L924.744 1384.24 L956.729 1384.24 L956.729 1384.24 L924.744 1384.24 L924.744 1384.24  Z\" fill=\"#009af9\" fill-rule=\"evenodd\" fill-opacity=\"1\"/>\n",
       "<polyline clip-path=\"url(#clip102)\" style=\"stroke:#000000; stroke-linecap:round; stroke-linejoin:round; stroke-width:4; stroke-opacity:1; fill:none\" points=\"924.744,1384.24 924.744,1384.24 956.729,1384.24 924.744,1384.24 \"/>\n",
       "<path clip-path=\"url(#clip102)\" d=\"M956.729 1384.24 L956.729 1384.24 L988.715 1384.24 L988.715 1384.24 L956.729 1384.24 L956.729 1384.24  Z\" fill=\"#009af9\" fill-rule=\"evenodd\" fill-opacity=\"1\"/>\n",
       "<polyline clip-path=\"url(#clip102)\" style=\"stroke:#000000; stroke-linecap:round; stroke-linejoin:round; stroke-width:4; stroke-opacity:1; fill:none\" points=\"956.729,1384.24 956.729,1384.24 988.715,1384.24 956.729,1384.24 \"/>\n",
       "<path clip-path=\"url(#clip102)\" d=\"M988.715 1384.24 L988.715 1384.24 L1020.7 1384.24 L1020.7 1384.24 L988.715 1384.24 L988.715 1384.24  Z\" fill=\"#009af9\" fill-rule=\"evenodd\" fill-opacity=\"1\"/>\n",
       "<polyline clip-path=\"url(#clip102)\" style=\"stroke:#000000; stroke-linecap:round; stroke-linejoin:round; stroke-width:4; stroke-opacity:1; fill:none\" points=\"988.715,1384.24 988.715,1384.24 1020.7,1384.24 988.715,1384.24 \"/>\n",
       "<path clip-path=\"url(#clip102)\" d=\"M1020.7 1384.24 L1020.7 1384.24 L1052.68 1384.24 L1052.68 1384.24 L1020.7 1384.24 L1020.7 1384.24  Z\" fill=\"#009af9\" fill-rule=\"evenodd\" fill-opacity=\"1\"/>\n",
       "<polyline clip-path=\"url(#clip102)\" style=\"stroke:#000000; stroke-linecap:round; stroke-linejoin:round; stroke-width:4; stroke-opacity:1; fill:none\" points=\"1020.7,1384.24 1020.7,1384.24 1052.68,1384.24 1020.7,1384.24 \"/>\n",
       "<path clip-path=\"url(#clip102)\" d=\"M1052.68 1384.24 L1052.68 1384.24 L1084.67 1384.24 L1084.67 1384.24 L1052.68 1384.24 L1052.68 1384.24  Z\" fill=\"#009af9\" fill-rule=\"evenodd\" fill-opacity=\"1\"/>\n",
       "<polyline clip-path=\"url(#clip102)\" style=\"stroke:#000000; stroke-linecap:round; stroke-linejoin:round; stroke-width:4; stroke-opacity:1; fill:none\" points=\"1052.68,1384.24 1052.68,1384.24 1084.67,1384.24 1052.68,1384.24 \"/>\n",
       "<path clip-path=\"url(#clip102)\" d=\"M1084.67 1384.24 L1084.67 1384.24 L1116.65 1384.24 L1116.65 1384.24 L1084.67 1384.24 L1084.67 1384.24  Z\" fill=\"#009af9\" fill-rule=\"evenodd\" fill-opacity=\"1\"/>\n",
       "<polyline clip-path=\"url(#clip102)\" style=\"stroke:#000000; stroke-linecap:round; stroke-linejoin:round; stroke-width:4; stroke-opacity:1; fill:none\" points=\"1084.67,1384.24 1084.67,1384.24 1116.65,1384.24 1084.67,1384.24 \"/>\n",
       "<path clip-path=\"url(#clip102)\" d=\"M1116.65 1384.24 L1116.65 1384.24 L1148.64 1384.24 L1148.64 1384.24 L1116.65 1384.24 L1116.65 1384.24  Z\" fill=\"#009af9\" fill-rule=\"evenodd\" fill-opacity=\"1\"/>\n",
       "<polyline clip-path=\"url(#clip102)\" style=\"stroke:#000000; stroke-linecap:round; stroke-linejoin:round; stroke-width:4; stroke-opacity:1; fill:none\" points=\"1116.65,1384.24 1116.65,1384.24 1148.64,1384.24 1116.65,1384.24 \"/>\n",
       "<path clip-path=\"url(#clip102)\" d=\"M1148.64 1384.24 L1148.64 1384.24 L1180.62 1384.24 L1180.62 1384.24 L1148.64 1384.24 L1148.64 1384.24  Z\" fill=\"#009af9\" fill-rule=\"evenodd\" fill-opacity=\"1\"/>\n",
       "<polyline clip-path=\"url(#clip102)\" style=\"stroke:#000000; stroke-linecap:round; stroke-linejoin:round; stroke-width:4; stroke-opacity:1; fill:none\" points=\"1148.64,1384.24 1148.64,1384.24 1180.62,1384.24 1148.64,1384.24 \"/>\n",
       "<path clip-path=\"url(#clip102)\" d=\"M1180.62 1384.24 L1180.62 1384.24 L1212.61 1384.24 L1212.61 1384.24 L1180.62 1384.24 L1180.62 1384.24  Z\" fill=\"#009af9\" fill-rule=\"evenodd\" fill-opacity=\"1\"/>\n",
       "<polyline clip-path=\"url(#clip102)\" style=\"stroke:#000000; stroke-linecap:round; stroke-linejoin:round; stroke-width:4; stroke-opacity:1; fill:none\" points=\"1180.62,1384.24 1180.62,1384.24 1212.61,1384.24 1180.62,1384.24 \"/>\n",
       "<path clip-path=\"url(#clip102)\" d=\"M1212.61 1384.24 L1212.61 1384.24 L1244.6 1384.24 L1244.6 1384.24 L1212.61 1384.24 L1212.61 1384.24  Z\" fill=\"#009af9\" fill-rule=\"evenodd\" fill-opacity=\"1\"/>\n",
       "<polyline clip-path=\"url(#clip102)\" style=\"stroke:#000000; stroke-linecap:round; stroke-linejoin:round; stroke-width:4; stroke-opacity:1; fill:none\" points=\"1212.61,1384.24 1212.61,1384.24 1244.6,1384.24 1212.61,1384.24 \"/>\n",
       "<path clip-path=\"url(#clip102)\" d=\"M1244.6 1384.24 L1244.6 1384.24 L1276.58 1384.24 L1276.58 1384.24 L1244.6 1384.24 L1244.6 1384.24  Z\" fill=\"#009af9\" fill-rule=\"evenodd\" fill-opacity=\"1\"/>\n",
       "<polyline clip-path=\"url(#clip102)\" style=\"stroke:#000000; stroke-linecap:round; stroke-linejoin:round; stroke-width:4; stroke-opacity:1; fill:none\" points=\"1244.6,1384.24 1244.6,1384.24 1276.58,1384.24 1244.6,1384.24 \"/>\n",
       "<path clip-path=\"url(#clip102)\" d=\"M1276.58 1384.24 L1276.58 1384.24 L1308.57 1384.24 L1308.57 1384.24 L1276.58 1384.24 L1276.58 1384.24  Z\" fill=\"#009af9\" fill-rule=\"evenodd\" fill-opacity=\"1\"/>\n",
       "<polyline clip-path=\"url(#clip102)\" style=\"stroke:#000000; stroke-linecap:round; stroke-linejoin:round; stroke-width:4; stroke-opacity:1; fill:none\" points=\"1276.58,1384.24 1276.58,1384.24 1308.57,1384.24 1276.58,1384.24 \"/>\n",
       "<path clip-path=\"url(#clip102)\" d=\"M1308.57 1384.24 L1308.57 1384.24 L1340.55 1384.24 L1340.55 1384.24 L1308.57 1384.24 L1308.57 1384.24  Z\" fill=\"#009af9\" fill-rule=\"evenodd\" fill-opacity=\"1\"/>\n",
       "<polyline clip-path=\"url(#clip102)\" style=\"stroke:#000000; stroke-linecap:round; stroke-linejoin:round; stroke-width:4; stroke-opacity:1; fill:none\" points=\"1308.57,1384.24 1308.57,1384.24 1340.55,1384.24 1308.57,1384.24 \"/>\n",
       "<path clip-path=\"url(#clip102)\" d=\"M1340.55 1376.56 L1340.55 1384.24 L1372.54 1384.24 L1372.54 1376.56 L1340.55 1376.56 L1340.55 1376.56  Z\" fill=\"#009af9\" fill-rule=\"evenodd\" fill-opacity=\"1\"/>\n",
       "<polyline clip-path=\"url(#clip102)\" style=\"stroke:#000000; stroke-linecap:round; stroke-linejoin:round; stroke-width:4; stroke-opacity:1; fill:none\" points=\"1340.55,1376.56 1340.55,1384.24 1372.54,1384.24 1372.54,1376.56 1340.55,1376.56 \"/>\n",
       "<path clip-path=\"url(#clip102)\" d=\"M1372.54 1384.24 L1372.54 1384.24 L1404.52 1384.24 L1404.52 1384.24 L1372.54 1384.24 L1372.54 1384.24  Z\" fill=\"#009af9\" fill-rule=\"evenodd\" fill-opacity=\"1\"/>\n",
       "<polyline clip-path=\"url(#clip102)\" style=\"stroke:#000000; stroke-linecap:round; stroke-linejoin:round; stroke-width:4; stroke-opacity:1; fill:none\" points=\"1372.54,1384.24 1372.54,1384.24 1404.52,1384.24 1372.54,1384.24 \"/>\n",
       "<path clip-path=\"url(#clip102)\" d=\"M1404.52 1384.24 L1404.52 1384.24 L1436.51 1384.24 L1436.51 1384.24 L1404.52 1384.24 L1404.52 1384.24  Z\" fill=\"#009af9\" fill-rule=\"evenodd\" fill-opacity=\"1\"/>\n",
       "<polyline clip-path=\"url(#clip102)\" style=\"stroke:#000000; stroke-linecap:round; stroke-linejoin:round; stroke-width:4; stroke-opacity:1; fill:none\" points=\"1404.52,1384.24 1404.52,1384.24 1436.51,1384.24 1404.52,1384.24 \"/>\n",
       "<path clip-path=\"url(#clip102)\" d=\"M1436.51 1376.56 L1436.51 1384.24 L1468.49 1384.24 L1468.49 1376.56 L1436.51 1376.56 L1436.51 1376.56  Z\" fill=\"#009af9\" fill-rule=\"evenodd\" fill-opacity=\"1\"/>\n",
       "<polyline clip-path=\"url(#clip102)\" style=\"stroke:#000000; stroke-linecap:round; stroke-linejoin:round; stroke-width:4; stroke-opacity:1; fill:none\" points=\"1436.51,1376.56 1436.51,1384.24 1468.49,1384.24 1468.49,1376.56 1436.51,1376.56 \"/>\n",
       "<path clip-path=\"url(#clip102)\" d=\"M1468.49 1384.24 L1468.49 1384.24 L1500.48 1384.24 L1500.48 1384.24 L1468.49 1384.24 L1468.49 1384.24  Z\" fill=\"#009af9\" fill-rule=\"evenodd\" fill-opacity=\"1\"/>\n",
       "<polyline clip-path=\"url(#clip102)\" style=\"stroke:#000000; stroke-linecap:round; stroke-linejoin:round; stroke-width:4; stroke-opacity:1; fill:none\" points=\"1468.49,1384.24 1468.49,1384.24 1500.48,1384.24 1468.49,1384.24 \"/>\n",
       "<path clip-path=\"url(#clip102)\" d=\"M1500.48 1384.24 L1500.48 1384.24 L1532.46 1384.24 L1532.46 1384.24 L1500.48 1384.24 L1500.48 1384.24  Z\" fill=\"#009af9\" fill-rule=\"evenodd\" fill-opacity=\"1\"/>\n",
       "<polyline clip-path=\"url(#clip102)\" style=\"stroke:#000000; stroke-linecap:round; stroke-linejoin:round; stroke-width:4; stroke-opacity:1; fill:none\" points=\"1500.48,1384.24 1500.48,1384.24 1532.46,1384.24 1500.48,1384.24 \"/>\n",
       "<path clip-path=\"url(#clip102)\" d=\"M1532.46 1384.24 L1532.46 1384.24 L1564.45 1384.24 L1564.45 1384.24 L1532.46 1384.24 L1532.46 1384.24  Z\" fill=\"#009af9\" fill-rule=\"evenodd\" fill-opacity=\"1\"/>\n",
       "<polyline clip-path=\"url(#clip102)\" style=\"stroke:#000000; stroke-linecap:round; stroke-linejoin:round; stroke-width:4; stroke-opacity:1; fill:none\" points=\"1532.46,1384.24 1532.46,1384.24 1564.45,1384.24 1532.46,1384.24 \"/>\n",
       "<path clip-path=\"url(#clip102)\" d=\"M1564.45 1384.24 L1564.45 1384.24 L1596.43 1384.24 L1596.43 1384.24 L1564.45 1384.24 L1564.45 1384.24  Z\" fill=\"#009af9\" fill-rule=\"evenodd\" fill-opacity=\"1\"/>\n",
       "<polyline clip-path=\"url(#clip102)\" style=\"stroke:#000000; stroke-linecap:round; stroke-linejoin:round; stroke-width:4; stroke-opacity:1; fill:none\" points=\"1564.45,1384.24 1564.45,1384.24 1596.43,1384.24 1564.45,1384.24 \"/>\n",
       "<path clip-path=\"url(#clip102)\" d=\"M1596.43 1384.24 L1596.43 1384.24 L1628.42 1384.24 L1628.42 1384.24 L1596.43 1384.24 L1596.43 1384.24  Z\" fill=\"#009af9\" fill-rule=\"evenodd\" fill-opacity=\"1\"/>\n",
       "<polyline clip-path=\"url(#clip102)\" style=\"stroke:#000000; stroke-linecap:round; stroke-linejoin:round; stroke-width:4; stroke-opacity:1; fill:none\" points=\"1596.43,1384.24 1596.43,1384.24 1628.42,1384.24 1596.43,1384.24 \"/>\n",
       "<path clip-path=\"url(#clip102)\" d=\"M1628.42 1384.24 L1628.42 1384.24 L1660.4 1384.24 L1660.4 1384.24 L1628.42 1384.24 L1628.42 1384.24  Z\" fill=\"#009af9\" fill-rule=\"evenodd\" fill-opacity=\"1\"/>\n",
       "<polyline clip-path=\"url(#clip102)\" style=\"stroke:#000000; stroke-linecap:round; stroke-linejoin:round; stroke-width:4; stroke-opacity:1; fill:none\" points=\"1628.42,1384.24 1628.42,1384.24 1660.4,1384.24 1628.42,1384.24 \"/>\n",
       "<path clip-path=\"url(#clip102)\" d=\"M1660.4 1384.24 L1660.4 1384.24 L1692.39 1384.24 L1692.39 1384.24 L1660.4 1384.24 L1660.4 1384.24  Z\" fill=\"#009af9\" fill-rule=\"evenodd\" fill-opacity=\"1\"/>\n",
       "<polyline clip-path=\"url(#clip102)\" style=\"stroke:#000000; stroke-linecap:round; stroke-linejoin:round; stroke-width:4; stroke-opacity:1; fill:none\" points=\"1660.4,1384.24 1660.4,1384.24 1692.39,1384.24 1660.4,1384.24 \"/>\n",
       "<path clip-path=\"url(#clip102)\" d=\"M1692.39 1384.24 L1692.39 1384.24 L1724.37 1384.24 L1724.37 1384.24 L1692.39 1384.24 L1692.39 1384.24  Z\" fill=\"#009af9\" fill-rule=\"evenodd\" fill-opacity=\"1\"/>\n",
       "<polyline clip-path=\"url(#clip102)\" style=\"stroke:#000000; stroke-linecap:round; stroke-linejoin:round; stroke-width:4; stroke-opacity:1; fill:none\" points=\"1692.39,1384.24 1692.39,1384.24 1724.37,1384.24 1692.39,1384.24 \"/>\n",
       "<path clip-path=\"url(#clip102)\" d=\"M1724.37 1384.24 L1724.37 1384.24 L1756.36 1384.24 L1756.36 1384.24 L1724.37 1384.24 L1724.37 1384.24  Z\" fill=\"#009af9\" fill-rule=\"evenodd\" fill-opacity=\"1\"/>\n",
       "<polyline clip-path=\"url(#clip102)\" style=\"stroke:#000000; stroke-linecap:round; stroke-linejoin:round; stroke-width:4; stroke-opacity:1; fill:none\" points=\"1724.37,1384.24 1724.37,1384.24 1756.36,1384.24 1724.37,1384.24 \"/>\n",
       "<path clip-path=\"url(#clip102)\" d=\"M1756.36 1384.24 L1756.36 1384.24 L1788.34 1384.24 L1788.34 1384.24 L1756.36 1384.24 L1756.36 1384.24  Z\" fill=\"#009af9\" fill-rule=\"evenodd\" fill-opacity=\"1\"/>\n",
       "<polyline clip-path=\"url(#clip102)\" style=\"stroke:#000000; stroke-linecap:round; stroke-linejoin:round; stroke-width:4; stroke-opacity:1; fill:none\" points=\"1756.36,1384.24 1756.36,1384.24 1788.34,1384.24 1756.36,1384.24 \"/>\n",
       "<path clip-path=\"url(#clip102)\" d=\"M1788.34 1384.24 L1788.34 1384.24 L1820.33 1384.24 L1820.33 1384.24 L1788.34 1384.24 L1788.34 1384.24  Z\" fill=\"#009af9\" fill-rule=\"evenodd\" fill-opacity=\"1\"/>\n",
       "<polyline clip-path=\"url(#clip102)\" style=\"stroke:#000000; stroke-linecap:round; stroke-linejoin:round; stroke-width:4; stroke-opacity:1; fill:none\" points=\"1788.34,1384.24 1788.34,1384.24 1820.33,1384.24 1788.34,1384.24 \"/>\n",
       "<path clip-path=\"url(#clip102)\" d=\"M1820.33 1384.24 L1820.33 1384.24 L1852.31 1384.24 L1852.31 1384.24 L1820.33 1384.24 L1820.33 1384.24  Z\" fill=\"#009af9\" fill-rule=\"evenodd\" fill-opacity=\"1\"/>\n",
       "<polyline clip-path=\"url(#clip102)\" style=\"stroke:#000000; stroke-linecap:round; stroke-linejoin:round; stroke-width:4; stroke-opacity:1; fill:none\" points=\"1820.33,1384.24 1820.33,1384.24 1852.31,1384.24 1820.33,1384.24 \"/>\n",
       "<path clip-path=\"url(#clip102)\" d=\"M1852.31 1384.24 L1852.31 1384.24 L1884.3 1384.24 L1884.3 1384.24 L1852.31 1384.24 L1852.31 1384.24  Z\" fill=\"#009af9\" fill-rule=\"evenodd\" fill-opacity=\"1\"/>\n",
       "<polyline clip-path=\"url(#clip102)\" style=\"stroke:#000000; stroke-linecap:round; stroke-linejoin:round; stroke-width:4; stroke-opacity:1; fill:none\" points=\"1852.31,1384.24 1852.31,1384.24 1884.3,1384.24 1852.31,1384.24 \"/>\n",
       "<path clip-path=\"url(#clip102)\" d=\"M1884.3 1384.24 L1884.3 1384.24 L1916.28 1384.24 L1916.28 1384.24 L1884.3 1384.24 L1884.3 1384.24  Z\" fill=\"#009af9\" fill-rule=\"evenodd\" fill-opacity=\"1\"/>\n",
       "<polyline clip-path=\"url(#clip102)\" style=\"stroke:#000000; stroke-linecap:round; stroke-linejoin:round; stroke-width:4; stroke-opacity:1; fill:none\" points=\"1884.3,1384.24 1884.3,1384.24 1916.28,1384.24 1884.3,1384.24 \"/>\n",
       "<path clip-path=\"url(#clip102)\" d=\"M1916.28 1384.24 L1916.28 1384.24 L1948.27 1384.24 L1948.27 1384.24 L1916.28 1384.24 L1916.28 1384.24  Z\" fill=\"#009af9\" fill-rule=\"evenodd\" fill-opacity=\"1\"/>\n",
       "<polyline clip-path=\"url(#clip102)\" style=\"stroke:#000000; stroke-linecap:round; stroke-linejoin:round; stroke-width:4; stroke-opacity:1; fill:none\" points=\"1916.28,1384.24 1916.28,1384.24 1948.27,1384.24 1916.28,1384.24 \"/>\n",
       "<path clip-path=\"url(#clip102)\" d=\"M1948.27 1384.24 L1948.27 1384.24 L1980.25 1384.24 L1980.25 1384.24 L1948.27 1384.24 L1948.27 1384.24  Z\" fill=\"#009af9\" fill-rule=\"evenodd\" fill-opacity=\"1\"/>\n",
       "<polyline clip-path=\"url(#clip102)\" style=\"stroke:#000000; stroke-linecap:round; stroke-linejoin:round; stroke-width:4; stroke-opacity:1; fill:none\" points=\"1948.27,1384.24 1948.27,1384.24 1980.25,1384.24 1948.27,1384.24 \"/>\n",
       "<path clip-path=\"url(#clip102)\" d=\"M1980.25 1384.24 L1980.25 1384.24 L2012.24 1384.24 L2012.24 1384.24 L1980.25 1384.24 L1980.25 1384.24  Z\" fill=\"#009af9\" fill-rule=\"evenodd\" fill-opacity=\"1\"/>\n",
       "<polyline clip-path=\"url(#clip102)\" style=\"stroke:#000000; stroke-linecap:round; stroke-linejoin:round; stroke-width:4; stroke-opacity:1; fill:none\" points=\"1980.25,1384.24 1980.25,1384.24 2012.24,1384.24 1980.25,1384.24 \"/>\n",
       "<path clip-path=\"url(#clip102)\" d=\"M2012.24 1384.24 L2012.24 1384.24 L2044.22 1384.24 L2044.22 1384.24 L2012.24 1384.24 L2012.24 1384.24  Z\" fill=\"#009af9\" fill-rule=\"evenodd\" fill-opacity=\"1\"/>\n",
       "<polyline clip-path=\"url(#clip102)\" style=\"stroke:#000000; stroke-linecap:round; stroke-linejoin:round; stroke-width:4; stroke-opacity:1; fill:none\" points=\"2012.24,1384.24 2012.24,1384.24 2044.22,1384.24 2012.24,1384.24 \"/>\n",
       "<path clip-path=\"url(#clip102)\" d=\"M2044.22 1384.24 L2044.22 1384.24 L2076.21 1384.24 L2076.21 1384.24 L2044.22 1384.24 L2044.22 1384.24  Z\" fill=\"#009af9\" fill-rule=\"evenodd\" fill-opacity=\"1\"/>\n",
       "<polyline clip-path=\"url(#clip102)\" style=\"stroke:#000000; stroke-linecap:round; stroke-linejoin:round; stroke-width:4; stroke-opacity:1; fill:none\" points=\"2044.22,1384.24 2044.22,1384.24 2076.21,1384.24 2044.22,1384.24 \"/>\n",
       "<path clip-path=\"url(#clip102)\" d=\"M2076.21 1384.24 L2076.21 1384.24 L2108.19 1384.24 L2108.19 1384.24 L2076.21 1384.24 L2076.21 1384.24  Z\" fill=\"#009af9\" fill-rule=\"evenodd\" fill-opacity=\"1\"/>\n",
       "<polyline clip-path=\"url(#clip102)\" style=\"stroke:#000000; stroke-linecap:round; stroke-linejoin:round; stroke-width:4; stroke-opacity:1; fill:none\" points=\"2076.21,1384.24 2076.21,1384.24 2108.19,1384.24 2076.21,1384.24 \"/>\n",
       "<path clip-path=\"url(#clip102)\" d=\"M2108.19 1384.24 L2108.19 1384.24 L2140.18 1384.24 L2140.18 1384.24 L2108.19 1384.24 L2108.19 1384.24  Z\" fill=\"#009af9\" fill-rule=\"evenodd\" fill-opacity=\"1\"/>\n",
       "<polyline clip-path=\"url(#clip102)\" style=\"stroke:#000000; stroke-linecap:round; stroke-linejoin:round; stroke-width:4; stroke-opacity:1; fill:none\" points=\"2108.19,1384.24 2108.19,1384.24 2140.18,1384.24 2108.19,1384.24 \"/>\n",
       "<path clip-path=\"url(#clip102)\" d=\"M2140.18 1384.24 L2140.18 1384.24 L2172.16 1384.24 L2172.16 1384.24 L2140.18 1384.24 L2140.18 1384.24  Z\" fill=\"#009af9\" fill-rule=\"evenodd\" fill-opacity=\"1\"/>\n",
       "<polyline clip-path=\"url(#clip102)\" style=\"stroke:#000000; stroke-linecap:round; stroke-linejoin:round; stroke-width:4; stroke-opacity:1; fill:none\" points=\"2140.18,1384.24 2140.18,1384.24 2172.16,1384.24 2140.18,1384.24 \"/>\n",
       "<path clip-path=\"url(#clip102)\" d=\"M2172.16 1384.24 L2172.16 1384.24 L2204.15 1384.24 L2204.15 1384.24 L2172.16 1384.24 L2172.16 1384.24  Z\" fill=\"#009af9\" fill-rule=\"evenodd\" fill-opacity=\"1\"/>\n",
       "<polyline clip-path=\"url(#clip102)\" style=\"stroke:#000000; stroke-linecap:round; stroke-linejoin:round; stroke-width:4; stroke-opacity:1; fill:none\" points=\"2172.16,1384.24 2172.16,1384.24 2204.15,1384.24 2172.16,1384.24 \"/>\n",
       "<path clip-path=\"url(#clip102)\" d=\"M2204.15 1368.88 L2204.15 1384.24 L2236.13 1384.24 L2236.13 1368.88 L2204.15 1368.88 L2204.15 1368.88  Z\" fill=\"#009af9\" fill-rule=\"evenodd\" fill-opacity=\"1\"/>\n",
       "<polyline clip-path=\"url(#clip102)\" style=\"stroke:#000000; stroke-linecap:round; stroke-linejoin:round; stroke-width:4; stroke-opacity:1; fill:none\" points=\"2204.15,1368.88 2204.15,1384.24 2236.13,1384.24 2236.13,1368.88 2204.15,1368.88 \"/>\n",
       "<circle clip-path=\"url(#clip102)\" style=\"fill:#009af9; stroke:none; fill-opacity:0\" cx=\"365.006\" cy=\"86.1857\" r=\"2\"/>\n",
       "<circle clip-path=\"url(#clip102)\" style=\"fill:#009af9; stroke:none; fill-opacity:0\" cx=\"396.991\" cy=\"1338.15\" r=\"2\"/>\n",
       "<circle clip-path=\"url(#clip102)\" style=\"fill:#009af9; stroke:none; fill-opacity:0\" cx=\"428.976\" cy=\"1368.88\" r=\"2\"/>\n",
       "<circle clip-path=\"url(#clip102)\" style=\"fill:#009af9; stroke:none; fill-opacity:0\" cx=\"460.961\" cy=\"1368.88\" r=\"2\"/>\n",
       "<circle clip-path=\"url(#clip102)\" style=\"fill:#009af9; stroke:none; fill-opacity:0\" cx=\"492.946\" cy=\"1368.88\" r=\"2\"/>\n",
       "<circle clip-path=\"url(#clip102)\" style=\"fill:#009af9; stroke:none; fill-opacity:0\" cx=\"524.931\" cy=\"1384.24\" r=\"2\"/>\n",
       "<circle clip-path=\"url(#clip102)\" style=\"fill:#009af9; stroke:none; fill-opacity:0\" cx=\"556.916\" cy=\"1376.56\" r=\"2\"/>\n",
       "<circle clip-path=\"url(#clip102)\" style=\"fill:#009af9; stroke:none; fill-opacity:0\" cx=\"588.901\" cy=\"1384.24\" r=\"2\"/>\n",
       "<circle clip-path=\"url(#clip102)\" style=\"fill:#009af9; stroke:none; fill-opacity:0\" cx=\"620.886\" cy=\"1384.24\" r=\"2\"/>\n",
       "<circle clip-path=\"url(#clip102)\" style=\"fill:#009af9; stroke:none; fill-opacity:0\" cx=\"652.871\" cy=\"1384.24\" r=\"2\"/>\n",
       "<circle clip-path=\"url(#clip102)\" style=\"fill:#009af9; stroke:none; fill-opacity:0\" cx=\"684.856\" cy=\"1384.24\" r=\"2\"/>\n",
       "<circle clip-path=\"url(#clip102)\" style=\"fill:#009af9; stroke:none; fill-opacity:0\" cx=\"716.842\" cy=\"1384.24\" r=\"2\"/>\n",
       "<circle clip-path=\"url(#clip102)\" style=\"fill:#009af9; stroke:none; fill-opacity:0\" cx=\"748.827\" cy=\"1384.24\" r=\"2\"/>\n",
       "<circle clip-path=\"url(#clip102)\" style=\"fill:#009af9; stroke:none; fill-opacity:0\" cx=\"780.812\" cy=\"1384.24\" r=\"2\"/>\n",
       "<circle clip-path=\"url(#clip102)\" style=\"fill:#009af9; stroke:none; fill-opacity:0\" cx=\"812.797\" cy=\"1384.24\" r=\"2\"/>\n",
       "<circle clip-path=\"url(#clip102)\" style=\"fill:#009af9; stroke:none; fill-opacity:0\" cx=\"844.782\" cy=\"1384.24\" r=\"2\"/>\n",
       "<circle clip-path=\"url(#clip102)\" style=\"fill:#009af9; stroke:none; fill-opacity:0\" cx=\"876.767\" cy=\"1384.24\" r=\"2\"/>\n",
       "<circle clip-path=\"url(#clip102)\" style=\"fill:#009af9; stroke:none; fill-opacity:0\" cx=\"908.752\" cy=\"1384.24\" r=\"2\"/>\n",
       "<circle clip-path=\"url(#clip102)\" style=\"fill:#009af9; stroke:none; fill-opacity:0\" cx=\"940.737\" cy=\"1384.24\" r=\"2\"/>\n",
       "<circle clip-path=\"url(#clip102)\" style=\"fill:#009af9; stroke:none; fill-opacity:0\" cx=\"972.722\" cy=\"1384.24\" r=\"2\"/>\n",
       "<circle clip-path=\"url(#clip102)\" style=\"fill:#009af9; stroke:none; fill-opacity:0\" cx=\"1004.71\" cy=\"1384.24\" r=\"2\"/>\n",
       "<circle clip-path=\"url(#clip102)\" style=\"fill:#009af9; stroke:none; fill-opacity:0\" cx=\"1036.69\" cy=\"1384.24\" r=\"2\"/>\n",
       "<circle clip-path=\"url(#clip102)\" style=\"fill:#009af9; stroke:none; fill-opacity:0\" cx=\"1068.68\" cy=\"1384.24\" r=\"2\"/>\n",
       "<circle clip-path=\"url(#clip102)\" style=\"fill:#009af9; stroke:none; fill-opacity:0\" cx=\"1100.66\" cy=\"1384.24\" r=\"2\"/>\n",
       "<circle clip-path=\"url(#clip102)\" style=\"fill:#009af9; stroke:none; fill-opacity:0\" cx=\"1132.65\" cy=\"1384.24\" r=\"2\"/>\n",
       "<circle clip-path=\"url(#clip102)\" style=\"fill:#009af9; stroke:none; fill-opacity:0\" cx=\"1164.63\" cy=\"1384.24\" r=\"2\"/>\n",
       "<circle clip-path=\"url(#clip102)\" style=\"fill:#009af9; stroke:none; fill-opacity:0\" cx=\"1196.62\" cy=\"1384.24\" r=\"2\"/>\n",
       "<circle clip-path=\"url(#clip102)\" style=\"fill:#009af9; stroke:none; fill-opacity:0\" cx=\"1228.6\" cy=\"1384.24\" r=\"2\"/>\n",
       "<circle clip-path=\"url(#clip102)\" style=\"fill:#009af9; stroke:none; fill-opacity:0\" cx=\"1260.59\" cy=\"1384.24\" r=\"2\"/>\n",
       "<circle clip-path=\"url(#clip102)\" style=\"fill:#009af9; stroke:none; fill-opacity:0\" cx=\"1292.57\" cy=\"1384.24\" r=\"2\"/>\n",
       "<circle clip-path=\"url(#clip102)\" style=\"fill:#009af9; stroke:none; fill-opacity:0\" cx=\"1324.56\" cy=\"1384.24\" r=\"2\"/>\n",
       "<circle clip-path=\"url(#clip102)\" style=\"fill:#009af9; stroke:none; fill-opacity:0\" cx=\"1356.54\" cy=\"1376.56\" r=\"2\"/>\n",
       "<circle clip-path=\"url(#clip102)\" style=\"fill:#009af9; stroke:none; fill-opacity:0\" cx=\"1388.53\" cy=\"1384.24\" r=\"2\"/>\n",
       "<circle clip-path=\"url(#clip102)\" style=\"fill:#009af9; stroke:none; fill-opacity:0\" cx=\"1420.51\" cy=\"1384.24\" r=\"2\"/>\n",
       "<circle clip-path=\"url(#clip102)\" style=\"fill:#009af9; stroke:none; fill-opacity:0\" cx=\"1452.5\" cy=\"1376.56\" r=\"2\"/>\n",
       "<circle clip-path=\"url(#clip102)\" style=\"fill:#009af9; stroke:none; fill-opacity:0\" cx=\"1484.48\" cy=\"1384.24\" r=\"2\"/>\n",
       "<circle clip-path=\"url(#clip102)\" style=\"fill:#009af9; stroke:none; fill-opacity:0\" cx=\"1516.47\" cy=\"1384.24\" r=\"2\"/>\n",
       "<circle clip-path=\"url(#clip102)\" style=\"fill:#009af9; stroke:none; fill-opacity:0\" cx=\"1548.45\" cy=\"1384.24\" r=\"2\"/>\n",
       "<circle clip-path=\"url(#clip102)\" style=\"fill:#009af9; stroke:none; fill-opacity:0\" cx=\"1580.44\" cy=\"1384.24\" r=\"2\"/>\n",
       "<circle clip-path=\"url(#clip102)\" style=\"fill:#009af9; stroke:none; fill-opacity:0\" cx=\"1612.42\" cy=\"1384.24\" r=\"2\"/>\n",
       "<circle clip-path=\"url(#clip102)\" style=\"fill:#009af9; stroke:none; fill-opacity:0\" cx=\"1644.41\" cy=\"1384.24\" r=\"2\"/>\n",
       "<circle clip-path=\"url(#clip102)\" style=\"fill:#009af9; stroke:none; fill-opacity:0\" cx=\"1676.39\" cy=\"1384.24\" r=\"2\"/>\n",
       "<circle clip-path=\"url(#clip102)\" style=\"fill:#009af9; stroke:none; fill-opacity:0\" cx=\"1708.38\" cy=\"1384.24\" r=\"2\"/>\n",
       "<circle clip-path=\"url(#clip102)\" style=\"fill:#009af9; stroke:none; fill-opacity:0\" cx=\"1740.36\" cy=\"1384.24\" r=\"2\"/>\n",
       "<circle clip-path=\"url(#clip102)\" style=\"fill:#009af9; stroke:none; fill-opacity:0\" cx=\"1772.35\" cy=\"1384.24\" r=\"2\"/>\n",
       "<circle clip-path=\"url(#clip102)\" style=\"fill:#009af9; stroke:none; fill-opacity:0\" cx=\"1804.33\" cy=\"1384.24\" r=\"2\"/>\n",
       "<circle clip-path=\"url(#clip102)\" style=\"fill:#009af9; stroke:none; fill-opacity:0\" cx=\"1836.32\" cy=\"1384.24\" r=\"2\"/>\n",
       "<circle clip-path=\"url(#clip102)\" style=\"fill:#009af9; stroke:none; fill-opacity:0\" cx=\"1868.3\" cy=\"1384.24\" r=\"2\"/>\n",
       "<circle clip-path=\"url(#clip102)\" style=\"fill:#009af9; stroke:none; fill-opacity:0\" cx=\"1900.29\" cy=\"1384.24\" r=\"2\"/>\n",
       "<circle clip-path=\"url(#clip102)\" style=\"fill:#009af9; stroke:none; fill-opacity:0\" cx=\"1932.27\" cy=\"1384.24\" r=\"2\"/>\n",
       "<circle clip-path=\"url(#clip102)\" style=\"fill:#009af9; stroke:none; fill-opacity:0\" cx=\"1964.26\" cy=\"1384.24\" r=\"2\"/>\n",
       "<circle clip-path=\"url(#clip102)\" style=\"fill:#009af9; stroke:none; fill-opacity:0\" cx=\"1996.24\" cy=\"1384.24\" r=\"2\"/>\n",
       "<circle clip-path=\"url(#clip102)\" style=\"fill:#009af9; stroke:none; fill-opacity:0\" cx=\"2028.23\" cy=\"1384.24\" r=\"2\"/>\n",
       "<circle clip-path=\"url(#clip102)\" style=\"fill:#009af9; stroke:none; fill-opacity:0\" cx=\"2060.21\" cy=\"1384.24\" r=\"2\"/>\n",
       "<circle clip-path=\"url(#clip102)\" style=\"fill:#009af9; stroke:none; fill-opacity:0\" cx=\"2092.2\" cy=\"1384.24\" r=\"2\"/>\n",
       "<circle clip-path=\"url(#clip102)\" style=\"fill:#009af9; stroke:none; fill-opacity:0\" cx=\"2124.18\" cy=\"1384.24\" r=\"2\"/>\n",
       "<circle clip-path=\"url(#clip102)\" style=\"fill:#009af9; stroke:none; fill-opacity:0\" cx=\"2156.17\" cy=\"1384.24\" r=\"2\"/>\n",
       "<circle clip-path=\"url(#clip102)\" style=\"fill:#009af9; stroke:none; fill-opacity:0\" cx=\"2188.15\" cy=\"1384.24\" r=\"2\"/>\n",
       "<circle clip-path=\"url(#clip102)\" style=\"fill:#009af9; stroke:none; fill-opacity:0\" cx=\"2220.14\" cy=\"1368.88\" r=\"2\"/>\n",
       "<path clip-path=\"url(#clip100)\" d=\"M1851.73 196.789 L2282.08 196.789 L2282.08 93.1086 L1851.73 93.1086  Z\" fill=\"#ffffff\" fill-rule=\"evenodd\" fill-opacity=\"1\"/>\n",
       "<polyline clip-path=\"url(#clip100)\" style=\"stroke:#000000; stroke-linecap:round; stroke-linejoin:round; stroke-width:4; stroke-opacity:1; fill:none\" points=\"1851.73,196.789 2282.08,196.789 2282.08,93.1086 1851.73,93.1086 1851.73,196.789 \"/>\n",
       "<path clip-path=\"url(#clip100)\" d=\"M1875.29 165.685 L2016.65 165.685 L2016.65 124.213 L1875.29 124.213 L1875.29 165.685  Z\" fill=\"#009af9\" fill-rule=\"evenodd\" fill-opacity=\"1\"/>\n",
       "<polyline clip-path=\"url(#clip100)\" style=\"stroke:#000000; stroke-linecap:round; stroke-linejoin:round; stroke-width:4; stroke-opacity:1; fill:none\" points=\"1875.29,165.685 2016.65,165.685 2016.65,124.213 1875.29,124.213 1875.29,165.685 \"/>\n",
       "<path clip-path=\"url(#clip100)\" d=\"M2053.61 149.196 Q2048.45 149.196 2046.46 150.377 Q2044.47 151.557 2044.47 154.405 Q2044.47 156.673 2045.95 158.016 Q2047.45 159.335 2050.02 159.335 Q2053.56 159.335 2055.69 156.835 Q2057.85 154.312 2057.85 150.145 L2057.85 149.196 L2053.61 149.196 M2062.11 147.437 L2062.11 162.229 L2057.85 162.229 L2057.85 158.293 Q2056.39 160.655 2054.21 161.789 Q2052.04 162.9 2048.89 162.9 Q2044.91 162.9 2042.55 160.678 Q2040.21 158.432 2040.21 154.682 Q2040.21 150.307 2043.13 148.085 Q2046.06 145.863 2051.87 145.863 L2057.85 145.863 L2057.85 145.446 Q2057.85 142.507 2055.9 140.909 Q2053.98 139.289 2050.49 139.289 Q2048.26 139.289 2046.16 139.821 Q2044.05 140.354 2042.11 141.419 L2042.11 137.483 Q2044.44 136.581 2046.64 136.141 Q2048.84 135.678 2050.93 135.678 Q2056.55 135.678 2059.33 138.594 Q2062.11 141.511 2062.11 147.437 Z\" fill=\"#000000\" fill-rule=\"nonzero\" fill-opacity=\"1\" /><path clip-path=\"url(#clip100)\" d=\"M2089.49 149.289 Q2089.49 144.59 2087.55 141.928 Q2085.62 139.243 2082.25 139.243 Q2078.87 139.243 2076.92 141.928 Q2075 144.59 2075 149.289 Q2075 153.988 2076.92 156.673 Q2078.87 159.335 2082.25 159.335 Q2085.62 159.335 2087.55 156.673 Q2089.49 153.988 2089.49 149.289 M2075 140.238 Q2076.34 137.923 2078.38 136.812 Q2080.44 135.678 2083.29 135.678 Q2088.01 135.678 2090.95 139.428 Q2093.91 143.178 2093.91 149.289 Q2093.91 155.4 2090.95 159.15 Q2088.01 162.9 2083.29 162.9 Q2080.44 162.9 2078.38 161.789 Q2076.34 160.655 2075 158.34 L2075 162.229 L2070.72 162.229 L2070.72 126.21 L2075 126.21 L2075 140.238 Z\" fill=\"#000000\" fill-rule=\"nonzero\" fill-opacity=\"1\" /><path clip-path=\"url(#clip100)\" d=\"M2120.67 170.099 L2120.67 173.409 L2096.04 173.409 L2096.04 170.099 L2120.67 170.099 Z\" fill=\"#000000\" fill-rule=\"nonzero\" fill-opacity=\"1\" /><path clip-path=\"url(#clip100)\" d=\"M2143.33 137.298 L2143.33 141.28 Q2141.53 140.284 2139.7 139.798 Q2137.89 139.289 2136.04 139.289 Q2131.9 139.289 2129.61 141.928 Q2127.31 144.544 2127.31 149.289 Q2127.31 154.034 2129.61 156.673 Q2131.9 159.289 2136.04 159.289 Q2137.89 159.289 2139.7 158.803 Q2141.53 158.293 2143.33 157.298 L2143.33 161.233 Q2141.55 162.067 2139.63 162.483 Q2137.73 162.9 2135.58 162.9 Q2129.72 162.9 2126.27 159.219 Q2122.82 155.539 2122.82 149.289 Q2122.82 142.946 2126.3 139.312 Q2129.79 135.678 2135.86 135.678 Q2137.82 135.678 2139.7 136.095 Q2141.57 136.488 2143.33 137.298 Z\" fill=\"#000000\" fill-rule=\"nonzero\" fill-opacity=\"1\" /><path clip-path=\"url(#clip100)\" d=\"M2165.76 140.284 Q2165.05 139.868 2164.19 139.682 Q2163.36 139.474 2162.34 139.474 Q2158.73 139.474 2156.78 141.835 Q2154.86 144.173 2154.86 148.571 L2154.86 162.229 L2150.58 162.229 L2150.58 136.303 L2154.86 136.303 L2154.86 140.331 Q2156.2 137.969 2158.36 136.835 Q2160.51 135.678 2163.59 135.678 Q2164.03 135.678 2164.56 135.747 Q2165.09 135.794 2165.74 135.909 L2165.76 140.284 Z\" fill=\"#000000\" fill-rule=\"nonzero\" fill-opacity=\"1\" /><path clip-path=\"url(#clip100)\" d=\"M2179.24 139.289 Q2175.81 139.289 2173.82 141.974 Q2171.83 144.636 2171.83 149.289 Q2171.83 153.942 2173.8 156.627 Q2175.79 159.289 2179.24 159.289 Q2182.64 159.289 2184.63 156.604 Q2186.62 153.918 2186.62 149.289 Q2186.62 144.682 2184.63 141.997 Q2182.64 139.289 2179.24 139.289 M2179.24 135.678 Q2184.79 135.678 2187.96 139.289 Q2191.13 142.9 2191.13 149.289 Q2191.13 155.655 2187.96 159.289 Q2184.79 162.9 2179.24 162.9 Q2173.66 162.9 2170.49 159.289 Q2167.34 155.655 2167.34 149.289 Q2167.34 142.9 2170.49 139.289 Q2173.66 135.678 2179.24 135.678 Z\" fill=\"#000000\" fill-rule=\"nonzero\" fill-opacity=\"1\" /><path clip-path=\"url(#clip100)\" d=\"M2195.72 136.303 L2199.98 136.303 L2205.3 156.534 L2210.6 136.303 L2215.62 136.303 L2220.95 156.534 L2226.25 136.303 L2230.51 136.303 L2223.73 162.229 L2218.7 162.229 L2213.12 140.979 L2207.52 162.229 L2202.5 162.229 L2195.72 136.303 Z\" fill=\"#000000\" fill-rule=\"nonzero\" fill-opacity=\"1\" /><path clip-path=\"url(#clip100)\" d=\"M2258.52 146.581 L2258.52 162.229 L2254.26 162.229 L2254.26 146.719 Q2254.26 143.039 2252.82 141.21 Q2251.39 139.382 2248.52 139.382 Q2245.07 139.382 2243.08 141.581 Q2241.09 143.78 2241.09 147.576 L2241.09 162.229 L2236.8 162.229 L2236.8 136.303 L2241.09 136.303 L2241.09 140.331 Q2242.61 137.993 2244.67 136.835 Q2246.76 135.678 2249.47 135.678 Q2253.93 135.678 2256.23 138.456 Q2258.52 141.21 2258.52 146.581 Z\" fill=\"#000000\" fill-rule=\"nonzero\" fill-opacity=\"1\" /></svg>\n"
      ]
     },
     "metadata": {},
     "output_type": "display_data"
    }
   ],
   "source": [
    "ab_df = DataFrame(CSV.File(\"./abcrown_result.csv\", header=true))\n",
    "ab_df[!,:value] = convert.(String15, ab_df[!,:value])\n",
    "ab_df[ab_df.value .== \"safe\", :value] .= \"holds\"\n",
    "ab_df[ab_df.value .== \"unsafe\", :value] .= \"violated\"\n",
    "t = histogram(ab_df.time, bins=100, label=\"ab_crown\")\n",
    "xlabel!(\"time (s)\")\n",
    "ylabel!(\"count\")\n",
    "display(t)"
   ]
  },
  {
   "cell_type": "code",
   "execution_count": 17,
   "metadata": {},
   "outputs": [
    {
     "name": "stdout",
     "output_type": "stream",
     "text": [
      "139\n",
      "45\n",
      "2\n"
     ]
    }
   ],
   "source": [
    "println(sum(ab_df.value .== \"holds\"))\n",
    "println(sum(ab_df.value .== \"violated\"))\n",
    "println(sum(ab_df.value .== \"unknown\"))"
   ]
  },
  {
   "cell_type": "code",
   "execution_count": 16,
   "metadata": {},
   "outputs": [
    {
     "name": "stdout",
     "output_type": "stream",
     "text": [
      "129\n",
      "45\n",
      "12\n"
     ]
    }
   ],
   "source": [
    "println(sum(mv_df.value .== \"holds\"))\n",
    "println(sum(mv_df.value .== \"violated\"))\n",
    "println(sum(mv_df.value .== \"unknown\"))"
   ]
  },
  {
   "cell_type": "code",
   "execution_count": 15,
   "metadata": {},
   "outputs": [
    {
     "data": {
      "text/plain": [
       "2-element Vector{AbstractVector{String15}}:\n",
       " [\"unknown\", \"unknown\", \"unknown\", \"unknown\", \"violated\", \"unknown\", \"unknown\", \"unknown\", \"unknown\", \"unknown\", \"unknown\", \"unknown\"]\n",
       " [\"holds\", \"holds\", \"holds\", \"holds\", \"unknown\", \"holds\", \"holds\", \"holds\", \"holds\", \"holds\", \"violated\", \"holds\"]"
      ]
     },
     "metadata": {},
     "output_type": "display_data"
    }
   ],
   "source": [
    "[mv_df[mv_df.value .!= ab_df.value, :value], ab_df[mv_df.value .!= ab_df.value, :value]]"
   ]
  },
  {
   "cell_type": "code",
   "execution_count": 15,
   "metadata": {},
   "outputs": [],
   "source": []
  }
 ],
 "metadata": {
  "kernelspec": {
   "display_name": "Julia 1.8.5",
   "language": "julia",
   "name": "julia-1.8"
  },
  "language_info": {
   "file_extension": ".jl",
   "mimetype": "application/julia",
   "name": "julia",
   "version": "1.8.5"
  },
  "orig_nbformat": 4
 },
 "nbformat": 4,
 "nbformat_minor": 2
}
