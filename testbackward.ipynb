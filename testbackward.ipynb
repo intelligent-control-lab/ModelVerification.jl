{
 "cells": [
  {
   "cell_type": "code",
   "execution_count": 1,
   "metadata": {},
   "outputs": [],
   "source": [
    "using Revise"
   ]
  },
  {
   "cell_type": "code",
   "execution_count": 25,
   "metadata": {},
   "outputs": [],
   "source": [
    "using Flux"
   ]
  },
  {
   "cell_type": "code",
   "execution_count": 100,
   "metadata": {},
   "outputs": [],
   "source": [
    "using PaddedViews"
   ]
  },
  {
   "cell_type": "code",
   "execution_count": 130,
   "metadata": {},
   "outputs": [],
   "source": [
    "using ModelVerification"
   ]
  },
  {
   "cell_type": "code",
   "execution_count": 131,
   "metadata": {},
   "outputs": [
    {
     "data": {
      "text/plain": [
       "backward_linear (generic function with 11 methods)"
      ]
     },
     "metadata": {},
     "output_type": "display_data"
    }
   ],
   "source": [
    "include(\"/home/verification/ModelVerification.jl/src/propagate/operators/convolution.jl\")"
   ]
  },
  {
   "cell_type": "code",
   "execution_count": 133,
   "metadata": {},
   "outputs": [
    {
     "name": "stdout",
     "output_type": "stream",
     "text": [
      "[3.900579315032516;;]"
     ]
    }
   ],
   "source": [
    "#= model = Chain(\n",
    "    Conv((4, 4), 3=>16, stride=2, pad=(1, 1), identity),\n",
    "    Conv((3, 3), 16=>32, stride=2, pad=(1, 1), identity),\n",
    "    Conv((5, 5), 32=>64, stride=2, pad=(1, 1), identity),\n",
    ") =#\n",
    "conv_layer = Conv((5, 5), 1 => 2, identity, stride = 2, pad = 0)\n",
    "W = conv_layer.weight\n",
    "b = conv_layer.bias\n",
    "W .= [0.1 0.2 0.3 0.4 0.5; 0.2 0.3 0.4 0.5 0.1; 0.3 0.4 0.5 0.1 0.2; 0.4 0.5 0.1 0.2 0.3; 0.5 0.1 0.2 0.3 0.4;;;;]\n",
    "b .= [0.5, 0.4]\n",
    "batch_output = [0.64565194 0.8964815 0.26604325 ; 0.033772767 0.014200091 0.91037345 ; 0.39184666 0.75411165 0.42149568;;;;]\n",
    "batch_output = repeat(batch_output, 1, 1, 2, 1)\n",
    "input_size = [10, 10]\n",
    "batch_reach, batch_reach_bias, info = backward_linear(conv_layer, input_size, batch_output, nothing)\n",
    "print(batch_reach_bias)"
   ]
  }
 ],
 "metadata": {
  "kernelspec": {
   "display_name": "Julia 1.8.5",
   "language": "julia",
   "name": "julia-1.8"
  },
  "language_info": {
   "file_extension": ".jl",
   "mimetype": "application/julia",
   "name": "julia",
   "version": "1.8.5"
  },
  "orig_nbformat": 4
 },
 "nbformat": 4,
 "nbformat_minor": 2
}
