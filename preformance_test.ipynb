{
 "cells": [
  {
   "cell_type": "code",
   "execution_count": 1,
   "metadata": {},
   "outputs": [],
   "source": [
    "using Revise "
   ]
  },
  {
   "cell_type": "code",
   "execution_count": 2,
   "metadata": {},
   "outputs": [],
   "source": [
    "using LazySets\n",
    "using ModelVerification"
   ]
  },
  {
   "cell_type": "code",
   "execution_count": 3,
   "metadata": {},
   "outputs": [
    {
     "data": {
      "text/plain": [
       "read_vnnlib_simple (generic function with 1 method)"
      ]
     },
     "metadata": {},
     "output_type": "display_data"
    }
   ],
   "source": [
    "using PyCall\n",
    "using CSV\n",
    "using ONNX\n",
    "using Flux\n",
    "include(\"/home/verification/ModelVerification.jl/vnnlib_parser.jl\")"
   ]
  },
  {
   "cell_type": "code",
   "execution_count": 4,
   "metadata": {},
   "outputs": [
    {
     "name": "stdout",
     "output_type": "stream",
     "text": [
      "0\n"
     ]
    },
    {
     "name": "stdout",
     "output_type": "stream",
     "text": [
      "(value"
     ]
    },
    {
     "name": "stdout",
     "output_type": "stream",
     "text": [
      " = \""
     ]
    },
    {
     "name": "stdout",
     "output_type": "stream",
     "text": [
      "ho"
     ]
    },
    {
     "name": "stdout",
     "output_type": "stream",
     "text": [
      "lds\", time = 71.758668519"
     ]
    },
    {
     "name": "stdout",
     "output_type": "stream",
     "text": [
      ", bytes = 1065175947, gctime = 1.742542446, gcstats = Base"
     ]
    },
    {
     "name": "stdout",
     "output_type": "stream",
     "text": [
      ".GC_Diff(1065175947, 538, 14, 19133510, 9174, 315, 1742542446, 5, 0))\n",
      "1"
     ]
    },
    {
     "name": "stdout",
     "output_type": "stream",
     "text": [
      "\n",
      "(value = \"holds\", time = 0.159230949, bytes = 27803369, gctime = 0.0, gcstats = Base.GC_Diff(27803369, 425, 0, 18613, 1573, 0, 0, 0, 0))\n"
     ]
    },
    {
     "name": "stdout",
     "output_type": "stream",
     "text": [
      "2\n",
      "(value = \"holds\", time = 0.272319935, bytes = 46688880, gctime = 0.0, gcstats = Base.GC_Diff(46688880, 738, 0, 27354, 2494, 0, 0, 0, 0))\n",
      "3"
     ]
    },
    {
     "name": "stdout",
     "output_type": "stream",
     "text": [
      "\n",
      "(value = \"holds\", time = 0.485466449, bytes = 32683293, gctime = 0.322641592, gcstats = Base.GC_Diff(32683293, 582, 0, 17848, 1303, 1840, 322641592, 1, 0))\n"
     ]
    },
    {
     "name": "stdout",
     "output_type": "stream",
     "text": [
      "4\n",
      "(value = \"holds\", time = 0.298813075, bytes = 61309008, gctime = 0.0, gcstats = Base.GC_Diff(61309008, 1054, 0, 33453, 3034, 0, 0, 0, 0))\n",
      "5"
     ]
    },
    {
     "name": "stdout",
     "output_type": "stream",
     "text": [
      "\n",
      "(value = \"holds\", time = 0.138175387, bytes = 21910810, gctime = 0.0, gcstats = Base.GC_Diff(21910810, 387, 0, 12696, 747, 0, 0, 0, 0))\n"
     ]
    },
    {
     "name": "stdout",
     "output_type": "stream",
     "text": [
      "6\n",
      "(value = \"holds\", time = 0.134449949, bytes = 22092353, gctime = 0.0, gcstats = Base.GC_Diff(22092353, 390, 0, 12332, 688, 0, 0, 0, 0))\n",
      "7\n",
      "(value = \"holds\", time = 0.085075915, bytes = 14794547, gctime = 0.0, gcstats = Base.GC_Diff(14794547, 247, 0, 10004, 497, 0, 0, 0, 0))\n"
     ]
    },
    {
     "name": "stdout",
     "output_type": "stream",
     "text": [
      "8\n",
      "(value = \"holds\", time = 0.129181079, bytes = 15026279, gctime = 0.0, gcstats = Base.GC_Diff(15026279, 241, 0, 9639, 442, 0, 0, 0, 0))\n",
      "9"
     ]
    },
    {
     "name": "stdout",
     "output_type": "stream",
     "text": [
      "\n",
      "(value = \"holds\", time = 0.348396244, bytes = 48069402, gctime = 0.0, gcstats = Base.GC_Diff(48069402, 900, 0, 22761, 1728, 0, 0, 0, 0))\n"
     ]
    },
    {
     "name": "stdout",
     "output_type": "stream",
     "text": [
      "10\n",
      "(value = \"holds\", time = 0.563218894, bytes = 79403970, gctime = 0.211101422, gcstats = Base.GC_Diff(79403970, 1478, 0, 36168, 3130, 3771, 211101422, 1, 0))\n",
      "11"
     ]
    },
    {
     "name": "stdout",
     "output_type": "stream",
     "text": [
      "\n",
      "(value = \"holds\", time = 0.195012782, bytes = 44943393, gctime = 0.0, gcstats = Base.GC_Diff(44943393, 780, 0, 24659, 2125, 0, 0, 0, 0))\n"
     ]
    },
    {
     "name": "stdout",
     "output_type": "stream",
     "text": [
      "12\n",
      "(value = \"holds\", time = 0.153563573, bytes = 30243888, gctime = 0.0, gcstats = Base.GC_Diff(30243888, 474, 0, 20466, 1724, 0, 0, 0, 0))\n",
      "13"
     ]
    },
    {
     "name": "stdout",
     "output_type": "stream",
     "text": [
      "\n",
      "(value = \"holds\", time = 0.282986307, bytes = 54237282, gctime = 0.0, gcstats = Base.GC_Diff(54237282, 941, 0, 29062, 2631, 0, 0, 0, 0))\n"
     ]
    },
    {
     "name": "stdout",
     "output_type": "stream",
     "text": [
      "14\n",
      "(value = \"holds\", time = 0.663907102, bytes = 134807041, gctime = 0.135300061, gcstats = Base.GC_Diff(134807041, 2168, 0, 76879, 8085, 3760, 135300061, 1, 0))\n",
      "15"
     ]
    },
    {
     "name": "stdout",
     "output_type": "stream",
     "text": [
      "\n",
      "(value = \"holds\", time = 2.034019763, bytes = 501126936, gctime = 0.073305242, gcstats = Base.GC_Diff(501126936, 7836, 0, 331972, 34944, 7216, 73305242, 2, 0))\n"
     ]
    },
    {
     "name": "stdout",
     "output_type": "stream",
     "text": [
      "16\n",
      "(value = \"holds\", time = 6.638762482, bytes = 1465110896, gctime = 0.556504966, gcstats = Base.GC_Diff(1465110896, 23427, 0, 969961, 113096, 24142, 556504966, 7, 0))\n",
      "17"
     ]
    },
    {
     "name": "stdout",
     "output_type": "stream",
     "text": [
      "\n",
      "(value = \"holds\", time = 7.174816372, bytes = 1667547254, gctime = 0.541227267, gcstats = Base.GC_Diff(1667547254, 24523, 0, 1174903, 136842, 25432, 541227267, 8, 0))\n"
     ]
    },
    {
     "name": "stdout",
     "output_type": "stream",
     "text": [
      "18\n",
      "(value = \"holds\", time = 0.137736296, bytes = 37454910, gctime = 0.0, gcstats = Base.GC_Diff(37454910, 625, 0, 21718, 1754, 0, 0, 0, 0))\n",
      "19"
     ]
    },
    {
     "name": "stdout",
     "output_type": "stream",
     "text": [
      "\n",
      "(value = \"holds\", time = 0.364239081, bytes = 64964788, gctime = 0.071865647, gcstats = Base.GC_Diff(64964788, 1052, 0, 35513, 3312, 2463, 71865647, 1, 0))\n"
     ]
    },
    {
     "name": "stdout",
     "output_type": "stream",
     "text": [
      "20\n",
      "(value = \"holds\", time = 0.240414064, bytes = 60988475, gctime = 0.0, gcstats = Base.GC_Diff(60988475, 1089, 0, 33520, 3017, 0, 0, 0, 0))\n",
      "21\n",
      "(value = \"holds\", time = 0.096495397, bytes = 26766178, gctime = 0.0, gcstats = Base.GC_Diff(26766178, 422, 0, 18261, 1537, 0, 0, 0, 0))\n"
     ]
    },
    {
     "name": "stdout",
     "output_type": "stream",
     "text": [
      "22\n",
      "(value = \"holds\", time = 0.361762231, bytes = 74103491, gctime = 0.0, gcstats = Base.GC_Diff(74103491, 1098, 0, 45873, 4827, 0, 0, 0, 0))\n",
      "23"
     ]
    },
    {
     "name": "stdout",
     "output_type": "stream",
     "text": [
      "\n",
      "(value = \"holds\", time = 0.971483495, bytes = 231061651, gctime = 0.096973485, gcstats = Base.GC_Diff(231061651, 4160, 0, 117045, 11892, 3505, 96973485, 1, 0))\n"
     ]
    },
    {
     "name": "stdout",
     "output_type": "stream",
     "text": [
      "24\n",
      "(value = \"holds\", time = 1.221000938, bytes = 257301122, gctime = 0.135323408, gcstats = Base.GC_Diff(257301122, 4245, 0, 152315, 16721, 7433, 135323408, 2, 0))\n",
      "25"
     ]
    },
    {
     "name": "stdout",
     "output_type": "stream",
     "text": [
      "\n",
      "(value = \"holds\", time = 1.245609799, bytes = 297880093, gctime = 0.069735619, gcstats = Base.GC_Diff(297880093, 4769, 0, 185723, 20832, 3561, 69735619, 1, 0))\n"
     ]
    },
    {
     "name": "stdout",
     "output_type": "stream",
     "text": [
      "26\n",
      "(value = \"holds\", time = 0.933012236, bytes = 222024519, gctime = 0.060688632, gcstats = Base.GC_Diff(222024519, 3608, 0, 141271, 15378, 3248, 60688632, 1, 0))\n",
      "27"
     ]
    },
    {
     "name": "stdout",
     "output_type": "stream",
     "text": [
      "\n",
      "(value = \"holds\", time = 0.310671622, bytes = 82470921, gctime = 0.0, gcstats = Base.GC_Diff(82470921, 1353, 0, 47800, 4491, 0, 0, 0, 0))\n"
     ]
    },
    {
     "name": "stdout",
     "output_type": "stream",
     "text": [
      "28\n",
      "(value = \"holds\", time = 0.280717237, bytes = 45714728, gctime = 0.050172993, gcstats = Base.GC_Diff(45714728, 791, 0, 24050, 1982, 3546, 50172993, 1, 0))\n",
      "29"
     ]
    },
    {
     "name": "stdout",
     "output_type": "stream",
     "text": [
      "\n",
      "(value = \"holds\", time = 0.153568982, bytes = 37329267, gctime = 0.0, gcstats = Base.GC_Diff(37329267, 603, 0, 21952, 1868, 0, 0, 0, 0))\n"
     ]
    },
    {
     "name": "stdout",
     "output_type": "stream",
     "text": [
      "30\n",
      "(value = \"holds\", time = 0.175561621, bytes = 43091852, gctime = 0.0, gcstats = Base.GC_Diff(43091852, 744, 0, 26765, 2320, 0, 0, 0, 0))\n",
      "31"
     ]
    },
    {
     "name": "stdout",
     "output_type": "stream",
     "text": [
      "\n",
      "(value = \"holds\", time = 0.271890068, bytes = 60136722, gctime = 0.0, gcstats = Base.GC_Diff(60136722, 1072, 0, 31617, 2887, 0, 0, 0, 0))\n"
     ]
    },
    {
     "name": "stdout",
     "output_type": "stream",
     "text": [
      "32\n",
      "(value = \"holds\", time = 0.506634966, bytes = 98649587, gctime = 0.047978397, gcstats = Base.GC_Diff(98649587, 1654, 0, 55741, 5412, 3748, 47978397, 1, 0))\n",
      "33"
     ]
    },
    {
     "name": "stdout",
     "output_type": "stream",
     "text": [
      "\n",
      "(value = \"holds\", time = 3.616065938, bytes = 966532173, gctime = 0.22766538, gcstats = Base.GC_Diff(966532173, 16252, 0, 558175, 63759, 15021, 227665380, 4, 0))\n"
     ]
    },
    {
     "name": "stdout",
     "output_type": "stream",
     "text": [
      "34\n",
      "(value = \"holds\", time = 1.946297085, bytes = 438156347, gctime = 0.129708827, gcstats = Base.GC_Diff(438156347, 7043, 0, 300214, 33306, 6931, 129708827, 2, 0))\n",
      "35"
     ]
    },
    {
     "name": "stdout",
     "output_type": "stream",
     "text": [
      "\n",
      "(value = \"holds\", time = 5.399823099, bytes = 1608807517, gctime = 0.423985506, gcstats = Base.GC_Diff(1608807517, 26845, 0, 1141479, 125227, 28261, 423985506, 8, 0))\n"
     ]
    },
    {
     "name": "stdout",
     "output_type": "stream",
     "text": [
      "36\n",
      "(value = \"holds\", time = 0.236109021, bytes = 67279471, gctime = 0.0, gcstats = Base.GC_Diff(67279471, 1240, 0, 35421, 3120, 0, 0, 0, 0))\n",
      "37"
     ]
    },
    {
     "name": "stdout",
     "output_type": "stream",
     "text": [
      "\n",
      "(value = \"holds\", time = 0.157298746, bytes = 42556332, gctime = 0.0, gcstats = Base.GC_Diff(42556332, 732, 0, 26420, 2217, 0, 0, 0, 0))\n"
     ]
    },
    {
     "name": "stdout",
     "output_type": "stream",
     "text": [
      "38\n",
      "(value = \"holds\", time = 0.165868061, bytes = 41654235, gctime = 0.0, gcstats = Base.GC_Diff(41654235, 727, 0, 23232, 1932, 0, 0, 0, 0))\n",
      "39"
     ]
    },
    {
     "name": "stdout",
     "output_type": "stream",
     "text": [
      "\n",
      "(value = \"holds\", time = 0.137625361, bytes = 28966138, gctime = 0.057657417, gcstats = Base.GC_Diff(28966138, 468, 0, 18628, 1533, 3533, 57657417, 1, 0))\n"
     ]
    },
    {
     "name": "stdout",
     "output_type": "stream",
     "text": [
      "40\n",
      "(value = \"holds\", time = 0.274762369, bytes = 70924723, gctime = 0.0, gcstats = Base.GC_Diff(70924723, 1205, 0, 39863, 3766, 0, 0, 0, 0))\n",
      "41"
     ]
    },
    {
     "name": "stdout",
     "output_type": "stream",
     "text": [
      "\n",
      "(value = \"holds\", time = 0.512970234, bytes = 165856656, gctime = 0.052226595, gcstats = Base.GC_Diff(165856656, 2923, 0, 89866, 9374, 3712, 52226595, 1, 0))\n"
     ]
    },
    {
     "name": "stdout",
     "output_type": "stream",
     "text": [
      "42\n",
      "(value = \"holds\", time = 2.638238252, bytes = 841874141, gctime = 0.229267555, gcstats = Base.GC_Diff(841874141, 13556, 0, 563363, 66428, 14246, 229267555, 4, 0))\n",
      "43"
     ]
    },
    {
     "name": "stdout",
     "output_type": "stream",
     "text": [
      "\n",
      "(value = \"holds\", time = 1.891940058, bytes = 529515203, gctime = 0.092554388, gcstats = Base.GC_Diff(529515203, 7569, 0, 364823, 40487, 6631, 92554388, 2, 0))\n"
     ]
    },
    {
     "name": "stdout",
     "output_type": "stream",
     "text": [
      "44\n",
      "(value = \"holds\", time = 0.989980278, bytes = 289425660, gctime = 0.067792466, gcstats = Base.GC_Diff(289425660, 5060, 0, 159417, 17572, 2756, 67792466, 1, 0))\n",
      "45"
     ]
    },
    {
     "name": "stdout",
     "output_type": "stream",
     "text": [
      "\n",
      "(value = \"violated\", time = 1.008808788, bytes = 57504139, gctime = 0.103978213, gcstats = Base.GC_Diff(57504139, 586, 0, 237493, 3177, 3517, 103978213, 1, 0))\n",
      "46"
     ]
    },
    {
     "name": "stdout",
     "output_type": "stream",
     "text": [
      "\n",
      "(value = \"violated\", time = 0.211882829, bytes = 49264897, gctime = 0.0, gcstats = Base.GC_Diff(49264897, 486, 0, 42881, 4333, 0, 0, 0, 0))\n",
      "47"
     ]
    },
    {
     "name": "stdout",
     "output_type": "stream",
     "text": [
      "\n",
      "(value = \"violated\", time = 0.110966904, bytes = 30127448, gctime = 0.0, gcstats = Base.GC_Diff(30127448, 498, 0, 17850, 1280, 0, 0, 0, 0))\n",
      "48"
     ]
    },
    {
     "name": "stdout",
     "output_type": "stream",
     "text": [
      "\n",
      "(value = \"violated\", time = 0.113914754, bytes = 30091765, gctime = 0.0, gcstats = Base.GC_Diff(30091765, 499, 0, 17753, 1261, 0, 0, 0, 0))\n",
      "49"
     ]
    },
    {
     "name": "stdout",
     "output_type": "stream",
     "text": [
      "\n",
      "(value = \"violated\", time = 0.122435828, bytes = 33530152, gctime = 0.0, gcstats = Base.GC_Diff(33530152, 578, 0, 17963, 1186, 0, 0, 0, 0))\n",
      "50"
     ]
    },
    {
     "name": "stdout",
     "output_type": "stream",
     "text": [
      "\n",
      "(value = \"violated\", time = 0.152192578, bytes = 29232978, gctime = 0.0, gcstats = Base.GC_Diff(29232978, 505, 0, 17650, 1228, 0, 0, 0, 0))\n",
      "51"
     ]
    },
    {
     "name": "stdout",
     "output_type": "stream",
     "text": [
      "\n",
      "(value = \"violated\", time = 0.490451632, bytes = 84604537, gctime = 0.104469415, gcstats = Base.GC_Diff(84604537, 772, 0, 69070, 7594, 3120, 104469415, 1, 0))\n",
      "52"
     ]
    },
    {
     "name": "stdout",
     "output_type": "stream",
     "text": [
      "\n",
      "(value = \"holds\", time = 3.578506527, bytes = 746758747, gctime = 0.264146093, gcstats = Base.GC_Diff(746758747, 2556, 0, 916209, 97990, 3120, 264146093, 3, 0))\n"
     ]
    },
    {
     "name": "stdout",
     "output_type": "stream",
     "text": [
      "53\n",
      "(value = \"holds\", time = 32.721173073, bytes = 5045871551, gctime = 2.885324292, gcstats = Base.GC_Diff(5045871551, 18292, 0, 6337245, 553934, 18480, 2885324292, 24, 0))\n",
      "54\n",
      "(value = \"violated\", time = 0.041478094, bytes = 3923266, gctime = 0.0, gcstats = Base.GC_Diff(3923266, 27, 0, 6978, 268, 0, 0, 0, 0))\n",
      "55\n",
      "(value = \"violated\", time = 0.049278051, bytes = 3942490, gctime = 0.0, gcstats = Base.GC_Diff(3942490, 27, 0, 6979, 268, 0, 0, 0, 0))\n",
      "56"
     ]
    },
    {
     "name": "stdout",
     "output_type": "stream",
     "text": [
      "\n",
      "(value = \"violated\", time = 0.045865171, bytes = 3814377, gctime = 0.0, gcstats = Base.GC_Diff(3814377, 26, 0, 6976, 269, 0, 0, 0, 0))\n",
      "57\n",
      "(value = \"violated\", time = 0.049057739, bytes = 3771160, gctime = 0.0, gcstats = Base.GC_Diff(3771160, 26, 0, 6977, 268, 0, 0, 0, 0))\n",
      "58"
     ]
    },
    {
     "name": "stdout",
     "output_type": "stream",
     "text": [
      "\n",
      "(value = \"violated\", time = 0.049954108, bytes = 3846378, gctime = 0.0, gcstats = Base.GC_Diff(3846378, 26, 0, 6976, 269, 0, 0, 0, 0))\n",
      "59\n",
      "(value = \"violated\", time = 0.029455968, bytes = 3997033, gctime = 0.0, gcstats = Base.GC_Diff(3997033, 27, 0, 6979, 268, 0, 0, 0, 0))\n",
      "60\n",
      "(value = \"violated\", time = 0.04944473, bytes = 4014544, gctime = 0.0, gcstats = Base.GC_Diff(4014544, 31, 0, 6983, 264, 0, 0, 0, 0))\n",
      "61"
     ]
    },
    {
     "name": "stdout",
     "output_type": "stream",
     "text": [
      "\n",
      "(value = \"violated\", time = 0.033917808, bytes = 4004040, gctime = 0.0, gcstats = Base.GC_Diff(4004040, 27, 0, 6979, 268, 0, 0, 0, 0))\n",
      "62\n",
      "(value = \"violated\", time = 0.017474018, bytes = 4079518, gctime = 0.0, gcstats = Base.GC_Diff(4079518, 31, 0, 6983, 264, 0, 0, 0, 0))\n",
      "63\n",
      "(value = \"violated\", time = 0.049279136, bytes = 3829062, gctime = 0.0, gcstats = Base.GC_Diff(3829062, 26, 0, 6976, 269, 0, 0, 0, 0))\n",
      "64"
     ]
    },
    {
     "name": "stdout",
     "output_type": "stream",
     "text": [
      "\n",
      "(value = \"violated\", time = 0.030350938, bytes = 3880620, gctime = 0.0, gcstats = Base.GC_Diff(3880620, 27, 0, 6979, 268, 0, 0, 0, 0))\n",
      "65\n",
      "(value = \"violated\", time = 0.029447759, bytes = 3877267, gctime = 0.0, gcstats = Base.GC_Diff(3877267, 27, 0, 6979, 268, 0, 0, 0, 0))\n",
      "66\n",
      "(value = \"violated\", time"
     ]
    },
    {
     "name": "stdout",
     "output_type": "stream",
     "text": [
      " = 0.037073242, bytes = 3762282, gctime = 0.0, gcstats = Base.GC_Diff(3762282, 26, 0, 6977, 268, 0, 0, 0, 0))\n",
      "67\n",
      "(value = \"violated\", time = 0.049630152, bytes = 3822251, gctime = 0.0, gcstats = Base.GC_Diff(3822251, 26, 0, 6976, 269, 0, 0, 0, 0))\n",
      "68\n",
      "(value = \"violated\", time = 0.017737832, bytes = 3982187, gctime = 0.0, gcstats = Base.GC_Diff(3982187, 27, 0, 6978, 268, 0, 0, 0, 0))\n",
      "69\n",
      "(value = \"violated\", time = 0.029554765, bytes = 4075514, gctime = 0.0, gcstats = Base.GC_Diff(4075514, 31, 0, 6982, 264, 0, 0, 0, 0))"
     ]
    },
    {
     "name": "stdout",
     "output_type": "stream",
     "text": [
      "\n",
      "70\n",
      "(value = \"violated\", time = 0.032222958, bytes = 3979285, gctime = 0.0, gcstats = Base.GC_Diff(3979285, 27, 0, 6979, 268, 0, 0, 0, 0))\n",
      "71"
     ]
    },
    {
     "name": "stdout",
     "output_type": "stream",
     "text": [
      "\n",
      "(value = \"violated\", time = 0.049349755, bytes = 3992655, gctime = 0.0, gcstats = Base.GC_Diff(3992655, 31, 0, 6981, 264, 0, 0, 0, 0))\n",
      "72\n",
      "(value = \"violated\", time = 0.028944128, bytes = 3782913, gctime = 0.0, gcstats = Base.GC_Diff(3782913, 26, 0, 6976, 269, 0, 0, 0, 0))\n",
      "73\n",
      "(value = \"violated\", time = 0.009291047, bytes = 3883424, gctime = 0.0, gcstats = Base.GC_Diff(3883424, 27, 0, 6979, 268, 0, 0, 0, 0))\n",
      "74\n",
      "(value = \"violated\", time = 0.009494523, bytes = 3856107, gctime = 0.0, gcstats = Base.GC_Diff(3856107, 26, 0, 6976, 269, 0, 0, 0, 0))\n",
      "75\n",
      "(value = \"violate"
     ]
    },
    {
     "name": "stdout",
     "output_type": "stream",
     "text": [
      "d\", time = 0.029605866, bytes = 3718132, gctime = 0.0, gcstats = Base.GC_Diff(3718132, 26, 0, 6977, 268, 0, 0, 0, 0))\n",
      "76\n",
      "(value = \"violated\", time = 0.059130529, bytes = 3952778, gctime = 0.0, gcstats = Base.GC_Diff(3952778, 27, 0, 6978, 268, 0, 0, 0, 0))\n",
      "77\n",
      "(value = \"violated\", time = 0.029240611, bytes = 3959563, gctime = 0.0, gcstats = Base.GC_Diff(3959563, 27, 0, 6979, 268, 0, 0, 0, 0))\n",
      "78"
     ]
    },
    {
     "name": "stdout",
     "output_type": "stream",
     "text": [
      "\n",
      "(value = \"violated\", time = 0.049933401, bytes = 3982437, gctime = 0.0, gcstats = Base.GC_Diff(3982437, 30, 0, 6980, 265, 0, 0, 0, 0))\n",
      "79\n",
      "(value = \"violated\", time = 0.053343254, bytes = 4044835, gctime = 0.0, gcstats = Base.GC_Diff(4044835, 31, 0, 6982, 264, 0, 0, 0, 0))\n",
      "80"
     ]
    },
    {
     "name": "stdout",
     "output_type": "stream",
     "text": [
      "\n",
      "(value = \"violated\", time = 0.029453412, bytes = 4031621, gctime = 0.0, gcstats = Base.GC_Diff(4031621, 31, 0, 6982, 264, 0, 0, 0, 0))\n",
      "81\n",
      "(value = \"violated\", time = 0.029201014, bytes = 3843351, gctime = 0.0, gcstats = Base.GC_Diff(3843351, 27, 0, 6979, 268, 0, 0, 0, 0))\n",
      "82\n",
      "(value = \"violated\", time = 0.024983332, bytes = 3786340, gctime = 0.0, gcstats = Base.GC_Diff(3786340, 26, 0, 6976, 269, 0, 0, 0, 0))\n",
      "83"
     ]
    },
    {
     "name": "stdout",
     "output_type": "stream",
     "text": [
      "\n",
      "(value = \"violated\", time = 0.053836686, bytes = 3849459, gctime = 0.0, gcstats = Base.GC_Diff(3849459, 26, 0, 6976, 269, 0, 0, 0, 0))\n",
      "84\n",
      "(value = \"violated\", time = 0.029220019, bytes = 3786882, gctime = 0.0, gcstats = Base.GC_Diff(3786882, 26, 0, 6976, 269, 0, 0, 0, 0))\n",
      "85\n",
      "(value = \"violated\", time = 0.064939809, bytes = 3890187, gctime = 0.0, gcstats = Base.GC_Diff(3890187, 26, 0, 6976, 269, 0, 0, 0, 0))\n",
      "86"
     ]
    },
    {
     "name": "stdout",
     "output_type": "stream",
     "text": [
      "\n",
      "(value = \"violated\", time = 0.037417715, bytes = 4017064, gctime = 0.0, gcstats = Base.GC_Diff(4017064, 27, 0, 6979, 268, 0, 0, 0, 0))\n",
      "87\n",
      "(value = \"violated\", time = 0.030488607, bytes = 4061717, gctime = 0.0, gcstats = Base.GC_Diff(4061717, 31, 0, 6983, 264, 0, 0, 0, 0))\n",
      "88\n",
      "(value = \"violated\", time = 0.049299111, bytes = 4076235, gctime = 0.0, gcstats"
     ]
    },
    {
     "name": "stdout",
     "output_type": "stream",
     "text": [
      " = Base.GC_Diff(4076235, 31, 0, 6983, 264, 0, 0, 0, 0))\n",
      "89\n",
      "(value = \"violated\", time = 0.04936164, bytes = 4034884, gctime = 0.0, gcstats = Base.GC_Diff(4034884, 27, 0, 6979, 268, 0, 0, 0, 0))\n",
      "90\n",
      "(value = \"violated\", time = 0.028941531, bytes = 2987555, gctime = 0.0, gcstats = Base.GC_Diff(2987555, 11, 0, 6954, 281, 0, 0, 0, 0))\n",
      "91"
     ]
    },
    {
     "name": "stdout",
     "output_type": "stream",
     "text": [
      "\n",
      "(value = \"violated\", time = 0.026566554, bytes = 2974225, gctime = 0.0, gcstats = Base.GC_Diff(2974225, 11, 0, 6952, 281, 0, 0, 0, 0))\n",
      "92\n",
      "(value = \"violated\", time = 0.02941206, bytes = 3179560, gctime = 0.0, gcstats = Base.GC_Diff(3179560, 16, 0, 6960, 278, 0, 0, 0, 0))\n",
      "93"
     ]
    },
    {
     "name": "stdout",
     "output_type": "stream",
     "text": [
      "\n",
      "(value = \"violated\", time = 0.069979852, bytes = 3096533, gctime = 0.0, gcstats = Base.GC_Diff(3096533, 15, 0, 6956, 278, 0, 0, 0, 0))\n",
      "94\n",
      "(value = \"violated\", time = 0.028893783, bytes = 3070792, gctime = 0.0, gcstats = Base.GC_Diff(3070792, 15, 0, 6956, 279, 0, 0, 0, 0))\n",
      "95\n",
      "(value = \"violated\", time = 0.009244625, bytes = 3038034, gctime = 0.0, gcstats = Base.GC_Diff(3038034, 15, 0, 6957, 278, 0, 0, 0, 0))\n",
      "96\n",
      "(value = \"violated\", time = 0.009014248, bytes = 2945129, gctime = 0.0, gcstats = Base.GC_Diff(2945129, 10, 0, 6946, 284, 0, 0, 0, 0))\n",
      "97\n",
      "(value = \"violated\", time = 0.008646254, bytes = 2863227, gctime = 0.0, gcstats = Base.GC_Diff(2863227, 6, 0, 6942, 284, 0, 0, 0, 0))\n",
      "98"
     ]
    },
    {
     "name": "stdout",
     "output_type": "stream",
     "text": [
      "\n",
      "(value = \"violated\", time = 0.052842419, bytes = 2903775, gctime = 0.0, gcstats = Base.GC_Diff(2903775, 6, 0, 6940, 288, 0, 0, 0, 0))\n",
      "99\n",
      "(value = \"violated\", time = 0.037460567, bytes = 4362082, gctime = 0.0, gcstats = Base.GC_Diff(4362082, 42, 0, 7400, 313, 0, 0, 0, 0))\n",
      "100\n",
      "(value = \"violated\", time = 0.050582544, bytes = 3856442, gctime = 0.0, gcstats = Base.GC_Diff(3856442, 28, 0, 7379, 327, 0, 0, 0, 0))"
     ]
    },
    {
     "name": "stdout",
     "output_type": "stream",
     "text": [
      "\n",
      "101\n",
      "(value = \"violated\", time = 0.029648258, bytes = 3960105, gctime = 0.0, gcstats = Base.GC_Diff(3960105, 32, 0, 7381, 323, 0, 0, 0, 0))\n",
      "102\n",
      "(value = \"violated\", time = 0.050205877, bytes = 4754200, gctime = 0.0, gcstats = Base.GC_Diff(4754200, 32, 0, 8124, 438, 0, 0, 0, 0))\n",
      "103"
     ]
    },
    {
     "name": "stdout",
     "output_type": "stream",
     "text": [
      "\n",
      "(value = \"violated\", time = 0.029626908, bytes = 3974506, gctime = 0.0, gcstats = Base.GC_Diff(3974506, 33, 0, 7387, 321, 0, 0, 0, 0))\n",
      "104"
     ]
    },
    {
     "name": "stdout",
     "output_type": "stream",
     "text": [
      "\n",
      "(value = \"violated\", time = 0.079109346, bytes = 9708937, gctime = 0.0, gcstats = Base.GC_Diff(9708937, 110, 0, 11207, 843, 0, 0, 0, 0))\n",
      "105"
     ]
    },
    {
     "name": "stdout",
     "output_type": "stream",
     "text": [
      "\n",
      "(value = \"holds\", time = 3.00013867, bytes = 484740112, gctime = 0.339374813, gcstats = Base.GC_Diff(484740112, 978, 0, 679317, 75043, 2597, 339374813, 3, 0))\n",
      "106\n",
      "(value = \"violated\", time = 0.020753047, bytes = 3723544, gctime = 0.0, gcstats = Base.GC_Diff(3723544, 25, 0, 7381, 330, 0, 0, 0, 0))\n",
      "107\n",
      "(value = \"violated\", time = 0.023905003, bytes = 2964830, gctime = 0.0, gcstats = Base.GC_Diff(2964830, 10, 0, 6951, 282, 0, 0, 0, 0))\n",
      "108\n",
      "(value = \"violated\", time = 0.024321338, bytes = 3288438, gctime = 0.0, gcstats = Base.GC_Diff(3288438, 17, 0, 6964, 275, 0, 0, 0, 0))\n",
      "109\n",
      "(value = \"violated\", time = 0.014135332, bytes = 3143980, gctime = 0.0, gcstats = Base.GC_Diff(3143980, 16, 0, 6960, 277, 0, 0, 0, 0))\n"
     ]
    },
    {
     "name": "stdout",
     "output_type": "stream",
     "text": [
      "110\n",
      "(value = \"violated\", time = 0.049385593, bytes = 3088691, gctime = 0.0, gcstats = Base.GC_Diff(3088691, 16, 0, 6956, 277, 0, 0, 0, 0))\n",
      "111\n",
      "(value = \"violated\", time = 0.031632271, bytes = 5727674, gctime = 0.0, gcstats = Base.GC_Diff(5727674, 67, 0, 8145, 412, 0, 0, 0, 0))\n",
      "112\n",
      "(value = \"violated\", time = 0.040981716, bytes = 3116955, gctime = 0.0, gcstats = Base.GC_Diff(3116955, 16, 0, 6961, 276, 0, 0, 0, 0))\n",
      "113\n",
      "(value = \"violated\", time = 0.0077983, bytes = 3294843, gctime = 0.0, gcstats = Base.GC_Diff(3294843, 21, 0, 6965, 273, 0, 0, 0, 0))\n"
     ]
    },
    {
     "name": "stdout",
     "output_type": "stream",
     "text": [
      "114\n",
      "(value = \"violated\", time = 0.039990485, bytes = 31937962, gctime = 0.0, gcstats = Base.GC_Diff(31937962, 70, 0, 37469, 4641, 0, 0, 0, 0))\n"
     ]
    },
    {
     "name": "stdout",
     "output_type": "stream",
     "text": [
      "115\n",
      "(value = \"holds\", time = 114.971418898, bytes = 25122371701, gctime = 8.146001792, gcstats = Base.GC_Diff(25122371701, 46605, 0, 16316273, 933991, 46904, 8146001792, 111, 0))\n",
      "116\n",
      "(value = \"holds\", time = 0.054483568, bytes = 8171807, gctime = 0.0, gcstats = Base.GC_Diff(8171807, 40, 0, 11482, 949, 0, 0, 0, 0))\n"
     ]
    },
    {
     "name": "stdout",
     "output_type": "stream",
     "text": [
      "117\n",
      "(value = \"violated\", time = 0.044957105, bytes = 3107217, gctime = 0.0, gcstats = Base.GC_Diff(3107217, 16, 0, 6960, 277, 0, 0, 0, 0))\n",
      "118\n",
      "(value = \"violated\", time = 0.043116828, bytes = 3928448, gctime = 0.0, gcstats = Base.GC_Diff(3928448, 31, 0, 7395, 324, 0, 0, 0, 0))\n",
      "119\n",
      "(value = \"violated\", time = 0.032991646, bytes = 3168187, gctime = 0.0, gcstats = Base.GC_Diff(3168187, 16, 0, 6960, 277, 0, 0, 0, 0))\n"
     ]
    },
    {
     "name": "stdout",
     "output_type": "stream",
     "text": [
      "120\n",
      "(value = \"violated\", time = 0.048754628, bytes = 3055156, gctime = 0.0, gcstats = Base.GC_Diff(3055156, 12, 0, 6951, 282, 0, 0, 0, 0))\n",
      "121\n",
      "(value = \"violated\", time = 0.046651291, bytes = 3030906, gctime = 0.0, gcstats = Base.GC_Diff(3030906, 11, 0, 6950, 282, 0, 0, 0, 0))\n"
     ]
    },
    {
     "name": "stdout",
     "output_type": "stream",
     "text": [
      "122\n",
      "(value = \"violated\", time = 4.070952324, bytes = 813674507, gctime = 0.451582614, gcstats = Base.GC_Diff(813674507, 4227, 0, 950573, 89446, 4252, 451582614, 4, 0))\n",
      "123\n",
      "(value = \"violated\", time = 0.008747976, bytes = 3233445, gctime = 0.0, gcstats = Base.GC_Diff(3233445, 16, 0, 6959, 278, 0, 0, 0, 0))\n"
     ]
    },
    {
     "name": "stdout",
     "output_type": "stream",
     "text": [
      "124\n",
      "(value = \"holds\", time = 0.089642909, bytes = 30125635, gctime = 0.0, gcstats = Base.GC_Diff(30125635, 75, 0, 32029, 3830, 0, 0, 0, 0))\n",
      "125"
     ]
    },
    {
     "name": "stdout",
     "output_type": "stream",
     "text": [
      "\n",
      "(value = \"holds\", time = 1.702393597, bytes = 331592597, gctime = 0.084376559, gcstats = Base.GC_Diff(331592597, 273, 0, 458285, 53140, 404, 84376559, 1, 0))\n",
      "126\n",
      "(value = \"violated\", time = 0.008442457, bytes = 3121607, gctime = 0.0, gcstats = Base.GC_Diff(3121607, 16, 0, 6960, 277, 0, 0, 0, 0))\n",
      "127\n",
      "(value = \"violated\", time = 0.009316393, bytes = 3004356, gctime = 0.0, gcstats = Base.GC_Diff(3004356, 11, 0, 6951, 282, 0, 0, 0, 0))\n",
      "128\n",
      "(value = \"violated\", time = 0.02476924, bytes = 3101459, gctime = 0.0, gcstats = Base.GC_Diff(3101459, 16, 0, 6960, 277, 0, 0, 0, 0))\n"
     ]
    },
    {
     "name": "stdout",
     "output_type": "stream",
     "text": [
      "129\n",
      "(value = \"violated\", time = 0.13166003, bytes = 3018354, gctime = 0.09685123, gcstats = Base.GC_Diff(3018354, 11, 0, 6951, 282, 167, 96851230, 1, 0))\n",
      "130\n",
      "(value = \"violated\", time = 0.044844232, bytes = 3303083, gctime = 0.0, gcstats = Base.GC_Diff(3303083, 21, 0, 6969, 272, 0, 0, 0, 0))\n",
      "131\n",
      "(value = \"violated\", time = 0.027525407, bytes = 3332264, gctime = 0.0, gcstats = Base.GC_Diff(3332264, 21, 0, 6968, 273, 0, 0, 0, 0))\n"
     ]
    },
    {
     "name": "stdout",
     "output_type": "stream",
     "text": [
      "132\n",
      "(value = \"holds\", time = 0.075298361, bytes = 15034453, gctime = 0.0, gcstats = Base.GC_Diff(15034453, 12, 0, 20909, 2303, 0, 0, 0, 0))\n",
      "111111111111"
     ]
    },
    {
     "name": "stdout",
     "output_type": "stream",
     "text": [
      "\n",
      "527.953886243"
     ]
    },
    {
     "ename": "InterruptException",
     "evalue": "Error trying to display an error.",
     "output_type": "error",
     "traceback": [
      "Error trying to display an error."
     ]
    }
   ],
   "source": [
    "function onnx_to_nnet(onnx_file)\n",
    "    pushfirst!(PyVector(pyimport(\"sys\").\"path\"), @__DIR__)\n",
    "    nnet = pyimport(\"NNet\")\n",
    "    use_gz = split(onnx_file, \".\")[end] == \"gz\"\n",
    "    if use_gz\n",
    "        onnx_file = onnx_file[1:end-3]\n",
    "    end\n",
    "    nnet_file = onnx_file[1:end-4] * \"nnet\"\n",
    "    isfile(nnet_file) && return\n",
    "    nnet.onnx2nnet(onnx_file, nnetFile=nnet_file)\n",
    "end\n",
    "\n",
    "function verify_an_instance(onnx_file, spec_file, timeout)\n",
    "    use_gz = split(onnx_file, \".\")[end] == \"gz\"\n",
    "    nnet_file = use_gz ? onnx_file[1:end-7] * \"nnet\" : onnx_file[1:end-4] * \"nnet\"\n",
    "    net = ModelVerification.read_nnet(nnet_file)\n",
    "    n_in = size(net.layers[1].weights)[2]\n",
    "    n_out = length(net.layers[end].bias)\n",
    "    flux_model = Flux.Chain(net)\n",
    "    specs = read_vnnlib_simple(spec_file, n_in, n_out)\n",
    "    current_time = 0\n",
    "    for spec in specs\n",
    "        X_range, Y_cons = spec\n",
    "        lb = [bd[1] for bd in X_range]\n",
    "        ub = [bd[2] for bd in X_range]\n",
    "        X = Hyperrectangle(low = lb, high = ub)\n",
    "        res = nothing\n",
    "        A = []\n",
    "        b = []\n",
    "        for Y_con in Y_cons\n",
    "            A = hcat(Y_con[1]...)'\n",
    "            b = Y_con[2]\n",
    "            Y = HPolytope(-A, -b)\n",
    "            search_method = BFS(max_iter=1e5, batch_size=4)\n",
    "            split_method = Bisect(1)\n",
    "            prop_method = Ai2z()\n",
    "            problem = Problem(flux_model, X, Y)\n",
    "            res = @timed verify(search_method, split_method, prop_method, problem)\n",
    "            current_time += res.time \n",
    "            if(current_time >= timeout)\n",
    "                print(111111111111)\n",
    "                print(\"\\n\")\n",
    "                print(current_time)\n",
    "                print(\"\\n\")\n",
    "                print(111111111)\n",
    "                print(\"\\n\")\n",
    "                return \"unknown\"\n",
    "            end\n",
    "\n",
    "            res.value.status == :violated && (return \"violated\")\n",
    "            res.value.status == :unknown && (return \"unknown\")\n",
    "        end\n",
    "    end\n",
    "    return \"holds\"\n",
    "end\n",
    "\n",
    "function main(args)\n",
    "    file = CSV.File(args, header=false)\n",
    "    dirpath = args[1:end-20]      \n",
    "    outpath = dirpath * \"out_MV.txt\"\n",
    "    result_file = open(\"/home/verification/ModelVerification.jl/output_MV.txt\", \"w\")\n",
    "    all_time = 0\n",
    "    ave_time = 0\n",
    "    instance_num = -1\n",
    "    max_time = 0\n",
    "    min_time = Inf\n",
    "    hold_number = 0\n",
    "    max_memory = 0\n",
    "    all_memory = 0\n",
    "    ave_memory = 0\n",
    "    for row in file\n",
    "        instance_num += 1\n",
    "        onnx_file = dirpath * row[1] \n",
    "        vnnlib_file = dirpath * row[2]\n",
    "        timeout = row[3]\n",
    "        onnx_to_nnet(onnx_file)\n",
    "        result = @timed verify_an_instance(onnx_file, vnnlib_file, timeout)\n",
    "        print(instance_num)\n",
    "        print(\"\\n\")\n",
    "        print(result)\n",
    "        print(\"\\n\") \n",
    "        all_time += result.time\n",
    "        all_memory += result.bytes \n",
    "        if result.time > max_time\n",
    "            max_time = result.time\n",
    "        elseif result.time < min_time\n",
    "            min_time = result.time\n",
    "        end\n",
    "\n",
    "        if result.bytes > max_memory\n",
    "            max_memory = result.bytes\n",
    "        end\n",
    "\n",
    "        if(result.value === \"holds\")\n",
    "            hold_number += 1\n",
    "        end\n",
    "\n",
    "        text = \"This is instance $instance_num.\\n\"\n",
    "        write(result_file, text)\n",
    "        write(result_file, result.value)\n",
    "        write(result_file, \"\\n\")\n",
    "    end\n",
    "    ave_time = all_time / (instance_num + 1)\n",
    "    ave_memory = all_memory / (instance_num + 1)\n",
    "    print(ave_time)\n",
    "    print(\"\\n\")\n",
    "    print(max_time)\n",
    "    print(\"\\n\")\n",
    "    print(min_time)\n",
    "    print(\"\\n\")\n",
    "    print(hold_number)\n",
    "    print(\"\\n\")\n",
    "    text = \"average time is $ave_time.\\n\"\n",
    "    write(result_file, text)\n",
    "    write(result_file, \"\\n\")\n",
    "    text = \"max time is $max_time.\\n\"\n",
    "    write(result_file, text)\n",
    "    write(result_file, \"\\n\")\n",
    "    text = \"min time is $min_time.\\n\"\n",
    "    write(result_file, text)\n",
    "    write(result_file, \"\\n\")\n",
    "    text = \"holds number is $hold_number.\\n\"\n",
    "    write(result_file, text)\n",
    "    write(result_file, \"\\n\")\n",
    "    text = \"average bytes is $ave_memory.\\n\"\n",
    "    write(result_file, text)\n",
    "    write(result_file, \"\\n\")\n",
    "    text = \"max bytes is $max_memory.\\n\"\n",
    "    write(result_file, text)\n",
    "    write(result_file, \"\\n\")\n",
    "    #close(file)\n",
    "    close(result_file)\n",
    "end\n",
    "\n",
    "main(\"/home/verification/vnncomp2021/benchmarks/acasxu/acasxu_instances.csv\")"
   ]
  }
 ],
 "metadata": {
  "kernelspec": {
   "display_name": "Julia 1.8.5",
   "language": "julia",
   "name": "julia-1.8"
  },
  "language_info": {
   "file_extension": ".jl",
   "mimetype": "application/julia",
   "name": "julia",
   "version": "1.8.5"
  },
  "orig_nbformat": 4
 },
 "nbformat": 4,
 "nbformat_minor": 2
}
