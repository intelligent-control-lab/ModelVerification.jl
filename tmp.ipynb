{
 "cells": [
  {
   "cell_type": "code",
   "execution_count": 1,
   "metadata": {},
   "outputs": [],
   "source": [
    "using Revise"
   ]
  },
  {
   "cell_type": "code",
   "execution_count": 2,
   "metadata": {},
   "outputs": [],
   "source": [
    "using ModelVerification"
   ]
  },
  {
   "cell_type": "code",
   "execution_count": 3,
   "metadata": {},
   "outputs": [],
   "source": [
    "using Flux\n",
    "using LazySets"
   ]
  },
  {
   "cell_type": "code",
   "execution_count": 5,
   "metadata": {},
   "outputs": [
    {
     "name": "stdout",
     "output_type": "stream",
     "text": [
      "batch_reach\n",
      "Any[Hyperrectangle{Float64, Vector{Float64}, Vector{Float64}}([0.0], [2.5])]\n",
      "Vector{Any}\n",
      "batch_reach\n",
      "Zonotope{Float64, Vector{Float64}, Matrix{Float64}}[Zonotope{Float64, Vector{Float64}, Matrix{Float64}}([1.5, 1.5], [2.5; 2.5;;])]\n",
      "Vector{Zonotope{Float64, Vector{Float64}, Matrix{Float64}}}\n",
      "batch_reach\n",
      "Zonotope{Float64, Vector{Float64}, Matrix{Float64}}[Zonotope{Float64, Vector{Float64}, Matrix{Float64}}([8.5, 8.5], [10.0; 10.0;;])]\n",
      "Vector{Zonotope{Float64, Vector{Float64}, Matrix{Float64}}}\n",
      "sub_branches"
     ]
    },
    {
     "name": "stdout",
     "output_type": "stream",
     "text": [
      "\n",
      "Tuple{Hyperrectangle{Float64, Vector{Float64}, Vector{Float64}}, Hyperrectangle{Float64, Vector{Float64}, Vector{Float64}}, Nothing}"
     ]
    },
    {
     "name": "stdout",
     "output_type": "stream",
     "text": [
      "[(Hyperrectangle{Float64, Vector{Float64}, Vector{Float64}}([-1.25], [1.25]), Hyperrectangle{Float64, Vector{Float64}, Vector{Float64}}([45.0], [15.0]), nothing), (Hyperrectangle{Float64, Vector{Float64}, Vector{Float64}}([1.25], [1.25]), Hyperrectangle{Float64, Vector{Float64}, Vector{Float64}}([45.0], [15.0]), nothing)]\n",
      "batch_reach\n",
      "Any[Hyperrectangle{Float64, Vector{Float64}, Vector{Float64}}([-1.25], [1.25])]\n",
      "Vector{Any}\n",
      "batch_reach\n",
      "Zonotope{Float64, Vector{Float64}, Matrix{Float64}}[Zonotope{Float64, Vector{Float64}, Matrix{Float64}}([0.25, 0.25], [1.25; 1.25;;])]\n",
      "Vector{Zonotope{Float64, Vector{Float64}, Matrix{Float64}}}\n",
      "batch_reach\n",
      "Zonotope{Float64, Vector{Float64}, Matrix{Float64}}[Zonotope{Float64, Vector{Float64}, Matrix{Float64}}([3.5, 3.5], [5.0; 5.0;;])]\n",
      "Vector{Zonotope{Float64, Vector{Float64}, Matrix{Float64}}}\n"
     ]
    },
    {
     "data": {
      "text/plain": [
       "CounterExampleResult(:violated, [-1.25])"
      ]
     },
     "metadata": {},
     "output_type": "display_data"
    }
   ],
   "source": [
    "small_nnet_file = \"../test/networks/small_nnet.nnet\"\n",
    "# small_nnet encodes the simple function 24*max(x + 1.5, 0) + 18.5\n",
    "small_nnet = ModelVerification.read_nnet(small_nnet_file)\n",
    "model = Flux.Chain(small_nnet)\n",
    "input = Hyperrectangle(low = [-2.5], high = [2.5])\n",
    "output = Hyperrectangle(low = [30.0], high = [60.0])\n",
    "info = nothing\n",
    "prop_method = Ai2z()\n",
    "search_method = BFS(max_iter=100, batch_size=1)\n",
    "split_method = Bisect(1)\n",
    "problem = Problem(model, input, output)\n",
    "verify(search_method, split_method, prop_method, problem)\n"
   ]
  },
  {
   "cell_type": "code",
   "execution_count": null,
   "metadata": {},
   "outputs": [],
   "source": []
  }
 ],
 "metadata": {
  "kernelspec": {
   "display_name": "Julia 1.8.5",
   "language": "julia",
   "name": "julia-1.8"
  },
  "language_info": {
   "file_extension": ".jl",
   "mimetype": "application/julia",
   "name": "julia",
   "version": "1.8.5"
  },
  "orig_nbformat": 4
 },
 "nbformat": 4,
 "nbformat_minor": 2
}
