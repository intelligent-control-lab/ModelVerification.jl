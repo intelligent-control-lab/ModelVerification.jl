{
 "cells": [
  {
   "cell_type": "code",
   "execution_count": 9,
   "metadata": {},
   "outputs": [],
   "source": [
    "using Flux\n",
    "using ONNX\n",
    "using ONNXNaiveNASflux\n",
    "using Flux, Statistics\n",
    "using Flux: onehotbatch, onecold, logitcrossentropy, @epochs#, @treelike\n",
    "using MLDatasets\n",
    "using ResNet"
   ]
  },
  {
   "cell_type": "code",
   "execution_count": 31,
   "metadata": {},
   "outputs": [
    {
     "data": {
      "text/plain": [
       "67023"
      ]
     },
     "metadata": {},
     "output_type": "display_data"
    }
   ],
   "source": [
    "model = Chain([\n",
    "    Conv((3, 3), 3 => 8, relu, pad=SamePad(), stride=(2, 2)), #pad=SamePad() ensures size(output,d) == size(x,d) / stride.\n",
    "    BatchNorm(8),\n",
    "    MeanPool((2,2)),\n",
    "    SkipConnection(\n",
    "        Chain([\n",
    "            Conv((5, 5), 8 => 8, relu, pad=SamePad(), stride=(1, 1))\n",
    "            ]),\n",
    "        +\n",
    "    ),\n",
    "    Conv((3, 3), 8 => 8, relu, pad=SamePad(), stride=(2, 2)),\n",
    "    #ConvTranspose((3, 3), 8 => 4, relu, pad=SamePad(), stride=(2, 2)),#pad=SamePad() ensures size(output,d) == size(x,d) * stride.\n",
    "    Flux.flatten,\n",
    "    Dense(128, 100, relu),\n",
    "    Dense(100, 10)\n",
    "])\n",
    "input_shape = (32, 32, 3, 5)\n",
    "ONNXNaiveNASflux.save(\"/home/verification/ModelVerification.jl/mlp_small.onnx\", model, input_shape)"
   ]
  },
  {
   "cell_type": "code",
   "execution_count": 26,
   "metadata": {},
   "outputs": [
    {
     "data": {
      "text/plain": [
       "218065"
      ]
     },
     "metadata": {},
     "output_type": "display_data"
    }
   ],
   "source": [
    "model = Chain([\n",
    "    Conv((3, 3), 3 => 8, relu, pad=SamePad(), stride=(2, 2)), #pad=SamePad() ensures size(output,d) == size(x,d) / stride.\n",
    "    BatchNorm(8),\n",
    "    MeanPool((2,2)),\n",
    "    SkipConnection(\n",
    "        Chain([\n",
    "            Conv((5, 5), 8 => 8, relu, pad=SamePad(), stride=(1, 1))\n",
    "            ]),\n",
    "        +\n",
    "    ),\n",
    "    #ConvTranspose((3, 3), 8 => 4, relu, pad=SamePad(), stride=(2, 2)),#pad=SamePad() ensures size(output,d) == size(x,d) * stride.\n",
    "    Flux.flatten,\n",
    "    Dense(512, 100, relu),\n",
    "    Dense(100, 10)\n",
    "])\n",
    "input_shape = (32, 32, 3, 5)\n",
    "ONNXNaiveNASflux.save(\"/home/verification/ModelVerification.jl/mlp.onnx\", model, input_shape)"
   ]
  },
  {
   "cell_type": "code",
   "execution_count": 23,
   "metadata": {},
   "outputs": [
    {
     "name": "stdout",
     "output_type": "stream",
     "text": [
      "(10, 5)\n"
     ]
    }
   ],
   "source": [
    "input = randn(32, 32, 3, 5)\n",
    "println(size(model(input)))"
   ]
  },
  {
   "cell_type": "code",
   "execution_count": 24,
   "metadata": {},
   "outputs": [
    {
     "data": {
      "text/plain": [
       "67017"
      ]
     },
     "metadata": {},
     "output_type": "display_data"
    }
   ],
   "source": [
    "input_shape = (32, 32, 3, 5)\n",
    "ONNXNaiveNASflux.save(\"/home/verification/ModelVerification.jl/mlp.onnx\", model, input_shape)"
   ]
  },
  {
   "cell_type": "code",
   "execution_count": 27,
   "metadata": {},
   "outputs": [
    {
     "data": {
      "text/plain": [
       "44087982"
      ]
     },
     "metadata": {},
     "output_type": "display_data"
    }
   ],
   "source": [
    "function build_resnet18()\n",
    "    return Chain(\n",
    "        Conv((7, 7), 3 => 64, stride = 2, pad = 3),\n",
    "        BatchNorm(64),\n",
    "        MeanPool((3, 3), stride = 2, pad = 1),\n",
    "        ResidualBlock(64, 64),\n",
    "        ResidualBlock(64, 64),\n",
    "        MeanPool((3, 3), stride = 2, pad = 1),\n",
    "        ResidualBlock(64, 128),\n",
    "        ResidualBlock(128, 128),\n",
    "        MeanPool((3, 3), stride = 2, pad = 1),\n",
    "        ResidualBlock(128, 256),\n",
    "        ResidualBlock(256, 256),\n",
    "        MeanPool((3, 3), stride = 2, pad = 1),\n",
    "        ResidualBlock(256, 512),\n",
    "        ResidualBlock(512, 512),\n",
    "        MeanPool((7, 7)),\n",
    "        Flux.flatten,\n",
    "        Dense(512, 10),\n",
    "        softmax\n",
    "    )\n",
    "end\n",
    "\n",
    "function ResidualBlock(in_channels, out_channels)\n",
    "return Chain(\n",
    "    Conv((3, 3), in_channels => out_channels, stride = 1, pad = 1),\n",
    "    BatchNorm(out_channels),\n",
    "    x -> relu.(x),\n",
    "    Conv((3, 3), out_channels => out_channels, stride = 1, pad = 1),\n",
    "    BatchNorm(out_channels),\n",
    "    x -> x + identity(x),\n",
    "    x -> relu.(x)\n",
    ")\n",
    "end\n",
    "model = build_resnet18()\n",
    "input_shape = (32, 32, 3, 1)\n",
    "ONNXNaiveNASflux.save(\"/home/verification/ModelVerification.jl/resnet.onnx\", model, input_shape)"
   ]
  }
 ],
 "metadata": {
  "kernelspec": {
   "display_name": "Julia 1.8.5",
   "language": "julia",
   "name": "julia-1.8"
  },
  "language_info": {
   "file_extension": ".jl",
   "mimetype": "application/julia",
   "name": "julia",
   "version": "1.8.5"
  },
  "orig_nbformat": 4
 },
 "nbformat": 4,
 "nbformat_minor": 2
}
