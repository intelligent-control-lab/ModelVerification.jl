{
 "cells": [
  {
   "cell_type": "markdown",
   "metadata": {
    "tags": [
     "parameters"
    ]
   },
   "source": [
    "<span style=\"color:#FEA052\"> \n",
    "\n",
    "\n",
    " # ModelVerification.jl toolbox 🚀  <a href=\"http://icontrol.ri.cmu.edu\"><img width=\"60\" alt=\"portfolio_view\" align=\"left\" src=\"http://icontrol.ri.cmu.edu/assets/logos/icl_logo.jpg\"></a>\n",
    "\n",
    "</span>\n",
    "\n",
    "\n",
    "----------------"
   ]
  },
  {
   "cell_type": "markdown",
   "metadata": {},
   "source": [
    "Deep Neural Networks are crucial in approximating nonlinear functions across diverse applications, such as computer vision and control. Verifying specific input-output properties can be a highly challenging task. To this end, we present ModelVerification.jl, the only cutting-edge toolbox that contains a suite of state-of-the-art methods for verifying DNNs. This toolbox significantly extends and improves the previous version (NeuralVerification.jl) and is designed to empower developers and machine learning practitioners with robust tools for verifying and ensuring the trustworthiness of their DNN models.\n",
    "\n",
    "\n",
    "<span style=\"color:#FBBC88\"> \n",
    "\n",
    "### Key features: \n",
    "\n",
    "</span>\n",
    "\n",
    "- <span style=\"text-decoration:underline\">*Julia Language and Python integration*</span>:\n",
    "Built on the Julia programming language, ModelVerification.jl leverages Julia's high-performance capabilities, ensuring efficient and scalable verification processes. Moreover, we provide the user with an easy-ready-to-use Python interface to exploit the full potential of the toolbox even without knowledge of the Julia language.\n",
    "\n",
    "- <span style=\"text-decoration:underline\">*Different types of verification*</span>:\n",
    "ModelVerification.jl enables verification of several input-output specifications, such as reachability analysis, behavioral properties (e.g., to verify Deep Reinforcement Learning (DRL) policies), or even robustness properties for Convolutional Neural Networks (CNNs). It also introduces new types of verification, not only for finding individual adversarial inputs but also for enumerating the entire set of (un)safe regions for a given network and safety properties.\n",
    "\n",
    "- <span style=\"text-decoration:underline\">*Visualization of intermediate verification results (reachable sets)*</span>:\n",
    "ModelVerification.jl enables the visualization of intermediate verification results in terms of reachable sets. In particular, our toolbox allows to plot the impactful features for the verification process and the correlated output reachable set (layer by layer) and thus to define new specific input-output specifications based on this information.\n",
    "\n",
    "- <span style=\"text-decoration:underline\">*Verification Benchmarks*</span>: \n",
    "Compare our or your tool implementation against state-of-the-art benchmarks and evaluation criteria (VNN comp). ModelVerification.jl includes a collection of solvers and standard benchmarks to perform this evaluation efficiently.\n",
    "\n",
    "This tutorial briefly overviews what can be done with ModelVerification.jl. The roadmap is reported below\n",
    "\n",
    "<span style=\"color:#FBBC88\"> \n",
    "\n",
    "# Table of Contents: </span> \n",
    "- [ How does the ModelVerification.jl toolbox work? ](#id-section1)\n",
    "- [ DNN-Verification instance ](#id-section2)\n",
    "  - [ Creating-Loading the model ](#id-section2-1)\n",
    "  - [ Safety property to verify and solver requirements](#id-section2-2)\n",
    "- [ Example 1: Verifying a toy DNN with reachability analysis ](#example1)\n",
    "- [ Example 2: Verifying CNNs for robustness verification](#example2)\n",
    "  - [MNIST classification](#example2-1)\n",
    "  - [Keypoints detection](#example2-2)\n",
    "- [ Example 3: Verifying DRL policies for collision avoidance](#example3)\n",
    "  - [DNN-Verification for robotic mapless navigation](#example3-1)\n",
    "  - [ACAS xu benchmark](#example3-2)\n",
    "\n",
    "\n",
    "\n"
   ]
  },
  {
   "cell_type": "markdown",
   "metadata": {},
   "source": [
    "<div id='id-section1'/>\n",
    "\n",
    "# How does the ModelVerification.jl toolbox work?\n",
    "\n",
    "-------------"
   ]
  },
  {
   "cell_type": "markdown",
   "metadata": {},
   "source": [
    "<p align=\"center\">\n",
    "<img src=\"images_tutorial/overview.png\" alt=\"Drawing\" align=\"center\" style=\"width: 800px;\"/>\n",
    "</p>\n",
    "\n",
    "$$general\\;overview$$"
   ]
  },
  {
   "cell_type": "markdown",
   "metadata": {},
   "source": [
    "ModelVerification.jl receives as input a set consisting of: \n",
    "- Model to be verified, \n",
    "- A safety property encoded as input-output specifications for the neural network\n",
    "- A search, split, and propagation method to perform the verification process. These components encode the solver.\n",
    "\n",
    "The toolbox's output varies depending on the type of verification we are performing. Nonetheless, at the end of the verification process, the response of the toolbox potentially allows us to obtain provable guarantees that a given safety property holds (or does not) for the model tested. The possible results and their significance are reported below:\n",
    "\n",
    "|        Output result        |  Explanation  | \n",
    "|----------------------|:-----------:|\n",
    "| `BasicResult::hold`     | The input-output constraint is always satisfied | \n",
    "| `BasicResult::violated`    | The input-output constraint is violated, i.e., it exists a single point in the input constraint that violates the property         | \n",
    "| `BasicResult::timeout`    | Could not be determined if the property holds due to timeout in the computation        | \n",
    "| `CounterExampleResult`    | Like BasicResult, but also returns a counterexample if one is found (if status = :violated). The counterexample is a point in the input set that, after the NN, lies outside the output constraint set.        |\n",
    "| `AdversarialResult`    | Like BasicResult, but also returns the maximum allowable disturbance in the input (if status = :violated)        |\n",
    "| `ReachabilityResult`    | Like BasicResult, but also returns the output reachable set given the input constraint (if status = :violated).        |\n",
    "| `EnumerationResult`    | Set of property's domain that does (not) contain violation of the safety property.        |\n",
    "\n",
    "We refer to the interested reader to the ModelVerification.jl documentation for further details.\n",
    "We report in the following box an exaplanatory overview of the ModelVerification.jl workflow.\n"
   ]
  },
  {
   "cell_type": "markdown",
   "metadata": {},
   "source": [
    "## General flow execution of ModelVerification.jl\n",
    "\n"
   ]
  },
  {
   "cell_type": "markdown",
   "metadata": {},
   "source": [
    "Let's now see all these components and how we can instantiate them in the toolbox.\n",
    "\n",
    "<p align=\"center\">\n",
    "<img src=\"images_tutorial/overview_mvflow.png\" alt=\"Drawing\" align=\"center\" style=\"width: 800px;\"/>\n",
    "</p>\n",
    "\n",
    "$$General\\;workflow\\;of\\;ModelVerification.jl\\; toolbox$$"
   ]
  },
  {
   "cell_type": "markdown",
   "metadata": {},
   "source": [
    "as mentioned above, ModelVerification.jl receives as an instance to verify a model, a safety coding property as an input-output relationship for the model, and a set of methods such as search, split, and propagation, which form the solver that the user can choose from those available in the toolbox. \n",
    "\n",
    "Once the instance is created, the verification begins: the main methods all solvers have in common are presented in the diagram. In particular, there is a branching phase based on the strategies chosen by the user and a subsequent searching and validation phase of these branches. The verification process can end in one of three possible states on the image's right side. Let's see how we can create all these components with realistic case studies!"
   ]
  },
  {
   "cell_type": "markdown",
   "metadata": {},
   "source": [
    "<div id='id-section2'/>\n",
    "\n",
    "# Creating the *DNN-Verification* instance\n",
    "\n",
    "---------"
   ]
  },
  {
   "cell_type": "markdown",
   "metadata": {},
   "source": [
    "A *DNN-Verification* instance consists of two main components:\n",
    "- a model\n",
    "- a safety property \n",
    "\n",
    "The model is the deep neural network we want to verify with respect to a specific safety property. A model is typically encoded as a Feed Forward Neural Network (FFNN) $\\mathcal{F}$ and can be viewed graphically as follows:\n",
    "\n",
    "\n",
    "<p align=\"center\">\n",
    "<img src=\"images_tutorial/dnn_example.png\" alt=\"Drawing\" align=\"center\" style=\"width: 400px;\"/>\n",
    "</p>"
   ]
  },
  {
   "cell_type": "markdown",
   "metadata": {},
   "source": [
    "where in the example, we have a domain for the input space $\\mathcal{D}_x \\in \\mathbb{R}^3$ and a co-domain for the output space $\\mathcal{D}_y \\in \\mathbb{R}^2$. Hence, $\\mathcal{F}: \\mathbb{R}^3 \\to \\mathbb{R}^2$. $\\mathcal{F}$ is typically non-linear as it contains in the hidden layers non-linear activation functions, such as $ReLU$ considered in this toolbox. The safety property is encoded as an input-output relationship for $\\mathcal{F}$. More specifically, considering an input constraint imposed by a set $\\mathcal{X} \\subseteq \\mathcal{D}_x$ and an output constraint imposed by a set $\\mathcal{Y} \\subseteq \\mathcal{D}_y$, solving the *DNN-Verification* problem (using the reachability definition) consists in showing that the following assertion holds:\n",
    "\n",
    "\n",
    "\n",
    "$$ x \\in \\mathcal{X} \\implies y=\\mathcal{F}(x) \\in \\mathcal{Y} $$\n",
    "\n",
    "A graphical representation of the reachability analysis is the following:\n",
    "<p align=\"center\">\n",
    "<img src=\"images_tutorial/reachability.png\" alt=\"Drawing\" align=\"center\" style=\"width: 400px;\"/>\n",
    "</p>\n",
    "\n",
    "\n",
    "\n",
    "Due to the non-linear and non-convex nature of the DNNs, estimating the exact reachable set is unfeasible; thus, we perform an over-approximation of it, called $\\mathcal{R}$. If this latter is contained in the desired reachable set, i.e., respect the constraints imposed in $\\mathcal{Y}$ (as shown in the figure above), we can assert that the property holds. However, in the worst-case scenario, this problem is NP-Complete. \n",
    "In the following section, we show how it is possible to instantiate your own model and safety property and solve the *DNN-Verification* efficiently using our ModelVerification.jl toolbox.\n"
   ]
  },
  {
   "cell_type": "markdown",
   "metadata": {},
   "source": [
    "<div id='id-section2-1'/>\n",
    "\n",
    "## How to create/load your model"
   ]
  },
  {
   "cell_type": "markdown",
   "metadata": {},
   "source": [
    "In the literature, we find various ways and formats to save a model-DNN. The most widely used being the .nnet, onnx, h5/pb format of Keras(TensorFlow), or even .pt of PyTorch. ModelVerification.jl accepts any extension and converts the input model for you first to .onnx format and then to .flux to achieve efficient performance for the verification process.  To convert your input model to .onnx, use one of the Python scripts in the \"NNet/converters/\" folder. Once the chosen script generates the .onnx model, it will automatically test the conversion for you."
   ]
  },
  {
   "cell_type": "markdown",
   "metadata": {},
   "source": [
    "<p align=\"center\">\n",
    "<img src=\"images_tutorial/model_conversion.png\" alt=\"Drawing\" align=\"center\" style=\"width: 600px;\"/>\n",
    "</p>"
   ]
  },
  {
   "cell_type": "markdown",
   "metadata": {},
   "source": [
    "<div id='id-section2-2'/>\n",
    "\n",
    "## Safety property and solver requirements"
   ]
  },
  {
   "cell_type": "markdown",
   "metadata": {},
   "source": [
    "A safety property is essentially an input-output relationship for the model we want to verify. In general, the constraints for the input set $\\mathcal{X}$ and the one for the output set $\\mathcal{Y}$ can have any geometry. For the sake of simplicity, ModelVerification.jl, considers convex polytopes (or the complement of a polytope) geometries to encode the input and output specifications. More specifically, our implementations exploit the geometric definitions of **LazySets.jl**, a Julia package for calculus with convex sets."
   ]
  },
  {
   "cell_type": "markdown",
   "metadata": {},
   "source": [
    "Different solvers implemented in ModelVerification.jl require the input-output specification formulated with particular geometries.\n",
    "We report here a brief overview of the sets we use, and we refer to the ModelVerification.jl documentation for a complete list and more detailed information. \n",
    "\n",
    " - HR = `Hyperrectangle`\n",
    " - HS = `HalfSpace`\n",
    " - HP = `HPolytope`\n",
    " - SS = `StarSet`\n",
    " - IS = `ImageStar`\n",
    " - ZT = `Zonotope`\n",
    " - PC = `PolytopeComplement`\n",
    " - CH = `ConvexHull`\n",
    "\n",
    "\n",
    "|        Solver        |  Input set  |    Output     |\n",
    "|----------------------|:-----------:|:----------------:|\n",
    "| *Ai2*       | `ZT,SS,HP,HR` | `ReachabilityResult`, `CounterExampleResult`  |\n",
    "| *CROWN*    | `ZT,SS,HP,HR,CH`          |  `BasicResult`    |\n",
    "| *$\\alpha$-CROWN*    | `ZT,SS,HP,HR,CH`         |  `BasicResult`      |\n",
    "| *$\\beta$-CROWN*    | `ZT,SS,HP,HR,CH`         |  `BasicResult`      |\n",
    "| *$\\alpha$-$\\beta$-CROWN*   | `ZT,SS,HP,HR,CH`         |  `BasicResult`      |\n",
    "| *ImageZono* | `CH` |`ReachabilityResult`, `CounterExampleResult` |\n",
    "| *ImageStar* | `CH` |`ReachabilityResult`, `CounterExampleResult` |\n",
    "\n",
    "\n",
    "\n",
    "Note that solvers that require `Hyperrectangles` also work on `HPolytopes` by overapproximating the input set. This is likewise true for solvers that require `HPolytopes` to convert a `Hyperrectangle` input to H-representation. Any set which can be made into the required set is converted, wrapped, or approximated appropriately.\n"
   ]
  },
  {
   "cell_type": "markdown",
   "metadata": {},
   "source": [
    "<div id='example1'/>\n",
    "\n",
    "# Example 1: Verifying a toy DNN with reachability analysis\n",
    "\n",
    "--------"
   ]
  },
  {
   "cell_type": "markdown",
   "metadata": {},
   "source": [
    "Let's warm up on the *DNN-Verification* problem with this simple DNN and safety property to verify. We consider the following DNN called \"small_nnet\":\n",
    "\n",
    "<p align=\"center\">\n",
    "<img src=\"images_tutorial/toyDNN.png\" alt=\"Drawing\" align=\"center\" style=\"width: 600px;\"/>\n",
    "</p>\n",
    "\n",
    "The model has a single input node, two hidden layers composed of two ReLU nodes, and a single output node. Hence this DNN is a non-linear function that maps $\\mathbb{R}^1 \\to \\mathbb{R}^1$. Suppose we want to verify if all the possible inputs in a vector that assume values between $\\mathcal{X}=[-2.5, 2.5]$ are mapped in the vector $\\mathcal{Y}=[18.5, 114.5]$. \n",
    "\n",
    "\n",
    "\n",
    "Given the continuous nature of the interval, we cannot test every single input in $\\mathcal{X}$. Hence, we exploit the formal verification results obtained through the reachability analysis to get a provable answer to this simple specification.\n"
   ]
  },
  {
   "cell_type": "markdown",
   "metadata": {},
   "source": [
    "\n",
    "First, let's load the model and encode the safety property using convex sets."
   ]
  },
  {
   "cell_type": "code",
   "execution_count": 1,
   "metadata": {},
   "outputs": [
    {
     "name": "stderr",
     "output_type": "stream",
     "text": [
      "┌ Info: Installing Julia nodeps kernelspec in /home/lmarza/.local/share/jupyter/kernels/julia-nodeps-1.9\n",
      "└ @ IJulia /home/lmarza/.julia/packages/IJulia/Vo51o/deps/kspec.jl:105\n"
     ]
    },
    {
     "data": {
      "text/plain": [
       "keypoint_error_spec (generic function with 1 method)"
      ]
     },
     "metadata": {},
     "output_type": "display_data"
    }
   ],
   "source": [
    "# let's import some necessary julia packages (will require about 1 min the first time)\n",
    "include(\"utils_tutorial.jl\")"
   ]
  },
  {
   "cell_type": "markdown",
   "metadata": {},
   "source": [
    "Before diving into the verification process, we can play with the model and the safety property. Let's, for instance, check the architecture of the model we are going to verify:"
   ]
  },
  {
   "cell_type": "code",
   "execution_count": 2,
   "metadata": {},
   "outputs": [
    {
     "data": {
      "text/plain": [
       "Chain(\n",
       "  Dense(1 => 2, relu),                  \u001b[90m# 4 parameters\u001b[39m\n",
       "  Dense(2 => 2, relu),                  \u001b[90m# 6 parameters\u001b[39m\n",
       "  Dense(2 => 1, relu),                  \u001b[90m# 3 parameters\u001b[39m\n",
       ") \u001b[90m                  # Total: 6 arrays, \u001b[39m13 parameters, 488 bytes."
      ]
     },
     "metadata": {},
     "output_type": "display_data"
    }
   ],
   "source": [
    "# let's indicate the path of our model and call the function provided in ModelVerification to build a flux model\n",
    "onnx_path = \"models/small_nnet.onnx\"\n",
    "toy_model = ModelVerification.build_flux_model(onnx_path)"
   ]
  },
  {
   "cell_type": "markdown",
   "metadata": {},
   "source": [
    "As we can notice, ModelVerification.jl converted the .onnx into a Flux model, as indicated above. The structure is the same as depicted in the figure above, where we have an input layer with two hidden layers activated with ReLU and an output layer activated with ReLU as well. The parameters are the # of weights and biases of each layer. \n",
    "\n",
    "Let's now plot the result of a forward propagation of different inputs for our toy_model"
   ]
  },
  {
   "cell_type": "code",
   "execution_count": 3,
   "metadata": {},
   "outputs": [
    {
     "data": {
      "image/png": "[encoded data removed]",
      "image/svg+xml": [
       "<?xml version=\"1.0\" encoding=\"utf-8\"?>\n",
       "<svg xmlns=\"http://www.w3.org/2000/svg\" xmlns:xlink=\"http://www.w3.org/1999/xlink\" width=\"400\" height=\"300\" viewBox=\"0 0 1600 1200\">\n",
       "<defs>\n",
       "  <clipPath id=\"clip100\">\n",
       "    <rect x=\"0\" y=\"0\" width=\"1600\" height=\"1200\"/>\n",
       "  </clipPath>\n",
       "</defs>\n",
       "<path clip-path=\"url(#clip100)\" d=\"M0 1200 L1600 1200 L1600 0 L0 0  Z\" fill=\"#ffffff\" fill-rule=\"evenodd\" fill-opacity=\"1\"/>\n",
       "<defs>\n",
       "  <clipPath id=\"clip101\">\n",
       "    <rect x=\"320\" y=\"0\" width=\"1121\" height=\"1121\"/>\n",
       "  </clipPath>\n",
       "</defs>\n",
       "<path clip-path=\"url(#clip100)\" d=\"M161.121 1086.13 L1552.76 1086.13 L1552.76 47.2441 L161.121 47.2441  Z\" fill=\"#ffffff\" fill-rule=\"evenodd\" fill-opacity=\"1\"/>\n",
       "<defs>\n",
       "  <clipPath id=\"clip102\">\n",
       "    <rect x=\"161\" y=\"47\" width=\"1393\" height=\"1040\"/>\n",
       "  </clipPath>\n",
       "</defs>\n",
       "<polyline clip-path=\"url(#clip102)\" style=\"stroke:#000000; stroke-linecap:round; stroke-linejoin:round; stroke-width:2; stroke-opacity:0.1; fill:none\" points=\"337.264,1086.13 337.264,47.2441 \"/>\n",
       "<polyline clip-path=\"url(#clip102)\" style=\"stroke:#000000; stroke-linecap:round; stroke-linejoin:round; stroke-width:2; stroke-opacity:0.1; fill:none\" points=\"610.777,1086.13 610.777,47.2441 \"/>\n",
       "<polyline clip-path=\"url(#clip102)\" style=\"stroke:#000000; stroke-linecap:round; stroke-linejoin:round; stroke-width:2; stroke-opacity:0.1; fill:none\" points=\"884.29,1086.13 884.29,47.2441 \"/>\n",
       "<polyline clip-path=\"url(#clip102)\" style=\"stroke:#000000; stroke-linecap:round; stroke-linejoin:round; stroke-width:2; stroke-opacity:0.1; fill:none\" points=\"1157.8,1086.13 1157.8,47.2441 \"/>\n",
       "<polyline clip-path=\"url(#clip102)\" style=\"stroke:#000000; stroke-linecap:round; stroke-linejoin:round; stroke-width:2; stroke-opacity:0.1; fill:none\" points=\"1431.32,1086.13 1431.32,47.2441 \"/>\n",
       "<polyline clip-path=\"url(#clip100)\" style=\"stroke:#000000; stroke-linecap:round; stroke-linejoin:round; stroke-width:4; stroke-opacity:1; fill:none\" points=\"161.121,1086.13 1552.76,1086.13 \"/>\n",
       "<polyline clip-path=\"url(#clip100)\" style=\"stroke:#000000; stroke-linecap:round; stroke-linejoin:round; stroke-width:4; stroke-opacity:1; fill:none\" points=\"337.264,1086.13 337.264,1067.23 \"/>\n",
       "<polyline clip-path=\"url(#clip100)\" style=\"stroke:#000000; stroke-linecap:round; stroke-linejoin:round; stroke-width:4; stroke-opacity:1; fill:none\" points=\"610.777,1086.13 610.777,1067.23 \"/>\n",
       "<polyline clip-path=\"url(#clip100)\" style=\"stroke:#000000; stroke-linecap:round; stroke-linejoin:round; stroke-width:4; stroke-opacity:1; fill:none\" points=\"884.29,1086.13 884.29,1067.23 \"/>\n",
       "<polyline clip-path=\"url(#clip100)\" style=\"stroke:#000000; stroke-linecap:round; stroke-linejoin:round; stroke-width:4; stroke-opacity:1; fill:none\" points=\"1157.8,1086.13 1157.8,1067.23 \"/>\n",
       "<polyline clip-path=\"url(#clip100)\" style=\"stroke:#000000; stroke-linecap:round; stroke-linejoin:round; stroke-width:4; stroke-opacity:1; fill:none\" points=\"1431.32,1086.13 1431.32,1067.23 \"/>\n",
       "<path clip-path=\"url(#clip100)\" d=\"M307.206 1125.3 L336.882 1125.3 L336.882 1129.23 L307.206 1129.23 L307.206 1125.3 Z\" fill=\"#000000\" fill-rule=\"nonzero\" fill-opacity=\"1\" /><path clip-path=\"url(#clip100)\" d=\"M351.002 1138.19 L367.321 1138.19 L367.321 1142.13 L345.377 1142.13 L345.377 1138.19 Q348.039 1135.44 352.622 1130.81 Q357.229 1126.16 358.409 1124.81 Q360.655 1122.29 361.534 1120.55 Q362.437 1118.79 362.437 1117.1 Q362.437 1114.35 360.493 1112.61 Q358.572 1110.88 355.47 1110.88 Q353.271 1110.88 350.817 1111.64 Q348.386 1112.41 345.609 1113.96 L345.609 1109.23 Q348.433 1108.1 350.886 1107.52 Q353.34 1106.94 355.377 1106.94 Q360.747 1106.94 363.942 1109.63 Q367.136 1112.31 367.136 1116.8 Q367.136 1118.93 366.326 1120.85 Q365.539 1122.75 363.433 1125.35 Q362.854 1126.02 359.752 1129.23 Q356.65 1132.43 351.002 1138.19 Z\" fill=\"#000000\" fill-rule=\"nonzero\" fill-opacity=\"1\" /><path clip-path=\"url(#clip100)\" d=\"M580.534 1125.3 L610.21 1125.3 L610.21 1129.23 L580.534 1129.23 L580.534 1125.3 Z\" fill=\"#000000\" fill-rule=\"nonzero\" fill-opacity=\"1\" /><path clip-path=\"url(#clip100)\" d=\"M621.112 1138.19 L628.751 1138.19 L628.751 1111.83 L620.441 1113.49 L620.441 1109.23 L628.705 1107.57 L633.381 1107.57 L633.381 1138.19 L641.02 1138.19 L641.02 1142.13 L621.112 1142.13 L621.112 1138.19 Z\" fill=\"#000000\" fill-rule=\"nonzero\" fill-opacity=\"1\" /><path clip-path=\"url(#clip100)\" d=\"M884.29 1110.65 Q880.679 1110.65 878.85 1114.21 Q877.045 1117.75 877.045 1124.88 Q877.045 1131.99 878.85 1135.55 Q880.679 1139.1 884.29 1139.1 Q887.924 1139.1 889.73 1135.55 Q891.558 1131.99 891.558 1124.88 Q891.558 1117.75 889.73 1114.21 Q887.924 1110.65 884.29 1110.65 M884.29 1106.94 Q890.1 1106.94 893.156 1111.55 Q896.234 1116.13 896.234 1124.88 Q896.234 1133.61 893.156 1138.22 Q890.1 1142.8 884.29 1142.8 Q878.48 1142.8 875.401 1138.22 Q872.346 1133.61 872.346 1124.88 Q872.346 1116.13 875.401 1111.55 Q878.48 1106.94 884.29 1106.94 Z\" fill=\"#000000\" fill-rule=\"nonzero\" fill-opacity=\"1\" /><path clip-path=\"url(#clip100)\" d=\"M1148.19 1138.19 L1155.82 1138.19 L1155.82 1111.83 L1147.51 1113.49 L1147.51 1109.23 L1155.78 1107.57 L1160.45 1107.57 L1160.45 1138.19 L1168.09 1138.19 L1168.09 1142.13 L1148.19 1142.13 L1148.19 1138.19 Z\" fill=\"#000000\" fill-rule=\"nonzero\" fill-opacity=\"1\" /><path clip-path=\"url(#clip100)\" d=\"M1425.97 1138.19 L1442.29 1138.19 L1442.29 1142.13 L1420.34 1142.13 L1420.34 1138.19 Q1423.01 1135.44 1427.59 1130.81 Q1432.2 1126.16 1433.38 1124.81 Q1435.62 1122.29 1436.5 1120.55 Q1437.4 1118.79 1437.4 1117.1 Q1437.4 1114.35 1435.46 1112.61 Q1433.54 1110.88 1430.44 1110.88 Q1428.24 1110.88 1425.78 1111.64 Q1423.35 1112.41 1420.58 1113.96 L1420.58 1109.23 Q1423.4 1108.1 1425.85 1107.52 Q1428.31 1106.94 1430.34 1106.94 Q1435.71 1106.94 1438.91 1109.63 Q1442.1 1112.31 1442.1 1116.8 Q1442.1 1118.93 1441.29 1120.85 Q1440.51 1122.75 1438.4 1125.35 Q1437.82 1126.02 1434.72 1129.23 Q1431.62 1132.43 1425.97 1138.19 Z\" fill=\"#000000\" fill-rule=\"nonzero\" fill-opacity=\"1\" /><polyline clip-path=\"url(#clip102)\" style=\"stroke:#000000; stroke-linecap:round; stroke-linejoin:round; stroke-width:2; stroke-opacity:0.1; fill:none\" points=\"161.121,1040.61 1552.76,1040.61 \"/>\n",
       "<polyline clip-path=\"url(#clip102)\" style=\"stroke:#000000; stroke-linecap:round; stroke-linejoin:round; stroke-width:2; stroke-opacity:0.1; fill:none\" points=\"161.121,825.676 1552.76,825.676 \"/>\n",
       "<polyline clip-path=\"url(#clip102)\" style=\"stroke:#000000; stroke-linecap:round; stroke-linejoin:round; stroke-width:2; stroke-opacity:0.1; fill:none\" points=\"161.121,610.747 1552.76,610.747 \"/>\n",
       "<polyline clip-path=\"url(#clip102)\" style=\"stroke:#000000; stroke-linecap:round; stroke-linejoin:round; stroke-width:2; stroke-opacity:0.1; fill:none\" points=\"161.121,395.817 1552.76,395.817 \"/>\n",
       "<polyline clip-path=\"url(#clip102)\" style=\"stroke:#000000; stroke-linecap:round; stroke-linejoin:round; stroke-width:2; stroke-opacity:0.1; fill:none\" points=\"161.121,180.887 1552.76,180.887 \"/>\n",
       "<polyline clip-path=\"url(#clip100)\" style=\"stroke:#000000; stroke-linecap:round; stroke-linejoin:round; stroke-width:4; stroke-opacity:1; fill:none\" points=\"161.121,1086.13 161.121,47.2441 \"/>\n",
       "<polyline clip-path=\"url(#clip100)\" style=\"stroke:#000000; stroke-linecap:round; stroke-linejoin:round; stroke-width:4; stroke-opacity:1; fill:none\" points=\"161.121,1040.61 180.019,1040.61 \"/>\n",
       "<polyline clip-path=\"url(#clip100)\" style=\"stroke:#000000; stroke-linecap:round; stroke-linejoin:round; stroke-width:4; stroke-opacity:1; fill:none\" points=\"161.121,825.676 180.019,825.676 \"/>\n",
       "<polyline clip-path=\"url(#clip100)\" style=\"stroke:#000000; stroke-linecap:round; stroke-linejoin:round; stroke-width:4; stroke-opacity:1; fill:none\" points=\"161.121,610.747 180.019,610.747 \"/>\n",
       "<polyline clip-path=\"url(#clip100)\" style=\"stroke:#000000; stroke-linecap:round; stroke-linejoin:round; stroke-width:4; stroke-opacity:1; fill:none\" points=\"161.121,395.817 180.019,395.817 \"/>\n",
       "<polyline clip-path=\"url(#clip100)\" style=\"stroke:#000000; stroke-linecap:round; stroke-linejoin:round; stroke-width:4; stroke-opacity:1; fill:none\" points=\"161.121,180.887 180.019,180.887 \"/>\n",
       "<path clip-path=\"url(#clip100)\" d=\"M89.0429 1053.95 L105.362 1053.95 L105.362 1057.89 L83.4179 1057.89 L83.4179 1053.95 Q86.0799 1051.2 90.6632 1046.57 Q95.2697 1041.91 96.4502 1040.57 Q98.6956 1038.05 99.5752 1036.31 Q100.478 1034.55 100.478 1032.86 Q100.478 1030.11 98.5336 1028.37 Q96.6123 1026.64 93.5104 1026.64 Q91.3114 1026.64 88.8577 1027.4 Q86.4271 1028.16 83.6494 1029.71 L83.6494 1024.99 Q86.4734 1023.86 88.9271 1023.28 Q91.3808 1022.7 93.4178 1022.7 Q98.7882 1022.7 101.983 1025.39 Q105.177 1028.07 105.177 1032.56 Q105.177 1034.69 104.367 1036.61 Q103.58 1038.51 101.473 1041.1 Q100.895 1041.77 97.7928 1044.99 Q94.691 1048.19 89.0429 1053.95 Z\" fill=\"#000000\" fill-rule=\"nonzero\" fill-opacity=\"1\" /><path clip-path=\"url(#clip100)\" d=\"M125.177 1026.4 Q121.566 1026.4 119.737 1029.97 Q117.932 1033.51 117.932 1040.64 Q117.932 1047.75 119.737 1051.31 Q121.566 1054.85 125.177 1054.85 Q128.811 1054.85 130.617 1051.31 Q132.445 1047.75 132.445 1040.64 Q132.445 1033.51 130.617 1029.97 Q128.811 1026.4 125.177 1026.4 M125.177 1022.7 Q130.987 1022.7 134.043 1027.31 Q137.121 1031.89 137.121 1040.64 Q137.121 1049.37 134.043 1053.97 Q130.987 1058.56 125.177 1058.56 Q119.367 1058.56 116.288 1053.97 Q113.233 1049.37 113.233 1040.64 Q113.233 1031.89 116.288 1027.31 Q119.367 1022.7 125.177 1022.7 Z\" fill=\"#000000\" fill-rule=\"nonzero\" fill-opacity=\"1\" /><path clip-path=\"url(#clip100)\" d=\"M97.8623 812.47 L86.0568 830.919 L97.8623 830.919 L97.8623 812.47 M96.6354 808.396 L102.515 808.396 L102.515 830.919 L107.446 830.919 L107.446 834.808 L102.515 834.808 L102.515 842.956 L97.8623 842.956 L97.8623 834.808 L82.2605 834.808 L82.2605 830.294 L96.6354 808.396 Z\" fill=\"#000000\" fill-rule=\"nonzero\" fill-opacity=\"1\" /><path clip-path=\"url(#clip100)\" d=\"M125.177 811.475 Q121.566 811.475 119.737 815.04 Q117.932 818.581 117.932 825.711 Q117.932 832.817 119.737 836.382 Q121.566 839.924 125.177 839.924 Q128.811 839.924 130.617 836.382 Q132.445 832.817 132.445 825.711 Q132.445 818.581 130.617 815.04 Q128.811 811.475 125.177 811.475 M125.177 807.771 Q130.987 807.771 134.043 812.378 Q137.121 816.961 137.121 825.711 Q137.121 834.438 134.043 839.044 Q130.987 843.627 125.177 843.627 Q119.367 843.627 116.288 839.044 Q113.233 834.438 113.233 825.711 Q113.233 816.961 116.288 812.378 Q119.367 807.771 125.177 807.771 Z\" fill=\"#000000\" fill-rule=\"nonzero\" fill-opacity=\"1\" /><path clip-path=\"url(#clip100)\" d=\"M95.5938 608.883 Q92.4456 608.883 90.5938 611.036 Q88.7651 613.189 88.7651 616.939 Q88.7651 620.665 90.5938 622.841 Q92.4456 624.994 95.5938 624.994 Q98.7419 624.994 100.571 622.841 Q102.422 620.665 102.422 616.939 Q102.422 613.189 100.571 611.036 Q98.7419 608.883 95.5938 608.883 M104.876 594.23 L104.876 598.49 Q103.117 597.656 101.311 597.217 Q99.5289 596.777 97.7697 596.777 Q93.1401 596.777 90.6864 599.902 Q88.2558 603.027 87.9086 609.346 Q89.2743 607.332 91.3345 606.267 Q93.3947 605.179 95.8715 605.179 Q101.08 605.179 104.089 608.351 Q107.121 611.499 107.121 616.939 Q107.121 622.263 103.973 625.48 Q100.825 628.698 95.5938 628.698 Q89.5984 628.698 86.4271 624.115 Q83.2559 619.508 83.2559 610.781 Q83.2559 602.587 87.1447 597.726 Q91.0336 592.842 97.5845 592.842 Q99.3437 592.842 101.126 593.189 Q102.932 593.536 104.876 594.23 Z\" fill=\"#000000\" fill-rule=\"nonzero\" fill-opacity=\"1\" /><path clip-path=\"url(#clip100)\" d=\"M125.177 596.545 Q121.566 596.545 119.737 600.11 Q117.932 603.652 117.932 610.781 Q117.932 617.888 119.737 621.453 Q121.566 624.994 125.177 624.994 Q128.811 624.994 130.617 621.453 Q132.445 617.888 132.445 610.781 Q132.445 603.652 130.617 600.11 Q128.811 596.545 125.177 596.545 M125.177 592.842 Q130.987 592.842 134.043 597.448 Q137.121 602.031 137.121 610.781 Q137.121 619.508 134.043 624.115 Q130.987 628.698 125.177 628.698 Q119.367 628.698 116.288 624.115 Q113.233 619.508 113.233 610.781 Q113.233 602.031 116.288 597.448 Q119.367 592.842 125.177 592.842 Z\" fill=\"#000000\" fill-rule=\"nonzero\" fill-opacity=\"1\" /><path clip-path=\"url(#clip100)\" d=\"M95.0151 396.685 Q91.6817 396.685 89.7605 398.467 Q87.8623 400.25 87.8623 403.375 Q87.8623 406.5 89.7605 408.282 Q91.6817 410.065 95.0151 410.065 Q98.3484 410.065 100.27 408.282 Q102.191 406.477 102.191 403.375 Q102.191 400.25 100.27 398.467 Q98.3715 396.685 95.0151 396.685 M90.3392 394.694 Q87.3299 393.954 85.6401 391.893 Q83.9735 389.833 83.9735 386.87 Q83.9735 382.727 86.9133 380.319 Q89.8762 377.912 95.0151 377.912 Q100.177 377.912 103.117 380.319 Q106.057 382.727 106.057 386.87 Q106.057 389.833 104.367 391.893 Q102.7 393.954 99.7141 394.694 Q103.094 395.481 104.969 397.773 Q106.867 400.065 106.867 403.375 Q106.867 408.398 103.788 411.083 Q100.733 413.768 95.0151 413.768 Q89.2975 413.768 86.2188 411.083 Q83.1633 408.398 83.1633 403.375 Q83.1633 400.065 85.0614 397.773 Q86.9595 395.481 90.3392 394.694 M88.6262 387.31 Q88.6262 389.995 90.2929 391.5 Q91.9827 393.004 95.0151 393.004 Q98.0243 393.004 99.7141 391.5 Q101.427 389.995 101.427 387.31 Q101.427 384.625 99.7141 383.12 Q98.0243 381.616 95.0151 381.616 Q91.9827 381.616 90.2929 383.12 Q88.6262 384.625 88.6262 387.31 Z\" fill=\"#000000\" fill-rule=\"nonzero\" fill-opacity=\"1\" /><path clip-path=\"url(#clip100)\" d=\"M125.177 381.616 Q121.566 381.616 119.737 385.18 Q117.932 388.722 117.932 395.852 Q117.932 402.958 119.737 406.523 Q121.566 410.065 125.177 410.065 Q128.811 410.065 130.617 406.523 Q132.445 402.958 132.445 395.852 Q132.445 388.722 130.617 385.18 Q128.811 381.616 125.177 381.616 M125.177 377.912 Q130.987 377.912 134.043 382.518 Q137.121 387.102 137.121 395.852 Q137.121 404.578 134.043 409.185 Q130.987 413.768 125.177 413.768 Q119.367 413.768 116.288 409.185 Q113.233 404.578 113.233 395.852 Q113.233 387.102 116.288 382.518 Q119.367 377.912 125.177 377.912 Z\" fill=\"#000000\" fill-rule=\"nonzero\" fill-opacity=\"1\" /><path clip-path=\"url(#clip100)\" d=\"M55.6634 194.232 L63.3023 194.232 L63.3023 167.867 L54.9921 169.533 L54.9921 165.274 L63.256 163.607 L67.9319 163.607 L67.9319 194.232 L75.5707 194.232 L75.5707 198.167 L55.6634 198.167 L55.6634 194.232 Z\" fill=\"#000000\" fill-rule=\"nonzero\" fill-opacity=\"1\" /><path clip-path=\"url(#clip100)\" d=\"M95.0151 166.686 Q91.404 166.686 89.5753 170.251 Q87.7697 173.792 87.7697 180.922 Q87.7697 188.028 89.5753 191.593 Q91.404 195.135 95.0151 195.135 Q98.6493 195.135 100.455 191.593 Q102.284 188.028 102.284 180.922 Q102.284 173.792 100.455 170.251 Q98.6493 166.686 95.0151 166.686 M95.0151 162.982 Q100.825 162.982 103.881 167.589 Q106.959 172.172 106.959 180.922 Q106.959 189.649 103.881 194.255 Q100.825 198.839 95.0151 198.839 Q89.2049 198.839 86.1262 194.255 Q83.0707 189.649 83.0707 180.922 Q83.0707 172.172 86.1262 167.589 Q89.2049 162.982 95.0151 162.982 Z\" fill=\"#000000\" fill-rule=\"nonzero\" fill-opacity=\"1\" /><path clip-path=\"url(#clip100)\" d=\"M125.177 166.686 Q121.566 166.686 119.737 170.251 Q117.932 173.792 117.932 180.922 Q117.932 188.028 119.737 191.593 Q121.566 195.135 125.177 195.135 Q128.811 195.135 130.617 191.593 Q132.445 188.028 132.445 180.922 Q132.445 173.792 130.617 170.251 Q128.811 166.686 125.177 166.686 M125.177 162.982 Q130.987 162.982 134.043 167.589 Q137.121 172.172 137.121 180.922 Q137.121 189.649 134.043 194.255 Q130.987 198.839 125.177 198.839 Q119.367 198.839 116.288 194.255 Q113.233 189.649 113.233 180.922 Q113.233 172.172 116.288 167.589 Q119.367 162.982 125.177 162.982 Z\" fill=\"#000000\" fill-rule=\"nonzero\" fill-opacity=\"1\" /><circle clip-path=\"url(#clip102)\" cx=\"200.507\" cy=\"1056.73\" r=\"14.4\" fill=\"#009af9\" fill-rule=\"evenodd\" fill-opacity=\"1\" stroke=\"#000000\" stroke-opacity=\"1\" stroke-width=\"2.4\"/>\n",
       "<circle clip-path=\"url(#clip102)\" cx=\"309.912\" cy=\"1056.73\" r=\"14.4\" fill=\"#009af9\" fill-rule=\"evenodd\" fill-opacity=\"1\" stroke=\"#000000\" stroke-opacity=\"1\" stroke-width=\"2.4\"/>\n",
       "<circle clip-path=\"url(#clip102)\" cx=\"419.318\" cy=\"1056.73\" r=\"14.4\" fill=\"#009af9\" fill-rule=\"evenodd\" fill-opacity=\"1\" stroke=\"#000000\" stroke-opacity=\"1\" stroke-width=\"2.4\"/>\n",
       "<circle clip-path=\"url(#clip102)\" cx=\"528.723\" cy=\"1005.14\" r=\"14.4\" fill=\"#009af9\" fill-rule=\"evenodd\" fill-opacity=\"1\" stroke=\"#000000\" stroke-opacity=\"1\" stroke-width=\"2.4\"/>\n",
       "<circle clip-path=\"url(#clip102)\" cx=\"638.128\" cy=\"901.976\" r=\"14.4\" fill=\"#009af9\" fill-rule=\"evenodd\" fill-opacity=\"1\" stroke=\"#000000\" stroke-opacity=\"1\" stroke-width=\"2.4\"/>\n",
       "<circle clip-path=\"url(#clip102)\" cx=\"747.533\" cy=\"798.81\" r=\"14.4\" fill=\"#009af9\" fill-rule=\"evenodd\" fill-opacity=\"1\" stroke=\"#000000\" stroke-opacity=\"1\" stroke-width=\"2.4\"/>\n",
       "<circle clip-path=\"url(#clip102)\" cx=\"856.939\" cy=\"695.644\" r=\"14.4\" fill=\"#009af9\" fill-rule=\"evenodd\" fill-opacity=\"1\" stroke=\"#000000\" stroke-opacity=\"1\" stroke-width=\"2.4\"/>\n",
       "<circle clip-path=\"url(#clip102)\" cx=\"966.344\" cy=\"592.478\" r=\"14.4\" fill=\"#009af9\" fill-rule=\"evenodd\" fill-opacity=\"1\" stroke=\"#000000\" stroke-opacity=\"1\" stroke-width=\"2.4\"/>\n",
       "<circle clip-path=\"url(#clip102)\" cx=\"1075.75\" cy=\"489.311\" r=\"14.4\" fill=\"#009af9\" fill-rule=\"evenodd\" fill-opacity=\"1\" stroke=\"#000000\" stroke-opacity=\"1\" stroke-width=\"2.4\"/>\n",
       "<circle clip-path=\"url(#clip102)\" cx=\"1185.15\" cy=\"386.145\" r=\"14.4\" fill=\"#009af9\" fill-rule=\"evenodd\" fill-opacity=\"1\" stroke=\"#000000\" stroke-opacity=\"1\" stroke-width=\"2.4\"/>\n",
       "<circle clip-path=\"url(#clip102)\" cx=\"1294.56\" cy=\"282.979\" r=\"14.4\" fill=\"#009af9\" fill-rule=\"evenodd\" fill-opacity=\"1\" stroke=\"#000000\" stroke-opacity=\"1\" stroke-width=\"2.4\"/>\n",
       "<circle clip-path=\"url(#clip102)\" cx=\"1403.96\" cy=\"179.813\" r=\"14.4\" fill=\"#009af9\" fill-rule=\"evenodd\" fill-opacity=\"1\" stroke=\"#000000\" stroke-opacity=\"1\" stroke-width=\"2.4\"/>\n",
       "<circle clip-path=\"url(#clip102)\" cx=\"1513.37\" cy=\"76.6465\" r=\"14.4\" fill=\"#009af9\" fill-rule=\"evenodd\" fill-opacity=\"1\" stroke=\"#000000\" stroke-opacity=\"1\" stroke-width=\"2.4\"/>\n",
       "</svg>\n"
      ],
      "text/html": [
       "<?xml version=\"1.0\" encoding=\"utf-8\"?>\n",
       "<svg xmlns=\"http://www.w3.org/2000/svg\" xmlns:xlink=\"http://www.w3.org/1999/xlink\" width=\"400\" height=\"300\" viewBox=\"0 0 1600 1200\">\n",
       "<defs>\n",
       "  <clipPath id=\"clip150\">\n",
       "    <rect x=\"0\" y=\"0\" width=\"1600\" height=\"1200\"/>\n",
       "  </clipPath>\n",
       "</defs>\n",
       "<path clip-path=\"url(#clip150)\" d=\"M0 1200 L1600 1200 L1600 0 L0 0  Z\" fill=\"#ffffff\" fill-rule=\"evenodd\" fill-opacity=\"1\"/>\n",
       "<defs>\n",
       "  <clipPath id=\"clip151\">\n",
       "    <rect x=\"320\" y=\"0\" width=\"1121\" height=\"1121\"/>\n",
       "  </clipPath>\n",
       "</defs>\n",
       "<path clip-path=\"url(#clip150)\" d=\"M161.121 1086.13 L1552.76 1086.13 L1552.76 47.2441 L161.121 47.2441  Z\" fill=\"#ffffff\" fill-rule=\"evenodd\" fill-opacity=\"1\"/>\n",
       "<defs>\n",
       "  <clipPath id=\"clip152\">\n",
       "    <rect x=\"161\" y=\"47\" width=\"1393\" height=\"1040\"/>\n",
       "  </clipPath>\n",
       "</defs>\n",
       "<polyline clip-path=\"url(#clip152)\" style=\"stroke:#000000; stroke-linecap:round; stroke-linejoin:round; stroke-width:2; stroke-opacity:0.1; fill:none\" points=\"337.264,1086.13 337.264,47.2441 \"/>\n",
       "<polyline clip-path=\"url(#clip152)\" style=\"stroke:#000000; stroke-linecap:round; stroke-linejoin:round; stroke-width:2; stroke-opacity:0.1; fill:none\" points=\"610.777,1086.13 610.777,47.2441 \"/>\n",
       "<polyline clip-path=\"url(#clip152)\" style=\"stroke:#000000; stroke-linecap:round; stroke-linejoin:round; stroke-width:2; stroke-opacity:0.1; fill:none\" points=\"884.29,1086.13 884.29,47.2441 \"/>\n",
       "<polyline clip-path=\"url(#clip152)\" style=\"stroke:#000000; stroke-linecap:round; stroke-linejoin:round; stroke-width:2; stroke-opacity:0.1; fill:none\" points=\"1157.8,1086.13 1157.8,47.2441 \"/>\n",
       "<polyline clip-path=\"url(#clip152)\" style=\"stroke:#000000; stroke-linecap:round; stroke-linejoin:round; stroke-width:2; stroke-opacity:0.1; fill:none\" points=\"1431.32,1086.13 1431.32,47.2441 \"/>\n",
       "<polyline clip-path=\"url(#clip150)\" style=\"stroke:#000000; stroke-linecap:round; stroke-linejoin:round; stroke-width:4; stroke-opacity:1; fill:none\" points=\"161.121,1086.13 1552.76,1086.13 \"/>\n",
       "<polyline clip-path=\"url(#clip150)\" style=\"stroke:#000000; stroke-linecap:round; stroke-linejoin:round; stroke-width:4; stroke-opacity:1; fill:none\" points=\"337.264,1086.13 337.264,1067.23 \"/>\n",
       "<polyline clip-path=\"url(#clip150)\" style=\"stroke:#000000; stroke-linecap:round; stroke-linejoin:round; stroke-width:4; stroke-opacity:1; fill:none\" points=\"610.777,1086.13 610.777,1067.23 \"/>\n",
       "<polyline clip-path=\"url(#clip150)\" style=\"stroke:#000000; stroke-linecap:round; stroke-linejoin:round; stroke-width:4; stroke-opacity:1; fill:none\" points=\"884.29,1086.13 884.29,1067.23 \"/>\n",
       "<polyline clip-path=\"url(#clip150)\" style=\"stroke:#000000; stroke-linecap:round; stroke-linejoin:round; stroke-width:4; stroke-opacity:1; fill:none\" points=\"1157.8,1086.13 1157.8,1067.23 \"/>\n",
       "<polyline clip-path=\"url(#clip150)\" style=\"stroke:#000000; stroke-linecap:round; stroke-linejoin:round; stroke-width:4; stroke-opacity:1; fill:none\" points=\"1431.32,1086.13 1431.32,1067.23 \"/>\n",
       "<path clip-path=\"url(#clip150)\" d=\"M307.206 1125.3 L336.882 1125.3 L336.882 1129.23 L307.206 1129.23 L307.206 1125.3 Z\" fill=\"#000000\" fill-rule=\"nonzero\" fill-opacity=\"1\" /><path clip-path=\"url(#clip150)\" d=\"M351.002 1138.19 L367.321 1138.19 L367.321 1142.13 L345.377 1142.13 L345.377 1138.19 Q348.039 1135.44 352.622 1130.81 Q357.229 1126.16 358.409 1124.81 Q360.655 1122.29 361.534 1120.55 Q362.437 1118.79 362.437 1117.1 Q362.437 1114.35 360.493 1112.61 Q358.572 1110.88 355.47 1110.88 Q353.271 1110.88 350.817 1111.64 Q348.386 1112.41 345.609 1113.96 L345.609 1109.23 Q348.433 1108.1 350.886 1107.52 Q353.34 1106.94 355.377 1106.94 Q360.747 1106.94 363.942 1109.63 Q367.136 1112.31 367.136 1116.8 Q367.136 1118.93 366.326 1120.85 Q365.539 1122.75 363.433 1125.35 Q362.854 1126.02 359.752 1129.23 Q356.65 1132.43 351.002 1138.19 Z\" fill=\"#000000\" fill-rule=\"nonzero\" fill-opacity=\"1\" /><path clip-path=\"url(#clip150)\" d=\"M580.534 1125.3 L610.21 1125.3 L610.21 1129.23 L580.534 1129.23 L580.534 1125.3 Z\" fill=\"#000000\" fill-rule=\"nonzero\" fill-opacity=\"1\" /><path clip-path=\"url(#clip150)\" d=\"M621.112 1138.19 L628.751 1138.19 L628.751 1111.83 L620.441 1113.49 L620.441 1109.23 L628.705 1107.57 L633.381 1107.57 L633.381 1138.19 L641.02 1138.19 L641.02 1142.13 L621.112 1142.13 L621.112 1138.19 Z\" fill=\"#000000\" fill-rule=\"nonzero\" fill-opacity=\"1\" /><path clip-path=\"url(#clip150)\" d=\"M884.29 1110.65 Q880.679 1110.65 878.85 1114.21 Q877.045 1117.75 877.045 1124.88 Q877.045 1131.99 878.85 1135.55 Q880.679 1139.1 884.29 1139.1 Q887.924 1139.1 889.73 1135.55 Q891.558 1131.99 891.558 1124.88 Q891.558 1117.75 889.73 1114.21 Q887.924 1110.65 884.29 1110.65 M884.29 1106.94 Q890.1 1106.94 893.156 1111.55 Q896.234 1116.13 896.234 1124.88 Q896.234 1133.61 893.156 1138.22 Q890.1 1142.8 884.29 1142.8 Q878.48 1142.8 875.401 1138.22 Q872.346 1133.61 872.346 1124.88 Q872.346 1116.13 875.401 1111.55 Q878.48 1106.94 884.29 1106.94 Z\" fill=\"#000000\" fill-rule=\"nonzero\" fill-opacity=\"1\" /><path clip-path=\"url(#clip150)\" d=\"M1148.19 1138.19 L1155.82 1138.19 L1155.82 1111.83 L1147.51 1113.49 L1147.51 1109.23 L1155.78 1107.57 L1160.45 1107.57 L1160.45 1138.19 L1168.09 1138.19 L1168.09 1142.13 L1148.19 1142.13 L1148.19 1138.19 Z\" fill=\"#000000\" fill-rule=\"nonzero\" fill-opacity=\"1\" /><path clip-path=\"url(#clip150)\" d=\"M1425.97 1138.19 L1442.29 1138.19 L1442.29 1142.13 L1420.34 1142.13 L1420.34 1138.19 Q1423.01 1135.44 1427.59 1130.81 Q1432.2 1126.16 1433.38 1124.81 Q1435.62 1122.29 1436.5 1120.55 Q1437.4 1118.79 1437.4 1117.1 Q1437.4 1114.35 1435.46 1112.61 Q1433.54 1110.88 1430.44 1110.88 Q1428.24 1110.88 1425.78 1111.64 Q1423.35 1112.41 1420.58 1113.96 L1420.58 1109.23 Q1423.4 1108.1 1425.85 1107.52 Q1428.31 1106.94 1430.34 1106.94 Q1435.71 1106.94 1438.91 1109.63 Q1442.1 1112.31 1442.1 1116.8 Q1442.1 1118.93 1441.29 1120.85 Q1440.51 1122.75 1438.4 1125.35 Q1437.82 1126.02 1434.72 1129.23 Q1431.62 1132.43 1425.97 1138.19 Z\" fill=\"#000000\" fill-rule=\"nonzero\" fill-opacity=\"1\" /><polyline clip-path=\"url(#clip152)\" style=\"stroke:#000000; stroke-linecap:round; stroke-linejoin:round; stroke-width:2; stroke-opacity:0.1; fill:none\" points=\"161.121,1040.61 1552.76,1040.61 \"/>\n",
       "<polyline clip-path=\"url(#clip152)\" style=\"stroke:#000000; stroke-linecap:round; stroke-linejoin:round; stroke-width:2; stroke-opacity:0.1; fill:none\" points=\"161.121,825.676 1552.76,825.676 \"/>\n",
       "<polyline clip-path=\"url(#clip152)\" style=\"stroke:#000000; stroke-linecap:round; stroke-linejoin:round; stroke-width:2; stroke-opacity:0.1; fill:none\" points=\"161.121,610.747 1552.76,610.747 \"/>\n",
       "<polyline clip-path=\"url(#clip152)\" style=\"stroke:#000000; stroke-linecap:round; stroke-linejoin:round; stroke-width:2; stroke-opacity:0.1; fill:none\" points=\"161.121,395.817 1552.76,395.817 \"/>\n",
       "<polyline clip-path=\"url(#clip152)\" style=\"stroke:#000000; stroke-linecap:round; stroke-linejoin:round; stroke-width:2; stroke-opacity:0.1; fill:none\" points=\"161.121,180.887 1552.76,180.887 \"/>\n",
       "<polyline clip-path=\"url(#clip150)\" style=\"stroke:#000000; stroke-linecap:round; stroke-linejoin:round; stroke-width:4; stroke-opacity:1; fill:none\" points=\"161.121,1086.13 161.121,47.2441 \"/>\n",
       "<polyline clip-path=\"url(#clip150)\" style=\"stroke:#000000; stroke-linecap:round; stroke-linejoin:round; stroke-width:4; stroke-opacity:1; fill:none\" points=\"161.121,1040.61 180.019,1040.61 \"/>\n",
       "<polyline clip-path=\"url(#clip150)\" style=\"stroke:#000000; stroke-linecap:round; stroke-linejoin:round; stroke-width:4; stroke-opacity:1; fill:none\" points=\"161.121,825.676 180.019,825.676 \"/>\n",
       "<polyline clip-path=\"url(#clip150)\" style=\"stroke:#000000; stroke-linecap:round; stroke-linejoin:round; stroke-width:4; stroke-opacity:1; fill:none\" points=\"161.121,610.747 180.019,610.747 \"/>\n",
       "<polyline clip-path=\"url(#clip150)\" style=\"stroke:#000000; stroke-linecap:round; stroke-linejoin:round; stroke-width:4; stroke-opacity:1; fill:none\" points=\"161.121,395.817 180.019,395.817 \"/>\n",
       "<polyline clip-path=\"url(#clip150)\" style=\"stroke:#000000; stroke-linecap:round; stroke-linejoin:round; stroke-width:4; stroke-opacity:1; fill:none\" points=\"161.121,180.887 180.019,180.887 \"/>\n",
       "<path clip-path=\"url(#clip150)\" d=\"M89.0429 1053.95 L105.362 1053.95 L105.362 1057.89 L83.4179 1057.89 L83.4179 1053.95 Q86.0799 1051.2 90.6632 1046.57 Q95.2697 1041.91 96.4502 1040.57 Q98.6956 1038.05 99.5752 1036.31 Q100.478 1034.55 100.478 1032.86 Q100.478 1030.11 98.5336 1028.37 Q96.6123 1026.64 93.5104 1026.64 Q91.3114 1026.64 88.8577 1027.4 Q86.4271 1028.16 83.6494 1029.71 L83.6494 1024.99 Q86.4734 1023.86 88.9271 1023.28 Q91.3808 1022.7 93.4178 1022.7 Q98.7882 1022.7 101.983 1025.39 Q105.177 1028.07 105.177 1032.56 Q105.177 1034.69 104.367 1036.61 Q103.58 1038.51 101.473 1041.1 Q100.895 1041.77 97.7928 1044.99 Q94.691 1048.19 89.0429 1053.95 Z\" fill=\"#000000\" fill-rule=\"nonzero\" fill-opacity=\"1\" /><path clip-path=\"url(#clip150)\" d=\"M125.177 1026.4 Q121.566 1026.4 119.737 1029.97 Q117.932 1033.51 117.932 1040.64 Q117.932 1047.75 119.737 1051.31 Q121.566 1054.85 125.177 1054.85 Q128.811 1054.85 130.617 1051.31 Q132.445 1047.75 132.445 1040.64 Q132.445 1033.51 130.617 1029.97 Q128.811 1026.4 125.177 1026.4 M125.177 1022.7 Q130.987 1022.7 134.043 1027.31 Q137.121 1031.89 137.121 1040.64 Q137.121 1049.37 134.043 1053.97 Q130.987 1058.56 125.177 1058.56 Q119.367 1058.56 116.288 1053.97 Q113.233 1049.37 113.233 1040.64 Q113.233 1031.89 116.288 1027.31 Q119.367 1022.7 125.177 1022.7 Z\" fill=\"#000000\" fill-rule=\"nonzero\" fill-opacity=\"1\" /><path clip-path=\"url(#clip150)\" d=\"M97.8623 812.47 L86.0568 830.919 L97.8623 830.919 L97.8623 812.47 M96.6354 808.396 L102.515 808.396 L102.515 830.919 L107.446 830.919 L107.446 834.808 L102.515 834.808 L102.515 842.956 L97.8623 842.956 L97.8623 834.808 L82.2605 834.808 L82.2605 830.294 L96.6354 808.396 Z\" fill=\"#000000\" fill-rule=\"nonzero\" fill-opacity=\"1\" /><path clip-path=\"url(#clip150)\" d=\"M125.177 811.475 Q121.566 811.475 119.737 815.04 Q117.932 818.581 117.932 825.711 Q117.932 832.817 119.737 836.382 Q121.566 839.924 125.177 839.924 Q128.811 839.924 130.617 836.382 Q132.445 832.817 132.445 825.711 Q132.445 818.581 130.617 815.04 Q128.811 811.475 125.177 811.475 M125.177 807.771 Q130.987 807.771 134.043 812.378 Q137.121 816.961 137.121 825.711 Q137.121 834.438 134.043 839.044 Q130.987 843.627 125.177 843.627 Q119.367 843.627 116.288 839.044 Q113.233 834.438 113.233 825.711 Q113.233 816.961 116.288 812.378 Q119.367 807.771 125.177 807.771 Z\" fill=\"#000000\" fill-rule=\"nonzero\" fill-opacity=\"1\" /><path clip-path=\"url(#clip150)\" d=\"M95.5938 608.883 Q92.4456 608.883 90.5938 611.036 Q88.7651 613.189 88.7651 616.939 Q88.7651 620.665 90.5938 622.841 Q92.4456 624.994 95.5938 624.994 Q98.7419 624.994 100.571 622.841 Q102.422 620.665 102.422 616.939 Q102.422 613.189 100.571 611.036 Q98.7419 608.883 95.5938 608.883 M104.876 594.23 L104.876 598.49 Q103.117 597.656 101.311 597.217 Q99.5289 596.777 97.7697 596.777 Q93.1401 596.777 90.6864 599.902 Q88.2558 603.027 87.9086 609.346 Q89.2743 607.332 91.3345 606.267 Q93.3947 605.179 95.8715 605.179 Q101.08 605.179 104.089 608.351 Q107.121 611.499 107.121 616.939 Q107.121 622.263 103.973 625.48 Q100.825 628.698 95.5938 628.698 Q89.5984 628.698 86.4271 624.115 Q83.2559 619.508 83.2559 610.781 Q83.2559 602.587 87.1447 597.726 Q91.0336 592.842 97.5845 592.842 Q99.3437 592.842 101.126 593.189 Q102.932 593.536 104.876 594.23 Z\" fill=\"#000000\" fill-rule=\"nonzero\" fill-opacity=\"1\" /><path clip-path=\"url(#clip150)\" d=\"M125.177 596.545 Q121.566 596.545 119.737 600.11 Q117.932 603.652 117.932 610.781 Q117.932 617.888 119.737 621.453 Q121.566 624.994 125.177 624.994 Q128.811 624.994 130.617 621.453 Q132.445 617.888 132.445 610.781 Q132.445 603.652 130.617 600.11 Q128.811 596.545 125.177 596.545 M125.177 592.842 Q130.987 592.842 134.043 597.448 Q137.121 602.031 137.121 610.781 Q137.121 619.508 134.043 624.115 Q130.987 628.698 125.177 628.698 Q119.367 628.698 116.288 624.115 Q113.233 619.508 113.233 610.781 Q113.233 602.031 116.288 597.448 Q119.367 592.842 125.177 592.842 Z\" fill=\"#000000\" fill-rule=\"nonzero\" fill-opacity=\"1\" /><path clip-path=\"url(#clip150)\" d=\"M95.0151 396.685 Q91.6817 396.685 89.7605 398.467 Q87.8623 400.25 87.8623 403.375 Q87.8623 406.5 89.7605 408.282 Q91.6817 410.065 95.0151 410.065 Q98.3484 410.065 100.27 408.282 Q102.191 406.477 102.191 403.375 Q102.191 400.25 100.27 398.467 Q98.3715 396.685 95.0151 396.685 M90.3392 394.694 Q87.3299 393.954 85.6401 391.893 Q83.9735 389.833 83.9735 386.87 Q83.9735 382.727 86.9133 380.319 Q89.8762 377.912 95.0151 377.912 Q100.177 377.912 103.117 380.319 Q106.057 382.727 106.057 386.87 Q106.057 389.833 104.367 391.893 Q102.7 393.954 99.7141 394.694 Q103.094 395.481 104.969 397.773 Q106.867 400.065 106.867 403.375 Q106.867 408.398 103.788 411.083 Q100.733 413.768 95.0151 413.768 Q89.2975 413.768 86.2188 411.083 Q83.1633 408.398 83.1633 403.375 Q83.1633 400.065 85.0614 397.773 Q86.9595 395.481 90.3392 394.694 M88.6262 387.31 Q88.6262 389.995 90.2929 391.5 Q91.9827 393.004 95.0151 393.004 Q98.0243 393.004 99.7141 391.5 Q101.427 389.995 101.427 387.31 Q101.427 384.625 99.7141 383.12 Q98.0243 381.616 95.0151 381.616 Q91.9827 381.616 90.2929 383.12 Q88.6262 384.625 88.6262 387.31 Z\" fill=\"#000000\" fill-rule=\"nonzero\" fill-opacity=\"1\" /><path clip-path=\"url(#clip150)\" d=\"M125.177 381.616 Q121.566 381.616 119.737 385.18 Q117.932 388.722 117.932 395.852 Q117.932 402.958 119.737 406.523 Q121.566 410.065 125.177 410.065 Q128.811 410.065 130.617 406.523 Q132.445 402.958 132.445 395.852 Q132.445 388.722 130.617 385.18 Q128.811 381.616 125.177 381.616 M125.177 377.912 Q130.987 377.912 134.043 382.518 Q137.121 387.102 137.121 395.852 Q137.121 404.578 134.043 409.185 Q130.987 413.768 125.177 413.768 Q119.367 413.768 116.288 409.185 Q113.233 404.578 113.233 395.852 Q113.233 387.102 116.288 382.518 Q119.367 377.912 125.177 377.912 Z\" fill=\"#000000\" fill-rule=\"nonzero\" fill-opacity=\"1\" /><path clip-path=\"url(#clip150)\" d=\"M55.6634 194.232 L63.3023 194.232 L63.3023 167.867 L54.9921 169.533 L54.9921 165.274 L63.256 163.607 L67.9319 163.607 L67.9319 194.232 L75.5707 194.232 L75.5707 198.167 L55.6634 198.167 L55.6634 194.232 Z\" fill=\"#000000\" fill-rule=\"nonzero\" fill-opacity=\"1\" /><path clip-path=\"url(#clip150)\" d=\"M95.0151 166.686 Q91.404 166.686 89.5753 170.251 Q87.7697 173.792 87.7697 180.922 Q87.7697 188.028 89.5753 191.593 Q91.404 195.135 95.0151 195.135 Q98.6493 195.135 100.455 191.593 Q102.284 188.028 102.284 180.922 Q102.284 173.792 100.455 170.251 Q98.6493 166.686 95.0151 166.686 M95.0151 162.982 Q100.825 162.982 103.881 167.589 Q106.959 172.172 106.959 180.922 Q106.959 189.649 103.881 194.255 Q100.825 198.839 95.0151 198.839 Q89.2049 198.839 86.1262 194.255 Q83.0707 189.649 83.0707 180.922 Q83.0707 172.172 86.1262 167.589 Q89.2049 162.982 95.0151 162.982 Z\" fill=\"#000000\" fill-rule=\"nonzero\" fill-opacity=\"1\" /><path clip-path=\"url(#clip150)\" d=\"M125.177 166.686 Q121.566 166.686 119.737 170.251 Q117.932 173.792 117.932 180.922 Q117.932 188.028 119.737 191.593 Q121.566 195.135 125.177 195.135 Q128.811 195.135 130.617 191.593 Q132.445 188.028 132.445 180.922 Q132.445 173.792 130.617 170.251 Q128.811 166.686 125.177 166.686 M125.177 162.982 Q130.987 162.982 134.043 167.589 Q137.121 172.172 137.121 180.922 Q137.121 189.649 134.043 194.255 Q130.987 198.839 125.177 198.839 Q119.367 198.839 116.288 194.255 Q113.233 189.649 113.233 180.922 Q113.233 172.172 116.288 167.589 Q119.367 162.982 125.177 162.982 Z\" fill=\"#000000\" fill-rule=\"nonzero\" fill-opacity=\"1\" /><circle clip-path=\"url(#clip152)\" cx=\"200.507\" cy=\"1056.73\" r=\"14.4\" fill=\"#009af9\" fill-rule=\"evenodd\" fill-opacity=\"1\" stroke=\"#000000\" stroke-opacity=\"1\" stroke-width=\"2.4\"/>\n",
       "<circle clip-path=\"url(#clip152)\" cx=\"309.912\" cy=\"1056.73\" r=\"14.4\" fill=\"#009af9\" fill-rule=\"evenodd\" fill-opacity=\"1\" stroke=\"#000000\" stroke-opacity=\"1\" stroke-width=\"2.4\"/>\n",
       "<circle clip-path=\"url(#clip152)\" cx=\"419.318\" cy=\"1056.73\" r=\"14.4\" fill=\"#009af9\" fill-rule=\"evenodd\" fill-opacity=\"1\" stroke=\"#000000\" stroke-opacity=\"1\" stroke-width=\"2.4\"/>\n",
       "<circle clip-path=\"url(#clip152)\" cx=\"528.723\" cy=\"1005.14\" r=\"14.4\" fill=\"#009af9\" fill-rule=\"evenodd\" fill-opacity=\"1\" stroke=\"#000000\" stroke-opacity=\"1\" stroke-width=\"2.4\"/>\n",
       "<circle clip-path=\"url(#clip152)\" cx=\"638.128\" cy=\"901.976\" r=\"14.4\" fill=\"#009af9\" fill-rule=\"evenodd\" fill-opacity=\"1\" stroke=\"#000000\" stroke-opacity=\"1\" stroke-width=\"2.4\"/>\n",
       "<circle clip-path=\"url(#clip152)\" cx=\"747.533\" cy=\"798.81\" r=\"14.4\" fill=\"#009af9\" fill-rule=\"evenodd\" fill-opacity=\"1\" stroke=\"#000000\" stroke-opacity=\"1\" stroke-width=\"2.4\"/>\n",
       "<circle clip-path=\"url(#clip152)\" cx=\"856.939\" cy=\"695.644\" r=\"14.4\" fill=\"#009af9\" fill-rule=\"evenodd\" fill-opacity=\"1\" stroke=\"#000000\" stroke-opacity=\"1\" stroke-width=\"2.4\"/>\n",
       "<circle clip-path=\"url(#clip152)\" cx=\"966.344\" cy=\"592.478\" r=\"14.4\" fill=\"#009af9\" fill-rule=\"evenodd\" fill-opacity=\"1\" stroke=\"#000000\" stroke-opacity=\"1\" stroke-width=\"2.4\"/>\n",
       "<circle clip-path=\"url(#clip152)\" cx=\"1075.75\" cy=\"489.311\" r=\"14.4\" fill=\"#009af9\" fill-rule=\"evenodd\" fill-opacity=\"1\" stroke=\"#000000\" stroke-opacity=\"1\" stroke-width=\"2.4\"/>\n",
       "<circle clip-path=\"url(#clip152)\" cx=\"1185.15\" cy=\"386.145\" r=\"14.4\" fill=\"#009af9\" fill-rule=\"evenodd\" fill-opacity=\"1\" stroke=\"#000000\" stroke-opacity=\"1\" stroke-width=\"2.4\"/>\n",
       "<circle clip-path=\"url(#clip152)\" cx=\"1294.56\" cy=\"282.979\" r=\"14.4\" fill=\"#009af9\" fill-rule=\"evenodd\" fill-opacity=\"1\" stroke=\"#000000\" stroke-opacity=\"1\" stroke-width=\"2.4\"/>\n",
       "<circle clip-path=\"url(#clip152)\" cx=\"1403.96\" cy=\"179.813\" r=\"14.4\" fill=\"#009af9\" fill-rule=\"evenodd\" fill-opacity=\"1\" stroke=\"#000000\" stroke-opacity=\"1\" stroke-width=\"2.4\"/>\n",
       "<circle clip-path=\"url(#clip152)\" cx=\"1513.37\" cy=\"76.6465\" r=\"14.4\" fill=\"#009af9\" fill-rule=\"evenodd\" fill-opacity=\"1\" stroke=\"#000000\" stroke-opacity=\"1\" stroke-width=\"2.4\"/>\n",
       "</svg>\n"
      ]
     },
     "metadata": {},
     "output_type": "display_data"
    }
   ],
   "source": [
    "# Create sample input data\n",
    "domain = -2.5:0.4:2.5 \n",
    "\n",
    "# Perform forward propagation and plot the result\n",
    "y = [toy_model([x])[1] for x in domain]\n",
    "scatter(domain, y)"
   ]
  },
  {
   "cell_type": "markdown",
   "metadata": {},
   "source": [
    "We can now encode the required property and attempt to falsify it using different algorithms of *DNN-Verification*. First of all, we can declare the two sets of interest and construct a *Problem* instance for the ModelVerification.jl toolbox. Then we can use any algorithm in the library (that supports Hyperrectangles in this case) to test the property."
   ]
  },
  {
   "cell_type": "code",
   "execution_count": 4,
   "metadata": {},
   "outputs": [
    {
     "data": {
      "text/plain": [
       "Chain(\n",
       "  Dense(1 => 2, relu),                  \u001b[90m# 4 parameters\u001b[39m\n",
       "  Dense(2 => 2, relu),                  \u001b[90m# 6 parameters\u001b[39m\n",
       "  Dense(2 => 1, relu),                  \u001b[90m# 3 parameters\u001b[39m\n",
       ") \u001b[90m                  # Total: 6 arrays, \u001b[39m13 parameters, 488 bytes."
      ]
     },
     "metadata": {},
     "output_type": "display_data"
    }
   ],
   "source": [
    "# let's define the input-output specification to be verified\n",
    "X = Hyperrectangle(low = [-2.5], high = [2.5]) # expected out: [18.5, 114.5]\n",
    "Y = Hyperrectangle(low = [18.5], high = [114.5]) # here we check if the property holds\n",
    "\n",
    "\n",
    "# let's instantiate the Problem for the ModelVerification.jl toolbox\n",
    "problem = Problem(toy_model, X, Y)\n",
    "problem.Flux_model"
   ]
  },
  {
   "cell_type": "markdown",
   "metadata": {},
   "source": [
    "Clearly, this network is elementary, and any property can be verified by hand, but we will continue with the example! Let's now instantiate the solver, in this case, *Ai2*, and check the formal result of the verification process. As indicated in the workflow shown above ModelVerification.jl requires a search, a split, and a propagation method in addition to the DNN and the input-output specification.  "
   ]
  },
  {
   "cell_type": "code",
   "execution_count": 5,
   "metadata": {},
   "outputs": [
    {
     "data": {
      "text/plain": [
       "Ai2z()"
      ]
     },
     "metadata": {},
     "output_type": "display_data"
    }
   ],
   "source": [
    "# we instantiate the 3 main components for the verification process\n",
    "search_method = BFS(max_iter=100, batch_size=1)\n",
    "split_method = Bisect(1)\n",
    "solver = Ai2()"
   ]
  },
  {
   "cell_type": "code",
   "execution_count": 7,
   "metadata": {},
   "outputs": [
    {
     "name": "stdout",
     "output_type": "stream",
     "text": [
      "The result is: BasicResult(:holds)\n",
      "The property holds!\n"
     ]
    }
   ],
   "source": [
    "# we then start the verification process using the verify function of ModelVerification.jl\n",
    "result = verify(search_method, split_method, solver, problem)\n",
    "\n",
    "# the verification result is stored in 'result'. Let's print it!\n",
    "println(\"The result is: \", result)\n",
    "\n",
    "# the verification result is stored in 'result.status'. Let's see if the property holds...\n",
    "println(\"The property \", result.status, \"!\")\n"
   ]
  },
  {
   "cell_type": "markdown",
   "metadata": {},
   "source": [
    "The first print produces the type of result returned by *Ai2*, i.e., `BasicResult`. We can notice that inside the rounded brackets, we can already see the output of the verification process. To get access to the value, we can do `result.status`. *Ai2* states that the input-output relationship holds, i.e., every possible input $x \\in \\mathcal{X}$ is actually mapped in the reachable set $\\mathcal{Y} = [18.5, 114.5]$.\n",
    "\n",
    "Let's see if using another solver we have the same result:"
   ]
  },
  {
   "cell_type": "code",
   "execution_count": 8,
   "metadata": {},
   "outputs": [
    {
     "name": "stdout",
     "output_type": "stream",
     "text": [
      "The result is: BasicResult(:holds)\n",
      "The property holds\n"
     ]
    }
   ],
   "source": [
    "# we instantiate the 3 main components for the verification process\n",
    "search_method = BFS(max_iter=100, batch_size=1)\n",
    "split_method = Bisect(1)\n",
    "\n",
    "# parameter used in CROWN\n",
    "use_gpu = false\n",
    "lower_bound = true\n",
    "upper_bound = true\n",
    "\n",
    "solver = Crown(use_gpu, lower_bound, upper_bound)\n",
    "\n",
    "# we then start the verification process using the verify function of ModelVerification.jl\n",
    "result = verify(search_method, split_method, solver, problem)\n",
    "\n",
    "# the verification result is stored in 'result'. Let's print it!\n",
    "println(\"The result is: \", result)\n",
    "\n",
    "# the verification result is stored in 'result.status'. Let's see if the property holds...\n",
    "println(\"The property \", result.status)"
   ]
  },
  {
   "cell_type": "markdown",
   "metadata": {},
   "source": [
    "As expected we obtain the same result!"
   ]
  },
  {
   "cell_type": "markdown",
   "metadata": {},
   "source": [
    "We can now check if we obtain a different result by changing the desired output reachable set. The previous verification process told us that for the DNN $\\mathcal{F}$, all the values in the domain $[-2.5, 2.5]$ are mapped in $[18.5, 114.5]$. Hence, we can test if we obtain a violation by modifying the output reachable set. More specifically, suppose to check if starting from $\\mathcal{X}=[-2.5, 2.5]$ all the values are mapped in $\\mathcal{Y}=[20, 114]$."
   ]
  },
  {
   "cell_type": "code",
   "execution_count": 9,
   "metadata": {},
   "outputs": [
    {
     "name": "stdout",
     "output_type": "stream",
     "text": [
      "The property is violated!\n",
      "A counterexample is "
     ]
    },
    {
     "name": "stdout",
     "output_type": "stream",
     "text": [
      "[-1.875]\n"
     ]
    }
   ],
   "source": [
    "# let's define the input-output specification to be verified\n",
    "X = Hyperrectangle(low = [-2.5], high = [2.5]) # expected out: [18.5, 114.5]\n",
    "Y = Hyperrectangle(low = [20], high = [114]) # here we expect the property is violated\n",
    "\n",
    "\n",
    "# let's instantiate the Problem for the ModelVerification.jl toolbox\n",
    "problem = Problem(onnx_path, X, Y)\n",
    "\n",
    "# we instantiate the 3 main components for the verification process\n",
    "search_method = BFS(max_iter=100, batch_size=1)\n",
    "split_method = Bisect(1)\n",
    "\n",
    "solver = Ai2()\n",
    "result = verify(search_method, split_method, solver, problem)\n",
    "\n",
    "\n",
    "# the verification result is stored in 'result.status'. Let's see if the property holds...\n",
    "println(\"The property is \", result.status, \"!\")\n",
    "println(\"A counterexample is \", result.info[\"counter_example\"])"
   ]
  },
  {
   "cell_type": "markdown",
   "metadata": {},
   "source": [
    "As expected, we obtained a `result.status=violated`, meaning this property does not hold for all values in $\\mathcal{X}$. Even though the interval $[20, 114] \\subset [18.5, 114.5]$, this does not imply that all the values in $\\mathcal{X}$ are mapped in the smaller subset $[20, 114]$. Infact, as shown even in the plot above, if we compute $\\mathcal{F}(counterexample)$ we obtain"
   ]
  },
  {
   "cell_type": "code",
   "execution_count": 10,
   "metadata": {},
   "outputs": [
    {
     "name": "stdout",
     "output_type": "stream",
     "text": [
      "Test propagation [-1.875]...\n",
      "The output is: 18.5"
     ]
    },
    {
     "name": "stdout",
     "output_type": "stream",
     "text": [
      "\n",
      "18.5 < 20? true"
     ]
    }
   ],
   "source": [
    "counter_example = result.info[\"counter_example\"]\n",
    "println(\"Test propagation $(counter_example)...\")\n",
    "y = toy_model(counter_example)[1]\n",
    "println(\"The output is: \", y)\n",
    "print(\"$y < 20? \", y<20)"
   ]
  },
  {
   "cell_type": "markdown",
   "metadata": {},
   "source": [
    "### Different type of verification strategies"
   ]
  },
  {
   "cell_type": "markdown",
   "metadata": {},
   "source": [
    "We've just seen the reachability analysis, but ModelVerification.jl allowed us to use Optimization-based methods that encode, convexifying the non-linear activation function, the relations in the network as an optimization problem.\n",
    "\n",
    "In most of these strategies, as well as in the verification process, rather than checking if the output is in $\\mathcal{Y}$, the optimization/feasibility problem checks if the result is not in the complement of the set, i.e., $\\mathcal{Y}_c$. Broadly speaking, following the example above, instead of looking at the output reachable set in $[18.5, 114.5]$, we can check if the output can be less than $18.5$ or greater than $114.5$.\n",
    "\n",
    "Let's see how we can make this check. We can still use CROWN as a solver, since it supports Complement sets as input-output specifications."
   ]
  },
  {
   "cell_type": "code",
   "execution_count": 11,
   "metadata": {},
   "outputs": [
    {
     "name": "stdout",
     "output_type": "stream",
     "text": [
      "The property is violated!\n"
     ]
    }
   ],
   "source": [
    "# let's define the input-output specification to be verified\n",
    "X = Hyperrectangle(low = [-2.5], high = [2.5]) # expected out: [18.5, 114.5]\n",
    "Y_c = Complement(Hyperrectangle(low = [18.5], high = [114.5])) # y ≤ 18.5 or y ≥ 114.5\n",
    "\n",
    "\n",
    "# let's instantiate the Problem for the ModelVerification.jl toolbox\n",
    "problem = Problem(onnx_path, X, Y_c)\n",
    "\n",
    "# we instantiate the 3 main components for the verification process\n",
    "search_method = BFS(max_iter=150, batch_size=1)\n",
    "split_method = Bisect(1)\n",
    "\n",
    "# parameter used in CROWN\n",
    "use_gpu = false\n",
    "lower_bound = true\n",
    "upper_bound = true\n",
    "solver = Crown(use_gpu, lower_bound, upper_bound)\n",
    "result = verify(search_method, split_method, solver, problem)\n",
    "\n",
    "\n",
    "# the verification result is stored in 'result.status'. Let's see if the property holds...\n",
    "println(\"The property is \", result.status, \"!\")"
   ]
  },
  {
   "cell_type": "markdown",
   "metadata": {},
   "source": [
    "As expected, we obtained a `violated` answer, meaning that if the output cannot be below $18.5$ or above $114.5$, it should necessarily be contained in $[18.5, 114.5]$. Nonetheless, checking an output reachable set's complement cannot always be helpful. Suppose we verify this condition  "
   ]
  },
  {
   "cell_type": "code",
   "execution_count": 12,
   "metadata": {},
   "outputs": [
    {
     "name": "stdout",
     "output_type": "stream",
     "text": [
      "The property holds!\n"
     ]
    }
   ],
   "source": [
    "# let's define the input-output specification to be verified\n",
    "X = Hyperrectangle(low = [-2.5], high = [2.5]) # expected out: [18.5, 114.5]\n",
    "Y_c = Complement(Hyperrectangle(low = [115], high = [118.5])) # y ≤ 115 or y ≥ 118.5\n",
    "\n",
    "\n",
    "# let's instantiate the Problem for the ModelVerification.jl toolbox\n",
    "problem = Problem(onnx_path, X, Y_c)\n",
    "\n",
    "# we instantiate the 3 main components for the verification process\n",
    "search_method = BFS(max_iter=100, batch_size=1)\n",
    "split_method = Bisect(1)\n",
    "\n",
    "# parameter used in CROWN\n",
    "use_gpu = false\n",
    "lower_bound = true\n",
    "upper_bound = true\n",
    "solver = Crown(use_gpu, lower_bound, upper_bound)\n",
    "result = verify(search_method, split_method, solver, problem)\n",
    "\n",
    "\n",
    "# the verification result is stored in 'result.status'. Let's see if the property holds...\n",
    "println(\"The property \", result.status, \"!\")"
   ]
  },
  {
   "cell_type": "markdown",
   "metadata": {},
   "source": [
    "As we notice, we have a `holds` answer. In fact, the output can assume values below $115$ (we recall that the output reachable set is $[18.5,114,5]$). However, with this verification query, we only know that the output reachable set is all less than $115$ or greater than $118.5$. "
   ]
  },
  {
   "cell_type": "markdown",
   "metadata": {},
   "source": [
    "<div id='example2'/>\n",
    "\n",
    "# Example 2: Verifying CNNs for robustness verification"
   ]
  },
  {
   "cell_type": "markdown",
   "metadata": {},
   "source": [
    "In this section, we will see how it is possible to use ModelVerification.jl to perform robustness verification. Before diving into the verification process, let's recall the robustness DNN-Verification definition. To verify robustness in a classification network, we need to ensure that given a possible perturbation of a given input $x_0$, all samples in the neighborhood of this perturbation are classified with the same desired label. \n",
    "\n",
    "In particular, let's suppose we have ten numerical digits; thus, the network outputs ten possible values, each representing a label for the input image. Hence, given a particular input image, we want to provably verify that for a possible $\\epsilon$-perturbance of this input image, the CNN always outputs the desired label $i^*$ corresponding to the input image (i.e., ensure that $y_{i^*} > y_j\\; \\forall j \\neq i^*$). Formally: \n",
    "\n",
    "$$\\mathcal{X} = \\{x: \\vert\\vert x-x_0 \\vert\\vert_p \\leq \\epsilon \\} $$\n",
    "$$\\mathcal{Y} = \\{y: y_{i^*}>y_j,\\; \\forall j \\neq i^* \\} $$\n",
    "\n"
   ]
  },
  {
   "cell_type": "markdown",
   "metadata": {},
   "source": [
    "Typically, the metric to measure disturbance $p$, can be any $l_p$ norm, though the $l_{\\infty}$ or the $l_1$ norms are common because they lead to linear constraints."
   ]
  },
  {
   "cell_type": "markdown",
   "metadata": {},
   "source": [
    "<div id='example2-1'/>\n",
    "\n",
    "## MNINST case study"
   ]
  },
  {
   "cell_type": "markdown",
   "metadata": {},
   "source": [
    "Let's now move to the real example of this section. Specifically, we will inspect networks trained to classify hand-written digits from the MNIST dataset. \n",
    "This latter is composed of handwritten digits, as shown below. Each sample is a grayscale image (with a single 8 bit channel) of 28 x 28 pixels.\n",
    "\n",
    "\n",
    "<p align=\"center\">\n",
    "<img src=\"images_tutorial/mnistexamples.png\" alt=\"Drawing\" align=\"center\" style=\"width: 800px;\"/>\n",
    "</p>\n",
    "\n",
    "\n",
    "\n",
    "\n",
    "We will load a pretrained network and then verify it to find an adversarial example - an input point close to an original training point that produces undesirable output, such as a misclassification error."
   ]
  },
  {
   "cell_type": "code",
   "execution_count": 13,
   "metadata": {},
   "outputs": [
    {
     "data": {
      "text/plain": [
       "Chain(\n",
       "  Conv((5, 5), 1 => 6, relu),           \u001b[90m# 156 parameters\u001b[39m\n",
       "  MeanPool((2, 2)),\n",
       "  Conv((5, 5), 6 => 16, relu),          \u001b[90m# 2_416 parameters\u001b[39m\n",
       "  MeanPool((2, 2)),\n",
       "  Flux.flatten,\n",
       "  Dense(256 => 120, relu),              \u001b[90m# 30_840 parameters\u001b[39m\n",
       "  Dense(120 => 84, relu),               \u001b[90m# 10_164 parameters\u001b[39m\n",
       "  Dense(84 => 10),                      \u001b[90m# 850 parameters\u001b[39m\n",
       ") \u001b[90m                  # Total: 10 arrays, \u001b[39m44_426 parameters, 174.867 KiB."
      ]
     },
     "metadata": {},
     "output_type": "display_data"
    }
   ],
   "source": [
    "model = Chain(\n",
    "    Conv((5, 5), 1=>6, relu),\n",
    "    MeanPool((2, 2)),\n",
    "    Conv((5, 5), 6=>16, relu),\n",
    "    MeanPool((2, 2)),\n",
    "    Flux.flatten,\n",
    "    Dense(256 => 120, relu),\n",
    "    Dense(120 => 84, relu), \n",
    "    Dense(84 => 10),\n",
    ")\n",
    "loaded_state = JLD2.load(\"models/lenet.jld2\", \"lenet_state\");\n",
    "Flux.loadmodel!(model, loaded_state)"
   ]
  },
  {
   "cell_type": "markdown",
   "metadata": {},
   "source": [
    "Let's now consider a particular image of the dataset to verify... For a better visualization of the possible values each pixel can take we use a heatmap to display the original input for our CNN: "
   ]
  },
  {
   "cell_type": "code",
   "execution_count": 14,
   "metadata": {},
   "outputs": [
    {
     "data": {
      "image/png": "[encoded data removed]",
      "image/svg+xml": [
       "<?xml version=\"1.0\" encoding=\"utf-8\"?>\n",
       "<svg xmlns=\"http://www.w3.org/2000/svg\" xmlns:xlink=\"http://www.w3.org/1999/xlink\" width=\"300\" height=\"200\" viewBox=\"0 0 1200 800\">\n",
       "<defs>\n",
       "  <clipPath id=\"clip190\">\n",
       "    <rect x=\"0\" y=\"0\" width=\"1200\" height=\"800\"/>\n",
       "  </clipPath>\n",
       "</defs>\n",
       "<path clip-path=\"url(#clip190)\" d=\"M0 800 L1200 800 L1200 0 L0 0  Z\" fill=\"#ffffff\" fill-rule=\"evenodd\" fill-opacity=\"1\"/>\n",
       "<defs>\n",
       "  <clipPath id=\"clip191\">\n",
       "    <rect x=\"240\" y=\"0\" width=\"841\" height=\"800\"/>\n",
       "  </clipPath>\n",
       "</defs>\n",
       "<path clip-path=\"url(#clip190)\" d=\"M128.696 694.448 L1152.76 694.448 L1152.76 47.2441 L128.696 47.2441  Z\" fill=\"#ffffff\" fill-rule=\"evenodd\" fill-opacity=\"1\"/>\n",
       "<defs>\n",
       "  <clipPath id=\"clip192\">\n",
       "    <rect x=\"128\" y=\"47\" width=\"1025\" height=\"648\"/>\n",
       "  </clipPath>\n",
       "</defs>\n",
       "<polyline clip-path=\"url(#clip192)\" style=\"stroke:#000000; stroke-linecap:round; stroke-linejoin:round; stroke-width:2; stroke-opacity:0.1; fill:none\" points=\"293.277,694.448 293.277,47.2441 \"/>\n",
       "<polyline clip-path=\"url(#clip192)\" style=\"stroke:#000000; stroke-linecap:round; stroke-linejoin:round; stroke-width:2; stroke-opacity:0.1; fill:none\" points=\"476.145,694.448 476.145,47.2441 \"/>\n",
       "<polyline clip-path=\"url(#clip192)\" style=\"stroke:#000000; stroke-linecap:round; stroke-linejoin:round; stroke-width:2; stroke-opacity:0.1; fill:none\" points=\"659.013,694.448 659.013,47.2441 \"/>\n",
       "<polyline clip-path=\"url(#clip192)\" style=\"stroke:#000000; stroke-linecap:round; stroke-linejoin:round; stroke-width:2; stroke-opacity:0.1; fill:none\" points=\"841.88,694.448 841.88,47.2441 \"/>\n",
       "<polyline clip-path=\"url(#clip192)\" style=\"stroke:#000000; stroke-linecap:round; stroke-linejoin:round; stroke-width:2; stroke-opacity:0.1; fill:none\" points=\"1024.75,694.448 1024.75,47.2441 \"/>\n",
       "<polyline clip-path=\"url(#clip190)\" style=\"stroke:#000000; stroke-linecap:round; stroke-linejoin:round; stroke-width:4; stroke-opacity:1; fill:none\" points=\"128.696,694.448 1152.76,694.448 \"/>\n",
       "<polyline clip-path=\"url(#clip190)\" style=\"stroke:#000000; stroke-linecap:round; stroke-linejoin:round; stroke-width:4; stroke-opacity:1; fill:none\" points=\"293.277,694.448 293.277,675.55 \"/>\n",
       "<polyline clip-path=\"url(#clip190)\" style=\"stroke:#000000; stroke-linecap:round; stroke-linejoin:round; stroke-width:4; stroke-opacity:1; fill:none\" points=\"476.145,694.448 476.145,675.55 \"/>\n",
       "<polyline clip-path=\"url(#clip190)\" style=\"stroke:#000000; stroke-linecap:round; stroke-linejoin:round; stroke-width:4; stroke-opacity:1; fill:none\" points=\"659.013,694.448 659.013,675.55 \"/>\n",
       "<polyline clip-path=\"url(#clip190)\" style=\"stroke:#000000; stroke-linecap:round; stroke-linejoin:round; stroke-width:4; stroke-opacity:1; fill:none\" points=\"841.88,694.448 841.88,675.55 \"/>\n",
       "<polyline clip-path=\"url(#clip190)\" style=\"stroke:#000000; stroke-linecap:round; stroke-linejoin:round; stroke-width:4; stroke-opacity:1; fill:none\" points=\"1024.75,694.448 1024.75,675.55 \"/>\n",
       "<path clip-path=\"url(#clip190)\" d=\"M283.555 712.688 L301.911 712.688 L301.911 716.623 L287.837 716.623 L287.837 725.095 Q288.855 724.748 289.874 724.586 Q290.892 724.401 291.911 724.401 Q297.698 724.401 301.078 727.572 Q304.457 730.743 304.457 736.16 Q304.457 741.739 300.985 744.84 Q297.513 747.919 291.193 747.919 Q289.017 747.919 286.749 747.549 Q284.504 747.178 282.096 746.438 L282.096 741.739 Q284.179 742.873 286.402 743.428 Q288.624 743.984 291.101 743.984 Q295.105 743.984 297.443 741.878 Q299.781 739.771 299.781 736.16 Q299.781 732.549 297.443 730.442 Q295.105 728.336 291.101 728.336 Q289.226 728.336 287.351 728.753 Q285.499 729.169 283.555 730.049 L283.555 712.688 Z\" fill=\"#000000\" fill-rule=\"nonzero\" fill-opacity=\"1\" /><path clip-path=\"url(#clip190)\" d=\"M450.832 743.313 L458.471 743.313 L458.471 716.947 L450.161 718.614 L450.161 714.355 L458.425 712.688 L463.101 712.688 L463.101 743.313 L470.74 743.313 L470.74 747.248 L450.832 747.248 L450.832 743.313 Z\" fill=\"#000000\" fill-rule=\"nonzero\" fill-opacity=\"1\" /><path clip-path=\"url(#clip190)\" d=\"M490.184 715.767 Q486.573 715.767 484.744 719.331 Q482.939 722.873 482.939 730.003 Q482.939 737.109 484.744 740.674 Q486.573 744.215 490.184 744.215 Q493.818 744.215 495.624 740.674 Q497.452 737.109 497.452 730.003 Q497.452 722.873 495.624 719.331 Q493.818 715.767 490.184 715.767 M490.184 712.063 Q495.994 712.063 499.05 716.669 Q502.128 721.253 502.128 730.003 Q502.128 738.729 499.05 743.336 Q495.994 747.919 490.184 747.919 Q484.374 747.919 481.295 743.336 Q478.239 738.729 478.239 730.003 Q478.239 721.253 481.295 716.669 Q484.374 712.063 490.184 712.063 Z\" fill=\"#000000\" fill-rule=\"nonzero\" fill-opacity=\"1\" /><path clip-path=\"url(#clip190)\" d=\"M634.198 743.313 L641.837 743.313 L641.837 716.947 L633.527 718.614 L633.527 714.355 L641.79 712.688 L646.466 712.688 L646.466 743.313 L654.105 743.313 L654.105 747.248 L634.198 747.248 L634.198 743.313 Z\" fill=\"#000000\" fill-rule=\"nonzero\" fill-opacity=\"1\" /><path clip-path=\"url(#clip190)\" d=\"M663.596 712.688 L681.952 712.688 L681.952 716.623 L667.878 716.623 L667.878 725.095 Q668.897 724.748 669.915 724.586 Q670.934 724.401 671.952 724.401 Q677.739 724.401 681.119 727.572 Q684.498 730.743 684.498 736.16 Q684.498 741.739 681.026 744.84 Q677.554 747.919 671.235 747.919 Q669.059 747.919 666.79 747.549 Q664.545 747.178 662.137 746.438 L662.137 741.739 Q664.221 742.873 666.443 743.428 Q668.665 743.984 671.142 743.984 Q675.147 743.984 677.485 741.878 Q679.823 739.771 679.823 736.16 Q679.823 732.549 677.485 730.442 Q675.147 728.336 671.142 728.336 Q669.267 728.336 667.392 728.753 Q665.54 729.169 663.596 730.049 L663.596 712.688 Z\" fill=\"#000000\" fill-rule=\"nonzero\" fill-opacity=\"1\" /><path clip-path=\"url(#clip190)\" d=\"M820.654 743.313 L836.973 743.313 L836.973 747.248 L815.029 747.248 L815.029 743.313 Q817.691 740.558 822.274 735.928 Q826.881 731.276 828.061 729.933 Q830.306 727.41 831.186 725.674 Q832.089 723.915 832.089 722.225 Q832.089 719.47 830.144 717.734 Q828.223 715.998 825.121 715.998 Q822.922 715.998 820.469 716.762 Q818.038 717.526 815.26 719.077 L815.26 714.355 Q818.084 713.22 820.538 712.642 Q822.992 712.063 825.029 712.063 Q830.399 712.063 833.593 714.748 Q836.788 717.433 836.788 721.924 Q836.788 724.054 835.978 725.975 Q835.191 727.873 833.084 730.466 Q832.505 731.137 829.404 734.354 Q826.302 737.549 820.654 743.313 Z\" fill=\"#000000\" fill-rule=\"nonzero\" fill-opacity=\"1\" /><path clip-path=\"url(#clip190)\" d=\"M856.788 715.767 Q853.177 715.767 851.348 719.331 Q849.542 722.873 849.542 730.003 Q849.542 737.109 851.348 740.674 Q853.177 744.215 856.788 744.215 Q860.422 744.215 862.228 740.674 Q864.056 737.109 864.056 730.003 Q864.056 722.873 862.228 719.331 Q860.422 715.767 856.788 715.767 M856.788 712.063 Q862.598 712.063 865.653 716.669 Q868.732 721.253 868.732 730.003 Q868.732 738.729 865.653 743.336 Q862.598 747.919 856.788 747.919 Q850.978 747.919 847.899 743.336 Q844.843 738.729 844.843 730.003 Q844.843 721.253 847.899 716.669 Q850.978 712.063 856.788 712.063 Z\" fill=\"#000000\" fill-rule=\"nonzero\" fill-opacity=\"1\" /><path clip-path=\"url(#clip190)\" d=\"M1004.02 743.313 L1020.34 743.313 L1020.34 747.248 L998.394 747.248 L998.394 743.313 Q1001.06 740.558 1005.64 735.928 Q1010.25 731.276 1011.43 729.933 Q1013.67 727.41 1014.55 725.674 Q1015.45 723.915 1015.45 722.225 Q1015.45 719.47 1013.51 717.734 Q1011.59 715.998 1008.49 715.998 Q1006.29 715.998 1003.83 716.762 Q1001.4 717.526 998.626 719.077 L998.626 714.355 Q1001.45 713.22 1003.9 712.642 Q1006.36 712.063 1008.39 712.063 Q1013.76 712.063 1016.96 714.748 Q1020.15 717.433 1020.15 721.924 Q1020.15 724.054 1019.34 725.975 Q1018.56 727.873 1016.45 730.466 Q1015.87 731.137 1012.77 734.354 Q1009.67 737.549 1004.02 743.313 Z\" fill=\"#000000\" fill-rule=\"nonzero\" fill-opacity=\"1\" /><path clip-path=\"url(#clip190)\" d=\"M1030.2 712.688 L1048.56 712.688 L1048.56 716.623 L1034.48 716.623 L1034.48 725.095 Q1035.5 724.748 1036.52 724.586 Q1037.54 724.401 1038.56 724.401 Q1044.34 724.401 1047.72 727.572 Q1051.1 730.743 1051.1 736.16 Q1051.1 741.739 1047.63 744.84 Q1044.16 747.919 1037.84 747.919 Q1035.66 747.919 1033.39 747.549 Q1031.15 747.178 1028.74 746.438 L1028.74 741.739 Q1030.82 742.873 1033.05 743.428 Q1035.27 743.984 1037.75 743.984 Q1041.75 743.984 1044.09 741.878 Q1046.43 739.771 1046.43 736.16 Q1046.43 732.549 1044.09 730.442 Q1041.75 728.336 1037.75 728.336 Q1035.87 728.336 1034 728.753 Q1032.14 729.169 1030.2 730.049 L1030.2 712.688 Z\" fill=\"#000000\" fill-rule=\"nonzero\" fill-opacity=\"1\" /><polyline clip-path=\"url(#clip192)\" style=\"stroke:#000000; stroke-linecap:round; stroke-linejoin:round; stroke-width:2; stroke-opacity:0.1; fill:none\" points=\"128.696,590.433 1152.76,590.433 \"/>\n",
       "<polyline clip-path=\"url(#clip192)\" style=\"stroke:#000000; stroke-linecap:round; stroke-linejoin:round; stroke-width:2; stroke-opacity:0.1; fill:none\" points=\"128.696,474.861 1152.76,474.861 \"/>\n",
       "<polyline clip-path=\"url(#clip192)\" style=\"stroke:#000000; stroke-linecap:round; stroke-linejoin:round; stroke-width:2; stroke-opacity:0.1; fill:none\" points=\"128.696,359.289 1152.76,359.289 \"/>\n",
       "<polyline clip-path=\"url(#clip192)\" style=\"stroke:#000000; stroke-linecap:round; stroke-linejoin:round; stroke-width:2; stroke-opacity:0.1; fill:none\" points=\"128.696,243.717 1152.76,243.717 \"/>\n",
       "<polyline clip-path=\"url(#clip192)\" style=\"stroke:#000000; stroke-linecap:round; stroke-linejoin:round; stroke-width:2; stroke-opacity:0.1; fill:none\" points=\"128.696,128.145 1152.76,128.145 \"/>\n",
       "<polyline clip-path=\"url(#clip190)\" style=\"stroke:#000000; stroke-linecap:round; stroke-linejoin:round; stroke-width:4; stroke-opacity:1; fill:none\" points=\"128.696,694.448 128.696,47.2441 \"/>\n",
       "<polyline clip-path=\"url(#clip190)\" style=\"stroke:#000000; stroke-linecap:round; stroke-linejoin:round; stroke-width:4; stroke-opacity:1; fill:none\" points=\"128.696,590.433 147.593,590.433 \"/>\n",
       "<polyline clip-path=\"url(#clip190)\" style=\"stroke:#000000; stroke-linecap:round; stroke-linejoin:round; stroke-width:4; stroke-opacity:1; fill:none\" points=\"128.696,474.861 147.593,474.861 \"/>\n",
       "<polyline clip-path=\"url(#clip190)\" style=\"stroke:#000000; stroke-linecap:round; stroke-linejoin:round; stroke-width:4; stroke-opacity:1; fill:none\" points=\"128.696,359.289 147.593,359.289 \"/>\n",
       "<polyline clip-path=\"url(#clip190)\" style=\"stroke:#000000; stroke-linecap:round; stroke-linejoin:round; stroke-width:4; stroke-opacity:1; fill:none\" points=\"128.696,243.717 147.593,243.717 \"/>\n",
       "<polyline clip-path=\"url(#clip190)\" style=\"stroke:#000000; stroke-linecap:round; stroke-linejoin:round; stroke-width:4; stroke-opacity:1; fill:none\" points=\"128.696,128.145 147.593,128.145 \"/>\n",
       "<path clip-path=\"url(#clip190)\" d=\"M89.7929 573.153 L108.149 573.153 L108.149 577.088 L94.0753 577.088 L94.0753 585.56 Q95.0938 585.213 96.1123 585.051 Q97.1308 584.866 98.1493 584.866 Q103.936 584.866 107.316 588.037 Q110.696 591.208 110.696 596.625 Q110.696 602.204 107.223 605.306 Q103.751 608.384 97.4317 608.384 Q95.2558 608.384 92.9873 608.014 Q90.7419 607.644 88.3346 606.903 L88.3346 602.204 Q90.4179 603.338 92.6401 603.894 Q94.8623 604.449 97.3391 604.449 Q101.344 604.449 103.682 602.343 Q106.02 600.236 106.02 596.625 Q106.02 593.014 103.682 590.908 Q101.344 588.801 97.3391 588.801 Q95.4641 588.801 93.5892 589.218 Q91.7373 589.634 89.7929 590.514 L89.7929 573.153 Z\" fill=\"#000000\" fill-rule=\"nonzero\" fill-opacity=\"1\" /><path clip-path=\"url(#clip190)\" d=\"M59.3995 488.206 L67.0384 488.206 L67.0384 461.84 L58.7282 463.507 L58.7282 459.248 L66.9921 457.581 L71.668 457.581 L71.668 488.206 L79.3068 488.206 L79.3068 492.141 L59.3995 492.141 L59.3995 488.206 Z\" fill=\"#000000\" fill-rule=\"nonzero\" fill-opacity=\"1\" /><path clip-path=\"url(#clip190)\" d=\"M98.7512 460.66 Q95.1401 460.66 93.3114 464.224 Q91.5058 467.766 91.5058 474.896 Q91.5058 482.002 93.3114 485.567 Q95.1401 489.108 98.7512 489.108 Q102.385 489.108 104.191 485.567 Q106.02 482.002 106.02 474.896 Q106.02 467.766 104.191 464.224 Q102.385 460.66 98.7512 460.66 M98.7512 456.956 Q104.561 456.956 107.617 461.562 Q110.696 466.146 110.696 474.896 Q110.696 483.622 107.617 488.229 Q104.561 492.812 98.7512 492.812 Q92.941 492.812 89.8623 488.229 Q86.8068 483.622 86.8068 474.896 Q86.8068 466.146 89.8623 461.562 Q92.941 456.956 98.7512 456.956 Z\" fill=\"#000000\" fill-rule=\"nonzero\" fill-opacity=\"1\" /><path clip-path=\"url(#clip190)\" d=\"M60.3949 372.634 L68.0337 372.634 L68.0337 346.268 L59.7236 347.935 L59.7236 343.675 L67.9874 342.009 L72.6633 342.009 L72.6633 372.634 L80.3022 372.634 L80.3022 376.569 L60.3949 376.569 L60.3949 372.634 Z\" fill=\"#000000\" fill-rule=\"nonzero\" fill-opacity=\"1\" /><path clip-path=\"url(#clip190)\" d=\"M89.7929 342.009 L108.149 342.009 L108.149 345.944 L94.0753 345.944 L94.0753 354.416 Q95.0938 354.069 96.1123 353.907 Q97.1308 353.722 98.1493 353.722 Q103.936 353.722 107.316 356.893 Q110.696 360.064 110.696 365.481 Q110.696 371.06 107.223 374.161 Q103.751 377.24 97.4317 377.24 Q95.2558 377.24 92.9873 376.87 Q90.7419 376.499 88.3346 375.759 L88.3346 371.06 Q90.4179 372.194 92.6401 372.749 Q94.8623 373.305 97.3391 373.305 Q101.344 373.305 103.682 371.198 Q106.02 369.092 106.02 365.481 Q106.02 361.87 103.682 359.763 Q101.344 357.657 97.3391 357.657 Q95.4641 357.657 93.5892 358.074 Q91.7373 358.49 89.7929 359.37 L89.7929 342.009 Z\" fill=\"#000000\" fill-rule=\"nonzero\" fill-opacity=\"1\" /><path clip-path=\"url(#clip190)\" d=\"M62.6171 257.062 L78.9365 257.062 L78.9365 260.997 L56.9921 260.997 L56.9921 257.062 Q59.6541 254.307 64.2375 249.677 Q68.8439 245.025 70.0245 243.682 Q72.2698 241.159 73.1494 239.423 Q74.0522 237.663 74.0522 235.974 Q74.0522 233.219 72.1078 231.483 Q70.1865 229.747 67.0847 229.747 Q64.8856 229.747 62.4319 230.511 Q60.0014 231.275 57.2236 232.826 L57.2236 228.103 Q60.0477 226.969 62.5014 226.39 Q64.955 225.812 66.9921 225.812 Q72.3624 225.812 75.5568 228.497 Q78.7513 231.182 78.7513 235.673 Q78.7513 237.802 77.9411 239.724 Q77.1541 241.622 75.0476 244.214 Q74.4689 244.886 71.367 248.103 Q68.2652 251.298 62.6171 257.062 Z\" fill=\"#000000\" fill-rule=\"nonzero\" fill-opacity=\"1\" /><path clip-path=\"url(#clip190)\" d=\"M98.7512 229.515 Q95.1401 229.515 93.3114 233.08 Q91.5058 236.622 91.5058 243.751 Q91.5058 250.858 93.3114 254.423 Q95.1401 257.964 98.7512 257.964 Q102.385 257.964 104.191 254.423 Q106.02 250.858 106.02 243.751 Q106.02 236.622 104.191 233.08 Q102.385 229.515 98.7512 229.515 M98.7512 225.812 Q104.561 225.812 107.617 230.418 Q110.696 235.001 110.696 243.751 Q110.696 252.478 107.617 257.085 Q104.561 261.668 98.7512 261.668 Q92.941 261.668 89.8623 257.085 Q86.8068 252.478 86.8068 243.751 Q86.8068 235.001 89.8623 230.418 Q92.941 225.812 98.7512 225.812 Z\" fill=\"#000000\" fill-rule=\"nonzero\" fill-opacity=\"1\" /><path clip-path=\"url(#clip190)\" d=\"M63.6125 141.489 L79.9318 141.489 L79.9318 145.425 L57.9875 145.425 L57.9875 141.489 Q60.6495 138.735 65.2328 134.105 Q69.8393 129.452 71.0198 128.11 Q73.2652 125.587 74.1448 123.851 Q75.0476 122.091 75.0476 120.402 Q75.0476 117.647 73.1032 115.911 Q71.1819 114.175 68.08 114.175 Q65.881 114.175 63.4273 114.939 Q60.9967 115.703 58.219 117.253 L58.219 112.531 Q61.043 111.397 63.4967 110.818 Q65.9504 110.24 67.9874 110.24 Q73.3578 110.24 76.5522 112.925 Q79.7466 115.61 79.7466 120.101 Q79.7466 122.23 78.9365 124.152 Q78.1494 126.05 76.0429 128.642 Q75.4642 129.314 72.3624 132.531 Q69.2606 135.726 63.6125 141.489 Z\" fill=\"#000000\" fill-rule=\"nonzero\" fill-opacity=\"1\" /><path clip-path=\"url(#clip190)\" d=\"M89.7929 110.865 L108.149 110.865 L108.149 114.8 L94.0753 114.8 L94.0753 123.272 Q95.0938 122.925 96.1123 122.763 Q97.1308 122.577 98.1493 122.577 Q103.936 122.577 107.316 125.749 Q110.696 128.92 110.696 134.337 Q110.696 139.915 107.223 143.017 Q103.751 146.096 97.4317 146.096 Q95.2558 146.096 92.9873 145.725 Q90.7419 145.355 88.3346 144.614 L88.3346 139.915 Q90.4179 141.05 92.6401 141.605 Q94.8623 142.161 97.3391 142.161 Q101.344 142.161 103.682 140.054 Q106.02 137.948 106.02 134.337 Q106.02 130.726 103.682 128.619 Q101.344 126.513 97.3391 126.513 Q95.4641 126.513 93.5892 126.929 Q91.7373 127.346 89.7929 128.226 L89.7929 110.865 Z\" fill=\"#000000\" fill-rule=\"nonzero\" fill-opacity=\"1\" /><g clip-path=\"url(#clip192)\">\n",
       "<image width=\"1024\" height=\"647\" xlink:href=\"data:image/png;base64,\n",
       "iVBORw0KGgoAAAANSUhEUgAABAAAAAKHCAYAAAAfeDrZAAAVWUlEQVR4nO3a7+/vdV3H8c8XPvw8\n",
       "qEDmsmU5l7mcsIrlpi6dF4I2LjQpdZml0xJ3lvmDmpIbZRbTC0HhRjhzLJttaD+WTtZwtTYMZsIQ\n",
       "qTF/lG5NMkFA4AiczuHbtdabd1dgfnt+z7nfbn/BY++9L7x233Nns9nubgAAAIDj2gnTAwAAAIC9\n",
       "JwAAAABAgAAAAAAAAQIAAAAABAgAAAAAECAAAAAAQIAAAAAAAAECAAAAAAQIAAAAABAgAAAAAECA\n",
       "AAAAAAABAgAAAAAECAAAAAAQIAAAAABAgAAAAAAAAQIAAAAABAgAAAAAECAAAAAAQIAAAAAAAAEC\n",
       "AAAAAAQIAAAAABAgAAAAAECAAAAAAAABAgAAAAAECAAAAAAQIAAAAABAgAAAAAAAAQIAAAAABAgA\n",
       "AAAAECAAAAAAQIAAAAAAAAECAAAAAAQIAAAAABAgAAAAAECAAAAAAAABAgAAAAAECAAAAAAQIAAA\n",
       "AABAgAAAAAAAAQIAAAAABAgAAAAAECAAAAAAQIAAAAAAAAECAAAAAAQIAAAAABAgAAAAAECAAAAA\n",
       "AAABAgAAAAAECAAAAAAQIAAAAABAgAAAAAAAAQIAAAAABAgAAAAAECAAAAAAQIAAAAAAAAECAAAA\n",
       "AAQIAAAAABAgAAAAAECAAAAAAAABAgAAAAAECAAAAAAQIAAAAABAgAAAAAAAAQIAAAAABAgAAAAA\n",
       "ECAAAAAAQIAAAAAAAAECAAAAAAQIAAAAABAgAAAAAECAAAAAAAABAgAAAAAECAAAAAAQIAAAAABA\n",
       "gAAAAAAAAQIAAAAABAgAAAAAECAAAAAAQIAAAAAAAAECAAAAAAQIAAAAABAgAAAAAECAAAAAAAAB\n",
       "AgAAAAAECAAAAAAQIAAAAABAgAAAAAAAAQIAAAAABAgAAAAAECAAAAAAQIAAAAAAAAECAAAAAARs\n",
       "pwfAXrnhha+YnrDy4S89c3rCwnX3Xz09AQAA+H/iAgAAAAACBAAAAAAIEAAAAAAgQAAAAACAAAEA\n",
       "AAAAAgQAAAAACBAAAAAAIEAAAAAAgAABAAAAAAIEAAAAAAgQAAAAACBAAAAAAIAAAQAAAAACBAAA\n",
       "AAAIEAAAAAAgQAAAAACAAAEAAAAAAgQAAAAACBAAAAAAIEAAAAAAgAABAAAAAAIEAAAAAAjY2Wy2\n",
       "u9MjYC88eOh3pyesnHLte6YnLJz3zoumJ6zccejj0xMAAOC45AIAAAAAAgQAAAAACBAAAAAAIEAA\n",
       "AAAAgAABAAAAAAIEAAAAAAgQAAAAACBAAAAAAIAAAQAAAAACBAAAAAAIEAAAAAAgQAAAAACAAAEA\n",
       "AAAAAgQAAAAACBAAAAAAIEAAAAAAgAABAAAAAAIEAAAAAAgQAAAAACBAAAAAAIAAAQAAAAACBAAA\n",
       "AAAI2E4PgL1y2uk/OD1h5dAvHJyesPCsdx2enrByx/QAAAA4TrkAAAAAgAABAAAAAAIEAAAAAAgQ\n",
       "AAAAACBAAAAAAIAAAQAAAAACBAAAAAAIEAAAAAAgQAAAAACAAAEAAAAAAgQAAAAACBAAAAAAIEAA\n",
       "AAAAgAABAAAAAAIEAAAAAAgQAAAAACBAAAAAAIAAAQAAAAACBAAAAAAIEAAAAAAgQAAAAACAAAEA\n",
       "AAAAArbTA2Cv3Psrl09PWHnaBy+ZnrDw/KfePj1h5fqHphcA7F+vPvPg9ISVj337mukJC7u7j01P\n",
       "ANi3XAAAAABAgAAAAAAAAQIAAAAABAgAAAAAECAAAAAAQIAAAAAAAAECAAAAAAQIAAAAABAgAAAA\n",
       "AECAAAAAAAABAgAAAAAECAAAAAAQIAAAAABAgAAAAAAAAQIAAAAABAgAAAAAECAAAAAAQIAAAAAA\n",
       "AAECAAAAAAQIAAAAABAgAAAAAECAAAAAAAAB2+kBsFfOve7s6Qkrd552+fSEx7lwegDA/3jmGS+e\n",
       "nrDy1Utvn56wcOSSZ09PWPnoJ06bnrDw6B0nT09YOfDe+6YnAGw2GxcAAAAAkCAAAAAAQIAAAAAA\n",
       "AAECAAAAAAQIAAAAABAgAAAAAECAAAAAAAABAgAAAAAECAAAAAAQIAAAAABAgAAAAAAAAQIAAAAA\n",
       "BAgAAAAAECAAAAAAQIAAAAAAAAECAAAAAAQIAAAAABAgAAAAAECAAAAAAAABAgAAAAAECAAAAAAQ\n",
       "IAAAAABAwHZ6AOyVL/7qv09PWDnltd83PWHhrE8dnZ4ADHnGgZ+cnrDyDy/fnZ6wsvPOK6YnLJw0\n",
       "PeD/cPSi/fWNNj97aHrByls+9JXpCQsf+MbV0xOAIS4AAAAAIEAAAAAAgAABAAAAAAIEAAAAAAgQ\n",
       "AAAAACBAAAAAAIAAAQAAAAACBAAAAAAIEAAAAAAgQAAAAACAAAEAAAAAAgQAAAAACBAAAAAAIEAA\n",
       "AAAAgAABAAAAAAIEAAAAAAgQAAAAACBAAAAAAIAAAQAAAAACBAAAAAAIEAAAAAAgQAAAAACAAAEA\n",
       "AAAAAnY2m+3u9AjYCze/9GemJ6z8xN+/YnrCwtHHHp2esPJfD9w5PWHlW2/63PSEhef81S3TE3gS\n",
       "djY70xMW/vLHXj09YeXCW14+PWFld/fo9ISFI0cfmp6wctL2adMT9r0T/+zg9ISFk96w/57/u7uP\n",
       "TU+ABBcAAAAAECAAAAAAQIAAAAAAAAECAAAAAAQIAAAAABAgAAAAAECAAAAAAAABAgAAAAAECAAA\n",
       "AAAQIAAAAABAgAAAAAAAAQIAAAAABAgAAAAAECAAAAAAQIAAAAAAAAECAAAAAAQIAAAAABAgAAAA\n",
       "AECAAAAAAAABAgAAAAAECAAAAAAQIAAAAABAwHZ6AOyVBx4+fXrCvnfiCadMT1g5etozpyesvOpv\n",
       "nzc94XFumR7Ak/AnP/q66QkLF97youkJx4Q/+JHbpycsvPurH5yesPKdy86cnrBw4mXvn56wcvSX\n",
       "rp6esPD2d++v/3qz2WyuuGt/fSM4XrkAAAAAgAABAAAAAAIEAAAAAAgQAAAAACBAAAAAAIAAAQAA\n",
       "AAACBAAAAAAIEAAAAAAgQAAAAACAAAEAAAAAAgQAAAAACBAAAAAAIEAAAAAAgAABAAAAAAIEAAAA\n",
       "AAgQAAAAACBAAAAAAIAAAQAAAAACBAAAAAAIEAAAAAAgQAAAAACAAAEAAAAAArbTA2Cv/Pwdd0xP\n",
       "WLlnc8H0hH3vhPddOT1h5Zbv3Dc9gePABT9+6/SEx3nR9ICVx953yfSElcvvevr0hH3vs59+6fSE\n",
       "hRdfNr1g/3v/b18zPWHlqoNnTk9YOXL0/ukJ8F3nAgAAAAACBAAAAAAIEAAAAAAgQAAAAACAAAEA\n",
       "AAAAAgQAAAAACBAAAAAAIEAAAAAAgAABAAAAAAIEAAAAAAgQAAAAACBAAAAAAIAAAQAAAAACBAAA\n",
       "AAAIEAAAAAAgQAAAAACAAAEAAAAAAgQAAAAACBAAAAAAIEAAAAAAgAABAAAAAAIEAAAAAAjYTg8A\n",
       "+N9O/oFvT09YOXn7vdMTFg4fuXt6wsrOzv7qya8/+83TE1aefslnpycsPHrvLdMTVs7//YumJ6wc\n",
       "evQj0xP2vd/6/FnTExb+7ot/Pj1h5cTnvWZ6wsJjb/zj6Qkrb/md26cnrFz5H1dPT4Dvuv31YgMA\n",
       "AAD2hAAAAAAAAQIAAAAABAgAAAAAECAAAAAAQIAAAAAAAAECAAAAAAQIAAAAABAgAAAAAECAAAAA\n",
       "AAABAgAAAAAECAAAAAAQIAAAAABAgAAAAAAAAQIAAAAABAgAAAAAECAAAAAAQIAAAAAAAAECAAAA\n",
       "AAQIAAAAABAgAAAAAECAAAAAAAABO5vNdnd6BOyFp5z63OkJK/c89BvTE3gSTvzYW6cnLPzepa+f\n",
       "nrBy6a9dOz1h6e1XTS9YeeT+z09PWHjPuTvTE1auuOvq6QkcB+688CXTE1ae8ze/PD1h39u55uD0\n",
       "hJUz3nb29ISFw0funp7AccAFAAAAAAQIAAAAABAgAAAAAECAAAAAAAABAgAAAAAECAAAAAAQIAAA\n",
       "AABAgAAAAAAAAQIAAAAABAgAAAAAECAAAAAAQIAAAAAAAAECAAAAAAQIAAAAABAgAAAAAECAAAAA\n",
       "AAABAgAAAAAECAAAAAAQIAAAAABAgAAAAAAAAQIAAAAABAgAAAAAELCz2Wx3p0fAXtjZ2U5PWLnn\n",
       "zc+anrBwxgfeNT0B9saVvz69YOWc95w/PWHhSw99cnoC7IlzDrxyesLKrZ/+5+kJC7svfNv0hGPC\n",
       "P73sE9MTFn7qHz81PYHjgAsAAAAACBAAAAAAIEAAAAAAgAABAAAAAAIEAAAAAAgQAAAAACBAAAAA\n",
       "AIAAAQAAAAACBAAAAAAIEAAAAAAgQAAAAACAAAEAAAAAAgQAAAAACBAAAAAAIEAAAAAAgAABAAAA\n",
       "AAIEAAAAAAgQAAAAACBAAAAAAIAAAQAAAAACBAAAAAAIEAAAAAAgYDs9APbK7u6R6Qkr3/7P75me\n",
       "sHDG9ACelK+/6kPTE1a+dd9Z0xMWXnLjU6cnrBw+8snpCZBwx6GPT09Y+YuLXzs9YeHnbptecGw4\n",
       "9/rnT09YOPCMf5mesHLo0a9NT+AJcgEAAAAAAQIAAAAABAgAAAAAECAAAAAAQIAAAAAAAAECAAAA\n",
       "AAQIAAAAABAgAAAAAECAAAAAAAABAgAAAAAECAAAAAAQIAAAAABAgAAAAAAAAQIAAAAABAgAAAAA\n",
       "ECAAAAAAQIAAAAAAAAECAAAAAAQIAAAAABAgAAAAAECAAAAAAAABAgAAAAAEbKcHQMl1t503PWHh\n",
       "HdMDjhEfOefm6QkLb7rz1ukJK7ub3ekJAPvWW//tzukJC6+84YbpCSuPnf/e6Qkrpx744ekJC9ef\n",
       "94LpCSsvu+lr0xN4glwAAAAAQIAAAAAAAAECAAAAAAQIAAAAABAgAAAAAECAAAAAAAABAgAAAAAE\n",
       "CAAAAAAQIAAAAABAgAAAAAAAAQIAAAAABAgAAAAAECAAAAAAQIAAAAAAAAECAAAAAAQIAAAAABAg\n",
       "AAAAAECAAAAAAAABAgAAAAAECAAAAAAQIAAAAABAgAAAAAAAAdvpAVDyp9/8xvSEhXdMDzhG/PQL\n",
       "vjA9YeHUf/3+6QkrDx/++vQEgH3r7kO3Tk9YeN0vHpyesHLt3dML9r+TTjw6PYHjgAsAAAAACBAA\n",
       "AAAAIEAAAAAAgAABAAAAAAIEAAAAAAgQAAAAACBAAAAAAIAAAQAAAAACBAAAAAAIEAAAAAAgQAAA\n",
       "AACAAAEAAAAAAgQAAAAACBAAAAAAIEAAAAAAgAABAAAAAAIEAAAAAAgQAAAAACBAAAAAAIAAAQAA\n",
       "AAACBAAAAAAIEAAAAAAgQAAAAACAgO30ACj5zs4D0xMWHv3mZ6YnrJz6lZunJ6z80WfOn56w8PDh\n",
       "q6cnAHAMu+HwTdMTVnZuumF6wsrui39zesLCC9/5uekJazdOD+CJcgEAAAAAAQIAAAAABAgAAAAA\n",
       "ECAAAAAAQIAAAAAAAAECAAAAAAQIAAAAABAgAAAAAECAAAAAAAABAgAAAAAECAAAAAAQIAAAAABA\n",
       "gAAAAAAAAQIAAAAABAgAAAAAECAAAAAAQIAAAAAAAAECAAAAAAQIAAAAABAgAAAAAECAAAAAAAAB\n",
       "AgAAAAAE7Gw2293pEcCMl572hukJK7ft3jg9YeXBR748PQEAjmv3Hnz29ISVA1ddOj1h3ztle/H0\n",
       "BJ4gFwAAAAAQIAAAAABAgAAAAAAAAQIAAAAABAgAAAAAECAAAAAAQIAAAAAAAAECAAAAAAQIAAAA\n",
       "ABAgAAAAAECAAAAAAAABAgAAAAAECAAAAAAQIAAAAABAgAAAAAAAAQIAAAAABAgAAAAAECAAAAAA\n",
       "QIAAAAAAAAECAAAAAAQIAAAAABAgAAAAAEDAzmaz3Z0eAQAAdD3l1OdOT1i5++azpics7JzzxukJ\n",
       "K6dsL56ewBPkAgAAAAACBAAAAAAIEAAAAAAgQAAAAACAAAEAAAAAAgQAAAAACBAAAAAAIEAAAAAA\n",
       "gAABAAAAAAIEAAAAAAgQAAAAACBAAAAAAIAAAQAAAAACBAAAAAAIEAAAAAAgQAAAAACAAAEAAAAA\n",
       "AgQAAAAACBAAAAAAIEAAAAAAgAABAAAAAAIEAAAAAAjYTg8AAADaHnzky9MTVh7+8A9NT1g4/Q+n\n",
       "F3A8cAEAAAAAAQIAAAAABAgAAAAAECAAAAAAQIAAAAAAAAECAAAAAAQIAAAAABAgAAAAAECAAAAA\n",
       "AAABAgAAAAAECAAAAAAQIAAAAABAgAAAAAAAAQIAAAAABAgAAAAAECAAAAAAQIAAAAAAAAECAAAA\n",
       "AAQIAAAAABAgAAAAAECAAAAAAAABAgAAAAAEbKcHAAAA7DevufaC6QkLl33hr6cncBxwAQAAAAAB\n",
       "AgAAAAAECAAAAAAQIAAAAABAgAAAAAAAAQIAAAAABAgAAAAAECAAAAAAQIAAAAAAAAECAAAAAAQI\n",
       "AAAAABAgAAAAAECAAAAAAAABAgAAAAAECAAAAAAQIAAAAABAgAAAAAAAAQIAAAAABAgAAAAAECAA\n",
       "AAAAQIAAAAAAAAECAAAAAATsbDbb3ekRAAAAwN5yAQAAAAABAgAAAAAECAAAAAAQIAAAAABAgAAA\n",
       "AAAAAQIAAAAABAgAAAAAECAAAAAAQIAAAAAAAAECAAAAAAQIAAAAABAgAAAAAECAAAAAAAABAgAA\n",
       "AAAECAAAAAAQIAAAAABAgAAAAAAAAQIAAAAABAgAAAAAECAAAAAAQIAAAAAAAAECAAAAAAQIAAAA\n",
       "ABAgAAAAAECAAAAAAAABAgAAAAAECAAAAAAQIAAAAABAgAAAAAAAAQIAAAAABAgAAAAAECAAAAAA\n",
       "QIAAAAAAAAECAAAAAAQIAAAAABAgAAAAAECAAAAAAAABAgAAAAAECAAAAAAQIAAAAABAgAAAAAAA\n",
       "AQIAAAAABAgAAAAAECAAAAAAQIAAAAAAAAECAAAAAAQIAAAAABAgAAAAAECAAAAAAAABAgAAAAAE\n",
       "CAAAAAAQIAAAAABAgAAAAAAAAQIAAAAABAgAAAAAECAAAAAAQIAAAAAAAAECAAAAAAQIAAAAABAg\n",
       "AAAAAECAAAAAAAABAgAAAAAECAAAAAAQIAAAAABAgAAAAAAAAQIAAAAABAgAAAAAECAAAAAAQIAA\n",
       "AAAAAAECAAAAAAQIAAAAABAgAAAAAECAAAAAAAABAgAAAAAECAAAAAAQIAAAAABAgAAAAAAAAQIA\n",
       "AAAABAgAAAAAECAAAAAAQIAAAAAAAAECAAAAAAQIAAAAABAgAAAAAECAAAAAAAABAgAAAAAECAAA\n",
       "AAAQIAAAAABAgAAAAAAAAQIAAAAABAgAAAAAEPDfe6YaDPnopmUAAAAASUVORK5CYII=\n",
       "\" transform=\"translate(129, 47)\"/>\n",
       "</g>\n",
       "</svg>\n"
      ],
      "text/html": [
       "<?xml version=\"1.0\" encoding=\"utf-8\"?>\n",
       "<svg xmlns=\"http://www.w3.org/2000/svg\" xmlns:xlink=\"http://www.w3.org/1999/xlink\" width=\"300\" height=\"200\" viewBox=\"0 0 1200 800\">\n",
       "<defs>\n",
       "  <clipPath id=\"clip240\">\n",
       "    <rect x=\"0\" y=\"0\" width=\"1200\" height=\"800\"/>\n",
       "  </clipPath>\n",
       "</defs>\n",
       "<path clip-path=\"url(#clip240)\" d=\"M0 800 L1200 800 L1200 0 L0 0  Z\" fill=\"#ffffff\" fill-rule=\"evenodd\" fill-opacity=\"1\"/>\n",
       "<defs>\n",
       "  <clipPath id=\"clip241\">\n",
       "    <rect x=\"240\" y=\"0\" width=\"841\" height=\"800\"/>\n",
       "  </clipPath>\n",
       "</defs>\n",
       "<path clip-path=\"url(#clip240)\" d=\"M128.696 694.448 L1152.76 694.448 L1152.76 47.2441 L128.696 47.2441  Z\" fill=\"#ffffff\" fill-rule=\"evenodd\" fill-opacity=\"1\"/>\n",
       "<defs>\n",
       "  <clipPath id=\"clip242\">\n",
       "    <rect x=\"128\" y=\"47\" width=\"1025\" height=\"648\"/>\n",
       "  </clipPath>\n",
       "</defs>\n",
       "<polyline clip-path=\"url(#clip242)\" style=\"stroke:#000000; stroke-linecap:round; stroke-linejoin:round; stroke-width:2; stroke-opacity:0.1; fill:none\" points=\"293.277,694.448 293.277,47.2441 \"/>\n",
       "<polyline clip-path=\"url(#clip242)\" style=\"stroke:#000000; stroke-linecap:round; stroke-linejoin:round; stroke-width:2; stroke-opacity:0.1; fill:none\" points=\"476.145,694.448 476.145,47.2441 \"/>\n",
       "<polyline clip-path=\"url(#clip242)\" style=\"stroke:#000000; stroke-linecap:round; stroke-linejoin:round; stroke-width:2; stroke-opacity:0.1; fill:none\" points=\"659.013,694.448 659.013,47.2441 \"/>\n",
       "<polyline clip-path=\"url(#clip242)\" style=\"stroke:#000000; stroke-linecap:round; stroke-linejoin:round; stroke-width:2; stroke-opacity:0.1; fill:none\" points=\"841.88,694.448 841.88,47.2441 \"/>\n",
       "<polyline clip-path=\"url(#clip242)\" style=\"stroke:#000000; stroke-linecap:round; stroke-linejoin:round; stroke-width:2; stroke-opacity:0.1; fill:none\" points=\"1024.75,694.448 1024.75,47.2441 \"/>\n",
       "<polyline clip-path=\"url(#clip240)\" style=\"stroke:#000000; stroke-linecap:round; stroke-linejoin:round; stroke-width:4; stroke-opacity:1; fill:none\" points=\"128.696,694.448 1152.76,694.448 \"/>\n",
       "<polyline clip-path=\"url(#clip240)\" style=\"stroke:#000000; stroke-linecap:round; stroke-linejoin:round; stroke-width:4; stroke-opacity:1; fill:none\" points=\"293.277,694.448 293.277,675.55 \"/>\n",
       "<polyline clip-path=\"url(#clip240)\" style=\"stroke:#000000; stroke-linecap:round; stroke-linejoin:round; stroke-width:4; stroke-opacity:1; fill:none\" points=\"476.145,694.448 476.145,675.55 \"/>\n",
       "<polyline clip-path=\"url(#clip240)\" style=\"stroke:#000000; stroke-linecap:round; stroke-linejoin:round; stroke-width:4; stroke-opacity:1; fill:none\" points=\"659.013,694.448 659.013,675.55 \"/>\n",
       "<polyline clip-path=\"url(#clip240)\" style=\"stroke:#000000; stroke-linecap:round; stroke-linejoin:round; stroke-width:4; stroke-opacity:1; fill:none\" points=\"841.88,694.448 841.88,675.55 \"/>\n",
       "<polyline clip-path=\"url(#clip240)\" style=\"stroke:#000000; stroke-linecap:round; stroke-linejoin:round; stroke-width:4; stroke-opacity:1; fill:none\" points=\"1024.75,694.448 1024.75,675.55 \"/>\n",
       "<path clip-path=\"url(#clip240)\" d=\"M283.555 712.688 L301.911 712.688 L301.911 716.623 L287.837 716.623 L287.837 725.095 Q288.855 724.748 289.874 724.586 Q290.892 724.401 291.911 724.401 Q297.698 724.401 301.078 727.572 Q304.457 730.743 304.457 736.16 Q304.457 741.739 300.985 744.84 Q297.513 747.919 291.193 747.919 Q289.017 747.919 286.749 747.549 Q284.504 747.178 282.096 746.438 L282.096 741.739 Q284.179 742.873 286.402 743.428 Q288.624 743.984 291.101 743.984 Q295.105 743.984 297.443 741.878 Q299.781 739.771 299.781 736.16 Q299.781 732.549 297.443 730.442 Q295.105 728.336 291.101 728.336 Q289.226 728.336 287.351 728.753 Q285.499 729.169 283.555 730.049 L283.555 712.688 Z\" fill=\"#000000\" fill-rule=\"nonzero\" fill-opacity=\"1\" /><path clip-path=\"url(#clip240)\" d=\"M450.832 743.313 L458.471 743.313 L458.471 716.947 L450.161 718.614 L450.161 714.355 L458.425 712.688 L463.101 712.688 L463.101 743.313 L470.74 743.313 L470.74 747.248 L450.832 747.248 L450.832 743.313 Z\" fill=\"#000000\" fill-rule=\"nonzero\" fill-opacity=\"1\" /><path clip-path=\"url(#clip240)\" d=\"M490.184 715.767 Q486.573 715.767 484.744 719.331 Q482.939 722.873 482.939 730.003 Q482.939 737.109 484.744 740.674 Q486.573 744.215 490.184 744.215 Q493.818 744.215 495.624 740.674 Q497.452 737.109 497.452 730.003 Q497.452 722.873 495.624 719.331 Q493.818 715.767 490.184 715.767 M490.184 712.063 Q495.994 712.063 499.05 716.669 Q502.128 721.253 502.128 730.003 Q502.128 738.729 499.05 743.336 Q495.994 747.919 490.184 747.919 Q484.374 747.919 481.295 743.336 Q478.239 738.729 478.239 730.003 Q478.239 721.253 481.295 716.669 Q484.374 712.063 490.184 712.063 Z\" fill=\"#000000\" fill-rule=\"nonzero\" fill-opacity=\"1\" /><path clip-path=\"url(#clip240)\" d=\"M634.198 743.313 L641.837 743.313 L641.837 716.947 L633.527 718.614 L633.527 714.355 L641.79 712.688 L646.466 712.688 L646.466 743.313 L654.105 743.313 L654.105 747.248 L634.198 747.248 L634.198 743.313 Z\" fill=\"#000000\" fill-rule=\"nonzero\" fill-opacity=\"1\" /><path clip-path=\"url(#clip240)\" d=\"M663.596 712.688 L681.952 712.688 L681.952 716.623 L667.878 716.623 L667.878 725.095 Q668.897 724.748 669.915 724.586 Q670.934 724.401 671.952 724.401 Q677.739 724.401 681.119 727.572 Q684.498 730.743 684.498 736.16 Q684.498 741.739 681.026 744.84 Q677.554 747.919 671.235 747.919 Q669.059 747.919 666.79 747.549 Q664.545 747.178 662.137 746.438 L662.137 741.739 Q664.221 742.873 666.443 743.428 Q668.665 743.984 671.142 743.984 Q675.147 743.984 677.485 741.878 Q679.823 739.771 679.823 736.16 Q679.823 732.549 677.485 730.442 Q675.147 728.336 671.142 728.336 Q669.267 728.336 667.392 728.753 Q665.54 729.169 663.596 730.049 L663.596 712.688 Z\" fill=\"#000000\" fill-rule=\"nonzero\" fill-opacity=\"1\" /><path clip-path=\"url(#clip240)\" d=\"M820.654 743.313 L836.973 743.313 L836.973 747.248 L815.029 747.248 L815.029 743.313 Q817.691 740.558 822.274 735.928 Q826.881 731.276 828.061 729.933 Q830.306 727.41 831.186 725.674 Q832.089 723.915 832.089 722.225 Q832.089 719.47 830.144 717.734 Q828.223 715.998 825.121 715.998 Q822.922 715.998 820.469 716.762 Q818.038 717.526 815.26 719.077 L815.26 714.355 Q818.084 713.22 820.538 712.642 Q822.992 712.063 825.029 712.063 Q830.399 712.063 833.593 714.748 Q836.788 717.433 836.788 721.924 Q836.788 724.054 835.978 725.975 Q835.191 727.873 833.084 730.466 Q832.505 731.137 829.404 734.354 Q826.302 737.549 820.654 743.313 Z\" fill=\"#000000\" fill-rule=\"nonzero\" fill-opacity=\"1\" /><path clip-path=\"url(#clip240)\" d=\"M856.788 715.767 Q853.177 715.767 851.348 719.331 Q849.542 722.873 849.542 730.003 Q849.542 737.109 851.348 740.674 Q853.177 744.215 856.788 744.215 Q860.422 744.215 862.228 740.674 Q864.056 737.109 864.056 730.003 Q864.056 722.873 862.228 719.331 Q860.422 715.767 856.788 715.767 M856.788 712.063 Q862.598 712.063 865.653 716.669 Q868.732 721.253 868.732 730.003 Q868.732 738.729 865.653 743.336 Q862.598 747.919 856.788 747.919 Q850.978 747.919 847.899 743.336 Q844.843 738.729 844.843 730.003 Q844.843 721.253 847.899 716.669 Q850.978 712.063 856.788 712.063 Z\" fill=\"#000000\" fill-rule=\"nonzero\" fill-opacity=\"1\" /><path clip-path=\"url(#clip240)\" d=\"M1004.02 743.313 L1020.34 743.313 L1020.34 747.248 L998.394 747.248 L998.394 743.313 Q1001.06 740.558 1005.64 735.928 Q1010.25 731.276 1011.43 729.933 Q1013.67 727.41 1014.55 725.674 Q1015.45 723.915 1015.45 722.225 Q1015.45 719.47 1013.51 717.734 Q1011.59 715.998 1008.49 715.998 Q1006.29 715.998 1003.83 716.762 Q1001.4 717.526 998.626 719.077 L998.626 714.355 Q1001.45 713.22 1003.9 712.642 Q1006.36 712.063 1008.39 712.063 Q1013.76 712.063 1016.96 714.748 Q1020.15 717.433 1020.15 721.924 Q1020.15 724.054 1019.34 725.975 Q1018.56 727.873 1016.45 730.466 Q1015.87 731.137 1012.77 734.354 Q1009.67 737.549 1004.02 743.313 Z\" fill=\"#000000\" fill-rule=\"nonzero\" fill-opacity=\"1\" /><path clip-path=\"url(#clip240)\" d=\"M1030.2 712.688 L1048.56 712.688 L1048.56 716.623 L1034.48 716.623 L1034.48 725.095 Q1035.5 724.748 1036.52 724.586 Q1037.54 724.401 1038.56 724.401 Q1044.34 724.401 1047.72 727.572 Q1051.1 730.743 1051.1 736.16 Q1051.1 741.739 1047.63 744.84 Q1044.16 747.919 1037.84 747.919 Q1035.66 747.919 1033.39 747.549 Q1031.15 747.178 1028.74 746.438 L1028.74 741.739 Q1030.82 742.873 1033.05 743.428 Q1035.27 743.984 1037.75 743.984 Q1041.75 743.984 1044.09 741.878 Q1046.43 739.771 1046.43 736.16 Q1046.43 732.549 1044.09 730.442 Q1041.75 728.336 1037.75 728.336 Q1035.87 728.336 1034 728.753 Q1032.14 729.169 1030.2 730.049 L1030.2 712.688 Z\" fill=\"#000000\" fill-rule=\"nonzero\" fill-opacity=\"1\" /><polyline clip-path=\"url(#clip242)\" style=\"stroke:#000000; stroke-linecap:round; stroke-linejoin:round; stroke-width:2; stroke-opacity:0.1; fill:none\" points=\"128.696,590.433 1152.76,590.433 \"/>\n",
       "<polyline clip-path=\"url(#clip242)\" style=\"stroke:#000000; stroke-linecap:round; stroke-linejoin:round; stroke-width:2; stroke-opacity:0.1; fill:none\" points=\"128.696,474.861 1152.76,474.861 \"/>\n",
       "<polyline clip-path=\"url(#clip242)\" style=\"stroke:#000000; stroke-linecap:round; stroke-linejoin:round; stroke-width:2; stroke-opacity:0.1; fill:none\" points=\"128.696,359.289 1152.76,359.289 \"/>\n",
       "<polyline clip-path=\"url(#clip242)\" style=\"stroke:#000000; stroke-linecap:round; stroke-linejoin:round; stroke-width:2; stroke-opacity:0.1; fill:none\" points=\"128.696,243.717 1152.76,243.717 \"/>\n",
       "<polyline clip-path=\"url(#clip242)\" style=\"stroke:#000000; stroke-linecap:round; stroke-linejoin:round; stroke-width:2; stroke-opacity:0.1; fill:none\" points=\"128.696,128.145 1152.76,128.145 \"/>\n",
       "<polyline clip-path=\"url(#clip240)\" style=\"stroke:#000000; stroke-linecap:round; stroke-linejoin:round; stroke-width:4; stroke-opacity:1; fill:none\" points=\"128.696,694.448 128.696,47.2441 \"/>\n",
       "<polyline clip-path=\"url(#clip240)\" style=\"stroke:#000000; stroke-linecap:round; stroke-linejoin:round; stroke-width:4; stroke-opacity:1; fill:none\" points=\"128.696,590.433 147.593,590.433 \"/>\n",
       "<polyline clip-path=\"url(#clip240)\" style=\"stroke:#000000; stroke-linecap:round; stroke-linejoin:round; stroke-width:4; stroke-opacity:1; fill:none\" points=\"128.696,474.861 147.593,474.861 \"/>\n",
       "<polyline clip-path=\"url(#clip240)\" style=\"stroke:#000000; stroke-linecap:round; stroke-linejoin:round; stroke-width:4; stroke-opacity:1; fill:none\" points=\"128.696,359.289 147.593,359.289 \"/>\n",
       "<polyline clip-path=\"url(#clip240)\" style=\"stroke:#000000; stroke-linecap:round; stroke-linejoin:round; stroke-width:4; stroke-opacity:1; fill:none\" points=\"128.696,243.717 147.593,243.717 \"/>\n",
       "<polyline clip-path=\"url(#clip240)\" style=\"stroke:#000000; stroke-linecap:round; stroke-linejoin:round; stroke-width:4; stroke-opacity:1; fill:none\" points=\"128.696,128.145 147.593,128.145 \"/>\n",
       "<path clip-path=\"url(#clip240)\" d=\"M89.7929 573.153 L108.149 573.153 L108.149 577.088 L94.0753 577.088 L94.0753 585.56 Q95.0938 585.213 96.1123 585.051 Q97.1308 584.866 98.1493 584.866 Q103.936 584.866 107.316 588.037 Q110.696 591.208 110.696 596.625 Q110.696 602.204 107.223 605.306 Q103.751 608.384 97.4317 608.384 Q95.2558 608.384 92.9873 608.014 Q90.7419 607.644 88.3346 606.903 L88.3346 602.204 Q90.4179 603.338 92.6401 603.894 Q94.8623 604.449 97.3391 604.449 Q101.344 604.449 103.682 602.343 Q106.02 600.236 106.02 596.625 Q106.02 593.014 103.682 590.908 Q101.344 588.801 97.3391 588.801 Q95.4641 588.801 93.5892 589.218 Q91.7373 589.634 89.7929 590.514 L89.7929 573.153 Z\" fill=\"#000000\" fill-rule=\"nonzero\" fill-opacity=\"1\" /><path clip-path=\"url(#clip240)\" d=\"M59.3995 488.206 L67.0384 488.206 L67.0384 461.84 L58.7282 463.507 L58.7282 459.248 L66.9921 457.581 L71.668 457.581 L71.668 488.206 L79.3068 488.206 L79.3068 492.141 L59.3995 492.141 L59.3995 488.206 Z\" fill=\"#000000\" fill-rule=\"nonzero\" fill-opacity=\"1\" /><path clip-path=\"url(#clip240)\" d=\"M98.7512 460.66 Q95.1401 460.66 93.3114 464.224 Q91.5058 467.766 91.5058 474.896 Q91.5058 482.002 93.3114 485.567 Q95.1401 489.108 98.7512 489.108 Q102.385 489.108 104.191 485.567 Q106.02 482.002 106.02 474.896 Q106.02 467.766 104.191 464.224 Q102.385 460.66 98.7512 460.66 M98.7512 456.956 Q104.561 456.956 107.617 461.562 Q110.696 466.146 110.696 474.896 Q110.696 483.622 107.617 488.229 Q104.561 492.812 98.7512 492.812 Q92.941 492.812 89.8623 488.229 Q86.8068 483.622 86.8068 474.896 Q86.8068 466.146 89.8623 461.562 Q92.941 456.956 98.7512 456.956 Z\" fill=\"#000000\" fill-rule=\"nonzero\" fill-opacity=\"1\" /><path clip-path=\"url(#clip240)\" d=\"M60.3949 372.634 L68.0337 372.634 L68.0337 346.268 L59.7236 347.935 L59.7236 343.675 L67.9874 342.009 L72.6633 342.009 L72.6633 372.634 L80.3022 372.634 L80.3022 376.569 L60.3949 376.569 L60.3949 372.634 Z\" fill=\"#000000\" fill-rule=\"nonzero\" fill-opacity=\"1\" /><path clip-path=\"url(#clip240)\" d=\"M89.7929 342.009 L108.149 342.009 L108.149 345.944 L94.0753 345.944 L94.0753 354.416 Q95.0938 354.069 96.1123 353.907 Q97.1308 353.722 98.1493 353.722 Q103.936 353.722 107.316 356.893 Q110.696 360.064 110.696 365.481 Q110.696 371.06 107.223 374.161 Q103.751 377.24 97.4317 377.24 Q95.2558 377.24 92.9873 376.87 Q90.7419 376.499 88.3346 375.759 L88.3346 371.06 Q90.4179 372.194 92.6401 372.749 Q94.8623 373.305 97.3391 373.305 Q101.344 373.305 103.682 371.198 Q106.02 369.092 106.02 365.481 Q106.02 361.87 103.682 359.763 Q101.344 357.657 97.3391 357.657 Q95.4641 357.657 93.5892 358.074 Q91.7373 358.49 89.7929 359.37 L89.7929 342.009 Z\" fill=\"#000000\" fill-rule=\"nonzero\" fill-opacity=\"1\" /><path clip-path=\"url(#clip240)\" d=\"M62.6171 257.062 L78.9365 257.062 L78.9365 260.997 L56.9921 260.997 L56.9921 257.062 Q59.6541 254.307 64.2375 249.677 Q68.8439 245.025 70.0245 243.682 Q72.2698 241.159 73.1494 239.423 Q74.0522 237.663 74.0522 235.974 Q74.0522 233.219 72.1078 231.483 Q70.1865 229.747 67.0847 229.747 Q64.8856 229.747 62.4319 230.511 Q60.0014 231.275 57.2236 232.826 L57.2236 228.103 Q60.0477 226.969 62.5014 226.39 Q64.955 225.812 66.9921 225.812 Q72.3624 225.812 75.5568 228.497 Q78.7513 231.182 78.7513 235.673 Q78.7513 237.802 77.9411 239.724 Q77.1541 241.622 75.0476 244.214 Q74.4689 244.886 71.367 248.103 Q68.2652 251.298 62.6171 257.062 Z\" fill=\"#000000\" fill-rule=\"nonzero\" fill-opacity=\"1\" /><path clip-path=\"url(#clip240)\" d=\"M98.7512 229.515 Q95.1401 229.515 93.3114 233.08 Q91.5058 236.622 91.5058 243.751 Q91.5058 250.858 93.3114 254.423 Q95.1401 257.964 98.7512 257.964 Q102.385 257.964 104.191 254.423 Q106.02 250.858 106.02 243.751 Q106.02 236.622 104.191 233.08 Q102.385 229.515 98.7512 229.515 M98.7512 225.812 Q104.561 225.812 107.617 230.418 Q110.696 235.001 110.696 243.751 Q110.696 252.478 107.617 257.085 Q104.561 261.668 98.7512 261.668 Q92.941 261.668 89.8623 257.085 Q86.8068 252.478 86.8068 243.751 Q86.8068 235.001 89.8623 230.418 Q92.941 225.812 98.7512 225.812 Z\" fill=\"#000000\" fill-rule=\"nonzero\" fill-opacity=\"1\" /><path clip-path=\"url(#clip240)\" d=\"M63.6125 141.489 L79.9318 141.489 L79.9318 145.425 L57.9875 145.425 L57.9875 141.489 Q60.6495 138.735 65.2328 134.105 Q69.8393 129.452 71.0198 128.11 Q73.2652 125.587 74.1448 123.851 Q75.0476 122.091 75.0476 120.402 Q75.0476 117.647 73.1032 115.911 Q71.1819 114.175 68.08 114.175 Q65.881 114.175 63.4273 114.939 Q60.9967 115.703 58.219 117.253 L58.219 112.531 Q61.043 111.397 63.4967 110.818 Q65.9504 110.24 67.9874 110.24 Q73.3578 110.24 76.5522 112.925 Q79.7466 115.61 79.7466 120.101 Q79.7466 122.23 78.9365 124.152 Q78.1494 126.05 76.0429 128.642 Q75.4642 129.314 72.3624 132.531 Q69.2606 135.726 63.6125 141.489 Z\" fill=\"#000000\" fill-rule=\"nonzero\" fill-opacity=\"1\" /><path clip-path=\"url(#clip240)\" d=\"M89.7929 110.865 L108.149 110.865 L108.149 114.8 L94.0753 114.8 L94.0753 123.272 Q95.0938 122.925 96.1123 122.763 Q97.1308 122.577 98.1493 122.577 Q103.936 122.577 107.316 125.749 Q110.696 128.92 110.696 134.337 Q110.696 139.915 107.223 143.017 Q103.751 146.096 97.4317 146.096 Q95.2558 146.096 92.9873 145.725 Q90.7419 145.355 88.3346 144.614 L88.3346 139.915 Q90.4179 141.05 92.6401 141.605 Q94.8623 142.161 97.3391 142.161 Q101.344 142.161 103.682 140.054 Q106.02 137.948 106.02 134.337 Q106.02 130.726 103.682 128.619 Q101.344 126.513 97.3391 126.513 Q95.4641 126.513 93.5892 126.929 Q91.7373 127.346 89.7929 128.226 L89.7929 110.865 Z\" fill=\"#000000\" fill-rule=\"nonzero\" fill-opacity=\"1\" /><g clip-path=\"url(#clip242)\">\n",
       "<image width=\"1024\" height=\"647\" xlink:href=\"data:image/png;base64,\n",
       "iVBORw0KGgoAAAANSUhEUgAABAAAAAKHCAYAAAAfeDrZAAAVWUlEQVR4nO3a7+/vdV3H8c8XPvw8\n",
       "qEDmsmU5l7mcsIrlpi6dF4I2LjQpdZml0xJ3lvmDmpIbZRbTC0HhRjhzLJttaD+WTtZwtTYMZsIQ\n",
       "qTF/lG5NMkFA4AiczuHbtdabd1dgfnt+z7nfbn/BY++9L7x233Nns9nubgAAAIDj2gnTAwAAAIC9\n",
       "JwAAAABAgAAAAAAAAQIAAAAABAgAAAAAECAAAAAAQIAAAAAAAAECAAAAAAQIAAAAABAgAAAAAECA\n",
       "AAAAAAABAgAAAAAECAAAAAAQIAAAAABAgAAAAAAAAQIAAAAABAgAAAAAECAAAAAAQIAAAAAAAAEC\n",
       "AAAAAAQIAAAAABAgAAAAAECAAAAAAAABAgAAAAAECAAAAAAQIAAAAABAgAAAAAAAAQIAAAAABAgA\n",
       "AAAAECAAAAAAQIAAAAAAAAECAAAAAAQIAAAAABAgAAAAAECAAAAAAAABAgAAAAAECAAAAAAQIAAA\n",
       "AABAgAAAAAAAAQIAAAAABAgAAAAAECAAAAAAQIAAAAAAAAECAAAAAAQIAAAAABAgAAAAAECAAAAA\n",
       "AAABAgAAAAAECAAAAAAQIAAAAABAgAAAAAAAAQIAAAAABAgAAAAAECAAAAAAQIAAAAAAAAECAAAA\n",
       "AAQIAAAAABAgAAAAAECAAAAAAAABAgAAAAAECAAAAAAQIAAAAABAgAAAAAAAAQIAAAAABAgAAAAA\n",
       "ECAAAAAAQIAAAAAAAAECAAAAAAQIAAAAABAgAAAAAECAAAAAAAABAgAAAAAECAAAAAAQIAAAAABA\n",
       "gAAAAAAAAQIAAAAABAgAAAAAECAAAAAAQIAAAAAAAAECAAAAAAQIAAAAABAgAAAAAECAAAAAAAAB\n",
       "AgAAAAAECAAAAAAQIAAAAABAgAAAAAAAAQIAAAAABAgAAAAAECAAAAAAQIAAAAAAAAECAAAAAARs\n",
       "pwfAXrnhha+YnrDy4S89c3rCwnX3Xz09AQAA+H/iAgAAAAACBAAAAAAIEAAAAAAgQAAAAACAAAEA\n",
       "AAAAAgQAAAAACBAAAAAAIEAAAAAAgAABAAAAAAIEAAAAAAgQAAAAACBAAAAAAIAAAQAAAAACBAAA\n",
       "AAAIEAAAAAAgQAAAAACAAAEAAAAAAgQAAAAACBAAAAAAIEAAAAAAgAABAAAAAAIEAAAAAAjY2Wy2\n",
       "u9MjYC88eOh3pyesnHLte6YnLJz3zoumJ6zccejj0xMAAOC45AIAAAAAAgQAAAAACBAAAAAAIEAA\n",
       "AAAAgAABAAAAAAIEAAAAAAgQAAAAACBAAAAAAIAAAQAAAAACBAAAAAAIEAAAAAAgQAAAAACAAAEA\n",
       "AAAAAgQAAAAACBAAAAAAIEAAAAAAgAABAAAAAAIEAAAAAAgQAAAAACBAAAAAAIAAAQAAAAACBAAA\n",
       "AAAI2E4PgL1y2uk/OD1h5dAvHJyesPCsdx2enrByx/QAAAA4TrkAAAAAgAABAAAAAAIEAAAAAAgQ\n",
       "AAAAACBAAAAAAIAAAQAAAAACBAAAAAAIEAAAAAAgQAAAAACAAAEAAAAAAgQAAAAACBAAAAAAIEAA\n",
       "AAAAgAABAAAAAAIEAAAAAAgQAAAAACBAAAAAAIAAAQAAAAACBAAAAAAIEAAAAAAgQAAAAACAAAEA\n",
       "AAAAArbTA2Cv3Psrl09PWHnaBy+ZnrDw/KfePj1h5fqHphcA7F+vPvPg9ISVj337mukJC7u7j01P\n",
       "ANi3XAAAAABAgAAAAAAAAQIAAAAABAgAAAAAECAAAAAAQIAAAAAAAAECAAAAAAQIAAAAABAgAAAA\n",
       "AECAAAAAAAABAgAAAAAECAAAAAAQIAAAAABAgAAAAAAAAQIAAAAABAgAAAAAECAAAAAAQIAAAAAA\n",
       "AAECAAAAAAQIAAAAABAgAAAAAECAAAAAAAAB2+kBsFfOve7s6Qkrd552+fSEx7lwegDA/3jmGS+e\n",
       "nrDy1Utvn56wcOSSZ09PWPnoJ06bnrDw6B0nT09YOfDe+6YnAGw2GxcAAAAAkCAAAAAAQIAAAAAA\n",
       "AAECAAAAAAQIAAAAABAgAAAAAECAAAAAAAABAgAAAAAECAAAAAAQIAAAAABAgAAAAAAAAQIAAAAA\n",
       "BAgAAAAAECAAAAAAQIAAAAAAAAECAAAAAAQIAAAAABAgAAAAAECAAAAAAAABAgAAAAAECAAAAAAQ\n",
       "IAAAAABAwHZ6AOyVL/7qv09PWDnltd83PWHhrE8dnZ4ADHnGgZ+cnrDyDy/fnZ6wsvPOK6YnLJw0\n",
       "PeD/cPSi/fWNNj97aHrByls+9JXpCQsf+MbV0xOAIS4AAAAAIEAAAAAAgAABAAAAAAIEAAAAAAgQ\n",
       "AAAAACBAAAAAAIAAAQAAAAACBAAAAAAIEAAAAAAgQAAAAACAAAEAAAAAAgQAAAAACBAAAAAAIEAA\n",
       "AAAAgAABAAAAAAIEAAAAAAgQAAAAACBAAAAAAIAAAQAAAAACBAAAAAAIEAAAAAAgQAAAAACAAAEA\n",
       "AAAAAnY2m+3u9AjYCze/9GemJ6z8xN+/YnrCwtHHHp2esPJfD9w5PWHlW2/63PSEhef81S3TE3gS\n",
       "djY70xMW/vLHXj09YeXCW14+PWFld/fo9ISFI0cfmp6wctL2adMT9r0T/+zg9ISFk96w/57/u7uP\n",
       "TU+ABBcAAAAAECAAAAAAQIAAAAAAAAECAAAAAAQIAAAAABAgAAAAAECAAAAAAAABAgAAAAAECAAA\n",
       "AAAQIAAAAABAgAAAAAAAAQIAAAAABAgAAAAAECAAAAAAQIAAAAAAAAECAAAAAAQIAAAAABAgAAAA\n",
       "AECAAAAAAAABAgAAAAAECAAAAAAQIAAAAABAwHZ6AOyVBx4+fXrCvnfiCadMT1g5etozpyesvOpv\n",
       "nzc94XFumR7Ak/AnP/q66QkLF97youkJx4Q/+JHbpycsvPurH5yesPKdy86cnrBw4mXvn56wcvSX\n",
       "rp6esPD2d++v/3qz2WyuuGt/fSM4XrkAAAAAgAABAAAAAAIEAAAAAAgQAAAAACBAAAAAAIAAAQAA\n",
       "AAACBAAAAAAIEAAAAAAgQAAAAACAAAEAAAAAAgQAAAAACBAAAAAAIEAAAAAAgAABAAAAAAIEAAAA\n",
       "AAgQAAAAACBAAAAAAIAAAQAAAAACBAAAAAAIEAAAAAAgQAAAAACAAAEAAAAAArbTA2Cv/Pwdd0xP\n",
       "WLlnc8H0hH3vhPddOT1h5Zbv3Dc9gePABT9+6/SEx3nR9ICVx953yfSElcvvevr0hH3vs59+6fSE\n",
       "hRdfNr1g/3v/b18zPWHlqoNnTk9YOXL0/ukJ8F3nAgAAAAACBAAAAAAIEAAAAAAgQAAAAACAAAEA\n",
       "AAAAAgQAAAAACBAAAAAAIEAAAAAAgAABAAAAAAIEAAAAAAgQAAAAACBAAAAAAIAAAQAAAAACBAAA\n",
       "AAAIEAAAAAAgQAAAAACAAAEAAAAAAgQAAAAACBAAAAAAIEAAAAAAgAABAAAAAAIEAAAAAAjYTg8A\n",
       "+N9O/oFvT09YOXn7vdMTFg4fuXt6wsrOzv7qya8/+83TE1aefslnpycsPHrvLdMTVs7//YumJ6wc\n",
       "evQj0xP2vd/6/FnTExb+7ot/Pj1h5cTnvWZ6wsJjb/zj6Qkrb/md26cnrFz5H1dPT4Dvuv31YgMA\n",
       "AAD2hAAAAAAAAQIAAAAABAgAAAAAECAAAAAAQIAAAAAAAAECAAAAAAQIAAAAABAgAAAAAECAAAAA\n",
       "AAABAgAAAAAECAAAAAAQIAAAAABAgAAAAAAAAQIAAAAABAgAAAAAECAAAAAAQIAAAAAAAAECAAAA\n",
       "AAQIAAAAABAgAAAAAECAAAAAAAABO5vNdnd6BOyFp5z63OkJK/c89BvTE3gSTvzYW6cnLPzepa+f\n",
       "nrBy6a9dOz1h6e1XTS9YeeT+z09PWHjPuTvTE1auuOvq6QkcB+688CXTE1ae8ze/PD1h39u55uD0\n",
       "hJUz3nb29ISFw0funp7AccAFAAAAAAQIAAAAABAgAAAAAECAAAAAAAABAgAAAAAECAAAAAAQIAAA\n",
       "AABAgAAAAAAAAQIAAAAABAgAAAAAECAAAAAAQIAAAAAAAAECAAAAAAQIAAAAABAgAAAAAECAAAAA\n",
       "AAABAgAAAAAECAAAAAAQIAAAAABAgAAAAAAAAQIAAAAABAgAAAAAELCz2Wx3p0fAXtjZ2U5PWLnn\n",
       "zc+anrBwxgfeNT0B9saVvz69YOWc95w/PWHhSw99cnoC7IlzDrxyesLKrZ/+5+kJC7svfNv0hGPC\n",
       "P73sE9MTFn7qHz81PYHjgAsAAAAACBAAAAAAIEAAAAAAgAABAAAAAAIEAAAAAAgQAAAAACBAAAAA\n",
       "AIAAAQAAAAACBAAAAAAIEAAAAAAgQAAAAACAAAEAAAAAAgQAAAAACBAAAAAAIEAAAAAAgAABAAAA\n",
       "AAIEAAAAAAgQAAAAACBAAAAAAIAAAQAAAAACBAAAAAAIEAAAAAAgYDs9APbK7u6R6Qkr3/7P75me\n",
       "sHDG9ACelK+/6kPTE1a+dd9Z0xMWXnLjU6cnrBw+8snpCZBwx6GPT09Y+YuLXzs9YeHnbptecGw4\n",
       "9/rnT09YOPCMf5mesHLo0a9NT+AJcgEAAAAAAQIAAAAABAgAAAAAECAAAAAAQIAAAAAAAAECAAAA\n",
       "AAQIAAAAABAgAAAAAECAAAAAAAABAgAAAAAECAAAAAAQIAAAAABAgAAAAAAAAQIAAAAABAgAAAAA\n",
       "ECAAAAAAQIAAAAAAAAECAAAAAAQIAAAAABAgAAAAAECAAAAAAAABAgAAAAAEbKcHQMl1t503PWHh\n",
       "HdMDjhEfOefm6QkLb7rz1ukJK7ub3ekJAPvWW//tzukJC6+84YbpCSuPnf/e6Qkrpx744ekJC9ef\n",
       "94LpCSsvu+lr0xN4glwAAAAAQIAAAAAAAAECAAAAAAQIAAAAABAgAAAAAECAAAAAAAABAgAAAAAE\n",
       "CAAAAAAQIAAAAABAgAAAAAAAAQIAAAAABAgAAAAAECAAAAAAQIAAAAAAAAECAAAAAAQIAAAAABAg\n",
       "AAAAAECAAAAAAAABAgAAAAAECAAAAAAQIAAAAABAgAAAAAAAAdvpAVDyp9/8xvSEhXdMDzhG/PQL\n",
       "vjA9YeHUf/3+6QkrDx/++vQEgH3r7kO3Tk9YeN0vHpyesHLt3dML9r+TTjw6PYHjgAsAAAAACBAA\n",
       "AAAAIEAAAAAAgAABAAAAAAIEAAAAAAgQAAAAACBAAAAAAIAAAQAAAAACBAAAAAAIEAAAAAAgQAAA\n",
       "AACAAAEAAAAAAgQAAAAACBAAAAAAIEAAAAAAgAABAAAAAAIEAAAAAAgQAAAAACBAAAAAAIAAAQAA\n",
       "AAACBAAAAAAIEAAAAAAgQAAAAACAgO30ACj5zs4D0xMWHv3mZ6YnrJz6lZunJ6z80WfOn56w8PDh\n",
       "q6cnAHAMu+HwTdMTVnZuumF6wsrui39zesLCC9/5uekJazdOD+CJcgEAAAAAAQIAAAAABAgAAAAA\n",
       "ECAAAAAAQIAAAAAAAAECAAAAAAQIAAAAABAgAAAAAECAAAAAAAABAgAAAAAECAAAAAAQIAAAAABA\n",
       "gAAAAAAAAQIAAAAABAgAAAAAECAAAAAAQIAAAAAAAAECAAAAAAQIAAAAABAgAAAAAECAAAAAAAAB\n",
       "AgAAAAAE7Gw2293pEcCMl572hukJK7ft3jg9YeXBR748PQEAjmv3Hnz29ISVA1ddOj1h3ztle/H0\n",
       "BJ4gFwAAAAAQIAAAAABAgAAAAAAAAQIAAAAABAgAAAAAECAAAAAAQIAAAAAAAAECAAAAAAQIAAAA\n",
       "ABAgAAAAAECAAAAAAAABAgAAAAAECAAAAAAQIAAAAABAgAAAAAAAAQIAAAAABAgAAAAAECAAAAAA\n",
       "QIAAAAAAAAECAAAAAAQIAAAAABAgAAAAAEDAzmaz3Z0eAQAAdD3l1OdOT1i5++azpics7JzzxukJ\n",
       "K6dsL56ewBPkAgAAAAACBAAAAAAIEAAAAAAgQAAAAACAAAEAAAAAAgQAAAAACBAAAAAAIEAAAAAA\n",
       "gAABAAAAAAIEAAAAAAgQAAAAACBAAAAAAIAAAQAAAAACBAAAAAAIEAAAAAAgQAAAAACAAAEAAAAA\n",
       "AgQAAAAACBAAAAAAIEAAAAAAgAABAAAAAAIEAAAAAAjYTg8AAADaHnzky9MTVh7+8A9NT1g4/Q+n\n",
       "F3A8cAEAAAAAAQIAAAAABAgAAAAAECAAAAAAQIAAAAAAAAECAAAAAAQIAAAAABAgAAAAAECAAAAA\n",
       "AAABAgAAAAAECAAAAAAQIAAAAABAgAAAAAAAAQIAAAAABAgAAAAAECAAAAAAQIAAAAAAAAECAAAA\n",
       "AAQIAAAAABAgAAAAAECAAAAAAAABAgAAAAAEbKcHAAAA7DevufaC6QkLl33hr6cncBxwAQAAAAAB\n",
       "AgAAAAAECAAAAAAQIAAAAABAgAAAAAAAAQIAAAAABAgAAAAAECAAAAAAQIAAAAAAAAECAAAAAAQI\n",
       "AAAAABAgAAAAAECAAAAAAAABAgAAAAAECAAAAAAQIAAAAABAgAAAAAAAAQIAAAAABAgAAAAAECAA\n",
       "AAAAQIAAAAAAAAECAAAAAATsbDbb3ekRAAAAwN5yAQAAAAABAgAAAAAECAAAAAAQIAAAAABAgAAA\n",
       "AAAAAQIAAAAABAgAAAAAECAAAAAAQIAAAAAAAAECAAAAAAQIAAAAABAgAAAAAECAAAAAAAABAgAA\n",
       "AAAECAAAAAAQIAAAAABAgAAAAAAAAQIAAAAABAgAAAAAECAAAAAAQIAAAAAAAAECAAAAAAQIAAAA\n",
       "ABAgAAAAAECAAAAAAAABAgAAAAAECAAAAAAQIAAAAABAgAAAAAAAAQIAAAAABAgAAAAAECAAAAAA\n",
       "QIAAAAAAAAECAAAAAAQIAAAAABAgAAAAAECAAAAAAAABAgAAAAAECAAAAAAQIAAAAABAgAAAAAAA\n",
       "AQIAAAAABAgAAAAAECAAAAAAQIAAAAAAAAECAAAAAAQIAAAAABAgAAAAAECAAAAAAAABAgAAAAAE\n",
       "CAAAAAAQIAAAAABAgAAAAAAAAQIAAAAABAgAAAAAECAAAAAAQIAAAAAAAAECAAAAAAQIAAAAABAg\n",
       "AAAAAECAAAAAAAABAgAAAAAECAAAAAAQIAAAAABAgAAAAAAAAQIAAAAABAgAAAAAECAAAAAAQIAA\n",
       "AAAAAAECAAAAAAQIAAAAABAgAAAAAECAAAAAAAABAgAAAAAECAAAAAAQIAAAAABAgAAAAAAAAQIA\n",
       "AAAABAgAAAAAECAAAAAAQIAAAAAAAAECAAAAAAQIAAAAABAgAAAAAECAAAAAAAABAgAAAAAECAAA\n",
       "AAAQIAAAAABAgAAAAAAAAQIAAAAABAgAAAAAEPDfe6YaDPnopmUAAAAASUVORK5CYII=\n",
       "\" transform=\"translate(129, 47)\"/>\n",
       "</g>\n",
       "</svg>\n"
      ]
     },
     "metadata": {},
     "output_type": "display_data"
    },
    {
     "name": "stdout",
     "output_type": "stream",
     "text": [
      "Image size: (28, 28)\n"
     ]
    }
   ],
   "source": [
    "img = MNIST(:train)[1].features\n",
    "println(\"Image size: \", size(img))\n",
    "\n",
    "# create a heatmap for a better visualization\n",
    "p1 = heatmap(img)\n",
    "label = MNIST(:train)[1].targets\n",
    "display(plot(p1, size=(300,200)))"
   ]
  },
  {
   "cell_type": "markdown",
   "metadata": {},
   "source": [
    "As we can see, we have a 28x28 image of the digit \"5.\" Each pixel can take a value between $[0,1]$, where $0$ represents the color black and $1$ represents white. Let's now perturb this image. The idea is to place a white patch in a specific image zone and then use a convex hull to create an interpolation between the original image and the perturbated one.\n",
    "\n",
    "Let's now create the perturbation"
   ]
  },
  {
   "cell_type": "code",
   "execution_count": 15,
   "metadata": {},
   "outputs": [
    {
     "data": {
      "image/png": "[encoded data removed]",
      "image/svg+xml": [
       "<?xml version=\"1.0\" encoding=\"utf-8\"?>\n",
       "<svg xmlns=\"http://www.w3.org/2000/svg\" xmlns:xlink=\"http://www.w3.org/1999/xlink\" width=\"600\" height=\"200\" viewBox=\"0 0 2400 800\">\n",
       "<defs>\n",
       "  <clipPath id=\"clip280\">\n",
       "    <rect x=\"0\" y=\"0\" width=\"2400\" height=\"800\"/>\n",
       "  </clipPath>\n",
       "</defs>\n",
       "<path clip-path=\"url(#clip280)\" d=\"M0 800 L2400 800 L2400 0 L0 0  Z\" fill=\"#ffffff\" fill-rule=\"evenodd\" fill-opacity=\"1\"/>\n",
       "<defs>\n",
       "  <clipPath id=\"clip281\">\n",
       "    <rect x=\"480\" y=\"0\" width=\"1681\" height=\"800\"/>\n",
       "  </clipPath>\n",
       "</defs>\n",
       "<path clip-path=\"url(#clip280)\" d=\"M140.696 711.728 L1152.76 711.728 L1152.76 47.2441 L140.696 47.2441  Z\" fill=\"#ffffff\" fill-rule=\"evenodd\" fill-opacity=\"1\"/>\n",
       "<defs>\n",
       "  <clipPath id=\"clip282\">\n",
       "    <rect x=\"140\" y=\"47\" width=\"1013\" height=\"665\"/>\n",
       "  </clipPath>\n",
       "</defs>\n",
       "<polyline clip-path=\"url(#clip282)\" style=\"stroke:#000000; stroke-linecap:round; stroke-linejoin:round; stroke-width:2; stroke-opacity:0.1; fill:none\" points=\"303.348,711.728 303.348,47.2441 \"/>\n",
       "<polyline clip-path=\"url(#clip282)\" style=\"stroke:#000000; stroke-linecap:round; stroke-linejoin:round; stroke-width:2; stroke-opacity:0.1; fill:none\" points=\"484.073,711.728 484.073,47.2441 \"/>\n",
       "<polyline clip-path=\"url(#clip282)\" style=\"stroke:#000000; stroke-linecap:round; stroke-linejoin:round; stroke-width:2; stroke-opacity:0.1; fill:none\" points=\"664.798,711.728 664.798,47.2441 \"/>\n",
       "<polyline clip-path=\"url(#clip282)\" style=\"stroke:#000000; stroke-linecap:round; stroke-linejoin:round; stroke-width:2; stroke-opacity:0.1; fill:none\" points=\"845.523,711.728 845.523,47.2441 \"/>\n",
       "<polyline clip-path=\"url(#clip282)\" style=\"stroke:#000000; stroke-linecap:round; stroke-linejoin:round; stroke-width:2; stroke-opacity:0.1; fill:none\" points=\"1026.25,711.728 1026.25,47.2441 \"/>\n",
       "<polyline clip-path=\"url(#clip280)\" style=\"stroke:#000000; stroke-linecap:round; stroke-linejoin:round; stroke-width:4; stroke-opacity:1; fill:none\" points=\"140.696,711.728 1152.76,711.728 \"/>\n",
       "<polyline clip-path=\"url(#clip280)\" style=\"stroke:#000000; stroke-linecap:round; stroke-linejoin:round; stroke-width:4; stroke-opacity:1; fill:none\" points=\"303.348,711.728 303.348,692.83 \"/>\n",
       "<polyline clip-path=\"url(#clip280)\" style=\"stroke:#000000; stroke-linecap:round; stroke-linejoin:round; stroke-width:4; stroke-opacity:1; fill:none\" points=\"484.073,711.728 484.073,692.83 \"/>\n",
       "<polyline clip-path=\"url(#clip280)\" style=\"stroke:#000000; stroke-linecap:round; stroke-linejoin:round; stroke-width:4; stroke-opacity:1; fill:none\" points=\"664.798,711.728 664.798,692.83 \"/>\n",
       "<polyline clip-path=\"url(#clip280)\" style=\"stroke:#000000; stroke-linecap:round; stroke-linejoin:round; stroke-width:4; stroke-opacity:1; fill:none\" points=\"845.523,711.728 845.523,692.83 \"/>\n",
       "<polyline clip-path=\"url(#clip280)\" style=\"stroke:#000000; stroke-linecap:round; stroke-linejoin:round; stroke-width:4; stroke-opacity:1; fill:none\" points=\"1026.25,711.728 1026.25,692.83 \"/>\n",
       "<path clip-path=\"url(#clip280)\" d=\"M293.626 739.568 L311.982 739.568 L311.982 743.503 L297.908 743.503 L297.908 751.975 Q298.927 751.628 299.945 751.466 Q300.964 751.281 301.982 751.281 Q307.769 751.281 311.149 754.452 Q314.529 757.623 314.529 763.04 Q314.529 768.619 311.056 771.72 Q307.584 774.799 301.265 774.799 Q299.089 774.799 296.82 774.429 Q294.575 774.058 292.168 773.318 L292.168 768.619 Q294.251 769.753 296.473 770.308 Q298.695 770.864 301.172 770.864 Q305.177 770.864 307.515 768.758 Q309.853 766.651 309.853 763.04 Q309.853 759.429 307.515 757.322 Q305.177 755.216 301.172 755.216 Q299.297 755.216 297.422 755.633 Q295.57 756.049 293.626 756.929 L293.626 739.568 Z\" fill=\"#000000\" fill-rule=\"nonzero\" fill-opacity=\"1\" /><path clip-path=\"url(#clip280)\" d=\"M458.761 770.193 L466.4 770.193 L466.4 743.827 L458.09 745.494 L458.09 741.235 L466.353 739.568 L471.029 739.568 L471.029 770.193 L478.668 770.193 L478.668 774.128 L458.761 774.128 L458.761 770.193 Z\" fill=\"#000000\" fill-rule=\"nonzero\" fill-opacity=\"1\" /><path clip-path=\"url(#clip280)\" d=\"M498.112 742.647 Q494.501 742.647 492.673 746.211 Q490.867 749.753 490.867 756.883 Q490.867 763.989 492.673 767.554 Q494.501 771.095 498.112 771.095 Q501.747 771.095 503.552 767.554 Q505.381 763.989 505.381 756.883 Q505.381 749.753 503.552 746.211 Q501.747 742.647 498.112 742.647 M498.112 738.943 Q503.923 738.943 506.978 743.549 Q510.057 748.133 510.057 756.883 Q510.057 765.609 506.978 770.216 Q503.923 774.799 498.112 774.799 Q492.302 774.799 489.224 770.216 Q486.168 765.609 486.168 756.883 Q486.168 748.133 489.224 743.549 Q492.302 738.943 498.112 738.943 Z\" fill=\"#000000\" fill-rule=\"nonzero\" fill-opacity=\"1\" /><path clip-path=\"url(#clip280)\" d=\"M639.984 770.193 L647.622 770.193 L647.622 743.827 L639.312 745.494 L639.312 741.235 L647.576 739.568 L652.252 739.568 L652.252 770.193 L659.891 770.193 L659.891 774.128 L639.984 774.128 L639.984 770.193 Z\" fill=\"#000000\" fill-rule=\"nonzero\" fill-opacity=\"1\" /><path clip-path=\"url(#clip280)\" d=\"M669.382 739.568 L687.738 739.568 L687.738 743.503 L673.664 743.503 L673.664 751.975 Q674.682 751.628 675.701 751.466 Q676.719 751.281 677.738 751.281 Q683.525 751.281 686.905 754.452 Q690.284 757.623 690.284 763.04 Q690.284 768.619 686.812 771.72 Q683.34 774.799 677.02 774.799 Q674.844 774.799 672.576 774.429 Q670.331 774.058 667.923 773.318 L667.923 768.619 Q670.007 769.753 672.229 770.308 Q674.451 770.864 676.928 770.864 Q680.932 770.864 683.27 768.758 Q685.608 766.651 685.608 763.04 Q685.608 759.429 683.27 757.322 Q680.932 755.216 676.928 755.216 Q675.053 755.216 673.178 755.633 Q671.326 756.049 669.382 756.929 L669.382 739.568 Z\" fill=\"#000000\" fill-rule=\"nonzero\" fill-opacity=\"1\" /><path clip-path=\"url(#clip280)\" d=\"M824.297 770.193 L840.616 770.193 L840.616 774.128 L818.672 774.128 L818.672 770.193 Q821.334 767.438 825.917 762.808 Q830.523 758.156 831.704 756.813 Q833.949 754.29 834.829 752.554 Q835.732 750.795 835.732 749.105 Q835.732 746.35 833.787 744.614 Q831.866 742.878 828.764 742.878 Q826.565 742.878 824.111 743.642 Q821.681 744.406 818.903 745.957 L818.903 741.235 Q821.727 740.1 824.181 739.522 Q826.635 738.943 828.672 738.943 Q834.042 738.943 837.236 741.628 Q840.431 744.313 840.431 748.804 Q840.431 750.934 839.621 752.855 Q838.834 754.753 836.727 757.346 Q836.148 758.017 833.047 761.234 Q829.945 764.429 824.297 770.193 Z\" fill=\"#000000\" fill-rule=\"nonzero\" fill-opacity=\"1\" /><path clip-path=\"url(#clip280)\" d=\"M860.431 742.647 Q856.82 742.647 854.991 746.211 Q853.185 749.753 853.185 756.883 Q853.185 763.989 854.991 767.554 Q856.82 771.095 860.431 771.095 Q864.065 771.095 865.87 767.554 Q867.699 763.989 867.699 756.883 Q867.699 749.753 865.87 746.211 Q864.065 742.647 860.431 742.647 M860.431 738.943 Q866.241 738.943 869.296 743.549 Q872.375 748.133 872.375 756.883 Q872.375 765.609 869.296 770.216 Q866.241 774.799 860.431 774.799 Q854.62 774.799 851.542 770.216 Q848.486 765.609 848.486 756.883 Q848.486 748.133 851.542 743.549 Q854.62 738.943 860.431 738.943 Z\" fill=\"#000000\" fill-rule=\"nonzero\" fill-opacity=\"1\" /><path clip-path=\"url(#clip280)\" d=\"M1005.52 770.193 L1021.84 770.193 L1021.84 774.128 L999.894 774.128 L999.894 770.193 Q1002.56 767.438 1007.14 762.808 Q1011.75 758.156 1012.93 756.813 Q1015.17 754.29 1016.05 752.554 Q1016.95 750.795 1016.95 749.105 Q1016.95 746.35 1015.01 744.614 Q1013.09 742.878 1009.99 742.878 Q1007.79 742.878 1005.33 743.642 Q1002.9 744.406 1000.13 745.957 L1000.13 741.235 Q1002.95 740.1 1005.4 739.522 Q1007.86 738.943 1009.89 738.943 Q1015.26 738.943 1018.46 741.628 Q1021.65 744.313 1021.65 748.804 Q1021.65 750.934 1020.84 752.855 Q1020.06 754.753 1017.95 757.346 Q1017.37 758.017 1014.27 761.234 Q1011.17 764.429 1005.52 770.193 Z\" fill=\"#000000\" fill-rule=\"nonzero\" fill-opacity=\"1\" /><path clip-path=\"url(#clip280)\" d=\"M1031.7 739.568 L1050.06 739.568 L1050.06 743.503 L1035.98 743.503 L1035.98 751.975 Q1037 751.628 1038.02 751.466 Q1039.04 751.281 1040.06 751.281 Q1045.84 751.281 1049.22 754.452 Q1052.6 757.623 1052.6 763.04 Q1052.6 768.619 1049.13 771.72 Q1045.66 774.799 1039.34 774.799 Q1037.16 774.799 1034.89 774.429 Q1032.65 774.058 1030.24 773.318 L1030.24 768.619 Q1032.32 769.753 1034.55 770.308 Q1036.77 770.864 1039.25 770.864 Q1043.25 770.864 1045.59 768.758 Q1047.93 766.651 1047.93 763.04 Q1047.93 759.429 1045.59 757.322 Q1043.25 755.216 1039.25 755.216 Q1037.37 755.216 1035.5 755.633 Q1033.64 756.049 1031.7 756.929 L1031.7 739.568 Z\" fill=\"#000000\" fill-rule=\"nonzero\" fill-opacity=\"1\" /><polyline clip-path=\"url(#clip282)\" style=\"stroke:#000000; stroke-linecap:round; stroke-linejoin:round; stroke-width:2; stroke-opacity:0.1; fill:none\" points=\"140.696,604.936 1152.76,604.936 \"/>\n",
       "<polyline clip-path=\"url(#clip282)\" style=\"stroke:#000000; stroke-linecap:round; stroke-linejoin:round; stroke-width:2; stroke-opacity:0.1; fill:none\" points=\"140.696,486.278 1152.76,486.278 \"/>\n",
       "<polyline clip-path=\"url(#clip282)\" style=\"stroke:#000000; stroke-linecap:round; stroke-linejoin:round; stroke-width:2; stroke-opacity:0.1; fill:none\" points=\"140.696,367.62 1152.76,367.62 \"/>\n",
       "<polyline clip-path=\"url(#clip282)\" style=\"stroke:#000000; stroke-linecap:round; stroke-linejoin:round; stroke-width:2; stroke-opacity:0.1; fill:none\" points=\"140.696,248.962 1152.76,248.962 \"/>\n",
       "<polyline clip-path=\"url(#clip282)\" style=\"stroke:#000000; stroke-linecap:round; stroke-linejoin:round; stroke-width:2; stroke-opacity:0.1; fill:none\" points=\"140.696,130.305 1152.76,130.305 \"/>\n",
       "<polyline clip-path=\"url(#clip280)\" style=\"stroke:#000000; stroke-linecap:round; stroke-linejoin:round; stroke-width:4; stroke-opacity:1; fill:none\" points=\"140.696,711.728 140.696,47.2441 \"/>\n",
       "<polyline clip-path=\"url(#clip280)\" style=\"stroke:#000000; stroke-linecap:round; stroke-linejoin:round; stroke-width:4; stroke-opacity:1; fill:none\" points=\"140.696,604.936 159.593,604.936 \"/>\n",
       "<polyline clip-path=\"url(#clip280)\" style=\"stroke:#000000; stroke-linecap:round; stroke-linejoin:round; stroke-width:4; stroke-opacity:1; fill:none\" points=\"140.696,486.278 159.593,486.278 \"/>\n",
       "<polyline clip-path=\"url(#clip280)\" style=\"stroke:#000000; stroke-linecap:round; stroke-linejoin:round; stroke-width:4; stroke-opacity:1; fill:none\" points=\"140.696,367.62 159.593,367.62 \"/>\n",
       "<polyline clip-path=\"url(#clip280)\" style=\"stroke:#000000; stroke-linecap:round; stroke-linejoin:round; stroke-width:4; stroke-opacity:1; fill:none\" points=\"140.696,248.962 159.593,248.962 \"/>\n",
       "<polyline clip-path=\"url(#clip280)\" style=\"stroke:#000000; stroke-linecap:round; stroke-linejoin:round; stroke-width:4; stroke-opacity:1; fill:none\" points=\"140.696,130.305 159.593,130.305 \"/>\n",
       "<path clip-path=\"url(#clip280)\" d=\"M83.7929 587.656 L102.149 587.656 L102.149 591.591 L88.0753 591.591 L88.0753 600.063 Q89.0938 599.716 90.1123 599.554 Q91.1308 599.369 92.1493 599.369 Q97.9363 599.369 101.316 602.54 Q104.696 605.711 104.696 611.128 Q104.696 616.707 101.223 619.808 Q97.7511 622.887 91.4317 622.887 Q89.2558 622.887 86.9873 622.517 Q84.7419 622.146 82.3346 621.406 L82.3346 616.707 Q84.4179 617.841 86.6401 618.396 Q88.8623 618.952 91.3391 618.952 Q95.3437 618.952 97.6817 616.845 Q100.02 614.739 100.02 611.128 Q100.02 607.517 97.6817 605.41 Q95.3437 603.304 91.3391 603.304 Q89.4641 603.304 87.5892 603.721 Q85.7373 604.137 83.7929 605.017 L83.7929 587.656 Z\" fill=\"#000000\" fill-rule=\"nonzero\" fill-opacity=\"1\" /><path clip-path=\"url(#clip280)\" d=\"M53.3995 499.623 L61.0384 499.623 L61.0384 473.257 L52.7282 474.924 L52.7282 470.665 L60.9921 468.998 L65.668 468.998 L65.668 499.623 L73.3068 499.623 L73.3068 503.558 L53.3995 503.558 L53.3995 499.623 Z\" fill=\"#000000\" fill-rule=\"nonzero\" fill-opacity=\"1\" /><path clip-path=\"url(#clip280)\" d=\"M92.7512 472.077 Q89.1401 472.077 87.3114 475.642 Q85.5058 479.183 85.5058 486.313 Q85.5058 493.419 87.3114 496.984 Q89.1401 500.526 92.7512 500.526 Q96.3854 500.526 98.1909 496.984 Q100.02 493.419 100.02 486.313 Q100.02 479.183 98.1909 475.642 Q96.3854 472.077 92.7512 472.077 M92.7512 468.373 Q98.5613 468.373 101.617 472.979 Q104.696 477.563 104.696 486.313 Q104.696 495.04 101.617 499.646 Q98.5613 504.229 92.7512 504.229 Q86.941 504.229 83.8623 499.646 Q80.8068 495.04 80.8068 486.313 Q80.8068 477.563 83.8623 472.979 Q86.941 468.373 92.7512 468.373 Z\" fill=\"#000000\" fill-rule=\"nonzero\" fill-opacity=\"1\" /><path clip-path=\"url(#clip280)\" d=\"M54.3949 380.965 L62.0337 380.965 L62.0337 354.599 L53.7236 356.266 L53.7236 352.007 L61.9874 350.34 L66.6633 350.34 L66.6633 380.965 L74.3022 380.965 L74.3022 384.9 L54.3949 384.9 L54.3949 380.965 Z\" fill=\"#000000\" fill-rule=\"nonzero\" fill-opacity=\"1\" /><path clip-path=\"url(#clip280)\" d=\"M83.7929 350.34 L102.149 350.34 L102.149 354.275 L88.0753 354.275 L88.0753 362.748 Q89.0938 362.4 90.1123 362.238 Q91.1308 362.053 92.1493 362.053 Q97.9363 362.053 101.316 365.224 Q104.696 368.396 104.696 373.812 Q104.696 379.391 101.223 382.493 Q97.7511 385.571 91.4317 385.571 Q89.2558 385.571 86.9873 385.201 Q84.7419 384.831 82.3346 384.09 L82.3346 379.391 Q84.4179 380.525 86.6401 381.081 Q88.8623 381.636 91.3391 381.636 Q95.3437 381.636 97.6817 379.53 Q100.02 377.423 100.02 373.812 Q100.02 370.201 97.6817 368.095 Q95.3437 365.988 91.3391 365.988 Q89.4641 365.988 87.5892 366.405 Q85.7373 366.822 83.7929 367.701 L83.7929 350.34 Z\" fill=\"#000000\" fill-rule=\"nonzero\" fill-opacity=\"1\" /><path clip-path=\"url(#clip280)\" d=\"M56.6171 262.307 L72.9365 262.307 L72.9365 266.242 L50.9921 266.242 L50.9921 262.307 Q53.6541 259.553 58.2375 254.923 Q62.8439 250.27 64.0245 248.928 Q66.2698 246.405 67.1494 244.668 Q68.0522 242.909 68.0522 241.219 Q68.0522 238.465 66.1078 236.729 Q64.1865 234.993 61.0847 234.993 Q58.8856 234.993 56.4319 235.756 Q54.0014 236.52 51.2236 238.071 L51.2236 233.349 Q54.0477 232.215 56.5014 231.636 Q58.955 231.057 60.9921 231.057 Q66.3624 231.057 69.5568 233.743 Q72.7513 236.428 72.7513 240.918 Q72.7513 243.048 71.9411 244.969 Q71.1541 246.867 69.0476 249.46 Q68.4689 250.131 65.367 253.349 Q62.2652 256.543 56.6171 262.307 Z\" fill=\"#000000\" fill-rule=\"nonzero\" fill-opacity=\"1\" /><path clip-path=\"url(#clip280)\" d=\"M92.7512 234.761 Q89.1401 234.761 87.3114 238.326 Q85.5058 241.868 85.5058 248.997 Q85.5058 256.104 87.3114 259.668 Q89.1401 263.21 92.7512 263.21 Q96.3854 263.21 98.1909 259.668 Q100.02 256.104 100.02 248.997 Q100.02 241.868 98.1909 238.326 Q96.3854 234.761 92.7512 234.761 M92.7512 231.057 Q98.5613 231.057 101.617 235.664 Q104.696 240.247 104.696 248.997 Q104.696 257.724 101.617 262.33 Q98.5613 266.914 92.7512 266.914 Q86.941 266.914 83.8623 262.33 Q80.8068 257.724 80.8068 248.997 Q80.8068 240.247 83.8623 235.664 Q86.941 231.057 92.7512 231.057 Z\" fill=\"#000000\" fill-rule=\"nonzero\" fill-opacity=\"1\" /><path clip-path=\"url(#clip280)\" d=\"M57.6125 143.649 L73.9318 143.649 L73.9318 147.585 L51.9875 147.585 L51.9875 143.649 Q54.6495 140.895 59.2328 136.265 Q63.8393 131.612 65.0198 130.27 Q67.2652 127.747 68.1448 126.011 Q69.0476 124.251 69.0476 122.562 Q69.0476 119.807 67.1032 118.071 Q65.1819 116.335 62.08 116.335 Q59.881 116.335 57.4273 117.099 Q54.9967 117.863 52.219 119.413 L52.219 114.691 Q55.043 113.557 57.4967 112.978 Q59.9504 112.4 61.9874 112.4 Q67.3578 112.4 70.5522 115.085 Q73.7466 117.77 73.7466 122.261 Q73.7466 124.39 72.9365 126.312 Q72.1494 128.21 70.0429 130.802 Q69.4642 131.474 66.3624 134.691 Q63.2606 137.886 57.6125 143.649 Z\" fill=\"#000000\" fill-rule=\"nonzero\" fill-opacity=\"1\" /><path clip-path=\"url(#clip280)\" d=\"M83.7929 113.025 L102.149 113.025 L102.149 116.96 L88.0753 116.96 L88.0753 125.432 Q89.0938 125.085 90.1123 124.923 Q91.1308 124.737 92.1493 124.737 Q97.9363 124.737 101.316 127.909 Q104.696 131.08 104.696 136.497 Q104.696 142.075 101.223 145.177 Q97.7511 148.256 91.4317 148.256 Q89.2558 148.256 86.9873 147.885 Q84.7419 147.515 82.3346 146.774 L82.3346 142.075 Q84.4179 143.21 86.6401 143.765 Q88.8623 144.321 91.3391 144.321 Q95.3437 144.321 97.6817 142.214 Q100.02 140.108 100.02 136.497 Q100.02 132.886 97.6817 130.779 Q95.3437 128.673 91.3391 128.673 Q89.4641 128.673 87.5892 129.089 Q85.7373 129.506 83.7929 130.386 L83.7929 113.025 Z\" fill=\"#000000\" fill-rule=\"nonzero\" fill-opacity=\"1\" /><g clip-path=\"url(#clip282)\">\n",
       "<image width=\"1012\" height=\"664\" xlink:href=\"data:image/png;base64,\n",
       "iVBORw0KGgoAAAANSUhEUgAAA/QAAAKYCAYAAADdZLP3AAAVZElEQVR4nO3Z/evvd13H8c93++x6\n",
       "6rZMWmSJZJI4qUaCSoo/NIP9EK5UMkvRUjlkXqzQJayWNfSHtlI4TUxGRsG0C1KUmBTBbMPcmHPF\n",
       "8KIUQjM3d6E7uzids28/v/b9pQNf9vzej7fbX/DgzfuH9/393NlstrsbAAAAIOWU6QEAAADAiRP0\n",
       "AAAAECToAQAAIEjQAwAAQJCgBwAAgCBBDwAAAEGCHgAAAIIEPQAAAAQJegAAAAgS9AAAABAk6AEA\n",
       "ACBI0AMAAECQoAcAAIAgQQ8AAABBgh4AAACCBD0AAAAECXoAAAAIEvQAAAAQJOgBAAAgSNADAABA\n",
       "kKAHAACAIEEPAAAAQYIeAAAAggQ9AAAABAl6AAAACBL0AAAAECToAQAAIEjQAwAAQJCgBwAAgCBB\n",
       "DwAAAEGCHgAAAIIEPQAAAAQJegAAAAgS9AAAABAk6AEAACBI0AMAAECQoAcAAIAgQQ8AAABBgh4A\n",
       "AACCBD0AAAAECXoAAAAIEvQAAAAQJOgBAAAgSNADAABAkKAHAACAIEEPAAAAQYIeAAAAggQ9AAAA\n",
       "BAl6AAAACBL0AAAAECToAQAAIEjQAwAAQJCgBwAAgCBBDwAAAEGCHgAAAIIEPQAAAAQJegAAAAgS\n",
       "9AAAABAk6AEAACBI0AMAAECQoAcAAIAgQQ8AAABBgh4AAACCBD0AAAAECXoAAAAIEvQAAAAQJOgB\n",
       "AAAgSNADAABAkKAHAACAIEEPAAAAQYIeAAAAggQ9AAAABAl6AAAACBL0AAAAECToAQAAIEjQAwAA\n",
       "QJCgBwAAgCBBDwAAAEGCHgAAAIIEPQAAAAQJegAAAAgS9AAAABAk6AEAACBI0AMAAECQoAcAAIAg\n",
       "QQ8AAABBgh4AAACCBD0AAAAECXoAAAAIEvQAAAAQJOgBAAAgSNADAABAkKAHAACAIEEPAAAAQdvp\n",
       "AbDfbnz+y6cnLD78pQunJyxuuP/w9AQAAGAfuNADAABAkKAHAACAIEEPAAAAQYIeAAAAggQ9AAAA\n",
       "BAl6AAAACBL0AAAAECToAQAAIEjQAwAAQJCgBwAAgCBBDwAAAEGCHgAAAIIEPQAAAAQJegAAAAgS\n",
       "9AAAABAk6AEAACBI0AMAAECQoAcAAIAgQQ8AAABBgh4AAACCBD0AAAAECXoAAAAIEvQAAAAQtLPZ\n",
       "bHenR8B++u6R35+esDjj+qumJywufudl0xP2uPPIx6YnAABAjgs9AAAABAl6AAAACBL0AAAAECTo\n",
       "AQAAIEjQAwAAQJCgBwAAgCBBDwAAAEGCHgAAAIIEPQAAAAQJegAAAAgS9AAAABAk6AEAACBI0AMA\n",
       "AECQoAcAAIAgQQ8AAABBgh4AAACCBD0AAAAECXoAAAAIEvQAAAAQJOgBAAAgSNADAABAkKAHAACA\n",
       "IEEPAAAAQdvpAbDfzjr7h6cnLI780qHpCYunv+vo9IQ97pweAAAAQS70AAAAECToAQAAIEjQAwAA\n",
       "QJCgBwAAgCBBDwAAAEGCHgAAAIIEPQAAAAQJegAAAAgS9AAAABAk6AEAACBI0AMAAECQoAcAAIAg\n",
       "QQ8AAABBgh4AAACCBD0AAAAECXoAAAAIEvQAAAAQJOgBAAAgSNADAABAkKAHAACAIEEPAAAAQYIe\n",
       "AAAAgrbTA2C/3ftrV09PWDzlg5dPT1g858l3TE/Y41MPTi8AODhedd6h6QmLjz5w3fSExe7uY9MT\n",
       "AA4MF3oAAAAIEvQAAAAQJOgBAAAgSNADAABAkKAHAACAIEEPAAAAQYIeAAAAggQ9AAAABAl6AAAA\n",
       "CBL0AAAAECToAQAAIEjQAwAAQJCgBwAAgCBBDwAAAEGCHgAAAIIEPQAAAAQJegAAAAgS9AAAABAk\n",
       "6AEAACBI0AMAAECQoAcAAIAgQQ8AAABBgh4AAACCttMDYL8974YLpics7jrr6ukJj3Pp9ADge9yF\n",
       "575wesLiq1fcMT1hcezyZ0xPWPzlx8+anrB49M7TpycsznnPfdMTgO9hLvQAAAAQJOgBAAAgSNAD\n",
       "AABAkKAHAACAIEEPAAAAQYIeAAAAggQ9AAAABAl6AAAACBL0AAAAECToAQAAIEjQAwAAQJCgBwAA\n",
       "gCBBDwAAAEGCHgAAAIIEPQAAAAQJegAAAAgS9AAAABAk6AEAACBI0AMAAECQoAcAAIAgQQ8AAABB\n",
       "gh4AAACCBD0AAAAEbacHwH774q//1/SExRmv+YHpCYvzP3l8egLwBHraOT89PWGPf37p7vSExc47\n",
       "r5mesDhtesDjHL/sYD2fzc8fmV6weMuHvjI9YfGBbx6engA8gVzoAQAAIEjQAwAAQJCgBwAAgCBB\n",
       "DwAAAEGCHgAAAIIEPQAAAAQJegAAAAgS9AAAABAk6AEAACBI0AMAAECQoAcAAIAgQQ8AAABBgh4A\n",
       "AACCBD0AAAAECXoAAAAIEvQAAAAQJOgBAAAgSNADAABAkKAHAACAIEEPAAAAQYIeAAAAggQ9AAAA\n",
       "BAl6AAAACNrZbLa70yNgP93y4p+bnrD4qX96+fSExfHHHp2esMf/fueu6QmLb7/xc9MTFs/821un\n",
       "J3ACdjY70xMWf/MTr5qesMelt750esJid/f49ITFseMPTk9YnLZ9yvSEA+3Uvzg0PWFx2usP3qf9\n",
       "7u5j0xPgpOVCDwAAAEGCHgAAAIIEPQAAAAQJegAAAAgS9AAAABAk6AEAACBI0AMAAECQoAcAAIAg\n",
       "QQ8AAABBgh4AAACCBD0AAAAECXoAAAAIEvQAAAAQJOgBAAAgSNADAABAkKAHAACAIEEPAAAAQYIe\n",
       "AAAAggQ9AAAABAl6AAAACBL0AAAAECToAQAAIGg7PQD223cePnt6woF26ilnTE/Y4/hZF05PWLzy\n",
       "H549PeFxbp0ewAn4sx9/7fSExaW3vmB6woH3Rz92x/SExbu/+sHpCYuHrjxvesLi1CvfNz1hcfxX\n",
       "Dk9PWLz93Qfrfd5sNptrvnGwnhGcTFzoAQAAIEjQAwAAQJCgBwAAgCBBDwAAAEGCHgAAAIIEPQAA\n",
       "AAQJegAAAAgS9AAAABAk6AEAACBI0AMAAECQoAcAAIAgQQ8AAABBgh4AAACCBD0AAAAECXoAAAAI\n",
       "EvQAAAAQJOgBAAAgSNADAABAkKAHAACAIEEPAAAAQYIeAAAAggQ9AAAABAl6AAAACNpOD4D99ot3\n",
       "3jk9YXHP5mXTEw68U9577fSExa0P3Tc9gbCX/eRt0xMe5wXTA/Z47L2XT09YXP2Np05PONA+++kX\n",
       "T09YvPDK6QUH2/t+97rpCXu8/9B50xMWx47fPz0B9o0LPQAAAAQJegAAAAgS9AAAABAk6AEAACBI\n",
       "0AMAAECQoAcAAIAgQQ8AAABBgh4AAACCBD0AAAAECXoAAAAIEvQAAAAQJOgBAAAgSNADAABAkKAH\n",
       "AACAIEEPAAAAQYIeAAAAggQ9AAAABAl6AAAACBL0AAAAECToAQAAIEjQAwAAQJCgBwAAgCBBDwAA\n",
       "AEHb6QEAp//QA9MTFqdvv396wuLosbunJyx2dg7Wv+DXXfDm6QmLp17+2ekJi0fvvXV6wh6X/OFl\n",
       "0xMWRx79yPSEA+13Pn/+9ITFP37xr6YnLE599qunJywee8OfTk/Y4y2/d8f0hMW1/314egLsm4P1\n",
       "VQYAAAD8vwh6AAAACBL0AAAAECToAQAAIEjQAwAAQJCgBwAAgCBBDwAAAEGCHgAAAIIEPQAAAAQJ\n",
       "egAAAAgS9AAAABAk6AEAACBI0AMAAECQoAcAAIAgQQ8AAABBgh4AAACCBD0AAAAECXoAAAAIEvQA\n",
       "AAAQJOgBAAAgSNADAABAkKAHAACAoJ3NZrs7PQL205POfNb0hMU9D/7W9ARO0Kkffev0hMUfXPG6\n",
       "6QmLK37j+ukJq7e/f3rB4pH7Pz89YXHV83amJ+xxzTcOT08g7K5LXzQ9YfHMv//V6QkH3s51h6Yn\n",
       "LM592wXTExZHj909PYEwF3oAAAAIEvQAAAAQJOgBAAAgSNADAABAkKAHAACAIEEPAAAAQYIeAAAA\n",
       "ggQ9AAAABAl6AAAACBL0AAAAECToAQAAIEjQAwAAQJCgBwAAgCBBDwAAAEGCHgAAAIIEPQAAAAQJ\n",
       "egAAAAgS9AAAABAk6AEAACBI0AMAAECQoAcAAIAgQQ8AAABBgh4AAACCdjab7e70CNhPOzvb6QmL\n",
       "e9789OkJi3M/8K7pCbC/rv3N6QWLi666ZHrC4ksPfmJ6Auyri855xfSExW2f/rfpCYvd579tesKB\n",
       "968v+fj0hMXP/MsnpycQ5kIPAAAAQYIeAAAAggQ9AAAABAl6AAAACBL0AAAAECToAQAAIEjQAwAA\n",
       "QJCgBwAAgCBBDwAAAEGCHgAAAIIEPQAAAAQJegAAAAgS9AAAABAk6AEAACBI0AMAAECQoAcAAIAg\n",
       "QQ8AAABBgh4AAACCBD0AAAAECXoAAAAIEvQAAAAQJOgBAAAgSNADAABA0HZ6AOy33d1j0xMWD/zP\n",
       "901PWJw7PYAT9vVXfmh6wuLb950/PWHxopuePD1hcfTYJ6YnwEntziMfm56w+Os3vWZ6wuIXbp9e\n",
       "cPA971PPmZ6wOOdp/z49YXHk0a9NT+AEuNADAABAkKAHAACAIEEPAAAAQYIeAAAAggQ9AAAABAl6\n",
       "AAAACBL0AAAAECToAQAAIEjQAwAAQJCgBwAAgCBBDwAAAEGCHgAAAIIEPQAAAAQJegAAAAgS9AAA\n",
       "ABAk6AEAACBI0AMAAECQoAcAAIAgQQ8AAABBgh4AAACCBD0AAAAECXoAAAAIEvQAAAAQtJ0eACe7\n",
       "G26/eHrC4h3TAwI+ctEt0xMWb7zrtukJi93N7vQEgAPjrf951/SExStuvHF6wh6PXfKe6QmLM8/5\n",
       "0ekJi09d/NzpCYuX3Py16QmcABd6AAAACBL0AAAAECToAQAAIEjQAwAAQJCgBwAAgCBBDwAAAEGC\n",
       "HgAAAIIEPQAAAAQJegAAAAgS9AAAABAk6AEAACBI0AMAAECQoAcAAIAgQQ8AAABBgh4AAACCBD0A\n",
       "AAAECXoAAAAIEvQAAAAQJOgBAAAgSNADAABAkKAHAACAIEEPAAAAQdvpAXCy+/NvfXN6wuId0wMC\n",
       "fva5X5iesDjzP35wesLi4aNfn54AcGDcfeS26QmL1/7yoekJe1x/9/SCg+20U49PTyDMhR4AAACC\n",
       "BD0AAAAECXoAAAAIEvQAAAAQJOgBAAAgSNADAABAkKAHAACAIEEPAAAAQYIeAAAAggQ9AAAABAl6\n",
       "AAAACBL0AAAAECToAQAAIEjQAwAAQJCgBwAAgCBBDwAAAEGCHgAAAIIEPQAAAAQJegAAAAgS9AAA\n",
       "ABAk6AEAACBI0AMAAECQoAcAAICg7fQAONk9tPOd6QmLR7/1mekJe5z5lVumJyz+5DOXTE9YPHz0\n",
       "8PQEACJuPHrz9IQ9dm6+cXrCYveFvz09YfH8d35uesLqpukBnAgXegAAAAgS9AAAABAk6AEAACBI\n",
       "0AMAAECQoAcAAIAgQQ8AAABBgh4AAACCBD0AAAAECXoAAAAIEvQAAAAQJOgBAAAgSNADAABAkKAH\n",
       "AACAIEEPAAAAQYIeAAAAggQ9AAAABAl6AAAACBL0AAAAECToAQAAIEjQAwAAQJCgBwAAgCBBDwAA\n",
       "AEGCHgAAAIJ2Npvt7vQI4Inz4rNePz1hj9t3b5qesPjuI1+engAAJ417Dz1jesLinPdfMT3hQDtj\n",
       "+6bpCZwAF3oAAAAIEvQAAAAQJOgBAAAgSNADAABAkKAHAACAIEEPAAAAQYIeAAAAggQ9AAAABAl6\n",
       "AAAACBL0AAAAECToAQAAIEjQAwAAQJCgBwAAgCBBDwAAAEGCHgAAAIIEPQAAAAQJegAAAAgS9AAA\n",
       "ABAk6AEAACBI0AMAAECQoAcAAIAgQQ8AAABBO5vNdnd6BAAAcHJ60pnPmp6wuPuW86cnLHYuesP0\n",
       "hMUZ2zdNT+AEuNADAABAkKAHAACAIEEPAAAAQYIeAAAAggQ9AAAABAl6AAAACBL0AAAAECToAQAA\n",
       "IEjQAwAAQJCgBwAAgCBBDwAAAEGCHgAAAIIEPQAAAAQJegAAAAgS9AAAABAk6AEAACBI0AMAAECQ\n",
       "oAcAAIAgQQ8AAABBgh4AAACCBD0AAAAECXoAAAAIEvQAAAAQtJ0eAAAAnLy++8iXpycsHv7wj0xP\n",
       "WJz9x9MLKHOhBwAAgCBBDwAAAEGCHgAAAIIEPQAAAAQJegAAAAgS9AAAABAk6AEAACBI0AMAAECQ\n",
       "oAcAAIAgQQ8AAABBgh4AAACCBD0AAAAECXoAAAAIEvQAAAAQJOgBAAAgSNADAABAkKAHAACAIEEP\n",
       "AAAAQYIeAAAAggQ9AAAABAl6AAAACBL0AAAAECToAQAAIGg7PQAAAOCJ8urrXzY9YXHlF/5uegJh\n",
       "LvQAAAAQJOgBAAAgSNADAABAkKAHAACAIEEPAAAAQYIeAAAAggQ9AAAABAl6AAAACBL0AAAAECTo\n",
       "AQAAIEjQAwAAQJCgBwAAgCBBDwAAAEGCHgAAAIIEPQAAAAQJegAAAAgS9AAAABAk6AEAACBI0AMA\n",
       "AECQoAcAAIAgQQ8AAABBgh4AAACCBD0AAAAE7Ww2293pEQAAAMCJcaEHAACAIEEPAAAAQYIeAAAA\n",
       "ggQ9AAAABAl6AAAACBL0AAAAECToAQAAIEjQAwAAQJCgBwAAgCBBDwAAAEGCHgAAAIIEPQAAAAQJ\n",
       "egAAAAgS9AAAABAk6AEAACBI0AMAAECQoAcAAIAgQQ8AAABBgh4AAACCBD0AAAAECXoAAAAIEvQA\n",
       "AAAQJOgBAAAgSNADAABAkKAHAACAIEEPAAAAQYIeAAAAggQ9AAAABAl6AAAACBL0AAAAECToAQAA\n",
       "IEjQAwAAQJCgBwAAgCBBDwAAAEGCHgAAAIIEPQAAAAQJegAAAAgS9AAAABAk6AEAACBI0AMAAECQ\n",
       "oAcAAIAgQQ8AAABBgh4AAACCBD0AAAAECXoAAAAIEvQAAAAQJOgBAAAgSNADAABAkKAHAACAIEEP\n",
       "AAAAQYIeAAAAggQ9AAAABAl6AAAACBL0AAAAECToAQAAIEjQAwAAQJCgBwAAgCBBDwAAAEGCHgAA\n",
       "AIIEPQAAAAQJegAAAAgS9AAAABAk6AEAACBI0AMAAECQoAcAAIAgQQ8AAABBgh4AAACCBD0AAAAE\n",
       "CXoAAAAIEvQAAAAQJOgBAAAgSNADAABAkKAHAACAIEEPAAAAQYIeAAAAggQ9AAAABAl6AAAACBL0\n",
       "AAAAECToAQAAIEjQAwAAQJCgBwAAgCBBDwAAAEGCHgAAAIIEPQAAAAQJegAAAAgS9AAAABAk6AEA\n",
       "ACBI0AMAAECQoAcAAIAgQQ8AAABBgh4AAACCBD0AAAAECXoAAAAI+j9oWBouOPoi+gAAAABJRU5E\n",
       "rkJggg==\n",
       "\" transform=\"translate(141, 47)\"/>\n",
       "</g>\n",
       "<path clip-path=\"url(#clip280)\" d=\"M1340.7 711.728 L2352.76 711.728 L2352.76 47.2441 L1340.7 47.2441  Z\" fill=\"#ffffff\" fill-rule=\"evenodd\" fill-opacity=\"1\"/>\n",
       "<defs>\n",
       "  <clipPath id=\"clip283\">\n",
       "    <rect x=\"1340\" y=\"47\" width=\"1013\" height=\"665\"/>\n",
       "  </clipPath>\n",
       "</defs>\n",
       "<polyline clip-path=\"url(#clip283)\" style=\"stroke:#000000; stroke-linecap:round; stroke-linejoin:round; stroke-width:2; stroke-opacity:0.1; fill:none\" points=\"1503.35,711.728 1503.35,47.2441 \"/>\n",
       "<polyline clip-path=\"url(#clip283)\" style=\"stroke:#000000; stroke-linecap:round; stroke-linejoin:round; stroke-width:2; stroke-opacity:0.1; fill:none\" points=\"1684.07,711.728 1684.07,47.2441 \"/>\n",
       "<polyline clip-path=\"url(#clip283)\" style=\"stroke:#000000; stroke-linecap:round; stroke-linejoin:round; stroke-width:2; stroke-opacity:0.1; fill:none\" points=\"1864.8,711.728 1864.8,47.2441 \"/>\n",
       "<polyline clip-path=\"url(#clip283)\" style=\"stroke:#000000; stroke-linecap:round; stroke-linejoin:round; stroke-width:2; stroke-opacity:0.1; fill:none\" points=\"2045.52,711.728 2045.52,47.2441 \"/>\n",
       "<polyline clip-path=\"url(#clip283)\" style=\"stroke:#000000; stroke-linecap:round; stroke-linejoin:round; stroke-width:2; stroke-opacity:0.1; fill:none\" points=\"2226.25,711.728 2226.25,47.2441 \"/>\n",
       "<polyline clip-path=\"url(#clip280)\" style=\"stroke:#000000; stroke-linecap:round; stroke-linejoin:round; stroke-width:4; stroke-opacity:1; fill:none\" points=\"1340.7,711.728 2352.76,711.728 \"/>\n",
       "<polyline clip-path=\"url(#clip280)\" style=\"stroke:#000000; stroke-linecap:round; stroke-linejoin:round; stroke-width:4; stroke-opacity:1; fill:none\" points=\"1503.35,711.728 1503.35,692.83 \"/>\n",
       "<polyline clip-path=\"url(#clip280)\" style=\"stroke:#000000; stroke-linecap:round; stroke-linejoin:round; stroke-width:4; stroke-opacity:1; fill:none\" points=\"1684.07,711.728 1684.07,692.83 \"/>\n",
       "<polyline clip-path=\"url(#clip280)\" style=\"stroke:#000000; stroke-linecap:round; stroke-linejoin:round; stroke-width:4; stroke-opacity:1; fill:none\" points=\"1864.8,711.728 1864.8,692.83 \"/>\n",
       "<polyline clip-path=\"url(#clip280)\" style=\"stroke:#000000; stroke-linecap:round; stroke-linejoin:round; stroke-width:4; stroke-opacity:1; fill:none\" points=\"2045.52,711.728 2045.52,692.83 \"/>\n",
       "<polyline clip-path=\"url(#clip280)\" style=\"stroke:#000000; stroke-linecap:round; stroke-linejoin:round; stroke-width:4; stroke-opacity:1; fill:none\" points=\"2226.25,711.728 2226.25,692.83 \"/>\n",
       "<path clip-path=\"url(#clip280)\" d=\"M1493.63 739.568 L1511.98 739.568 L1511.98 743.503 L1497.91 743.503 L1497.91 751.975 Q1498.93 751.628 1499.95 751.466 Q1500.96 751.281 1501.98 751.281 Q1507.77 751.281 1511.15 754.452 Q1514.53 757.623 1514.53 763.04 Q1514.53 768.619 1511.06 771.72 Q1507.58 774.799 1501.26 774.799 Q1499.09 774.799 1496.82 774.429 Q1494.57 774.058 1492.17 773.318 L1492.17 768.619 Q1494.25 769.753 1496.47 770.308 Q1498.7 770.864 1501.17 770.864 Q1505.18 770.864 1507.51 768.758 Q1509.85 766.651 1509.85 763.04 Q1509.85 759.429 1507.51 757.322 Q1505.18 755.216 1501.17 755.216 Q1499.3 755.216 1497.42 755.633 Q1495.57 756.049 1493.63 756.929 L1493.63 739.568 Z\" fill=\"#000000\" fill-rule=\"nonzero\" fill-opacity=\"1\" /><path clip-path=\"url(#clip280)\" d=\"M1658.76 770.193 L1666.4 770.193 L1666.4 743.827 L1658.09 745.494 L1658.09 741.235 L1666.35 739.568 L1671.03 739.568 L1671.03 770.193 L1678.67 770.193 L1678.67 774.128 L1658.76 774.128 L1658.76 770.193 Z\" fill=\"#000000\" fill-rule=\"nonzero\" fill-opacity=\"1\" /><path clip-path=\"url(#clip280)\" d=\"M1698.11 742.647 Q1694.5 742.647 1692.67 746.211 Q1690.87 749.753 1690.87 756.883 Q1690.87 763.989 1692.67 767.554 Q1694.5 771.095 1698.11 771.095 Q1701.75 771.095 1703.55 767.554 Q1705.38 763.989 1705.38 756.883 Q1705.38 749.753 1703.55 746.211 Q1701.75 742.647 1698.11 742.647 M1698.11 738.943 Q1703.92 738.943 1706.98 743.549 Q1710.06 748.133 1710.06 756.883 Q1710.06 765.609 1706.98 770.216 Q1703.92 774.799 1698.11 774.799 Q1692.3 774.799 1689.22 770.216 Q1686.17 765.609 1686.17 756.883 Q1686.17 748.133 1689.22 743.549 Q1692.3 738.943 1698.11 738.943 Z\" fill=\"#000000\" fill-rule=\"nonzero\" fill-opacity=\"1\" /><path clip-path=\"url(#clip280)\" d=\"M1839.98 770.193 L1847.62 770.193 L1847.62 743.827 L1839.31 745.494 L1839.31 741.235 L1847.58 739.568 L1852.25 739.568 L1852.25 770.193 L1859.89 770.193 L1859.89 774.128 L1839.98 774.128 L1839.98 770.193 Z\" fill=\"#000000\" fill-rule=\"nonzero\" fill-opacity=\"1\" /><path clip-path=\"url(#clip280)\" d=\"M1869.38 739.568 L1887.74 739.568 L1887.74 743.503 L1873.66 743.503 L1873.66 751.975 Q1874.68 751.628 1875.7 751.466 Q1876.72 751.281 1877.74 751.281 Q1883.52 751.281 1886.9 754.452 Q1890.28 757.623 1890.28 763.04 Q1890.28 768.619 1886.81 771.72 Q1883.34 774.799 1877.02 774.799 Q1874.84 774.799 1872.58 774.429 Q1870.33 774.058 1867.92 773.318 L1867.92 768.619 Q1870.01 769.753 1872.23 770.308 Q1874.45 770.864 1876.93 770.864 Q1880.93 770.864 1883.27 768.758 Q1885.61 766.651 1885.61 763.04 Q1885.61 759.429 1883.27 757.322 Q1880.93 755.216 1876.93 755.216 Q1875.05 755.216 1873.18 755.633 Q1871.33 756.049 1869.38 756.929 L1869.38 739.568 Z\" fill=\"#000000\" fill-rule=\"nonzero\" fill-opacity=\"1\" /><path clip-path=\"url(#clip280)\" d=\"M2024.3 770.193 L2040.62 770.193 L2040.62 774.128 L2018.67 774.128 L2018.67 770.193 Q2021.33 767.438 2025.92 762.808 Q2030.52 758.156 2031.7 756.813 Q2033.95 754.29 2034.83 752.554 Q2035.73 750.795 2035.73 749.105 Q2035.73 746.35 2033.79 744.614 Q2031.87 742.878 2028.76 742.878 Q2026.57 742.878 2024.11 743.642 Q2021.68 744.406 2018.9 745.957 L2018.9 741.235 Q2021.73 740.1 2024.18 739.522 Q2026.63 738.943 2028.67 738.943 Q2034.04 738.943 2037.24 741.628 Q2040.43 744.313 2040.43 748.804 Q2040.43 750.934 2039.62 752.855 Q2038.83 754.753 2036.73 757.346 Q2036.15 758.017 2033.05 761.234 Q2029.94 764.429 2024.3 770.193 Z\" fill=\"#000000\" fill-rule=\"nonzero\" fill-opacity=\"1\" /><path clip-path=\"url(#clip280)\" d=\"M2060.43 742.647 Q2056.82 742.647 2054.99 746.211 Q2053.19 749.753 2053.19 756.883 Q2053.19 763.989 2054.99 767.554 Q2056.82 771.095 2060.43 771.095 Q2064.06 771.095 2065.87 767.554 Q2067.7 763.989 2067.7 756.883 Q2067.7 749.753 2065.87 746.211 Q2064.06 742.647 2060.43 742.647 M2060.43 738.943 Q2066.24 738.943 2069.3 743.549 Q2072.38 748.133 2072.38 756.883 Q2072.38 765.609 2069.3 770.216 Q2066.24 774.799 2060.43 774.799 Q2054.62 774.799 2051.54 770.216 Q2048.49 765.609 2048.49 756.883 Q2048.49 748.133 2051.54 743.549 Q2054.62 738.943 2060.43 738.943 Z\" fill=\"#000000\" fill-rule=\"nonzero\" fill-opacity=\"1\" /><path clip-path=\"url(#clip280)\" d=\"M2205.52 770.193 L2221.84 770.193 L2221.84 774.128 L2199.89 774.128 L2199.89 770.193 Q2202.56 767.438 2207.14 762.808 Q2211.75 758.156 2212.93 756.813 Q2215.17 754.29 2216.05 752.554 Q2216.95 750.795 2216.95 749.105 Q2216.95 746.35 2215.01 744.614 Q2213.09 742.878 2209.99 742.878 Q2207.79 742.878 2205.33 743.642 Q2202.9 744.406 2200.13 745.957 L2200.13 741.235 Q2202.95 740.1 2205.4 739.522 Q2207.86 738.943 2209.89 738.943 Q2215.26 738.943 2218.46 741.628 Q2221.65 744.313 2221.65 748.804 Q2221.65 750.934 2220.84 752.855 Q2220.06 754.753 2217.95 757.346 Q2217.37 758.017 2214.27 761.234 Q2211.17 764.429 2205.52 770.193 Z\" fill=\"#000000\" fill-rule=\"nonzero\" fill-opacity=\"1\" /><path clip-path=\"url(#clip280)\" d=\"M2231.7 739.568 L2250.06 739.568 L2250.06 743.503 L2235.98 743.503 L2235.98 751.975 Q2237 751.628 2238.02 751.466 Q2239.04 751.281 2240.06 751.281 Q2245.84 751.281 2249.22 754.452 Q2252.6 757.623 2252.6 763.04 Q2252.6 768.619 2249.13 771.72 Q2245.66 774.799 2239.34 774.799 Q2237.16 774.799 2234.89 774.429 Q2232.65 774.058 2230.24 773.318 L2230.24 768.619 Q2232.32 769.753 2234.55 770.308 Q2236.77 770.864 2239.25 770.864 Q2243.25 770.864 2245.59 768.758 Q2247.93 766.651 2247.93 763.04 Q2247.93 759.429 2245.59 757.322 Q2243.25 755.216 2239.25 755.216 Q2237.37 755.216 2235.5 755.633 Q2233.64 756.049 2231.7 756.929 L2231.7 739.568 Z\" fill=\"#000000\" fill-rule=\"nonzero\" fill-opacity=\"1\" /><polyline clip-path=\"url(#clip283)\" style=\"stroke:#000000; stroke-linecap:round; stroke-linejoin:round; stroke-width:2; stroke-opacity:0.1; fill:none\" points=\"1340.7,604.936 2352.76,604.936 \"/>\n",
       "<polyline clip-path=\"url(#clip283)\" style=\"stroke:#000000; stroke-linecap:round; stroke-linejoin:round; stroke-width:2; stroke-opacity:0.1; fill:none\" points=\"1340.7,486.278 2352.76,486.278 \"/>\n",
       "<polyline clip-path=\"url(#clip283)\" style=\"stroke:#000000; stroke-linecap:round; stroke-linejoin:round; stroke-width:2; stroke-opacity:0.1; fill:none\" points=\"1340.7,367.62 2352.76,367.62 \"/>\n",
       "<polyline clip-path=\"url(#clip283)\" style=\"stroke:#000000; stroke-linecap:round; stroke-linejoin:round; stroke-width:2; stroke-opacity:0.1; fill:none\" points=\"1340.7,248.962 2352.76,248.962 \"/>\n",
       "<polyline clip-path=\"url(#clip283)\" style=\"stroke:#000000; stroke-linecap:round; stroke-linejoin:round; stroke-width:2; stroke-opacity:0.1; fill:none\" points=\"1340.7,130.305 2352.76,130.305 \"/>\n",
       "<polyline clip-path=\"url(#clip280)\" style=\"stroke:#000000; stroke-linecap:round; stroke-linejoin:round; stroke-width:4; stroke-opacity:1; fill:none\" points=\"1340.7,711.728 1340.7,47.2441 \"/>\n",
       "<polyline clip-path=\"url(#clip280)\" style=\"stroke:#000000; stroke-linecap:round; stroke-linejoin:round; stroke-width:4; stroke-opacity:1; fill:none\" points=\"1340.7,604.936 1359.59,604.936 \"/>\n",
       "<polyline clip-path=\"url(#clip280)\" style=\"stroke:#000000; stroke-linecap:round; stroke-linejoin:round; stroke-width:4; stroke-opacity:1; fill:none\" points=\"1340.7,486.278 1359.59,486.278 \"/>\n",
       "<polyline clip-path=\"url(#clip280)\" style=\"stroke:#000000; stroke-linecap:round; stroke-linejoin:round; stroke-width:4; stroke-opacity:1; fill:none\" points=\"1340.7,367.62 1359.59,367.62 \"/>\n",
       "<polyline clip-path=\"url(#clip280)\" style=\"stroke:#000000; stroke-linecap:round; stroke-linejoin:round; stroke-width:4; stroke-opacity:1; fill:none\" points=\"1340.7,248.962 1359.59,248.962 \"/>\n",
       "<polyline clip-path=\"url(#clip280)\" style=\"stroke:#000000; stroke-linecap:round; stroke-linejoin:round; stroke-width:4; stroke-opacity:1; fill:none\" points=\"1340.7,130.305 1359.59,130.305 \"/>\n",
       "<path clip-path=\"url(#clip280)\" d=\"M1283.79 587.656 L1302.15 587.656 L1302.15 591.591 L1288.08 591.591 L1288.08 600.063 Q1289.09 599.716 1290.11 599.554 Q1291.13 599.369 1292.15 599.369 Q1297.94 599.369 1301.32 602.54 Q1304.7 605.711 1304.7 611.128 Q1304.7 616.707 1301.22 619.808 Q1297.75 622.887 1291.43 622.887 Q1289.26 622.887 1286.99 622.517 Q1284.74 622.146 1282.33 621.406 L1282.33 616.707 Q1284.42 617.841 1286.64 618.396 Q1288.86 618.952 1291.34 618.952 Q1295.34 618.952 1297.68 616.845 Q1300.02 614.739 1300.02 611.128 Q1300.02 607.517 1297.68 605.41 Q1295.34 603.304 1291.34 603.304 Q1289.46 603.304 1287.59 603.721 Q1285.74 604.137 1283.79 605.017 L1283.79 587.656 Z\" fill=\"#000000\" fill-rule=\"nonzero\" fill-opacity=\"1\" /><path clip-path=\"url(#clip280)\" d=\"M1253.4 499.623 L1261.04 499.623 L1261.04 473.257 L1252.73 474.924 L1252.73 470.665 L1260.99 468.998 L1265.67 468.998 L1265.67 499.623 L1273.31 499.623 L1273.31 503.558 L1253.4 503.558 L1253.4 499.623 Z\" fill=\"#000000\" fill-rule=\"nonzero\" fill-opacity=\"1\" /><path clip-path=\"url(#clip280)\" d=\"M1292.75 472.077 Q1289.14 472.077 1287.31 475.642 Q1285.51 479.183 1285.51 486.313 Q1285.51 493.419 1287.31 496.984 Q1289.14 500.526 1292.75 500.526 Q1296.39 500.526 1298.19 496.984 Q1300.02 493.419 1300.02 486.313 Q1300.02 479.183 1298.19 475.642 Q1296.39 472.077 1292.75 472.077 M1292.75 468.373 Q1298.56 468.373 1301.62 472.979 Q1304.7 477.563 1304.7 486.313 Q1304.7 495.04 1301.62 499.646 Q1298.56 504.229 1292.75 504.229 Q1286.94 504.229 1283.86 499.646 Q1280.81 495.04 1280.81 486.313 Q1280.81 477.563 1283.86 472.979 Q1286.94 468.373 1292.75 468.373 Z\" fill=\"#000000\" fill-rule=\"nonzero\" fill-opacity=\"1\" /><path clip-path=\"url(#clip280)\" d=\"M1254.39 380.965 L1262.03 380.965 L1262.03 354.599 L1253.72 356.266 L1253.72 352.007 L1261.99 350.34 L1266.66 350.34 L1266.66 380.965 L1274.3 380.965 L1274.3 384.9 L1254.39 384.9 L1254.39 380.965 Z\" fill=\"#000000\" fill-rule=\"nonzero\" fill-opacity=\"1\" /><path clip-path=\"url(#clip280)\" d=\"M1283.79 350.34 L1302.15 350.34 L1302.15 354.275 L1288.08 354.275 L1288.08 362.748 Q1289.09 362.4 1290.11 362.238 Q1291.13 362.053 1292.15 362.053 Q1297.94 362.053 1301.32 365.224 Q1304.7 368.396 1304.7 373.812 Q1304.7 379.391 1301.22 382.493 Q1297.75 385.571 1291.43 385.571 Q1289.26 385.571 1286.99 385.201 Q1284.74 384.831 1282.33 384.09 L1282.33 379.391 Q1284.42 380.525 1286.64 381.081 Q1288.86 381.636 1291.34 381.636 Q1295.34 381.636 1297.68 379.53 Q1300.02 377.423 1300.02 373.812 Q1300.02 370.201 1297.68 368.095 Q1295.34 365.988 1291.34 365.988 Q1289.46 365.988 1287.59 366.405 Q1285.74 366.822 1283.79 367.701 L1283.79 350.34 Z\" fill=\"#000000\" fill-rule=\"nonzero\" fill-opacity=\"1\" /><path clip-path=\"url(#clip280)\" d=\"M1256.62 262.307 L1272.94 262.307 L1272.94 266.242 L1250.99 266.242 L1250.99 262.307 Q1253.65 259.553 1258.24 254.923 Q1262.84 250.27 1264.02 248.928 Q1266.27 246.405 1267.15 244.668 Q1268.05 242.909 1268.05 241.219 Q1268.05 238.465 1266.11 236.729 Q1264.19 234.993 1261.08 234.993 Q1258.89 234.993 1256.43 235.756 Q1254 236.52 1251.22 238.071 L1251.22 233.349 Q1254.05 232.215 1256.5 231.636 Q1258.96 231.057 1260.99 231.057 Q1266.36 231.057 1269.56 233.743 Q1272.75 236.428 1272.75 240.918 Q1272.75 243.048 1271.94 244.969 Q1271.15 246.867 1269.05 249.46 Q1268.47 250.131 1265.37 253.349 Q1262.27 256.543 1256.62 262.307 Z\" fill=\"#000000\" fill-rule=\"nonzero\" fill-opacity=\"1\" /><path clip-path=\"url(#clip280)\" d=\"M1292.75 234.761 Q1289.14 234.761 1287.31 238.326 Q1285.51 241.868 1285.51 248.997 Q1285.51 256.104 1287.31 259.668 Q1289.14 263.21 1292.75 263.21 Q1296.39 263.21 1298.19 259.668 Q1300.02 256.104 1300.02 248.997 Q1300.02 241.868 1298.19 238.326 Q1296.39 234.761 1292.75 234.761 M1292.75 231.057 Q1298.56 231.057 1301.62 235.664 Q1304.7 240.247 1304.7 248.997 Q1304.7 257.724 1301.62 262.33 Q1298.56 266.914 1292.75 266.914 Q1286.94 266.914 1283.86 262.33 Q1280.81 257.724 1280.81 248.997 Q1280.81 240.247 1283.86 235.664 Q1286.94 231.057 1292.75 231.057 Z\" fill=\"#000000\" fill-rule=\"nonzero\" fill-opacity=\"1\" /><path clip-path=\"url(#clip280)\" d=\"M1257.61 143.649 L1273.93 143.649 L1273.93 147.585 L1251.99 147.585 L1251.99 143.649 Q1254.65 140.895 1259.23 136.265 Q1263.84 131.612 1265.02 130.27 Q1267.27 127.747 1268.14 126.011 Q1269.05 124.251 1269.05 122.562 Q1269.05 119.807 1267.1 118.071 Q1265.18 116.335 1262.08 116.335 Q1259.88 116.335 1257.43 117.099 Q1255 117.863 1252.22 119.413 L1252.22 114.691 Q1255.04 113.557 1257.5 112.978 Q1259.95 112.4 1261.99 112.4 Q1267.36 112.4 1270.55 115.085 Q1273.75 117.77 1273.75 122.261 Q1273.75 124.39 1272.94 126.312 Q1272.15 128.21 1270.04 130.802 Q1269.46 131.474 1266.36 134.691 Q1263.26 137.886 1257.61 143.649 Z\" fill=\"#000000\" fill-rule=\"nonzero\" fill-opacity=\"1\" /><path clip-path=\"url(#clip280)\" d=\"M1283.79 113.025 L1302.15 113.025 L1302.15 116.96 L1288.08 116.96 L1288.08 125.432 Q1289.09 125.085 1290.11 124.923 Q1291.13 124.737 1292.15 124.737 Q1297.94 124.737 1301.32 127.909 Q1304.7 131.08 1304.7 136.497 Q1304.7 142.075 1301.22 145.177 Q1297.75 148.256 1291.43 148.256 Q1289.26 148.256 1286.99 147.885 Q1284.74 147.515 1282.33 146.774 L1282.33 142.075 Q1284.42 143.21 1286.64 143.765 Q1288.86 144.321 1291.34 144.321 Q1295.34 144.321 1297.68 142.214 Q1300.02 140.108 1300.02 136.497 Q1300.02 132.886 1297.68 130.779 Q1295.34 128.673 1291.34 128.673 Q1289.46 128.673 1287.59 129.089 Q1285.74 129.506 1283.79 130.386 L1283.79 113.025 Z\" fill=\"#000000\" fill-rule=\"nonzero\" fill-opacity=\"1\" /><g clip-path=\"url(#clip283)\">\n",
       "<image width=\"1012\" height=\"664\" xlink:href=\"data:image/png;base64,\n",
       "iVBORw0KGgoAAAANSUhEUgAAA/QAAAKYCAYAAADdZLP3AAAVc0lEQVR4nO3Z7+vvd13H8c/X89kv\n",
       "N3Uzk4wskUwSN6qR4KSJF9qCXQhXKpnl0FI5ZP5YMZewMmvohbZSWIrJSilQ+0GKEpMimG2YGzpP\n",
       "MfxRCuEyN526Hbedztm3y699r3Tgy57f+9nt9hc8ePO+8L6/nzubzXZ3AwAAAKQ8bnoAAAAAcPIE\n",
       "PQAAAAQJegAAAAgS9AAAABAk6AEAACBI0AMAAECQoAcAAIAgQQ8AAABBgh4AAACCBD0AAAAECXoA\n",
       "AAAIEvQAAAAQJOgBAAAgSNADAABAkKAHAACAIEEPAAAAQYIeAAAAggQ9AAAABAl6AAAACBL0AAAA\n",
       "ECToAQAAIEjQAwAAQJCgBwAAgCBBDwAAAEGCHgAAAIIEPQAAAAQJegAAAAgS9AAAABAk6AEAACBI\n",
       "0AMAAECQoAcAAIAgQQ8AAABBgh4AAACCBD0AAAAECXoAAAAIEvQAAAAQJOgBAAAgSNADAABAkKAH\n",
       "AACAIEEPAAAAQYIeAAAAggQ9AAAABAl6AAAACBL0AAAAECToAQAAIEjQAwAAQJCgBwAAgCBBDwAA\n",
       "AEGCHgAAAIIEPQAAAAQJegAAAAgS9AAAABAk6AEAACBI0AMAAECQoAcAAIAgQQ8AAABBgh4AAACC\n",
       "BD0AAAAECXoAAAAIEvQAAAAQJOgBAAAgSNADAABAkKAHAACAIEEPAAAAQYIeAAAAggQ9AAAABAl6\n",
       "AAAACBL0AAAAECToAQAAIEjQAwAAQJCgBwAAgCBBDwAAAEGCHgAAAIIEPQAAAAQJegAAAAgS9AAA\n",
       "ABAk6AEAACBI0AMAAECQoAcAAIAgQQ8AAABBgh4AAACCBD0AAAAECXoAAAAIEvQAAAAQJOgBAAAg\n",
       "SNADAABAkKAHAACAIEEPAAAAQYIeAAAAggQ9AAAABAl6AAAACBL0AAAAECToAQAAIEjQAwAAQNB2\n",
       "egDst5ue9+LpCYv3f/Fp0xMWH/r2DdMTAACAfeBCDwAAAEGCHgAAAIIEPQAAAAQJegAAAAgS9AAA\n",
       "ABAk6AEAACBI0AMAAECQoAcAAIAgQQ8AAABBgh4AAACCBD0AAAAECXoAAAAIEvQAAAAQJOgBAAAg\n",
       "SNADAABAkKAHAACAIEEPAAAAQYIeAAAAggQ9AAAABAl6AAAACBL0AAAAECToAQAAIEjQAwAAQNDO\n",
       "ZrPdnR4B++m+o78/PWFxxo1vm56wuPCqy6cn7HHk6EemJwAAQI4LPQAAAAQJegAAAAgS9AAAABAk\n",
       "6AEAACBI0AMAAECQoAcAAIAgQQ8AAABBgh4AAACCBD0AAAAECXoAAAAIEvQAAAAQJOgBAAAgSNAD\n",
       "AABAkKAHAACAIEEPAAAAQYIeAAAAggQ9AAAABAl6AAAACBL0AAAAECToAQAAIEjQAwAAQJCgBwAA\n",
       "gCBBDwAAAEHb6QGw3856/A9PT1gc/aXD0xMWT3/LsekJexyZHgAAAEEu9AAAABAk6AEAACBI0AMA\n",
       "AECQoAcAAIAgQQ8AAABBgh4AAACCBD0AAAAECXoAAAAIEvQAAAAQJOgBAAAgSNADAABAkKAHAACA\n",
       "IEEPAAAAQYIeAAAAggQ9AAAABAl6AAAACBL0AAAAECToAQAAIEjQAwAAQJCgBwAAgCBBDwAAAEGC\n",
       "HgAAAIK20wNgv33r166dnrB40nuvnJ6weM4T75iesMcn7p9eAHBwvOzcw9MTFh/+znumJyx2dx+e\n",
       "ngBwYLjQAwAAQJCgBwAAgCBBDwAAAEGCHgAAAIIEPQAAAAQJegAAAAgS9AAAABAk6AEAACBI0AMA\n",
       "AECQoAcAAIAgQQ8AAABBgh4AAACCBD0AAAAECXoAAAAIEvQAAAAQJOgBAAAgSNADAABAkKAHAACA\n",
       "IEEPAAAAQYIeAAAAggQ9AAAABAl6AAAACBL0AAAAELSdHgD77YIPPXl6wuLOs66dnvAIl00PAB7j\n",
       "nnbORdMTFl+5+o7pCYvjVz5jesLiLz961vSExUNHTp+esDj77fdOTwAew1zoAQAAIEjQAwAAQJCg\n",
       "BwAAgCBBDwAAAEGCHgAAAIIEPQAAAAQJegAAAAgS9AAAABAk6AEAACBI0AMAAECQoAcAAIAgQQ8A\n",
       "AABBgh4AAACCBD0AAAAECXoAAAAIEvQAAAAQJOgBAAAgSNADAABAkKAHAACAIEEPAAAAQYIeAAAA\n",
       "ggQ9AAAABAl6AAAACNpOD4D99oVf/6/pCYszXvED0xMW5338xPQE4FH01LN/enrCHv/8ot3pCYud\n",
       "q66bnrA4bXrAI5y4/GA9n83PH51esHj9+748PWHx7q/fMD0BeBS50AMAAECQoAcAAIAgQQ8AAABB\n",
       "gh4AAACCBD0AAAAECXoAAAAIEvQAAAAQJOgBAAAgSNADAABAkKAHAACAIEEPAAAAQYIeAAAAggQ9\n",
       "AAAABAl6AAAACBL0AAAAECToAQAAIEjQAwAAQJCgBwAAgCBBDwAAAEGCHgAAAIIEPQAAAAQJegAA\n",
       "AAgS9AAAABC0s9lsd6dHwH669eKfm56w+Kl/evH0hMWJhx+anrDH/373zukJi2++5jPTExbP/Nvb\n",
       "pidwEnY2O9MTFn/zEy+bnrDHZbe9aHrCYnf3xPSExfET909PWJy2fdL0hAPt0AcPT09YnPaqg/dp\n",
       "v7v78PQEOGW50AMAAECQoAcAAIAgQQ8AAABBgh4AAACCBD0AAAAECXoAAAAIEvQAAAAQJOgBAAAg\n",
       "SNADAABAkKAHAACAIEEPAAAAQYIeAAAAggQ9AAAABAl6AAAACBL0AAAAECToAQAAIEjQAwAAQJCg\n",
       "BwAAgCBBDwAAAEGCHgAAAIIEPQAAAAQJegAAAAjaTg+A/fbdBx4/PeFAO/S4M6Yn7HHirKdNT1i8\n",
       "9B+ePT3hEW6bHsBJ+LMff+X0hMVltz1/esKB90c/dsf0hMVbv/Le6QmL711z7vSExaFr3jk9YXHi\n",
       "V26YnrB401sP1vu82Ww21911sJ4RnEpc6AEAACBI0AMAAECQoAcAAIAgQQ8AAABBgh4AAACCBD0A\n",
       "AAAECXoAAAAIEvQAAAAQJOgBAAAgSNADAABAkKAHAACAIEEPAAAAQYIeAAAAggQ9AAAABAl6AAAA\n",
       "CBL0AAAAECToAQAAIEjQAwAAQJCgBwAAgCBBDwAAAEGCHgAAAIIEPQAAAAQJegAAAAjaTg+A/faL\n",
       "R45MT1jcs7l0esKB97h3XD89YXHb9+6dnkDYpT95+/SER3j+9IA9Hn7HldMTFtfe9ZTpCQfapz95\n",
       "8fSExUXXTC842N75u++ZnrDHuw6fOz1hcfzEt6cnwL5xoQcAAIAgQQ8AAABBgh4AAACCBD0AAAAE\n",
       "CXoAAAAIEvQAAAAQJOgBAAAgSNADAABAkKAHAACAIEEPAAAAQYIeAAAAggQ9AAAABAl6AAAACBL0\n",
       "AAAAECToAQAAIEjQAwAAQJCgBwAAgCBBDwAAAEGCHgAAAIIEPQAAAAQJegAAAAgS9AAAABAk6AEA\n",
       "ACBoOz0A4PQf+s70hMXp2++fnrA4dvzu6QmLnZ2D9S/4iie/bnrC4ilXfnp6wuKhb902PWGPS/7w\n",
       "8ukJi6MPfWB6woH2O587b3rC4h+/8FfTExaHnv3y6QmLh1/9p9MT9nj9790xPWFx/X/fMD0B9s3B\n",
       "+ioDAAAA/l8EPQAAAAQJegAAAAgS9AAAABAk6AEAACBI0AMAAECQoAcAAIAgQQ8AAABBgh4AAACC\n",
       "BD0AAAAECXoAAAAIEvQAAAAQJOgBAAAgSNADAABAkKAHAACAIEEPAAAAQYIeAAAAggQ9AAAABAl6\n",
       "AAAACBL0AAAAECToAQAAIEjQAwAAQNDOZrPdnR4B++kJZz5resLinvt/a3oCJ+nQh98wPWHxB1df\n",
       "MT1hcfVv3Dg9YfWmd00vWDz47c9NT1i87YKd6Ql7XHfXDdMTCLvzshdMT1g88+9/dXrCgbfznsPT\n",
       "ExbnvPHJ0xMWx47fPT2BMBd6AAAACBL0AAAAECToAQAAIEjQAwAAQJCgBwAAgCBBDwAAAEGCHgAA\n",
       "AIIEPQAAAAQJegAAAAgS9AAAABAk6AEAACBI0AMAAECQoAcAAIAgQQ8AAABBgh4AAACCBD0AAAAE\n",
       "CXoAAAAIEvQAAAAQJOgBAAAgSNADAABAkKAHAACAIEEPAAAAQYIeAAAAgnY2m+3u9AjYTzs72+kJ\n",
       "i3te9/TpCYtz3v2W6Qmwv67/zekFi/Pfdsn0hMUX7//Y9ATYV+ef/ZLpCYvbP/lv0xMWu8974/SE\n",
       "A+9fX/jR6QmLn/mXj09PIMyFHgAAAIIEPQAAAAQJegAAAAgS9AAAABAk6AEAACBI0AMAAECQoAcA\n",
       "AIAgQQ8AAABBgh4AAACCBD0AAAAECXoAAAAIEvQAAAAQJOgBAAAgSNADAABAkKAHAACAIEEPAAAA\n",
       "QYIeAAAAggQ9AAAABAl6AAAACBL0AAAAECToAQAAIEjQAwAAQJCgBwAAgKDt9ADYb7u7x6cnLL7z\n",
       "P983PWFxzvQATtrXXvq+6QmLb9573vSExQtufuL0hMWx4x+bngCntCNHPzI9YfHXr33F9ITFL3x2\n",
       "esHBd8EnnjM9YXH2U/99esLi6ENfnZ7ASXChBwAAgCBBDwAAAEGCHgAAAIIEPQAAAAQJegAAAAgS\n",
       "9AAAABAk6AEAACBI0AMAAECQoAcAAIAgQQ8AAABBgh4AAACCBD0AAAAECXoAAAAIEvQAAAAQJOgB\n",
       "AAAgSNADAABAkKAHAACAIEEPAAAAQYIeAAAAggQ9AAAABAl6AAAACBL0AAAAECToAQAAIGg7PQBO\n",
       "dR/67IXTExZvnh4Q8IHzb52esHjNnbdPT1jsbnanJwAcGG/4zzunJyxectNN0xP2ePiSt09PWJx5\n",
       "9o9OT1h84sLnTk9YvPCWr05P4CS40AMAAECQoAcAAIAgQQ8AAABBgh4AAACCBD0AAAAECXoAAAAI\n",
       "EvQAAAAQJOgBAAAgSNADAABAkKAHAACAIEEPAAAAQYIeAAAAggQ9AAAABAl6AAAACBL0AAAAECTo\n",
       "AQAAIEjQAwAAQJCgBwAAgCBBDwAAAEGCHgAAAIIEPQAAAAQJegAAAAjaTg+AU91ffOPr0xMWb54e\n",
       "EPCzz/389ITFmf/xg9MTFg8c+9r0BIAD4+6jt09PWLzylw9PT9jjxrunFxxspx06MT2BMBd6AAAA\n",
       "CBL0AAAAECToAQAAIEjQAwAAQJCgBwAAgCBBDwAAAEGCHgAAAIIEPQAAAAQJegAAAAgS9AAAABAk\n",
       "6AEAACBI0AMAAECQoAcAAIAgQQ8AAABBgh4AAACCBD0AAAAECXoAAAAIEvQAAAAQJOgBAAAgSNAD\n",
       "AABAkKAHAACAIEEPAAAAQYIeAAAAgrbTA+BU972d705PWDz0jU9NT9jjzC/fOj1h8SefumR6wuKB\n",
       "YzdMTwAg4qZjt0xP2GPnlpumJyx2L/rt6QmL5131mekJq5unB3AyXOgBAAAgSNADAABAkKAHAACA\n",
       "IEEPAAAAQYIeAAAAggQ9AAAABAl6AAAACBL0AAAAECToAQAAIEjQAwAAQJCgBwAAgCBBDwAAAEGC\n",
       "HgAAAIIEPQAAAAQJegAAAAgS9AAAABAk6AEAACBI0AMAAECQoAcAAIAgQQ8AAABBgh4AAACCBD0A\n",
       "AAAECXoAAAAI2tlstrvTI4BHz8VnvWp6wh6f3b15esLivge/ND0BAE4Z3zr8jOkJi7PfdfX0hAPt\n",
       "jO1rpydwElzoAQAAIEjQAwAAQJCgBwAAgCBBDwAAAEGCHgAAAIIEPQAAAAQJegAAAAgS9AAAABAk\n",
       "6AEAACBI0AMAAECQoAcAAIAgQQ8AAABBgh4AAACCBD0AAAAECXoAAAAIEvQAAAAQJOgBAAAgSNAD\n",
       "AABAkKAHAACAIEEPAAAAQYIeAAAAggQ9AAAABO1sNtvd6RG0Hd/98+kJnITtzhXTEwCAx5AnnPms\n",
       "6QmLu289b3rCYuf8V09PWJyxfe30BE6CCz0AAAAECXoAAAAIEvQAAAAQJOgBAAAgSNADAABAkKAH\n",
       "AACAIEEPAAAAQYIeAAAAggQ9AAAABAl6AAAACBL0AAAAECToAQAAIEjQAwAAQJCgBwAAgCBBDwAA\n",
       "AEGCHgAAAIIEPQAAAAQJegAAAAgS9AAAABAk6AEAACBI0AMAAECQoAcAAIAgQQ8AAABB2+kBAADA\n",
       "qeu+B780PWHxwPt/ZHrC4vF/PL2AMhd6AAAACBL0AAAAECToAQAAIEjQAwAAQJCgBwAAgCBBDwAA\n",
       "AEGCHgAAAIIEPQAAAAQJegAAAAgS9AAAABAk6AEAACBI0AMAAECQoAcAAIAgQQ8AAABBgh4AAACC\n",
       "BD0AAAAECXoAAAAIEvQAAAAQJOgBAAAgSNADAABAkKAHAACAIEEPAAAAQYIeAAAAgrbTAwAAAB4t\n",
       "L7/x0ukJi2s+/3fTEwhzoQcAAIAgQQ8AAABBgh4AAACCBD0AAAAECXoAAAAIEvQAAAAQJOgBAAAg\n",
       "SNADAABAkKAHAACAIEEPAAAAQYIeAAAAggQ9AAAABAl6AAAACBL0AAAAECToAQAAIEjQAwAAQJCg\n",
       "BwAAgCBBDwAAAEGCHgAAAIIEPQAAAAQJegAAAAgS9AAAABAk6AEAACBoZ7PZ7k6PAAAAAE6OCz0A\n",
       "AAAECXoAAAAIEvQAAAAQJOgBAAAgSNADAABAkKAHAACAIEEPAAAAQYIeAAAAggQ9AAAABAl6AAAA\n",
       "CBL0AAAAECToAQAAIEjQAwAAQJCgBwAAgCBBDwAAAEGCHgAAAIIEPQAAAAQJegAAAAgS9AAAABAk\n",
       "6AEAACBI0AMAAECQoAcAAIAgQQ8AAABBgh4AAACCBD0AAAAECXoAAAAIEvQAAAAQJOgBAAAgSNAD\n",
       "AABAkKAHAACAIEEPAAAAQYIeAAAAggQ9AAAABAl6AAAACBL0AAAAECToAQAAIEjQAwAAQJCgBwAA\n",
       "gCBBDwAAAEGCHgAAAIIEPQAAAAQJegAAAAgS9AAAABAk6AEAACBI0AMAAECQoAcAAIAgQQ8AAABB\n",
       "gh4AAACCBD0AAAAECXoAAAAIEvQAAAAQJOgBAAAgSNADAABAkKAHAACAIEEPAAAAQYIeAAAAggQ9\n",
       "AAAABAl6AAAACBL0AAAAECToAQAAIEjQAwAAQJCgBwAAgCBBDwAAAEGCHgAAAIIEPQAAAAQJegAA\n",
       "AAgS9AAAABAk6AEAACBI0AMAAECQoAcAAIAgQQ8AAABBgh4AAACCBD0AAAAECXoAAAAIEvQAAAAQ\n",
       "JOgBAAAgSNADAABAkKAHAACAIEEPAAAAQYIeAAAAggQ9AAAABAl6AAAACBL0AAAAECToAQAAIEjQ\n",
       "AwAAQJCgBwAAgCBBDwAAAEGCHgAAAIIEPQAAAAQJegAAAAgS9AAAABAk6AEAACBI0AMAAEDQ/wFL\n",
       "GR0u2/znfAAAAABJRU5ErkJggg==\n",
       "\" transform=\"translate(1341, 47)\"/>\n",
       "</g>\n",
       "</svg>\n"
      ],
      "text/html": [
       "<?xml version=\"1.0\" encoding=\"utf-8\"?>\n",
       "<svg xmlns=\"http://www.w3.org/2000/svg\" xmlns:xlink=\"http://www.w3.org/1999/xlink\" width=\"600\" height=\"200\" viewBox=\"0 0 2400 800\">\n",
       "<defs>\n",
       "  <clipPath id=\"clip330\">\n",
       "    <rect x=\"0\" y=\"0\" width=\"2400\" height=\"800\"/>\n",
       "  </clipPath>\n",
       "</defs>\n",
       "<path clip-path=\"url(#clip330)\" d=\"M0 800 L2400 800 L2400 0 L0 0  Z\" fill=\"#ffffff\" fill-rule=\"evenodd\" fill-opacity=\"1\"/>\n",
       "<defs>\n",
       "  <clipPath id=\"clip331\">\n",
       "    <rect x=\"480\" y=\"0\" width=\"1681\" height=\"800\"/>\n",
       "  </clipPath>\n",
       "</defs>\n",
       "<path clip-path=\"url(#clip330)\" d=\"M140.696 711.728 L1152.76 711.728 L1152.76 47.2441 L140.696 47.2441  Z\" fill=\"#ffffff\" fill-rule=\"evenodd\" fill-opacity=\"1\"/>\n",
       "<defs>\n",
       "  <clipPath id=\"clip332\">\n",
       "    <rect x=\"140\" y=\"47\" width=\"1013\" height=\"665\"/>\n",
       "  </clipPath>\n",
       "</defs>\n",
       "<polyline clip-path=\"url(#clip332)\" style=\"stroke:#000000; stroke-linecap:round; stroke-linejoin:round; stroke-width:2; stroke-opacity:0.1; fill:none\" points=\"303.348,711.728 303.348,47.2441 \"/>\n",
       "<polyline clip-path=\"url(#clip332)\" style=\"stroke:#000000; stroke-linecap:round; stroke-linejoin:round; stroke-width:2; stroke-opacity:0.1; fill:none\" points=\"484.073,711.728 484.073,47.2441 \"/>\n",
       "<polyline clip-path=\"url(#clip332)\" style=\"stroke:#000000; stroke-linecap:round; stroke-linejoin:round; stroke-width:2; stroke-opacity:0.1; fill:none\" points=\"664.798,711.728 664.798,47.2441 \"/>\n",
       "<polyline clip-path=\"url(#clip332)\" style=\"stroke:#000000; stroke-linecap:round; stroke-linejoin:round; stroke-width:2; stroke-opacity:0.1; fill:none\" points=\"845.523,711.728 845.523,47.2441 \"/>\n",
       "<polyline clip-path=\"url(#clip332)\" style=\"stroke:#000000; stroke-linecap:round; stroke-linejoin:round; stroke-width:2; stroke-opacity:0.1; fill:none\" points=\"1026.25,711.728 1026.25,47.2441 \"/>\n",
       "<polyline clip-path=\"url(#clip330)\" style=\"stroke:#000000; stroke-linecap:round; stroke-linejoin:round; stroke-width:4; stroke-opacity:1; fill:none\" points=\"140.696,711.728 1152.76,711.728 \"/>\n",
       "<polyline clip-path=\"url(#clip330)\" style=\"stroke:#000000; stroke-linecap:round; stroke-linejoin:round; stroke-width:4; stroke-opacity:1; fill:none\" points=\"303.348,711.728 303.348,692.83 \"/>\n",
       "<polyline clip-path=\"url(#clip330)\" style=\"stroke:#000000; stroke-linecap:round; stroke-linejoin:round; stroke-width:4; stroke-opacity:1; fill:none\" points=\"484.073,711.728 484.073,692.83 \"/>\n",
       "<polyline clip-path=\"url(#clip330)\" style=\"stroke:#000000; stroke-linecap:round; stroke-linejoin:round; stroke-width:4; stroke-opacity:1; fill:none\" points=\"664.798,711.728 664.798,692.83 \"/>\n",
       "<polyline clip-path=\"url(#clip330)\" style=\"stroke:#000000; stroke-linecap:round; stroke-linejoin:round; stroke-width:4; stroke-opacity:1; fill:none\" points=\"845.523,711.728 845.523,692.83 \"/>\n",
       "<polyline clip-path=\"url(#clip330)\" style=\"stroke:#000000; stroke-linecap:round; stroke-linejoin:round; stroke-width:4; stroke-opacity:1; fill:none\" points=\"1026.25,711.728 1026.25,692.83 \"/>\n",
       "<path clip-path=\"url(#clip330)\" d=\"M293.626 739.568 L311.982 739.568 L311.982 743.503 L297.908 743.503 L297.908 751.975 Q298.927 751.628 299.945 751.466 Q300.964 751.281 301.982 751.281 Q307.769 751.281 311.149 754.452 Q314.529 757.623 314.529 763.04 Q314.529 768.619 311.056 771.72 Q307.584 774.799 301.265 774.799 Q299.089 774.799 296.82 774.429 Q294.575 774.058 292.168 773.318 L292.168 768.619 Q294.251 769.753 296.473 770.308 Q298.695 770.864 301.172 770.864 Q305.177 770.864 307.515 768.758 Q309.853 766.651 309.853 763.04 Q309.853 759.429 307.515 757.322 Q305.177 755.216 301.172 755.216 Q299.297 755.216 297.422 755.633 Q295.57 756.049 293.626 756.929 L293.626 739.568 Z\" fill=\"#000000\" fill-rule=\"nonzero\" fill-opacity=\"1\" /><path clip-path=\"url(#clip330)\" d=\"M458.761 770.193 L466.4 770.193 L466.4 743.827 L458.09 745.494 L458.09 741.235 L466.353 739.568 L471.029 739.568 L471.029 770.193 L478.668 770.193 L478.668 774.128 L458.761 774.128 L458.761 770.193 Z\" fill=\"#000000\" fill-rule=\"nonzero\" fill-opacity=\"1\" /><path clip-path=\"url(#clip330)\" d=\"M498.112 742.647 Q494.501 742.647 492.673 746.211 Q490.867 749.753 490.867 756.883 Q490.867 763.989 492.673 767.554 Q494.501 771.095 498.112 771.095 Q501.747 771.095 503.552 767.554 Q505.381 763.989 505.381 756.883 Q505.381 749.753 503.552 746.211 Q501.747 742.647 498.112 742.647 M498.112 738.943 Q503.923 738.943 506.978 743.549 Q510.057 748.133 510.057 756.883 Q510.057 765.609 506.978 770.216 Q503.923 774.799 498.112 774.799 Q492.302 774.799 489.224 770.216 Q486.168 765.609 486.168 756.883 Q486.168 748.133 489.224 743.549 Q492.302 738.943 498.112 738.943 Z\" fill=\"#000000\" fill-rule=\"nonzero\" fill-opacity=\"1\" /><path clip-path=\"url(#clip330)\" d=\"M639.984 770.193 L647.622 770.193 L647.622 743.827 L639.312 745.494 L639.312 741.235 L647.576 739.568 L652.252 739.568 L652.252 770.193 L659.891 770.193 L659.891 774.128 L639.984 774.128 L639.984 770.193 Z\" fill=\"#000000\" fill-rule=\"nonzero\" fill-opacity=\"1\" /><path clip-path=\"url(#clip330)\" d=\"M669.382 739.568 L687.738 739.568 L687.738 743.503 L673.664 743.503 L673.664 751.975 Q674.682 751.628 675.701 751.466 Q676.719 751.281 677.738 751.281 Q683.525 751.281 686.905 754.452 Q690.284 757.623 690.284 763.04 Q690.284 768.619 686.812 771.72 Q683.34 774.799 677.02 774.799 Q674.844 774.799 672.576 774.429 Q670.331 774.058 667.923 773.318 L667.923 768.619 Q670.007 769.753 672.229 770.308 Q674.451 770.864 676.928 770.864 Q680.932 770.864 683.27 768.758 Q685.608 766.651 685.608 763.04 Q685.608 759.429 683.27 757.322 Q680.932 755.216 676.928 755.216 Q675.053 755.216 673.178 755.633 Q671.326 756.049 669.382 756.929 L669.382 739.568 Z\" fill=\"#000000\" fill-rule=\"nonzero\" fill-opacity=\"1\" /><path clip-path=\"url(#clip330)\" d=\"M824.297 770.193 L840.616 770.193 L840.616 774.128 L818.672 774.128 L818.672 770.193 Q821.334 767.438 825.917 762.808 Q830.523 758.156 831.704 756.813 Q833.949 754.29 834.829 752.554 Q835.732 750.795 835.732 749.105 Q835.732 746.35 833.787 744.614 Q831.866 742.878 828.764 742.878 Q826.565 742.878 824.111 743.642 Q821.681 744.406 818.903 745.957 L818.903 741.235 Q821.727 740.1 824.181 739.522 Q826.635 738.943 828.672 738.943 Q834.042 738.943 837.236 741.628 Q840.431 744.313 840.431 748.804 Q840.431 750.934 839.621 752.855 Q838.834 754.753 836.727 757.346 Q836.148 758.017 833.047 761.234 Q829.945 764.429 824.297 770.193 Z\" fill=\"#000000\" fill-rule=\"nonzero\" fill-opacity=\"1\" /><path clip-path=\"url(#clip330)\" d=\"M860.431 742.647 Q856.82 742.647 854.991 746.211 Q853.185 749.753 853.185 756.883 Q853.185 763.989 854.991 767.554 Q856.82 771.095 860.431 771.095 Q864.065 771.095 865.87 767.554 Q867.699 763.989 867.699 756.883 Q867.699 749.753 865.87 746.211 Q864.065 742.647 860.431 742.647 M860.431 738.943 Q866.241 738.943 869.296 743.549 Q872.375 748.133 872.375 756.883 Q872.375 765.609 869.296 770.216 Q866.241 774.799 860.431 774.799 Q854.62 774.799 851.542 770.216 Q848.486 765.609 848.486 756.883 Q848.486 748.133 851.542 743.549 Q854.62 738.943 860.431 738.943 Z\" fill=\"#000000\" fill-rule=\"nonzero\" fill-opacity=\"1\" /><path clip-path=\"url(#clip330)\" d=\"M1005.52 770.193 L1021.84 770.193 L1021.84 774.128 L999.894 774.128 L999.894 770.193 Q1002.56 767.438 1007.14 762.808 Q1011.75 758.156 1012.93 756.813 Q1015.17 754.29 1016.05 752.554 Q1016.95 750.795 1016.95 749.105 Q1016.95 746.35 1015.01 744.614 Q1013.09 742.878 1009.99 742.878 Q1007.79 742.878 1005.33 743.642 Q1002.9 744.406 1000.13 745.957 L1000.13 741.235 Q1002.95 740.1 1005.4 739.522 Q1007.86 738.943 1009.89 738.943 Q1015.26 738.943 1018.46 741.628 Q1021.65 744.313 1021.65 748.804 Q1021.65 750.934 1020.84 752.855 Q1020.06 754.753 1017.95 757.346 Q1017.37 758.017 1014.27 761.234 Q1011.17 764.429 1005.52 770.193 Z\" fill=\"#000000\" fill-rule=\"nonzero\" fill-opacity=\"1\" /><path clip-path=\"url(#clip330)\" d=\"M1031.7 739.568 L1050.06 739.568 L1050.06 743.503 L1035.98 743.503 L1035.98 751.975 Q1037 751.628 1038.02 751.466 Q1039.04 751.281 1040.06 751.281 Q1045.84 751.281 1049.22 754.452 Q1052.6 757.623 1052.6 763.04 Q1052.6 768.619 1049.13 771.72 Q1045.66 774.799 1039.34 774.799 Q1037.16 774.799 1034.89 774.429 Q1032.65 774.058 1030.24 773.318 L1030.24 768.619 Q1032.32 769.753 1034.55 770.308 Q1036.77 770.864 1039.25 770.864 Q1043.25 770.864 1045.59 768.758 Q1047.93 766.651 1047.93 763.04 Q1047.93 759.429 1045.59 757.322 Q1043.25 755.216 1039.25 755.216 Q1037.37 755.216 1035.5 755.633 Q1033.64 756.049 1031.7 756.929 L1031.7 739.568 Z\" fill=\"#000000\" fill-rule=\"nonzero\" fill-opacity=\"1\" /><polyline clip-path=\"url(#clip332)\" style=\"stroke:#000000; stroke-linecap:round; stroke-linejoin:round; stroke-width:2; stroke-opacity:0.1; fill:none\" points=\"140.696,604.936 1152.76,604.936 \"/>\n",
       "<polyline clip-path=\"url(#clip332)\" style=\"stroke:#000000; stroke-linecap:round; stroke-linejoin:round; stroke-width:2; stroke-opacity:0.1; fill:none\" points=\"140.696,486.278 1152.76,486.278 \"/>\n",
       "<polyline clip-path=\"url(#clip332)\" style=\"stroke:#000000; stroke-linecap:round; stroke-linejoin:round; stroke-width:2; stroke-opacity:0.1; fill:none\" points=\"140.696,367.62 1152.76,367.62 \"/>\n",
       "<polyline clip-path=\"url(#clip332)\" style=\"stroke:#000000; stroke-linecap:round; stroke-linejoin:round; stroke-width:2; stroke-opacity:0.1; fill:none\" points=\"140.696,248.962 1152.76,248.962 \"/>\n",
       "<polyline clip-path=\"url(#clip332)\" style=\"stroke:#000000; stroke-linecap:round; stroke-linejoin:round; stroke-width:2; stroke-opacity:0.1; fill:none\" points=\"140.696,130.305 1152.76,130.305 \"/>\n",
       "<polyline clip-path=\"url(#clip330)\" style=\"stroke:#000000; stroke-linecap:round; stroke-linejoin:round; stroke-width:4; stroke-opacity:1; fill:none\" points=\"140.696,711.728 140.696,47.2441 \"/>\n",
       "<polyline clip-path=\"url(#clip330)\" style=\"stroke:#000000; stroke-linecap:round; stroke-linejoin:round; stroke-width:4; stroke-opacity:1; fill:none\" points=\"140.696,604.936 159.593,604.936 \"/>\n",
       "<polyline clip-path=\"url(#clip330)\" style=\"stroke:#000000; stroke-linecap:round; stroke-linejoin:round; stroke-width:4; stroke-opacity:1; fill:none\" points=\"140.696,486.278 159.593,486.278 \"/>\n",
       "<polyline clip-path=\"url(#clip330)\" style=\"stroke:#000000; stroke-linecap:round; stroke-linejoin:round; stroke-width:4; stroke-opacity:1; fill:none\" points=\"140.696,367.62 159.593,367.62 \"/>\n",
       "<polyline clip-path=\"url(#clip330)\" style=\"stroke:#000000; stroke-linecap:round; stroke-linejoin:round; stroke-width:4; stroke-opacity:1; fill:none\" points=\"140.696,248.962 159.593,248.962 \"/>\n",
       "<polyline clip-path=\"url(#clip330)\" style=\"stroke:#000000; stroke-linecap:round; stroke-linejoin:round; stroke-width:4; stroke-opacity:1; fill:none\" points=\"140.696,130.305 159.593,130.305 \"/>\n",
       "<path clip-path=\"url(#clip330)\" d=\"M83.7929 587.656 L102.149 587.656 L102.149 591.591 L88.0753 591.591 L88.0753 600.063 Q89.0938 599.716 90.1123 599.554 Q91.1308 599.369 92.1493 599.369 Q97.9363 599.369 101.316 602.54 Q104.696 605.711 104.696 611.128 Q104.696 616.707 101.223 619.808 Q97.7511 622.887 91.4317 622.887 Q89.2558 622.887 86.9873 622.517 Q84.7419 622.146 82.3346 621.406 L82.3346 616.707 Q84.4179 617.841 86.6401 618.396 Q88.8623 618.952 91.3391 618.952 Q95.3437 618.952 97.6817 616.845 Q100.02 614.739 100.02 611.128 Q100.02 607.517 97.6817 605.41 Q95.3437 603.304 91.3391 603.304 Q89.4641 603.304 87.5892 603.721 Q85.7373 604.137 83.7929 605.017 L83.7929 587.656 Z\" fill=\"#000000\" fill-rule=\"nonzero\" fill-opacity=\"1\" /><path clip-path=\"url(#clip330)\" d=\"M53.3995 499.623 L61.0384 499.623 L61.0384 473.257 L52.7282 474.924 L52.7282 470.665 L60.9921 468.998 L65.668 468.998 L65.668 499.623 L73.3068 499.623 L73.3068 503.558 L53.3995 503.558 L53.3995 499.623 Z\" fill=\"#000000\" fill-rule=\"nonzero\" fill-opacity=\"1\" /><path clip-path=\"url(#clip330)\" d=\"M92.7512 472.077 Q89.1401 472.077 87.3114 475.642 Q85.5058 479.183 85.5058 486.313 Q85.5058 493.419 87.3114 496.984 Q89.1401 500.526 92.7512 500.526 Q96.3854 500.526 98.1909 496.984 Q100.02 493.419 100.02 486.313 Q100.02 479.183 98.1909 475.642 Q96.3854 472.077 92.7512 472.077 M92.7512 468.373 Q98.5613 468.373 101.617 472.979 Q104.696 477.563 104.696 486.313 Q104.696 495.04 101.617 499.646 Q98.5613 504.229 92.7512 504.229 Q86.941 504.229 83.8623 499.646 Q80.8068 495.04 80.8068 486.313 Q80.8068 477.563 83.8623 472.979 Q86.941 468.373 92.7512 468.373 Z\" fill=\"#000000\" fill-rule=\"nonzero\" fill-opacity=\"1\" /><path clip-path=\"url(#clip330)\" d=\"M54.3949 380.965 L62.0337 380.965 L62.0337 354.599 L53.7236 356.266 L53.7236 352.007 L61.9874 350.34 L66.6633 350.34 L66.6633 380.965 L74.3022 380.965 L74.3022 384.9 L54.3949 384.9 L54.3949 380.965 Z\" fill=\"#000000\" fill-rule=\"nonzero\" fill-opacity=\"1\" /><path clip-path=\"url(#clip330)\" d=\"M83.7929 350.34 L102.149 350.34 L102.149 354.275 L88.0753 354.275 L88.0753 362.748 Q89.0938 362.4 90.1123 362.238 Q91.1308 362.053 92.1493 362.053 Q97.9363 362.053 101.316 365.224 Q104.696 368.396 104.696 373.812 Q104.696 379.391 101.223 382.493 Q97.7511 385.571 91.4317 385.571 Q89.2558 385.571 86.9873 385.201 Q84.7419 384.831 82.3346 384.09 L82.3346 379.391 Q84.4179 380.525 86.6401 381.081 Q88.8623 381.636 91.3391 381.636 Q95.3437 381.636 97.6817 379.53 Q100.02 377.423 100.02 373.812 Q100.02 370.201 97.6817 368.095 Q95.3437 365.988 91.3391 365.988 Q89.4641 365.988 87.5892 366.405 Q85.7373 366.822 83.7929 367.701 L83.7929 350.34 Z\" fill=\"#000000\" fill-rule=\"nonzero\" fill-opacity=\"1\" /><path clip-path=\"url(#clip330)\" d=\"M56.6171 262.307 L72.9365 262.307 L72.9365 266.242 L50.9921 266.242 L50.9921 262.307 Q53.6541 259.553 58.2375 254.923 Q62.8439 250.27 64.0245 248.928 Q66.2698 246.405 67.1494 244.668 Q68.0522 242.909 68.0522 241.219 Q68.0522 238.465 66.1078 236.729 Q64.1865 234.993 61.0847 234.993 Q58.8856 234.993 56.4319 235.756 Q54.0014 236.52 51.2236 238.071 L51.2236 233.349 Q54.0477 232.215 56.5014 231.636 Q58.955 231.057 60.9921 231.057 Q66.3624 231.057 69.5568 233.743 Q72.7513 236.428 72.7513 240.918 Q72.7513 243.048 71.9411 244.969 Q71.1541 246.867 69.0476 249.46 Q68.4689 250.131 65.367 253.349 Q62.2652 256.543 56.6171 262.307 Z\" fill=\"#000000\" fill-rule=\"nonzero\" fill-opacity=\"1\" /><path clip-path=\"url(#clip330)\" d=\"M92.7512 234.761 Q89.1401 234.761 87.3114 238.326 Q85.5058 241.868 85.5058 248.997 Q85.5058 256.104 87.3114 259.668 Q89.1401 263.21 92.7512 263.21 Q96.3854 263.21 98.1909 259.668 Q100.02 256.104 100.02 248.997 Q100.02 241.868 98.1909 238.326 Q96.3854 234.761 92.7512 234.761 M92.7512 231.057 Q98.5613 231.057 101.617 235.664 Q104.696 240.247 104.696 248.997 Q104.696 257.724 101.617 262.33 Q98.5613 266.914 92.7512 266.914 Q86.941 266.914 83.8623 262.33 Q80.8068 257.724 80.8068 248.997 Q80.8068 240.247 83.8623 235.664 Q86.941 231.057 92.7512 231.057 Z\" fill=\"#000000\" fill-rule=\"nonzero\" fill-opacity=\"1\" /><path clip-path=\"url(#clip330)\" d=\"M57.6125 143.649 L73.9318 143.649 L73.9318 147.585 L51.9875 147.585 L51.9875 143.649 Q54.6495 140.895 59.2328 136.265 Q63.8393 131.612 65.0198 130.27 Q67.2652 127.747 68.1448 126.011 Q69.0476 124.251 69.0476 122.562 Q69.0476 119.807 67.1032 118.071 Q65.1819 116.335 62.08 116.335 Q59.881 116.335 57.4273 117.099 Q54.9967 117.863 52.219 119.413 L52.219 114.691 Q55.043 113.557 57.4967 112.978 Q59.9504 112.4 61.9874 112.4 Q67.3578 112.4 70.5522 115.085 Q73.7466 117.77 73.7466 122.261 Q73.7466 124.39 72.9365 126.312 Q72.1494 128.21 70.0429 130.802 Q69.4642 131.474 66.3624 134.691 Q63.2606 137.886 57.6125 143.649 Z\" fill=\"#000000\" fill-rule=\"nonzero\" fill-opacity=\"1\" /><path clip-path=\"url(#clip330)\" d=\"M83.7929 113.025 L102.149 113.025 L102.149 116.96 L88.0753 116.96 L88.0753 125.432 Q89.0938 125.085 90.1123 124.923 Q91.1308 124.737 92.1493 124.737 Q97.9363 124.737 101.316 127.909 Q104.696 131.08 104.696 136.497 Q104.696 142.075 101.223 145.177 Q97.7511 148.256 91.4317 148.256 Q89.2558 148.256 86.9873 147.885 Q84.7419 147.515 82.3346 146.774 L82.3346 142.075 Q84.4179 143.21 86.6401 143.765 Q88.8623 144.321 91.3391 144.321 Q95.3437 144.321 97.6817 142.214 Q100.02 140.108 100.02 136.497 Q100.02 132.886 97.6817 130.779 Q95.3437 128.673 91.3391 128.673 Q89.4641 128.673 87.5892 129.089 Q85.7373 129.506 83.7929 130.386 L83.7929 113.025 Z\" fill=\"#000000\" fill-rule=\"nonzero\" fill-opacity=\"1\" /><g clip-path=\"url(#clip332)\">\n",
       "<image width=\"1012\" height=\"664\" xlink:href=\"data:image/png;base64,\n",
       "iVBORw0KGgoAAAANSUhEUgAAA/QAAAKYCAYAAADdZLP3AAAVZElEQVR4nO3Z/evvd13H8c93++x6\n",
       "6rZMWmSJZJI4qUaCSoo/NIP9EK5UMkvRUjlkXqzQJayWNfSHtlI4TUxGRsG0C1KUmBTBbMPcmHPF\n",
       "8KIUQjM3d6E7uzids28/v/b9pQNf9vzej7fbX/DgzfuH9/393NlstrsbAAAAIOWU6QEAAADAiRP0\n",
       "AAAAECToAQAAIEjQAwAAQJCgBwAAgCBBDwAAAEGCHgAAAIIEPQAAAAQJegAAAAgS9AAAABAk6AEA\n",
       "ACBI0AMAAECQoAcAAIAgQQ8AAABBgh4AAACCBD0AAAAECXoAAAAIEvQAAAAQJOgBAAAgSNADAABA\n",
       "kKAHAACAIEEPAAAAQYIeAAAAggQ9AAAABAl6AAAACBL0AAAAECToAQAAIEjQAwAAQJCgBwAAgCBB\n",
       "DwAAAEGCHgAAAIIEPQAAAAQJegAAAAgS9AAAABAk6AEAACBI0AMAAECQoAcAAIAgQQ8AAABBgh4A\n",
       "AACCBD0AAAAECXoAAAAIEvQAAAAQJOgBAAAgSNADAABAkKAHAACAIEEPAAAAQYIeAAAAggQ9AAAA\n",
       "BAl6AAAACBL0AAAAECToAQAAIEjQAwAAQJCgBwAAgCBBDwAAAEGCHgAAAIIEPQAAAAQJegAAAAgS\n",
       "9AAAABAk6AEAACBI0AMAAECQoAcAAIAgQQ8AAABBgh4AAACCBD0AAAAECXoAAAAIEvQAAAAQJOgB\n",
       "AAAgSNADAABAkKAHAACAIEEPAAAAQYIeAAAAggQ9AAAABAl6AAAACBL0AAAAECToAQAAIEjQAwAA\n",
       "QJCgBwAAgCBBDwAAAEGCHgAAAIIEPQAAAAQJegAAAAgS9AAAABAk6AEAACBI0AMAAECQoAcAAIAg\n",
       "QQ8AAABBgh4AAACCBD0AAAAECXoAAAAIEvQAAAAQJOgBAAAgSNADAABAkKAHAACAIEEPAAAAQdvp\n",
       "AbDfbnz+y6cnLD78pQunJyxuuP/w9AQAAGAfuNADAABAkKAHAACAIEEPAAAAQYIeAAAAggQ9AAAA\n",
       "BAl6AAAACBL0AAAAECToAQAAIEjQAwAAQJCgBwAAgCBBDwAAAEGCHgAAAIIEPQAAAAQJegAAAAgS\n",
       "9AAAABAk6AEAACBI0AMAAECQoAcAAIAgQQ8AAABBgh4AAACCBD0AAAAECXoAAAAIEvQAAAAQtLPZ\n",
       "bHenR8B++u6R35+esDjj+qumJywufudl0xP2uPPIx6YnAABAjgs9AAAABAl6AAAACBL0AAAAECTo\n",
       "AQAAIEjQAwAAQJCgBwAAgCBBDwAAAEGCHgAAAIIEPQAAAAQJegAAAAgS9AAAABAk6AEAACBI0AMA\n",
       "AECQoAcAAIAgQQ8AAABBgh4AAACCBD0AAAAECXoAAAAIEvQAAAAQJOgBAAAgSNADAABAkKAHAACA\n",
       "IEEPAAAAQdvpAbDfzjr7h6cnLI780qHpCYunv+vo9IQ97pweAAAAQS70AAAAECToAQAAIEjQAwAA\n",
       "QJCgBwAAgCBBDwAAAEGCHgAAAIIEPQAAAAQJegAAAAgS9AAAABAk6AEAACBI0AMAAECQoAcAAIAg\n",
       "QQ8AAABBgh4AAACCBD0AAAAECXoAAAAIEvQAAAAQJOgBAAAgSNADAABAkKAHAACAIEEPAAAAQYIe\n",
       "AAAAgrbTA2C/3ftrV09PWDzlg5dPT1g858l3TE/Y41MPTi8AODhedd6h6QmLjz5w3fSExe7uY9MT\n",
       "AA4MF3oAAAAIEvQAAAAQJOgBAAAgSNADAABAkKAHAACAIEEPAAAAQYIeAAAAggQ9AAAABAl6AAAA\n",
       "CBL0AAAAECToAQAAIEjQAwAAQJCgBwAAgCBBDwAAAEGCHgAAAIIEPQAAAAQJegAAAAgS9AAAABAk\n",
       "6AEAACBI0AMAAECQoAcAAIAgQQ8AAABBgh4AAACCttMDYL8974YLpics7jrr6ukJj3Pp9ADge9yF\n",
       "575wesLiq1fcMT1hcezyZ0xPWPzlx8+anrB49M7TpycsznnPfdMTgO9hLvQAAAAQJOgBAAAgSNAD\n",
       "AABAkKAHAACAIEEPAAAAQYIeAAAAggQ9AAAABAl6AAAACBL0AAAAECToAQAAIEjQAwAAQJCgBwAA\n",
       "gCBBDwAAAEGCHgAAAIIEPQAAAAQJegAAAAgS9AAAABAk6AEAACBI0AMAAECQoAcAAIAgQQ8AAABB\n",
       "gh4AAACCBD0AAAAEbacHwH774q//1/SExRmv+YHpCYvzP3l8egLwBHraOT89PWGPf37p7vSExc47\n",
       "r5mesDhtesDjHL/sYD2fzc8fmV6weMuHvjI9YfGBbx6engA8gVzoAQAAIEjQAwAAQJCgBwAAgCBB\n",
       "DwAAAEGCHgAAAIIEPQAAAAQJegAAAAgS9AAAABAk6AEAACBI0AMAAECQoAcAAIAgQQ8AAABBgh4A\n",
       "AACCBD0AAAAECXoAAAAIEvQAAAAQJOgBAAAgSNADAABAkKAHAACAIEEPAAAAQYIeAAAAggQ9AAAA\n",
       "BAl6AAAACNrZbLa70yNgP93y4p+bnrD4qX96+fSExfHHHp2esMf/fueu6QmLb7/xc9MTFs/821un\n",
       "J3ACdjY70xMWf/MTr5qesMelt750esJid/f49ITFseMPTk9YnLZ9yvSEA+3Uvzg0PWFx2usP3qf9\n",
       "7u5j0xPgpOVCDwAAAEGCHgAAAIIEPQAAAAQJegAAAAgS9AAAABAk6AEAACBI0AMAAECQoAcAAIAg\n",
       "QQ8AAABBgh4AAACCBD0AAAAECXoAAAAIEvQAAAAQJOgBAAAgSNADAABAkKAHAACAIEEPAAAAQYIe\n",
       "AAAAggQ9AAAABAl6AAAACBL0AAAAECToAQAAIGg7PQD223cePnt6woF26ilnTE/Y4/hZF05PWLzy\n",
       "H549PeFxbp0ewAn4sx9/7fSExaW3vmB6woH3Rz92x/SExbu/+sHpCYuHrjxvesLi1CvfNz1hcfxX\n",
       "Dk9PWLz93Qfrfd5sNptrvnGwnhGcTFzoAQAAIEjQAwAAQJCgBwAAgCBBDwAAAEGCHgAAAIIEPQAA\n",
       "AAQJegAAAAgS9AAAABAk6AEAACBI0AMAAECQoAcAAIAgQQ8AAABBgh4AAACCBD0AAAAECXoAAAAI\n",
       "EvQAAAAQJOgBAAAgSNADAABAkKAHAACAIEEPAAAAQYIeAAAAggQ9AAAABAl6AAAACNpOD4D99ot3\n",
       "3jk9YXHP5mXTEw68U9577fSExa0P3Tc9gbCX/eRt0xMe5wXTA/Z47L2XT09YXP2Np05PONA+++kX\n",
       "T09YvPDK6QUH2/t+97rpCXu8/9B50xMWx47fPz0B9o0LPQAAAAQJegAAAAgS9AAAABAk6AEAACBI\n",
       "0AMAAECQoAcAAIAgQQ8AAABBgh4AAACCBD0AAAAECXoAAAAIEvQAAAAQJOgBAAAgSNADAABAkKAH\n",
       "AACAIEEPAAAAQYIeAAAAggQ9AAAABAl6AAAACBL0AAAAECToAQAAIEjQAwAAQJCgBwAAgCBBDwAA\n",
       "AEHb6QEAp//QA9MTFqdvv396wuLosbunJyx2dg7Wv+DXXfDm6QmLp17+2ekJi0fvvXV6wh6X/OFl\n",
       "0xMWRx79yPSEA+13Pn/+9ITFP37xr6YnLE599qunJywee8OfTk/Y4y2/d8f0hMW1/314egLsm4P1\n",
       "VQYAAAD8vwh6AAAACBL0AAAAECToAQAAIEjQAwAAQJCgBwAAgCBBDwAAAEGCHgAAAIIEPQAAAAQJ\n",
       "egAAAAgS9AAAABAk6AEAACBI0AMAAECQoAcAAIAgQQ8AAABBgh4AAACCBD0AAAAECXoAAAAIEvQA\n",
       "AAAQJOgBAAAgSNADAABAkKAHAACAoJ3NZrs7PQL205POfNb0hMU9D/7W9ARO0Kkffev0hMUfXPG6\n",
       "6QmLK37j+ukJq7e/f3rB4pH7Pz89YXHV83amJ+xxzTcOT08g7K5LXzQ9YfHMv//V6QkH3s51h6Yn\n",
       "LM592wXTExZHj909PYEwF3oAAAAIEvQAAAAQJOgBAAAgSNADAABAkKAHAACAIEEPAAAAQYIeAAAA\n",
       "ggQ9AAAABAl6AAAACBL0AAAAECToAQAAIEjQAwAAQJCgBwAAgCBBDwAAAEGCHgAAAIIEPQAAAAQJ\n",
       "egAAAAgS9AAAABAk6AEAACBI0AMAAECQoAcAAIAgQQ8AAABBgh4AAACCdjab7e70CNhPOzvb6QmL\n",
       "e9789OkJi3M/8K7pCbC/rv3N6QWLi666ZHrC4ksPfmJ6Auyri855xfSExW2f/rfpCYvd579tesKB\n",
       "968v+fj0hMXP/MsnpycQ5kIPAAAAQYIeAAAAggQ9AAAABAl6AAAACBL0AAAAECToAQAAIEjQAwAA\n",
       "QJCgBwAAgCBBDwAAAEGCHgAAAIIEPQAAAAQJegAAAAgS9AAAABAk6AEAACBI0AMAAECQoAcAAIAg\n",
       "QQ8AAABBgh4AAACCBD0AAAAECXoAAAAIEvQAAAAQJOgBAAAgSNADAABA0HZ6AOy33d1j0xMWD/zP\n",
       "901PWJw7PYAT9vVXfmh6wuLb950/PWHxopuePD1hcfTYJ6YnwEntziMfm56w+Os3vWZ6wuIXbp9e\n",
       "cPA971PPmZ6wOOdp/z49YXHk0a9NT+AEuNADAABAkKAHAACAIEEPAAAAQYIeAAAAggQ9AAAABAl6\n",
       "AAAACBL0AAAAECToAQAAIEjQAwAAQJCgBwAAgCBBDwAAAEGCHgAAAIIEPQAAAAQJegAAAAgS9AAA\n",
       "ABAk6AEAACBI0AMAAECQoAcAAIAgQQ8AAABBgh4AAACCBD0AAAAECXoAAAAIEvQAAAAQtJ0eACe7\n",
       "G26/eHrC4h3TAwI+ctEt0xMWb7zrtukJi93N7vQEgAPjrf951/SExStuvHF6wh6PXfKe6QmLM8/5\n",
       "0ekJi09d/NzpCYuX3Py16QmcABd6AAAACBL0AAAAECToAQAAIEjQAwAAQJCgBwAAgCBBDwAAAEGC\n",
       "HgAAAIIEPQAAAAQJegAAAAgS9AAAABAk6AEAACBI0AMAAECQoAcAAIAgQQ8AAABBgh4AAACCBD0A\n",
       "AAAECXoAAAAIEvQAAAAQJOgBAAAgSNADAABAkKAHAACAIEEPAAAAQdvpAXCy+/NvfXN6wuId0wMC\n",
       "fva5X5iesDjzP35wesLi4aNfn54AcGDcfeS26QmL1/7yoekJe1x/9/SCg+20U49PTyDMhR4AAACC\n",
       "BD0AAAAECXoAAAAIEvQAAAAQJOgBAAAgSNADAABAkKAHAACAIEEPAAAAQYIeAAAAggQ9AAAABAl6\n",
       "AAAACBL0AAAAECToAQAAIEjQAwAAQJCgBwAAgCBBDwAAAEGCHgAAAIIEPQAAAAQJegAAAAgS9AAA\n",
       "ABAk6AEAACBI0AMAAECQoAcAAICg7fQAONk9tPOd6QmLR7/1mekJe5z5lVumJyz+5DOXTE9YPHz0\n",
       "8PQEACJuPHrz9IQ9dm6+cXrCYveFvz09YfH8d35uesLqpukBnAgXegAAAAgS9AAAABAk6AEAACBI\n",
       "0AMAAECQoAcAAIAgQQ8AAABBgh4AAACCBD0AAAAECXoAAAAIEvQAAAAQJOgBAAAgSNADAABAkKAH\n",
       "AACAIEEPAAAAQYIeAAAAggQ9AAAABAl6AAAACBL0AAAAECToAQAAIEjQAwAAQJCgBwAAgCBBDwAA\n",
       "AEGCHgAAAIJ2Npvt7vQI4Inz4rNePz1hj9t3b5qesPjuI1+engAAJ417Dz1jesLinPdfMT3hQDtj\n",
       "+6bpCZwAF3oAAAAIEvQAAAAQJOgBAAAgSNADAABAkKAHAACAIEEPAAAAQYIeAAAAggQ9AAAABAl6\n",
       "AAAACBL0AAAAECToAQAAIEjQAwAAQJCgBwAAgCBBDwAAAEGCHgAAAIIEPQAAAAQJegAAAAgS9AAA\n",
       "ABAk6AEAACBI0AMAAECQoAcAAIAgQQ8AAABBO5vNdnd6BAAAcHJ60pnPmp6wuPuW86cnLHYuesP0\n",
       "hMUZ2zdNT+AEuNADAABAkKAHAACAIEEPAAAAQYIeAAAAggQ9AAAABAl6AAAACBL0AAAAECToAQAA\n",
       "IEjQAwAAQJCgBwAAgCBBDwAAAEGCHgAAAIIEPQAAAAQJegAAAAgS9AAAABAk6AEAACBI0AMAAECQ\n",
       "oAcAAIAgQQ8AAABBgh4AAACCBD0AAAAECXoAAAAIEvQAAAAQtJ0eAAAAnLy++8iXpycsHv7wj0xP\n",
       "WJz9x9MLKHOhBwAAgCBBDwAAAEGCHgAAAIIEPQAAAAQJegAAAAgS9AAAABAk6AEAACBI0AMAAECQ\n",
       "oAcAAIAgQQ8AAABBgh4AAACCBD0AAAAECXoAAAAIEvQAAAAQJOgBAAAgSNADAABAkKAHAACAIEEP\n",
       "AAAAQYIeAAAAggQ9AAAABAl6AAAACBL0AAAAECToAQAAIGg7PQAAAOCJ8urrXzY9YXHlF/5uegJh\n",
       "LvQAAAAQJOgBAAAgSNADAABAkKAHAACAIEEPAAAAQYIeAAAAggQ9AAAABAl6AAAACBL0AAAAECTo\n",
       "AQAAIEjQAwAAQJCgBwAAgCBBDwAAAEGCHgAAAIIEPQAAAAQJegAAAAgS9AAAABAk6AEAACBI0AMA\n",
       "AECQoAcAAIAgQQ8AAABBgh4AAACCBD0AAAAE7Ww2293pEQAAAMCJcaEHAACAIEEPAAAAQYIeAAAA\n",
       "ggQ9AAAABAl6AAAACBL0AAAAECToAQAAIEjQAwAAQJCgBwAAgCBBDwAAAEGCHgAAAIIEPQAAAAQJ\n",
       "egAAAAgS9AAAABAk6AEAACBI0AMAAECQoAcAAIAgQQ8AAABBgh4AAACCBD0AAAAECXoAAAAIEvQA\n",
       "AAAQJOgBAAAgSNADAABAkKAHAACAIEEPAAAAQYIeAAAAggQ9AAAABAl6AAAACBL0AAAAECToAQAA\n",
       "IEjQAwAAQJCgBwAAgCBBDwAAAEGCHgAAAIIEPQAAAAQJegAAAAgS9AAAABAk6AEAACBI0AMAAECQ\n",
       "oAcAAIAgQQ8AAABBgh4AAACCBD0AAAAECXoAAAAIEvQAAAAQJOgBAAAgSNADAABAkKAHAACAIEEP\n",
       "AAAAQYIeAAAAggQ9AAAABAl6AAAACBL0AAAAECToAQAAIEjQAwAAQJCgBwAAgCBBDwAAAEGCHgAA\n",
       "AIIEPQAAAAQJegAAAAgS9AAAABAk6AEAACBI0AMAAECQoAcAAIAgQQ8AAABBgh4AAACCBD0AAAAE\n",
       "CXoAAAAIEvQAAAAQJOgBAAAgSNADAABAkKAHAACAIEEPAAAAQYIeAAAAggQ9AAAABAl6AAAACBL0\n",
       "AAAAECToAQAAIEjQAwAAQJCgBwAAgCBBDwAAAEGCHgAAAIIEPQAAAAQJegAAAAgS9AAAABAk6AEA\n",
       "ACBI0AMAAECQoAcAAIAgQQ8AAABBgh4AAACCBD0AAAAECXoAAAAI+j9oWBouOPoi+gAAAABJRU5E\n",
       "rkJggg==\n",
       "\" transform=\"translate(141, 47)\"/>\n",
       "</g>\n",
       "<path clip-path=\"url(#clip330)\" d=\"M1340.7 711.728 L2352.76 711.728 L2352.76 47.2441 L1340.7 47.2441  Z\" fill=\"#ffffff\" fill-rule=\"evenodd\" fill-opacity=\"1\"/>\n",
       "<defs>\n",
       "  <clipPath id=\"clip333\">\n",
       "    <rect x=\"1340\" y=\"47\" width=\"1013\" height=\"665\"/>\n",
       "  </clipPath>\n",
       "</defs>\n",
       "<polyline clip-path=\"url(#clip333)\" style=\"stroke:#000000; stroke-linecap:round; stroke-linejoin:round; stroke-width:2; stroke-opacity:0.1; fill:none\" points=\"1503.35,711.728 1503.35,47.2441 \"/>\n",
       "<polyline clip-path=\"url(#clip333)\" style=\"stroke:#000000; stroke-linecap:round; stroke-linejoin:round; stroke-width:2; stroke-opacity:0.1; fill:none\" points=\"1684.07,711.728 1684.07,47.2441 \"/>\n",
       "<polyline clip-path=\"url(#clip333)\" style=\"stroke:#000000; stroke-linecap:round; stroke-linejoin:round; stroke-width:2; stroke-opacity:0.1; fill:none\" points=\"1864.8,711.728 1864.8,47.2441 \"/>\n",
       "<polyline clip-path=\"url(#clip333)\" style=\"stroke:#000000; stroke-linecap:round; stroke-linejoin:round; stroke-width:2; stroke-opacity:0.1; fill:none\" points=\"2045.52,711.728 2045.52,47.2441 \"/>\n",
       "<polyline clip-path=\"url(#clip333)\" style=\"stroke:#000000; stroke-linecap:round; stroke-linejoin:round; stroke-width:2; stroke-opacity:0.1; fill:none\" points=\"2226.25,711.728 2226.25,47.2441 \"/>\n",
       "<polyline clip-path=\"url(#clip330)\" style=\"stroke:#000000; stroke-linecap:round; stroke-linejoin:round; stroke-width:4; stroke-opacity:1; fill:none\" points=\"1340.7,711.728 2352.76,711.728 \"/>\n",
       "<polyline clip-path=\"url(#clip330)\" style=\"stroke:#000000; stroke-linecap:round; stroke-linejoin:round; stroke-width:4; stroke-opacity:1; fill:none\" points=\"1503.35,711.728 1503.35,692.83 \"/>\n",
       "<polyline clip-path=\"url(#clip330)\" style=\"stroke:#000000; stroke-linecap:round; stroke-linejoin:round; stroke-width:4; stroke-opacity:1; fill:none\" points=\"1684.07,711.728 1684.07,692.83 \"/>\n",
       "<polyline clip-path=\"url(#clip330)\" style=\"stroke:#000000; stroke-linecap:round; stroke-linejoin:round; stroke-width:4; stroke-opacity:1; fill:none\" points=\"1864.8,711.728 1864.8,692.83 \"/>\n",
       "<polyline clip-path=\"url(#clip330)\" style=\"stroke:#000000; stroke-linecap:round; stroke-linejoin:round; stroke-width:4; stroke-opacity:1; fill:none\" points=\"2045.52,711.728 2045.52,692.83 \"/>\n",
       "<polyline clip-path=\"url(#clip330)\" style=\"stroke:#000000; stroke-linecap:round; stroke-linejoin:round; stroke-width:4; stroke-opacity:1; fill:none\" points=\"2226.25,711.728 2226.25,692.83 \"/>\n",
       "<path clip-path=\"url(#clip330)\" d=\"M1493.63 739.568 L1511.98 739.568 L1511.98 743.503 L1497.91 743.503 L1497.91 751.975 Q1498.93 751.628 1499.95 751.466 Q1500.96 751.281 1501.98 751.281 Q1507.77 751.281 1511.15 754.452 Q1514.53 757.623 1514.53 763.04 Q1514.53 768.619 1511.06 771.72 Q1507.58 774.799 1501.26 774.799 Q1499.09 774.799 1496.82 774.429 Q1494.57 774.058 1492.17 773.318 L1492.17 768.619 Q1494.25 769.753 1496.47 770.308 Q1498.7 770.864 1501.17 770.864 Q1505.18 770.864 1507.51 768.758 Q1509.85 766.651 1509.85 763.04 Q1509.85 759.429 1507.51 757.322 Q1505.18 755.216 1501.17 755.216 Q1499.3 755.216 1497.42 755.633 Q1495.57 756.049 1493.63 756.929 L1493.63 739.568 Z\" fill=\"#000000\" fill-rule=\"nonzero\" fill-opacity=\"1\" /><path clip-path=\"url(#clip330)\" d=\"M1658.76 770.193 L1666.4 770.193 L1666.4 743.827 L1658.09 745.494 L1658.09 741.235 L1666.35 739.568 L1671.03 739.568 L1671.03 770.193 L1678.67 770.193 L1678.67 774.128 L1658.76 774.128 L1658.76 770.193 Z\" fill=\"#000000\" fill-rule=\"nonzero\" fill-opacity=\"1\" /><path clip-path=\"url(#clip330)\" d=\"M1698.11 742.647 Q1694.5 742.647 1692.67 746.211 Q1690.87 749.753 1690.87 756.883 Q1690.87 763.989 1692.67 767.554 Q1694.5 771.095 1698.11 771.095 Q1701.75 771.095 1703.55 767.554 Q1705.38 763.989 1705.38 756.883 Q1705.38 749.753 1703.55 746.211 Q1701.75 742.647 1698.11 742.647 M1698.11 738.943 Q1703.92 738.943 1706.98 743.549 Q1710.06 748.133 1710.06 756.883 Q1710.06 765.609 1706.98 770.216 Q1703.92 774.799 1698.11 774.799 Q1692.3 774.799 1689.22 770.216 Q1686.17 765.609 1686.17 756.883 Q1686.17 748.133 1689.22 743.549 Q1692.3 738.943 1698.11 738.943 Z\" fill=\"#000000\" fill-rule=\"nonzero\" fill-opacity=\"1\" /><path clip-path=\"url(#clip330)\" d=\"M1839.98 770.193 L1847.62 770.193 L1847.62 743.827 L1839.31 745.494 L1839.31 741.235 L1847.58 739.568 L1852.25 739.568 L1852.25 770.193 L1859.89 770.193 L1859.89 774.128 L1839.98 774.128 L1839.98 770.193 Z\" fill=\"#000000\" fill-rule=\"nonzero\" fill-opacity=\"1\" /><path clip-path=\"url(#clip330)\" d=\"M1869.38 739.568 L1887.74 739.568 L1887.74 743.503 L1873.66 743.503 L1873.66 751.975 Q1874.68 751.628 1875.7 751.466 Q1876.72 751.281 1877.74 751.281 Q1883.52 751.281 1886.9 754.452 Q1890.28 757.623 1890.28 763.04 Q1890.28 768.619 1886.81 771.72 Q1883.34 774.799 1877.02 774.799 Q1874.84 774.799 1872.58 774.429 Q1870.33 774.058 1867.92 773.318 L1867.92 768.619 Q1870.01 769.753 1872.23 770.308 Q1874.45 770.864 1876.93 770.864 Q1880.93 770.864 1883.27 768.758 Q1885.61 766.651 1885.61 763.04 Q1885.61 759.429 1883.27 757.322 Q1880.93 755.216 1876.93 755.216 Q1875.05 755.216 1873.18 755.633 Q1871.33 756.049 1869.38 756.929 L1869.38 739.568 Z\" fill=\"#000000\" fill-rule=\"nonzero\" fill-opacity=\"1\" /><path clip-path=\"url(#clip330)\" d=\"M2024.3 770.193 L2040.62 770.193 L2040.62 774.128 L2018.67 774.128 L2018.67 770.193 Q2021.33 767.438 2025.92 762.808 Q2030.52 758.156 2031.7 756.813 Q2033.95 754.29 2034.83 752.554 Q2035.73 750.795 2035.73 749.105 Q2035.73 746.35 2033.79 744.614 Q2031.87 742.878 2028.76 742.878 Q2026.57 742.878 2024.11 743.642 Q2021.68 744.406 2018.9 745.957 L2018.9 741.235 Q2021.73 740.1 2024.18 739.522 Q2026.63 738.943 2028.67 738.943 Q2034.04 738.943 2037.24 741.628 Q2040.43 744.313 2040.43 748.804 Q2040.43 750.934 2039.62 752.855 Q2038.83 754.753 2036.73 757.346 Q2036.15 758.017 2033.05 761.234 Q2029.94 764.429 2024.3 770.193 Z\" fill=\"#000000\" fill-rule=\"nonzero\" fill-opacity=\"1\" /><path clip-path=\"url(#clip330)\" d=\"M2060.43 742.647 Q2056.82 742.647 2054.99 746.211 Q2053.19 749.753 2053.19 756.883 Q2053.19 763.989 2054.99 767.554 Q2056.82 771.095 2060.43 771.095 Q2064.06 771.095 2065.87 767.554 Q2067.7 763.989 2067.7 756.883 Q2067.7 749.753 2065.87 746.211 Q2064.06 742.647 2060.43 742.647 M2060.43 738.943 Q2066.24 738.943 2069.3 743.549 Q2072.38 748.133 2072.38 756.883 Q2072.38 765.609 2069.3 770.216 Q2066.24 774.799 2060.43 774.799 Q2054.62 774.799 2051.54 770.216 Q2048.49 765.609 2048.49 756.883 Q2048.49 748.133 2051.54 743.549 Q2054.62 738.943 2060.43 738.943 Z\" fill=\"#000000\" fill-rule=\"nonzero\" fill-opacity=\"1\" /><path clip-path=\"url(#clip330)\" d=\"M2205.52 770.193 L2221.84 770.193 L2221.84 774.128 L2199.89 774.128 L2199.89 770.193 Q2202.56 767.438 2207.14 762.808 Q2211.75 758.156 2212.93 756.813 Q2215.17 754.29 2216.05 752.554 Q2216.95 750.795 2216.95 749.105 Q2216.95 746.35 2215.01 744.614 Q2213.09 742.878 2209.99 742.878 Q2207.79 742.878 2205.33 743.642 Q2202.9 744.406 2200.13 745.957 L2200.13 741.235 Q2202.95 740.1 2205.4 739.522 Q2207.86 738.943 2209.89 738.943 Q2215.26 738.943 2218.46 741.628 Q2221.65 744.313 2221.65 748.804 Q2221.65 750.934 2220.84 752.855 Q2220.06 754.753 2217.95 757.346 Q2217.37 758.017 2214.27 761.234 Q2211.17 764.429 2205.52 770.193 Z\" fill=\"#000000\" fill-rule=\"nonzero\" fill-opacity=\"1\" /><path clip-path=\"url(#clip330)\" d=\"M2231.7 739.568 L2250.06 739.568 L2250.06 743.503 L2235.98 743.503 L2235.98 751.975 Q2237 751.628 2238.02 751.466 Q2239.04 751.281 2240.06 751.281 Q2245.84 751.281 2249.22 754.452 Q2252.6 757.623 2252.6 763.04 Q2252.6 768.619 2249.13 771.72 Q2245.66 774.799 2239.34 774.799 Q2237.16 774.799 2234.89 774.429 Q2232.65 774.058 2230.24 773.318 L2230.24 768.619 Q2232.32 769.753 2234.55 770.308 Q2236.77 770.864 2239.25 770.864 Q2243.25 770.864 2245.59 768.758 Q2247.93 766.651 2247.93 763.04 Q2247.93 759.429 2245.59 757.322 Q2243.25 755.216 2239.25 755.216 Q2237.37 755.216 2235.5 755.633 Q2233.64 756.049 2231.7 756.929 L2231.7 739.568 Z\" fill=\"#000000\" fill-rule=\"nonzero\" fill-opacity=\"1\" /><polyline clip-path=\"url(#clip333)\" style=\"stroke:#000000; stroke-linecap:round; stroke-linejoin:round; stroke-width:2; stroke-opacity:0.1; fill:none\" points=\"1340.7,604.936 2352.76,604.936 \"/>\n",
       "<polyline clip-path=\"url(#clip333)\" style=\"stroke:#000000; stroke-linecap:round; stroke-linejoin:round; stroke-width:2; stroke-opacity:0.1; fill:none\" points=\"1340.7,486.278 2352.76,486.278 \"/>\n",
       "<polyline clip-path=\"url(#clip333)\" style=\"stroke:#000000; stroke-linecap:round; stroke-linejoin:round; stroke-width:2; stroke-opacity:0.1; fill:none\" points=\"1340.7,367.62 2352.76,367.62 \"/>\n",
       "<polyline clip-path=\"url(#clip333)\" style=\"stroke:#000000; stroke-linecap:round; stroke-linejoin:round; stroke-width:2; stroke-opacity:0.1; fill:none\" points=\"1340.7,248.962 2352.76,248.962 \"/>\n",
       "<polyline clip-path=\"url(#clip333)\" style=\"stroke:#000000; stroke-linecap:round; stroke-linejoin:round; stroke-width:2; stroke-opacity:0.1; fill:none\" points=\"1340.7,130.305 2352.76,130.305 \"/>\n",
       "<polyline clip-path=\"url(#clip330)\" style=\"stroke:#000000; stroke-linecap:round; stroke-linejoin:round; stroke-width:4; stroke-opacity:1; fill:none\" points=\"1340.7,711.728 1340.7,47.2441 \"/>\n",
       "<polyline clip-path=\"url(#clip330)\" style=\"stroke:#000000; stroke-linecap:round; stroke-linejoin:round; stroke-width:4; stroke-opacity:1; fill:none\" points=\"1340.7,604.936 1359.59,604.936 \"/>\n",
       "<polyline clip-path=\"url(#clip330)\" style=\"stroke:#000000; stroke-linecap:round; stroke-linejoin:round; stroke-width:4; stroke-opacity:1; fill:none\" points=\"1340.7,486.278 1359.59,486.278 \"/>\n",
       "<polyline clip-path=\"url(#clip330)\" style=\"stroke:#000000; stroke-linecap:round; stroke-linejoin:round; stroke-width:4; stroke-opacity:1; fill:none\" points=\"1340.7,367.62 1359.59,367.62 \"/>\n",
       "<polyline clip-path=\"url(#clip330)\" style=\"stroke:#000000; stroke-linecap:round; stroke-linejoin:round; stroke-width:4; stroke-opacity:1; fill:none\" points=\"1340.7,248.962 1359.59,248.962 \"/>\n",
       "<polyline clip-path=\"url(#clip330)\" style=\"stroke:#000000; stroke-linecap:round; stroke-linejoin:round; stroke-width:4; stroke-opacity:1; fill:none\" points=\"1340.7,130.305 1359.59,130.305 \"/>\n",
       "<path clip-path=\"url(#clip330)\" d=\"M1283.79 587.656 L1302.15 587.656 L1302.15 591.591 L1288.08 591.591 L1288.08 600.063 Q1289.09 599.716 1290.11 599.554 Q1291.13 599.369 1292.15 599.369 Q1297.94 599.369 1301.32 602.54 Q1304.7 605.711 1304.7 611.128 Q1304.7 616.707 1301.22 619.808 Q1297.75 622.887 1291.43 622.887 Q1289.26 622.887 1286.99 622.517 Q1284.74 622.146 1282.33 621.406 L1282.33 616.707 Q1284.42 617.841 1286.64 618.396 Q1288.86 618.952 1291.34 618.952 Q1295.34 618.952 1297.68 616.845 Q1300.02 614.739 1300.02 611.128 Q1300.02 607.517 1297.68 605.41 Q1295.34 603.304 1291.34 603.304 Q1289.46 603.304 1287.59 603.721 Q1285.74 604.137 1283.79 605.017 L1283.79 587.656 Z\" fill=\"#000000\" fill-rule=\"nonzero\" fill-opacity=\"1\" /><path clip-path=\"url(#clip330)\" d=\"M1253.4 499.623 L1261.04 499.623 L1261.04 473.257 L1252.73 474.924 L1252.73 470.665 L1260.99 468.998 L1265.67 468.998 L1265.67 499.623 L1273.31 499.623 L1273.31 503.558 L1253.4 503.558 L1253.4 499.623 Z\" fill=\"#000000\" fill-rule=\"nonzero\" fill-opacity=\"1\" /><path clip-path=\"url(#clip330)\" d=\"M1292.75 472.077 Q1289.14 472.077 1287.31 475.642 Q1285.51 479.183 1285.51 486.313 Q1285.51 493.419 1287.31 496.984 Q1289.14 500.526 1292.75 500.526 Q1296.39 500.526 1298.19 496.984 Q1300.02 493.419 1300.02 486.313 Q1300.02 479.183 1298.19 475.642 Q1296.39 472.077 1292.75 472.077 M1292.75 468.373 Q1298.56 468.373 1301.62 472.979 Q1304.7 477.563 1304.7 486.313 Q1304.7 495.04 1301.62 499.646 Q1298.56 504.229 1292.75 504.229 Q1286.94 504.229 1283.86 499.646 Q1280.81 495.04 1280.81 486.313 Q1280.81 477.563 1283.86 472.979 Q1286.94 468.373 1292.75 468.373 Z\" fill=\"#000000\" fill-rule=\"nonzero\" fill-opacity=\"1\" /><path clip-path=\"url(#clip330)\" d=\"M1254.39 380.965 L1262.03 380.965 L1262.03 354.599 L1253.72 356.266 L1253.72 352.007 L1261.99 350.34 L1266.66 350.34 L1266.66 380.965 L1274.3 380.965 L1274.3 384.9 L1254.39 384.9 L1254.39 380.965 Z\" fill=\"#000000\" fill-rule=\"nonzero\" fill-opacity=\"1\" /><path clip-path=\"url(#clip330)\" d=\"M1283.79 350.34 L1302.15 350.34 L1302.15 354.275 L1288.08 354.275 L1288.08 362.748 Q1289.09 362.4 1290.11 362.238 Q1291.13 362.053 1292.15 362.053 Q1297.94 362.053 1301.32 365.224 Q1304.7 368.396 1304.7 373.812 Q1304.7 379.391 1301.22 382.493 Q1297.75 385.571 1291.43 385.571 Q1289.26 385.571 1286.99 385.201 Q1284.74 384.831 1282.33 384.09 L1282.33 379.391 Q1284.42 380.525 1286.64 381.081 Q1288.86 381.636 1291.34 381.636 Q1295.34 381.636 1297.68 379.53 Q1300.02 377.423 1300.02 373.812 Q1300.02 370.201 1297.68 368.095 Q1295.34 365.988 1291.34 365.988 Q1289.46 365.988 1287.59 366.405 Q1285.74 366.822 1283.79 367.701 L1283.79 350.34 Z\" fill=\"#000000\" fill-rule=\"nonzero\" fill-opacity=\"1\" /><path clip-path=\"url(#clip330)\" d=\"M1256.62 262.307 L1272.94 262.307 L1272.94 266.242 L1250.99 266.242 L1250.99 262.307 Q1253.65 259.553 1258.24 254.923 Q1262.84 250.27 1264.02 248.928 Q1266.27 246.405 1267.15 244.668 Q1268.05 242.909 1268.05 241.219 Q1268.05 238.465 1266.11 236.729 Q1264.19 234.993 1261.08 234.993 Q1258.89 234.993 1256.43 235.756 Q1254 236.52 1251.22 238.071 L1251.22 233.349 Q1254.05 232.215 1256.5 231.636 Q1258.96 231.057 1260.99 231.057 Q1266.36 231.057 1269.56 233.743 Q1272.75 236.428 1272.75 240.918 Q1272.75 243.048 1271.94 244.969 Q1271.15 246.867 1269.05 249.46 Q1268.47 250.131 1265.37 253.349 Q1262.27 256.543 1256.62 262.307 Z\" fill=\"#000000\" fill-rule=\"nonzero\" fill-opacity=\"1\" /><path clip-path=\"url(#clip330)\" d=\"M1292.75 234.761 Q1289.14 234.761 1287.31 238.326 Q1285.51 241.868 1285.51 248.997 Q1285.51 256.104 1287.31 259.668 Q1289.14 263.21 1292.75 263.21 Q1296.39 263.21 1298.19 259.668 Q1300.02 256.104 1300.02 248.997 Q1300.02 241.868 1298.19 238.326 Q1296.39 234.761 1292.75 234.761 M1292.75 231.057 Q1298.56 231.057 1301.62 235.664 Q1304.7 240.247 1304.7 248.997 Q1304.7 257.724 1301.62 262.33 Q1298.56 266.914 1292.75 266.914 Q1286.94 266.914 1283.86 262.33 Q1280.81 257.724 1280.81 248.997 Q1280.81 240.247 1283.86 235.664 Q1286.94 231.057 1292.75 231.057 Z\" fill=\"#000000\" fill-rule=\"nonzero\" fill-opacity=\"1\" /><path clip-path=\"url(#clip330)\" d=\"M1257.61 143.649 L1273.93 143.649 L1273.93 147.585 L1251.99 147.585 L1251.99 143.649 Q1254.65 140.895 1259.23 136.265 Q1263.84 131.612 1265.02 130.27 Q1267.27 127.747 1268.14 126.011 Q1269.05 124.251 1269.05 122.562 Q1269.05 119.807 1267.1 118.071 Q1265.18 116.335 1262.08 116.335 Q1259.88 116.335 1257.43 117.099 Q1255 117.863 1252.22 119.413 L1252.22 114.691 Q1255.04 113.557 1257.5 112.978 Q1259.95 112.4 1261.99 112.4 Q1267.36 112.4 1270.55 115.085 Q1273.75 117.77 1273.75 122.261 Q1273.75 124.39 1272.94 126.312 Q1272.15 128.21 1270.04 130.802 Q1269.46 131.474 1266.36 134.691 Q1263.26 137.886 1257.61 143.649 Z\" fill=\"#000000\" fill-rule=\"nonzero\" fill-opacity=\"1\" /><path clip-path=\"url(#clip330)\" d=\"M1283.79 113.025 L1302.15 113.025 L1302.15 116.96 L1288.08 116.96 L1288.08 125.432 Q1289.09 125.085 1290.11 124.923 Q1291.13 124.737 1292.15 124.737 Q1297.94 124.737 1301.32 127.909 Q1304.7 131.08 1304.7 136.497 Q1304.7 142.075 1301.22 145.177 Q1297.75 148.256 1291.43 148.256 Q1289.26 148.256 1286.99 147.885 Q1284.74 147.515 1282.33 146.774 L1282.33 142.075 Q1284.42 143.21 1286.64 143.765 Q1288.86 144.321 1291.34 144.321 Q1295.34 144.321 1297.68 142.214 Q1300.02 140.108 1300.02 136.497 Q1300.02 132.886 1297.68 130.779 Q1295.34 128.673 1291.34 128.673 Q1289.46 128.673 1287.59 129.089 Q1285.74 129.506 1283.79 130.386 L1283.79 113.025 Z\" fill=\"#000000\" fill-rule=\"nonzero\" fill-opacity=\"1\" /><g clip-path=\"url(#clip333)\">\n",
       "<image width=\"1012\" height=\"664\" xlink:href=\"data:image/png;base64,\n",
       "iVBORw0KGgoAAAANSUhEUgAAA/QAAAKYCAYAAADdZLP3AAAVc0lEQVR4nO3Z7+vvd13H8c/X89kv\n",
       "N3Uzk4wskUwSN6qR4KSJF9qCXQhXKpnl0FI5ZP5YMZewMmvohbZSWIrJSilQ+0GKEpMimG2YGzpP\n",
       "MfxRCuEyN526Hbedztm3y699r3Tgy57f+9nt9hc8ePO+8L6/nzubzXZ3AwAAAKQ8bnoAAAAAcPIE\n",
       "PQAAAAQJegAAAAgS9AAAABAk6AEAACBI0AMAAECQoAcAAIAgQQ8AAABBgh4AAACCBD0AAAAECXoA\n",
       "AAAIEvQAAAAQJOgBAAAgSNADAABAkKAHAACAIEEPAAAAQYIeAAAAggQ9AAAABAl6AAAACBL0AAAA\n",
       "ECToAQAAIEjQAwAAQJCgBwAAgCBBDwAAAEGCHgAAAIIEPQAAAAQJegAAAAgS9AAAABAk6AEAACBI\n",
       "0AMAAECQoAcAAIAgQQ8AAABBgh4AAACCBD0AAAAECXoAAAAIEvQAAAAQJOgBAAAgSNADAABAkKAH\n",
       "AACAIEEPAAAAQYIeAAAAggQ9AAAABAl6AAAACBL0AAAAECToAQAAIEjQAwAAQJCgBwAAgCBBDwAA\n",
       "AEGCHgAAAIIEPQAAAAQJegAAAAgS9AAAABAk6AEAACBI0AMAAECQoAcAAIAgQQ8AAABBgh4AAACC\n",
       "BD0AAAAECXoAAAAIEvQAAAAQJOgBAAAgSNADAABAkKAHAACAIEEPAAAAQYIeAAAAggQ9AAAABAl6\n",
       "AAAACBL0AAAAECToAQAAIEjQAwAAQJCgBwAAgCBBDwAAAEGCHgAAAIIEPQAAAAQJegAAAAgS9AAA\n",
       "ABAk6AEAACBI0AMAAECQoAcAAIAgQQ8AAABBgh4AAACCBD0AAAAECXoAAAAIEvQAAAAQJOgBAAAg\n",
       "SNADAABAkKAHAACAIEEPAAAAQYIeAAAAggQ9AAAABAl6AAAACBL0AAAAECToAQAAIEjQAwAAQNB2\n",
       "egDst5ue9+LpCYv3f/Fp0xMWH/r2DdMTAACAfeBCDwAAAEGCHgAAAIIEPQAAAAQJegAAAAgS9AAA\n",
       "ABAk6AEAACBI0AMAAECQoAcAAIAgQQ8AAABBgh4AAACCBD0AAAAECXoAAAAIEvQAAAAQJOgBAAAg\n",
       "SNADAABAkKAHAACAIEEPAAAAQYIeAAAAggQ9AAAABAl6AAAACBL0AAAAECToAQAAIEjQAwAAQNDO\n",
       "ZrPdnR4B++m+o78/PWFxxo1vm56wuPCqy6cn7HHk6EemJwAAQI4LPQAAAAQJegAAAAgS9AAAABAk\n",
       "6AEAACBI0AMAAECQoAcAAIAgQQ8AAABBgh4AAACCBD0AAAAECXoAAAAIEvQAAAAQJOgBAAAgSNAD\n",
       "AABAkKAHAACAIEEPAAAAQYIeAAAAggQ9AAAABAl6AAAACBL0AAAAECToAQAAIEjQAwAAQJCgBwAA\n",
       "gCBBDwAAAEHb6QGw3856/A9PT1gc/aXD0xMWT3/LsekJexyZHgAAAEEu9AAAABAk6AEAACBI0AMA\n",
       "AECQoAcAAIAgQQ8AAABBgh4AAACCBD0AAAAECXoAAAAIEvQAAAAQJOgBAAAgSNADAABAkKAHAACA\n",
       "IEEPAAAAQYIeAAAAggQ9AAAABAl6AAAACBL0AAAAECToAQAAIEjQAwAAQJCgBwAAgCBBDwAAAEGC\n",
       "HgAAAIK20wNgv33r166dnrB40nuvnJ6weM4T75iesMcn7p9eAHBwvOzcw9MTFh/+znumJyx2dx+e\n",
       "ngBwYLjQAwAAQJCgBwAAgCBBDwAAAEGCHgAAAIIEPQAAAAQJegAAAAgS9AAAABAk6AEAACBI0AMA\n",
       "AECQoAcAAIAgQQ8AAABBgh4AAACCBD0AAAAECXoAAAAIEvQAAAAQJOgBAAAgSNADAABAkKAHAACA\n",
       "IEEPAAAAQYIeAAAAggQ9AAAABAl6AAAACBL0AAAAELSdHgD77YIPPXl6wuLOs66dnvAIl00PAB7j\n",
       "nnbORdMTFl+5+o7pCYvjVz5jesLiLz961vSExUNHTp+esDj77fdOTwAew1zoAQAAIEjQAwAAQJCg\n",
       "BwAAgCBBDwAAAEGCHgAAAIIEPQAAAAQJegAAAAgS9AAAABAk6AEAACBI0AMAAECQoAcAAIAgQQ8A\n",
       "AABBgh4AAACCBD0AAAAECXoAAAAIEvQAAAAQJOgBAAAgSNADAABAkKAHAACAIEEPAAAAQYIeAAAA\n",
       "ggQ9AAAABAl6AAAACNpOD4D99oVf/6/pCYszXvED0xMW5338xPQE4FH01LN/enrCHv/8ot3pCYud\n",
       "q66bnrA4bXrAI5y4/GA9n83PH51esHj9+748PWHx7q/fMD0BeBS50AMAAECQoAcAAIAgQQ8AAABB\n",
       "gh4AAACCBD0AAAAECXoAAAAIEvQAAAAQJOgBAAAgSNADAABAkKAHAACAIEEPAAAAQYIeAAAAggQ9\n",
       "AAAABAl6AAAACBL0AAAAECToAQAAIEjQAwAAQJCgBwAAgCBBDwAAAEGCHgAAAIIEPQAAAAQJegAA\n",
       "AAgS9AAAABC0s9lsd6dHwH669eKfm56w+Kl/evH0hMWJhx+anrDH/373zukJi2++5jPTExbP/Nvb\n",
       "pidwEnY2O9MTFn/zEy+bnrDHZbe9aHrCYnf3xPSExfET909PWJy2fdL0hAPt0AcPT09YnPaqg/dp\n",
       "v7v78PQEOGW50AMAAECQoAcAAIAgQQ8AAABBgh4AAACCBD0AAAAECXoAAAAIEvQAAAAQJOgBAAAg\n",
       "SNADAABAkKAHAACAIEEPAAAAQYIeAAAAggQ9AAAABAl6AAAACBL0AAAAECToAQAAIEjQAwAAQJCg\n",
       "BwAAgCBBDwAAAEGCHgAAAIIEPQAAAAQJegAAAAjaTg+A/fbdBx4/PeFAO/S4M6Yn7HHirKdNT1i8\n",
       "9B+ePT3hEW6bHsBJ+LMff+X0hMVltz1/esKB90c/dsf0hMVbv/Le6QmL711z7vSExaFr3jk9YXHi\n",
       "V26YnrB401sP1vu82Ww21911sJ4RnEpc6AEAACBI0AMAAECQoAcAAIAgQQ8AAABBgh4AAACCBD0A\n",
       "AAAECXoAAAAIEvQAAAAQJOgBAAAgSNADAABAkKAHAACAIEEPAAAAQYIeAAAAggQ9AAAABAl6AAAA\n",
       "CBL0AAAAECToAQAAIEjQAwAAQJCgBwAAgCBBDwAAAEGCHgAAAIIEPQAAAAQJegAAAAjaTg+A/faL\n",
       "R45MT1jcs7l0esKB97h3XD89YXHb9+6dnkDYpT95+/SER3j+9IA9Hn7HldMTFtfe9ZTpCQfapz95\n",
       "8fSExUXXTC842N75u++ZnrDHuw6fOz1hcfzEt6cnwL5xoQcAAIAgQQ8AAABBgh4AAACCBD0AAAAE\n",
       "CXoAAAAIEvQAAAAQJOgBAAAgSNADAABAkKAHAACAIEEPAAAAQYIeAAAAggQ9AAAABAl6AAAACBL0\n",
       "AAAAECToAQAAIEjQAwAAQJCgBwAAgCBBDwAAAEGCHgAAAIIEPQAAAAQJegAAAAgS9AAAABAk6AEA\n",
       "ACBoOz0A4PQf+s70hMXp2++fnrA4dvzu6QmLnZ2D9S/4iie/bnrC4ilXfnp6wuKhb902PWGPS/7w\n",
       "8ukJi6MPfWB6woH2O587b3rC4h+/8FfTExaHnv3y6QmLh1/9p9MT9nj9790xPWFx/X/fMD0B9s3B\n",
       "+ioDAAAA/l8EPQAAAAQJegAAAAgS9AAAABAk6AEAACBI0AMAAECQoAcAAIAgQQ8AAABBgh4AAACC\n",
       "BD0AAAAECXoAAAAIEvQAAAAQJOgBAAAgSNADAABAkKAHAACAIEEPAAAAQYIeAAAAggQ9AAAABAl6\n",
       "AAAACBL0AAAAECToAQAAIEjQAwAAQNDOZrPdnR4B++kJZz5resLinvt/a3oCJ+nQh98wPWHxB1df\n",
       "MT1hcfVv3Dg9YfWmd00vWDz47c9NT1i87YKd6Ql7XHfXDdMTCLvzshdMT1g88+9/dXrCgbfznsPT\n",
       "ExbnvPHJ0xMWx47fPT2BMBd6AAAACBL0AAAAECToAQAAIEjQAwAAQJCgBwAAgCBBDwAAAEGCHgAA\n",
       "AIIEPQAAAAQJegAAAAgS9AAAABAk6AEAACBI0AMAAECQoAcAAIAgQQ8AAABBgh4AAACCBD0AAAAE\n",
       "CXoAAAAIEvQAAAAQJOgBAAAgSNADAABAkKAHAACAIEEPAAAAQYIeAAAAgnY2m+3u9AjYTzs72+kJ\n",
       "i3te9/TpCYtz3v2W6Qmwv67/zekFi/Pfdsn0hMUX7//Y9ATYV+ef/ZLpCYvbP/lv0xMWu8974/SE\n",
       "A+9fX/jR6QmLn/mXj09PIMyFHgAAAIIEPQAAAAQJegAAAAgS9AAAABAk6AEAACBI0AMAAECQoAcA\n",
       "AIAgQQ8AAABBgh4AAACCBD0AAAAECXoAAAAIEvQAAAAQJOgBAAAgSNADAABAkKAHAACAIEEPAAAA\n",
       "QYIeAAAAggQ9AAAABAl6AAAACBL0AAAAECToAQAAIEjQAwAAQJCgBwAAgKDt9ADYb7u7x6cnLL7z\n",
       "P983PWFxzvQATtrXXvq+6QmLb9573vSExQtufuL0hMWx4x+bngCntCNHPzI9YfHXr33F9ITFL3x2\n",
       "esHBd8EnnjM9YXH2U/99esLi6ENfnZ7ASXChBwAAgCBBDwAAAEGCHgAAAIIEPQAAAAQJegAAAAgS\n",
       "9AAAABAk6AEAACBI0AMAAECQoAcAAIAgQQ8AAABBgh4AAACCBD0AAAAECXoAAAAIEvQAAAAQJOgB\n",
       "AAAgSNADAABAkKAHAACAIEEPAAAAQYIeAAAAggQ9AAAABAl6AAAACBL0AAAAECToAQAAIGg7PQBO\n",
       "dR/67IXTExZvnh4Q8IHzb52esHjNnbdPT1jsbnanJwAcGG/4zzunJyxectNN0xP2ePiSt09PWJx5\n",
       "9o9OT1h84sLnTk9YvPCWr05P4CS40AMAAECQoAcAAIAgQQ8AAABBgh4AAACCBD0AAAAECXoAAAAI\n",
       "EvQAAAAQJOgBAAAgSNADAABAkKAHAACAIEEPAAAAQYIeAAAAggQ9AAAABAl6AAAACBL0AAAAECTo\n",
       "AQAAIEjQAwAAQJCgBwAAgCBBDwAAAEGCHgAAAIIEPQAAAAQJegAAAAjaTg+AU91ffOPr0xMWb54e\n",
       "EPCzz/389ITFmf/xg9MTFg8c+9r0BIAD4+6jt09PWLzylw9PT9jjxrunFxxspx06MT2BMBd6AAAA\n",
       "CBL0AAAAECToAQAAIEjQAwAAQJCgBwAAgCBBDwAAAEGCHgAAAIIEPQAAAAQJegAAAAgS9AAAABAk\n",
       "6AEAACBI0AMAAECQoAcAAIAgQQ8AAABBgh4AAACCBD0AAAAECXoAAAAIEvQAAAAQJOgBAAAgSNAD\n",
       "AABAkKAHAACAIEEPAAAAQYIeAAAAgrbTA+BU972d705PWDz0jU9NT9jjzC/fOj1h8SefumR6wuKB\n",
       "YzdMTwAg4qZjt0xP2GPnlpumJyx2L/rt6QmL5131mekJq5unB3AyXOgBAAAgSNADAABAkKAHAACA\n",
       "IEEPAAAAQYIeAAAAggQ9AAAABAl6AAAACBL0AAAAECToAQAAIEjQAwAAQJCgBwAAgCBBDwAAAEGC\n",
       "HgAAAIIEPQAAAAQJegAAAAgS9AAAABAk6AEAACBI0AMAAECQoAcAAIAgQQ8AAABBgh4AAACCBD0A\n",
       "AAAECXoAAAAI2tlstrvTI4BHz8VnvWp6wh6f3b15esLivge/ND0BAE4Z3zr8jOkJi7PfdfX0hAPt\n",
       "jO1rpydwElzoAQAAIEjQAwAAQJCgBwAAgCBBDwAAAEGCHgAAAIIEPQAAAAQJegAAAAgS9AAAABAk\n",
       "6AEAACBI0AMAAECQoAcAAIAgQQ8AAABBgh4AAACCBD0AAAAECXoAAAAIEvQAAAAQJOgBAAAgSNAD\n",
       "AABAkKAHAACAIEEPAAAAQYIeAAAAggQ9AAAABO1sNtvd6RG0Hd/98+kJnITtzhXTEwCAx5AnnPms\n",
       "6QmLu289b3rCYuf8V09PWJyxfe30BE6CCz0AAAAECXoAAAAIEvQAAAAQJOgBAAAgSNADAABAkKAH\n",
       "AACAIEEPAAAAQYIeAAAAggQ9AAAABAl6AAAACBL0AAAAECToAQAAIEjQAwAAQJCgBwAAgCBBDwAA\n",
       "AEGCHgAAAIIEPQAAAAQJegAAAAgS9AAAABAk6AEAACBI0AMAAECQoAcAAIAgQQ8AAABB2+kBAADA\n",
       "qeu+B780PWHxwPt/ZHrC4vF/PL2AMhd6AAAACBL0AAAAECToAQAAIEjQAwAAQJCgBwAAgCBBDwAA\n",
       "AEGCHgAAAIIEPQAAAAQJegAAAAgS9AAAABAk6AEAACBI0AMAAECQoAcAAIAgQQ8AAABBgh4AAACC\n",
       "BD0AAAAECXoAAAAIEvQAAAAQJOgBAAAgSNADAABAkKAHAACAIEEPAAAAQYIeAAAAgrbTAwAAAB4t\n",
       "L7/x0ukJi2s+/3fTEwhzoQcAAIAgQQ8AAABBgh4AAACCBD0AAAAECXoAAAAIEvQAAAAQJOgBAAAg\n",
       "SNADAABAkKAHAACAIEEPAAAAQYIeAAAAggQ9AAAABAl6AAAACBL0AAAAECToAQAAIEjQAwAAQJCg\n",
       "BwAAgCBBDwAAAEGCHgAAAIIEPQAAAAQJegAAAAgS9AAAABAk6AEAACBoZ7PZ7k6PAAAAAE6OCz0A\n",
       "AAAECXoAAAAIEvQAAAAQJOgBAAAgSNADAABAkKAHAACAIEEPAAAAQYIeAAAAggQ9AAAABAl6AAAA\n",
       "CBL0AAAAECToAQAAIEjQAwAAQJCgBwAAgCBBDwAAAEGCHgAAAIIEPQAAAAQJegAAAAgS9AAAABAk\n",
       "6AEAACBI0AMAAECQoAcAAIAgQQ8AAABBgh4AAACCBD0AAAAECXoAAAAIEvQAAAAQJOgBAAAgSNAD\n",
       "AABAkKAHAACAIEEPAAAAQYIeAAAAggQ9AAAABAl6AAAACBL0AAAAECToAQAAIEjQAwAAQJCgBwAA\n",
       "gCBBDwAAAEGCHgAAAIIEPQAAAAQJegAAAAgS9AAAABAk6AEAACBI0AMAAECQoAcAAIAgQQ8AAABB\n",
       "gh4AAACCBD0AAAAECXoAAAAIEvQAAAAQJOgBAAAgSNADAABAkKAHAACAIEEPAAAAQYIeAAAAggQ9\n",
       "AAAABAl6AAAACBL0AAAAECToAQAAIEjQAwAAQJCgBwAAgCBBDwAAAEGCHgAAAIIEPQAAAAQJegAA\n",
       "AAgS9AAAABAk6AEAACBI0AMAAECQoAcAAIAgQQ8AAABBgh4AAACCBD0AAAAECXoAAAAIEvQAAAAQ\n",
       "JOgBAAAgSNADAABAkKAHAACAIEEPAAAAQYIeAAAAggQ9AAAABAl6AAAACBL0AAAAECToAQAAIEjQ\n",
       "AwAAQJCgBwAAgCBBDwAAAEGCHgAAAIIEPQAAAAQJegAAAAgS9AAAABAk6AEAACBI0AMAAEDQ/wFL\n",
       "GR0u2/znfAAAAABJRU5ErkJggg==\n",
       "\" transform=\"translate(1341, 47)\"/>\n",
       "</g>\n",
       "</svg>\n"
      ]
     },
     "metadata": {},
     "output_type": "display_data"
    }
   ],
   "source": [
    "# create a copy of the original image\n",
    "img_blocked = copy(img)\n",
    "\n",
    "# assign to a specific zone of the image a square of white pixels\n",
    "img_blocked[5:7,5:7] .= 1\n",
    "p2 = heatmap(img_blocked)\n",
    "display(plot(p1, p2, layout=(1,2), size=(600,200)))"
   ]
  },
  {
   "cell_type": "markdown",
   "metadata": {},
   "source": [
    "Now let's create the instance for the robustness verification:"
   ]
  },
  {
   "cell_type": "code",
   "execution_count": 16,
   "metadata": {},
   "outputs": [
    {
     "data": {
      "text/plain": [
       "HPolyhedron{Float64, Vector{Float64}}(HalfSpace{Float64, Vector{Float64}}[HalfSpace{Float64, Vector{Float64}}([1.0, 0.0, 0.0, 0.0, 0.0, -1.0, 0.0, 0.0, 0.0, 0.0], 0.0), HalfSpace{Float64, Vector{Float64}}([0.0, 1.0, 0.0, 0.0, 0.0, -1.0, 0.0, 0.0, 0.0, 0.0], 0.0), HalfSpace{Float64, Vector{Float64}}([0.0, 0.0, 1.0, 0.0, 0.0, -1.0, 0.0, 0.0, 0.0, 0.0], 0.0), HalfSpace{Float64, Vector{Float64}}([0.0, 0.0, 0.0, 1.0, 0.0, -1.0, 0.0, 0.0, 0.0, 0.0], 0.0), HalfSpace{Float64, Vector{Float64}}([0.0, 0.0, 0.0, 0.0, 1.0, -1.0, 0.0, 0.0, 0.0, 0.0], 0.0), HalfSpace{Float64, Vector{Float64}}([0.0, 0.0, 0.0, 0.0, 0.0, -1.0, 1.0, 0.0, 0.0, 0.0], 0.0), HalfSpace{Float64, Vector{Float64}}([0.0, 0.0, 0.0, 0.0, 0.0, -1.0, 0.0, 1.0, 0.0, 0.0], 0.0), HalfSpace{Float64, Vector{Float64}}([0.0, 0.0, 0.0, 0.0, 0.0, -1.0, 0.0, 0.0, 1.0, 0.0], 0.0), HalfSpace{Float64, Vector{Float64}}([0.0, 0.0, 0.0, 0.0, 0.0, -1.0, 0.0, 0.0, 0.0, 1.0], 0.0)])"
      ]
     },
     "metadata": {},
     "output_type": "display_data"
    }
   ],
   "source": [
    "# first we flatten the matrix in one vector of 784 inputs\n",
    "img = reshape(img, (28,28,1))\n",
    "\n",
    "# similarly for the perturbated img\n",
    "img_blocked = reshape(img_blocked, (28,28,1))\n",
    "\n",
    "# now we create the image convex hull\n",
    "input_set = ImageConvexHull([img, img_blocked])\n",
    "output_set = classification_spec(10, label+1) # label start from 0"
   ]
  },
  {
   "cell_type": "markdown",
   "metadata": {},
   "source": [
    "And run the verification process using $ImageZono$ as a solver provided in ModelVerification.jl"
   ]
  },
  {
   "cell_type": "code",
   "execution_count": 17,
   "metadata": {},
   "outputs": [
    {
     "name": "stderr",
     "output_type": "stream",
     "text": [
      "┌ Warning: Layer with Float32 parameters got Float64 input.\n",
      "│   The input will be converted, but any earlier layers may be very slow.\n",
      "│   layer = Conv((5, 5), 1 => 6)\n",
      "│   summary(x) = 28×28×1×1 Array{Float64, 4}\n",
      "└ @ Flux /home/lmarza/.julia/packages/Flux/n3cOc/src/layers/stateless.jl:60\n"
     ]
    },
    {
     "ename": "CUDA.OutOfGPUMemoryError",
     "evalue": "Out of GPU memory trying to allocate 600 bytes\nEffective GPU memory usage: 99.81% (15.710 GiB/15.740 GiB)\nMemory pool usage: 0 bytes (0 bytes reserved)\n",
     "output_type": "error",
     "traceback": [
      "Out of GPU memory trying to allocate 600 bytes\n",
      "Effective GPU memory usage: 99.81% (15.710 GiB/15.740 GiB)\n",
      "Memory pool usage: 0 bytes (0 bytes reserved)\n",
      "\n",
      "\n",
      "Stacktrace:\n",
      "  [1] macro expansion\n",
      "    @ ~/.julia/packages/CUDA/35NC6/src/pool.jl:435 [inlined]\n",
      "  [2] macro expansion\n",
      "    @ ./timing.jl:393 [inlined]\n",
      "  [3] #_alloc#991\n",
      "    @ ~/.julia/packages/CUDA/35NC6/src/pool.jl:424 [inlined]\n",
      "  [4] _alloc\n",
      "    @ ~/.julia/packages/CUDA/35NC6/src/pool.jl:419 [inlined]\n",
      "  [5] #alloc#990\n",
      "    @ ~/.julia/packages/CUDA/35NC6/src/pool.jl:409 [inlined]\n",
      "  [6] alloc\n",
      "    @ ~/.julia/packages/CUDA/35NC6/src/pool.jl:403 [inlined]\n",
      "  [7] CUDA.CuArray{Float32, 4, CUDA.Mem.DeviceBuffer}(#unused#::UndefInitializer, dims::NTuple{4, Int64})\n",
      "    @ CUDA ~/.julia/packages/CUDA/35NC6/src/array.jl:93\n",
      "  [8] CuArray\n",
      "    @ ~/.julia/packages/CUDA/35NC6/src/array.jl:358 [inlined]\n",
      "  [9] adapt_storage(#unused#::CUDA.CuArrayAdaptor{CUDA.Mem.DeviceBuffer}, xs::Array{Float32, 4})\n",
      "    @ CUDA ~/.julia/packages/CUDA/35NC6/src/array.jl:612\n",
      " [10] adapt_structure\n",
      "    @ ~/.julia/packages/Adapt/yYvku/src/Adapt.jl:57 [inlined]\n",
      " [11] adapt\n",
      "    @ ~/.julia/packages/Adapt/yYvku/src/Adapt.jl:40 [inlined]\n",
      " [12] #cu#1022\n",
      "    @ ~/.julia/packages/CUDA/35NC6/src/array.jl:664 [inlined]\n",
      " [13] cu\n",
      "    @ ~/.julia/packages/CUDA/35NC6/src/array.jl:664 [inlined]\n",
      " [14] adapt_storage\n",
      "    @ ~/.julia/packages/Flux/n3cOc/src/functor.jl:137 [inlined]\n",
      " [15] adapt_structure\n",
      "    @ ~/.julia/packages/Adapt/yYvku/src/Adapt.jl:57 [inlined]\n",
      " [16] adapt\n",
      "    @ ~/.julia/packages/Adapt/yYvku/src/Adapt.jl:40 [inlined]\n",
      " [17] #168\n",
      "    @ ~/.julia/packages/Flux/n3cOc/src/functor.jl:291 [inlined]\n",
      " [18] ExcludeWalk\n",
      "    @ ~/.julia/packages/Functors/rlD70/src/walks.jl:106 [inlined]\n",
      " [19] (::Functors.CachedWalk{Functors.ExcludeWalk{Functors.DefaultWalk, Flux.var\"#168#169\", typeof(Flux._isleaf)}, Functors.NoKeyword})(::Function, ::Array{Float32, 4})\n",
      "    @ Functors ~/.julia/packages/Functors/rlD70/src/walks.jl:146\n",
      " [20] recurse\n",
      "    @ ~/.julia/packages/Functors/rlD70/src/walks.jl:37 [inlined]\n",
      " [21] map\n",
      "    @ ./tuple.jl:276 [inlined]\n",
      " [22] map(f::Functors.var\"#recurse#19\"{Functors.CachedWalk{Functors.ExcludeWalk{Functors.DefaultWalk, Flux.var\"#168#169\", typeof(Flux._isleaf)}, Functors.NoKeyword}}, t::Tuple{typeof(identity), Array{Float32, 4}, Bool, Tuple{Int64, Int64}, NTuple{4, Int64}, Tuple{Int64, Int64}, Int64})\n",
      "    @ Base ./tuple.jl:276\n",
      " [23] map(::Function, ::NamedTuple{(:σ, :weight, :bias, :stride, :pad, :dilation, :groups), Tuple{typeof(identity), Array{Float32, 4}, Bool, Tuple{Int64, Int64}, NTuple{4, Int64}, Tuple{Int64, Int64}, Int64}})\n",
      "    @ Base ./namedtuple.jl:219\n",
      " [24] _map\n",
      "    @ ~/.julia/packages/Functors/rlD70/src/walks.jl:1 [inlined]\n",
      " [25] (::Functors.DefaultWalk)(::Function, ::Conv{2, 4, typeof(identity), Array{Float32, 4}, Bool})\n",
      "    @ Functors ~/.julia/packages/Functors/rlD70/src/walks.jl:76\n",
      " [26] ExcludeWalk\n",
      "    @ ~/.julia/packages/Functors/rlD70/src/walks.jl:106 [inlined]\n",
      " [27] CachedWalk\n",
      "    @ ~/.julia/packages/Functors/rlD70/src/walks.jl:146 [inlined]\n",
      " [28] execute\n",
      "    @ ~/.julia/packages/Functors/rlD70/src/walks.jl:38 [inlined]\n",
      " [29] #fmap#28\n",
      "    @ ~/.julia/packages/Functors/rlD70/src/maps.jl:11 [inlined]\n",
      " [30] fmap\n",
      "    @ ~/.julia/packages/Functors/rlD70/src/maps.jl:3 [inlined]\n",
      " [31] gpu\n",
      "    @ ~/.julia/packages/Flux/n3cOc/src/functor.jl:291 [inlined]\n",
      " [32] gpu\n",
      "    @ ~/.julia/packages/Flux/n3cOc/src/functor.jl:276 [inlined]\n",
      " [33] |>\n",
      "    @ ./operators.jl:907 [inlined]\n",
      " [34] macro expansion\n",
      "    @ ~/.julia/packages/TimerOutputs/RsWnF/src/TimerOutput.jl:237 [inlined]\n",
      " [35] propagate_linear(prop_method::ImageZono, layer::Conv{2, 4, typeof(relu), Array{Float32, 4}, Vector{Float32}}, bound::ModelVerification.ImageZonoBound{Float64}, batch_info::Dict{Any, Any})\n",
      "    @ ModelVerification ~/ModelVerification.jl/src/propagate/operators/convolution.jl:30\n",
      " [36] #84\n",
      "    @ ./none:0 [inlined]\n",
      " [37] iterate\n",
      "    @ ./generator.jl:47 [inlined]\n",
      " [38] collect(itr::Base.Generator{Base.OneTo{Int64}, ModelVerification.var\"#84#85\"{ImageZono, Conv{2, 4, typeof(relu), Array{Float32, 4}, Vector{Float32}}, Vector{ModelVerification.ImageZonoBound{Float64}}, Dict{Any, Any}}})\n",
      "    @ Base ./array.jl:782\n",
      " [39] propagate_linear_batch\n",
      "    @ ~/ModelVerification.jl/src/propagate/propagate.jl:334 [inlined]\n",
      " [40] macro expansion\n",
      "    @ ~/.julia/packages/TimerOutputs/RsWnF/src/TimerOutput.jl:237 [inlined]\n",
      " [41] propagate_layer_batch(prop_method::ImageZono, layer::Conv{2, 4, typeof(relu), Array{Float32, 4}, Vector{Float32}}, batch_bound::Vector{ModelVerification.ImageZonoBound{Float64}}, batch_info::Dict{Any, Any})\n",
      "    @ ModelVerification ~/ModelVerification.jl/src/propagate/propagate.jl:442\n",
      " [42] macro expansion\n",
      "    @ ~/.julia/packages/TimerOutputs/RsWnF/src/TimerOutput.jl:237 [inlined]\n",
      " [43] propagate_layer_method(prop_method::ImageZono, model_info::ModelVerification.Model, batch_info::Dict{Any, Any}, node::String)\n",
      "    @ ModelVerification ~/ModelVerification.jl/src/propagate/propagate.jl:264\n",
      " [44] propagate(prop_method::ImageZono, model_info::ModelVerification.Model, batch_info::Dict{Any, Any})\n",
      "    @ ModelVerification ~/ModelVerification.jl/src/propagate/propagate.jl:154\n",
      " [45] macro expansion\n",
      "    @ ~/.julia/packages/TimerOutputs/RsWnF/src/TimerOutput.jl:237 [inlined]\n",
      " [46] search_branches(search_method::BFS, split_method::Bisect, prop_method::ImageZono, problem::Problem{ModelVerification.ImageZonoBound{Float64}, HPolyhedron{Float64, Vector{Float64}}}, model_info::ModelVerification.Model; collect_bound::Bool, pre_split::Nothing)\n",
      "    @ ModelVerification ~/ModelVerification.jl/src/branching/search.jl:118\n",
      " [47] macro expansion\n",
      "    @ ~/.julia/packages/TimerOutputs/RsWnF/src/TimerOutput.jl:237 [inlined]\n",
      " [48] verify(search_method::BFS, split_method::Bisect, prop_method::ImageZono, problem::Problem{ImageConvexHull, HPolyhedron{Float64, Vector{Float64}}}; time_out::Int64, attack_restart::Int64, collect_bound::Bool, summary::Bool, pre_split::Nothing)\n",
      "    @ ModelVerification ~/ModelVerification.jl/src/ModelVerification.jl:159\n",
      " [49] verify(search_method::BFS, split_method::Bisect, prop_method::ImageZono, problem::Problem{ImageConvexHull, HPolyhedron{Float64, Vector{Float64}}})\n",
      "    @ ModelVerification ~/ModelVerification.jl/src/ModelVerification.jl:152\n",
      " [50] top-level scope\n",
      "    @ ~/MV-test/tutorial/tutorial.ipynb:3"
     ]
    }
   ],
   "source": [
    "search_method = BFS(max_iter=1, batch_size=1)\n",
    "split_method = Bisect(1)\n",
    "println(\"The property: \", verify(search_method, split_method, ImageZono(), Problem(model, input_set, output_set)).status)"
   ]
  },
  {
   "cell_type": "markdown",
   "metadata": {},
   "source": [
    "ModelVerification.jl also allows to visualize the output reachable sets of each layer during the verification process:"
   ]
  },
  {
   "cell_type": "code",
   "execution_count": null,
   "metadata": {},
   "outputs": [],
   "source": [
    "visualize(search_method, split_method, ImageZono(), Problem(model, input_set, output_set), \"visualization_RS/\")"
   ]
  },
  {
   "cell_type": "markdown",
   "metadata": {},
   "source": [
    "Let's analyze a couple of output images obtained...\n",
    "\n",
    "<p align=\"center\">\n",
    "<img src=\"visualization_RS/1_conv_0.png\" alt=\"Drawing\" align=\"center\" style=\"width: 800px;\"/>\n",
    "</p>\n"
   ]
  },
  {
   "cell_type": "markdown",
   "metadata": {},
   "source": [
    "In the left part of the image we can notice the center of the reachable set, while on the right the bound size."
   ]
  },
  {
   "cell_type": "markdown",
   "metadata": {},
   "source": [
    "Let's now see the output reachable set: \n",
    "\n",
    "<p align=\"center\">\n",
    "<img src=\"visualization_RS/12_dense_2.png\" alt=\"Drawing\" align=\"center\" style=\"width: 800px;\"/>\n",
    "</p>"
   ]
  },
  {
   "cell_type": "markdown",
   "metadata": {},
   "source": [
    "As we notice on the left we have that for the value 5 we have an associate maximum value in the heatmap, that's why the CNN predicted label \"5\"!"
   ]
  },
  {
   "cell_type": "markdown",
   "metadata": {},
   "source": [
    "<div id='example2-2'/>\n",
    "\n",
    "## Keypoints detection"
   ]
  },
  {
   "cell_type": "markdown",
   "metadata": {},
   "source": [
    "In this second example, we consider the *keypoints detection* task. In particular, given a CNN and a set of keypoints in the image, the model is robust if it can always precisely spot the location of each keypoint in the image, no matter the possible perturbation of the image.\n",
    "ModelVerfication.jl allows us to compute this formal analysis, providing several solvers and useful tools to analyze the results of this computation.\n",
    "\n",
    "\n",
    "For this section, let's consider a realistic scenario where, given a set of keypoints provided in a .csv file, we want to check if a particular model is formally robust to possible different perturbation of the model."
   ]
  },
  {
   "cell_type": "code",
   "execution_count": null,
   "metadata": {},
   "outputs": [],
   "source": [
    "include(\"utils_tutorial.jl\")"
   ]
  },
  {
   "cell_type": "markdown",
   "metadata": {},
   "source": [
    "First of all, we load the pretrained model. The originally trained networks for this specific task output heatmaps where the last layer has a softmax activation to identify the argmax corresponding to a specific label to be compared with the ground truth expected keypoint position. However, verifying a network that uses heatmaps as output and, more specifically, with a softmax layer is complicated. \n",
    "\n",
    "For this reason, ModelVerification.jl provides an automatic converter of this model into a model where the last layer is replaced with a layer average pooling and transform the verification into a classification problem. "
   ]
  },
  {
   "cell_type": "code",
   "execution_count": 18,
   "metadata": {},
   "outputs": [
    {
     "name": "stdout",
     "output_type": "stream",
     "text": [
      "Chain(Conv((7, 7), 3 => 64, pad=3, stride=2, bias=false), BatchNorm(64"
     ]
    },
    {
     "name": "stdout",
     "output_type": "stream",
     "text": [
      ", relu, active=false), MeanPool((3, 3), pad=1, stride=2), "
     ]
    },
    {
     "name": "stdout",
     "output_type": "stream",
     "text": [
      "SkipConnection(Chain(Conv((3, 3), 64 => 64, pad=1, bias=false), BatchNorm(64, relu, active=false), Conv((3, 3), 64 => 64, pad=1, bias=false), BatchNorm(64, active=false)), "
     ]
    },
    {
     "name": "stdout",
     "output_type": "stream",
     "text": [
      "+), #217, SkipConnection(Chain(Conv((3, 3), 64 => 64, pad=1, bias=false), BatchNorm(64, relu, active=false), Conv((3, 3), 64 => 64, pad=1, bias=false), BatchNorm(64, active=false)), +), #217, Parallel(+, α = Chain(Conv((3, 3), 64 => 128, pad=1, stride=2, bias=false), BatchNorm(128, relu, active=false), Conv((3, 3), 128 => 128, pad=1, bias=false), BatchNorm(128, active=false))"
     ]
    },
    {
     "name": "stdout",
     "output_type": "stream",
     "text": [
      ", β = Chain(Conv((1, 1), 64 => 128, stride=2, bias=false), BatchNorm(128, active=false))), #217, SkipConnection(Chain(Conv((3, 3), 128 => 128, pad=1, bias=false), BatchNorm(128, relu, active=false), Conv((3, 3), 128 => 128, pad=1, bias=false), BatchNorm(128, active=false)), +), #217, Parallel(+, α = Chain(Conv((3, 3), 128 => 256, pad=1, stride=2, bias=false), BatchNorm(256, relu, active=false), Conv((3, 3), 256 => 256, pad=1, bias=false), BatchNorm(256, active=false)), β = Chain(Conv((1, 1), 128 => 256, stride=2, bias=false), BatchNorm(256, active=false))), #217, SkipConnection(Chain(Conv((3, 3), 256 => 256, pad=1, bias=false), BatchNorm(256, relu, active=false), Conv((3, 3), 256 => 256, pad=1, bias=false), BatchNorm(256, active=false)), +), #217, Parallel(+, α = Chain(Conv((3, 3), 256 => 512, pad=1, stride=2, bias=false), BatchNorm(512, relu, active=false), Conv((3, 3), 512 => 512, pad=1, bias=false), BatchNorm(512, active=false)), β = Chain(Conv((1, 1), 256 => 512, stride=2, bias=false), BatchNorm(512, active=false))), #217, SkipConnection(Chain(Conv((3, 3), 512 => 512, pad=1, bias=false), BatchNorm(512, relu, active=false), Conv((3, 3), 512 => 512, pad=1, bias=false), BatchNorm(512, active=false)), +), #217, ConvTranspose((2, 2), 512 => 256, stride=2, bias=false), BatchNorm(256, relu, active=false), ConvTranspose((2, 2), 256 => 128, stride=2, bias=false), BatchNorm(128, relu, active=false), ConvTranspose((2, 2), 128 => 64, stride=2, bias=false), BatchNorm(64, relu, active=false), ConvTranspose((2, 2), 64 => 64, stride=2, bias=false), BatchNorm(64, relu, active=false), ConvTranspose((2, 2), 64 => 64, stride=2, bias=false), BatchNorm(64, relu, active=false), Conv((1, 1), 64 => 24), MeanPool((32, 32)), flatten)\n"
     ]
    }
   ],
   "source": [
    "# let's build our flux model\n",
    "onnx_model_path = \"./models/boeing_model.onnx\"\n",
    "model = build_boeing_flux_model(onnx_model_path)\n",
    "testmode!(model);\n",
    "\n",
    "println(model)"
   ]
  },
  {
   "cell_type": "markdown",
   "metadata": {},
   "source": [
    "That is, as in the previous case of MNIST, the network is robust if given a possible perturbation of the image, the network output corresponding to the keypoint position in the image itself continues to be correct. \n",
    "\n",
    "Graphically we perform the following:\n",
    "\n",
    "<p align=\"center\">\n",
    "<img src=\"images_tutorial/robustness_pipeline.png\" alt=\"Drawing\" align=\"center\" style=\"width: 1000px;\"/>\n",
    "</p>"
   ]
  },
  {
   "cell_type": "code",
   "execution_count": 19,
   "metadata": {},
   "outputs": [],
   "source": [
    "# the csv contains keypoints (the labels)\n",
    "img_path = \"./images_tutorial/AircraftInspection_00000008.png\"\n",
    "csv_path = \"./csv_file_keypoints/SynthPlane_08.csv\"\n",
    "input = load_image(img_path, csv_path);"
   ]
  },
  {
   "cell_type": "code",
   "execution_count": 20,
   "metadata": {},
   "outputs": [],
   "source": [
    "# load the image without background\n",
    "img_path = \"./images_tutorial/AircraftInspection_bg_00000008.png\"\n",
    "csv_path = \"./csv_file_keypoints/SynthPlane_08.csv\"\n",
    "input_bg = load_image(img_path, csv_path);"
   ]
  },
  {
   "cell_type": "code",
   "execution_count": 21,
   "metadata": {},
   "outputs": [
    {
     "data": {
      "text/plain": [
       "-0.5"
      ]
     },
     "metadata": {},
     "output_type": "display_data"
    }
   ],
   "source": [
    "# generate a image with block occulusion\n",
    "input = reshape(input, 256, 256, 3)\n",
    "input_bg = reshape(input_bg, 256, 256, 3)\n",
    "input_perturbed = copy(input)\n",
    "\n",
    "input_perturbed[100,100,2,1] = -0.5\n",
    "# input_perturbed[100,100,1:3,1] .= -0.5\n",
    "#input_perturbed[100:101,100:101,1:3,1] .= -0.5\n",
    "#input_perturbed[100:130,130:160,1:3,1] .= -0.5;"
   ]
  },
  {
   "cell_type": "code",
   "execution_count": 22,
   "metadata": {},
   "outputs": [
    {
     "data": {
      "image/png": "[encoded data removed]",
      "text/html": [
       "<img src=\"data:image/png;base64,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\">"
      ],
      "text/plain": [
       "256×256 reinterpret(reshape, RGB{Float64}, ::Array{Float64, 3}) with eltype RGB{Float64}:\n",
       " RGB{Float64}(0.200997,0.397759,0.618214)   …  RGB{Float64}(-1.62207,-2.03571,-1.80444)\n",
       " RGB{Float64}(0.358384,0.607843,0.827364)      RGB{Float64}(-1.62207,-2.03571,-1.80444)\n",
       " RGB{Float64}(0.3715,0.62535,0.844793)         RGB{Float64}(-1.62207,-2.03571,-1.80444)\n",
       " RGB{Float64}(0.397731,0.660364,0.879651)      RGB{Float64}(-1.62207,-2.03571,-1.80444)\n",
       " RGB{Float64}(0.437078,0.712885,0.931939)      RGB{Float64}(-1.62207,-2.03571,-1.80444)\n",
       " RGB{Float64}(0.463309,0.747899,0.966797)   …  RGB{Float64}(-1.62207,-2.03571,-1.80444)\n",
       " RGB{Float64}(0.502656,0.80042,1.01908)        RGB{Float64}(-1.62207,-2.03571,-1.80444)\n",
       " RGB{Float64}(0.502656,0.80042,1.01908)        RGB{Float64}(-1.62207,-2.03571,-1.80444)\n",
       " RGB{Float64}(0.528887,0.835434,1.05394)       RGB{Float64}(-1.62207,-2.03571,-1.80444)\n",
       " RGB{Float64}(0.542003,0.852941,1.07137)       RGB{Float64}(-1.62207,-2.03571,-1.80444)\n",
       " ⋮                                          ⋱  ⋮\n",
       " RGB{Float64}(0.109187,0.27521,0.496209)       RGB{Float64}(-1.62207,-2.03571,-1.80444)\n",
       " RGB{Float64}(0.109187,0.27521,0.496209)       RGB{Float64}(-1.62207,-2.03571,-1.80444)\n",
       " RGB{Float64}(0.16165,0.345238,0.565926)       RGB{Float64}(-1.62207,-2.03571,-1.80444)\n",
       " RGB{Float64}(0.187881,0.380252,0.600784)   …  RGB{Float64}(-1.62207,-2.03571,-1.80444)\n",
       " RGB{Float64}(0.174766,0.362745,0.583355)      RGB{Float64}(-1.62207,-2.03571,-1.80444)\n",
       " RGB{Float64}(0.174766,0.362745,0.583355)      RGB{Float64}(-1.62207,-2.03571,-1.80444)\n",
       " RGB{Float64}(0.16165,0.345238,0.565926)       RGB{Float64}(-1.62207,-2.03571,-1.80444)\n",
       " RGB{Float64}(0.0960719,0.257703,0.47878)      RGB{Float64}(-1.62207,-2.03571,-1.80444)\n",
       " RGB{Float64}(0.0173782,0.152661,0.374205)  …  RGB{Float64}(-1.62207,-2.03571,-1.80444)"
      ]
     },
     "metadata": {},
     "output_type": "display_data"
    },
    {
     "data": {
      "image/png": "[encoded data removed]",
      "text/html": [
       "<img src=\"data:image/png;base64,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\">"
      ],
      "text/plain": [
       "256×256 reinterpret(reshape, RGB{Float64}, ::Array{Float64, 3}) with eltype RGB{Float64}:\n",
       " RGB{Float64}(0.200997,0.397759,0.618214)   …  RGB{Float64}(-1.62207,-2.03571,-1.80444)\n",
       " RGB{Float64}(0.358384,0.607843,0.827364)      RGB{Float64}(-1.62207,-2.03571,-1.80444)\n",
       " RGB{Float64}(0.3715,0.62535,0.844793)         RGB{Float64}(-1.62207,-2.03571,-1.80444)\n",
       " RGB{Float64}(0.397731,0.660364,0.879651)      RGB{Float64}(-1.62207,-2.03571,-1.80444)\n",
       " RGB{Float64}(0.437078,0.712885,0.931939)      RGB{Float64}(-1.62207,-2.03571,-1.80444)\n",
       " RGB{Float64}(0.463309,0.747899,0.966797)   …  RGB{Float64}(-1.62207,-2.03571,-1.80444)\n",
       " RGB{Float64}(0.502656,0.80042,1.01908)        RGB{Float64}(-1.62207,-2.03571,-1.80444)\n",
       " RGB{Float64}(0.502656,0.80042,1.01908)        RGB{Float64}(-1.62207,-2.03571,-1.80444)\n",
       " RGB{Float64}(0.528887,0.835434,1.05394)       RGB{Float64}(-1.62207,-2.03571,-1.80444)\n",
       " RGB{Float64}(0.542003,0.852941,1.07137)       RGB{Float64}(-1.62207,-2.03571,-1.80444)\n",
       " ⋮                                          ⋱  ⋮\n",
       " RGB{Float64}(0.109187,0.27521,0.496209)       RGB{Float64}(-1.62207,-2.03571,-1.80444)\n",
       " RGB{Float64}(0.109187,0.27521,0.496209)       RGB{Float64}(-1.62207,-2.03571,-1.80444)\n",
       " RGB{Float64}(0.16165,0.345238,0.565926)       RGB{Float64}(-1.62207,-2.03571,-1.80444)\n",
       " RGB{Float64}(0.187881,0.380252,0.600784)   …  RGB{Float64}(-1.62207,-2.03571,-1.80444)\n",
       " RGB{Float64}(0.174766,0.362745,0.583355)      RGB{Float64}(-1.62207,-2.03571,-1.80444)\n",
       " RGB{Float64}(0.174766,0.362745,0.583355)      RGB{Float64}(-1.62207,-2.03571,-1.80444)\n",
       " RGB{Float64}(0.16165,0.345238,0.565926)       RGB{Float64}(-1.62207,-2.03571,-1.80444)\n",
       " RGB{Float64}(0.0960719,0.257703,0.47878)      RGB{Float64}(-1.62207,-2.03571,-1.80444)\n",
       " RGB{Float64}(0.0173782,0.152661,0.374205)  …  RGB{Float64}(-1.62207,-2.03571,-1.80444)"
      ]
     },
     "metadata": {},
     "output_type": "display_data"
    }
   ],
   "source": [
    "# use the block occulusion to builc image convex hull\n",
    "# input_adv = input_bg;\n",
    "input_adv = input_perturbed;\n",
    "display(colorview(RGB, permutedims(input[:, :, :, 1], [3,1,2])))\n",
    "display(colorview(RGB, permutedims(input_adv[:, :, :, 1], [3,1,2])))\n",
    "# colorview(RGB, img)"
   ]
  },
  {
   "cell_type": "markdown",
   "metadata": {},
   "source": [
    "As we can notice we created a perturbation of the image, adding a small red patch in the center of the second image..."
   ]
  },
  {
   "cell_type": "code",
   "execution_count": 23,
   "metadata": {},
   "outputs": [
    {
     "name": "stdout",
     "output_type": "stream",
     "text": [
      "[12; 13; 21; 20; 29; 21; 6; 20; 21; 20; 21; 20; 21; 2; 14; 10; 14; 5; 5; 3; 3; 2; 4; 4;;]\n",
      "[12; 13; 21; 20; 29; 21; 6; 20; 21; 20; 21; 20; 21; 2; 14; 10; 14; 5; 5; 3; 3; 2; 4; 4;;]\n"
     ]
    }
   ],
   "source": [
    "# show the prediction of the original image and the perturbed image\n",
    "y = model(reshape(input, 256,256,3,1))\n",
    "y_adv = model(reshape(input_adv, 256,256,3,1))\n",
    "keypoint_loc = [x[1] for x in argmax(reshape(y, 64, 24), dims=1)]\n",
    "keypoint_loc_adv = [x[1] for x in argmax(reshape(y, 64, 24), dims=1)]\n",
    "println(keypoint_loc')\n",
    "println(keypoint_loc_adv')"
   ]
  },
  {
   "cell_type": "code",
   "execution_count": null,
   "metadata": {},
   "outputs": [],
   "source": [
    "keypoint_spec = keypoint_error_spec(y, keypoint_loc, 64)\n",
    "\n",
    "# Verify the problem. It takes about 1-3 mins.\n",
    "pre_slit = 256\n",
    "max_iter = pre_slit * 2\n",
    "search_method = BFS(max_iter=max_iter, batch_size=1)\n",
    "split_method = Bisect(1)\n",
    "prop_method = ImageZono()\n",
    "image_seeds = ImageConvexHull([input, input_adv])  # 256 x 256 x 3 x 2\n",
    "stats = @timed verify(search_method, split_method, prop_method, Problem(model, image_seeds, keypoint_spec), pre_split=pre_slit)\n"
   ]
  },
  {
   "cell_type": "markdown",
   "metadata": {},
   "source": [
    "As we have done with the MNIST case study we can visualize each layer reachable set..."
   ]
  },
  {
   "cell_type": "code",
   "execution_count": null,
   "metadata": {},
   "outputs": [],
   "source": [
    "# Visualize the reachable set of the first propagation\n",
    "search_method = BFS(max_iter=1, batch_size=1)\n",
    "split_method = Bisect(1)\n",
    "prop_method = ImageZono()\n",
    "visualize(search_method, split_method, prop_method, Problem(model, image_seeds, keypoint_spec), \"visualization_RS_keypoints/\")"
   ]
  },
  {
   "cell_type": "markdown",
   "metadata": {},
   "source": [
    "<div id='example3'/>\n",
    "\n",
    "# Example 3: Verifying a DRL policy for collision avoidance safety property\n",
    "\n",
    "-----"
   ]
  },
  {
   "cell_type": "markdown",
   "metadata": {},
   "source": [
    "This section shows how we can use ModelVerification.jl to verify DRL policies or behavior properties more generally. We begin with a robotic mapless navigation task and then the ACAS xu benchmark."
   ]
  },
  {
   "cell_type": "markdown",
   "metadata": {},
   "source": [
    "<div id='example3-1'/>\n",
    "\n",
    "## DNN-Verification for robotic mapless navigation"
   ]
  },
  {
   "cell_type": "markdown",
   "metadata": {},
   "source": [
    "**Robotic mapless Navigation** is a well-known benchmark in practical DRL applications, where a robot has to learn how to navigate toward different random targets with only local information such as using a lidar (i.e., without a map of the environment)."
   ]
  },
  {
   "cell_type": "markdown",
   "metadata": {},
   "source": [
    "<p align=\"center\">\n",
    "<img src=\"images_tutorial/mapless_navigation.gif\" width=\"800\" height=\"250\" />\n",
    "\n",
    "$$Robotic\\;mapless\\;navigation$$\n",
    "<p/>"
   ]
  },
  {
   "cell_type": "markdown",
   "metadata": {},
   "source": [
    "What makes this task difficult is that the only information used by the intelligent agent is based on these lidar sensors that may be subject to \"noise.\" In particular, it is widely known that DNNs can have significantly different outputs for small perturbations in their inputs. This unexpected behavior of DNNs is likely to result in unsafe systems:"
   ]
  },
  {
   "cell_type": "markdown",
   "metadata": {},
   "source": [
    "<p align=\"center\">\n",
    "<img src=\"images_tutorial/collision.gif\" width=\"600\" height=\"350\" />\n",
    "\n",
    "$$unsafe\\;behavior$$\n",
    "<p/>"
   ]
  },
  {
   "cell_type": "markdown",
   "metadata": {},
   "source": [
    "Hence, we need the formal verification of neural networks to provide provable guarantees about the behavior of neural networks in every possible context. We begin by seeing how a neural network employed for a robotic navigation task can be verified. In particular we assume a setup similar to the following:"
   ]
  },
  {
   "cell_type": "markdown",
   "metadata": {},
   "source": [
    "<p align=\"center\">\n",
    "<img src=\"images_tutorial/drl_collision.png\" alt=\"Drawing\" align=\"center\" style=\"width: 800px;\"/>\n",
    "</p>"
   ]
  },
  {
   "cell_type": "markdown",
   "metadata": {},
   "source": [
    "We have DNN that encodes our agent. The input space of our DNN is composed by seven continuous value that encodes using $\\mathcal{D}_x = \\{x_0, \\dots, x_{6}\\}$ , where the first five values are the lidar values that sense the distance from obstacles in the environment, while $x_{5}, x_{6}$ encode the relative position of the goal with respect to the agent's position (i.e., distance and heading). Regarding the output space, for the sake of simplicity, we consider only three discrete actions: $y_0$ that encodes a forward movement, while $y_1, y_2$ represents a left and right rotation, respectively. \n",
    "\n",
    "<p align=\"center\">\n",
    "<img src=\"images_tutorial/dnn_drl.png\" alt=\"Drawing\" align=\"center\" style=\"width: 500px;\"/>\n",
    "</p>\n",
    "\n",
    "\n",
    "Now, suppose we want to formally verify that in the situation depicted in the center of the figure above, i.e., a situation where the agent is very close to an obstacle, the DNN never selects the action $y_0$ which will lead to a collision as represented in the right part of the figure. Hence, we are trying to encode the following situation:\n",
    "\n",
    "<p align=\"center\">\n",
    "<img src=\"images_tutorial/unsafe_reg.png\" alt=\"Drawing\" align=\"center\" style=\"width: 300px;\"/>\n",
    "</p>\n",
    "\n",
    "$$ \\forall x_i \\in \\mathcal{X},\\quad y_0 < y_1, y_2$$"
   ]
  },
  {
   "cell_type": "markdown",
   "metadata": {},
   "source": [
    "For every possible lidar value in the unsafe region encoded by $\\mathcal{X}$, the action $y_0$ should always less preferred with respect to the other two available. The formal verification process consists of finding (if it exists) an assignment for $[x_0,....,x_6]^T$ such that $y_0 > y_1$ and simultaneously $y_0 > y_2$. If this assignment exists, we have a violation point in the input safety property's domain $\\mathcal{X}$. On the other hand, we can assert that in that particular situation depicted in the figure above, we have provable guarantees that the agent will never select the action corresponding to a forward movement. Hence, the DNN-Verification process in this situation would require verifying the conjunction of two postconditions, which is often complicated to perform. Let's how the network structure can be modified so that the verification process can be brought back to a single condition check using halfspaces.\n"
   ]
  },
  {
   "cell_type": "markdown",
   "metadata": {},
   "source": [
    "First let's load the original DRL model"
   ]
  },
  {
   "cell_type": "code",
   "execution_count": null,
   "metadata": {},
   "outputs": [],
   "source": [
    "include(\"utils_tutorial.jl\")"
   ]
  },
  {
   "cell_type": "code",
   "execution_count": 28,
   "metadata": {},
   "outputs": [
    {
     "data": {
      "text/plain": [
       "Chain(\n",
       "  Dense(7 => 32; bias=false),           \u001b[90m# 224 parameters\u001b[39m\n",
       "  ONNXNaiveNASflux.var\"#217#229\"{typeof(relu)}(NNlib.relu),\n",
       "  Dense(32 => 32; bias=false),          \u001b[90m# 1_024 parameters\u001b[39m\n",
       "  ONNXNaiveNASflux.var\"#217#229\"{typeof(relu)}(NNlib.relu),\n",
       "  Dense(32 => 3; bias=false),           \u001b[90m# 96 parameters\u001b[39m\n",
       ") \u001b[90m                  # Total: 3 arrays, \u001b[39m1_344 parameters, 5.508 KiB."
      ]
     },
     "metadata": {},
     "output_type": "display_data"
    }
   ],
   "source": [
    "# First, let's load the model\n",
    "onnx_path = \"models/model_drl_unsafe.onnx\"\n",
    "model_drl = ModelVerification.build_flux_model(onnx_path)\n",
    "model_drl"
   ]
  },
  {
   "cell_type": "markdown",
   "metadata": {},
   "source": [
    "As we can notice, the structure is the same as the one depicted above. Let's now perform a forward propagation to check that everything is correct"
   ]
  },
  {
   "cell_type": "code",
   "execution_count": 29,
   "metadata": {},
   "outputs": [
    {
     "name": "stdout",
     "output_type": "stream",
     "text": [
      "\n",
      "Test propagation:\n"
     ]
    },
    {
     "name": "stdout",
     "output_type": "stream",
     "text": [
      "Float32[0.14630161, -0.1948066, -0.2447444]\n",
      "Float32[-0.0060760486, 0.01549258, -0.092668965]\n"
     ]
    }
   ],
   "source": [
    "println(\"\\nTest propagation:\")\n",
    "output_negative_original = model_drl([0.60014254, 0.02140923, 0.03877764, 0.0176078,  0.51737836, 0.80594596, 0.74477811]) # expected output [ 0.14630161 -0.1948066  -0.2447444 ]\n",
    "output_size = size(output_negative_original)[1]\n",
    "println(output_negative_original)\n",
    "\n",
    "output_positive_original = model_drl([0.80014254, 0.7140923, 0.9877764, 0.776078,  0.11737836, 0.10594596, 0.04477811]) # expected output [-0.0060760486, 0.01549258, -0.092668965]\n",
    "println(output_positive_original)"
   ]
  },
  {
   "cell_type": "markdown",
   "metadata": {},
   "source": [
    "We now modify the network structure to obtain one output node on which we can control a single condition using halfspace. In particular, the idea is to get a result equal to $0$ only if the action $y_0$ is chosen (i.e., iff $y_0 > y_1$ and $y_0 >y_2$), and a positive output in all other cases. To this end, we add a new layer activated with $ReLU$ that computes the operation $y_1 - y_0$ and $y_2 - y_0$ in the two nodes. The only possibility to obtain a negative value in both nodes is that $y_0 > y_1$ and $y_0 >y_2$. Since these nodes are activated with $ReLU$, the final output will be $0$. On the other hand, if one between $y_1$ and $y_2$ (or both) is larger than $y_0$, we will obtain a result strictly > $0$ as we want. We report a graphic representation of the transformation below:"
   ]
  },
  {
   "cell_type": "markdown",
   "metadata": {},
   "source": [
    "<p align=\"center\">\n",
    "<img src=\"images_tutorial/dnn_conversion.png\" alt=\"Drawing\" align=\"center\" style=\"width: 600px;\"/>\n",
    "</p>"
   ]
  },
  {
   "cell_type": "markdown",
   "metadata": {},
   "source": [
    "Let's see how we can obtain this new model in Julia"
   ]
  },
  {
   "cell_type": "code",
   "execution_count": 30,
   "metadata": {},
   "outputs": [
    {
     "data": {
      "text/plain": [
       "Chain(\n",
       "  Dense(7 => 32; bias=false),           \u001b[90m# 224 parameters\u001b[39m\n",
       "  ONNXNaiveNASflux.var\"#217#229\"{typeof(relu)}(NNlib.relu),\n",
       "  Dense(32 => 32; bias=false),          \u001b[90m# 1_024 parameters\u001b[39m\n",
       "  ONNXNaiveNASflux.var\"#217#229\"{typeof(relu)}(NNlib.relu),\n",
       "  Dense(32 => 3; bias=false),           \u001b[90m# 96 parameters\u001b[39m\n",
       "  Dense(3 => 2),                        \u001b[90m# 8 parameters\u001b[39m\n",
       "  NNlib.relu,\n",
       "  Dense(2 => 1),                        \u001b[90m# 3 parameters\u001b[39m\n",
       ") \u001b[90m                  # Total: 7 arrays, \u001b[39m1_355 parameters, 5.801 KiB."
      ]
     },
     "metadata": {},
     "output_type": "display_data"
    }
   ],
   "source": [
    "# first we create a new layer that takes the previous original output size and output a single value\n",
    "y = Dense(output_size, output_size-1)\n",
    "y_final = Dense(output_size-1,1)\n",
    "model_drl_new = Chain(model_drl.layers..., y, relu, y_final)\n",
    "model_drl_new"
   ]
  },
  {
   "cell_type": "code",
   "execution_count": 31,
   "metadata": {},
   "outputs": [
    {
     "name": "stdout",
     "output_type": "stream",
     "text": [
      "Original weights new layer\n",
      "Params([Float32"
     ]
    },
    {
     "name": "stdout",
     "output_type": "stream",
     "text": [
      "[-0.28672165 0.8929369 0.8394273; 0.21611692 -0.96519876 -0.289418], Float32[0.0, 0.0]])\n",
      "\n",
      "New weights last layer"
     ]
    },
    {
     "name": "stdout",
     "output_type": "stream",
     "text": [
      "\n",
      "Params([Float32[-1.0 1.0 0.0; -1.0 0.0 1.0], Float32[0.0, 0.0]])\n"
     ]
    }
   ],
   "source": [
    "last_layer = lastindex(model_drl_new.layers) - 2\n",
    "println(\"Original weights new layer\")\n",
    "println(Flux.params(model_drl_new.layers[last_layer]))\n",
    "\n",
    "\n",
    "custom_weights = [-1 1 0; \n",
    "                  -1 0 1]\n",
    "\n",
    "\n",
    "Flux.params(model_drl_new.layers[last_layer])[1] .= custom_weights\n",
    "println(\"\\nNew weights last layer\")\n",
    "println(Flux.params(model_drl_new.layers[last_layer]))"
   ]
  },
  {
   "cell_type": "code",
   "execution_count": 32,
   "metadata": {},
   "outputs": [
    {
     "name": "stdout",
     "output_type": "stream",
     "text": [
      "Original weights new layer\n",
      "Params([Float32[-1.287309 -1.410009], Float32[0.0]])\n"
     ]
    },
    {
     "name": "stdout",
     "output_type": "stream",
     "text": [
      "\n",
      "New weights last layer\n",
      "Params([Float32[1.0 1.0], Float32[0.0]])\n"
     ]
    }
   ],
   "source": [
    "last_layer = lastindex(model_drl_new.layers)\n",
    "println(\"Original weights new layer\")\n",
    "println(Flux.params(model_drl_new.layers[last_layer]))\n",
    "\n",
    "custom_weights =  reshape([1.0, 1.0], 1, 2)\n",
    "\n",
    "Flux.params(model_drl_new.layers[last_layer])[1] .= custom_weights\n",
    "println(\"\\nNew weights last layer\")\n",
    "println(Flux.params(model_drl_new.layers[last_layer]))"
   ]
  },
  {
   "cell_type": "markdown",
   "metadata": {},
   "source": [
    "Let's test the conversion with the new output layer. "
   ]
  },
  {
   "cell_type": "code",
   "execution_count": 33,
   "metadata": {},
   "outputs": [
    {
     "name": "stdout",
     "output_type": "stream",
     "text": [
      "The original output for the input [0.60014254, 0.02140923, 0.03877764, 0.0176078, 0.51737836, 0.80594596, 0.74477811] was\n",
      "Float32[0.14630161, -0.1948066, -0.2447444]\n",
      "action chosen: y_0\n",
      "Output in the new DNN with new output: "
     ]
    },
    {
     "name": "stdout",
     "output_type": "stream",
     "text": [
      "Float32[0.0]\n",
      "\n",
      "The original output for the input [0.80014254, 0.7140923, 0.9877764, 0.776078, 0.11737836, 0.10594596, 0.04477811] was\n",
      "Float32[-0.0060760486, 0.01549258, -0.092668965]\n",
      "action chosen: y_1\n",
      "Output in the new DNN with new output: Float32[0.021568628]\n",
      "\n"
     ]
    }
   ],
   "source": [
    "input_negative = [0.60014254, 0.02140923, 0.03877764, 0.0176078,  0.51737836, 0.80594596, 0.74477811]\n",
    "test_negative = model_drl_new(input_negative)\n",
    "println(\"The original output for the input \", input_negative, \" was\")\n",
    "println(output_negative_original)\n",
    "println(\"action chosen: y_\", argmax(output_negative_original)-1)\n",
    "println(\"Output in the new DNN with new output: \",test_negative )\n",
    "println()\n",
    "\n",
    "input_positive = [0.80014254, 0.7140923, 0.9877764, 0.776078,  0.11737836, 0.10594596, 0.04477811]\n",
    "test_positive = model_drl_new(input_positive)\n",
    "println(\"The original output for the input \", input_positive, \" was\")\n",
    "println(output_positive_original)\n",
    "println(\"action chosen: y_\", argmax(output_positive_original)-1)\n",
    "println(\"Output in the new DNN with new output: \",test_positive )\n",
    "println()\n"
   ]
  },
  {
   "cell_type": "markdown",
   "metadata": {},
   "source": [
    "As expected, we obtain a value equal to $0$ if the action $y_0$ is chosen in the original DNN, strictly $> 0$ otherwise. Hence, the conversion is correct! Let's now move on to encode the safety property and to the verification process."
   ]
  },
  {
   "cell_type": "code",
   "execution_count": 49,
   "metadata": {},
   "outputs": [
    {
     "ename": "MethodError",
     "evalue": "MethodError: no method matching affine_map(::Matrix{Float32}, ::Hyperrectangle{Float64, Vector{Float64}, Vector{Float64}}, ::Bool)\n\nClosest candidates are:\n  affine_map(::AbstractMatrix, ::LazySet, !Matched::AbstractVector; kwargs...)\n   @ LazySets ~/.julia/packages/LazySets/HlinV/src/Interfaces/LazySet.jl:454\n  affine_map(::AbstractMatrix, !Matched::Star, !Matched::AbstractVector)\n   @ LazySets ~/.julia/packages/LazySets/HlinV/src/Sets/Star.jl:409\n",
     "output_type": "error",
     "traceback": [
      "MethodError: no method matching affine_map(::Matrix{Float32}, ::Hyperrectangle{Float64, Vector{Float64}, Vector{Float64}}, ::Bool)\n",
      "\n",
      "Closest candidates are:\n",
      "  affine_map(::AbstractMatrix, ::LazySet, !Matched::AbstractVector; kwargs...)\n",
      "   @ LazySets ~/.julia/packages/LazySets/HlinV/src/Interfaces/LazySet.jl:454\n",
      "  affine_map(::AbstractMatrix, !Matched::Star, !Matched::AbstractVector)\n",
      "   @ LazySets ~/.julia/packages/LazySets/HlinV/src/Sets/Star.jl:409\n",
      "\n",
      "\n",
      "Stacktrace:\n",
      "  [1] affine_map(layer::Dense{typeof(relu), Matrix{Float32}, Bool}, x::Hyperrectangle{Float64, Vector{Float64}, Vector{Float64}})\n",
      "    @ ModelVerification ~/ModelVerification.jl/src/propagate/operators/util.jl:28\n",
      "  [2] propagate_linear(prop_method::Ai2z, layer::Dense{typeof(relu), Matrix{Float32}, Bool}, reach::Hyperrectangle{Float64, Vector{Float64}, Vector{Float64}}, batch_info::Dict{Any, Any})\n",
      "    @ ModelVerification ~/ModelVerification.jl/src/propagate/operators/dense.jl:23\n",
      "  [3] (::ModelVerification.var\"#84#85\"{Ai2z, Dense{typeof(relu), Matrix{Float32}, Bool}, Vector{Hyperrectangle{Float64, Vector{Float64}, Vector{Float64}}}, Dict{Any, Any}})(i::Int64)\n",
      "    @ ModelVerification ./none:0\n",
      "  [4] iterate\n",
      "    @ ./generator.jl:47 [inlined]\n",
      "  [5] collect\n",
      "    @ ./array.jl:782 [inlined]\n",
      "  [6] propagate_linear_batch\n",
      "    @ ~/ModelVerification.jl/src/propagate/propagate.jl:334 [inlined]\n",
      "  [7] macro expansion\n",
      "    @ ~/.julia/packages/TimerOutputs/RsWnF/src/TimerOutput.jl:237 [inlined]\n",
      "  [8] propagate_layer_batch(prop_method::Ai2z, layer::Dense{typeof(relu), Matrix{Float32}, Bool}, batch_bound::Vector{Hyperrectangle{Float64, Vector{Float64}, Vector{Float64}}}, batch_info::Dict{Any, Any})\n",
      "    @ ModelVerification ~/ModelVerification.jl/src/propagate/propagate.jl:442\n",
      "  [9] macro expansion\n",
      "    @ ~/.julia/packages/TimerOutputs/RsWnF/src/TimerOutput.jl:237 [inlined]\n",
      " [10] propagate_layer_method(prop_method::Ai2z, model_info::ModelVerification.Model, batch_info::Dict{Any, Any}, node::String)\n",
      "    @ ModelVerification ~/ModelVerification.jl/src/propagate/propagate.jl:264\n",
      " [11] propagate(prop_method::Ai2z, model_info::ModelVerification.Model, batch_info::Dict{Any, Any})\n",
      "    @ ModelVerification ~/ModelVerification.jl/src/propagate/propagate.jl:154\n",
      " [12] macro expansion\n",
      "    @ ~/.julia/packages/TimerOutputs/RsWnF/src/TimerOutput.jl:237 [inlined]\n",
      " [13] search_branches(search_method::BFS, split_method::Bisect, prop_method::Ai2z, problem::Problem{Hyperrectangle{Float64, Vector{Float64}, Vector{Float64}}, Complement{Float64, HalfSpace{Float64, Vector{Float64}}}}, model_info::ModelVerification.Model; collect_bound::Bool, pre_split::Nothing)\n",
      "    @ ModelVerification ~/ModelVerification.jl/src/branching/search.jl:118\n",
      " [14] search_branches\n",
      "    @ ~/ModelVerification.jl/src/branching/search.jl:84 [inlined]\n",
      " [15] macro expansion\n",
      "    @ ~/.julia/packages/TimerOutputs/RsWnF/src/TimerOutput.jl:237 [inlined]\n",
      " [16] verify(search_method::BFS, split_method::Bisect, prop_method::Ai2z, problem::Problem{Hyperrectangle{Float64, Vector{Float64}, Vector{Float64}}, Complement{Float64, HalfSpace{Float64, Vector{Float64}}}}; time_out::Int64, attack_restart::Int64, collect_bound::Bool, summary::Bool, pre_split::Nothing)\n",
      "    @ ModelVerification ~/ModelVerification.jl/src/ModelVerification.jl:159\n",
      " [17] verify(search_method::BFS, split_method::Bisect, prop_method::Ai2z, problem::Problem{Hyperrectangle{Float64, Vector{Float64}, Vector{Float64}}, Complement{Float64, HalfSpace{Float64, Vector{Float64}}}})\n",
      "    @ ModelVerification ~/ModelVerification.jl/src/ModelVerification.jl:152\n",
      " [18] top-level scope\n",
      "    @ ~/MV-test/tutorial/tutorial.ipynb:23"
     ]
    }
   ],
   "source": [
    "# let's define the input-output specification to be verified\n",
    "X = Hyperrectangle(low = [0.06, 0.01, 0.01, 0.01, 0.06, -1.0, 0.0], high = [0.7, 0.05, 0.05, 0.05, 0.7, 1.0, 1.0])\n",
    "\n",
    "# As post-condition on the output node we can check if we have a strictly > 0 vector\n",
    "Y = Complement(HalfSpace([1.0], 0.0)) # y > 0.0, i.e., to check if the agent chooses always the forward movement --> violated, since we also have value > 0, no violations\n",
    "#Y = HalfSpace([1.0], 0.0) # y <= 0.0, i.e., to check if the agent chooses always the forward movement --> violated, since we also have value > 0, no violations\n",
    "\n",
    "\n",
    "# let's instantiate the Problem for the ModelVerification.jl toolbox\n",
    "problem = Problem(model_drl_new, X, Y)\n",
    "\n",
    "# we instantiate the 3 main components for the verification process\n",
    "search_method = BFS(max_iter=200, batch_size=1)\n",
    "split_method = Bisect(1)\n",
    "\n",
    "#parameter used in CROWN\n",
    "use_gpu = false\n",
    "lower_bound = true\n",
    "upper_bound = true\n",
    "solver = Crown(use_gpu, lower_bound, upper_bound)\n",
    "\n",
    "result = verify(search_method, split_method, solver, problem)\n",
    "\n",
    "\n",
    "# the result of the computation is stored in 'result.status'. Let's see id the property holds...\n",
    "println(\"The property is \", result.status, \"!\")\n"
   ]
  },
  {
   "cell_type": "markdown",
   "metadata": {},
   "source": [
    "<div id='example3-2'/>\n",
    "\n",
    "## ACAS xu benchmark"
   ]
  },
  {
   "cell_type": "markdown",
   "metadata": {},
   "source": [
    "In this section we will use ModelVerification.jl to verify one of the properties of the ACAS Xu networks [\"Deep neural network compression for aircraft collision avoidance systems,\" K.D. Julian, M.J. Kochenderfer (Joournal of Guidane, Control and Dynamics, 2019](https://arc.aiaa.org/doi/10.2514/1.G003724).\n",
    "\n",
    "The ACAS Xu network works map input variables, corresponding to the system's state, to action advisories by assigning a score to each possible action. The action corresponding to the lowest score is the best action to take. The input is composed of five dimension described in the image below:\n",
    "\n",
    "<p align=\"center\">\n",
    "<img src=\"images_tutorial/acas.png\" alt=\"Drawing\" align=\"center\" style=\"width: 400px;\"/>\n",
    "</p>\n",
    "\n",
    "1. $\\rho$ - Distance from ownship to intruder\n",
    "2. $\\theta$ - Angle to intruder relative to ownship heading direction\n",
    "3. $\\psi$ - Heading angle of intruder relative to ownship heading direction\n",
    "4. $v_{own}$ - Speed of ownship\n",
    "5. $v_{int}$ - Speed of intruder\n",
    "\n",
    "   \n",
    "\n",
    "Five possible outputs represent the different advisories that the ACAS Xu system can produce:\n",
    "\n",
    "1. Clear-of-Conflict\n",
    "2. weak right\n",
    "3. strong right\n",
    "4. weak left\n",
    "5. strong left\n",
    "\n",
    "Hence, each of the 45 networks trained has five inputs and five outputs. The DNNs are fully connected, use ReLU activation functions and have 6 hidden layers with a total of 300 ReLU nodes."
   ]
  },
  {
   "cell_type": "markdown",
   "metadata": {},
   "source": [
    "### Property $\\phi_3$"
   ]
  },
  {
   "cell_type": "markdown",
   "metadata": {},
   "source": [
    "This property encodes that if the intruder is directly ahead and is moving towards the ownship, the score for COC will not be minimal (i.e., the action $y_1=COC$ should not be selected). The input set corresponds to:\n",
    "\n",
    "- $1500 \\leq \\rho \\leq 1800$\n",
    "\n",
    "-  $-0.06 \\leq \\theta \\leq 0.06$\n",
    "\n",
    "-  $3.1 \\leq \\psi \\leq 3.14$\n",
    "\n",
    "-  $ 980 \\leq v_{own} \\leq 1200$\n",
    "\n",
    "-  $ 960 \\leq v_{int} \\leq 1200$"
   ]
  },
  {
   "cell_type": "markdown",
   "metadata": {},
   "source": [
    "Since Acas Xu is a standard benchmark in the Formal Verification of Neural Networks community, all the properties and DNNs are already provided in the [VNN-lib](https://www.vnnlib.org) the international benchmarks standard for the Verification of Neural Networks. "
   ]
  },
  {
   "cell_type": "code",
   "execution_count": 40,
   "metadata": {},
   "outputs": [
    {
     "data": {
      "text/plain": [
       "read_vnnlib_simple (generic function with 1 method)"
      ]
     },
     "metadata": {},
     "output_type": "display_data"
    }
   ],
   "source": [
    "include(\"vnnlib_parser.jl\")"
   ]
  },
  {
   "cell_type": "code",
   "execution_count": 43,
   "metadata": {},
   "outputs": [
    {
     "data": {
      "text/plain": [
       "ModelVerification.Network(ModelVerification.Layer[ModelVerification.Layer{ModelVerification.ReLU, Float64}([0.0553801 0.190198 … -1.32009 -0.704992; -0.010481 -0.118571 … -0.736114 -1.00878; … ; -0.0514028 -1.17772 … 0.382633 -0.500615; -0.936931 -0.203562 … -0.20136 0.320543], [-0.557027, -0.317043, 0.138104, 0.189978, 0.188149, 0.0552362, -0.06767, -0.260805, -0.267183, -0.348518  …  0.180223, -0.408499, -0.429542, -0.0201813, 0.0710165, 0.0685803, -0.303011, -0.0773268, 0.0294964, -0.20074], ModelVerification.ReLU()), ModelVerification.Layer{ModelVerification.ReLU, Float64}([0.0566575 -0.886943 … -0.0620558 0.675837; 0.0112267 -0.0286864 … -0.0204356 0.0231885; … ; -0.0430308 -0.0507441 … 0.0543209 0.0106731; -0.471027 -0.156611 … -0.0869253 -0.119048], [-0.725588, -0.00307708, -0.0214729, -1.02263, 0.0132117, 0.254539, -0.0161837, 1.00489, 0.366733, 0.576586  …  -0.620393, -0.587556, 0.25641, 0.323012, -0.339327, 0.0850243, -0.0925355, 0.110709, -0.00651723, 0.75789], ModelVerification.ReLU()), ModelVerification.Layer{ModelVerification.ReLU, Float64}([0.811313 -0.0177385 … 0.044751 -0.310097; -0.100491 0.0188655 … -0.0401978 0.0208675; … ; 0.258992 0.0390925 … 0.0222974 -0.256489; 0.248176 0.0204616 … -0.00455045 -0.0194011], [1.21833, 0.375853, -0.499518, 0.229708, -0.230561, 0.604014, -0.126404, -1.15477, 0.925198, 0.391276  …  -0.374973, 0.355833, 0.466743, 0.195897, -0.209863, 1.4417, -1.92691, -1.33186, -0.608108, -0.0552489], ModelVerification.ReLU()), ModelVerification.Layer{ModelVerification.ReLU, Float64}([-0.284275 1.26682 … 0.652368 0.261866; -0.358022 0.54326 … -0.31556 1.48484; … ; -0.0544387 0.0318407 … -0.00964187 -0.0312889; -1.24653 -1.90103 … 0.23901 0.93731], [-1.13694, -1.44306, -0.460143, -0.0907356, 0.241528, -0.192749, -0.630641, 0.83967, -1.39985, 0.082259  …  -0.0646865, -0.114161, -0.786448, 1.2535, -1.50742, -0.242032, 1.32623, 0.192411, -0.0200379, -1.84077], ModelVerification.ReLU()), ModelVerification.Layer{ModelVerification.ReLU, Float64}([1.91712 1.71162 … -0.0212174 -0.132761; 0.511885 -0.0767139 … -0.000783143 -0.106214; … ; -2.22863 -2.68154 … 0.0329931 -0.733651; 0.876422 -1.5178 … 0.0121031 0.894566], [-0.00531489, 1.09042, 2.14067, 1.00862, 2.09616, 2.17111, 0.608048, -0.45753, 2.19102, -1.64808  …  1.29271, 2.49076, -0.33568, 1.20101, 0.984225, 0.926552, 3.37819, 1.09261, -1.20169, 0.121169], ModelVerification.ReLU()), ModelVerification.Layer{ModelVerification.ReLU, Float64}([0.0309351 0.018066 … -0.000404464 -0.00930195; 0.0947937 0.0378741 … -0.0157776 0.0151329; … ; -0.0239041 0.00795744 … 0.00174597 -0.0144685; -2.98325 -0.327786 … 0.0901683 2.65604], [0.225979, 0.641137, -1.12203, -0.258403, 0.279404, -3.15813, 3.81989, -0.838817, 0.337129, 1.48143  …  -0.530786, -0.593049, 0.0029525, -3.16795, -0.806849, -3.26406, -0.874765, -2.21406, 0.29674, -5.66597], ModelVerification.ReLU()), ModelVerification.Layer{ModelVerification.Id, Float64}([0.0122767 0.011308 … 0.00265729 0.00543699; 0.0137882 -0.00240659 … -0.00545564 -0.000239328; … ; -0.000427794 0.00247098 … -0.0130717 -0.000811515; 0.00589371 0.0030568 … 0.00953482 0.00126345], [-0.0206515, -0.0190316, 0.0181379, -0.0184323, 0.018364], ModelVerification.Id())])"
      ]
     },
     "metadata": {},
     "output_type": "display_data"
    }
   ],
   "source": [
    "# ModelVerification.jl allows autonomously converting the .onnx into a .nnet file. Here we use the .nnet directly for simplicity\n",
    "nnet_file = \"models/ACASXU_run2a_4_5_batch_2000.nnet\"\n",
    "spec_file = \"./ACAS_XU_vnn/Properties/prop_3.vnnlib\"\n",
    "\n",
    "net = ModelVerification.read_nnet(nnet_file)"
   ]
  },
  {
   "cell_type": "code",
   "execution_count": 44,
   "metadata": {},
   "outputs": [
    {
     "data": {
      "text/plain": [
       "1-element Vector{Any}:\n",
       " (Any[[-0.303531156, -0.298552812], [-0.009549297, 0.009549297], [0.493380324, 0.5], [0.3, 0.5], [0.3, 0.5]], Any[(Any[[1.0, -1.0, 0.0, 0.0, 0.0], [1.0, 0.0, -1.0, 0.0, 0.0], [1.0, 0.0, 0.0, -1.0, 0.0], [1.0, 0.0, 0.0, 0.0, -1.0]], Any[0.0, 0.0, 0.0, 0.0])])"
      ]
     },
     "metadata": {},
     "output_type": "display_data"
    }
   ],
   "source": [
    "# Now we convert the 'net' in a Flux model for ModelVerification.jl and we get the property to verify from the vnnlib file\n",
    "net.layers[1] = ModelVerification.Layer(net.layers[1].weights, net.layers[1].bias, ModelVerification.Id())\n",
    "flux_model = Flux.Chain(net)\n",
    "n_in = size(net.layers[1].weights)[2]\n",
    "n_out = length(net.layers[end].bias)\n",
    "specs = read_vnnlib_simple(spec_file, n_in, n_out)"
   ]
  },
  {
   "cell_type": "markdown",
   "metadata": {},
   "source": [
    "Let's check now the property and its components:"
   ]
  },
  {
   "cell_type": "code",
   "execution_count": 45,
   "metadata": {},
   "outputs": [
    {
     "name": "stdout",
     "output_type": "stream",
     "text": [
      "Number of input: 5\n",
      "Number of output: 5\n",
      "\n",
      "Property precondition normalized: \n"
     ]
    },
    {
     "name": "stdout",
     "output_type": "stream",
     "text": [
      "Any[[-0.303531156, -0.298552812], [-0.009549297, 0.009549297], [0.493380324, 0.5], [0.3, 0.5], [0.3, 0.5]]\n",
      "\n"
     ]
    }
   ],
   "source": [
    "println(\"Number of input: \", n_in)\n",
    "println(\"Number of output: \", n_out)\n",
    "println()\n",
    "println(\"Property precondition normalized: \\n\", specs[1][1])\n",
    "println()\n"
   ]
  },
  {
   "cell_type": "markdown",
   "metadata": {},
   "source": [
    "The precondtion basically encodes the following statement:\n",
    "$$\\mathcal{X}: \\{x_0 \\in [-0.303531156, -0.298552812] \\wedge x_1 \\in [-0.009549297, 0.009549297] \\wedge x_2 \\in [0.493380324, 0.5] \\wedge x_3 \\in [0.3, 0.5] \\wedge x_4 \\in [0.3, 0.5]\\}$$\n",
    "\n",
    "which are the bounds for each input of the ACAS DNN and that encodes the unsafe situation where the intruder is directly ahead and is moving towards the ownship"
   ]
  },
  {
   "cell_type": "code",
   "execution_count": 46,
   "metadata": {},
   "outputs": [
    {
     "name": "stdout",
     "output_type": "stream",
     "text": [
      "Property postcondition: \n",
      "Any[("
     ]
    },
    {
     "name": "stdout",
     "output_type": "stream",
     "text": [
      "Any[[1.0, -1.0, 0.0, 0.0, 0.0], [1.0, 0.0, -1.0, 0.0, 0.0], [1.0, 0.0, 0.0, -1.0, 0.0], [1.0, 0.0, 0.0, 0.0, -1.0]], Any[0.0, 0.0, 0.0, 0.0])]\n"
     ]
    }
   ],
   "source": [
    "println(\"Property postcondition: \\n\", specs[1][2])"
   ]
  },
  {
   "cell_type": "markdown",
   "metadata": {},
   "source": [
    "As stated earlier, the network is trained to output 5 scores, one corresponding to each possible action. We want to verify that for each potential assignment obtained from $\\mathcal{X}$, the corresponding output, when passed through the DNN is not the action $y_0$ corresponding to a COC action. Formally:\n",
    "\n",
    "$$ \\forall x_i \\in \\mathcal{X}, (y_1 \\leq y_0) \\vee (y_2 \\leq y_0) \\vee (y_3 \\leq y_0) \\vee (y_4 \\leq y_0)$$\n",
    "\n",
    "This means that to find a potential violation of this property, we need to find an assignment from $\\mathcal{X}$ where the first action $y_0$ is minimal."
   ]
  },
  {
   "cell_type": "markdown",
   "metadata": {},
   "source": [
    "This check is equivalent to find an input value that satisfies:\n",
    "\n",
    "$$\\mathcal{Y}: (y_0 \\leq y_1) \\wedge (y_0 \\leq y_2) \\wedge (y_0 \\leq y_3) \\wedge (y_0 \\leq y_4) $$\n",
    "\n",
    "Which is the polytope formed by intersecting all the halfspaces from the previous conditions and as such can be represented as a linear inequality of the form: $$ Ay \\leq b $$\n",
    "\n",
    "With the following matrix $A$ and $b$:\n",
    "\n",
    "$$\n",
    "\\underbrace{\\begin{bmatrix}\n",
    " 1 & -1 &  0&  0&  0&  0&  \\\\\n",
    " 1&  0 &  -1&  0&  0&  0&  \\\\ \n",
    " 1&  0&   0&  -1&  0&  0&  \\\\ \n",
    " 1&  0&   0&  0&  -1&  0&  \\\\ \n",
    " 1&  0&   0&  0&  0&  -1&  \n",
    "\\end{bmatrix}}_{A}\n",
    "\\underbrace{\\begin{bmatrix}\n",
    "y_0\\\\ \n",
    "y_1\\\\ \n",
    "y_2\\\\ \n",
    "y_3\\\\ \n",
    "y_4\\\\  \n",
    "\\end{bmatrix}}_{y}\n",
    "\\leq\n",
    "\\underbrace{\\begin{bmatrix}\n",
    "0\\\\ \n",
    "0\\\\ \n",
    "0\\\\ \n",
    "0\\\\ \n",
    "0\\\\ \n",
    "\\end{bmatrix}}_{b}\n",
    "$$"
   ]
  },
  {
   "cell_type": "markdown",
   "metadata": {},
   "source": [
    "However, as shown in the previous section 'DNN-Verification for robotic mapless navigation', verifying a conjunction of postconditions is quite computationally demanding. To this end, we can exploit the $\\texttt{PolytopeComplement}$ class to enable the user to define the output Set $\\mathcal{Y}$ that corresponds to the complement of a convex polytope $\\mathcal{Y}^C$."
   ]
  },
  {
   "cell_type": "markdown",
   "metadata": {},
   "source": [
    "Broadly speaking, for this verification, instead of looking for a single input configuration that produces an output equal to COC, violating the safety property, we could search for the complementary situation, i.e., a situation where for every input configuration $y_0$ (COC) is always greater than at least another action $y_i$ (which is precisely our safety specification). If this complementary property holds, then we know that the score COC is never selected and the DNN is provable safe. Hence, we can write $\\mathcal{Y}^c$ as:\n",
    "\n",
    "$$ \\mathcal{Y}^c: (y_1 \\leq y_0) \\vee (y_2 \\leq y_0) \\vee (y_3 \\leq y_0) \\vee (y_4 \\leq y_0)$$"
   ]
  },
  {
   "cell_type": "code",
   "execution_count": 48,
   "metadata": {},
   "outputs": [
    {
     "name": "stdout",
     "output_type": "stream",
     "text": [
      "The property holds!"
     ]
    }
   ],
   "source": [
    "for spec in specs\n",
    "    X_range, Y_cons = spec\n",
    "    lb = [bd[1] for bd in X_range]\n",
    "    ub = [bd[2] for bd in X_range]\n",
    "   \n",
    "    # let's define the property' domain\n",
    "    X = Hyperrectangle(low = lb, high = ub)\n",
    "   \n",
    "    res = nothing\n",
    "    A = []\n",
    "    b = []\n",
    "    for Y_con in Y_cons\n",
    "        A = hcat(Y_con[1]...)'\n",
    "        b = Y_con[2]\n",
    "        Yc = HPolytope(A, b)\n",
    "        Y = Complement(Yc)\n",
    "\n",
    "        problem = Problem(flux_model, X, Y)\n",
    "\n",
    "        # we instantiate the 3 main components for the verification process\n",
    "        search_method = BFS(max_iter=3e5, batch_size=1)\n",
    "        split_method = Bisect(1)\n",
    "\n",
    "        # parameter used in CROWN\n",
    "        use_gpu = false\n",
    "        lower_bound = true\n",
    "        upper_bound = true\n",
    "        solver = Crown(use_gpu, lower_bound, upper_bound)\n",
    "        result = verify(search_method, split_method, solver, problem)\n",
    "        print(\"The property \", result.status, \"!\")\n",
    "    \n",
    "    end\n",
    "end"
   ]
  },
  {
   "cell_type": "markdown",
   "metadata": {},
   "source": [
    "As we can notice we obtain that the following property:\n",
    "\n",
    "$$\\forall x \\in \\mathcal{X}: \\{x_0 \\in [-0.303531156, -0.298552812] \\wedge x_1 \\in [-0.009549297, 0.009549297] \\wedge x_2 \\in [0.493380324, 0.5] \\wedge x_3 \\in [0.3, 0.5] \\wedge x_4 \\in [0.3, 0.5]\\}$$\n",
    "$$ \\mathcal{Y}^c: (y_1 \\leq y_0) \\vee (y_2 \\leq y_0) \\vee (y_3 \\leq y_0) \\vee (y_4 \\leq y_0)$$\n",
    "\n",
    "**holds**!"
   ]
  },
  {
   "cell_type": "markdown",
   "metadata": {},
   "source": [
    "i.e., for all the possible $x \\in \\mathcal{X}$ the output $y_0=COC$ is always at least greater than another $y_i$. Hence, this implies that $y_0$ is never the minimum value, i.e., it is never chosen! Thus we can state that the DNN is provable safe as in a context where the intruder is directly ahead and is moving towards the ownship, the output COC will never select.\n",
    "\n",
    "$$\\nexists x \\in \\mathcal{X}, s.t., \\mathcal{F}(x) = y_0 $$"
   ]
  }
 ],
 "metadata": {
  "kernelspec": {
   "display_name": "Julia 1.9.4",
   "language": "julia",
   "name": "julia-1.9"
  },
  "language_info": {
   "file_extension": ".jl",
   "mimetype": "application/julia",
   "name": "julia",
   "version": "1.9.4"
  }
 },
 "nbformat": 4,
 "nbformat_minor": 4
}
