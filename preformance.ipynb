{
 "cells": [
  {
   "cell_type": "code",
   "execution_count": 1,
   "metadata": {},
   "outputs": [],
   "source": [
    "using Revise "
   ]
  },
  {
   "cell_type": "code",
   "execution_count": 2,
   "metadata": {},
   "outputs": [],
   "source": [
    "using LazySets\n",
    "using ModelVerification"
   ]
  },
  {
   "cell_type": "code",
   "execution_count": 3,
   "metadata": {},
   "outputs": [
    {
     "data": {
      "text/plain": [
       "read_vnnlib_simple (generic function with 1 method)"
      ]
     },
     "metadata": {},
     "output_type": "display_data"
    }
   ],
   "source": [
    "using PyCall\n",
    "using CSV\n",
    "using ONNX\n",
    "using Flux\n",
    "include(\"/home/verification/ModelVerification.jl/vnnlib_parser.jl\")"
   ]
  },
  {
   "cell_type": "code",
   "execution_count": 24,
   "metadata": {},
   "outputs": [
    {
     "data": {
      "text/plain": [
       "main (generic function with 1 method)"
      ]
     },
     "metadata": {},
     "output_type": "display_data"
    }
   ],
   "source": [
    "function onnx_to_nnet(onnx_file)\n",
    "    println(\"onnx_file: \", onnx_file)\n",
    "    pushfirst!(PyVector(pyimport(\"sys\").\"path\"), @__DIR__)\n",
    "    nnet = pyimport(\"NNet\")\n",
    "    use_gz = split(onnx_file, \".\")[end] == \"gz\"\n",
    "    if use_gz\n",
    "        onnx_file = onnx_file[1:end-3]\n",
    "    end\n",
    "    nnet_file = onnx_file[1:end-4] * \"nnet\"\n",
    "    isfile(nnet_file) && return\n",
    "    println(\"nnet_file: \", nnet_file)\n",
    "    println(\"writing nnet_file\")\n",
    "    nnet.onnx2nnet(onnx_file, nnetFile=nnet_file)\n",
    "end\n",
    "\n",
    "function verify_an_instance(onnx_file, spec_file, timeout)\n",
    "    use_gz = split(onnx_file, \".\")[end] == \"gz\"\n",
    "    nnet_file = use_gz ? onnx_file[1:end-7] * \"nnet\" : onnx_file[1:end-4] * \"nnet\"\n",
    "    net = ModelVerification.read_nnet(nnet_file)\n",
    "    n_in = size(net.layers[1].weights)[2]\n",
    "    n_out = length(net.layers[end].bias)\n",
    "    flux_model = Flux.Chain(net)\n",
    "    specs = read_vnnlib_simple(spec_file, n_in, n_out)\n",
    "    current_time = 0\n",
    "    for spec in specs\n",
    "        X_range, Y_cons = spec\n",
    "        lb = [bd[1] for bd in X_range]\n",
    "        ub = [bd[2] for bd in X_range]\n",
    "        X = Hyperrectangle(low = lb, high = ub)\n",
    "        res = nothing\n",
    "        A = []\n",
    "        b = []\n",
    "        for Y_con in Y_cons\n",
    "            A = hcat(Y_con[1]...)'\n",
    "            b = Y_con[2]\n",
    "            Y = HPolytope(-A, -b)\n",
    "            search_method = BFS(max_iter=1e5, batch_size=4)\n",
    "            split_method = Bisect(1)\n",
    "            prop_method = Ai2z()\n",
    "            problem = Problem(flux_model, X, Y)\n",
    "            res = @timed verify(search_method, split_method, prop_method, problem)\n",
    "            current_time += res.time \n",
    "            if(current_time >= timeout)\n",
    "                print(111111111111)\n",
    "                print(\"\\n\")\n",
    "                print(current_time)\n",
    "                print(\"\\n\")\n",
    "                print(111111111)\n",
    "                print(\"\\n\")\n",
    "                return \"unknown\"\n",
    "            end\n",
    "\n",
    "            res.value.status == :violated && (return \"violated\")\n",
    "            res.value.status == :unknown && (return \"unknown\")\n",
    "        end\n",
    "    end\n",
    "    return \"holds\"\n",
    "end\n",
    "\n",
    "function main(args)\n",
    "    file = CSV.File(args, header=false)\n",
    "    dirpath = dirname(args) * \"/\"\n",
    "    println(\"dirpath\", dirpath)\n",
    "    # dirpath = args[1:end-20]      \n",
    "    outpath = dirpath * \"out_MV.txt\"\n",
    "    result_file = open(\"/home/verification/ModelVerification.jl/output_MV.txt\", \"w\")\n",
    "    all_time = 0\n",
    "    ave_time = 0\n",
    "    instance_num = -1\n",
    "    max_time = 0\n",
    "    min_time = Inf\n",
    "    hold_number = 0\n",
    "    max_memory = 0\n",
    "    all_memory = 0\n",
    "    ave_memory = 0\n",
    "    for row in file\n",
    "        instance_num += 1\n",
    "        onnx_file = dirpath * row[1] \n",
    "        vnnlib_file = dirpath * row[2]\n",
    "        timeout = row[3]\n",
    "        onnx_to_nnet(onnx_file)\n",
    "        result = @timed verify_an_instance(onnx_file, vnnlib_file, timeout)\n",
    "        print(instance_num)\n",
    "        print(\"\\n\")\n",
    "        print(result)\n",
    "        print(\"\\n\") \n",
    "        all_time += result.time\n",
    "        all_memory += result.bytes \n",
    "        if result.time > max_time\n",
    "            max_time = result.time\n",
    "        elseif result.time < min_time\n",
    "            min_time = result.time\n",
    "        end\n",
    "\n",
    "        if result.bytes > max_memory\n",
    "            max_memory = result.bytes\n",
    "        end\n",
    "\n",
    "        if(result.value === \"holds\")\n",
    "            hold_number += 1\n",
    "        end\n",
    "\n",
    "        text = \"This is instance $instance_num.\\n\"\n",
    "        write(result_file, text)\n",
    "        write(result_file, result.value)\n",
    "        write(result_file, \"\\n\")\n",
    "    end\n",
    "    ave_time = all_time / (instance_num + 1)\n",
    "    ave_memory = all_memory / (instance_num + 1)\n",
    "    print(ave_time)\n",
    "    print(\"\\n\")\n",
    "    print(max_time)\n",
    "    print(\"\\n\")\n",
    "    print(min_time)\n",
    "    print(\"\\n\")\n",
    "    print(hold_number)\n",
    "    print(\"\\n\")\n",
    "    text = \"average time is $ave_time.\\n\"\n",
    "    write(result_file, text)\n",
    "    write(result_file, \"\\n\")\n",
    "    text = \"max time is $max_time.\\n\"\n",
    "    write(result_file, text)\n",
    "    write(result_file, \"\\n\")\n",
    "    text = \"min time is $min_time.\\n\"\n",
    "    write(result_file, text)\n",
    "    write(result_file, \"\\n\")\n",
    "    text = \"holds number is $hold_number.\\n\"\n",
    "    write(result_file, text)\n",
    "    write(result_file, \"\\n\")\n",
    "    text = \"average bytes is $ave_memory.\\n\"\n",
    "    write(result_file, text)\n",
    "    write(result_file, \"\\n\")\n",
    "    text = \"max bytes is $max_memory.\\n\"\n",
    "    write(result_file, text)\n",
    "    write(result_file, \"\\n\")\n",
    "    #close(file)\n",
    "    close(result_file)\n",
    "end\n",
    "# main(\"/home/verification/vnncomp2021/benchmarks/acasxu/acasxu_instances.csv\")"
   ]
  },
  {
   "cell_type": "code",
   "execution_count": 26,
   "metadata": {},
   "outputs": [
    {
     "name": "stdout",
     "output_type": "stream",
     "text": [
      "dirpath/home/verification/vnncomp2022_benchmarks/benchmarks/test/\n",
      "onnx_file: /home/verification/vnncomp2022_benchmarks/benchmarks/test/test_nano.onnx\n",
      "nnet_file: /home/verification/vnncomp2022_benchmarks/benchmarks/test/test_nano.nnet\n"
     ]
    },
    {
     "ename": "SystemError",
     "evalue": "SystemError: opening file \"/home/verification/vnncomp2022_benchmarks/benchmarks/test/test_nano.nnet\": No such file or directory",
     "output_type": "error",
     "traceback": [
      "SystemError: opening file \"/home/verification/vnncomp2022_benchmarks/benchmarks/test/test_nano.nnet\": No such file or directory\n",
      "\n",
      "Stacktrace:\n",
      "  [1] systemerror(p::String, errno::Int32; extrainfo::Nothing)\n",
      "    @ Base ./error.jl:176\n",
      "  [2] #systemerror#80\n",
      "    @ ./error.jl:175 [inlined]\n",
      "  [3] systemerror\n",
      "    @ ./error.jl:175 [inlined]\n",
      "  [4] open(fname::String; lock::Bool, read::Nothing, write::Nothing, create::Nothing, truncate::Nothing, append::Nothing)\n",
      "    @ Base ./iostream.jl:293\n",
      "  [5] open\n",
      "    @ ./iostream.jl:275 [inlined]\n",
      "  [6] read_nnet(fname::String; last_layer_activation::ModelVerification.Id)\n",
      "    @ ModelVerification ~/ModelVerification.jl/src/utils/util.jl:11\n",
      "  [7] read_nnet\n",
      "    @ ~/ModelVerification.jl/src/utils/util.jl:10 [inlined]\n",
      "  [8] verify_an_instance(onnx_file::String, spec_file::String, timeout::Int64)\n",
      "    @ Main ~/ModelVerification.jl/preformance_test.ipynb:18\n",
      "  [9] macro expansion\n",
      "    @ ./timing.jl:463 [inlined]\n",
      " [10] main(args::String)\n",
      "    @ Main ~/ModelVerification.jl/preformance_test.ipynb:81\n",
      " [11] top-level scope\n",
      "    @ ~/ModelVerification.jl/preformance_test.ipynb:1"
     ]
    }
   ],
   "source": [
    "main(\"/home/verification/vnncomp2022_benchmarks/benchmarks/test/instances.csv\")"
   ]
  },
  {
   "cell_type": "code",
   "execution_count": null,
   "metadata": {},
   "outputs": [],
   "source": []
  }
 ],
 "metadata": {
  "kernelspec": {
   "display_name": "Julia 1.8.5",
   "language": "julia",
   "name": "julia-1.8"
  },
  "language_info": {
   "file_extension": ".jl",
   "mimetype": "application/julia",
   "name": "julia",
   "version": "1.8.5"
  },
  "orig_nbformat": 4
 },
 "nbformat": 4,
 "nbformat_minor": 2
}
